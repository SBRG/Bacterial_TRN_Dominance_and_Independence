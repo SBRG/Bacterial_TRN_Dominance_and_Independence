{
 "cells": [
  {
   "cell_type": "markdown",
   "id": "23e9db76-c4a0-4137-b296-d90ede597615",
   "metadata": {},
   "source": [
    "## Matrix Deomposition on PRECISE-1K"
   ]
  },
  {
   "cell_type": "markdown",
   "id": "517e98b8-44ff-4aa0-8b48-a484dc52b5ef",
   "metadata": {},
   "source": [
    "## Import Packages and Datasets"
   ]
  },
  {
   "cell_type": "code",
   "execution_count": 25,
   "id": "6a24bb60-3d23-4fba-bb04-a30d0bd1f7a9",
   "metadata": {
    "execution": {
     "iopub.execute_input": "2024-08-16T17:29:36.557766Z",
     "iopub.status.busy": "2024-08-16T17:29:36.557406Z",
     "iopub.status.idle": "2024-08-16T17:29:36.562749Z",
     "shell.execute_reply": "2024-08-16T17:29:36.561983Z",
     "shell.execute_reply.started": "2024-08-16T17:29:36.557737Z"
    }
   },
   "outputs": [],
   "source": [
    "import os\n",
    "import numpy as np\n",
    "import pandas as pd\n",
    "from sklearn.decomposition import (DictionaryLearning, FactorAnalysis, FastICA, IncrementalPCA, KernelPCA,\n",
    "                                   LatentDirichletAllocation, NMF, PCA, SparseCoder, SparsePCA, TruncatedSVD,\n",
    "                                   dict_learning, dict_learning_online, fastica, non_negative_factorization,\n",
    "                                   sparse_encode)"
   ]
  },
  {
   "cell_type": "code",
   "execution_count": 26,
   "id": "0a805ca4-6959-4e36-b714-576d07b2999e",
   "metadata": {
    "execution": {
     "iopub.execute_input": "2024-08-16T17:29:36.798340Z",
     "iopub.status.busy": "2024-08-16T17:29:36.798015Z",
     "iopub.status.idle": "2024-08-16T17:29:37.245920Z",
     "shell.execute_reply": "2024-08-16T17:29:37.245415Z",
     "shell.execute_reply.started": "2024-08-16T17:29:36.798311Z"
    }
   },
   "outputs": [],
   "source": [
    "P1K_X = pd.read_csv('../Data/P1K_X.csv', index_col=0)"
   ]
  },
  {
   "cell_type": "markdown",
   "id": "80ae159a-101c-447f-b770-4ee4c53b00f1",
   "metadata": {},
   "source": [
    "## Useful_Functions"
   ]
  },
  {
   "cell_type": "code",
   "execution_count": 27,
   "id": "8ea6d20a-d565-4aee-8779-818c5aa829dd",
   "metadata": {
    "execution": {
     "iopub.execute_input": "2024-08-16T17:29:37.278529Z",
     "iopub.status.busy": "2024-08-16T17:29:37.278380Z",
     "iopub.status.idle": "2024-08-16T17:29:37.282076Z",
     "shell.execute_reply": "2024-08-16T17:29:37.281635Z",
     "shell.execute_reply.started": "2024-08-16T17:29:37.278516Z"
    }
   },
   "outputs": [],
   "source": [
    "def save_decomposed_matrices(method_name, M, A, rows = P1K_X.index, columns = P1K_X.columns):\n",
    "    folder_name = os.path.join(results_folder, method_name.replace(\" \", \"_\"))\n",
    "    os.makedirs(folder_name, exist_ok=True)\n",
    "    M_df = pd.DataFrame(M, index=rows, columns=[f'Component_{i+1}' for i in range(M.shape[1])])\n",
    "    A_df = pd.DataFrame(A, index=columns, columns=[f'Component_{i+1}' for i in range(A.shape[1])])\n",
    "    M_df.to_csv(os.path.join(folder_name, f'M_{method_name}.csv'))\n",
    "    A_df.to_csv(os.path.join(folder_name, f'A_{method_name}.csv'))"
   ]
  },
  {
   "cell_type": "markdown",
   "id": "597d4c93-f3c3-4014-9902-4d98d4c8ca38",
   "metadata": {},
   "source": [
    "## Set Parameters"
   ]
  },
  {
   "cell_type": "code",
   "execution_count": 28,
   "id": "82969f52-875a-477f-ac27-8f8fb8d343e6",
   "metadata": {
    "execution": {
     "iopub.execute_input": "2024-08-16T17:29:38.397470Z",
     "iopub.status.busy": "2024-08-16T17:29:38.397241Z",
     "iopub.status.idle": "2024-08-16T17:29:38.399646Z",
     "shell.execute_reply": "2024-08-16T17:29:38.399285Z",
     "shell.execute_reply.started": "2024-08-16T17:29:38.397457Z"
    }
   },
   "outputs": [],
   "source": [
    "# Number of components\n",
    "n_components = 250"
   ]
  },
  {
   "cell_type": "code",
   "execution_count": 29,
   "id": "69ba3ae0-7b22-4ccb-9771-a3df1592c636",
   "metadata": {
    "execution": {
     "iopub.execute_input": "2024-08-16T17:29:38.804395Z",
     "iopub.status.busy": "2024-08-16T17:29:38.804148Z",
     "iopub.status.idle": "2024-08-16T17:29:38.808067Z",
     "shell.execute_reply": "2024-08-16T17:29:38.807334Z",
     "shell.execute_reply.started": "2024-08-16T17:29:38.804371Z"
    }
   },
   "outputs": [],
   "source": [
    "# Random state for reproducibility\n",
    "random_state = 42"
   ]
  },
  {
   "cell_type": "code",
   "execution_count": 30,
   "id": "bfa3b934-1fb1-4463-b320-742cd7fca33b",
   "metadata": {
    "execution": {
     "iopub.execute_input": "2024-08-16T17:29:39.341772Z",
     "iopub.status.busy": "2024-08-16T17:29:39.341464Z",
     "iopub.status.idle": "2024-08-16T17:29:39.345769Z",
     "shell.execute_reply": "2024-08-16T17:29:39.345013Z",
     "shell.execute_reply.started": "2024-08-16T17:29:39.341744Z"
    }
   },
   "outputs": [],
   "source": [
    "results_folder = 'Results'\n",
    "os.makedirs(results_folder, exist_ok=True)"
   ]
  },
  {
   "cell_type": "markdown",
   "id": "8b33f9f6-539e-4c81-b547-c11512e2a55a",
   "metadata": {},
   "source": [
    "## Runnning methods"
   ]
  },
  {
   "cell_type": "markdown",
   "id": "05c6d13d-a402-4982-8cea-3ed14c272c04",
   "metadata": {},
   "source": [
    "### NMF"
   ]
  },
  {
   "cell_type": "code",
   "execution_count": 31,
   "id": "d70fc388-9d30-42da-9cb5-4560fc0fc553",
   "metadata": {
    "execution": {
     "iopub.execute_input": "2024-08-16T17:29:49.866744Z",
     "iopub.status.busy": "2024-08-16T17:29:49.866389Z",
     "iopub.status.idle": "2024-08-16T17:29:50.209636Z",
     "shell.execute_reply": "2024-08-16T17:29:50.209133Z",
     "shell.execute_reply.started": "2024-08-16T17:29:49.866714Z"
    }
   },
   "outputs": [],
   "source": [
    "P1K_log_tpm = pd.read_csv('../Data/P1K_log_tpm.csv', index_col=0)"
   ]
  },
  {
   "cell_type": "code",
   "execution_count": 32,
   "id": "77711ae5-ec52-4303-b01a-0627dff2d2b4",
   "metadata": {
    "execution": {
     "iopub.execute_input": "2024-08-16T17:29:51.120855Z",
     "iopub.status.busy": "2024-08-16T17:29:51.120525Z",
     "iopub.status.idle": "2024-08-16T17:37:06.674979Z",
     "shell.execute_reply": "2024-08-16T17:37:06.674421Z",
     "shell.execute_reply.started": "2024-08-16T17:29:51.120824Z"
    }
   },
   "outputs": [
    {
     "name": "stderr",
     "output_type": "stream",
     "text": [
      "/home/gaoyuan/private/modulome/lib/python3.7/site-packages/sklearn/decomposition/_nmf.py:294: FutureWarning: The 'init' value, when 'init=None' and n_components is less than n_samples and n_features, will be changed from 'nndsvd' to 'nndsvda' in 1.1 (renaming of 0.26).\n",
      "  FutureWarning,\n"
     ]
    }
   ],
   "source": [
    "# Step 1: Initialize the NMF model\n",
    "nmf = NMF(n_components=n_components, random_state=random_state, max_iter=50000, tol=0.001)\n",
    "\n",
    "# Step 2: Fit and transform the data to get the first matrix\n",
    "M_nmf = nmf.fit_transform(P1K_log_tpm)\n",
    "\n",
    "# Step 3: Get the components (second matrix)\n",
    "A_nmf = nmf.components_.T\n",
    "\n",
    "# Step 4: Save the decomposed matrices\n",
    "save_decomposed_matrices('NMF', M_nmf, A_nmf)"
   ]
  },
  {
   "cell_type": "code",
   "execution_count": 33,
   "id": "743e9316-6414-4a9e-807d-802d626225f6",
   "metadata": {
    "execution": {
     "iopub.execute_input": "2024-08-16T17:38:36.829429Z",
     "iopub.status.busy": "2024-08-16T17:38:36.829122Z",
     "iopub.status.idle": "2024-08-16T17:38:36.834052Z",
     "shell.execute_reply": "2024-08-16T17:38:36.833252Z",
     "shell.execute_reply.started": "2024-08-16T17:38:36.829416Z"
    }
   },
   "outputs": [
    {
     "data": {
      "text/plain": [
       "(4257, 250)"
      ]
     },
     "execution_count": 33,
     "metadata": {},
     "output_type": "execute_result"
    }
   ],
   "source": [
    "M_nmf.shape"
   ]
  },
  {
   "cell_type": "code",
   "execution_count": 34,
   "id": "e735813f-6a2b-44c2-8b96-46006d1d3dc8",
   "metadata": {
    "execution": {
     "iopub.execute_input": "2024-08-16T17:38:37.368678Z",
     "iopub.status.busy": "2024-08-16T17:38:37.368379Z",
     "iopub.status.idle": "2024-08-16T17:38:37.373785Z",
     "shell.execute_reply": "2024-08-16T17:38:37.373011Z",
     "shell.execute_reply.started": "2024-08-16T17:38:37.368649Z"
    }
   },
   "outputs": [
    {
     "data": {
      "text/plain": [
       "(1035, 250)"
      ]
     },
     "execution_count": 34,
     "metadata": {},
     "output_type": "execute_result"
    }
   ],
   "source": [
    "A_nmf.shape"
   ]
  },
  {
   "cell_type": "markdown",
   "id": "41ab422f-a4f3-4b28-9900-07e0b12734f1",
   "metadata": {},
   "source": [
    "### PCA"
   ]
  },
  {
   "cell_type": "code",
   "execution_count": 35,
   "id": "6b0bf031-a5ab-47b5-9751-9f0b4a7ad7fe",
   "metadata": {
    "execution": {
     "iopub.execute_input": "2024-08-16T17:38:39.272421Z",
     "iopub.status.busy": "2024-08-16T17:38:39.272105Z",
     "iopub.status.idle": "2024-08-16T17:38:40.405068Z",
     "shell.execute_reply": "2024-08-16T17:38:40.404241Z",
     "shell.execute_reply.started": "2024-08-16T17:38:39.272392Z"
    }
   },
   "outputs": [],
   "source": [
    "# PCA\n",
    "pca = PCA(n_components=n_components, random_state=random_state)\n",
    "M_pca = pca.fit_transform(P1K_X)\n",
    "A_pca = pca.components_.T\n",
    "save_decomposed_matrices('PCA', M_pca, A_pca)"
   ]
  },
  {
   "cell_type": "markdown",
   "id": "caf252a4-7df4-4af9-9e5d-75ef948a0de4",
   "metadata": {},
   "source": [
    "### Dictionary Learning"
   ]
  },
  {
   "cell_type": "code",
   "execution_count": 38,
   "id": "bae6d17c-f5f7-4546-9062-eecd59cf550f",
   "metadata": {
    "execution": {
     "iopub.execute_input": "2024-08-16T22:39:04.453201Z",
     "iopub.status.busy": "2024-08-16T22:39:04.452897Z",
     "iopub.status.idle": "2024-08-16T22:39:04.457168Z",
     "shell.execute_reply": "2024-08-16T22:39:04.456355Z",
     "shell.execute_reply.started": "2024-08-16T22:39:04.453172Z"
    }
   },
   "outputs": [],
   "source": [
    "# # Dictionary Learning\n",
    "# dict_learn = DictionaryLearning(n_components=n_components, random_state=random_state)\n",
    "# A_dict_learn = dict_learn.fit_transform(P1K_X)\n",
    "# M_dict_learn = dict_learn.components_"
   ]
  },
  {
   "cell_type": "code",
   "execution_count": 39,
   "id": "f4cae02d-41cd-4968-ae43-72ff2ab440d0",
   "metadata": {
    "execution": {
     "iopub.execute_input": "2024-08-16T22:39:07.361431Z",
     "iopub.status.busy": "2024-08-16T22:39:07.361108Z",
     "iopub.status.idle": "2024-08-16T22:39:07.366849Z",
     "shell.execute_reply": "2024-08-16T22:39:07.366052Z",
     "shell.execute_reply.started": "2024-08-16T22:39:07.361401Z"
    }
   },
   "outputs": [
    {
     "data": {
      "text/plain": [
       "(4257, 250)"
      ]
     },
     "execution_count": 39,
     "metadata": {},
     "output_type": "execute_result"
    }
   ],
   "source": [
    "A_dict_learn.shape"
   ]
  },
  {
   "cell_type": "code",
   "execution_count": 40,
   "id": "fac2c768-d46b-4737-82ad-dc7f7f84e435",
   "metadata": {
    "execution": {
     "iopub.execute_input": "2024-08-16T22:39:07.839030Z",
     "iopub.status.busy": "2024-08-16T22:39:07.838731Z",
     "iopub.status.idle": "2024-08-16T22:39:07.844160Z",
     "shell.execute_reply": "2024-08-16T22:39:07.843380Z",
     "shell.execute_reply.started": "2024-08-16T22:39:07.839002Z"
    }
   },
   "outputs": [
    {
     "data": {
      "text/plain": [
       "(250, 1035)"
      ]
     },
     "execution_count": 40,
     "metadata": {},
     "output_type": "execute_result"
    }
   ],
   "source": [
    "M_dict_learn.shape"
   ]
  },
  {
   "cell_type": "code",
   "execution_count": 41,
   "id": "74454632-c880-40f1-9a0c-b500dfdef462",
   "metadata": {
    "execution": {
     "iopub.execute_input": "2024-08-16T22:39:09.151878Z",
     "iopub.status.busy": "2024-08-16T22:39:09.151570Z",
     "iopub.status.idle": "2024-08-16T22:39:09.695088Z",
     "shell.execute_reply": "2024-08-16T22:39:09.694263Z",
     "shell.execute_reply.started": "2024-08-16T22:39:09.151850Z"
    }
   },
   "outputs": [],
   "source": [
    "save_decomposed_matrices('Dictionary_Learning', A_dict_learn, M_dict_learn.T)"
   ]
  },
  {
   "cell_type": "markdown",
   "id": "27e48d6e-9b6c-40b8-a582-c57e44be8553",
   "metadata": {},
   "source": [
    "## SparseCoder"
   ]
  },
  {
   "cell_type": "code",
   "execution_count": 42,
   "id": "c7d83ec2-8d8c-4539-90e1-c16d2083622c",
   "metadata": {
    "execution": {
     "iopub.execute_input": "2024-08-16T22:39:14.519606Z",
     "iopub.status.busy": "2024-08-16T22:39:14.519257Z",
     "iopub.status.idle": "2024-08-16T22:39:29.449780Z",
     "shell.execute_reply": "2024-08-16T22:39:29.449163Z",
     "shell.execute_reply.started": "2024-08-16T22:39:14.519576Z"
    }
   },
   "outputs": [
    {
     "name": "stderr",
     "output_type": "stream",
     "text": [
      "/home/gaoyuan/private/modulome/lib/python3.7/site-packages/sklearn/base.py:444: UserWarning: X has feature names, but SparseCoder was fitted without feature names\n",
      "  f\"X has feature names, but {self.__class__.__name__} was fitted without\"\n"
     ]
    }
   ],
   "source": [
    "# SparseCoder\n",
    "sparse_coder = SparseCoder(dictionary=dict_learn.components_)\n",
    "M_sparse_coder = sparse_coder.transform(P1K_X)\n",
    "A_sparse_coder = dict_learn.components_.T\n",
    "save_decomposed_matrices('SparseCoder', M_sparse_coder, A_sparse_coder)"
   ]
  },
  {
   "cell_type": "code",
   "execution_count": 43,
   "id": "db8ce38d-93cd-4ef6-a522-7500e9d72fa5",
   "metadata": {
    "execution": {
     "iopub.execute_input": "2024-08-16T22:39:29.451118Z",
     "iopub.status.busy": "2024-08-16T22:39:29.450975Z",
     "iopub.status.idle": "2024-08-16T22:39:29.454182Z",
     "shell.execute_reply": "2024-08-16T22:39:29.453771Z",
     "shell.execute_reply.started": "2024-08-16T22:39:29.451105Z"
    }
   },
   "outputs": [
    {
     "data": {
      "text/plain": [
       "(1035, 250)"
      ]
     },
     "execution_count": 43,
     "metadata": {},
     "output_type": "execute_result"
    }
   ],
   "source": [
    "A_sparse_coder.shape"
   ]
  },
  {
   "cell_type": "code",
   "execution_count": 44,
   "id": "95a5283c-7347-4122-90d9-f09b24f4cd5d",
   "metadata": {
    "execution": {
     "iopub.execute_input": "2024-08-16T22:39:29.454905Z",
     "iopub.status.busy": "2024-08-16T22:39:29.454773Z",
     "iopub.status.idle": "2024-08-16T22:39:29.457721Z",
     "shell.execute_reply": "2024-08-16T22:39:29.457314Z",
     "shell.execute_reply.started": "2024-08-16T22:39:29.454891Z"
    },
    "scrolled": true
   },
   "outputs": [
    {
     "data": {
      "text/plain": [
       "(4257, 250)"
      ]
     },
     "execution_count": 44,
     "metadata": {},
     "output_type": "execute_result"
    }
   ],
   "source": [
    "M_sparse_coder.shape"
   ]
  },
  {
   "cell_type": "markdown",
   "id": "3ee040e1-d1af-45c4-ba1d-46d3e3d36503",
   "metadata": {},
   "source": [
    "### Factor Analysis"
   ]
  },
  {
   "cell_type": "code",
   "execution_count": 45,
   "id": "faa28862-c10b-4bb3-89c7-04f16dfd1d8f",
   "metadata": {
    "execution": {
     "iopub.execute_input": "2024-08-16T22:39:29.459024Z",
     "iopub.status.busy": "2024-08-16T22:39:29.458743Z",
     "iopub.status.idle": "2024-08-16T22:39:41.865094Z",
     "shell.execute_reply": "2024-08-16T22:39:41.864440Z",
     "shell.execute_reply.started": "2024-08-16T22:39:29.459010Z"
    }
   },
   "outputs": [],
   "source": [
    "# Factor Analysis\n",
    "fa = FactorAnalysis(n_components=n_components, random_state=random_state)\n",
    "M_fa = fa.fit_transform(P1K_X)\n",
    "A_fa = fa.components_"
   ]
  },
  {
   "cell_type": "code",
   "execution_count": 46,
   "id": "d03e8bf0-743a-4899-a42c-6d5dd4b2110c",
   "metadata": {
    "execution": {
     "iopub.execute_input": "2024-08-16T22:39:41.867247Z",
     "iopub.status.busy": "2024-08-16T22:39:41.866631Z",
     "iopub.status.idle": "2024-08-16T22:39:41.871407Z",
     "shell.execute_reply": "2024-08-16T22:39:41.870906Z",
     "shell.execute_reply.started": "2024-08-16T22:39:41.867224Z"
    }
   },
   "outputs": [
    {
     "data": {
      "text/plain": [
       "(250, 1035)"
      ]
     },
     "execution_count": 46,
     "metadata": {},
     "output_type": "execute_result"
    }
   ],
   "source": [
    "A_fa.shape"
   ]
  },
  {
   "cell_type": "code",
   "execution_count": 47,
   "id": "7fc20de0-376b-4099-bcb9-97f10d63f98a",
   "metadata": {
    "execution": {
     "iopub.execute_input": "2024-08-16T22:39:41.873667Z",
     "iopub.status.busy": "2024-08-16T22:39:41.873053Z",
     "iopub.status.idle": "2024-08-16T22:39:41.881217Z",
     "shell.execute_reply": "2024-08-16T22:39:41.880669Z",
     "shell.execute_reply.started": "2024-08-16T22:39:41.873646Z"
    }
   },
   "outputs": [
    {
     "data": {
      "text/plain": [
       "(4257, 250)"
      ]
     },
     "execution_count": 47,
     "metadata": {},
     "output_type": "execute_result"
    }
   ],
   "source": [
    "M_fa.shape"
   ]
  },
  {
   "cell_type": "code",
   "execution_count": 48,
   "id": "82fc26e6-e442-432c-85b0-b6cc80d1b8ce",
   "metadata": {
    "execution": {
     "iopub.execute_input": "2024-08-16T22:39:41.882451Z",
     "iopub.status.busy": "2024-08-16T22:39:41.882264Z",
     "iopub.status.idle": "2024-08-16T22:39:42.776259Z",
     "shell.execute_reply": "2024-08-16T22:39:42.775418Z",
     "shell.execute_reply.started": "2024-08-16T22:39:41.882432Z"
    }
   },
   "outputs": [],
   "source": [
    "save_decomposed_matrices('Factor_Analysis', M_fa, A_fa.T)"
   ]
  },
  {
   "cell_type": "markdown",
   "id": "7ec99487-fdde-4069-a609-3c7d3ff5b174",
   "metadata": {},
   "source": [
    "### FastICA"
   ]
  },
  {
   "cell_type": "code",
   "execution_count": 49,
   "id": "56e4b8f7-fedf-4ea1-b186-6936feae37a6",
   "metadata": {
    "execution": {
     "iopub.execute_input": "2024-08-16T22:39:42.777102Z",
     "iopub.status.busy": "2024-08-16T22:39:42.776960Z",
     "iopub.status.idle": "2024-08-16T22:39:52.681349Z",
     "shell.execute_reply": "2024-08-16T22:39:52.680850Z",
     "shell.execute_reply.started": "2024-08-16T22:39:42.777089Z"
    }
   },
   "outputs": [],
   "source": [
    "# FastICA\n",
    "fast_ica = FastICA(n_components=n_components, random_state=random_state)\n",
    "M_fast_ica = fast_ica.fit_transform(P1K_X)\n",
    "A_fast_ica = fast_ica.mixing_\n",
    "save_decomposed_matrices('Fast_ICA', M_fast_ica, A_fast_ica)"
   ]
  },
  {
   "cell_type": "code",
   "execution_count": 50,
   "id": "becacd0f-a756-462d-b09c-4ef058f6aa81",
   "metadata": {
    "execution": {
     "iopub.execute_input": "2024-08-16T22:39:52.682148Z",
     "iopub.status.busy": "2024-08-16T22:39:52.681992Z",
     "iopub.status.idle": "2024-08-16T22:39:52.685546Z",
     "shell.execute_reply": "2024-08-16T22:39:52.685159Z",
     "shell.execute_reply.started": "2024-08-16T22:39:52.682133Z"
    }
   },
   "outputs": [
    {
     "data": {
      "text/plain": [
       "(4257, 250)"
      ]
     },
     "execution_count": 50,
     "metadata": {},
     "output_type": "execute_result"
    }
   ],
   "source": [
    "M_fast_ica.shape"
   ]
  },
  {
   "cell_type": "code",
   "execution_count": 51,
   "id": "4f0dee45-9a26-4eb6-a814-4f42a4a975d6",
   "metadata": {
    "execution": {
     "iopub.execute_input": "2024-08-16T22:39:52.687189Z",
     "iopub.status.busy": "2024-08-16T22:39:52.686838Z",
     "iopub.status.idle": "2024-08-16T22:39:52.689835Z",
     "shell.execute_reply": "2024-08-16T22:39:52.689456Z",
     "shell.execute_reply.started": "2024-08-16T22:39:52.687173Z"
    }
   },
   "outputs": [
    {
     "data": {
      "text/plain": [
       "(1035, 250)"
      ]
     },
     "execution_count": 51,
     "metadata": {},
     "output_type": "execute_result"
    }
   ],
   "source": [
    "A_fast_ica.shape"
   ]
  },
  {
   "cell_type": "markdown",
   "id": "acf1c76b-be88-446d-ab15-edf0c94e359c",
   "metadata": {},
   "source": [
    "### Incremental PCA"
   ]
  },
  {
   "cell_type": "code",
   "execution_count": 52,
   "id": "b4b4d4a2-f8f7-49a3-8582-6e6390419fb6",
   "metadata": {
    "execution": {
     "iopub.execute_input": "2024-08-16T22:39:52.690463Z",
     "iopub.status.busy": "2024-08-16T22:39:52.690337Z",
     "iopub.status.idle": "2024-08-16T22:39:54.043117Z",
     "shell.execute_reply": "2024-08-16T22:39:54.042581Z",
     "shell.execute_reply.started": "2024-08-16T22:39:52.690450Z"
    }
   },
   "outputs": [],
   "source": [
    "# IncrementalPCA\n",
    "ipca = IncrementalPCA(n_components=n_components)\n",
    "M_ipca = ipca.fit_transform(P1K_X)\n",
    "A_ipca = ipca.components_.T\n",
    "save_decomposed_matrices('IncrementalPCA', M_ipca, A_ipca)"
   ]
  },
  {
   "cell_type": "code",
   "execution_count": null,
   "id": "f052885d-2b75-4d6a-b383-ffdb955bd40e",
   "metadata": {},
   "outputs": [],
   "source": []
  }
 ],
 "metadata": {
  "kernelspec": {
   "display_name": "Python [conda env:modulome]",
   "language": "python",
   "name": "conda-env-modulome-py"
  },
  "language_info": {
   "codemirror_mode": {
    "name": "ipython",
    "version": 3
   },
   "file_extension": ".py",
   "mimetype": "text/x-python",
   "name": "python",
   "nbconvert_exporter": "python",
   "pygments_lexer": "ipython3",
   "version": "3.7.12"
  }
 },
 "nbformat": 4,
 "nbformat_minor": 5
}
