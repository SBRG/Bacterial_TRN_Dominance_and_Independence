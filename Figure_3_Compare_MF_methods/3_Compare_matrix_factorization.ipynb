{
 "cells": [
  {
   "cell_type": "markdown",
   "id": "d86bd7f0-275e-45ea-a5b1-61d09f3d7112",
   "metadata": {},
   "source": [
    "# Compare_matrix_factorization"
   ]
  },
  {
   "cell_type": "code",
   "execution_count": 1,
   "id": "d782a357-5acf-4503-9b6f-7a5c07cab678",
   "metadata": {
    "execution": {
     "iopub.execute_input": "2024-08-20T00:06:57.259869Z",
     "iopub.status.busy": "2024-08-20T00:06:57.259518Z",
     "iopub.status.idle": "2024-08-20T00:06:58.075651Z",
     "shell.execute_reply": "2024-08-20T00:06:58.075180Z",
     "shell.execute_reply.started": "2024-08-20T00:06:57.259832Z"
    }
   },
   "outputs": [],
   "source": [
    "from pathlib import Path\n",
    "import sys\n",
    "import os.path\n",
    "import matplotlib\n",
    "import matplotlib.pyplot as plt\n",
    "import numpy as np\n",
    "import pandas as pd\n",
    "from scipy.stats import f_oneway, gaussian_kde, mannwhitneyu, pearsonr, spearmanr\n",
    "import seaborn as sns\n",
    "from tqdm.notebook import tqdm\n",
    "from pymodulon.compare import compare_ica\n",
    "from pymodulon.core import IcaData\n",
    "from pymodulon.io import load_json_model, save_to_json\n",
    "from pymodulon.plotting import *\n",
    "\n",
    "import json\n",
    "\n",
    "from pymodulon.util import explained_variance\n",
    "from pymodulon.imodulondb import imdb_gene_presence\n",
    "\n",
    "%matplotlib inline\n",
    "%config  InlineBackend.figure_format = 'png'\n",
    "\n",
    "sns.set_style('whitegrid')"
   ]
  },
  {
   "cell_type": "code",
   "execution_count": 2,
   "id": "7417dead-71a4-4f13-bad4-3686c181ebba",
   "metadata": {
    "execution": {
     "iopub.execute_input": "2024-08-20T00:06:58.076550Z",
     "iopub.status.busy": "2024-08-20T00:06:58.076303Z",
     "iopub.status.idle": "2024-08-20T00:06:58.082586Z",
     "shell.execute_reply": "2024-08-20T00:06:58.082235Z",
     "shell.execute_reply.started": "2024-08-20T00:06:58.076530Z"
    }
   },
   "outputs": [],
   "source": [
    "biocyc_info = pd.read_csv('../Data/biocyc_info.txt', sep=\"\\t\")"
   ]
  },
  {
   "cell_type": "code",
   "execution_count": 3,
   "id": "c4332814-1720-4f14-8da0-9b5583c2e738",
   "metadata": {
    "execution": {
     "iopub.execute_input": "2024-08-20T00:06:58.083422Z",
     "iopub.status.busy": "2024-08-20T00:06:58.083216Z",
     "iopub.status.idle": "2024-08-20T00:06:58.089670Z",
     "shell.execute_reply": "2024-08-20T00:06:58.089326Z",
     "shell.execute_reply.started": "2024-08-20T00:06:58.083401Z"
    },
    "jupyter": {
     "source_hidden": true
    }
   },
   "outputs": [],
   "source": [
    "def map_accession_to_gene_name(df, biocyc_info):\n",
    "\n",
    "    # Reset index if 'Accession' is the index, and rename the column\n",
    "    if df.index.name == 'Accession' or df.index.name is None:\n",
    "        df = df.reset_index()\n",
    "        df.rename(columns={'index': 'Accession'}, inplace=True)\n",
    "        \n",
    "    # Merge with biocyc_info to map 'Accession' to 'Gene Name'\n",
    "    merged_df = df.merge(biocyc_info[['Accession', 'Gene Name']], on='Accession', how='left')\n",
    "\n",
    "    # Identify rows with NaN 'Gene Name'\n",
    "    removed_indices = merged_df[merged_df['Gene Name'].isna()]['Accession'].tolist()\n",
    "\n",
    "    # Print the original indices that were removed\n",
    "    print(\"Original indices removed due to NaN 'Gene Name':\", removed_indices)\n",
    "\n",
    "    # Set 'Gene Name' as the new index and drop the 'Accession' column\n",
    "    merged_df.set_index('Gene Name', inplace=True)\n",
    "    merged_df.drop(columns=['Accession'], inplace=True)\n",
    "\n",
    "    # Remove rows with NaN as index\n",
    "    merged_df = merged_df[merged_df.index.notna()]\n",
    "    \n",
    "    return merged_df"
   ]
  },
  {
   "cell_type": "markdown",
   "id": "c80d82ed-59e8-483b-95ef-ecd63c47260e",
   "metadata": {},
   "source": [
    "## Read All Gene Presence Matrices"
   ]
  },
  {
   "cell_type": "code",
   "execution_count": 4,
   "id": "f689501a-7441-41b1-b8ba-a4455a83c120",
   "metadata": {
    "execution": {
     "iopub.execute_input": "2024-08-20T00:06:58.090255Z",
     "iopub.status.busy": "2024-08-20T00:06:58.090125Z",
     "iopub.status.idle": "2024-08-20T00:06:58.146235Z",
     "shell.execute_reply": "2024-08-20T00:06:58.145745Z",
     "shell.execute_reply.started": "2024-08-20T00:06:58.090242Z"
    }
   },
   "outputs": [],
   "source": [
    "Dictionary_Learning_Gene_Presence_Matrix = pd.read_csv(\"./Presence_Matrices/Dictionary_Learning_Gene_Presence_Matrix.csv\", index_col=0).astype(int)"
   ]
  },
  {
   "cell_type": "code",
   "execution_count": 5,
   "id": "a911eb9f-545d-4bc3-b60b-01bc1a614cc4",
   "metadata": {
    "execution": {
     "iopub.execute_input": "2024-08-20T00:06:58.147013Z",
     "iopub.status.busy": "2024-08-20T00:06:58.146844Z",
     "iopub.status.idle": "2024-08-20T00:06:58.204478Z",
     "shell.execute_reply": "2024-08-20T00:06:58.203996Z",
     "shell.execute_reply.started": "2024-08-20T00:06:58.146995Z"
    }
   },
   "outputs": [],
   "source": [
    "Factor_Analysis_Gene_Presence_Matrix = pd.read_csv(\"./Presence_Matrices/Factor_Analysis_Gene_Presence_Matrix.csv\", index_col=0).astype(int)"
   ]
  },
  {
   "cell_type": "code",
   "execution_count": 6,
   "id": "885ecdfc-0b0f-429c-a8df-176669c1428f",
   "metadata": {
    "execution": {
     "iopub.execute_input": "2024-08-20T00:06:58.206600Z",
     "iopub.status.busy": "2024-08-20T00:06:58.206470Z",
     "iopub.status.idle": "2024-08-20T00:06:58.263612Z",
     "shell.execute_reply": "2024-08-20T00:06:58.263129Z",
     "shell.execute_reply.started": "2024-08-20T00:06:58.206587Z"
    }
   },
   "outputs": [],
   "source": [
    "Fast_ICA_Gene_Presence_Matrix = pd.read_csv(\"./Presence_Matrices/Fast_ICA_Gene_Presence_Matrix.csv\", index_col=0).astype(int)"
   ]
  },
  {
   "cell_type": "code",
   "execution_count": 7,
   "id": "2719b08d-d7aa-46b3-afd2-c5cb014bd607",
   "metadata": {
    "execution": {
     "iopub.execute_input": "2024-08-20T00:06:58.264341Z",
     "iopub.status.busy": "2024-08-20T00:06:58.264179Z",
     "iopub.status.idle": "2024-08-20T00:06:58.322857Z",
     "shell.execute_reply": "2024-08-20T00:06:58.322378Z",
     "shell.execute_reply.started": "2024-08-20T00:06:58.264323Z"
    }
   },
   "outputs": [],
   "source": [
    "Incremental_PCA_Gene_Presence_Matrix = pd.read_csv(\"./Presence_Matrices/Incremental_PCA_Gene_Presence_Matrix.csv\", index_col=0).astype(int)"
   ]
  },
  {
   "cell_type": "code",
   "execution_count": 8,
   "id": "6a49efd1-ec9b-4e17-84b0-026ce10cbd4c",
   "metadata": {
    "execution": {
     "iopub.execute_input": "2024-08-20T00:06:58.323639Z",
     "iopub.status.busy": "2024-08-20T00:06:58.323465Z",
     "iopub.status.idle": "2024-08-20T00:06:58.377958Z",
     "shell.execute_reply": "2024-08-20T00:06:58.377424Z",
     "shell.execute_reply.started": "2024-08-20T00:06:58.323621Z"
    }
   },
   "outputs": [],
   "source": [
    "Independent_PCA_Gene_Presence_Matrix = pd.read_csv(\"./Presence_Matrices/Independent_PCA_Gene_Presence_Matrix.csv\", index_col=0).astype(int)"
   ]
  },
  {
   "cell_type": "code",
   "execution_count": 9,
   "id": "e53a81b8-6762-4cb9-9d3f-2bf82225bf18",
   "metadata": {
    "execution": {
     "iopub.execute_input": "2024-08-20T00:06:58.378830Z",
     "iopub.status.busy": "2024-08-20T00:06:58.378631Z",
     "iopub.status.idle": "2024-08-20T00:06:58.437505Z",
     "shell.execute_reply": "2024-08-20T00:06:58.437027Z",
     "shell.execute_reply.started": "2024-08-20T00:06:58.378808Z"
    }
   },
   "outputs": [],
   "source": [
    "InfoMax_ICA_Gene_Presence_Matrix = pd.read_csv(\"./Presence_Matrices/InfoMax_ICA_Gene_Presence_Matrix.csv\", index_col=0).astype(int)"
   ]
  },
  {
   "cell_type": "code",
   "execution_count": 10,
   "id": "e4cb148f-2140-4f97-9a50-f5d90d325bce",
   "metadata": {
    "execution": {
     "iopub.execute_input": "2024-08-20T00:06:58.438271Z",
     "iopub.status.busy": "2024-08-20T00:06:58.438086Z",
     "iopub.status.idle": "2024-08-20T00:06:58.492993Z",
     "shell.execute_reply": "2024-08-20T00:06:58.492518Z",
     "shell.execute_reply.started": "2024-08-20T00:06:58.438251Z"
    }
   },
   "outputs": [],
   "source": [
    "NMF_Gene_Presence_Matrix = pd.read_csv(\"./Presence_Matrices/NMF_Gene_Presence_Matrix.csv\", index_col=0).astype(int)"
   ]
  },
  {
   "cell_type": "code",
   "execution_count": 11,
   "id": "cf0d3f4e-c119-457d-8ec9-c60f3445254f",
   "metadata": {
    "execution": {
     "iopub.execute_input": "2024-08-20T00:06:58.493644Z",
     "iopub.status.busy": "2024-08-20T00:06:58.493522Z",
     "iopub.status.idle": "2024-08-20T00:06:58.547323Z",
     "shell.execute_reply": "2024-08-20T00:06:58.546856Z",
     "shell.execute_reply.started": "2024-08-20T00:06:58.493631Z"
    }
   },
   "outputs": [],
   "source": [
    "PCA_Gene_Presence_Matrix = pd.read_csv(\"./Presence_Matrices/PCA_Gene_Presence_Matrix.csv\", index_col=0).astype(int)"
   ]
  },
  {
   "cell_type": "code",
   "execution_count": 12,
   "id": "63f9ab1f-8049-48a2-a279-430e35e14a3d",
   "metadata": {
    "execution": {
     "iopub.execute_input": "2024-08-20T00:06:58.547970Z",
     "iopub.status.busy": "2024-08-20T00:06:58.547848Z",
     "iopub.status.idle": "2024-08-20T00:06:58.601132Z",
     "shell.execute_reply": "2024-08-20T00:06:58.600666Z",
     "shell.execute_reply.started": "2024-08-20T00:06:58.547957Z"
    }
   },
   "outputs": [],
   "source": [
    "Sparse_ICA_Gene_Presence_Matrix = pd.read_csv(\"./Presence_Matrices/Sparse_ICA_Gene_Presence_Matrix.csv\", index_col=0).astype(int)"
   ]
  },
  {
   "cell_type": "code",
   "execution_count": 13,
   "id": "7326d7b9-9fd4-4106-9ca6-3f41bfc4b93c",
   "metadata": {
    "execution": {
     "iopub.execute_input": "2024-08-20T00:06:58.601801Z",
     "iopub.status.busy": "2024-08-20T00:06:58.601681Z",
     "iopub.status.idle": "2024-08-20T00:06:58.656351Z",
     "shell.execute_reply": "2024-08-20T00:06:58.655880Z",
     "shell.execute_reply.started": "2024-08-20T00:06:58.601788Z"
    }
   },
   "outputs": [],
   "source": [
    "Sparse_Independent_PCA_Gene_Presence_Matrix = pd.read_csv(\"./Presence_Matrices/Sparse_Independent_PCA_Gene_Presence_Matrix.csv\", index_col=0).astype(int)"
   ]
  },
  {
   "cell_type": "code",
   "execution_count": 14,
   "id": "5bf622fb-7854-4890-bde7-06fe5de44bba",
   "metadata": {
    "execution": {
     "iopub.execute_input": "2024-08-20T00:06:58.656988Z",
     "iopub.status.busy": "2024-08-20T00:06:58.656866Z",
     "iopub.status.idle": "2024-08-20T00:06:58.711410Z",
     "shell.execute_reply": "2024-08-20T00:06:58.710941Z",
     "shell.execute_reply.started": "2024-08-20T00:06:58.656975Z"
    }
   },
   "outputs": [],
   "source": [
    "SparseCoder_Gene_Presence_Matrix = pd.read_csv(\"./Presence_Matrices/SparseCoder_Gene_Presence_Matrix.csv\", index_col=0).astype(int)"
   ]
  },
  {
   "cell_type": "code",
   "execution_count": 15,
   "id": "fa9a404c-71c5-4e16-b047-bea43859add5",
   "metadata": {
    "execution": {
     "iopub.execute_input": "2024-08-20T00:06:58.712110Z",
     "iopub.status.busy": "2024-08-20T00:06:58.711966Z",
     "iopub.status.idle": "2024-08-20T00:06:58.744246Z",
     "shell.execute_reply": "2024-08-20T00:06:58.743801Z",
     "shell.execute_reply.started": "2024-08-20T00:06:58.712095Z"
    }
   },
   "outputs": [],
   "source": [
    "RegulonDB_Gene_Presence_Matrix = pd.read_csv(\"../Data/RegulonDB_TRN_C_and_S.csv\", index_col=0).astype(int)"
   ]
  },
  {
   "cell_type": "markdown",
   "id": "621460a0-410a-4640-b7d3-34991f6a0ecd",
   "metadata": {},
   "source": [
    "## Map to gene name"
   ]
  },
  {
   "cell_type": "code",
   "execution_count": 16,
   "id": "f4246ebe-01ab-46fa-99e7-92ede80acd67",
   "metadata": {
    "execution": {
     "iopub.execute_input": "2024-08-20T00:06:58.744863Z",
     "iopub.status.busy": "2024-08-20T00:06:58.744736Z",
     "iopub.status.idle": "2024-08-20T00:06:58.759505Z",
     "shell.execute_reply": "2024-08-20T00:06:58.759090Z",
     "shell.execute_reply.started": "2024-08-20T00:06:58.744849Z"
    }
   },
   "outputs": [
    {
     "name": "stdout",
     "output_type": "stream",
     "text": [
      "Original indices removed due to NaN 'Gene Name': []\n"
     ]
    }
   ],
   "source": [
    "Dictionary_Learning_Gene_Presence_Matrix = map_accession_to_gene_name(Dictionary_Learning_Gene_Presence_Matrix, biocyc_info)"
   ]
  },
  {
   "cell_type": "code",
   "execution_count": 17,
   "id": "9ed9ed51-d30d-437b-b85c-9f7b3d3adc85",
   "metadata": {
    "execution": {
     "iopub.execute_input": "2024-08-20T00:06:58.760171Z",
     "iopub.status.busy": "2024-08-20T00:06:58.760038Z",
     "iopub.status.idle": "2024-08-20T00:06:58.774450Z",
     "shell.execute_reply": "2024-08-20T00:06:58.774009Z",
     "shell.execute_reply.started": "2024-08-20T00:06:58.760157Z"
    }
   },
   "outputs": [
    {
     "name": "stdout",
     "output_type": "stream",
     "text": [
      "Original indices removed due to NaN 'Gene Name': []\n"
     ]
    }
   ],
   "source": [
    "Factor_Analysis_Gene_Presence_Matrix = map_accession_to_gene_name(Factor_Analysis_Gene_Presence_Matrix, biocyc_info)"
   ]
  },
  {
   "cell_type": "code",
   "execution_count": 18,
   "id": "bf00baab-7f33-4bc8-9565-2cf9b99cd93a",
   "metadata": {
    "execution": {
     "iopub.execute_input": "2024-08-20T00:06:58.775143Z",
     "iopub.status.busy": "2024-08-20T00:06:58.775013Z",
     "iopub.status.idle": "2024-08-20T00:06:58.787257Z",
     "shell.execute_reply": "2024-08-20T00:06:58.786834Z",
     "shell.execute_reply.started": "2024-08-20T00:06:58.775128Z"
    }
   },
   "outputs": [
    {
     "name": "stdout",
     "output_type": "stream",
     "text": [
      "Original indices removed due to NaN 'Gene Name': []\n"
     ]
    }
   ],
   "source": [
    "Fast_ICA_Gene_Presence_Matrix = map_accession_to_gene_name(Fast_ICA_Gene_Presence_Matrix, biocyc_info)"
   ]
  },
  {
   "cell_type": "code",
   "execution_count": 19,
   "id": "308c49f2-f2c5-4665-8dab-028cf07d1b0f",
   "metadata": {
    "execution": {
     "iopub.execute_input": "2024-08-20T00:06:58.787945Z",
     "iopub.status.busy": "2024-08-20T00:06:58.787814Z",
     "iopub.status.idle": "2024-08-20T00:06:58.799900Z",
     "shell.execute_reply": "2024-08-20T00:06:58.799492Z",
     "shell.execute_reply.started": "2024-08-20T00:06:58.787931Z"
    }
   },
   "outputs": [
    {
     "name": "stdout",
     "output_type": "stream",
     "text": [
      "Original indices removed due to NaN 'Gene Name': []\n"
     ]
    }
   ],
   "source": [
    "Incremental_PCA_Gene_Presence_Matrix = map_accession_to_gene_name(Incremental_PCA_Gene_Presence_Matrix, biocyc_info)"
   ]
  },
  {
   "cell_type": "code",
   "execution_count": 20,
   "id": "5fcdac8b-06a2-4abe-a41e-6ac45b38bbd8",
   "metadata": {
    "execution": {
     "iopub.execute_input": "2024-08-20T00:06:58.800572Z",
     "iopub.status.busy": "2024-08-20T00:06:58.800426Z",
     "iopub.status.idle": "2024-08-20T00:06:58.812591Z",
     "shell.execute_reply": "2024-08-20T00:06:58.812163Z",
     "shell.execute_reply.started": "2024-08-20T00:06:58.800557Z"
    }
   },
   "outputs": [
    {
     "name": "stdout",
     "output_type": "stream",
     "text": [
      "Original indices removed due to NaN 'Gene Name': []\n"
     ]
    }
   ],
   "source": [
    "Independent_PCA_Gene_Presence_Matrix = map_accession_to_gene_name(Independent_PCA_Gene_Presence_Matrix, biocyc_info)"
   ]
  },
  {
   "cell_type": "code",
   "execution_count": 21,
   "id": "8cf1118d-a8aa-471a-8f35-a59d5506bc98",
   "metadata": {
    "execution": {
     "iopub.execute_input": "2024-08-20T00:06:58.815746Z",
     "iopub.status.busy": "2024-08-20T00:06:58.815497Z",
     "iopub.status.idle": "2024-08-20T00:06:58.827837Z",
     "shell.execute_reply": "2024-08-20T00:06:58.827409Z",
     "shell.execute_reply.started": "2024-08-20T00:06:58.815731Z"
    }
   },
   "outputs": [
    {
     "name": "stdout",
     "output_type": "stream",
     "text": [
      "Original indices removed due to NaN 'Gene Name': []\n"
     ]
    }
   ],
   "source": [
    "InfoMax_ICA_Gene_Presence_Matrix = map_accession_to_gene_name(InfoMax_ICA_Gene_Presence_Matrix, biocyc_info)"
   ]
  },
  {
   "cell_type": "code",
   "execution_count": 22,
   "id": "020584ad-b8b6-482f-b8a4-00952218991d",
   "metadata": {
    "execution": {
     "iopub.execute_input": "2024-08-20T00:06:58.828490Z",
     "iopub.status.busy": "2024-08-20T00:06:58.828359Z",
     "iopub.status.idle": "2024-08-20T00:06:58.840539Z",
     "shell.execute_reply": "2024-08-20T00:06:58.840105Z",
     "shell.execute_reply.started": "2024-08-20T00:06:58.828476Z"
    }
   },
   "outputs": [
    {
     "name": "stdout",
     "output_type": "stream",
     "text": [
      "Original indices removed due to NaN 'Gene Name': []\n"
     ]
    }
   ],
   "source": [
    "NMF_Gene_Presence_Matrix = map_accession_to_gene_name(NMF_Gene_Presence_Matrix, biocyc_info)"
   ]
  },
  {
   "cell_type": "code",
   "execution_count": 23,
   "id": "0965fed8-0d01-406a-ab16-e0bfc182fe0a",
   "metadata": {
    "execution": {
     "iopub.execute_input": "2024-08-20T00:06:58.841397Z",
     "iopub.status.busy": "2024-08-20T00:06:58.841102Z",
     "iopub.status.idle": "2024-08-20T00:06:58.853404Z",
     "shell.execute_reply": "2024-08-20T00:06:58.852992Z",
     "shell.execute_reply.started": "2024-08-20T00:06:58.841381Z"
    }
   },
   "outputs": [
    {
     "name": "stdout",
     "output_type": "stream",
     "text": [
      "Original indices removed due to NaN 'Gene Name': []\n"
     ]
    }
   ],
   "source": [
    "PCA_Gene_Presence_Matrix = map_accession_to_gene_name(PCA_Gene_Presence_Matrix, biocyc_info)"
   ]
  },
  {
   "cell_type": "code",
   "execution_count": 24,
   "id": "76c6e817-4bcf-4c8f-9518-fdbf92aa6c56",
   "metadata": {
    "execution": {
     "iopub.execute_input": "2024-08-20T00:06:58.854089Z",
     "iopub.status.busy": "2024-08-20T00:06:58.853959Z",
     "iopub.status.idle": "2024-08-20T00:06:58.866038Z",
     "shell.execute_reply": "2024-08-20T00:06:58.865628Z",
     "shell.execute_reply.started": "2024-08-20T00:06:58.854075Z"
    }
   },
   "outputs": [
    {
     "name": "stdout",
     "output_type": "stream",
     "text": [
      "Original indices removed due to NaN 'Gene Name': []\n"
     ]
    }
   ],
   "source": [
    "Sparse_ICA_Gene_Presence_Matrix = map_accession_to_gene_name(Sparse_ICA_Gene_Presence_Matrix, biocyc_info)"
   ]
  },
  {
   "cell_type": "code",
   "execution_count": 25,
   "id": "2e676f28-3b8d-4b6b-a34a-e8f502c36a6e",
   "metadata": {
    "execution": {
     "iopub.execute_input": "2024-08-20T00:06:58.866728Z",
     "iopub.status.busy": "2024-08-20T00:06:58.866596Z",
     "iopub.status.idle": "2024-08-20T00:06:58.878701Z",
     "shell.execute_reply": "2024-08-20T00:06:58.878280Z",
     "shell.execute_reply.started": "2024-08-20T00:06:58.866714Z"
    }
   },
   "outputs": [
    {
     "name": "stdout",
     "output_type": "stream",
     "text": [
      "Original indices removed due to NaN 'Gene Name': []\n"
     ]
    }
   ],
   "source": [
    "Sparse_Independent_PCA_Gene_Presence_Matrix = map_accession_to_gene_name(Sparse_Independent_PCA_Gene_Presence_Matrix, biocyc_info)"
   ]
  },
  {
   "cell_type": "code",
   "execution_count": 26,
   "id": "2d138253-e9c7-44fd-817e-adb61390bd23",
   "metadata": {
    "execution": {
     "iopub.execute_input": "2024-08-20T00:06:58.879365Z",
     "iopub.status.busy": "2024-08-20T00:06:58.879224Z",
     "iopub.status.idle": "2024-08-20T00:06:58.891406Z",
     "shell.execute_reply": "2024-08-20T00:06:58.890996Z",
     "shell.execute_reply.started": "2024-08-20T00:06:58.879350Z"
    }
   },
   "outputs": [
    {
     "name": "stdout",
     "output_type": "stream",
     "text": [
      "Original indices removed due to NaN 'Gene Name': []\n"
     ]
    }
   ],
   "source": [
    "SparseCoder_Gene_Presence_Matrix = map_accession_to_gene_name(SparseCoder_Gene_Presence_Matrix, biocyc_info)"
   ]
  },
  {
   "cell_type": "code",
   "execution_count": 27,
   "id": "b15f6385-26ce-4851-9215-25db12a08499",
   "metadata": {
    "execution": {
     "iopub.execute_input": "2024-08-20T00:06:58.892086Z",
     "iopub.status.busy": "2024-08-20T00:06:58.891957Z",
     "iopub.status.idle": "2024-08-20T00:06:58.895465Z",
     "shell.execute_reply": "2024-08-20T00:06:58.895061Z",
     "shell.execute_reply.started": "2024-08-20T00:06:58.892072Z"
    }
   },
   "outputs": [],
   "source": [
    "Dictionary_Learning_Gene_Presence_Matrix = Dictionary_Learning_Gene_Presence_Matrix.loc[\n",
    "    Dictionary_Learning_Gene_Presence_Matrix.index.isin(RegulonDB_Gene_Presence_Matrix.index)\n",
    "]"
   ]
  },
  {
   "cell_type": "code",
   "execution_count": 28,
   "id": "77c9bd84-ae6f-4d0b-a402-fb003e5ef2fa",
   "metadata": {
    "execution": {
     "iopub.execute_input": "2024-08-20T00:06:58.896126Z",
     "iopub.status.busy": "2024-08-20T00:06:58.895988Z",
     "iopub.status.idle": "2024-08-20T00:06:58.899244Z",
     "shell.execute_reply": "2024-08-20T00:06:58.898876Z",
     "shell.execute_reply.started": "2024-08-20T00:06:58.896112Z"
    }
   },
   "outputs": [],
   "source": [
    "Factor_Analysis_Gene_Presence_Matrix = Factor_Analysis_Gene_Presence_Matrix.loc[\n",
    "    Factor_Analysis_Gene_Presence_Matrix.index.isin(RegulonDB_Gene_Presence_Matrix.index)\n",
    "]"
   ]
  },
  {
   "cell_type": "code",
   "execution_count": 29,
   "id": "c2d365bb-7282-4c3c-893b-494094937d58",
   "metadata": {
    "execution": {
     "iopub.execute_input": "2024-08-20T00:06:58.899836Z",
     "iopub.status.busy": "2024-08-20T00:06:58.899714Z",
     "iopub.status.idle": "2024-08-20T00:06:58.902891Z",
     "shell.execute_reply": "2024-08-20T00:06:58.902527Z",
     "shell.execute_reply.started": "2024-08-20T00:06:58.899824Z"
    }
   },
   "outputs": [],
   "source": [
    "Fast_ICA_Gene_Presence_Matrix = Fast_ICA_Gene_Presence_Matrix.loc[\n",
    "    Fast_ICA_Gene_Presence_Matrix.index.isin(RegulonDB_Gene_Presence_Matrix.index)\n",
    "]"
   ]
  },
  {
   "cell_type": "code",
   "execution_count": 30,
   "id": "587b3b97-b2bd-4637-9e7c-d6302ea658fd",
   "metadata": {
    "execution": {
     "iopub.execute_input": "2024-08-20T00:06:58.903446Z",
     "iopub.status.busy": "2024-08-20T00:06:58.903323Z",
     "iopub.status.idle": "2024-08-20T00:06:58.906610Z",
     "shell.execute_reply": "2024-08-20T00:06:58.906250Z",
     "shell.execute_reply.started": "2024-08-20T00:06:58.903434Z"
    }
   },
   "outputs": [],
   "source": [
    "Incremental_PCA_Gene_Presence_Matrix = Incremental_PCA_Gene_Presence_Matrix.loc[\n",
    "    Incremental_PCA_Gene_Presence_Matrix.index.isin(RegulonDB_Gene_Presence_Matrix.index)\n",
    "]"
   ]
  },
  {
   "cell_type": "code",
   "execution_count": 31,
   "id": "bc51ff76-324c-4199-90e9-5697aab60cae",
   "metadata": {
    "execution": {
     "iopub.execute_input": "2024-08-20T00:06:58.907221Z",
     "iopub.status.busy": "2024-08-20T00:06:58.907037Z",
     "iopub.status.idle": "2024-08-20T00:06:58.910196Z",
     "shell.execute_reply": "2024-08-20T00:06:58.909805Z",
     "shell.execute_reply.started": "2024-08-20T00:06:58.907208Z"
    }
   },
   "outputs": [],
   "source": [
    "Independent_PCA_Gene_Presence_Matrix = Independent_PCA_Gene_Presence_Matrix.loc[\n",
    "    Independent_PCA_Gene_Presence_Matrix.index.isin(RegulonDB_Gene_Presence_Matrix.index)\n",
    "]"
   ]
  },
  {
   "cell_type": "code",
   "execution_count": 32,
   "id": "659b13f4-b1d2-46da-b6cf-c2cbc6775301",
   "metadata": {
    "execution": {
     "iopub.execute_input": "2024-08-20T00:06:58.910813Z",
     "iopub.status.busy": "2024-08-20T00:06:58.910693Z",
     "iopub.status.idle": "2024-08-20T00:06:58.913735Z",
     "shell.execute_reply": "2024-08-20T00:06:58.913393Z",
     "shell.execute_reply.started": "2024-08-20T00:06:58.910801Z"
    }
   },
   "outputs": [],
   "source": [
    "InfoMax_ICA_Gene_Presence_Matrix = InfoMax_ICA_Gene_Presence_Matrix.loc[\n",
    "    InfoMax_ICA_Gene_Presence_Matrix.index.isin(RegulonDB_Gene_Presence_Matrix.index)\n",
    "]"
   ]
  },
  {
   "cell_type": "code",
   "execution_count": 33,
   "id": "07553786-0208-41ff-a88b-2728cc90d400",
   "metadata": {
    "execution": {
     "iopub.execute_input": "2024-08-20T00:06:58.914400Z",
     "iopub.status.busy": "2024-08-20T00:06:58.914162Z",
     "iopub.status.idle": "2024-08-20T00:06:58.917247Z",
     "shell.execute_reply": "2024-08-20T00:06:58.916889Z",
     "shell.execute_reply.started": "2024-08-20T00:06:58.914387Z"
    }
   },
   "outputs": [],
   "source": [
    "NMF_Gene_Presence_Matrix = NMF_Gene_Presence_Matrix.loc[\n",
    "    NMF_Gene_Presence_Matrix.index.isin(RegulonDB_Gene_Presence_Matrix.index)\n",
    "]"
   ]
  },
  {
   "cell_type": "code",
   "execution_count": 34,
   "id": "a06ac970-c835-4bcd-a5a0-acc2ceaed436",
   "metadata": {
    "execution": {
     "iopub.execute_input": "2024-08-20T00:06:58.917795Z",
     "iopub.status.busy": "2024-08-20T00:06:58.917674Z",
     "iopub.status.idle": "2024-08-20T00:06:58.920808Z",
     "shell.execute_reply": "2024-08-20T00:06:58.920453Z",
     "shell.execute_reply.started": "2024-08-20T00:06:58.917782Z"
    }
   },
   "outputs": [],
   "source": [
    "PCA_Gene_Presence_Matrix = PCA_Gene_Presence_Matrix.loc[\n",
    "    PCA_Gene_Presence_Matrix.index.isin(RegulonDB_Gene_Presence_Matrix.index)\n",
    "]"
   ]
  },
  {
   "cell_type": "code",
   "execution_count": 35,
   "id": "5179d6ed-abde-4832-be08-14d982e013ce",
   "metadata": {
    "execution": {
     "iopub.execute_input": "2024-08-20T00:06:58.921540Z",
     "iopub.status.busy": "2024-08-20T00:06:58.921279Z",
     "iopub.status.idle": "2024-08-20T00:06:58.924392Z",
     "shell.execute_reply": "2024-08-20T00:06:58.924013Z",
     "shell.execute_reply.started": "2024-08-20T00:06:58.921526Z"
    }
   },
   "outputs": [],
   "source": [
    "Sparse_ICA_Gene_Presence_Matrix = Sparse_ICA_Gene_Presence_Matrix.loc[\n",
    "    Sparse_ICA_Gene_Presence_Matrix.index.isin(RegulonDB_Gene_Presence_Matrix.index)\n",
    "]"
   ]
  },
  {
   "cell_type": "code",
   "execution_count": 36,
   "id": "d2dffff0-2400-43bf-8f3a-2cf5e65ebedc",
   "metadata": {
    "execution": {
     "iopub.execute_input": "2024-08-20T00:06:58.924970Z",
     "iopub.status.busy": "2024-08-20T00:06:58.924850Z",
     "iopub.status.idle": "2024-08-20T00:06:58.927944Z",
     "shell.execute_reply": "2024-08-20T00:06:58.927554Z",
     "shell.execute_reply.started": "2024-08-20T00:06:58.924958Z"
    }
   },
   "outputs": [],
   "source": [
    "Sparse_Independent_PCA_Gene_Presence_Matrix = Sparse_Independent_PCA_Gene_Presence_Matrix.loc[\n",
    "    Sparse_Independent_PCA_Gene_Presence_Matrix.index.isin(RegulonDB_Gene_Presence_Matrix.index)\n",
    "]"
   ]
  },
  {
   "cell_type": "code",
   "execution_count": 37,
   "id": "ae0158e4-35f4-448b-a52f-61e5e0624636",
   "metadata": {
    "execution": {
     "iopub.execute_input": "2024-08-20T00:06:58.928493Z",
     "iopub.status.busy": "2024-08-20T00:06:58.928373Z",
     "iopub.status.idle": "2024-08-20T00:06:58.932937Z",
     "shell.execute_reply": "2024-08-20T00:06:58.932577Z",
     "shell.execute_reply.started": "2024-08-20T00:06:58.928480Z"
    }
   },
   "outputs": [],
   "source": [
    "SparseCoder_Gene_Presence_Matrix = SparseCoder_Gene_Presence_Matrix.loc[\n",
    "    SparseCoder_Gene_Presence_Matrix.index.isin(RegulonDB_Gene_Presence_Matrix.index)\n",
    "]"
   ]
  },
  {
   "cell_type": "code",
   "execution_count": 38,
   "id": "a6655138-2185-4d29-b401-ad5259bca21a",
   "metadata": {
    "execution": {
     "iopub.execute_input": "2024-08-20T00:06:58.933632Z",
     "iopub.status.busy": "2024-08-20T00:06:58.933398Z",
     "iopub.status.idle": "2024-08-20T00:06:58.937577Z",
     "shell.execute_reply": "2024-08-20T00:06:58.937220Z",
     "shell.execute_reply.started": "2024-08-20T00:06:58.933620Z"
    }
   },
   "outputs": [],
   "source": [
    "RegulonDB_Gene_Presence_Matrix = RegulonDB_Gene_Presence_Matrix.loc[\n",
    "    RegulonDB_Gene_Presence_Matrix.index.isin(SparseCoder_Gene_Presence_Matrix.index)\n",
    "]"
   ]
  },
  {
   "cell_type": "markdown",
   "id": "e17d2eb9-49bf-447b-8765-6450bf76fd6b",
   "metadata": {},
   "source": [
    "## Negentropy for PCA/ICA/IPCA/sIPCA/Regulon"
   ]
  },
  {
   "cell_type": "code",
   "execution_count": 39,
   "id": "78e946a3-982d-4e5c-abba-fe38daa455e3",
   "metadata": {
    "execution": {
     "iopub.execute_input": "2024-08-20T00:06:58.938176Z",
     "iopub.status.busy": "2024-08-20T00:06:58.938040Z",
     "iopub.status.idle": "2024-08-20T00:06:58.943008Z",
     "shell.execute_reply": "2024-08-20T00:06:58.942627Z",
     "shell.execute_reply.started": "2024-08-20T00:06:58.938160Z"
    }
   },
   "outputs": [],
   "source": [
    "import numpy as np\n",
    "import pandas as pd\n",
    "from sklearn.preprocessing import StandardScaler\n",
    "\n",
    "def logcosh(x):\n",
    "    return np.log(np.cosh(x))\n",
    "\n",
    "def calculate_logcosh_negentropy(column):\n",
    "    # Normalize the data\n",
    "    scaler = StandardScaler()\n",
    "    normalized_column = scaler.fit_transform(column.values.reshape(-1, 1)).flatten()\n",
    "    \n",
    "    # Calculate the log-cosh of the column\n",
    "    logcosh_values = logcosh(normalized_column)\n",
    "    \n",
    "    # Calculate the expected value (mean) of the log-cosh values\n",
    "    mean_logcosh = np.mean(logcosh_values)\n",
    "    \n",
    "    # Calculate the expected value of the log-cosh for a standard Gaussian\n",
    "    mean_logcosh_gaussian = np.mean(logcosh(np.random.randn(10000)))\n",
    "    \n",
    "    # Negentropy is the difference between these two expectations\n",
    "    negentropy = mean_logcosh - mean_logcosh_gaussian\n",
    "    return negentropy\n",
    "\n",
    "def negentropy_per_column(df):\n",
    "    negentropy_values = []\n",
    "    for column in df.columns:\n",
    "        negentropy = calculate_logcosh_negentropy(df[column]) * -1\n",
    "        negentropy_values.append(negentropy)\n",
    "    return np.array(negentropy_values)\n",
    "\n",
    "def calculate_average_negentropy(dataframes_dict):\n",
    "    # Create an empty list to store the results\n",
    "    results = []\n",
    "\n",
    "    for method_name, df in dataframes_dict.items():\n",
    "        # Calculate the negentropy for each column\n",
    "        negentropy_values = negentropy_per_column(df)\n",
    "        \n",
    "        # Calculate the average negentropy\n",
    "        average_negentropy = np.mean(negentropy_values)\n",
    "        \n",
    "        # Append the result as a tuple (method name, average negentropy)\n",
    "        results.append((method_name.replace('_Gene_Presence_Matrix', ''), abs(average_negentropy)))\n",
    "    \n",
    "    # Convert the results into a DataFrame\n",
    "    negentropy_df = pd.DataFrame(results, columns=['Method', 'Average_Negentropy'])\n",
    "    negentropy_df.set_index('Method', inplace=True)\n",
    "    \n",
    "    return negentropy_df"
   ]
  },
  {
   "cell_type": "code",
   "execution_count": 40,
   "id": "191582e8-2d16-421b-a53d-0b5726c00136",
   "metadata": {
    "execution": {
     "iopub.execute_input": "2024-08-20T00:06:58.943651Z",
     "iopub.status.busy": "2024-08-20T00:06:58.943449Z",
     "iopub.status.idle": "2024-08-20T00:07:00.476996Z",
     "shell.execute_reply": "2024-08-20T00:07:00.476512Z",
     "shell.execute_reply.started": "2024-08-20T00:06:58.943638Z"
    }
   },
   "outputs": [],
   "source": [
    "dataframes_dict = {\n",
    "    \"PCA_Gene_Presence_Matrix\": PCA_Gene_Presence_Matrix,\n",
    "    \"Incremental_PCA_Gene_Presence_Matrix\": Incremental_PCA_Gene_Presence_Matrix,\n",
    "    \"Independent_PCA_Gene_Presence_Matrix\": Independent_PCA_Gene_Presence_Matrix,\n",
    "    \"Sparse_Independent_PCA_Gene_Presence_Matrix\": Sparse_Independent_PCA_Gene_Presence_Matrix,\n",
    "    \"Fast_ICA_Gene_Presence_Matrix\": Fast_ICA_Gene_Presence_Matrix,\n",
    "    \"InfoMax_ICA_Gene_Presence_Matrix\": InfoMax_ICA_Gene_Presence_Matrix,\n",
    "    \"Sparse_ICA_Gene_Presence_Matrix\": Sparse_ICA_Gene_Presence_Matrix,\n",
    "    \"NMF_Gene_Presence_Matrix\": NMF_Gene_Presence_Matrix,\n",
    "    \"Factor_Analysis_Gene_Presence_Matrix\": Factor_Analysis_Gene_Presence_Matrix,\n",
    "    \"Dictionary_Learning_Gene_Presence_Matrix\": Dictionary_Learning_Gene_Presence_Matrix,\n",
    "    \"SparseCoder_Gene_Presence_Matrix\": SparseCoder_Gene_Presence_Matrix,\n",
    "    \"RegulonDB_Gene_Presence_Matrix\":RegulonDB_Gene_Presence_Matrix\n",
    "}\n",
    "\n",
    "# Calculate the average negentropy for each DataFrame and return the result as a DataFrame\n",
    "negentropy_df = calculate_average_negentropy(dataframes_dict)"
   ]
  },
  {
   "cell_type": "code",
   "execution_count": 41,
   "id": "5f5efeba-b215-4d35-b2d6-bba08cf62958",
   "metadata": {
    "execution": {
     "iopub.execute_input": "2024-08-20T00:07:00.477654Z",
     "iopub.status.busy": "2024-08-20T00:07:00.477523Z",
     "iopub.status.idle": "2024-08-20T00:07:00.483528Z",
     "shell.execute_reply": "2024-08-20T00:07:00.483159Z",
     "shell.execute_reply.started": "2024-08-20T00:07:00.477641Z"
    }
   },
   "outputs": [
    {
     "data": {
      "text/html": [
       "<div>\n",
       "<style scoped>\n",
       "    .dataframe tbody tr th:only-of-type {\n",
       "        vertical-align: middle;\n",
       "    }\n",
       "\n",
       "    .dataframe tbody tr th {\n",
       "        vertical-align: top;\n",
       "    }\n",
       "\n",
       "    .dataframe thead th {\n",
       "        text-align: right;\n",
       "    }\n",
       "</style>\n",
       "<table border=\"1\" class=\"dataframe\">\n",
       "  <thead>\n",
       "    <tr style=\"text-align: right;\">\n",
       "      <th></th>\n",
       "      <th>Average_Negentropy</th>\n",
       "    </tr>\n",
       "    <tr>\n",
       "      <th>Method</th>\n",
       "      <th></th>\n",
       "    </tr>\n",
       "  </thead>\n",
       "  <tbody>\n",
       "    <tr>\n",
       "      <th>PCA</th>\n",
       "      <td>0.301420</td>\n",
       "    </tr>\n",
       "    <tr>\n",
       "      <th>Incremental_PCA</th>\n",
       "      <td>0.300274</td>\n",
       "    </tr>\n",
       "    <tr>\n",
       "      <th>Independent_PCA</th>\n",
       "      <td>0.298308</td>\n",
       "    </tr>\n",
       "    <tr>\n",
       "      <th>Sparse_Independent_PCA</th>\n",
       "      <td>0.300310</td>\n",
       "    </tr>\n",
       "    <tr>\n",
       "      <th>Fast_ICA</th>\n",
       "      <td>0.327462</td>\n",
       "    </tr>\n",
       "    <tr>\n",
       "      <th>InfoMax_ICA</th>\n",
       "      <td>0.268507</td>\n",
       "    </tr>\n",
       "    <tr>\n",
       "      <th>Sparse_ICA</th>\n",
       "      <td>0.324952</td>\n",
       "    </tr>\n",
       "    <tr>\n",
       "      <th>NMF</th>\n",
       "      <td>0.288761</td>\n",
       "    </tr>\n",
       "    <tr>\n",
       "      <th>Factor_Analysis</th>\n",
       "      <td>0.296390</td>\n",
       "    </tr>\n",
       "    <tr>\n",
       "      <th>Dictionary_Learning</th>\n",
       "      <td>0.305706</td>\n",
       "    </tr>\n",
       "    <tr>\n",
       "      <th>SparseCoder</th>\n",
       "      <td>0.307772</td>\n",
       "    </tr>\n",
       "    <tr>\n",
       "      <th>RegulonDB</th>\n",
       "      <td>0.310411</td>\n",
       "    </tr>\n",
       "  </tbody>\n",
       "</table>\n",
       "</div>"
      ],
      "text/plain": [
       "                        Average_Negentropy\n",
       "Method                                    \n",
       "PCA                               0.301420\n",
       "Incremental_PCA                   0.300274\n",
       "Independent_PCA                   0.298308\n",
       "Sparse_Independent_PCA            0.300310\n",
       "Fast_ICA                          0.327462\n",
       "InfoMax_ICA                       0.268507\n",
       "Sparse_ICA                        0.324952\n",
       "NMF                               0.288761\n",
       "Factor_Analysis                   0.296390\n",
       "Dictionary_Learning               0.305706\n",
       "SparseCoder                       0.307772\n",
       "RegulonDB                         0.310411"
      ]
     },
     "execution_count": 41,
     "metadata": {},
     "output_type": "execute_result"
    }
   ],
   "source": [
    "negentropy_df"
   ]
  },
  {
   "cell_type": "markdown",
   "id": "ff6a50e8-43a1-428d-9ccc-779da8fbf757",
   "metadata": {},
   "source": [
    "## Mutual Information"
   ]
  },
  {
   "cell_type": "code",
   "execution_count": 42,
   "id": "fa827149-2bee-4c5b-b702-db29033dd253",
   "metadata": {
    "execution": {
     "iopub.execute_input": "2024-08-20T00:07:00.484148Z",
     "iopub.status.busy": "2024-08-20T00:07:00.484019Z",
     "iopub.status.idle": "2024-08-20T00:07:00.492525Z",
     "shell.execute_reply": "2024-08-20T00:07:00.492161Z",
     "shell.execute_reply.started": "2024-08-20T00:07:00.484133Z"
    }
   },
   "outputs": [],
   "source": [
    "import matplotlib.pyplot as plt\n",
    "import matplotlib.font_manager as fm\n",
    "from sklearn.metrics import mutual_info_score\n",
    "\n",
    "# Calculate mutual information scores\n",
    "def calculate_mutual_information(df):\n",
    "    mi_scores = []\n",
    "    for col in df.columns:\n",
    "        for col2 in df.columns:\n",
    "            if col != col2:\n",
    "                mi_scores.append(mutual_info_score(df[col], df[col2]))\n",
    "    return np.array(mi_scores)"
   ]
  },
  {
   "cell_type": "code",
   "execution_count": 43,
   "id": "0cc2b236-cf6b-4083-bd25-f30191721dfe",
   "metadata": {
    "execution": {
     "iopub.execute_input": "2024-08-20T00:07:00.493156Z",
     "iopub.status.busy": "2024-08-20T00:07:00.493031Z",
     "iopub.status.idle": "2024-08-20T00:07:00.496025Z",
     "shell.execute_reply": "2024-08-20T00:07:00.495669Z",
     "shell.execute_reply.started": "2024-08-20T00:07:00.493143Z"
    }
   },
   "outputs": [],
   "source": [
    "def calculate_average_mutual_information(dataframes_dict):\n",
    "    # Create an empty list to store the results\n",
    "    results = []\n",
    "\n",
    "    for method_name, df in dataframes_dict.items():\n",
    "        # Calculate the mutual information scores for each pair of columns\n",
    "        mi_scores = calculate_mutual_information(df)\n",
    "        \n",
    "        # Calculate the average mutual information\n",
    "        average_mi = np.mean(mi_scores)\n",
    "        \n",
    "        # Append the result as a tuple (method name, average mutual information)\n",
    "        results.append((method_name.replace('_Gene_Presence_Matrix', ''), average_mi))\n",
    "    \n",
    "    # Convert the results into a DataFrame\n",
    "    mi_df = pd.DataFrame(results, columns=['Method', 'Mutual_Information'])\n",
    "    mi_df.set_index('Method', inplace=True)\n",
    "    \n",
    "    return mi_df"
   ]
  },
  {
   "cell_type": "code",
   "execution_count": 44,
   "id": "fd27adb6-98dd-4ace-8c86-aeb6886c2187",
   "metadata": {
    "execution": {
     "iopub.execute_input": "2024-08-20T00:07:00.496734Z",
     "iopub.status.busy": "2024-08-20T00:07:00.496447Z",
     "iopub.status.idle": "2024-08-20T00:13:21.432559Z",
     "shell.execute_reply": "2024-08-20T00:13:21.432096Z",
     "shell.execute_reply.started": "2024-08-20T00:07:00.496722Z"
    }
   },
   "outputs": [],
   "source": [
    "mutual_information_df = calculate_average_mutual_information(dataframes_dict)"
   ]
  },
  {
   "cell_type": "code",
   "execution_count": 45,
   "id": "818228e4-cca1-410a-9fe2-0a7ef730bf8a",
   "metadata": {
    "execution": {
     "iopub.execute_input": "2024-08-20T00:13:21.433192Z",
     "iopub.status.busy": "2024-08-20T00:13:21.433073Z",
     "iopub.status.idle": "2024-08-20T00:13:21.437234Z",
     "shell.execute_reply": "2024-08-20T00:13:21.436940Z",
     "shell.execute_reply.started": "2024-08-20T00:13:21.433180Z"
    }
   },
   "outputs": [
    {
     "data": {
      "text/html": [
       "<div>\n",
       "<style scoped>\n",
       "    .dataframe tbody tr th:only-of-type {\n",
       "        vertical-align: middle;\n",
       "    }\n",
       "\n",
       "    .dataframe tbody tr th {\n",
       "        vertical-align: top;\n",
       "    }\n",
       "\n",
       "    .dataframe thead th {\n",
       "        text-align: right;\n",
       "    }\n",
       "</style>\n",
       "<table border=\"1\" class=\"dataframe\">\n",
       "  <thead>\n",
       "    <tr style=\"text-align: right;\">\n",
       "      <th></th>\n",
       "      <th>Mutual_Information</th>\n",
       "    </tr>\n",
       "    <tr>\n",
       "      <th>Method</th>\n",
       "      <th></th>\n",
       "    </tr>\n",
       "  </thead>\n",
       "  <tbody>\n",
       "    <tr>\n",
       "      <th>PCA</th>\n",
       "      <td>0.000646</td>\n",
       "    </tr>\n",
       "    <tr>\n",
       "      <th>Incremental_PCA</th>\n",
       "      <td>0.000645</td>\n",
       "    </tr>\n",
       "    <tr>\n",
       "      <th>Independent_PCA</th>\n",
       "      <td>0.000403</td>\n",
       "    </tr>\n",
       "    <tr>\n",
       "      <th>Sparse_Independent_PCA</th>\n",
       "      <td>0.000309</td>\n",
       "    </tr>\n",
       "    <tr>\n",
       "      <th>Fast_ICA</th>\n",
       "      <td>0.000042</td>\n",
       "    </tr>\n",
       "    <tr>\n",
       "      <th>InfoMax_ICA</th>\n",
       "      <td>0.003200</td>\n",
       "    </tr>\n",
       "    <tr>\n",
       "      <th>Sparse_ICA</th>\n",
       "      <td>0.000053</td>\n",
       "    </tr>\n",
       "    <tr>\n",
       "      <th>NMF</th>\n",
       "      <td>0.000640</td>\n",
       "    </tr>\n",
       "    <tr>\n",
       "      <th>Factor_Analysis</th>\n",
       "      <td>0.000734</td>\n",
       "    </tr>\n",
       "    <tr>\n",
       "      <th>Dictionary_Learning</th>\n",
       "      <td>0.000072</td>\n",
       "    </tr>\n",
       "    <tr>\n",
       "      <th>SparseCoder</th>\n",
       "      <td>0.000070</td>\n",
       "    </tr>\n",
       "    <tr>\n",
       "      <th>RegulonDB</th>\n",
       "      <td>0.000148</td>\n",
       "    </tr>\n",
       "  </tbody>\n",
       "</table>\n",
       "</div>"
      ],
      "text/plain": [
       "                        Mutual_Information\n",
       "Method                                    \n",
       "PCA                               0.000646\n",
       "Incremental_PCA                   0.000645\n",
       "Independent_PCA                   0.000403\n",
       "Sparse_Independent_PCA            0.000309\n",
       "Fast_ICA                          0.000042\n",
       "InfoMax_ICA                       0.003200\n",
       "Sparse_ICA                        0.000053\n",
       "NMF                               0.000640\n",
       "Factor_Analysis                   0.000734\n",
       "Dictionary_Learning               0.000072\n",
       "SparseCoder                       0.000070\n",
       "RegulonDB                         0.000148"
      ]
     },
     "execution_count": 45,
     "metadata": {},
     "output_type": "execute_result"
    }
   ],
   "source": [
    "mutual_information_df"
   ]
  },
  {
   "cell_type": "markdown",
   "id": "10d28b7e-d86f-4705-8e76-2cb0d00d0b26",
   "metadata": {},
   "source": [
    "## Sparsity"
   ]
  },
  {
   "cell_type": "code",
   "execution_count": 46,
   "id": "e906ec68-61f9-448a-a64e-4cb68181ba2c",
   "metadata": {
    "execution": {
     "iopub.execute_input": "2024-08-20T00:13:21.437699Z",
     "iopub.status.busy": "2024-08-20T00:13:21.437593Z",
     "iopub.status.idle": "2024-08-20T00:13:21.446237Z",
     "shell.execute_reply": "2024-08-20T00:13:21.445860Z",
     "shell.execute_reply.started": "2024-08-20T00:13:21.437688Z"
    }
   },
   "outputs": [],
   "source": [
    "def calculate_sparsity_ratio(df, threshold=0):\n",
    "    if threshold == 0:\n",
    "        zero_elements = (df == 0).sum().sum()\n",
    "    else:\n",
    "        zero_elements = (np.abs(df) < threshold).sum().sum()\n",
    "    total_elements = df.size\n",
    "    sparsity_ratio = zero_elements / total_elements\n",
    "    return sparsity_ratio"
   ]
  },
  {
   "cell_type": "code",
   "execution_count": 47,
   "id": "24ee60c7-4b59-4638-8940-ae2bacf8411b",
   "metadata": {
    "execution": {
     "iopub.execute_input": "2024-08-20T00:13:21.446787Z",
     "iopub.status.busy": "2024-08-20T00:13:21.446667Z",
     "iopub.status.idle": "2024-08-20T00:13:21.449644Z",
     "shell.execute_reply": "2024-08-20T00:13:21.449300Z",
     "shell.execute_reply.started": "2024-08-20T00:13:21.446775Z"
    }
   },
   "outputs": [],
   "source": [
    "def calculate_average_sparsity_ratio(dataframes_dict, threshold=0):\n",
    "    # Create an empty list to store the results\n",
    "    results = []\n",
    "\n",
    "    for method_name, df in dataframes_dict.items():\n",
    "        # Calculate the sparsity ratio for the DataFrame\n",
    "        sparsity_ratio = calculate_sparsity_ratio(df, threshold=threshold)\n",
    "        \n",
    "        # Append the result as a tuple (method name, sparsity ratio)\n",
    "        results.append((method_name.replace('_Gene_Presence_Matrix', ''), sparsity_ratio))\n",
    "    \n",
    "    # Convert the results into a DataFrame\n",
    "    sparsity_df = pd.DataFrame(results, columns=['Method', 'Sparsity_Ratio'])\n",
    "    sparsity_df.set_index('Method', inplace=True)\n",
    "    \n",
    "    return sparsity_df"
   ]
  },
  {
   "cell_type": "code",
   "execution_count": 48,
   "id": "b67ea00b-487b-478e-b658-3ba5c883ac6f",
   "metadata": {
    "execution": {
     "iopub.execute_input": "2024-08-20T00:13:21.450199Z",
     "iopub.status.busy": "2024-08-20T00:13:21.450069Z",
     "iopub.status.idle": "2024-08-20T00:13:21.464973Z",
     "shell.execute_reply": "2024-08-20T00:13:21.464546Z",
     "shell.execute_reply.started": "2024-08-20T00:13:21.450186Z"
    }
   },
   "outputs": [],
   "source": [
    "sparsity_ratio_df = calculate_average_sparsity_ratio(dataframes_dict, threshold=0)"
   ]
  },
  {
   "cell_type": "code",
   "execution_count": 49,
   "id": "a2c5fc91-3cea-4617-8612-f7f70e28bc49",
   "metadata": {
    "execution": {
     "iopub.execute_input": "2024-08-20T00:13:21.465626Z",
     "iopub.status.busy": "2024-08-20T00:13:21.465496Z",
     "iopub.status.idle": "2024-08-20T00:13:21.469807Z",
     "shell.execute_reply": "2024-08-20T00:13:21.469435Z",
     "shell.execute_reply.started": "2024-08-20T00:13:21.465612Z"
    }
   },
   "outputs": [
    {
     "data": {
      "text/html": [
       "<div>\n",
       "<style scoped>\n",
       "    .dataframe tbody tr th:only-of-type {\n",
       "        vertical-align: middle;\n",
       "    }\n",
       "\n",
       "    .dataframe tbody tr th {\n",
       "        vertical-align: top;\n",
       "    }\n",
       "\n",
       "    .dataframe thead th {\n",
       "        text-align: right;\n",
       "    }\n",
       "</style>\n",
       "<table border=\"1\" class=\"dataframe\">\n",
       "  <thead>\n",
       "    <tr style=\"text-align: right;\">\n",
       "      <th></th>\n",
       "      <th>Sparsity_Ratio</th>\n",
       "    </tr>\n",
       "    <tr>\n",
       "      <th>Method</th>\n",
       "      <th></th>\n",
       "    </tr>\n",
       "  </thead>\n",
       "  <tbody>\n",
       "    <tr>\n",
       "      <th>PCA</th>\n",
       "      <td>0.989809</td>\n",
       "    </tr>\n",
       "    <tr>\n",
       "      <th>Incremental_PCA</th>\n",
       "      <td>0.989745</td>\n",
       "    </tr>\n",
       "    <tr>\n",
       "      <th>Independent_PCA</th>\n",
       "      <td>0.989317</td>\n",
       "    </tr>\n",
       "    <tr>\n",
       "      <th>Sparse_Independent_PCA</th>\n",
       "      <td>0.990660</td>\n",
       "    </tr>\n",
       "    <tr>\n",
       "      <th>Fast_ICA</th>\n",
       "      <td>0.996462</td>\n",
       "    </tr>\n",
       "    <tr>\n",
       "      <th>InfoMax_ICA</th>\n",
       "      <td>0.984246</td>\n",
       "    </tr>\n",
       "    <tr>\n",
       "      <th>Sparse_ICA</th>\n",
       "      <td>0.995702</td>\n",
       "    </tr>\n",
       "    <tr>\n",
       "      <th>NMF</th>\n",
       "      <td>0.988293</td>\n",
       "    </tr>\n",
       "    <tr>\n",
       "      <th>Factor_Analysis</th>\n",
       "      <td>0.992421</td>\n",
       "    </tr>\n",
       "    <tr>\n",
       "      <th>Dictionary_Learning</th>\n",
       "      <td>0.977490</td>\n",
       "    </tr>\n",
       "    <tr>\n",
       "      <th>SparseCoder</th>\n",
       "      <td>0.980241</td>\n",
       "    </tr>\n",
       "    <tr>\n",
       "      <th>RegulonDB</th>\n",
       "      <td>0.990810</td>\n",
       "    </tr>\n",
       "  </tbody>\n",
       "</table>\n",
       "</div>"
      ],
      "text/plain": [
       "                        Sparsity_Ratio\n",
       "Method                                \n",
       "PCA                           0.989809\n",
       "Incremental_PCA               0.989745\n",
       "Independent_PCA               0.989317\n",
       "Sparse_Independent_PCA        0.990660\n",
       "Fast_ICA                      0.996462\n",
       "InfoMax_ICA                   0.984246\n",
       "Sparse_ICA                    0.995702\n",
       "NMF                           0.988293\n",
       "Factor_Analysis               0.992421\n",
       "Dictionary_Learning           0.977490\n",
       "SparseCoder                   0.980241\n",
       "RegulonDB                     0.990810"
      ]
     },
     "execution_count": 49,
     "metadata": {},
     "output_type": "execute_result"
    }
   ],
   "source": [
    "sparsity_ratio_df"
   ]
  },
  {
   "cell_type": "code",
   "execution_count": 50,
   "id": "7c95b6a2-e5a7-4037-b074-9c31550ce629",
   "metadata": {
    "execution": {
     "iopub.execute_input": "2024-08-20T00:13:21.470402Z",
     "iopub.status.busy": "2024-08-20T00:13:21.470278Z",
     "iopub.status.idle": "2024-08-20T00:13:21.472731Z",
     "shell.execute_reply": "2024-08-20T00:13:21.472383Z",
     "shell.execute_reply.started": "2024-08-20T00:13:21.470389Z"
    }
   },
   "outputs": [],
   "source": [
    "Numerical_Properties = pd.concat([negentropy_df, mutual_information_df, sparsity_ratio_df], axis=1)"
   ]
  },
  {
   "cell_type": "code",
   "execution_count": 51,
   "id": "20e1fc8e-a185-497f-a3b0-eb13762ca3ec",
   "metadata": {
    "execution": {
     "iopub.execute_input": "2024-08-20T00:13:21.473370Z",
     "iopub.status.busy": "2024-08-20T00:13:21.473202Z",
     "iopub.status.idle": "2024-08-20T00:13:21.478209Z",
     "shell.execute_reply": "2024-08-20T00:13:21.477820Z",
     "shell.execute_reply.started": "2024-08-20T00:13:21.473357Z"
    }
   },
   "outputs": [
    {
     "data": {
      "text/html": [
       "<div>\n",
       "<style scoped>\n",
       "    .dataframe tbody tr th:only-of-type {\n",
       "        vertical-align: middle;\n",
       "    }\n",
       "\n",
       "    .dataframe tbody tr th {\n",
       "        vertical-align: top;\n",
       "    }\n",
       "\n",
       "    .dataframe thead th {\n",
       "        text-align: right;\n",
       "    }\n",
       "</style>\n",
       "<table border=\"1\" class=\"dataframe\">\n",
       "  <thead>\n",
       "    <tr style=\"text-align: right;\">\n",
       "      <th></th>\n",
       "      <th>Average_Negentropy</th>\n",
       "      <th>Mutual_Information</th>\n",
       "      <th>Sparsity_Ratio</th>\n",
       "    </tr>\n",
       "    <tr>\n",
       "      <th>Method</th>\n",
       "      <th></th>\n",
       "      <th></th>\n",
       "      <th></th>\n",
       "    </tr>\n",
       "  </thead>\n",
       "  <tbody>\n",
       "    <tr>\n",
       "      <th>PCA</th>\n",
       "      <td>0.301420</td>\n",
       "      <td>0.000646</td>\n",
       "      <td>0.989809</td>\n",
       "    </tr>\n",
       "    <tr>\n",
       "      <th>Incremental_PCA</th>\n",
       "      <td>0.300274</td>\n",
       "      <td>0.000645</td>\n",
       "      <td>0.989745</td>\n",
       "    </tr>\n",
       "    <tr>\n",
       "      <th>Independent_PCA</th>\n",
       "      <td>0.298308</td>\n",
       "      <td>0.000403</td>\n",
       "      <td>0.989317</td>\n",
       "    </tr>\n",
       "    <tr>\n",
       "      <th>Sparse_Independent_PCA</th>\n",
       "      <td>0.300310</td>\n",
       "      <td>0.000309</td>\n",
       "      <td>0.990660</td>\n",
       "    </tr>\n",
       "    <tr>\n",
       "      <th>Fast_ICA</th>\n",
       "      <td>0.327462</td>\n",
       "      <td>0.000042</td>\n",
       "      <td>0.996462</td>\n",
       "    </tr>\n",
       "    <tr>\n",
       "      <th>InfoMax_ICA</th>\n",
       "      <td>0.268507</td>\n",
       "      <td>0.003200</td>\n",
       "      <td>0.984246</td>\n",
       "    </tr>\n",
       "    <tr>\n",
       "      <th>Sparse_ICA</th>\n",
       "      <td>0.324952</td>\n",
       "      <td>0.000053</td>\n",
       "      <td>0.995702</td>\n",
       "    </tr>\n",
       "    <tr>\n",
       "      <th>NMF</th>\n",
       "      <td>0.288761</td>\n",
       "      <td>0.000640</td>\n",
       "      <td>0.988293</td>\n",
       "    </tr>\n",
       "    <tr>\n",
       "      <th>Factor_Analysis</th>\n",
       "      <td>0.296390</td>\n",
       "      <td>0.000734</td>\n",
       "      <td>0.992421</td>\n",
       "    </tr>\n",
       "    <tr>\n",
       "      <th>Dictionary_Learning</th>\n",
       "      <td>0.305706</td>\n",
       "      <td>0.000072</td>\n",
       "      <td>0.977490</td>\n",
       "    </tr>\n",
       "    <tr>\n",
       "      <th>SparseCoder</th>\n",
       "      <td>0.307772</td>\n",
       "      <td>0.000070</td>\n",
       "      <td>0.980241</td>\n",
       "    </tr>\n",
       "    <tr>\n",
       "      <th>RegulonDB</th>\n",
       "      <td>0.310411</td>\n",
       "      <td>0.000148</td>\n",
       "      <td>0.990810</td>\n",
       "    </tr>\n",
       "  </tbody>\n",
       "</table>\n",
       "</div>"
      ],
      "text/plain": [
       "                        Average_Negentropy  Mutual_Information  Sparsity_Ratio\n",
       "Method                                                                        \n",
       "PCA                               0.301420            0.000646        0.989809\n",
       "Incremental_PCA                   0.300274            0.000645        0.989745\n",
       "Independent_PCA                   0.298308            0.000403        0.989317\n",
       "Sparse_Independent_PCA            0.300310            0.000309        0.990660\n",
       "Fast_ICA                          0.327462            0.000042        0.996462\n",
       "InfoMax_ICA                       0.268507            0.003200        0.984246\n",
       "Sparse_ICA                        0.324952            0.000053        0.995702\n",
       "NMF                               0.288761            0.000640        0.988293\n",
       "Factor_Analysis                   0.296390            0.000734        0.992421\n",
       "Dictionary_Learning               0.305706            0.000072        0.977490\n",
       "SparseCoder                       0.307772            0.000070        0.980241\n",
       "RegulonDB                         0.310411            0.000148        0.990810"
      ]
     },
     "execution_count": 51,
     "metadata": {},
     "output_type": "execute_result"
    }
   ],
   "source": [
    "Numerical_Properties"
   ]
  },
  {
   "cell_type": "code",
   "execution_count": 52,
   "id": "bfaea0bd-bf45-401f-bc79-8b3cb0fcc031",
   "metadata": {
    "execution": {
     "iopub.execute_input": "2024-08-20T00:13:21.478783Z",
     "iopub.status.busy": "2024-08-20T00:13:21.478660Z",
     "iopub.status.idle": "2024-08-20T00:13:21.480961Z",
     "shell.execute_reply": "2024-08-20T00:13:21.480615Z",
     "shell.execute_reply.started": "2024-08-20T00:13:21.478770Z"
    }
   },
   "outputs": [],
   "source": [
    "Numerical_Properties.index = Numerical_Properties.index.str.replace('_', ' ')"
   ]
  },
  {
   "cell_type": "code",
   "execution_count": 53,
   "id": "96cd3124-f806-48cd-97f8-963662fdef3f",
   "metadata": {
    "execution": {
     "iopub.execute_input": "2024-08-20T00:13:21.481767Z",
     "iopub.status.busy": "2024-08-20T00:13:21.481545Z",
     "iopub.status.idle": "2024-08-20T00:13:21.489963Z",
     "shell.execute_reply": "2024-08-20T00:13:21.489617Z",
     "shell.execute_reply.started": "2024-08-20T00:13:21.481751Z"
    }
   },
   "outputs": [],
   "source": [
    "import matplotlib.pyplot as plt\n",
    "import matplotlib.font_manager as fm\n",
    "\n",
    "def plot_average_negentropy(df):\n",
    "    font_path = '/usr/share/fonts/truetype/msttcorefonts/Times_New_Roman.ttf'\n",
    "    font_prop = fm.FontProperties(fname=font_path)\n",
    "    \n",
    "    # Create the plot\n",
    "    fig, ax = plt.subplots(figsize=(6, 4))\n",
    "    \n",
    "    # Plot for Average_Negentropy\n",
    "    ax.bar(df.index, df['Average_Negentropy'], color='#B999C8')\n",
    "    \n",
    "    # Set the x-tick positions and labels to the method names\n",
    "    ax.set_xticks(range(len(df.index)))\n",
    "    ax.set_xticklabels(df.index, fontproperties=font_prop, rotation=45, ha=\"right\")\n",
    "    \n",
    "    # Apply the font to y-axis ticks\n",
    "    ax.yaxis.set_tick_params(labelsize=12)  # Optionally, set tick size\n",
    "    for label in ax.get_yticklabels():\n",
    "        label.set_fontproperties(font_prop)\n",
    "    \n",
    "    # Add title and labels\n",
    "    ax.set_title(\"Average Negentropy\", fontproperties=font_prop)\n",
    "    \n",
    "    # Remove grid lines\n",
    "    ax.grid(False)\n",
    "    \n",
    "    # Add a width=1 box around the plot\n",
    "    ax.spines['top'].set_linewidth(1)\n",
    "    ax.spines['right'].set_linewidth(1)\n",
    "    ax.spines['bottom'].set_linewidth(1)\n",
    "    ax.spines['left'].set_linewidth(1)\n",
    "    \n",
    "    # Display the plot\n",
    "    plt.tight_layout()\n",
    "    plt.show()\n",
    "\n",
    "def plot_mutual_information(df):\n",
    "    font_path = '/usr/share/fonts/truetype/msttcorefonts/Times_New_Roman.ttf'\n",
    "    font_prop = fm.FontProperties(fname=font_path)\n",
    "    \n",
    "    # Create the plot\n",
    "    fig, ax = plt.subplots(figsize=(6, 4))\n",
    "    \n",
    "    # Plot for Mutual_Information\n",
    "    ax.bar(df.index, df['Mutual_Information'], color='#F6CD82')\n",
    "    \n",
    "    # Set the x-tick positions and labels to the method names\n",
    "    ax.set_xticks(range(len(df.index)))\n",
    "    ax.set_xticklabels(df.index, fontproperties=font_prop, rotation=45, ha=\"right\")\n",
    "    \n",
    "    # Apply the font to y-axis ticks\n",
    "    ax.yaxis.set_tick_params(labelsize=12)  # Optionally, set tick size\n",
    "    for label in ax.get_yticklabels():\n",
    "        label.set_fontproperties(font_prop)\n",
    "    \n",
    "    # Add title and labels\n",
    "    ax.set_title(\"Mutual Information\", fontproperties=font_prop)\n",
    "    \n",
    "    # Remove grid lines\n",
    "    ax.grid(False)\n",
    "    \n",
    "    # Add a width=1 box around the plot\n",
    "    ax.spines['top'].set_linewidth(1)\n",
    "    ax.spines['right'].set_linewidth(1)\n",
    "    ax.spines['bottom'].set_linewidth(1)\n",
    "    ax.spines['left'].set_linewidth(1)\n",
    "    \n",
    "    # Display the plot\n",
    "    plt.tight_layout()\n",
    "    plt.show()\n",
    "\n",
    "def plot_sparsity_ratio(df):\n",
    "    font_path = '/usr/share/fonts/truetype/msttcorefonts/Times_New_Roman.ttf'\n",
    "    font_prop = fm.FontProperties(fname=font_path)\n",
    "    \n",
    "    # Create the plot\n",
    "    fig, ax = plt.subplots(figsize=(6, 4))\n",
    "    \n",
    "    # Plot for Sparsity_Ratio\n",
    "    ax.bar(df.index, df['Sparsity_Ratio'], color='#B8D8A9')\n",
    "    \n",
    "    # Set the x-tick positions and labels to the method names\n",
    "    ax.set_xticks(range(len(df.index)))\n",
    "    ax.set_xticklabels(df.index, fontproperties=font_prop, rotation=45, ha=\"right\")\n",
    "    \n",
    "    # Apply the font to y-axis ticks\n",
    "    ax.yaxis.set_tick_params(labelsize=12)  # Optionally, set tick size\n",
    "    for label in ax.get_yticklabels():\n",
    "        label.set_fontproperties(font_prop)\n",
    "    \n",
    "    # Add title and labels\n",
    "    ax.set_title(\"Sparsity Ratio\", fontproperties=font_prop)\n",
    "    \n",
    "    # Remove grid lines\n",
    "    ax.grid(False)\n",
    "    \n",
    "    # Add a width=1 box around the plot\n",
    "    ax.spines['top'].set_linewidth(1)\n",
    "    ax.spines['right'].set_linewidth(1)\n",
    "    ax.spines['bottom'].set_linewidth(1)\n",
    "    ax.spines['left'].set_linewidth(1)\n",
    "    \n",
    "    # Display the plot\n",
    "    plt.tight_layout()\n",
    "    plt.show()"
   ]
  },
  {
   "cell_type": "code",
   "execution_count": 54,
   "id": "f725a5e0-c666-4f9e-bed1-fef8469a5a14",
   "metadata": {
    "execution": {
     "iopub.execute_input": "2024-08-20T00:13:21.490524Z",
     "iopub.status.busy": "2024-08-20T00:13:21.490398Z",
     "iopub.status.idle": "2024-08-20T00:13:21.594223Z",
     "shell.execute_reply": "2024-08-20T00:13:21.593794Z",
     "shell.execute_reply.started": "2024-08-20T00:13:21.490511Z"
    }
   },
   "outputs": [
    {
     "data": {
      "image/png": "[encoded data removed]",
      "text/plain": [
       "<Figure size 600x400 with 1 Axes>"
      ]
     },
     "metadata": {},
     "output_type": "display_data"
    }
   ],
   "source": [
    "plot_average_negentropy(Numerical_Properties)"
   ]
  },
  {
   "cell_type": "code",
   "execution_count": 55,
   "id": "92358b3e-4e04-49cf-9e71-59383d4d05bf",
   "metadata": {
    "execution": {
     "iopub.execute_input": "2024-08-20T00:13:21.594817Z",
     "iopub.status.busy": "2024-08-20T00:13:21.594682Z",
     "iopub.status.idle": "2024-08-20T00:13:21.693506Z",
     "shell.execute_reply": "2024-08-20T00:13:21.693096Z",
     "shell.execute_reply.started": "2024-08-20T00:13:21.594802Z"
    }
   },
   "outputs": [
    {
     "data": {
      "image/png": "[encoded data removed]",
      "text/plain": [
       "<Figure size 600x400 with 1 Axes>"
      ]
     },
     "metadata": {},
     "output_type": "display_data"
    }
   ],
   "source": [
    "plot_mutual_information(Numerical_Properties)"
   ]
  },
  {
   "cell_type": "code",
   "execution_count": 56,
   "id": "c0c2b072-6499-468a-a3d4-6111ea8a4f12",
   "metadata": {
    "execution": {
     "iopub.execute_input": "2024-08-20T00:13:21.694099Z",
     "iopub.status.busy": "2024-08-20T00:13:21.693968Z",
     "iopub.status.idle": "2024-08-20T00:13:21.792150Z",
     "shell.execute_reply": "2024-08-20T00:13:21.791743Z",
     "shell.execute_reply.started": "2024-08-20T00:13:21.694086Z"
    }
   },
   "outputs": [
    {
     "data": {
      "image/png": "[encoded data removed]",
      "text/plain": [
       "<Figure size 600x400 with 1 Axes>"
      ]
     },
     "metadata": {},
     "output_type": "display_data"
    }
   ],
   "source": [
    "plot_sparsity_ratio(Numerical_Properties)"
   ]
  }
 ],
 "metadata": {
  "kernelspec": {
   "display_name": "Python [conda env:modulome]",
   "language": "python",
   "name": "conda-env-modulome-py"
  },
  "language_info": {
   "codemirror_mode": {
    "name": "ipython",
    "version": 3
   },
   "file_extension": ".py",
   "mimetype": "text/x-python",
   "name": "python",
   "nbconvert_exporter": "python",
   "pygments_lexer": "ipython3",
   "version": "3.7.12"
  }
 },
 "nbformat": 4,
 "nbformat_minor": 5
}
