{
 "cells": [
  {
   "cell_type": "code",
   "execution_count": 37,
   "id": "7f649f23-3fbe-441e-a2ee-cfb5f2da5d9e",
   "metadata": {
    "execution": {
     "iopub.execute_input": "2024-08-16T18:03:03.370813Z",
     "iopub.status.busy": "2024-08-16T18:03:03.370511Z",
     "iopub.status.idle": "2024-08-16T18:03:03.373472Z",
     "shell.execute_reply": "2024-08-16T18:03:03.373078Z",
     "shell.execute_reply.started": "2024-08-16T18:03:03.370797Z"
    }
   },
   "outputs": [],
   "source": [
    "import os\n",
    "import numpy as np\n",
    "import pandas as pd\n",
    "from mne import create_info\n",
    "from mne.io import RawArray\n",
    "from mne.preprocessing import ICA"
   ]
  },
  {
   "cell_type": "code",
   "execution_count": 38,
   "id": "a433d613-860d-44fb-b787-c26dbdea1a7c",
   "metadata": {
    "execution": {
     "iopub.execute_input": "2024-08-16T18:03:03.535455Z",
     "iopub.status.busy": "2024-08-16T18:03:03.535181Z",
     "iopub.status.idle": "2024-08-16T18:03:04.078050Z",
     "shell.execute_reply": "2024-08-16T18:03:04.077537Z",
     "shell.execute_reply.started": "2024-08-16T18:03:03.535440Z"
    }
   },
   "outputs": [],
   "source": [
    "P1K_X = pd.read_csv('../Data/P1K_X.csv', index_col=0)"
   ]
  },
  {
   "cell_type": "code",
   "execution_count": 39,
   "id": "d5d21d91-73ae-437a-a053-d700faabbbc5",
   "metadata": {
    "execution": {
     "iopub.execute_input": "2024-08-16T18:03:04.079329Z",
     "iopub.status.busy": "2024-08-16T18:03:04.078917Z",
     "iopub.status.idle": "2024-08-16T18:03:11.567909Z",
     "shell.execute_reply": "2024-08-16T18:03:11.567553Z",
     "shell.execute_reply.started": "2024-08-16T18:03:04.079314Z"
    }
   },
   "outputs": [
    {
     "name": "stdout",
     "output_type": "stream",
     "text": [
      "Creating RawArray with float64 data, n_channels=4257, n_times=1035\n",
      "    Range : 0 ... 1034 =      0.000 ...  1034.000 secs\n",
      "Ready.\n",
      "Fitting ICA to data using 4257 channels (please be patient, this may take a while)\n"
     ]
    },
    {
     "name": "stderr",
     "output_type": "stream",
     "text": [
      "/tmp/ipykernel_3597686/3031332533.py:25: RuntimeWarning: The data has not been high-pass filtered. For good ICA performance, it should be high-pass filtered (e.g., with a 1.0 Hz lower bound) before fitting ICA.\n",
      "  ica.fit(raw)\n"
     ]
    },
    {
     "name": "stdout",
     "output_type": "stream",
     "text": [
      "Selecting by number: 250 components\n",
      "Computing Infomax ICA\n",
      "Fitting ICA took 5.6s.\n",
      "Mixing matrix A saved to Results/InfoMax_ICA/proc_A.csv with shape (250, 1035)\n",
      "Sources matrix S saved to Results/InfoMax_ICA/proc_S.csv with shape (250, 4257)\n"
     ]
    }
   ],
   "source": [
    "import pandas as pd\n",
    "import os\n",
    "from mne.preprocessing import ICA\n",
    "from mne import create_info\n",
    "from mne.io import RawArray\n",
    "\n",
    "# Assume your DataFrame is named P1K_X\n",
    "# P1K_X has 4257 genes as row indices and 1035 columns as samples\n",
    "\n",
    "# 1. Convert DataFrame to a numpy array (no need to transpose)\n",
    "data = P1K_X.values  # Shape should be (4257 genes, 1035 samples)\n",
    "\n",
    "# 2. Create MNE Info structure\n",
    "sfreq = 1.0  # 1 Hz sampling frequency, modify if needed\n",
    "info = create_info(ch_names=list(P1K_X.index), sfreq=sfreq, ch_types='eeg')\n",
    "\n",
    "# 3. Create Raw object\n",
    "raw = RawArray(data, info)\n",
    "\n",
    "# 4. Initialize ICA with Infomax method\n",
    "n_components = 250  # Number of independent components\n",
    "ica = ICA(n_components=n_components, method='infomax', random_state=97)\n",
    "\n",
    "# 5. Fit ICA to the raw data\n",
    "ica.fit(raw)\n",
    "\n",
    "# 6. Extract the sources matrix S (4257 genes, 200 components)\n",
    "S = ica.get_components().T  # The components (genes x components)\n",
    "\n",
    "# 7. Calculate the mixing matrix A (200 components, 1035 samples)\n",
    "A = ica.get_sources(raw).get_data()  # Sources (components x samples)\n",
    "\n",
    "# 8. Convert S and A to pandas DataFrames\n",
    "S_df = pd.DataFrame(S)  # S with genes as rows\n",
    "A_df = pd.DataFrame(A)  # A with samples as columns\n",
    "\n",
    "# 9. Create directory for results if it doesn't exist\n",
    "results_dir = \"Results/InfoMax_ICA\"\n",
    "if not os.path.exists(results_dir):\n",
    "    os.makedirs(results_dir)\n",
    "\n",
    "# 10. Save the DataFrames to CSV files\n",
    "S_df.to_csv(f\"{results_dir}/proc_S.csv\", index=False)  # Save index (gene names)\n",
    "A_df.to_csv(f\"{results_dir}/proc_A.csv\", index=False)  # Save without index\n",
    "\n",
    "print(f\"Mixing matrix A saved to {results_dir}/proc_A.csv with shape {A_df.shape}\")\n",
    "print(f\"Sources matrix S saved to {results_dir}/proc_S.csv with shape {S_df.shape}\")"
   ]
  },
  {
   "cell_type": "code",
   "execution_count": 40,
   "id": "234fadd1-f63f-4961-ac43-f50faa0e7833",
   "metadata": {
    "execution": {
     "iopub.execute_input": "2024-08-16T18:03:11.568563Z",
     "iopub.status.busy": "2024-08-16T18:03:11.568438Z",
     "iopub.status.idle": "2024-08-16T18:03:11.571312Z",
     "shell.execute_reply": "2024-08-16T18:03:11.571038Z",
     "shell.execute_reply.started": "2024-08-16T18:03:11.568551Z"
    }
   },
   "outputs": [
    {
     "data": {
      "text/plain": [
       "(250, 1035)"
      ]
     },
     "execution_count": 40,
     "metadata": {},
     "output_type": "execute_result"
    }
   ],
   "source": [
    "A.shape"
   ]
  },
  {
   "cell_type": "code",
   "execution_count": null,
   "id": "73a779ef-eb94-4882-ae3f-8b2fb5452430",
   "metadata": {},
   "outputs": [],
   "source": []
  }
 ],
 "metadata": {
  "kernelspec": {
   "display_name": "Python [conda env:ML]",
   "language": "python",
   "name": "conda-env-ML-py"
  },
  "language_info": {
   "codemirror_mode": {
    "name": "ipython",
    "version": 3
   },
   "file_extension": ".py",
   "mimetype": "text/x-python",
   "name": "python",
   "nbconvert_exporter": "python",
   "pygments_lexer": "ipython3",
   "version": "3.12.4"
  }
 },
 "nbformat": 4,
 "nbformat_minor": 5
}
