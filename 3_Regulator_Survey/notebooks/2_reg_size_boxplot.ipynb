{
 "cells": [
  {
   "cell_type": "code",
   "execution_count": 1,
   "id": "2fcce330-46c4-4d06-b6e3-782ffaefb119",
   "metadata": {
    "execution": {
     "iopub.execute_input": "2024-10-29T07:48:51.629575Z",
     "iopub.status.busy": "2024-10-29T07:48:51.629207Z",
     "iopub.status.idle": "2024-10-29T07:48:52.386873Z",
     "shell.execute_reply": "2024-10-29T07:48:52.386079Z",
     "shell.execute_reply.started": "2024-10-29T07:48:51.629538Z"
    }
   },
   "outputs": [],
   "source": [
    "import pandas as pd\n",
    "import numpy as np\n",
    "from tqdm import tqdm\n",
    "import seaborn as sns\n",
    "import matplotlib.pyplot as plt\n",
    "from pymodulon.enrichment import *\n",
    "from sklearn.metrics import jaccard_score\n",
    "from scipy.stats import spearmanr\n",
    "\n",
    "plt.rcParams['svg.fonttype'] = 'none'\n",
    "plt.rcParams['font.size'] = 14"
   ]
  },
  {
   "cell_type": "code",
   "execution_count": 2,
   "id": "c3eabcfd-5fb4-4e59-af6e-108990e2bde5",
   "metadata": {
    "execution": {
     "iopub.execute_input": "2024-10-29T07:48:52.388039Z",
     "iopub.status.busy": "2024-10-29T07:48:52.387849Z",
     "iopub.status.idle": "2024-10-29T07:48:53.052125Z",
     "shell.execute_reply": "2024-10-29T07:48:53.051580Z",
     "shell.execute_reply.started": "2024-10-29T07:48:52.388025Z"
    }
   },
   "outputs": [],
   "source": [
    "# p1k data\n",
    "p1k_A = pd.read_csv('../data/p1k/A.csv', index_col=0)\n",
    "p1k_M = pd.read_csv('../data/p1k/M.csv', index_col=0)\n",
    "imodulon_table = pd.read_csv('../data/p1k/iM_table.csv', index_col=1)\n",
    "p1k_genes = pd.read_csv('../data/p1k/gene_info.csv', index_col=0)\n",
    "p1k_genes.index.name = 'locus'\n",
    "sample_data = pd.read_csv('../data/p1k/sample_table.csv', index_col=0)\n",
    "p1k_X = pd.read_csv('../data/p1k/log_tpm.csv', index_col=0)\n",
    "\n",
    "p1k_A.index = imodulon_table.index\n",
    "p1k_M.columns = imodulon_table.index\n",
    "\n",
    "p1k_gene_presence = pd.read_csv('../data/p1k/gene_presence_matrix.csv', index_col=0).astype(int)\n",
    "p1k_gene_presence.columns = imodulon_table.index\n",
    "\n",
    "trn_p1k = pd.read_csv('../data/p1k/trn.csv', index_col=0)"
   ]
  },
  {
   "cell_type": "code",
   "execution_count": 3,
   "id": "f13bae0a-f61e-4800-892e-6bd286c41141",
   "metadata": {
    "execution": {
     "iopub.execute_input": "2024-10-29T07:48:53.052903Z",
     "iopub.status.busy": "2024-10-29T07:48:53.052762Z",
     "iopub.status.idle": "2024-10-29T07:48:56.082204Z",
     "shell.execute_reply": "2024-10-29T07:48:56.081586Z",
     "shell.execute_reply.started": "2024-10-29T07:48:53.052889Z"
    }
   },
   "outputs": [],
   "source": [
    "# NCA Results full trn\n",
    "NCA_A = pd.read_csv('../data/NCA/full_trn/NCA_Activity.csv', index_col=0)\n",
    "NCA_gene_presence = pd.read_csv('../data/NCA/full_trn/NCA_A_TRN.csv', index_col=0)\n",
    "\n",
    "gene_mapping = pd.read_csv('../data/p1k/Gene-Name-from-All-genes-of-E.-coli-K-12-substr.-MG1655.txt', sep='\\t')\n",
    "gene_mapping.columns = ['gene_names', 'locus', 'synonyms']\n",
    "gene_mapping = gene_mapping.replace({'phnE1':'phnE', 'lfgA':'yfjX', 'lfgB':'yfjY', 'lptM':'yifL'})\n",
    "gene_mapping = gene_mapping[gene_mapping.locus.isin(p1k_genes.index)]\n",
    "\n",
    "def get_locus_tag(gene_name):\n",
    "    if gene_name in gene_mapping.gene_names.values:\n",
    "        return gene_mapping.reset_index().set_index('gene_names').loc[gene_name, 'locus']\n",
    "    else: # one edge case, gene ruled pseudogene\n",
    "        return 'b3681'\n",
    "\n",
    "# NCA_gene_presence.index = [p1k_genes.reset_index().set_index('gene_name').loc[x, 'locus'] for x in NCA_gene_presence.index]\n",
    "# NCA_gene_presence = NCA_gene_presence.reindex(p1k_gene_presence.index, fill_value=0)\n",
    "NCA_gene_presence.index.name = 'gene_name'\n",
    "NCA_gene_presence = NCA_gene_presence.reset_index()\n",
    "NCA_gene_presence['locus'] = NCA_gene_presence.gene_name.apply(lambda x: get_locus_tag(x))\n",
    "NCA_gene_presence = NCA_gene_presence.set_index('locus')\n",
    "NCA_gene_presence = NCA_gene_presence.drop('gene_name', axis=1).astype(int)\n",
    "\n",
    "trn_test = NCA_gene_presence\n",
    "trn_test = trn_test.T.rename_axis('Source')\\\n",
    "  .reset_index()\\\n",
    "  .melt('Source', value_name='Weight', var_name='Target')\\\n",
    "  .query('Source != Target')\\\n",
    "  .reset_index(drop=True)\n",
    "trn_test = trn_test.drop(trn_test[trn_test.Weight == 0].index)\n",
    "trn_test.columns = ['regulator','gene_id','effect']\n",
    "trn = trn_test\n",
    "\n",
    "# trn = pd.read_csv('../data/NCA/reg_list.csv', index_col=0)\n",
    "# trn['target'] = trn.target.apply(lambda x: p1k_genes.reset_index().set_index('gene_name')['locus'].get(x, np.nan))\n",
    "# trn = trn.dropna()\n",
    "# trn.columns = ['regulator','gene_id','effect']"
   ]
  },
  {
   "cell_type": "code",
   "execution_count": 4,
   "id": "2f2b9385-efac-4a80-8cd7-4449403bfc5b",
   "metadata": {
    "execution": {
     "iopub.execute_input": "2024-10-29T07:48:56.083395Z",
     "iopub.status.busy": "2024-10-29T07:48:56.083271Z",
     "iopub.status.idle": "2024-10-29T07:48:56.086285Z",
     "shell.execute_reply": "2024-10-29T07:48:56.085785Z",
     "shell.execute_reply.started": "2024-10-29T07:48:56.083382Z"
    }
   },
   "outputs": [],
   "source": [
    "# trn = trn_p1k # Uncomment to use p1k's trn for enrichment"
   ]
  },
  {
   "cell_type": "markdown",
   "id": "b0b22acd-595b-4745-9c49-745fa46dd7bd",
   "metadata": {},
   "source": [
    "# Test types of iModulons in relation to overlap with regulons"
   ]
  },
  {
   "cell_type": "markdown",
   "id": "3a5fe255-1f2b-4dd4-b6de-f3f5d112de25",
   "metadata": {},
   "source": [
    "## Single reg iModulons"
   ]
  },
  {
   "cell_type": "code",
   "execution_count": 5,
   "id": "69672ab0-e7ae-4184-8507-69b9aa0c8980",
   "metadata": {
    "execution": {
     "iopub.execute_input": "2024-10-29T07:48:56.087244Z",
     "iopub.status.busy": "2024-10-29T07:48:56.087119Z",
     "iopub.status.idle": "2024-10-29T07:48:56.099146Z",
     "shell.execute_reply": "2024-10-29T07:48:56.098709Z",
     "shell.execute_reply.started": "2024-10-29T07:48:56.087232Z"
    }
   },
   "outputs": [
    {
     "data": {
      "text/plain": [
       "50"
      ]
     },
     "execution_count": 5,
     "metadata": {},
     "output_type": "execute_result"
    }
   ],
   "source": [
    "regulation_info = list(imodulon_table.regulator_readable.dropna().values)\n",
    "single_regulation = [x for x in regulation_info if 'and' not in x and 'or' not in x]\n",
    "len(set(single_regulation))"
   ]
  },
  {
   "cell_type": "markdown",
   "id": "e5d0157b-5391-4877-85e2-5436217bb336",
   "metadata": {},
   "source": [
    "## Multiple Regulator iModulons"
   ]
  },
  {
   "cell_type": "code",
   "execution_count": 6,
   "id": "6041484d-df06-48b1-9baa-c7fa28656ed0",
   "metadata": {
    "execution": {
     "iopub.execute_input": "2024-10-29T07:48:56.099850Z",
     "iopub.status.busy": "2024-10-29T07:48:56.099722Z",
     "iopub.status.idle": "2024-10-29T07:48:56.103159Z",
     "shell.execute_reply": "2024-10-29T07:48:56.102796Z",
     "shell.execute_reply.started": "2024-10-29T07:48:56.099838Z"
    }
   },
   "outputs": [
    {
     "data": {
      "text/plain": [
       "57"
      ]
     },
     "execution_count": 6,
     "metadata": {},
     "output_type": "execute_result"
    }
   ],
   "source": [
    "regulation_info = list(imodulon_table.regulator_readable.dropna().values)\n",
    "mult_regulation = [x for x in regulation_info if ' and' in x or ' or' in x]\n",
    "len(set(mult_regulation))"
   ]
  },
  {
   "cell_type": "markdown",
   "id": "42e5df99-5151-441d-9a8d-54e85155f54b",
   "metadata": {},
   "source": [
    "## Testing"
   ]
  },
  {
   "cell_type": "code",
   "execution_count": 7,
   "id": "c164fb9c-d529-403f-98fd-999b03ee8fca",
   "metadata": {
    "execution": {
     "iopub.execute_input": "2024-10-29T07:48:56.103913Z",
     "iopub.status.busy": "2024-10-29T07:48:56.103651Z",
     "iopub.status.idle": "2024-10-29T07:48:56.106810Z",
     "shell.execute_reply": "2024-10-29T07:48:56.106378Z",
     "shell.execute_reply.started": "2024-10-29T07:48:56.103899Z"
    }
   },
   "outputs": [],
   "source": [
    "# Function to split terms by 'and' and 'or'\n",
    "def split_regulators(reg_list):\n",
    "    result = []\n",
    "    for reg in reg_list:\n",
    "        # Split by 'and' or 'or' and trim spaces\n",
    "        split_terms = [term.strip() for term in reg.replace(' and ', ',').replace(' or ', ',').split(',')]\n",
    "        result.extend(split_terms)\n",
    "    return result\n",
    "\n",
    "# Call the function\n",
    "split_list = set(split_regulators(regulation_info))"
   ]
  },
  {
   "cell_type": "code",
   "execution_count": 8,
   "id": "b0de6def-06bd-4cfe-a89b-d078cb60dba8",
   "metadata": {
    "execution": {
     "iopub.execute_input": "2024-10-29T07:48:56.107606Z",
     "iopub.status.busy": "2024-10-29T07:48:56.107318Z",
     "iopub.status.idle": "2024-10-29T07:48:56.419852Z",
     "shell.execute_reply": "2024-10-29T07:48:56.419422Z",
     "shell.execute_reply.started": "2024-10-29T07:48:56.107592Z"
    }
   },
   "outputs": [],
   "source": [
    "captured_regs = [x for x in split_list if x.lower() in trn.regulator.str.lower().unique()]\n",
    "reg_outside_of_rdb = [x for x in split_list if x.lower() not in trn.regulator.str.lower().values]\n",
    "not_captured_regs = [x for x in trn.regulator.unique() if x.lower() not in {x.lower() for x in split_list}]"
   ]
  },
  {
   "cell_type": "code",
   "execution_count": 9,
   "id": "1b6b6889-40db-4a8a-983d-9772b8e2d260",
   "metadata": {
    "execution": {
     "iopub.execute_input": "2024-10-29T07:48:56.420441Z",
     "iopub.status.busy": "2024-10-29T07:48:56.420324Z",
     "iopub.status.idle": "2024-10-29T07:48:56.423694Z",
     "shell.execute_reply": "2024-10-29T07:48:56.423322Z",
     "shell.execute_reply.started": "2024-10-29T07:48:56.420430Z"
    }
   },
   "outputs": [
    {
     "data": {
      "text/plain": [
       "102"
      ]
     },
     "execution_count": 9,
     "metadata": {},
     "output_type": "execute_result"
    }
   ],
   "source": [
    "len(captured_regs)"
   ]
  },
  {
   "cell_type": "code",
   "execution_count": 10,
   "id": "55f88065-79fb-4a96-8856-6b4ecfd097c1",
   "metadata": {
    "execution": {
     "iopub.execute_input": "2024-10-29T07:48:56.425276Z",
     "iopub.status.busy": "2024-10-29T07:48:56.424988Z",
     "iopub.status.idle": "2024-10-29T07:48:56.433200Z",
     "shell.execute_reply": "2024-10-29T07:48:56.432791Z",
     "shell.execute_reply.started": "2024-10-29T07:48:56.425262Z"
    }
   },
   "outputs": [
    {
     "data": {
      "text/plain": [
       "161"
      ]
     },
     "execution_count": 10,
     "metadata": {},
     "output_type": "execute_result"
    }
   ],
   "source": [
    "len(not_captured_regs)"
   ]
  },
  {
   "cell_type": "code",
   "execution_count": 11,
   "id": "41b95f42-33fb-47d4-a6cc-3be2f7f8d113",
   "metadata": {
    "execution": {
     "iopub.execute_input": "2024-10-29T07:48:56.433844Z",
     "iopub.status.busy": "2024-10-29T07:48:56.433716Z",
     "iopub.status.idle": "2024-10-29T07:48:56.436923Z",
     "shell.execute_reply": "2024-10-29T07:48:56.436494Z",
     "shell.execute_reply.started": "2024-10-29T07:48:56.433832Z"
    }
   },
   "outputs": [
    {
     "data": {
      "text/plain": [
       "263"
      ]
     },
     "execution_count": 11,
     "metadata": {},
     "output_type": "execute_result"
    }
   ],
   "source": [
    "len(trn.regulator.unique())"
   ]
  },
  {
   "cell_type": "code",
   "execution_count": 12,
   "id": "92625dd8-e171-4b65-836e-3d8b98c67888",
   "metadata": {
    "execution": {
     "iopub.execute_input": "2024-10-29T07:48:56.437684Z",
     "iopub.status.busy": "2024-10-29T07:48:56.437419Z",
     "iopub.status.idle": "2024-10-29T07:49:11.776786Z",
     "shell.execute_reply": "2024-10-29T07:49:11.776112Z",
     "shell.execute_reply.started": "2024-10-29T07:48:56.437670Z"
    }
   },
   "outputs": [],
   "source": [
    "plotting_data = pd.DataFrame(columns = ['Captured', 'Size', 'Enriched'])\n",
    "for reg in captured_regs:\n",
    "    size = trn[trn.regulator.str.lower()==reg.lower()].regulator.value_counts().values[0]\n",
    "    plotting_data.loc[reg] = ['Captured', size, None]\n",
    "for reg in not_captured_regs:\n",
    "    size = trn[trn.regulator.str.lower()==reg.lower()].regulator.value_counts().values[0]\n",
    "    plotting_data.loc[reg] = ['Not Captured', size, None]\n",
    "    enriched = False\n",
    "    trn_temp = trn[trn.regulator.str.lower() == reg.lower()]\n",
    "    for ica_column in p1k_gene_presence.columns:\n",
    "        ica_genes = set(p1k_gene_presence.index[p1k_gene_presence[ica_column] == 1])\n",
    "        trn_enrichment = compute_trn_enrichment(ica_genes,p1k_M.index,trn_temp, fdr=1e-5)\n",
    "        if len(trn_enrichment) > 0:\n",
    "            enriched = True\n",
    "    if enriched == True:\n",
    "        plotting_data.loc[reg, 'Enriched'] = 'Enriched'\n",
    "if 'RNAP' in plotting_data.index:\n",
    "    plotting_data = plotting_data.drop('RNAP')"
   ]
  },
  {
   "cell_type": "code",
   "execution_count": 17,
   "id": "2a6c068b-e44d-49aa-a5bf-72131262b2c3",
   "metadata": {
    "execution": {
     "iopub.execute_input": "2024-10-29T07:49:17.140739Z",
     "iopub.status.busy": "2024-10-29T07:49:17.140383Z",
     "iopub.status.idle": "2024-10-29T07:49:17.144050Z",
     "shell.execute_reply": "2024-10-29T07:49:17.143566Z",
     "shell.execute_reply.started": "2024-10-29T07:49:17.140709Z"
    }
   },
   "outputs": [],
   "source": [
    "df = pd.DataFrame(plotting_data)"
   ]
  },
  {
   "cell_type": "code",
   "execution_count": 18,
   "id": "d7fe9e12-5de3-4fca-a4d9-532d646bc229",
   "metadata": {
    "execution": {
     "iopub.execute_input": "2024-10-29T07:49:22.794448Z",
     "iopub.status.busy": "2024-10-29T07:49:22.794043Z",
     "iopub.status.idle": "2024-10-29T07:49:23.069479Z",
     "shell.execute_reply": "2024-10-29T07:49:23.068693Z",
     "shell.execute_reply.started": "2024-10-29T07:49:22.794418Z"
    }
   },
   "outputs": [
    {
     "data": {
      "image/png": "[encoded data removed]",
      "text/plain": [
       "<Figure size 1000x600 with 1 Axes>"
      ]
     },
     "metadata": {},
     "output_type": "display_data"
    }
   ],
   "source": [
    "# Create a new column to mark if the regulator is enriched or not\n",
    "df['Is_Enriched'] = df.apply(lambda row: 'Enriched' if row['Enriched'] == 'Enriched' and row['Captured'] == 'Not Captured' else ('Not Enriched' if row['Captured'] == 'Not Captured' else 'Captured'), axis=1)\n",
    "\n",
    "# Create the box plot\n",
    "plt.figure(figsize=(10, 6))\n",
    "sns.boxplot(x='Captured', y='Size', data=df, showfliers=False, palette={'Captured': 'blue', 'Not Captured': '#FF6566'})\n",
    "\n",
    "# Overlay the strip plot with the custom color palette\n",
    "palette = {'Captured': 'grey', 'Enriched': '#EE0082', 'Not Enriched': 'orange'}\n",
    "sns.stripplot(x='Captured', y='Size', data=df, hue='Is_Enriched', dodge=True, palette=palette, jitter=True, hue_order=['Not Enriched', 'Captured', 'Enriched'], alpha=.95)\n",
    "\n",
    "# Add title and labels\n",
    "plt.title('Regulator Enrichment Plotted Against Regulator Size')\n",
    "plt.ylabel('Size')\n",
    "plt.yscale('log')  # Adjust scale to log if necessary\n",
    "plt.xlabel('Captured Status')\n",
    "\n",
    "# Show the legend and plot\n",
    "plt.legend(title='Enriched Status', bbox_to_anchor=(.81, .9), loc='upper left')\n",
    "plt.tight_layout()\n",
    "# plt.savefig('regulator_enrichment_plot.svg', format='svg', dpi=300)\n",
    "plt.show()\n"
   ]
  },
  {
   "cell_type": "code",
   "execution_count": 57,
   "id": "f79b246f-5c6a-4d3d-b214-4fcf01848536",
   "metadata": {
    "execution": {
     "iopub.execute_input": "2024-10-29T08:18:14.249742Z",
     "iopub.status.busy": "2024-10-29T08:18:14.249550Z",
     "iopub.status.idle": "2024-10-29T08:18:14.651173Z",
     "shell.execute_reply": "2024-10-29T08:18:14.650399Z",
     "shell.execute_reply.started": "2024-10-29T08:18:14.249728Z"
    }
   },
   "outputs": [
    {
     "data": {
      "image/png": "[encoded data removed]",
      "text/plain": [
       "<Figure size 400x500 with 1 Axes>"
      ]
     },
     "metadata": {},
     "output_type": "display_data"
    }
   ],
   "source": [
    "import pandas as pd\n",
    "import matplotlib.pyplot as plt\n",
    "import seaborn as sns\n",
    "import matplotlib.font_manager as fm\n",
    "\n",
    "# Use default style to prevent visual distortions from other styles\n",
    "plt.style.use('default')\n",
    "\n",
    "# Create the custom font properties\n",
    "font_path = '/usr/share/fonts/truetype/msttcorefonts/Times_New_Roman.ttf'\n",
    "font_prop = fm.FontProperties(fname=font_path)\n",
    "\n",
    "# Create a new column to mark if the regulator is enriched or not\n",
    "df['Is_Enriched'] = df.apply(\n",
    "    lambda row: 'Enriched' if row['Enriched'] == 'Enriched' and row['Captured'] == 'Not Captured' \n",
    "    else ('Not Enriched' if row['Captured'] == 'Not Captured' else 'Captured'), \n",
    "    axis=1\n",
    ")\n",
    "\n",
    "# Create the box plot\n",
    "plt.figure(figsize=(4, 5))\n",
    "\n",
    "# Updated palette for the boxplot\n",
    "box_palette = {'Captured': '#D1B3E1', 'Not Captured': '#FAE3B9'}\n",
    "sns.boxplot(\n",
    "    x='Captured', y='Size', data=df, showfliers=False, palette=box_palette\n",
    ")\n",
    "\n",
    "# Overlay the strip plot with a vibrant color palette\n",
    "strip_palette = {\n",
    "    'Enriched': '#94c47d',  # Vibrant pink\n",
    "    'Not Enriched': '#f2b340',  # Deep yellow\n",
    "    'Captured': '#6D298E'  # Deep blue\n",
    "}\n",
    "stripplot = sns.stripplot(\n",
    "    x='Captured', y='Size', data=df, hue='Is_Enriched', dodge=True, \n",
    "    palette=strip_palette, jitter=True, \n",
    "    hue_order=['Not Enriched', 'Captured', 'Enriched'],  # Corrected order\n",
    "    alpha=1\n",
    ")\n",
    "\n",
    "# Remove plot title and x-axis label\n",
    "plt.ylabel('Size', fontproperties=font_prop)\n",
    "plt.xlabel('')  # No x-axis label\n",
    "\n",
    "# Set y-axis to logarithmic scale if necessary\n",
    "plt.yscale('log')\n",
    "\n",
    "# Adjust tick labels with custom font\n",
    "plt.xticks(fontproperties=font_prop)\n",
    "plt.yticks(fontproperties=font_prop)\n",
    "\n",
    "# Adjust legend order: Captured, Enriched, Not Enriched\n",
    "handles, labels = stripplot.get_legend_handles_labels()\n",
    "order = [labels.index('Captured'), labels.index('Enriched'), labels.index('Not Enriched')]\n",
    "plt.legend(\n",
    "    [handles[i] for i in order], [labels[i] for i in order],\n",
    "    title='Enriched Status', title_fontproperties=font_prop, \n",
    "    bbox_to_anchor=(.5, .9), loc='upper left', prop=font_prop\n",
    ")\n",
    "\n",
    "# Adjust layout to avoid overlap\n",
    "plt.tight_layout()\n",
    "\n",
    "# Save the plot as an SVG file\n",
    "plt.savefig('regulator_size_enrich.svg', format='svg')\n",
    "\n",
    "# Display the plot\n",
    "plt.show()"
   ]
  },
  {
   "cell_type": "code",
   "execution_count": 65,
   "id": "b5edb67b-a30b-4cfc-bf4f-d05d84270427",
   "metadata": {
    "execution": {
     "iopub.execute_input": "2024-11-23T18:08:22.570465Z",
     "iopub.status.busy": "2024-11-23T18:08:22.570081Z",
     "iopub.status.idle": "2024-11-23T18:08:22.936871Z",
     "shell.execute_reply": "2024-11-23T18:08:22.936399Z",
     "shell.execute_reply.started": "2024-11-23T18:08:22.570434Z"
    }
   },
   "outputs": [
    {
     "data": {
      "image/png": "[encoded data removed]",
      "text/plain": [
       "<Figure size 360x470 with 1 Axes>"
      ]
     },
     "metadata": {},
     "output_type": "display_data"
    }
   ],
   "source": [
    "import pandas as pd\n",
    "import matplotlib.pyplot as plt\n",
    "import seaborn as sns\n",
    "import matplotlib.font_manager as fm\n",
    "\n",
    "# Use default style to prevent visual distortions from other styles\n",
    "plt.style.use('default')\n",
    "\n",
    "# Create the custom font properties\n",
    "font_path = '/usr/share/fonts/truetype/msttcorefonts/Times_New_Roman.ttf'\n",
    "font_prop = fm.FontProperties(fname=font_path)\n",
    "\n",
    "# Create a new column to mark if the regulator is enriched or not\n",
    "df['Is_Enriched'] = df.apply(\n",
    "    lambda row: 'Enriched' if row['Enriched'] == 'Enriched' and row['Captured'] == 'Not Captured' \n",
    "    else ('Not Enriched' if row['Captured'] == 'Not Captured' else 'Captured'), \n",
    "    axis=1\n",
    ")\n",
    "\n",
    "# Create the box plot\n",
    "plt.figure(figsize=(3.6, 4.7))\n",
    "\n",
    "# Updated palette for the boxplot\n",
    "box_palette = {'Captured': '#D1B3E1', 'Not Captured': '#FAE3B9'}\n",
    "sns.boxplot(\n",
    "    x='Captured', y='Size', data=df, showfliers=False, palette=box_palette\n",
    ")\n",
    "\n",
    "# Overlay the strip plot with a vibrant color palette\n",
    "strip_palette = {\n",
    "    'Enriched': '#94c47d',  # Vibrant pink\n",
    "    'Not Enriched': '#f2b340',  # Deep yellow\n",
    "    'Captured': '#6D298E'  # Deep blue\n",
    "}\n",
    "stripplot = sns.stripplot(\n",
    "    x='Captured', y='Size', data=df, hue='Is_Enriched', dodge=True, \n",
    "    palette=strip_palette, jitter=True, \n",
    "    hue_order=['Not Enriched', 'Captured', 'Enriched'],  # Corrected order\n",
    "    alpha=1\n",
    ")\n",
    "\n",
    "# Remove plot title and x-axis label\n",
    "plt.ylabel('Size', fontproperties=font_prop)\n",
    "plt.xlabel('')  # No x-axis label\n",
    "\n",
    "# Add horizontal dotted lines at 10 and 30 (before setting log scale)\n",
    "plt.axhline(10, linestyle='--', color='gray', linewidth=1)\n",
    "plt.axhline(30, linestyle='--', color='gray', linewidth=1)\n",
    "\n",
    "# Set y-axis to logarithmic scale\n",
    "plt.yscale('log')\n",
    "\n",
    "# Adjust tick labels with custom font\n",
    "plt.xticks(fontproperties=font_prop)\n",
    "plt.yticks(fontproperties=font_prop)\n",
    "\n",
    "# Adjust legend order: Captured, Enriched, Not Enriched\n",
    "handles, labels = stripplot.get_legend_handles_labels()\n",
    "order = [labels.index('Captured'), labels.index('Enriched'), labels.index('Not Enriched')]\n",
    "plt.legend(\n",
    "    [handles[i] for i in order], [labels[i] for i in order],\n",
    "    title='Enriched Status', title_fontproperties=font_prop, \n",
    "    bbox_to_anchor=(.3, .9), loc='upper left', prop=font_prop\n",
    ")\n",
    "\n",
    "# Save the plot as an SVG file\n",
    "plt.savefig('regulator_size_enrich.svg', format='svg')\n",
    "\n",
    "# Display the plot\n",
    "plt.show()\n"
   ]
  },
  {
   "cell_type": "code",
   "execution_count": 14,
   "id": "0763f03b-c93d-4da2-8a21-454b909b6d3f",
   "metadata": {
    "execution": {
     "iopub.execute_input": "2024-10-29T07:49:12.088770Z",
     "iopub.status.busy": "2024-10-29T07:49:12.088629Z",
     "iopub.status.idle": "2024-10-29T07:49:12.095996Z",
     "shell.execute_reply": "2024-10-29T07:49:12.095600Z",
     "shell.execute_reply.started": "2024-10-29T07:49:12.088756Z"
    }
   },
   "outputs": [
    {
     "data": {
      "text/html": [
       "<div>\n",
       "<style scoped>\n",
       "    .dataframe tbody tr th:only-of-type {\n",
       "        vertical-align: middle;\n",
       "    }\n",
       "\n",
       "    .dataframe tbody tr th {\n",
       "        vertical-align: top;\n",
       "    }\n",
       "\n",
       "    .dataframe thead th {\n",
       "        text-align: right;\n",
       "    }\n",
       "</style>\n",
       "<table border=\"1\" class=\"dataframe\">\n",
       "  <thead>\n",
       "    <tr style=\"text-align: right;\">\n",
       "      <th></th>\n",
       "      <th>Captured</th>\n",
       "      <th>Size</th>\n",
       "      <th>Enriched</th>\n",
       "      <th>Is_Enriched</th>\n",
       "    </tr>\n",
       "  </thead>\n",
       "  <tbody>\n",
       "    <tr>\n",
       "      <th>RpoS</th>\n",
       "      <td>Captured</td>\n",
       "      <td>228</td>\n",
       "      <td>None</td>\n",
       "      <td>Captured</td>\n",
       "    </tr>\n",
       "    <tr>\n",
       "      <th>BluR</th>\n",
       "      <td>Captured</td>\n",
       "      <td>4</td>\n",
       "      <td>None</td>\n",
       "      <td>Captured</td>\n",
       "    </tr>\n",
       "    <tr>\n",
       "      <th>PhoB</th>\n",
       "      <td>Captured</td>\n",
       "      <td>47</td>\n",
       "      <td>None</td>\n",
       "      <td>Captured</td>\n",
       "    </tr>\n",
       "    <tr>\n",
       "      <th>RpoE</th>\n",
       "      <td>Captured</td>\n",
       "      <td>107</td>\n",
       "      <td>None</td>\n",
       "      <td>Captured</td>\n",
       "    </tr>\n",
       "    <tr>\n",
       "      <th>NsrR</th>\n",
       "      <td>Captured</td>\n",
       "      <td>8</td>\n",
       "      <td>None</td>\n",
       "      <td>Captured</td>\n",
       "    </tr>\n",
       "    <tr>\n",
       "      <th>...</th>\n",
       "      <td>...</td>\n",
       "      <td>...</td>\n",
       "      <td>...</td>\n",
       "      <td>...</td>\n",
       "    </tr>\n",
       "    <tr>\n",
       "      <th>PunR</th>\n",
       "      <td>Not Captured</td>\n",
       "      <td>1</td>\n",
       "      <td>None</td>\n",
       "      <td>Not Enriched</td>\n",
       "    </tr>\n",
       "    <tr>\n",
       "      <th>YiaU</th>\n",
       "      <td>Not Captured</td>\n",
       "      <td>3</td>\n",
       "      <td>None</td>\n",
       "      <td>Not Enriched</td>\n",
       "    </tr>\n",
       "    <tr>\n",
       "      <th>CitR</th>\n",
       "      <td>Not Captured</td>\n",
       "      <td>2</td>\n",
       "      <td>None</td>\n",
       "      <td>Not Enriched</td>\n",
       "    </tr>\n",
       "    <tr>\n",
       "      <th>PtrR</th>\n",
       "      <td>Not Captured</td>\n",
       "      <td>3</td>\n",
       "      <td>Enriched</td>\n",
       "      <td>Enriched</td>\n",
       "    </tr>\n",
       "    <tr>\n",
       "      <th>FimZ</th>\n",
       "      <td>Not Captured</td>\n",
       "      <td>2</td>\n",
       "      <td>None</td>\n",
       "      <td>Not Enriched</td>\n",
       "    </tr>\n",
       "  </tbody>\n",
       "</table>\n",
       "<p>262 rows × 4 columns</p>\n",
       "</div>"
      ],
      "text/plain": [
       "          Captured Size  Enriched   Is_Enriched\n",
       "RpoS      Captured  228      None      Captured\n",
       "BluR      Captured    4      None      Captured\n",
       "PhoB      Captured   47      None      Captured\n",
       "RpoE      Captured  107      None      Captured\n",
       "NsrR      Captured    8      None      Captured\n",
       "...            ...  ...       ...           ...\n",
       "PunR  Not Captured    1      None  Not Enriched\n",
       "YiaU  Not Captured    3      None  Not Enriched\n",
       "CitR  Not Captured    2      None  Not Enriched\n",
       "PtrR  Not Captured    3  Enriched      Enriched\n",
       "FimZ  Not Captured    2      None  Not Enriched\n",
       "\n",
       "[262 rows x 4 columns]"
      ]
     },
     "execution_count": 14,
     "metadata": {},
     "output_type": "execute_result"
    }
   ],
   "source": [
    "df"
   ]
  },
  {
   "cell_type": "code",
   "execution_count": 15,
   "id": "e85436aa-8998-4811-b98c-3c7245faa5e1",
   "metadata": {
    "execution": {
     "iopub.execute_input": "2024-10-29T07:49:12.096676Z",
     "iopub.status.busy": "2024-10-29T07:49:12.096546Z",
     "iopub.status.idle": "2024-10-29T07:49:12.101365Z",
     "shell.execute_reply": "2024-10-29T07:49:12.100984Z",
     "shell.execute_reply.started": "2024-10-29T07:49:12.096663Z"
    }
   },
   "outputs": [
    {
     "data": {
      "text/plain": [
       "Is_Enriched\n",
       "Captured         501\n",
       "Enriched        1168\n",
       "Not Enriched      14\n",
       "Name: Size, dtype: int64"
      ]
     },
     "execution_count": 15,
     "metadata": {},
     "output_type": "execute_result"
    }
   ],
   "source": [
    "df.sort_values('Size').groupby('Is_Enriched').Size.max()"
   ]
  },
  {
   "cell_type": "code",
   "execution_count": 16,
   "id": "f62b5201-6323-4908-b7d2-ef4e9f76105a",
   "metadata": {
    "execution": {
     "iopub.execute_input": "2024-10-29T07:49:12.102726Z",
     "iopub.status.busy": "2024-10-29T07:49:12.102433Z",
     "iopub.status.idle": "2024-10-29T07:49:12.350896Z",
     "shell.execute_reply": "2024-10-29T07:49:12.350390Z",
     "shell.execute_reply.started": "2024-10-29T07:49:12.102711Z"
    }
   },
   "outputs": [
    {
     "data": {
      "image/png": "[encoded data removed]",
      "text/plain": [
       "<Figure size 1000x600 with 1 Axes>"
      ]
     },
     "metadata": {},
     "output_type": "display_data"
    }
   ],
   "source": [
    "df = pd.DataFrame(plotting_data)\n",
    "\n",
    "# Create a new column to mark if the regulator is enriched or not\n",
    "df['Is_Enriched'] = df.apply(lambda row: 'Enriched' if row['Enriched'] == 'Enriched' and row['Captured'] == 'Not Captured' else ('Not Enriched' if row['Captured'] == 'Not Captured' else 'Captured'), axis=1)\n",
    "\n",
    "# Create the box plot\n",
    "plt.figure(figsize=(10, 6))\n",
    "sns.boxenplot(x='Is_Enriched', y='Size', data=df, showfliers=True, palette={'Captured':'red', 'Not Enriched': 'blue', 'Enriched':'violet'})\n",
    "plt.yscale('log')"
   ]
  },
  {
   "cell_type": "code",
   "execution_count": 45,
   "id": "0fac0a38-064a-49da-a034-23ca63804215",
   "metadata": {
    "execution": {
     "iopub.execute_input": "2024-10-22T23:54:35.582712Z",
     "iopub.status.busy": "2024-10-22T23:54:35.582499Z",
     "iopub.status.idle": "2024-10-22T23:54:35.588553Z",
     "shell.execute_reply": "2024-10-22T23:54:35.587966Z",
     "shell.execute_reply.started": "2024-10-22T23:54:35.582697Z"
    }
   },
   "outputs": [
    {
     "data": {
      "text/plain": [
       "Is_Enriched\n",
       "Not Enriched    119\n",
       "Captured        102\n",
       "Enriched         41\n",
       "dtype: int64"
      ]
     },
     "execution_count": 45,
     "metadata": {},
     "output_type": "execute_result"
    }
   ],
   "source": [
    "df.value_counts('Is_Enriched')"
   ]
  },
  {
   "cell_type": "code",
   "execution_count": 46,
   "id": "9d9d25ef-7776-49eb-b2a4-37fcfa06ef79",
   "metadata": {
    "execution": {
     "iopub.execute_input": "2024-10-22T23:54:35.589602Z",
     "iopub.status.busy": "2024-10-22T23:54:35.589471Z",
     "iopub.status.idle": "2024-10-22T23:54:35.598914Z",
     "shell.execute_reply": "2024-10-22T23:54:35.598136Z",
     "shell.execute_reply.started": "2024-10-22T23:54:35.589589Z"
    }
   },
   "outputs": [
    {
     "data": {
      "text/plain": [
       "Not Enriched    75\n",
       "Enriched         7\n",
       "Captured         6\n",
       "Name: Is_Enriched, dtype: int64"
      ]
     },
     "execution_count": 46,
     "metadata": {},
     "output_type": "execute_result"
    }
   ],
   "source": [
    "df[df.Size < 4].Is_Enriched.value_counts()"
   ]
  },
  {
   "cell_type": "code",
   "execution_count": 49,
   "id": "27ba8730-6852-4d01-8002-5163b6f824d0",
   "metadata": {
    "execution": {
     "iopub.execute_input": "2024-10-22T23:54:51.041575Z",
     "iopub.status.busy": "2024-10-22T23:54:51.041448Z",
     "iopub.status.idle": "2024-10-22T23:54:51.048269Z",
     "shell.execute_reply": "2024-10-22T23:54:51.047680Z",
     "shell.execute_reply.started": "2024-10-22T23:54:51.041561Z"
    }
   },
   "outputs": [
    {
     "data": {
      "text/plain": [
       "Series([], Name: regulator, dtype: int64)"
      ]
     },
     "execution_count": 49,
     "metadata": {},
     "output_type": "execute_result"
    }
   ],
   "source": [
    "trn[trn.regulator.str.lower().isin(captured_regs)].regulator.value_counts()"
   ]
  },
  {
   "cell_type": "code",
   "execution_count": 50,
   "id": "a45bd404-df97-4709-890e-9ea26e1742ec",
   "metadata": {
    "execution": {
     "iopub.execute_input": "2024-10-22T23:54:51.049225Z",
     "iopub.status.busy": "2024-10-22T23:54:51.049077Z",
     "iopub.status.idle": "2024-10-22T23:54:51.061555Z",
     "shell.execute_reply": "2024-10-22T23:54:51.060917Z",
     "shell.execute_reply.started": "2024-10-22T23:54:51.049212Z"
    }
   },
   "outputs": [
    {
     "data": {
      "text/plain": [
       "Series([], Name: regulator, dtype: int64)"
      ]
     },
     "execution_count": 50,
     "metadata": {},
     "output_type": "execute_result"
    }
   ],
   "source": [
    "trn[trn.regulator.str.lower().isin(not_captured_regs)].regulator.value_counts()"
   ]
  },
  {
   "cell_type": "code",
   "execution_count": 51,
   "id": "759cc8e0-2d00-4d2a-8338-43c3add105e8",
   "metadata": {
    "execution": {
     "iopub.execute_input": "2024-10-22T23:54:51.062655Z",
     "iopub.status.busy": "2024-10-22T23:54:51.062521Z",
     "iopub.status.idle": "2024-10-22T23:55:06.488632Z",
     "shell.execute_reply": "2024-10-22T23:55:06.487963Z",
     "shell.execute_reply.started": "2024-10-22T23:54:51.062642Z"
    },
    "scrolled": true
   },
   "outputs": [
    {
     "data": {
      "text/plain": [
       "'RpoE'"
      ]
     },
     "metadata": {},
     "output_type": "display_data"
    },
    {
     "data": {
      "text/plain": [
       "0.4798931941529078"
      ]
     },
     "metadata": {},
     "output_type": "display_data"
    },
    {
     "data": {
      "text/plain": [
       "13"
      ]
     },
     "metadata": {},
     "output_type": "display_data"
    },
    {
     "data": {
      "text/html": [
       "<div>\n",
       "<style scoped>\n",
       "    .dataframe tbody tr th:only-of-type {\n",
       "        vertical-align: middle;\n",
       "    }\n",
       "\n",
       "    .dataframe tbody tr th {\n",
       "        vertical-align: top;\n",
       "    }\n",
       "\n",
       "    .dataframe thead th {\n",
       "        text-align: right;\n",
       "    }\n",
       "</style>\n",
       "<table border=\"1\" class=\"dataframe\">\n",
       "  <thead>\n",
       "    <tr style=\"text-align: right;\">\n",
       "      <th></th>\n",
       "      <th>pvalue</th>\n",
       "      <th>precision</th>\n",
       "      <th>recall</th>\n",
       "      <th>f1score</th>\n",
       "      <th>TP</th>\n",
       "      <th>regulon_size</th>\n",
       "      <th>gene_set_size</th>\n",
       "      <th>n_regs</th>\n",
       "      <th>qvalue</th>\n",
       "    </tr>\n",
       "  </thead>\n",
       "  <tbody>\n",
       "    <tr>\n",
       "      <th>RcsB</th>\n",
       "      <td>3.684640e-08</td>\n",
       "      <td>0.307692</td>\n",
       "      <td>0.307692</td>\n",
       "      <td>0.307692</td>\n",
       "      <td>4.0</td>\n",
       "      <td>13.0</td>\n",
       "      <td>13.0</td>\n",
       "      <td>1.0</td>\n",
       "      <td>3.684640e-08</td>\n",
       "    </tr>\n",
       "  </tbody>\n",
       "</table>\n",
       "</div>"
      ],
      "text/plain": [
       "            pvalue  precision    recall   f1score   TP  regulon_size  \\\n",
       "RcsB  3.684640e-08   0.307692  0.307692  0.307692  4.0          13.0   \n",
       "\n",
       "      gene_set_size  n_regs        qvalue  \n",
       "RcsB           13.0     1.0  3.684640e-08  "
      ]
     },
     "metadata": {},
     "output_type": "display_data"
    },
    {
     "data": {
      "text/plain": [
       "'baeR KO'"
      ]
     },
     "metadata": {},
     "output_type": "display_data"
    },
    {
     "data": {
      "text/plain": [
       "-0.13047611828978212"
      ]
     },
     "metadata": {},
     "output_type": "display_data"
    },
    {
     "data": {
      "text/plain": [
       "17"
      ]
     },
     "metadata": {},
     "output_type": "display_data"
    },
    {
     "data": {
      "text/html": [
       "<div>\n",
       "<style scoped>\n",
       "    .dataframe tbody tr th:only-of-type {\n",
       "        vertical-align: middle;\n",
       "    }\n",
       "\n",
       "    .dataframe tbody tr th {\n",
       "        vertical-align: top;\n",
       "    }\n",
       "\n",
       "    .dataframe thead th {\n",
       "        text-align: right;\n",
       "    }\n",
       "</style>\n",
       "<table border=\"1\" class=\"dataframe\">\n",
       "  <thead>\n",
       "    <tr style=\"text-align: right;\">\n",
       "      <th></th>\n",
       "      <th>pvalue</th>\n",
       "      <th>precision</th>\n",
       "      <th>recall</th>\n",
       "      <th>f1score</th>\n",
       "      <th>TP</th>\n",
       "      <th>regulon_size</th>\n",
       "      <th>gene_set_size</th>\n",
       "      <th>n_regs</th>\n",
       "      <th>qvalue</th>\n",
       "    </tr>\n",
       "  </thead>\n",
       "  <tbody>\n",
       "    <tr>\n",
       "      <th>MraZ</th>\n",
       "      <td>8.172809e-16</td>\n",
       "      <td>0.185185</td>\n",
       "      <td>0.588235</td>\n",
       "      <td>0.28169</td>\n",
       "      <td>10.0</td>\n",
       "      <td>17.0</td>\n",
       "      <td>54.0</td>\n",
       "      <td>1.0</td>\n",
       "      <td>8.172809e-16</td>\n",
       "    </tr>\n",
       "  </tbody>\n",
       "</table>\n",
       "</div>"
      ],
      "text/plain": [
       "            pvalue  precision    recall  f1score    TP  regulon_size  \\\n",
       "MraZ  8.172809e-16   0.185185  0.588235  0.28169  10.0          17.0   \n",
       "\n",
       "      gene_set_size  n_regs        qvalue  \n",
       "MraZ           54.0     1.0  8.172809e-16  "
      ]
     },
     "metadata": {},
     "output_type": "display_data"
    },
    {
     "data": {
      "text/plain": [
       "'N Reduction'"
      ]
     },
     "metadata": {},
     "output_type": "display_data"
    },
    {
     "data": {
      "text/plain": [
       "0.1648423866080258"
      ]
     },
     "metadata": {},
     "output_type": "display_data"
    },
    {
     "data": {
      "text/plain": [
       "1168"
      ]
     },
     "metadata": {},
     "output_type": "display_data"
    },
    {
     "data": {
      "text/html": [
       "<div>\n",
       "<style scoped>\n",
       "    .dataframe tbody tr th:only-of-type {\n",
       "        vertical-align: middle;\n",
       "    }\n",
       "\n",
       "    .dataframe tbody tr th {\n",
       "        vertical-align: top;\n",
       "    }\n",
       "\n",
       "    .dataframe thead th {\n",
       "        text-align: right;\n",
       "    }\n",
       "</style>\n",
       "<table border=\"1\" class=\"dataframe\">\n",
       "  <thead>\n",
       "    <tr style=\"text-align: right;\">\n",
       "      <th></th>\n",
       "      <th>pvalue</th>\n",
       "      <th>precision</th>\n",
       "      <th>recall</th>\n",
       "      <th>f1score</th>\n",
       "      <th>TP</th>\n",
       "      <th>regulon_size</th>\n",
       "      <th>gene_set_size</th>\n",
       "      <th>n_regs</th>\n",
       "      <th>qvalue</th>\n",
       "    </tr>\n",
       "  </thead>\n",
       "  <tbody>\n",
       "    <tr>\n",
       "      <th>RpoD</th>\n",
       "      <td>2.786315e-14</td>\n",
       "      <td>1.0</td>\n",
       "      <td>0.020548</td>\n",
       "      <td>0.040268</td>\n",
       "      <td>24.0</td>\n",
       "      <td>1168.0</td>\n",
       "      <td>24.0</td>\n",
       "      <td>1.0</td>\n",
       "      <td>2.786315e-14</td>\n",
       "    </tr>\n",
       "  </tbody>\n",
       "</table>\n",
       "</div>"
      ],
      "text/plain": [
       "            pvalue  precision    recall   f1score    TP  regulon_size  \\\n",
       "RpoD  2.786315e-14        1.0  0.020548  0.040268  24.0        1168.0   \n",
       "\n",
       "      gene_set_size  n_regs        qvalue  \n",
       "RpoD           24.0     1.0  2.786315e-14  "
      ]
     },
     "metadata": {},
     "output_type": "display_data"
    },
    {
     "data": {
      "text/plain": [
       "'Fur-1'"
      ]
     },
     "metadata": {},
     "output_type": "display_data"
    },
    {
     "data": {
      "text/plain": [
       "-0.014515558520953563"
      ]
     },
     "metadata": {},
     "output_type": "display_data"
    },
    {
     "data": {
      "text/plain": [
       "1168"
      ]
     },
     "metadata": {},
     "output_type": "display_data"
    },
    {
     "data": {
      "text/html": [
       "<div>\n",
       "<style scoped>\n",
       "    .dataframe tbody tr th:only-of-type {\n",
       "        vertical-align: middle;\n",
       "    }\n",
       "\n",
       "    .dataframe tbody tr th {\n",
       "        vertical-align: top;\n",
       "    }\n",
       "\n",
       "    .dataframe thead th {\n",
       "        text-align: right;\n",
       "    }\n",
       "</style>\n",
       "<table border=\"1\" class=\"dataframe\">\n",
       "  <thead>\n",
       "    <tr style=\"text-align: right;\">\n",
       "      <th></th>\n",
       "      <th>pvalue</th>\n",
       "      <th>precision</th>\n",
       "      <th>recall</th>\n",
       "      <th>f1score</th>\n",
       "      <th>TP</th>\n",
       "      <th>regulon_size</th>\n",
       "      <th>gene_set_size</th>\n",
       "      <th>n_regs</th>\n",
       "      <th>qvalue</th>\n",
       "    </tr>\n",
       "  </thead>\n",
       "  <tbody>\n",
       "    <tr>\n",
       "      <th>RpoD</th>\n",
       "      <td>3.032783e-10</td>\n",
       "      <td>0.8125</td>\n",
       "      <td>0.02226</td>\n",
       "      <td>0.043333</td>\n",
       "      <td>26.0</td>\n",
       "      <td>1168.0</td>\n",
       "      <td>32.0</td>\n",
       "      <td>1.0</td>\n",
       "      <td>3.032783e-10</td>\n",
       "    </tr>\n",
       "  </tbody>\n",
       "</table>\n",
       "</div>"
      ],
      "text/plain": [
       "            pvalue  precision   recall   f1score    TP  regulon_size  \\\n",
       "RpoD  3.032783e-10     0.8125  0.02226  0.043333  26.0        1168.0   \n",
       "\n",
       "      gene_set_size  n_regs        qvalue  \n",
       "RpoD           32.0     1.0  3.032783e-10  "
      ]
     },
     "metadata": {},
     "output_type": "display_data"
    },
    {
     "data": {
      "text/plain": [
       "'Nitrate/Nitrite'"
      ]
     },
     "metadata": {},
     "output_type": "display_data"
    },
    {
     "data": {
      "text/plain": [
       "0.25753573571627986"
      ]
     },
     "metadata": {},
     "output_type": "display_data"
    },
    {
     "data": {
      "text/plain": [
       "1168"
      ]
     },
     "metadata": {},
     "output_type": "display_data"
    },
    {
     "data": {
      "text/html": [
       "<div>\n",
       "<style scoped>\n",
       "    .dataframe tbody tr th:only-of-type {\n",
       "        vertical-align: middle;\n",
       "    }\n",
       "\n",
       "    .dataframe tbody tr th {\n",
       "        vertical-align: top;\n",
       "    }\n",
       "\n",
       "    .dataframe thead th {\n",
       "        text-align: right;\n",
       "    }\n",
       "</style>\n",
       "<table border=\"1\" class=\"dataframe\">\n",
       "  <thead>\n",
       "    <tr style=\"text-align: right;\">\n",
       "      <th></th>\n",
       "      <th>pvalue</th>\n",
       "      <th>precision</th>\n",
       "      <th>recall</th>\n",
       "      <th>f1score</th>\n",
       "      <th>TP</th>\n",
       "      <th>regulon_size</th>\n",
       "      <th>gene_set_size</th>\n",
       "      <th>n_regs</th>\n",
       "      <th>qvalue</th>\n",
       "    </tr>\n",
       "  </thead>\n",
       "  <tbody>\n",
       "    <tr>\n",
       "      <th>RpoD</th>\n",
       "      <td>0.000009</td>\n",
       "      <td>1.0</td>\n",
       "      <td>0.007705</td>\n",
       "      <td>0.015293</td>\n",
       "      <td>9.0</td>\n",
       "      <td>1168.0</td>\n",
       "      <td>9.0</td>\n",
       "      <td>1.0</td>\n",
       "      <td>0.000009</td>\n",
       "    </tr>\n",
       "  </tbody>\n",
       "</table>\n",
       "</div>"
      ],
      "text/plain": [
       "        pvalue  precision    recall   f1score   TP  regulon_size  \\\n",
       "RpoD  0.000009        1.0  0.007705  0.015293  9.0        1168.0   \n",
       "\n",
       "      gene_set_size  n_regs    qvalue  \n",
       "RpoD            9.0     1.0  0.000009  "
      ]
     },
     "metadata": {},
     "output_type": "display_data"
    },
    {
     "data": {
      "text/plain": [
       "'Arginine'"
      ]
     },
     "metadata": {},
     "output_type": "display_data"
    },
    {
     "data": {
      "text/plain": [
       "0.3453928021375717"
      ]
     },
     "metadata": {},
     "output_type": "display_data"
    },
    {
     "data": {
      "text/plain": [
       "1168"
      ]
     },
     "metadata": {},
     "output_type": "display_data"
    },
    {
     "data": {
      "text/html": [
       "<div>\n",
       "<style scoped>\n",
       "    .dataframe tbody tr th:only-of-type {\n",
       "        vertical-align: middle;\n",
       "    }\n",
       "\n",
       "    .dataframe tbody tr th {\n",
       "        vertical-align: top;\n",
       "    }\n",
       "\n",
       "    .dataframe thead th {\n",
       "        text-align: right;\n",
       "    }\n",
       "</style>\n",
       "<table border=\"1\" class=\"dataframe\">\n",
       "  <thead>\n",
       "    <tr style=\"text-align: right;\">\n",
       "      <th></th>\n",
       "      <th>pvalue</th>\n",
       "      <th>precision</th>\n",
       "      <th>recall</th>\n",
       "      <th>f1score</th>\n",
       "      <th>TP</th>\n",
       "      <th>regulon_size</th>\n",
       "      <th>gene_set_size</th>\n",
       "      <th>n_regs</th>\n",
       "      <th>qvalue</th>\n",
       "    </tr>\n",
       "  </thead>\n",
       "  <tbody>\n",
       "    <tr>\n",
       "      <th>RpoD</th>\n",
       "      <td>1.839678e-07</td>\n",
       "      <td>0.791667</td>\n",
       "      <td>0.016267</td>\n",
       "      <td>0.031879</td>\n",
       "      <td>19.0</td>\n",
       "      <td>1168.0</td>\n",
       "      <td>24.0</td>\n",
       "      <td>1.0</td>\n",
       "      <td>1.839678e-07</td>\n",
       "    </tr>\n",
       "  </tbody>\n",
       "</table>\n",
       "</div>"
      ],
      "text/plain": [
       "            pvalue  precision    recall   f1score    TP  regulon_size  \\\n",
       "RpoD  1.839678e-07   0.791667  0.016267  0.031879  19.0        1168.0   \n",
       "\n",
       "      gene_set_size  n_regs        qvalue  \n",
       "RpoD           24.0     1.0  1.839678e-07  "
      ]
     },
     "metadata": {},
     "output_type": "display_data"
    },
    {
     "data": {
      "text/plain": [
       "'Tyr/Trp/Phe'"
      ]
     },
     "metadata": {},
     "output_type": "display_data"
    },
    {
     "data": {
      "text/plain": [
       "0.48936535488392546"
      ]
     },
     "metadata": {},
     "output_type": "display_data"
    },
    {
     "data": {
      "text/plain": [
       "1168"
      ]
     },
     "metadata": {},
     "output_type": "display_data"
    },
    {
     "data": {
      "text/html": [
       "<div>\n",
       "<style scoped>\n",
       "    .dataframe tbody tr th:only-of-type {\n",
       "        vertical-align: middle;\n",
       "    }\n",
       "\n",
       "    .dataframe tbody tr th {\n",
       "        vertical-align: top;\n",
       "    }\n",
       "\n",
       "    .dataframe thead th {\n",
       "        text-align: right;\n",
       "    }\n",
       "</style>\n",
       "<table border=\"1\" class=\"dataframe\">\n",
       "  <thead>\n",
       "    <tr style=\"text-align: right;\">\n",
       "      <th></th>\n",
       "      <th>pvalue</th>\n",
       "      <th>precision</th>\n",
       "      <th>recall</th>\n",
       "      <th>f1score</th>\n",
       "      <th>TP</th>\n",
       "      <th>regulon_size</th>\n",
       "      <th>gene_set_size</th>\n",
       "      <th>n_regs</th>\n",
       "      <th>qvalue</th>\n",
       "    </tr>\n",
       "  </thead>\n",
       "  <tbody>\n",
       "    <tr>\n",
       "      <th>RpoD</th>\n",
       "      <td>0.000006</td>\n",
       "      <td>0.916667</td>\n",
       "      <td>0.009418</td>\n",
       "      <td>0.018644</td>\n",
       "      <td>11.0</td>\n",
       "      <td>1168.0</td>\n",
       "      <td>12.0</td>\n",
       "      <td>1.0</td>\n",
       "      <td>0.000006</td>\n",
       "    </tr>\n",
       "  </tbody>\n",
       "</table>\n",
       "</div>"
      ],
      "text/plain": [
       "        pvalue  precision    recall   f1score    TP  regulon_size  \\\n",
       "RpoD  0.000006   0.916667  0.009418  0.018644  11.0        1168.0   \n",
       "\n",
       "      gene_set_size  n_regs    qvalue  \n",
       "RpoD           12.0     1.0  0.000006  "
      ]
     },
     "metadata": {},
     "output_type": "display_data"
    },
    {
     "data": {
      "text/plain": [
       "'Crp-2'"
      ]
     },
     "metadata": {},
     "output_type": "display_data"
    },
    {
     "data": {
      "text/plain": [
       "-0.2351278968771998"
      ]
     },
     "metadata": {},
     "output_type": "display_data"
    },
    {
     "data": {
      "text/plain": [
       "8"
      ]
     },
     "metadata": {},
     "output_type": "display_data"
    },
    {
     "data": {
      "text/html": [
       "<div>\n",
       "<style scoped>\n",
       "    .dataframe tbody tr th:only-of-type {\n",
       "        vertical-align: middle;\n",
       "    }\n",
       "\n",
       "    .dataframe tbody tr th {\n",
       "        vertical-align: top;\n",
       "    }\n",
       "\n",
       "    .dataframe thead th {\n",
       "        text-align: right;\n",
       "    }\n",
       "</style>\n",
       "<table border=\"1\" class=\"dataframe\">\n",
       "  <thead>\n",
       "    <tr style=\"text-align: right;\">\n",
       "      <th></th>\n",
       "      <th>pvalue</th>\n",
       "      <th>precision</th>\n",
       "      <th>recall</th>\n",
       "      <th>f1score</th>\n",
       "      <th>TP</th>\n",
       "      <th>regulon_size</th>\n",
       "      <th>gene_set_size</th>\n",
       "      <th>n_regs</th>\n",
       "      <th>qvalue</th>\n",
       "    </tr>\n",
       "  </thead>\n",
       "  <tbody>\n",
       "    <tr>\n",
       "      <th>SgrS</th>\n",
       "      <td>0.000006</td>\n",
       "      <td>0.142857</td>\n",
       "      <td>0.375</td>\n",
       "      <td>0.206897</td>\n",
       "      <td>3.0</td>\n",
       "      <td>8.0</td>\n",
       "      <td>21.0</td>\n",
       "      <td>1.0</td>\n",
       "      <td>0.000006</td>\n",
       "    </tr>\n",
       "  </tbody>\n",
       "</table>\n",
       "</div>"
      ],
      "text/plain": [
       "        pvalue  precision  recall   f1score   TP  regulon_size  gene_set_size  \\\n",
       "SgrS  0.000006   0.142857   0.375  0.206897  3.0           8.0           21.0   \n",
       "\n",
       "      n_regs    qvalue  \n",
       "SgrS     1.0  0.000006  "
      ]
     },
     "metadata": {},
     "output_type": "display_data"
    },
    {
     "data": {
      "text/plain": [
       "'DhaR'"
      ]
     },
     "metadata": {},
     "output_type": "display_data"
    },
    {
     "data": {
      "text/plain": [
       "0.44496346365548267"
      ]
     },
     "metadata": {},
     "output_type": "display_data"
    },
    {
     "data": {
      "text/plain": [
       "8"
      ]
     },
     "metadata": {},
     "output_type": "display_data"
    },
    {
     "data": {
      "text/html": [
       "<div>\n",
       "<style scoped>\n",
       "    .dataframe tbody tr th:only-of-type {\n",
       "        vertical-align: middle;\n",
       "    }\n",
       "\n",
       "    .dataframe tbody tr th {\n",
       "        vertical-align: top;\n",
       "    }\n",
       "\n",
       "    .dataframe thead th {\n",
       "        text-align: right;\n",
       "    }\n",
       "</style>\n",
       "<table border=\"1\" class=\"dataframe\">\n",
       "  <thead>\n",
       "    <tr style=\"text-align: right;\">\n",
       "      <th></th>\n",
       "      <th>pvalue</th>\n",
       "      <th>precision</th>\n",
       "      <th>recall</th>\n",
       "      <th>f1score</th>\n",
       "      <th>TP</th>\n",
       "      <th>regulon_size</th>\n",
       "      <th>gene_set_size</th>\n",
       "      <th>n_regs</th>\n",
       "      <th>qvalue</th>\n",
       "    </tr>\n",
       "  </thead>\n",
       "  <tbody>\n",
       "    <tr>\n",
       "      <th>SgrS</th>\n",
       "      <td>3.638053e-09</td>\n",
       "      <td>0.307692</td>\n",
       "      <td>0.5</td>\n",
       "      <td>0.380952</td>\n",
       "      <td>4.0</td>\n",
       "      <td>8.0</td>\n",
       "      <td>13.0</td>\n",
       "      <td>1.0</td>\n",
       "      <td>3.638053e-09</td>\n",
       "    </tr>\n",
       "  </tbody>\n",
       "</table>\n",
       "</div>"
      ],
      "text/plain": [
       "            pvalue  precision  recall   f1score   TP  regulon_size  \\\n",
       "SgrS  3.638053e-09   0.307692     0.5  0.380952  4.0           8.0   \n",
       "\n",
       "      gene_set_size  n_regs        qvalue  \n",
       "SgrS           13.0     1.0  3.638053e-09  "
      ]
     },
     "metadata": {},
     "output_type": "display_data"
    },
    {
     "data": {
      "text/plain": [
       "'Crp-2'"
      ]
     },
     "metadata": {},
     "output_type": "display_data"
    },
    {
     "data": {
      "text/plain": [
       "0.2808146355653583"
      ]
     },
     "metadata": {},
     "output_type": "display_data"
    },
    {
     "data": {
      "text/plain": [
       "9"
      ]
     },
     "metadata": {},
     "output_type": "display_data"
    },
    {
     "data": {
      "text/html": [
       "<div>\n",
       "<style scoped>\n",
       "    .dataframe tbody tr th:only-of-type {\n",
       "        vertical-align: middle;\n",
       "    }\n",
       "\n",
       "    .dataframe tbody tr th {\n",
       "        vertical-align: top;\n",
       "    }\n",
       "\n",
       "    .dataframe thead th {\n",
       "        text-align: right;\n",
       "    }\n",
       "</style>\n",
       "<table border=\"1\" class=\"dataframe\">\n",
       "  <thead>\n",
       "    <tr style=\"text-align: right;\">\n",
       "      <th></th>\n",
       "      <th>pvalue</th>\n",
       "      <th>precision</th>\n",
       "      <th>recall</th>\n",
       "      <th>f1score</th>\n",
       "      <th>TP</th>\n",
       "      <th>regulon_size</th>\n",
       "      <th>gene_set_size</th>\n",
       "      <th>n_regs</th>\n",
       "      <th>qvalue</th>\n",
       "    </tr>\n",
       "  </thead>\n",
       "  <tbody>\n",
       "    <tr>\n",
       "      <th>Mlc</th>\n",
       "      <td>0.000009</td>\n",
       "      <td>0.142857</td>\n",
       "      <td>0.333333</td>\n",
       "      <td>0.2</td>\n",
       "      <td>3.0</td>\n",
       "      <td>9.0</td>\n",
       "      <td>21.0</td>\n",
       "      <td>1.0</td>\n",
       "      <td>0.000009</td>\n",
       "    </tr>\n",
       "  </tbody>\n",
       "</table>\n",
       "</div>"
      ],
      "text/plain": [
       "       pvalue  precision    recall  f1score   TP  regulon_size  gene_set_size  \\\n",
       "Mlc  0.000009   0.142857  0.333333      0.2  3.0           9.0           21.0   \n",
       "\n",
       "     n_regs    qvalue  \n",
       "Mlc     1.0  0.000009  "
      ]
     },
     "metadata": {},
     "output_type": "display_data"
    },
    {
     "data": {
      "text/plain": [
       "'DhaR'"
      ]
     },
     "metadata": {},
     "output_type": "display_data"
    },
    {
     "data": {
      "text/plain": [
       "0.3493026300490138"
      ]
     },
     "metadata": {},
     "output_type": "display_data"
    },
    {
     "data": {
      "text/plain": [
       "9"
      ]
     },
     "metadata": {},
     "output_type": "display_data"
    },
    {
     "data": {
      "text/html": [
       "<div>\n",
       "<style scoped>\n",
       "    .dataframe tbody tr th:only-of-type {\n",
       "        vertical-align: middle;\n",
       "    }\n",
       "\n",
       "    .dataframe tbody tr th {\n",
       "        vertical-align: top;\n",
       "    }\n",
       "\n",
       "    .dataframe thead th {\n",
       "        text-align: right;\n",
       "    }\n",
       "</style>\n",
       "<table border=\"1\" class=\"dataframe\">\n",
       "  <thead>\n",
       "    <tr style=\"text-align: right;\">\n",
       "      <th></th>\n",
       "      <th>pvalue</th>\n",
       "      <th>precision</th>\n",
       "      <th>recall</th>\n",
       "      <th>f1score</th>\n",
       "      <th>TP</th>\n",
       "      <th>regulon_size</th>\n",
       "      <th>gene_set_size</th>\n",
       "      <th>n_regs</th>\n",
       "      <th>qvalue</th>\n",
       "    </tr>\n",
       "  </thead>\n",
       "  <tbody>\n",
       "    <tr>\n",
       "      <th>Mlc</th>\n",
       "      <td>1.742599e-14</td>\n",
       "      <td>0.461538</td>\n",
       "      <td>0.666667</td>\n",
       "      <td>0.545455</td>\n",
       "      <td>6.0</td>\n",
       "      <td>9.0</td>\n",
       "      <td>13.0</td>\n",
       "      <td>1.0</td>\n",
       "      <td>1.742599e-14</td>\n",
       "    </tr>\n",
       "  </tbody>\n",
       "</table>\n",
       "</div>"
      ],
      "text/plain": [
       "           pvalue  precision    recall   f1score   TP  regulon_size  \\\n",
       "Mlc  1.742599e-14   0.461538  0.666667  0.545455  6.0           9.0   \n",
       "\n",
       "     gene_set_size  n_regs        qvalue  \n",
       "Mlc           13.0     1.0  1.742599e-14  "
      ]
     },
     "metadata": {},
     "output_type": "display_data"
    },
    {
     "data": {
      "text/plain": [
       "'pts KO'"
      ]
     },
     "metadata": {},
     "output_type": "display_data"
    },
    {
     "data": {
      "text/plain": [
       "0.5645827069560814"
      ]
     },
     "metadata": {},
     "output_type": "display_data"
    },
    {
     "data": {
      "text/plain": [
       "9"
      ]
     },
     "metadata": {},
     "output_type": "display_data"
    },
    {
     "data": {
      "text/html": [
       "<div>\n",
       "<style scoped>\n",
       "    .dataframe tbody tr th:only-of-type {\n",
       "        vertical-align: middle;\n",
       "    }\n",
       "\n",
       "    .dataframe tbody tr th {\n",
       "        vertical-align: top;\n",
       "    }\n",
       "\n",
       "    .dataframe thead th {\n",
       "        text-align: right;\n",
       "    }\n",
       "</style>\n",
       "<table border=\"1\" class=\"dataframe\">\n",
       "  <thead>\n",
       "    <tr style=\"text-align: right;\">\n",
       "      <th></th>\n",
       "      <th>pvalue</th>\n",
       "      <th>precision</th>\n",
       "      <th>recall</th>\n",
       "      <th>f1score</th>\n",
       "      <th>TP</th>\n",
       "      <th>regulon_size</th>\n",
       "      <th>gene_set_size</th>\n",
       "      <th>n_regs</th>\n",
       "      <th>qvalue</th>\n",
       "    </tr>\n",
       "  </thead>\n",
       "  <tbody>\n",
       "    <tr>\n",
       "      <th>Mlc</th>\n",
       "      <td>0.000002</td>\n",
       "      <td>0.230769</td>\n",
       "      <td>0.333333</td>\n",
       "      <td>0.272727</td>\n",
       "      <td>3.0</td>\n",
       "      <td>9.0</td>\n",
       "      <td>13.0</td>\n",
       "      <td>1.0</td>\n",
       "      <td>0.000002</td>\n",
       "    </tr>\n",
       "  </tbody>\n",
       "</table>\n",
       "</div>"
      ],
      "text/plain": [
       "       pvalue  precision    recall   f1score   TP  regulon_size  \\\n",
       "Mlc  0.000002   0.230769  0.333333  0.272727  3.0           9.0   \n",
       "\n",
       "     gene_set_size  n_regs    qvalue  \n",
       "Mlc           13.0     1.0  0.000002  "
      ]
     },
     "metadata": {},
     "output_type": "display_data"
    },
    {
     "data": {
      "text/plain": [
       "'Curli-1'"
      ]
     },
     "metadata": {},
     "output_type": "display_data"
    },
    {
     "data": {
      "text/plain": [
       "0.15284155135056723"
      ]
     },
     "metadata": {},
     "output_type": "display_data"
    },
    {
     "data": {
      "text/plain": [
       "9"
      ]
     },
     "metadata": {},
     "output_type": "display_data"
    },
    {
     "data": {
      "text/html": [
       "<div>\n",
       "<style scoped>\n",
       "    .dataframe tbody tr th:only-of-type {\n",
       "        vertical-align: middle;\n",
       "    }\n",
       "\n",
       "    .dataframe tbody tr th {\n",
       "        vertical-align: top;\n",
       "    }\n",
       "\n",
       "    .dataframe thead th {\n",
       "        text-align: right;\n",
       "    }\n",
       "</style>\n",
       "<table border=\"1\" class=\"dataframe\">\n",
       "  <thead>\n",
       "    <tr style=\"text-align: right;\">\n",
       "      <th></th>\n",
       "      <th>pvalue</th>\n",
       "      <th>precision</th>\n",
       "      <th>recall</th>\n",
       "      <th>f1score</th>\n",
       "      <th>TP</th>\n",
       "      <th>regulon_size</th>\n",
       "      <th>gene_set_size</th>\n",
       "      <th>n_regs</th>\n",
       "      <th>qvalue</th>\n",
       "    </tr>\n",
       "  </thead>\n",
       "  <tbody>\n",
       "    <tr>\n",
       "      <th>RybB</th>\n",
       "      <td>1.380554e-10</td>\n",
       "      <td>0.666667</td>\n",
       "      <td>0.444444</td>\n",
       "      <td>0.533333</td>\n",
       "      <td>4.0</td>\n",
       "      <td>9.0</td>\n",
       "      <td>6.0</td>\n",
       "      <td>1.0</td>\n",
       "      <td>1.380554e-10</td>\n",
       "    </tr>\n",
       "  </tbody>\n",
       "</table>\n",
       "</div>"
      ],
      "text/plain": [
       "            pvalue  precision    recall   f1score   TP  regulon_size  \\\n",
       "RybB  1.380554e-10   0.666667  0.444444  0.533333  4.0           9.0   \n",
       "\n",
       "      gene_set_size  n_regs        qvalue  \n",
       "RybB            6.0     1.0  1.380554e-10  "
      ]
     },
     "metadata": {},
     "output_type": "display_data"
    },
    {
     "data": {
      "text/plain": [
       "'Translation'"
      ]
     },
     "metadata": {},
     "output_type": "display_data"
    },
    {
     "data": {
      "text/plain": [
       "0.9397322000419751"
      ]
     },
     "metadata": {},
     "output_type": "display_data"
    },
    {
     "data": {
      "text/plain": [
       "12"
      ]
     },
     "metadata": {},
     "output_type": "display_data"
    },
    {
     "data": {
      "text/html": [
       "<div>\n",
       "<style scoped>\n",
       "    .dataframe tbody tr th:only-of-type {\n",
       "        vertical-align: middle;\n",
       "    }\n",
       "\n",
       "    .dataframe tbody tr th {\n",
       "        vertical-align: top;\n",
       "    }\n",
       "\n",
       "    .dataframe thead th {\n",
       "        text-align: right;\n",
       "    }\n",
       "</style>\n",
       "<table border=\"1\" class=\"dataframe\">\n",
       "  <thead>\n",
       "    <tr style=\"text-align: right;\">\n",
       "      <th></th>\n",
       "      <th>pvalue</th>\n",
       "      <th>precision</th>\n",
       "      <th>recall</th>\n",
       "      <th>f1score</th>\n",
       "      <th>TP</th>\n",
       "      <th>regulon_size</th>\n",
       "      <th>gene_set_size</th>\n",
       "      <th>n_regs</th>\n",
       "      <th>qvalue</th>\n",
       "    </tr>\n",
       "  </thead>\n",
       "  <tbody>\n",
       "    <tr>\n",
       "      <th>RpsH</th>\n",
       "      <td>3.664299e-24</td>\n",
       "      <td>0.226415</td>\n",
       "      <td>1.0</td>\n",
       "      <td>0.369231</td>\n",
       "      <td>12.0</td>\n",
       "      <td>12.0</td>\n",
       "      <td>53.0</td>\n",
       "      <td>1.0</td>\n",
       "      <td>3.664299e-24</td>\n",
       "    </tr>\n",
       "  </tbody>\n",
       "</table>\n",
       "</div>"
      ],
      "text/plain": [
       "            pvalue  precision  recall   f1score    TP  regulon_size  \\\n",
       "RpsH  3.664299e-24   0.226415     1.0  0.369231  12.0          12.0   \n",
       "\n",
       "      gene_set_size  n_regs        qvalue  \n",
       "RpsH           53.0     1.0  3.664299e-24  "
      ]
     },
     "metadata": {},
     "output_type": "display_data"
    },
    {
     "data": {
      "text/plain": [
       "'Translation'"
      ]
     },
     "metadata": {},
     "output_type": "display_data"
    },
    {
     "data": {
      "text/plain": [
       "0.9397322000419751"
      ]
     },
     "metadata": {},
     "output_type": "display_data"
    },
    {
     "data": {
      "text/plain": [
       "12"
      ]
     },
     "metadata": {},
     "output_type": "display_data"
    },
    {
     "data": {
      "text/html": [
       "<div>\n",
       "<style scoped>\n",
       "    .dataframe tbody tr th:only-of-type {\n",
       "        vertical-align: middle;\n",
       "    }\n",
       "\n",
       "    .dataframe tbody tr th {\n",
       "        vertical-align: top;\n",
       "    }\n",
       "\n",
       "    .dataframe thead th {\n",
       "        text-align: right;\n",
       "    }\n",
       "</style>\n",
       "<table border=\"1\" class=\"dataframe\">\n",
       "  <thead>\n",
       "    <tr style=\"text-align: right;\">\n",
       "      <th></th>\n",
       "      <th>pvalue</th>\n",
       "      <th>precision</th>\n",
       "      <th>recall</th>\n",
       "      <th>f1score</th>\n",
       "      <th>TP</th>\n",
       "      <th>regulon_size</th>\n",
       "      <th>gene_set_size</th>\n",
       "      <th>n_regs</th>\n",
       "      <th>qvalue</th>\n",
       "    </tr>\n",
       "  </thead>\n",
       "  <tbody>\n",
       "    <tr>\n",
       "      <th>RpsH</th>\n",
       "      <td>3.664299e-24</td>\n",
       "      <td>0.226415</td>\n",
       "      <td>1.0</td>\n",
       "      <td>0.369231</td>\n",
       "      <td>12.0</td>\n",
       "      <td>12.0</td>\n",
       "      <td>53.0</td>\n",
       "      <td>1.0</td>\n",
       "      <td>3.664299e-24</td>\n",
       "    </tr>\n",
       "  </tbody>\n",
       "</table>\n",
       "</div>"
      ],
      "text/plain": [
       "            pvalue  precision  recall   f1score    TP  regulon_size  \\\n",
       "RpsH  3.664299e-24   0.226415     1.0  0.369231  12.0          12.0   \n",
       "\n",
       "      gene_set_size  n_regs        qvalue  \n",
       "RpsH           53.0     1.0  3.664299e-24  "
      ]
     },
     "metadata": {},
     "output_type": "display_data"
    },
    {
     "data": {
      "text/plain": [
       "'ytiC'"
      ]
     },
     "metadata": {},
     "output_type": "display_data"
    },
    {
     "data": {
      "text/plain": [
       "0.11617527284432994"
      ]
     },
     "metadata": {},
     "output_type": "display_data"
    },
    {
     "data": {
      "text/plain": [
       "10"
      ]
     },
     "metadata": {},
     "output_type": "display_data"
    },
    {
     "data": {
      "text/html": [
       "<div>\n",
       "<style scoped>\n",
       "    .dataframe tbody tr th:only-of-type {\n",
       "        vertical-align: middle;\n",
       "    }\n",
       "\n",
       "    .dataframe tbody tr th {\n",
       "        vertical-align: top;\n",
       "    }\n",
       "\n",
       "    .dataframe thead th {\n",
       "        text-align: right;\n",
       "    }\n",
       "</style>\n",
       "<table border=\"1\" class=\"dataframe\">\n",
       "  <thead>\n",
       "    <tr style=\"text-align: right;\">\n",
       "      <th></th>\n",
       "      <th>pvalue</th>\n",
       "      <th>precision</th>\n",
       "      <th>recall</th>\n",
       "      <th>f1score</th>\n",
       "      <th>TP</th>\n",
       "      <th>regulon_size</th>\n",
       "      <th>gene_set_size</th>\n",
       "      <th>n_regs</th>\n",
       "      <th>qvalue</th>\n",
       "    </tr>\n",
       "  </thead>\n",
       "  <tbody>\n",
       "    <tr>\n",
       "      <th>CsrA</th>\n",
       "      <td>0.000005</td>\n",
       "      <td>1.0</td>\n",
       "      <td>0.2</td>\n",
       "      <td>0.333333</td>\n",
       "      <td>2.0</td>\n",
       "      <td>10.0</td>\n",
       "      <td>2.0</td>\n",
       "      <td>1.0</td>\n",
       "      <td>0.000005</td>\n",
       "    </tr>\n",
       "  </tbody>\n",
       "</table>\n",
       "</div>"
      ],
      "text/plain": [
       "        pvalue  precision  recall   f1score   TP  regulon_size  gene_set_size  \\\n",
       "CsrA  0.000005        1.0     0.2  0.333333  2.0          10.0            2.0   \n",
       "\n",
       "      n_regs    qvalue  \n",
       "CsrA     1.0  0.000005  "
      ]
     },
     "metadata": {},
     "output_type": "display_data"
    },
    {
     "data": {
      "text/plain": [
       "'RpoE'"
      ]
     },
     "metadata": {},
     "output_type": "display_data"
    },
    {
     "data": {
      "text/plain": [
       "-0.2813347286905255"
      ]
     },
     "metadata": {},
     "output_type": "display_data"
    },
    {
     "data": {
      "text/plain": [
       "5"
      ]
     },
     "metadata": {},
     "output_type": "display_data"
    },
    {
     "data": {
      "text/html": [
       "<div>\n",
       "<style scoped>\n",
       "    .dataframe tbody tr th:only-of-type {\n",
       "        vertical-align: middle;\n",
       "    }\n",
       "\n",
       "    .dataframe tbody tr th {\n",
       "        vertical-align: top;\n",
       "    }\n",
       "\n",
       "    .dataframe thead th {\n",
       "        text-align: right;\n",
       "    }\n",
       "</style>\n",
       "<table border=\"1\" class=\"dataframe\">\n",
       "  <thead>\n",
       "    <tr style=\"text-align: right;\">\n",
       "      <th></th>\n",
       "      <th>pvalue</th>\n",
       "      <th>precision</th>\n",
       "      <th>recall</th>\n",
       "      <th>f1score</th>\n",
       "      <th>TP</th>\n",
       "      <th>regulon_size</th>\n",
       "      <th>gene_set_size</th>\n",
       "      <th>n_regs</th>\n",
       "      <th>qvalue</th>\n",
       "    </tr>\n",
       "  </thead>\n",
       "  <tbody>\n",
       "    <tr>\n",
       "      <th>GlrR</th>\n",
       "      <td>2.611855e-10</td>\n",
       "      <td>0.307692</td>\n",
       "      <td>0.8</td>\n",
       "      <td>0.444444</td>\n",
       "      <td>4.0</td>\n",
       "      <td>5.0</td>\n",
       "      <td>13.0</td>\n",
       "      <td>1.0</td>\n",
       "      <td>2.611855e-10</td>\n",
       "    </tr>\n",
       "  </tbody>\n",
       "</table>\n",
       "</div>"
      ],
      "text/plain": [
       "            pvalue  precision  recall   f1score   TP  regulon_size  \\\n",
       "GlrR  2.611855e-10   0.307692     0.8  0.444444  4.0           5.0   \n",
       "\n",
       "      gene_set_size  n_regs        qvalue  \n",
       "GlrR           13.0     1.0  2.611855e-10  "
      ]
     },
     "metadata": {},
     "output_type": "display_data"
    },
    {
     "data": {
      "text/plain": [
       "'Curli-1'"
      ]
     },
     "metadata": {},
     "output_type": "display_data"
    },
    {
     "data": {
      "text/plain": [
       "0.17954551331117707"
      ]
     },
     "metadata": {},
     "output_type": "display_data"
    },
    {
     "data": {
      "text/plain": [
       "6"
      ]
     },
     "metadata": {},
     "output_type": "display_data"
    },
    {
     "data": {
      "text/html": [
       "<div>\n",
       "<style scoped>\n",
       "    .dataframe tbody tr th:only-of-type {\n",
       "        vertical-align: middle;\n",
       "    }\n",
       "\n",
       "    .dataframe tbody tr th {\n",
       "        vertical-align: top;\n",
       "    }\n",
       "\n",
       "    .dataframe thead th {\n",
       "        text-align: right;\n",
       "    }\n",
       "</style>\n",
       "<table border=\"1\" class=\"dataframe\">\n",
       "  <thead>\n",
       "    <tr style=\"text-align: right;\">\n",
       "      <th></th>\n",
       "      <th>pvalue</th>\n",
       "      <th>precision</th>\n",
       "      <th>recall</th>\n",
       "      <th>f1score</th>\n",
       "      <th>TP</th>\n",
       "      <th>regulon_size</th>\n",
       "      <th>gene_set_size</th>\n",
       "      <th>n_regs</th>\n",
       "      <th>qvalue</th>\n",
       "    </tr>\n",
       "  </thead>\n",
       "  <tbody>\n",
       "    <tr>\n",
       "      <th>McaS</th>\n",
       "      <td>1.645374e-11</td>\n",
       "      <td>0.666667</td>\n",
       "      <td>0.666667</td>\n",
       "      <td>0.666667</td>\n",
       "      <td>4.0</td>\n",
       "      <td>6.0</td>\n",
       "      <td>6.0</td>\n",
       "      <td>1.0</td>\n",
       "      <td>1.645374e-11</td>\n",
       "    </tr>\n",
       "  </tbody>\n",
       "</table>\n",
       "</div>"
      ],
      "text/plain": [
       "            pvalue  precision    recall   f1score   TP  regulon_size  \\\n",
       "McaS  1.645374e-11   0.666667  0.666667  0.666667  4.0           6.0   \n",
       "\n",
       "      gene_set_size  n_regs        qvalue  \n",
       "McaS            6.0     1.0  1.645374e-11  "
      ]
     },
     "metadata": {},
     "output_type": "display_data"
    },
    {
     "data": {
      "text/plain": [
       "'Curli-1'"
      ]
     },
     "metadata": {},
     "output_type": "display_data"
    },
    {
     "data": {
      "text/plain": [
       "0.4501421746256747"
      ]
     },
     "metadata": {},
     "output_type": "display_data"
    },
    {
     "data": {
      "text/plain": [
       "12"
      ]
     },
     "metadata": {},
     "output_type": "display_data"
    },
    {
     "data": {
      "text/html": [
       "<div>\n",
       "<style scoped>\n",
       "    .dataframe tbody tr th:only-of-type {\n",
       "        vertical-align: middle;\n",
       "    }\n",
       "\n",
       "    .dataframe tbody tr th {\n",
       "        vertical-align: top;\n",
       "    }\n",
       "\n",
       "    .dataframe thead th {\n",
       "        text-align: right;\n",
       "    }\n",
       "</style>\n",
       "<table border=\"1\" class=\"dataframe\">\n",
       "  <thead>\n",
       "    <tr style=\"text-align: right;\">\n",
       "      <th></th>\n",
       "      <th>pvalue</th>\n",
       "      <th>precision</th>\n",
       "      <th>recall</th>\n",
       "      <th>f1score</th>\n",
       "      <th>TP</th>\n",
       "      <th>regulon_size</th>\n",
       "      <th>gene_set_size</th>\n",
       "      <th>n_regs</th>\n",
       "      <th>qvalue</th>\n",
       "    </tr>\n",
       "  </thead>\n",
       "  <tbody>\n",
       "    <tr>\n",
       "      <th>OmrB</th>\n",
       "      <td>5.417479e-10</td>\n",
       "      <td>0.666667</td>\n",
       "      <td>0.333333</td>\n",
       "      <td>0.444444</td>\n",
       "      <td>4.0</td>\n",
       "      <td>12.0</td>\n",
       "      <td>6.0</td>\n",
       "      <td>1.0</td>\n",
       "      <td>5.417479e-10</td>\n",
       "    </tr>\n",
       "  </tbody>\n",
       "</table>\n",
       "</div>"
      ],
      "text/plain": [
       "            pvalue  precision    recall   f1score   TP  regulon_size  \\\n",
       "OmrB  5.417479e-10   0.666667  0.333333  0.444444  4.0          12.0   \n",
       "\n",
       "      gene_set_size  n_regs        qvalue  \n",
       "OmrB            6.0     1.0  5.417479e-10  "
      ]
     },
     "metadata": {},
     "output_type": "display_data"
    },
    {
     "data": {
      "text/plain": [
       "'Curli-1'"
      ]
     },
     "metadata": {},
     "output_type": "display_data"
    },
    {
     "data": {
      "text/plain": [
       "0.2899842194872865"
      ]
     },
     "metadata": {},
     "output_type": "display_data"
    },
    {
     "data": {
      "text/plain": [
       "12"
      ]
     },
     "metadata": {},
     "output_type": "display_data"
    },
    {
     "data": {
      "text/html": [
       "<div>\n",
       "<style scoped>\n",
       "    .dataframe tbody tr th:only-of-type {\n",
       "        vertical-align: middle;\n",
       "    }\n",
       "\n",
       "    .dataframe tbody tr th {\n",
       "        vertical-align: top;\n",
       "    }\n",
       "\n",
       "    .dataframe thead th {\n",
       "        text-align: right;\n",
       "    }\n",
       "</style>\n",
       "<table border=\"1\" class=\"dataframe\">\n",
       "  <thead>\n",
       "    <tr style=\"text-align: right;\">\n",
       "      <th></th>\n",
       "      <th>pvalue</th>\n",
       "      <th>precision</th>\n",
       "      <th>recall</th>\n",
       "      <th>f1score</th>\n",
       "      <th>TP</th>\n",
       "      <th>regulon_size</th>\n",
       "      <th>gene_set_size</th>\n",
       "      <th>n_regs</th>\n",
       "      <th>qvalue</th>\n",
       "    </tr>\n",
       "  </thead>\n",
       "  <tbody>\n",
       "    <tr>\n",
       "      <th>OmrA</th>\n",
       "      <td>5.417479e-10</td>\n",
       "      <td>0.666667</td>\n",
       "      <td>0.333333</td>\n",
       "      <td>0.444444</td>\n",
       "      <td>4.0</td>\n",
       "      <td>12.0</td>\n",
       "      <td>6.0</td>\n",
       "      <td>1.0</td>\n",
       "      <td>5.417479e-10</td>\n",
       "    </tr>\n",
       "  </tbody>\n",
       "</table>\n",
       "</div>"
      ],
      "text/plain": [
       "            pvalue  precision    recall   f1score   TP  regulon_size  \\\n",
       "OmrA  5.417479e-10   0.666667  0.333333  0.444444  4.0          12.0   \n",
       "\n",
       "      gene_set_size  n_regs        qvalue  \n",
       "OmrA            6.0     1.0  5.417479e-10  "
      ]
     },
     "metadata": {},
     "output_type": "display_data"
    },
    {
     "data": {
      "text/plain": [
       "'FlhDC-2'"
      ]
     },
     "metadata": {},
     "output_type": "display_data"
    },
    {
     "data": {
      "text/plain": [
       "0.4266183105141794"
      ]
     },
     "metadata": {},
     "output_type": "display_data"
    },
    {
     "data": {
      "text/plain": [
       "7"
      ]
     },
     "metadata": {},
     "output_type": "display_data"
    },
    {
     "data": {
      "text/html": [
       "<div>\n",
       "<style scoped>\n",
       "    .dataframe tbody tr th:only-of-type {\n",
       "        vertical-align: middle;\n",
       "    }\n",
       "\n",
       "    .dataframe tbody tr th {\n",
       "        vertical-align: top;\n",
       "    }\n",
       "\n",
       "    .dataframe thead th {\n",
       "        text-align: right;\n",
       "    }\n",
       "</style>\n",
       "<table border=\"1\" class=\"dataframe\">\n",
       "  <thead>\n",
       "    <tr style=\"text-align: right;\">\n",
       "      <th></th>\n",
       "      <th>pvalue</th>\n",
       "      <th>precision</th>\n",
       "      <th>recall</th>\n",
       "      <th>f1score</th>\n",
       "      <th>TP</th>\n",
       "      <th>regulon_size</th>\n",
       "      <th>gene_set_size</th>\n",
       "      <th>n_regs</th>\n",
       "      <th>qvalue</th>\n",
       "    </tr>\n",
       "  </thead>\n",
       "  <tbody>\n",
       "    <tr>\n",
       "      <th>MatA</th>\n",
       "      <td>3.091970e-07</td>\n",
       "      <td>0.093023</td>\n",
       "      <td>0.571429</td>\n",
       "      <td>0.16</td>\n",
       "      <td>4.0</td>\n",
       "      <td>7.0</td>\n",
       "      <td>43.0</td>\n",
       "      <td>1.0</td>\n",
       "      <td>3.091970e-07</td>\n",
       "    </tr>\n",
       "  </tbody>\n",
       "</table>\n",
       "</div>"
      ],
      "text/plain": [
       "            pvalue  precision    recall  f1score   TP  regulon_size  \\\n",
       "MatA  3.091970e-07   0.093023  0.571429     0.16  4.0           7.0   \n",
       "\n",
       "      gene_set_size  n_regs        qvalue  \n",
       "MatA           43.0     1.0  3.091970e-07  "
      ]
     },
     "metadata": {},
     "output_type": "display_data"
    },
    {
     "data": {
      "text/plain": [
       "'Curli-1'"
      ]
     },
     "metadata": {},
     "output_type": "display_data"
    },
    {
     "data": {
      "text/plain": [
       "0.1608306246435001"
      ]
     },
     "metadata": {},
     "output_type": "display_data"
    },
    {
     "data": {
      "text/plain": [
       "8"
      ]
     },
     "metadata": {},
     "output_type": "display_data"
    },
    {
     "data": {
      "text/html": [
       "<div>\n",
       "<style scoped>\n",
       "    .dataframe tbody tr th:only-of-type {\n",
       "        vertical-align: middle;\n",
       "    }\n",
       "\n",
       "    .dataframe tbody tr th {\n",
       "        vertical-align: top;\n",
       "    }\n",
       "\n",
       "    .dataframe thead th {\n",
       "        text-align: right;\n",
       "    }\n",
       "</style>\n",
       "<table border=\"1\" class=\"dataframe\">\n",
       "  <thead>\n",
       "    <tr style=\"text-align: right;\">\n",
       "      <th></th>\n",
       "      <th>pvalue</th>\n",
       "      <th>precision</th>\n",
       "      <th>recall</th>\n",
       "      <th>f1score</th>\n",
       "      <th>TP</th>\n",
       "      <th>regulon_size</th>\n",
       "      <th>gene_set_size</th>\n",
       "      <th>n_regs</th>\n",
       "      <th>qvalue</th>\n",
       "    </tr>\n",
       "  </thead>\n",
       "  <tbody>\n",
       "    <tr>\n",
       "      <th>RprA</th>\n",
       "      <td>7.672632e-11</td>\n",
       "      <td>0.666667</td>\n",
       "      <td>0.5</td>\n",
       "      <td>0.571429</td>\n",
       "      <td>4.0</td>\n",
       "      <td>8.0</td>\n",
       "      <td>6.0</td>\n",
       "      <td>1.0</td>\n",
       "      <td>7.672632e-11</td>\n",
       "    </tr>\n",
       "  </tbody>\n",
       "</table>\n",
       "</div>"
      ],
      "text/plain": [
       "            pvalue  precision  recall   f1score   TP  regulon_size  \\\n",
       "RprA  7.672632e-11   0.666667     0.5  0.571429  4.0           8.0   \n",
       "\n",
       "      gene_set_size  n_regs        qvalue  \n",
       "RprA            6.0     1.0  7.672632e-11  "
      ]
     },
     "metadata": {},
     "output_type": "display_data"
    },
    {
     "data": {
      "text/plain": [
       "'Curli-1'"
      ]
     },
     "metadata": {},
     "output_type": "display_data"
    },
    {
     "data": {
      "text/plain": [
       "0.4234752067820153"
      ]
     },
     "metadata": {},
     "output_type": "display_data"
    },
    {
     "data": {
      "text/plain": [
       "8"
      ]
     },
     "metadata": {},
     "output_type": "display_data"
    },
    {
     "data": {
      "text/html": [
       "<div>\n",
       "<style scoped>\n",
       "    .dataframe tbody tr th:only-of-type {\n",
       "        vertical-align: middle;\n",
       "    }\n",
       "\n",
       "    .dataframe tbody tr th {\n",
       "        vertical-align: top;\n",
       "    }\n",
       "\n",
       "    .dataframe thead th {\n",
       "        text-align: right;\n",
       "    }\n",
       "</style>\n",
       "<table border=\"1\" class=\"dataframe\">\n",
       "  <thead>\n",
       "    <tr style=\"text-align: right;\">\n",
       "      <th></th>\n",
       "      <th>pvalue</th>\n",
       "      <th>precision</th>\n",
       "      <th>recall</th>\n",
       "      <th>f1score</th>\n",
       "      <th>TP</th>\n",
       "      <th>regulon_size</th>\n",
       "      <th>gene_set_size</th>\n",
       "      <th>n_regs</th>\n",
       "      <th>qvalue</th>\n",
       "    </tr>\n",
       "  </thead>\n",
       "  <tbody>\n",
       "    <tr>\n",
       "      <th>MqsA</th>\n",
       "      <td>7.672632e-11</td>\n",
       "      <td>0.666667</td>\n",
       "      <td>0.5</td>\n",
       "      <td>0.571429</td>\n",
       "      <td>4.0</td>\n",
       "      <td>8.0</td>\n",
       "      <td>6.0</td>\n",
       "      <td>1.0</td>\n",
       "      <td>7.672632e-11</td>\n",
       "    </tr>\n",
       "  </tbody>\n",
       "</table>\n",
       "</div>"
      ],
      "text/plain": [
       "            pvalue  precision  recall   f1score   TP  regulon_size  \\\n",
       "MqsA  7.672632e-11   0.666667     0.5  0.571429  4.0           8.0   \n",
       "\n",
       "      gene_set_size  n_regs        qvalue  \n",
       "MqsA            6.0     1.0  7.672632e-11  "
      ]
     },
     "metadata": {},
     "output_type": "display_data"
    },
    {
     "data": {
      "text/plain": [
       "'Curli-1'"
      ]
     },
     "metadata": {},
     "output_type": "display_data"
    },
    {
     "data": {
      "text/plain": [
       "-0.2737706223396476"
      ]
     },
     "metadata": {},
     "output_type": "display_data"
    },
    {
     "data": {
      "text/plain": [
       "10"
      ]
     },
     "metadata": {},
     "output_type": "display_data"
    },
    {
     "data": {
      "text/html": [
       "<div>\n",
       "<style scoped>\n",
       "    .dataframe tbody tr th:only-of-type {\n",
       "        vertical-align: middle;\n",
       "    }\n",
       "\n",
       "    .dataframe tbody tr th {\n",
       "        vertical-align: top;\n",
       "    }\n",
       "\n",
       "    .dataframe thead th {\n",
       "        text-align: right;\n",
       "    }\n",
       "</style>\n",
       "<table border=\"1\" class=\"dataframe\">\n",
       "  <thead>\n",
       "    <tr style=\"text-align: right;\">\n",
       "      <th></th>\n",
       "      <th>pvalue</th>\n",
       "      <th>precision</th>\n",
       "      <th>recall</th>\n",
       "      <th>f1score</th>\n",
       "      <th>TP</th>\n",
       "      <th>regulon_size</th>\n",
       "      <th>gene_set_size</th>\n",
       "      <th>n_regs</th>\n",
       "      <th>qvalue</th>\n",
       "    </tr>\n",
       "  </thead>\n",
       "  <tbody>\n",
       "    <tr>\n",
       "      <th>MlrA</th>\n",
       "      <td>2.300057e-10</td>\n",
       "      <td>0.666667</td>\n",
       "      <td>0.4</td>\n",
       "      <td>0.5</td>\n",
       "      <td>4.0</td>\n",
       "      <td>10.0</td>\n",
       "      <td>6.0</td>\n",
       "      <td>1.0</td>\n",
       "      <td>2.300057e-10</td>\n",
       "    </tr>\n",
       "  </tbody>\n",
       "</table>\n",
       "</div>"
      ],
      "text/plain": [
       "            pvalue  precision  recall  f1score   TP  regulon_size  \\\n",
       "MlrA  2.300057e-10   0.666667     0.4      0.5  4.0          10.0   \n",
       "\n",
       "      gene_set_size  n_regs        qvalue  \n",
       "MlrA            6.0     1.0  2.300057e-10  "
      ]
     },
     "metadata": {},
     "output_type": "display_data"
    },
    {
     "data": {
      "text/plain": [
       "'Curli-1'"
      ]
     },
     "metadata": {},
     "output_type": "display_data"
    },
    {
     "data": {
      "text/plain": [
       "0.3993631491989946"
      ]
     },
     "metadata": {},
     "output_type": "display_data"
    },
    {
     "data": {
      "text/plain": [
       "14"
      ]
     },
     "metadata": {},
     "output_type": "display_data"
    },
    {
     "data": {
      "text/html": [
       "<div>\n",
       "<style scoped>\n",
       "    .dataframe tbody tr th:only-of-type {\n",
       "        vertical-align: middle;\n",
       "    }\n",
       "\n",
       "    .dataframe tbody tr th {\n",
       "        vertical-align: top;\n",
       "    }\n",
       "\n",
       "    .dataframe thead th {\n",
       "        text-align: right;\n",
       "    }\n",
       "</style>\n",
       "<table border=\"1\" class=\"dataframe\">\n",
       "  <thead>\n",
       "    <tr style=\"text-align: right;\">\n",
       "      <th></th>\n",
       "      <th>pvalue</th>\n",
       "      <th>precision</th>\n",
       "      <th>recall</th>\n",
       "      <th>f1score</th>\n",
       "      <th>TP</th>\n",
       "      <th>regulon_size</th>\n",
       "      <th>gene_set_size</th>\n",
       "      <th>n_regs</th>\n",
       "      <th>qvalue</th>\n",
       "    </tr>\n",
       "  </thead>\n",
       "  <tbody>\n",
       "    <tr>\n",
       "      <th>RcdA</th>\n",
       "      <td>1.094709e-09</td>\n",
       "      <td>0.666667</td>\n",
       "      <td>0.285714</td>\n",
       "      <td>0.4</td>\n",
       "      <td>4.0</td>\n",
       "      <td>14.0</td>\n",
       "      <td>6.0</td>\n",
       "      <td>1.0</td>\n",
       "      <td>1.094709e-09</td>\n",
       "    </tr>\n",
       "  </tbody>\n",
       "</table>\n",
       "</div>"
      ],
      "text/plain": [
       "            pvalue  precision    recall  f1score   TP  regulon_size  \\\n",
       "RcdA  1.094709e-09   0.666667  0.285714      0.4  4.0          14.0   \n",
       "\n",
       "      gene_set_size  n_regs        qvalue  \n",
       "RcdA            6.0     1.0  1.094709e-09  "
      ]
     },
     "metadata": {},
     "output_type": "display_data"
    },
    {
     "data": {
      "text/plain": [
       "'Curli-1'"
      ]
     },
     "metadata": {},
     "output_type": "display_data"
    },
    {
     "data": {
      "text/plain": [
       "-0.42389676437742324"
      ]
     },
     "metadata": {},
     "output_type": "display_data"
    },
    {
     "data": {
      "text/plain": [
       "5"
      ]
     },
     "metadata": {},
     "output_type": "display_data"
    },
    {
     "data": {
      "text/html": [
       "<div>\n",
       "<style scoped>\n",
       "    .dataframe tbody tr th:only-of-type {\n",
       "        vertical-align: middle;\n",
       "    }\n",
       "\n",
       "    .dataframe tbody tr th {\n",
       "        vertical-align: top;\n",
       "    }\n",
       "\n",
       "    .dataframe thead th {\n",
       "        text-align: right;\n",
       "    }\n",
       "</style>\n",
       "<table border=\"1\" class=\"dataframe\">\n",
       "  <thead>\n",
       "    <tr style=\"text-align: right;\">\n",
       "      <th></th>\n",
       "      <th>pvalue</th>\n",
       "      <th>precision</th>\n",
       "      <th>recall</th>\n",
       "      <th>f1score</th>\n",
       "      <th>TP</th>\n",
       "      <th>regulon_size</th>\n",
       "      <th>gene_set_size</th>\n",
       "      <th>n_regs</th>\n",
       "      <th>qvalue</th>\n",
       "    </tr>\n",
       "  </thead>\n",
       "  <tbody>\n",
       "    <tr>\n",
       "      <th>RstA</th>\n",
       "      <td>5.486644e-12</td>\n",
       "      <td>0.666667</td>\n",
       "      <td>0.8</td>\n",
       "      <td>0.727273</td>\n",
       "      <td>4.0</td>\n",
       "      <td>5.0</td>\n",
       "      <td>6.0</td>\n",
       "      <td>1.0</td>\n",
       "      <td>5.486644e-12</td>\n",
       "    </tr>\n",
       "  </tbody>\n",
       "</table>\n",
       "</div>"
      ],
      "text/plain": [
       "            pvalue  precision  recall   f1score   TP  regulon_size  \\\n",
       "RstA  5.486644e-12   0.666667     0.8  0.727273  4.0           5.0   \n",
       "\n",
       "      gene_set_size  n_regs        qvalue  \n",
       "RstA            6.0     1.0  5.486644e-12  "
      ]
     },
     "metadata": {},
     "output_type": "display_data"
    },
    {
     "data": {
      "text/plain": [
       "'Fnr-1'"
      ]
     },
     "metadata": {},
     "output_type": "display_data"
    },
    {
     "data": {
      "text/plain": [
       "0.8213802487716911"
      ]
     },
     "metadata": {},
     "output_type": "display_data"
    },
    {
     "data": {
      "text/plain": [
       "9"
      ]
     },
     "metadata": {},
     "output_type": "display_data"
    },
    {
     "data": {
      "text/html": [
       "<div>\n",
       "<style scoped>\n",
       "    .dataframe tbody tr th:only-of-type {\n",
       "        vertical-align: middle;\n",
       "    }\n",
       "\n",
       "    .dataframe tbody tr th {\n",
       "        vertical-align: top;\n",
       "    }\n",
       "\n",
       "    .dataframe thead th {\n",
       "        text-align: right;\n",
       "    }\n",
       "</style>\n",
       "<table border=\"1\" class=\"dataframe\">\n",
       "  <thead>\n",
       "    <tr style=\"text-align: right;\">\n",
       "      <th></th>\n",
       "      <th>pvalue</th>\n",
       "      <th>precision</th>\n",
       "      <th>recall</th>\n",
       "      <th>f1score</th>\n",
       "      <th>TP</th>\n",
       "      <th>regulon_size</th>\n",
       "      <th>gene_set_size</th>\n",
       "      <th>n_regs</th>\n",
       "      <th>qvalue</th>\n",
       "    </tr>\n",
       "  </thead>\n",
       "  <tbody>\n",
       "    <tr>\n",
       "      <th>DcuR</th>\n",
       "      <td>9.323131e-11</td>\n",
       "      <td>0.130435</td>\n",
       "      <td>0.666667</td>\n",
       "      <td>0.218182</td>\n",
       "      <td>6.0</td>\n",
       "      <td>9.0</td>\n",
       "      <td>46.0</td>\n",
       "      <td>1.0</td>\n",
       "      <td>9.323131e-11</td>\n",
       "    </tr>\n",
       "  </tbody>\n",
       "</table>\n",
       "</div>"
      ],
      "text/plain": [
       "            pvalue  precision    recall   f1score   TP  regulon_size  \\\n",
       "DcuR  9.323131e-11   0.130435  0.666667  0.218182  6.0           9.0   \n",
       "\n",
       "      gene_set_size  n_regs        qvalue  \n",
       "DcuR           46.0     1.0  9.323131e-11  "
      ]
     },
     "metadata": {},
     "output_type": "display_data"
    },
    {
     "data": {
      "text/plain": [
       "'Fnr-1'"
      ]
     },
     "metadata": {},
     "output_type": "display_data"
    },
    {
     "data": {
      "text/plain": [
       "0.8213802487716911"
      ]
     },
     "metadata": {},
     "output_type": "display_data"
    },
    {
     "data": {
      "text/plain": [
       "9"
      ]
     },
     "metadata": {},
     "output_type": "display_data"
    },
    {
     "data": {
      "text/html": [
       "<div>\n",
       "<style scoped>\n",
       "    .dataframe tbody tr th:only-of-type {\n",
       "        vertical-align: middle;\n",
       "    }\n",
       "\n",
       "    .dataframe tbody tr th {\n",
       "        vertical-align: top;\n",
       "    }\n",
       "\n",
       "    .dataframe thead th {\n",
       "        text-align: right;\n",
       "    }\n",
       "</style>\n",
       "<table border=\"1\" class=\"dataframe\">\n",
       "  <thead>\n",
       "    <tr style=\"text-align: right;\">\n",
       "      <th></th>\n",
       "      <th>pvalue</th>\n",
       "      <th>precision</th>\n",
       "      <th>recall</th>\n",
       "      <th>f1score</th>\n",
       "      <th>TP</th>\n",
       "      <th>regulon_size</th>\n",
       "      <th>gene_set_size</th>\n",
       "      <th>n_regs</th>\n",
       "      <th>qvalue</th>\n",
       "    </tr>\n",
       "  </thead>\n",
       "  <tbody>\n",
       "    <tr>\n",
       "      <th>DcuR</th>\n",
       "      <td>9.323131e-11</td>\n",
       "      <td>0.130435</td>\n",
       "      <td>0.666667</td>\n",
       "      <td>0.218182</td>\n",
       "      <td>6.0</td>\n",
       "      <td>9.0</td>\n",
       "      <td>46.0</td>\n",
       "      <td>1.0</td>\n",
       "      <td>9.323131e-11</td>\n",
       "    </tr>\n",
       "  </tbody>\n",
       "</table>\n",
       "</div>"
      ],
      "text/plain": [
       "            pvalue  precision    recall   f1score   TP  regulon_size  \\\n",
       "DcuR  9.323131e-11   0.130435  0.666667  0.218182  6.0           9.0   \n",
       "\n",
       "      gene_set_size  n_regs        qvalue  \n",
       "DcuR           46.0     1.0  9.323131e-11  "
      ]
     },
     "metadata": {},
     "output_type": "display_data"
    },
    {
     "data": {
      "text/plain": [
       "'Hot TALE 16'"
      ]
     },
     "metadata": {},
     "output_type": "display_data"
    },
    {
     "data": {
      "text/plain": [
       "-0.2577638264186246"
      ]
     },
     "metadata": {},
     "output_type": "display_data"
    },
    {
     "data": {
      "text/plain": [
       "9"
      ]
     },
     "metadata": {},
     "output_type": "display_data"
    },
    {
     "data": {
      "text/html": [
       "<div>\n",
       "<style scoped>\n",
       "    .dataframe tbody tr th:only-of-type {\n",
       "        vertical-align: middle;\n",
       "    }\n",
       "\n",
       "    .dataframe tbody tr th {\n",
       "        vertical-align: top;\n",
       "    }\n",
       "\n",
       "    .dataframe thead th {\n",
       "        text-align: right;\n",
       "    }\n",
       "</style>\n",
       "<table border=\"1\" class=\"dataframe\">\n",
       "  <thead>\n",
       "    <tr style=\"text-align: right;\">\n",
       "      <th></th>\n",
       "      <th>pvalue</th>\n",
       "      <th>precision</th>\n",
       "      <th>recall</th>\n",
       "      <th>f1score</th>\n",
       "      <th>TP</th>\n",
       "      <th>regulon_size</th>\n",
       "      <th>gene_set_size</th>\n",
       "      <th>n_regs</th>\n",
       "      <th>qvalue</th>\n",
       "    </tr>\n",
       "  </thead>\n",
       "  <tbody>\n",
       "    <tr>\n",
       "      <th>DcuR</th>\n",
       "      <td>0.000004</td>\n",
       "      <td>0.176471</td>\n",
       "      <td>0.333333</td>\n",
       "      <td>0.230769</td>\n",
       "      <td>3.0</td>\n",
       "      <td>9.0</td>\n",
       "      <td>17.0</td>\n",
       "      <td>1.0</td>\n",
       "      <td>0.000004</td>\n",
       "    </tr>\n",
       "  </tbody>\n",
       "</table>\n",
       "</div>"
      ],
      "text/plain": [
       "        pvalue  precision    recall   f1score   TP  regulon_size  \\\n",
       "DcuR  0.000004   0.176471  0.333333  0.230769  3.0           9.0   \n",
       "\n",
       "      gene_set_size  n_regs    qvalue  \n",
       "DcuR           17.0     1.0  0.000004  "
      ]
     },
     "metadata": {},
     "output_type": "display_data"
    },
    {
     "data": {
      "text/plain": [
       "'Tryptophan'"
      ]
     },
     "metadata": {},
     "output_type": "display_data"
    },
    {
     "data": {
      "text/plain": [
       "0.6455615518086104"
      ]
     },
     "metadata": {},
     "output_type": "display_data"
    },
    {
     "data": {
      "text/plain": [
       "7"
      ]
     },
     "metadata": {},
     "output_type": "display_data"
    },
    {
     "data": {
      "text/html": [
       "<div>\n",
       "<style scoped>\n",
       "    .dataframe tbody tr th:only-of-type {\n",
       "        vertical-align: middle;\n",
       "    }\n",
       "\n",
       "    .dataframe tbody tr th {\n",
       "        vertical-align: top;\n",
       "    }\n",
       "\n",
       "    .dataframe thead th {\n",
       "        text-align: right;\n",
       "    }\n",
       "</style>\n",
       "<table border=\"1\" class=\"dataframe\">\n",
       "  <thead>\n",
       "    <tr style=\"text-align: right;\">\n",
       "      <th></th>\n",
       "      <th>pvalue</th>\n",
       "      <th>precision</th>\n",
       "      <th>recall</th>\n",
       "      <th>f1score</th>\n",
       "      <th>TP</th>\n",
       "      <th>regulon_size</th>\n",
       "      <th>gene_set_size</th>\n",
       "      <th>n_regs</th>\n",
       "      <th>qvalue</th>\n",
       "    </tr>\n",
       "  </thead>\n",
       "  <tbody>\n",
       "    <tr>\n",
       "      <th>RydC</th>\n",
       "      <td>1.010602e-13</td>\n",
       "      <td>0.625</td>\n",
       "      <td>0.714286</td>\n",
       "      <td>0.666667</td>\n",
       "      <td>5.0</td>\n",
       "      <td>7.0</td>\n",
       "      <td>8.0</td>\n",
       "      <td>1.0</td>\n",
       "      <td>1.010602e-13</td>\n",
       "    </tr>\n",
       "  </tbody>\n",
       "</table>\n",
       "</div>"
      ],
      "text/plain": [
       "            pvalue  precision    recall   f1score   TP  regulon_size  \\\n",
       "RydC  1.010602e-13      0.625  0.714286  0.666667  5.0           7.0   \n",
       "\n",
       "      gene_set_size  n_regs        qvalue  \n",
       "RydC            8.0     1.0  1.010602e-13  "
      ]
     },
     "metadata": {},
     "output_type": "display_data"
    },
    {
     "data": {
      "text/plain": [
       "'Tyr/Trp/Phe'"
      ]
     },
     "metadata": {},
     "output_type": "display_data"
    },
    {
     "data": {
      "text/plain": [
       "0.41895537640382974"
      ]
     },
     "metadata": {},
     "output_type": "display_data"
    },
    {
     "data": {
      "text/plain": [
       "7"
      ]
     },
     "metadata": {},
     "output_type": "display_data"
    },
    {
     "data": {
      "text/html": [
       "<div>\n",
       "<style scoped>\n",
       "    .dataframe tbody tr th:only-of-type {\n",
       "        vertical-align: middle;\n",
       "    }\n",
       "\n",
       "    .dataframe tbody tr th {\n",
       "        vertical-align: top;\n",
       "    }\n",
       "\n",
       "    .dataframe thead th {\n",
       "        text-align: right;\n",
       "    }\n",
       "</style>\n",
       "<table border=\"1\" class=\"dataframe\">\n",
       "  <thead>\n",
       "    <tr style=\"text-align: right;\">\n",
       "      <th></th>\n",
       "      <th>pvalue</th>\n",
       "      <th>precision</th>\n",
       "      <th>recall</th>\n",
       "      <th>f1score</th>\n",
       "      <th>TP</th>\n",
       "      <th>regulon_size</th>\n",
       "      <th>gene_set_size</th>\n",
       "      <th>n_regs</th>\n",
       "      <th>qvalue</th>\n",
       "    </tr>\n",
       "  </thead>\n",
       "  <tbody>\n",
       "    <tr>\n",
       "      <th>RydC</th>\n",
       "      <td>5.954951e-07</td>\n",
       "      <td>0.25</td>\n",
       "      <td>0.428571</td>\n",
       "      <td>0.315789</td>\n",
       "      <td>3.0</td>\n",
       "      <td>7.0</td>\n",
       "      <td>12.0</td>\n",
       "      <td>1.0</td>\n",
       "      <td>5.954951e-07</td>\n",
       "    </tr>\n",
       "  </tbody>\n",
       "</table>\n",
       "</div>"
      ],
      "text/plain": [
       "            pvalue  precision    recall   f1score   TP  regulon_size  \\\n",
       "RydC  5.954951e-07       0.25  0.428571  0.315789  3.0           7.0   \n",
       "\n",
       "      gene_set_size  n_regs        qvalue  \n",
       "RydC           12.0     1.0  5.954951e-07  "
      ]
     },
     "metadata": {},
     "output_type": "display_data"
    },
    {
     "data": {
      "text/plain": [
       "'Salicylic Acid'"
      ]
     },
     "metadata": {},
     "output_type": "display_data"
    },
    {
     "data": {
      "text/plain": [
       "0.19721998843874322"
      ]
     },
     "metadata": {},
     "output_type": "display_data"
    },
    {
     "data": {
      "text/plain": [
       "11"
      ]
     },
     "metadata": {},
     "output_type": "display_data"
    },
    {
     "data": {
      "text/html": [
       "<div>\n",
       "<style scoped>\n",
       "    .dataframe tbody tr th:only-of-type {\n",
       "        vertical-align: middle;\n",
       "    }\n",
       "\n",
       "    .dataframe tbody tr th {\n",
       "        vertical-align: top;\n",
       "    }\n",
       "\n",
       "    .dataframe thead th {\n",
       "        text-align: right;\n",
       "    }\n",
       "</style>\n",
       "<table border=\"1\" class=\"dataframe\">\n",
       "  <thead>\n",
       "    <tr style=\"text-align: right;\">\n",
       "      <th></th>\n",
       "      <th>pvalue</th>\n",
       "      <th>precision</th>\n",
       "      <th>recall</th>\n",
       "      <th>f1score</th>\n",
       "      <th>TP</th>\n",
       "      <th>regulon_size</th>\n",
       "      <th>gene_set_size</th>\n",
       "      <th>n_regs</th>\n",
       "      <th>qvalue</th>\n",
       "    </tr>\n",
       "  </thead>\n",
       "  <tbody>\n",
       "    <tr>\n",
       "      <th>AcrR</th>\n",
       "      <td>0.000001</td>\n",
       "      <td>0.333333</td>\n",
       "      <td>0.272727</td>\n",
       "      <td>0.3</td>\n",
       "      <td>3.0</td>\n",
       "      <td>11.0</td>\n",
       "      <td>9.0</td>\n",
       "      <td>1.0</td>\n",
       "      <td>0.000001</td>\n",
       "    </tr>\n",
       "  </tbody>\n",
       "</table>\n",
       "</div>"
      ],
      "text/plain": [
       "        pvalue  precision    recall  f1score   TP  regulon_size  \\\n",
       "AcrR  0.000001   0.333333  0.272727      0.3  3.0          11.0   \n",
       "\n",
       "      gene_set_size  n_regs    qvalue  \n",
       "AcrR            9.0     1.0  0.000001  "
      ]
     },
     "metadata": {},
     "output_type": "display_data"
    },
    {
     "data": {
      "text/plain": [
       "'Efflux Pump'"
      ]
     },
     "metadata": {},
     "output_type": "display_data"
    },
    {
     "data": {
      "text/plain": [
       "0.8687669093446827"
      ]
     },
     "metadata": {},
     "output_type": "display_data"
    },
    {
     "data": {
      "text/plain": [
       "11"
      ]
     },
     "metadata": {},
     "output_type": "display_data"
    },
    {
     "data": {
      "text/html": [
       "<div>\n",
       "<style scoped>\n",
       "    .dataframe tbody tr th:only-of-type {\n",
       "        vertical-align: middle;\n",
       "    }\n",
       "\n",
       "    .dataframe tbody tr th {\n",
       "        vertical-align: top;\n",
       "    }\n",
       "\n",
       "    .dataframe thead th {\n",
       "        text-align: right;\n",
       "    }\n",
       "</style>\n",
       "<table border=\"1\" class=\"dataframe\">\n",
       "  <thead>\n",
       "    <tr style=\"text-align: right;\">\n",
       "      <th></th>\n",
       "      <th>pvalue</th>\n",
       "      <th>precision</th>\n",
       "      <th>recall</th>\n",
       "      <th>f1score</th>\n",
       "      <th>TP</th>\n",
       "      <th>regulon_size</th>\n",
       "      <th>gene_set_size</th>\n",
       "      <th>n_regs</th>\n",
       "      <th>qvalue</th>\n",
       "    </tr>\n",
       "  </thead>\n",
       "  <tbody>\n",
       "    <tr>\n",
       "      <th>AcrR</th>\n",
       "      <td>0.000006</td>\n",
       "      <td>1.0</td>\n",
       "      <td>0.181818</td>\n",
       "      <td>0.307692</td>\n",
       "      <td>2.0</td>\n",
       "      <td>11.0</td>\n",
       "      <td>2.0</td>\n",
       "      <td>1.0</td>\n",
       "      <td>0.000006</td>\n",
       "    </tr>\n",
       "  </tbody>\n",
       "</table>\n",
       "</div>"
      ],
      "text/plain": [
       "        pvalue  precision    recall   f1score   TP  regulon_size  \\\n",
       "AcrR  0.000006        1.0  0.181818  0.307692  2.0          11.0   \n",
       "\n",
       "      gene_set_size  n_regs    qvalue  \n",
       "AcrR            2.0     1.0  0.000006  "
      ]
     },
     "metadata": {},
     "output_type": "display_data"
    },
    {
     "data": {
      "text/plain": [
       "'Efflux Pump'"
      ]
     },
     "metadata": {},
     "output_type": "display_data"
    },
    {
     "data": {
      "text/plain": [
       "0.8687669093446827"
      ]
     },
     "metadata": {},
     "output_type": "display_data"
    },
    {
     "data": {
      "text/plain": [
       "11"
      ]
     },
     "metadata": {},
     "output_type": "display_data"
    },
    {
     "data": {
      "text/html": [
       "<div>\n",
       "<style scoped>\n",
       "    .dataframe tbody tr th:only-of-type {\n",
       "        vertical-align: middle;\n",
       "    }\n",
       "\n",
       "    .dataframe tbody tr th {\n",
       "        vertical-align: top;\n",
       "    }\n",
       "\n",
       "    .dataframe thead th {\n",
       "        text-align: right;\n",
       "    }\n",
       "</style>\n",
       "<table border=\"1\" class=\"dataframe\">\n",
       "  <thead>\n",
       "    <tr style=\"text-align: right;\">\n",
       "      <th></th>\n",
       "      <th>pvalue</th>\n",
       "      <th>precision</th>\n",
       "      <th>recall</th>\n",
       "      <th>f1score</th>\n",
       "      <th>TP</th>\n",
       "      <th>regulon_size</th>\n",
       "      <th>gene_set_size</th>\n",
       "      <th>n_regs</th>\n",
       "      <th>qvalue</th>\n",
       "    </tr>\n",
       "  </thead>\n",
       "  <tbody>\n",
       "    <tr>\n",
       "      <th>AcrR</th>\n",
       "      <td>0.000006</td>\n",
       "      <td>1.0</td>\n",
       "      <td>0.181818</td>\n",
       "      <td>0.307692</td>\n",
       "      <td>2.0</td>\n",
       "      <td>11.0</td>\n",
       "      <td>2.0</td>\n",
       "      <td>1.0</td>\n",
       "      <td>0.000006</td>\n",
       "    </tr>\n",
       "  </tbody>\n",
       "</table>\n",
       "</div>"
      ],
      "text/plain": [
       "        pvalue  precision    recall   f1score   TP  regulon_size  \\\n",
       "AcrR  0.000006        1.0  0.181818  0.307692  2.0          11.0   \n",
       "\n",
       "      gene_set_size  n_regs    qvalue  \n",
       "AcrR            2.0     1.0  0.000006  "
      ]
     },
     "metadata": {},
     "output_type": "display_data"
    },
    {
     "data": {
      "text/plain": [
       "'GadXW'"
      ]
     },
     "metadata": {},
     "output_type": "display_data"
    },
    {
     "data": {
      "text/plain": [
       "0.4724524087407467"
      ]
     },
     "metadata": {},
     "output_type": "display_data"
    },
    {
     "data": {
      "text/plain": [
       "17"
      ]
     },
     "metadata": {},
     "output_type": "display_data"
    },
    {
     "data": {
      "text/html": [
       "<div>\n",
       "<style scoped>\n",
       "    .dataframe tbody tr th:only-of-type {\n",
       "        vertical-align: middle;\n",
       "    }\n",
       "\n",
       "    .dataframe tbody tr th {\n",
       "        vertical-align: top;\n",
       "    }\n",
       "\n",
       "    .dataframe thead th {\n",
       "        text-align: right;\n",
       "    }\n",
       "</style>\n",
       "<table border=\"1\" class=\"dataframe\">\n",
       "  <thead>\n",
       "    <tr style=\"text-align: right;\">\n",
       "      <th></th>\n",
       "      <th>pvalue</th>\n",
       "      <th>precision</th>\n",
       "      <th>recall</th>\n",
       "      <th>f1score</th>\n",
       "      <th>TP</th>\n",
       "      <th>regulon_size</th>\n",
       "      <th>gene_set_size</th>\n",
       "      <th>n_regs</th>\n",
       "      <th>qvalue</th>\n",
       "    </tr>\n",
       "  </thead>\n",
       "  <tbody>\n",
       "    <tr>\n",
       "      <th>GadE</th>\n",
       "      <td>1.759888e-18</td>\n",
       "      <td>0.473684</td>\n",
       "      <td>0.529412</td>\n",
       "      <td>0.5</td>\n",
       "      <td>9.0</td>\n",
       "      <td>17.0</td>\n",
       "      <td>19.0</td>\n",
       "      <td>1.0</td>\n",
       "      <td>1.759888e-18</td>\n",
       "    </tr>\n",
       "  </tbody>\n",
       "</table>\n",
       "</div>"
      ],
      "text/plain": [
       "            pvalue  precision    recall  f1score   TP  regulon_size  \\\n",
       "GadE  1.759888e-18   0.473684  0.529412      0.5  9.0          17.0   \n",
       "\n",
       "      gene_set_size  n_regs        qvalue  \n",
       "GadE           19.0     1.0  1.759888e-18  "
      ]
     },
     "metadata": {},
     "output_type": "display_data"
    },
    {
     "data": {
      "text/plain": [
       "'GadX'"
      ]
     },
     "metadata": {},
     "output_type": "display_data"
    },
    {
     "data": {
      "text/plain": [
       "0.3701193755128971"
      ]
     },
     "metadata": {},
     "output_type": "display_data"
    },
    {
     "data": {
      "text/plain": [
       "17"
      ]
     },
     "metadata": {},
     "output_type": "display_data"
    },
    {
     "data": {
      "text/html": [
       "<div>\n",
       "<style scoped>\n",
       "    .dataframe tbody tr th:only-of-type {\n",
       "        vertical-align: middle;\n",
       "    }\n",
       "\n",
       "    .dataframe tbody tr th {\n",
       "        vertical-align: top;\n",
       "    }\n",
       "\n",
       "    .dataframe thead th {\n",
       "        text-align: right;\n",
       "    }\n",
       "</style>\n",
       "<table border=\"1\" class=\"dataframe\">\n",
       "  <thead>\n",
       "    <tr style=\"text-align: right;\">\n",
       "      <th></th>\n",
       "      <th>pvalue</th>\n",
       "      <th>precision</th>\n",
       "      <th>recall</th>\n",
       "      <th>f1score</th>\n",
       "      <th>TP</th>\n",
       "      <th>regulon_size</th>\n",
       "      <th>gene_set_size</th>\n",
       "      <th>n_regs</th>\n",
       "      <th>qvalue</th>\n",
       "    </tr>\n",
       "  </thead>\n",
       "  <tbody>\n",
       "    <tr>\n",
       "      <th>GadE</th>\n",
       "      <td>1.253741e-13</td>\n",
       "      <td>0.666667</td>\n",
       "      <td>0.352941</td>\n",
       "      <td>0.461538</td>\n",
       "      <td>6.0</td>\n",
       "      <td>17.0</td>\n",
       "      <td>9.0</td>\n",
       "      <td>1.0</td>\n",
       "      <td>1.253741e-13</td>\n",
       "    </tr>\n",
       "  </tbody>\n",
       "</table>\n",
       "</div>"
      ],
      "text/plain": [
       "            pvalue  precision    recall   f1score   TP  regulon_size  \\\n",
       "GadE  1.253741e-13   0.666667  0.352941  0.461538  6.0          17.0   \n",
       "\n",
       "      gene_set_size  n_regs        qvalue  \n",
       "GadE            9.0     1.0  1.253741e-13  "
      ]
     },
     "metadata": {},
     "output_type": "display_data"
    },
    {
     "data": {
      "text/plain": [
       "'SoxS'"
      ]
     },
     "metadata": {},
     "output_type": "display_data"
    },
    {
     "data": {
      "text/plain": [
       "0.08793792746510024"
      ]
     },
     "metadata": {},
     "output_type": "display_data"
    },
    {
     "data": {
      "text/plain": [
       "15"
      ]
     },
     "metadata": {},
     "output_type": "display_data"
    },
    {
     "data": {
      "text/html": [
       "<div>\n",
       "<style scoped>\n",
       "    .dataframe tbody tr th:only-of-type {\n",
       "        vertical-align: middle;\n",
       "    }\n",
       "\n",
       "    .dataframe tbody tr th {\n",
       "        vertical-align: top;\n",
       "    }\n",
       "\n",
       "    .dataframe thead th {\n",
       "        text-align: right;\n",
       "    }\n",
       "</style>\n",
       "<table border=\"1\" class=\"dataframe\">\n",
       "  <thead>\n",
       "    <tr style=\"text-align: right;\">\n",
       "      <th></th>\n",
       "      <th>pvalue</th>\n",
       "      <th>precision</th>\n",
       "      <th>recall</th>\n",
       "      <th>f1score</th>\n",
       "      <th>TP</th>\n",
       "      <th>regulon_size</th>\n",
       "      <th>gene_set_size</th>\n",
       "      <th>n_regs</th>\n",
       "      <th>qvalue</th>\n",
       "    </tr>\n",
       "  </thead>\n",
       "  <tbody>\n",
       "    <tr>\n",
       "      <th>Rob</th>\n",
       "      <td>1.405172e-09</td>\n",
       "      <td>0.068376</td>\n",
       "      <td>0.533333</td>\n",
       "      <td>0.121212</td>\n",
       "      <td>8.0</td>\n",
       "      <td>15.0</td>\n",
       "      <td>117.0</td>\n",
       "      <td>1.0</td>\n",
       "      <td>1.405172e-09</td>\n",
       "    </tr>\n",
       "  </tbody>\n",
       "</table>\n",
       "</div>"
      ],
      "text/plain": [
       "           pvalue  precision    recall   f1score   TP  regulon_size  \\\n",
       "Rob  1.405172e-09   0.068376  0.533333  0.121212  8.0          15.0   \n",
       "\n",
       "     gene_set_size  n_regs        qvalue  \n",
       "Rob          117.0     1.0  1.405172e-09  "
      ]
     },
     "metadata": {},
     "output_type": "display_data"
    },
    {
     "data": {
      "text/plain": [
       "'Salicylic Acid'"
      ]
     },
     "metadata": {},
     "output_type": "display_data"
    },
    {
     "data": {
      "text/plain": [
       "0.20082661178837996"
      ]
     },
     "metadata": {},
     "output_type": "display_data"
    },
    {
     "data": {
      "text/plain": [
       "15"
      ]
     },
     "metadata": {},
     "output_type": "display_data"
    },
    {
     "data": {
      "text/html": [
       "<div>\n",
       "<style scoped>\n",
       "    .dataframe tbody tr th:only-of-type {\n",
       "        vertical-align: middle;\n",
       "    }\n",
       "\n",
       "    .dataframe tbody tr th {\n",
       "        vertical-align: top;\n",
       "    }\n",
       "\n",
       "    .dataframe thead th {\n",
       "        text-align: right;\n",
       "    }\n",
       "</style>\n",
       "<table border=\"1\" class=\"dataframe\">\n",
       "  <thead>\n",
       "    <tr style=\"text-align: right;\">\n",
       "      <th></th>\n",
       "      <th>pvalue</th>\n",
       "      <th>precision</th>\n",
       "      <th>recall</th>\n",
       "      <th>f1score</th>\n",
       "      <th>TP</th>\n",
       "      <th>regulon_size</th>\n",
       "      <th>gene_set_size</th>\n",
       "      <th>n_regs</th>\n",
       "      <th>qvalue</th>\n",
       "    </tr>\n",
       "  </thead>\n",
       "  <tbody>\n",
       "    <tr>\n",
       "      <th>Rob</th>\n",
       "      <td>0.000003</td>\n",
       "      <td>0.333333</td>\n",
       "      <td>0.2</td>\n",
       "      <td>0.25</td>\n",
       "      <td>3.0</td>\n",
       "      <td>15.0</td>\n",
       "      <td>9.0</td>\n",
       "      <td>1.0</td>\n",
       "      <td>0.000003</td>\n",
       "    </tr>\n",
       "  </tbody>\n",
       "</table>\n",
       "</div>"
      ],
      "text/plain": [
       "       pvalue  precision  recall  f1score   TP  regulon_size  gene_set_size  \\\n",
       "Rob  0.000003   0.333333     0.2     0.25  3.0          15.0            9.0   \n",
       "\n",
       "     n_regs    qvalue  \n",
       "Rob     1.0  0.000003  "
      ]
     },
     "metadata": {},
     "output_type": "display_data"
    },
    {
     "data": {
      "text/plain": [
       "'FucR/AllR/AraC'"
      ]
     },
     "metadata": {},
     "output_type": "display_data"
    },
    {
     "data": {
      "text/plain": [
       "0.6027972834196038"
      ]
     },
     "metadata": {},
     "output_type": "display_data"
    },
    {
     "data": {
      "text/plain": [
       "32"
      ]
     },
     "metadata": {},
     "output_type": "display_data"
    },
    {
     "data": {
      "text/html": [
       "<div>\n",
       "<style scoped>\n",
       "    .dataframe tbody tr th:only-of-type {\n",
       "        vertical-align: middle;\n",
       "    }\n",
       "\n",
       "    .dataframe tbody tr th {\n",
       "        vertical-align: top;\n",
       "    }\n",
       "\n",
       "    .dataframe thead th {\n",
       "        text-align: right;\n",
       "    }\n",
       "</style>\n",
       "<table border=\"1\" class=\"dataframe\">\n",
       "  <thead>\n",
       "    <tr style=\"text-align: right;\">\n",
       "      <th></th>\n",
       "      <th>pvalue</th>\n",
       "      <th>precision</th>\n",
       "      <th>recall</th>\n",
       "      <th>f1score</th>\n",
       "      <th>TP</th>\n",
       "      <th>regulon_size</th>\n",
       "      <th>gene_set_size</th>\n",
       "      <th>n_regs</th>\n",
       "      <th>qvalue</th>\n",
       "    </tr>\n",
       "  </thead>\n",
       "  <tbody>\n",
       "    <tr>\n",
       "      <th>SrsR</th>\n",
       "      <td>3.961567e-09</td>\n",
       "      <td>0.3</td>\n",
       "      <td>0.1875</td>\n",
       "      <td>0.230769</td>\n",
       "      <td>6.0</td>\n",
       "      <td>32.0</td>\n",
       "      <td>20.0</td>\n",
       "      <td>1.0</td>\n",
       "      <td>3.961567e-09</td>\n",
       "    </tr>\n",
       "  </tbody>\n",
       "</table>\n",
       "</div>"
      ],
      "text/plain": [
       "            pvalue  precision  recall   f1score   TP  regulon_size  \\\n",
       "SrsR  3.961567e-09        0.3  0.1875  0.230769  6.0          32.0   \n",
       "\n",
       "      gene_set_size  n_regs        qvalue  \n",
       "SrsR           20.0     1.0  3.961567e-09  "
      ]
     },
     "metadata": {},
     "output_type": "display_data"
    },
    {
     "data": {
      "text/plain": [
       "'FucR/ExuR'"
      ]
     },
     "metadata": {},
     "output_type": "display_data"
    },
    {
     "data": {
      "text/plain": [
       "0.7942159708971245"
      ]
     },
     "metadata": {},
     "output_type": "display_data"
    },
    {
     "data": {
      "text/plain": [
       "32"
      ]
     },
     "metadata": {},
     "output_type": "display_data"
    },
    {
     "data": {
      "text/html": [
       "<div>\n",
       "<style scoped>\n",
       "    .dataframe tbody tr th:only-of-type {\n",
       "        vertical-align: middle;\n",
       "    }\n",
       "\n",
       "    .dataframe tbody tr th {\n",
       "        vertical-align: top;\n",
       "    }\n",
       "\n",
       "    .dataframe thead th {\n",
       "        text-align: right;\n",
       "    }\n",
       "</style>\n",
       "<table border=\"1\" class=\"dataframe\">\n",
       "  <thead>\n",
       "    <tr style=\"text-align: right;\">\n",
       "      <th></th>\n",
       "      <th>pvalue</th>\n",
       "      <th>precision</th>\n",
       "      <th>recall</th>\n",
       "      <th>f1score</th>\n",
       "      <th>TP</th>\n",
       "      <th>regulon_size</th>\n",
       "      <th>gene_set_size</th>\n",
       "      <th>n_regs</th>\n",
       "      <th>qvalue</th>\n",
       "    </tr>\n",
       "  </thead>\n",
       "  <tbody>\n",
       "    <tr>\n",
       "      <th>SrsR</th>\n",
       "      <td>3.167735e-10</td>\n",
       "      <td>0.428571</td>\n",
       "      <td>0.1875</td>\n",
       "      <td>0.26087</td>\n",
       "      <td>6.0</td>\n",
       "      <td>32.0</td>\n",
       "      <td>14.0</td>\n",
       "      <td>1.0</td>\n",
       "      <td>3.167735e-10</td>\n",
       "    </tr>\n",
       "  </tbody>\n",
       "</table>\n",
       "</div>"
      ],
      "text/plain": [
       "            pvalue  precision  recall  f1score   TP  regulon_size  \\\n",
       "SrsR  3.167735e-10   0.428571  0.1875  0.26087  6.0          32.0   \n",
       "\n",
       "      gene_set_size  n_regs        qvalue  \n",
       "SrsR           14.0     1.0  3.167735e-10  "
      ]
     },
     "metadata": {},
     "output_type": "display_data"
    },
    {
     "data": {
      "text/plain": [
       "'FucR/ExuR'"
      ]
     },
     "metadata": {},
     "output_type": "display_data"
    },
    {
     "data": {
      "text/plain": [
       "0.7942159708971245"
      ]
     },
     "metadata": {},
     "output_type": "display_data"
    },
    {
     "data": {
      "text/plain": [
       "32"
      ]
     },
     "metadata": {},
     "output_type": "display_data"
    },
    {
     "data": {
      "text/html": [
       "<div>\n",
       "<style scoped>\n",
       "    .dataframe tbody tr th:only-of-type {\n",
       "        vertical-align: middle;\n",
       "    }\n",
       "\n",
       "    .dataframe tbody tr th {\n",
       "        vertical-align: top;\n",
       "    }\n",
       "\n",
       "    .dataframe thead th {\n",
       "        text-align: right;\n",
       "    }\n",
       "</style>\n",
       "<table border=\"1\" class=\"dataframe\">\n",
       "  <thead>\n",
       "    <tr style=\"text-align: right;\">\n",
       "      <th></th>\n",
       "      <th>pvalue</th>\n",
       "      <th>precision</th>\n",
       "      <th>recall</th>\n",
       "      <th>f1score</th>\n",
       "      <th>TP</th>\n",
       "      <th>regulon_size</th>\n",
       "      <th>gene_set_size</th>\n",
       "      <th>n_regs</th>\n",
       "      <th>qvalue</th>\n",
       "    </tr>\n",
       "  </thead>\n",
       "  <tbody>\n",
       "    <tr>\n",
       "      <th>SrsR</th>\n",
       "      <td>3.167735e-10</td>\n",
       "      <td>0.428571</td>\n",
       "      <td>0.1875</td>\n",
       "      <td>0.26087</td>\n",
       "      <td>6.0</td>\n",
       "      <td>32.0</td>\n",
       "      <td>14.0</td>\n",
       "      <td>1.0</td>\n",
       "      <td>3.167735e-10</td>\n",
       "    </tr>\n",
       "  </tbody>\n",
       "</table>\n",
       "</div>"
      ],
      "text/plain": [
       "            pvalue  precision  recall  f1score   TP  regulon_size  \\\n",
       "SrsR  3.167735e-10   0.428571  0.1875  0.26087  6.0          32.0   \n",
       "\n",
       "      gene_set_size  n_regs        qvalue  \n",
       "SrsR           14.0     1.0  3.167735e-10  "
      ]
     },
     "metadata": {},
     "output_type": "display_data"
    },
    {
     "data": {
      "text/plain": [
       "'PaaX'"
      ]
     },
     "metadata": {},
     "output_type": "display_data"
    },
    {
     "data": {
      "text/plain": [
       "0.5172330837933309"
      ]
     },
     "metadata": {},
     "output_type": "display_data"
    },
    {
     "data": {
      "text/plain": [
       "32"
      ]
     },
     "metadata": {},
     "output_type": "display_data"
    },
    {
     "data": {
      "text/html": [
       "<div>\n",
       "<style scoped>\n",
       "    .dataframe tbody tr th:only-of-type {\n",
       "        vertical-align: middle;\n",
       "    }\n",
       "\n",
       "    .dataframe tbody tr th {\n",
       "        vertical-align: top;\n",
       "    }\n",
       "\n",
       "    .dataframe thead th {\n",
       "        text-align: right;\n",
       "    }\n",
       "</style>\n",
       "<table border=\"1\" class=\"dataframe\">\n",
       "  <thead>\n",
       "    <tr style=\"text-align: right;\">\n",
       "      <th></th>\n",
       "      <th>pvalue</th>\n",
       "      <th>precision</th>\n",
       "      <th>recall</th>\n",
       "      <th>f1score</th>\n",
       "      <th>TP</th>\n",
       "      <th>regulon_size</th>\n",
       "      <th>gene_set_size</th>\n",
       "      <th>n_regs</th>\n",
       "      <th>qvalue</th>\n",
       "    </tr>\n",
       "  </thead>\n",
       "  <tbody>\n",
       "    <tr>\n",
       "      <th>SrsR</th>\n",
       "      <td>3.544472e-17</td>\n",
       "      <td>0.888889</td>\n",
       "      <td>0.25</td>\n",
       "      <td>0.390244</td>\n",
       "      <td>8.0</td>\n",
       "      <td>32.0</td>\n",
       "      <td>9.0</td>\n",
       "      <td>1.0</td>\n",
       "      <td>3.544472e-17</td>\n",
       "    </tr>\n",
       "  </tbody>\n",
       "</table>\n",
       "</div>"
      ],
      "text/plain": [
       "            pvalue  precision  recall   f1score   TP  regulon_size  \\\n",
       "SrsR  3.544472e-17   0.888889    0.25  0.390244  8.0          32.0   \n",
       "\n",
       "      gene_set_size  n_regs        qvalue  \n",
       "SrsR            9.0     1.0  3.544472e-17  "
      ]
     },
     "metadata": {},
     "output_type": "display_data"
    },
    {
     "data": {
      "text/plain": [
       "'Nucleoside'"
      ]
     },
     "metadata": {},
     "output_type": "display_data"
    },
    {
     "data": {
      "text/plain": [
       "0.3187734677370659"
      ]
     },
     "metadata": {},
     "output_type": "display_data"
    },
    {
     "data": {
      "text/plain": [
       "5"
      ]
     },
     "metadata": {},
     "output_type": "display_data"
    },
    {
     "data": {
      "text/html": [
       "<div>\n",
       "<style scoped>\n",
       "    .dataframe tbody tr th:only-of-type {\n",
       "        vertical-align: middle;\n",
       "    }\n",
       "\n",
       "    .dataframe tbody tr th {\n",
       "        vertical-align: top;\n",
       "    }\n",
       "\n",
       "    .dataframe thead th {\n",
       "        text-align: right;\n",
       "    }\n",
       "</style>\n",
       "<table border=\"1\" class=\"dataframe\">\n",
       "  <thead>\n",
       "    <tr style=\"text-align: right;\">\n",
       "      <th></th>\n",
       "      <th>pvalue</th>\n",
       "      <th>precision</th>\n",
       "      <th>recall</th>\n",
       "      <th>f1score</th>\n",
       "      <th>TP</th>\n",
       "      <th>regulon_size</th>\n",
       "      <th>gene_set_size</th>\n",
       "      <th>n_regs</th>\n",
       "      <th>qvalue</th>\n",
       "    </tr>\n",
       "  </thead>\n",
       "  <tbody>\n",
       "    <tr>\n",
       "      <th>DeoR</th>\n",
       "      <td>1.280573e-07</td>\n",
       "      <td>0.272727</td>\n",
       "      <td>0.6</td>\n",
       "      <td>0.375</td>\n",
       "      <td>3.0</td>\n",
       "      <td>5.0</td>\n",
       "      <td>11.0</td>\n",
       "      <td>1.0</td>\n",
       "      <td>1.280573e-07</td>\n",
       "    </tr>\n",
       "  </tbody>\n",
       "</table>\n",
       "</div>"
      ],
      "text/plain": [
       "            pvalue  precision  recall  f1score   TP  regulon_size  \\\n",
       "DeoR  1.280573e-07   0.272727     0.6    0.375  3.0           5.0   \n",
       "\n",
       "      gene_set_size  n_regs        qvalue  \n",
       "DeoR           11.0     1.0  1.280573e-07  "
      ]
     },
     "metadata": {},
     "output_type": "display_data"
    },
    {
     "data": {
      "text/plain": [
       "'Translation'"
      ]
     },
     "metadata": {},
     "output_type": "display_data"
    },
    {
     "data": {
      "text/plain": [
       "0.7855817518086775"
      ]
     },
     "metadata": {},
     "output_type": "display_data"
    },
    {
     "data": {
      "text/plain": [
       "11"
      ]
     },
     "metadata": {},
     "output_type": "display_data"
    },
    {
     "data": {
      "text/html": [
       "<div>\n",
       "<style scoped>\n",
       "    .dataframe tbody tr th:only-of-type {\n",
       "        vertical-align: middle;\n",
       "    }\n",
       "\n",
       "    .dataframe tbody tr th {\n",
       "        vertical-align: top;\n",
       "    }\n",
       "\n",
       "    .dataframe thead th {\n",
       "        text-align: right;\n",
       "    }\n",
       "</style>\n",
       "<table border=\"1\" class=\"dataframe\">\n",
       "  <thead>\n",
       "    <tr style=\"text-align: right;\">\n",
       "      <th></th>\n",
       "      <th>pvalue</th>\n",
       "      <th>precision</th>\n",
       "      <th>recall</th>\n",
       "      <th>f1score</th>\n",
       "      <th>TP</th>\n",
       "      <th>regulon_size</th>\n",
       "      <th>gene_set_size</th>\n",
       "      <th>n_regs</th>\n",
       "      <th>qvalue</th>\n",
       "    </tr>\n",
       "  </thead>\n",
       "  <tbody>\n",
       "    <tr>\n",
       "      <th>FliX</th>\n",
       "      <td>3.704431e-22</td>\n",
       "      <td>0.207547</td>\n",
       "      <td>1.0</td>\n",
       "      <td>0.34375</td>\n",
       "      <td>11.0</td>\n",
       "      <td>11.0</td>\n",
       "      <td>53.0</td>\n",
       "      <td>1.0</td>\n",
       "      <td>3.704431e-22</td>\n",
       "    </tr>\n",
       "  </tbody>\n",
       "</table>\n",
       "</div>"
      ],
      "text/plain": [
       "            pvalue  precision  recall  f1score    TP  regulon_size  \\\n",
       "FliX  3.704431e-22   0.207547     1.0  0.34375  11.0          11.0   \n",
       "\n",
       "      gene_set_size  n_regs        qvalue  \n",
       "FliX           53.0     1.0  3.704431e-22  "
      ]
     },
     "metadata": {},
     "output_type": "display_data"
    },
    {
     "data": {
      "text/plain": [
       "'Translation'"
      ]
     },
     "metadata": {},
     "output_type": "display_data"
    },
    {
     "data": {
      "text/plain": [
       "0.7855817518086775"
      ]
     },
     "metadata": {},
     "output_type": "display_data"
    },
    {
     "data": {
      "text/plain": [
       "11"
      ]
     },
     "metadata": {},
     "output_type": "display_data"
    },
    {
     "data": {
      "text/html": [
       "<div>\n",
       "<style scoped>\n",
       "    .dataframe tbody tr th:only-of-type {\n",
       "        vertical-align: middle;\n",
       "    }\n",
       "\n",
       "    .dataframe tbody tr th {\n",
       "        vertical-align: top;\n",
       "    }\n",
       "\n",
       "    .dataframe thead th {\n",
       "        text-align: right;\n",
       "    }\n",
       "</style>\n",
       "<table border=\"1\" class=\"dataframe\">\n",
       "  <thead>\n",
       "    <tr style=\"text-align: right;\">\n",
       "      <th></th>\n",
       "      <th>pvalue</th>\n",
       "      <th>precision</th>\n",
       "      <th>recall</th>\n",
       "      <th>f1score</th>\n",
       "      <th>TP</th>\n",
       "      <th>regulon_size</th>\n",
       "      <th>gene_set_size</th>\n",
       "      <th>n_regs</th>\n",
       "      <th>qvalue</th>\n",
       "    </tr>\n",
       "  </thead>\n",
       "  <tbody>\n",
       "    <tr>\n",
       "      <th>FliX</th>\n",
       "      <td>3.704431e-22</td>\n",
       "      <td>0.207547</td>\n",
       "      <td>1.0</td>\n",
       "      <td>0.34375</td>\n",
       "      <td>11.0</td>\n",
       "      <td>11.0</td>\n",
       "      <td>53.0</td>\n",
       "      <td>1.0</td>\n",
       "      <td>3.704431e-22</td>\n",
       "    </tr>\n",
       "  </tbody>\n",
       "</table>\n",
       "</div>"
      ],
      "text/plain": [
       "            pvalue  precision  recall  f1score    TP  regulon_size  \\\n",
       "FliX  3.704431e-22   0.207547     1.0  0.34375  11.0          11.0   \n",
       "\n",
       "      gene_set_size  n_regs        qvalue  \n",
       "FliX           53.0     1.0  3.704431e-22  "
      ]
     },
     "metadata": {},
     "output_type": "display_data"
    },
    {
     "data": {
      "text/plain": [
       "'Translation'"
      ]
     },
     "metadata": {},
     "output_type": "display_data"
    },
    {
     "data": {
      "text/plain": [
       "0.768728139120479"
      ]
     },
     "metadata": {},
     "output_type": "display_data"
    },
    {
     "data": {
      "text/plain": [
       "4"
      ]
     },
     "metadata": {},
     "output_type": "display_data"
    },
    {
     "data": {
      "text/html": [
       "<div>\n",
       "<style scoped>\n",
       "    .dataframe tbody tr th:only-of-type {\n",
       "        vertical-align: middle;\n",
       "    }\n",
       "\n",
       "    .dataframe tbody tr th {\n",
       "        vertical-align: top;\n",
       "    }\n",
       "\n",
       "    .dataframe thead th {\n",
       "        text-align: right;\n",
       "    }\n",
       "</style>\n",
       "<table border=\"1\" class=\"dataframe\">\n",
       "  <thead>\n",
       "    <tr style=\"text-align: right;\">\n",
       "      <th></th>\n",
       "      <th>pvalue</th>\n",
       "      <th>precision</th>\n",
       "      <th>recall</th>\n",
       "      <th>f1score</th>\n",
       "      <th>TP</th>\n",
       "      <th>regulon_size</th>\n",
       "      <th>gene_set_size</th>\n",
       "      <th>n_regs</th>\n",
       "      <th>qvalue</th>\n",
       "    </tr>\n",
       "  </thead>\n",
       "  <tbody>\n",
       "    <tr>\n",
       "      <th>S6:S18 ribosomal subunit complex</th>\n",
       "      <td>2.142975e-08</td>\n",
       "      <td>0.075472</td>\n",
       "      <td>1.0</td>\n",
       "      <td>0.140351</td>\n",
       "      <td>4.0</td>\n",
       "      <td>4.0</td>\n",
       "      <td>53.0</td>\n",
       "      <td>1.0</td>\n",
       "      <td>2.142975e-08</td>\n",
       "    </tr>\n",
       "  </tbody>\n",
       "</table>\n",
       "</div>"
      ],
      "text/plain": [
       "                                        pvalue  precision  recall   f1score  \\\n",
       "S6:S18 ribosomal subunit complex  2.142975e-08   0.075472     1.0  0.140351   \n",
       "\n",
       "                                   TP  regulon_size  gene_set_size  n_regs  \\\n",
       "S6:S18 ribosomal subunit complex  4.0           4.0           53.0     1.0   \n",
       "\n",
       "                                        qvalue  \n",
       "S6:S18 ribosomal subunit complex  2.142975e-08  "
      ]
     },
     "metadata": {},
     "output_type": "display_data"
    },
    {
     "data": {
      "text/plain": [
       "'Translation'"
      ]
     },
     "metadata": {},
     "output_type": "display_data"
    },
    {
     "data": {
      "text/plain": [
       "0.768728139120479"
      ]
     },
     "metadata": {},
     "output_type": "display_data"
    },
    {
     "data": {
      "text/plain": [
       "4"
      ]
     },
     "metadata": {},
     "output_type": "display_data"
    },
    {
     "data": {
      "text/html": [
       "<div>\n",
       "<style scoped>\n",
       "    .dataframe tbody tr th:only-of-type {\n",
       "        vertical-align: middle;\n",
       "    }\n",
       "\n",
       "    .dataframe tbody tr th {\n",
       "        vertical-align: top;\n",
       "    }\n",
       "\n",
       "    .dataframe thead th {\n",
       "        text-align: right;\n",
       "    }\n",
       "</style>\n",
       "<table border=\"1\" class=\"dataframe\">\n",
       "  <thead>\n",
       "    <tr style=\"text-align: right;\">\n",
       "      <th></th>\n",
       "      <th>pvalue</th>\n",
       "      <th>precision</th>\n",
       "      <th>recall</th>\n",
       "      <th>f1score</th>\n",
       "      <th>TP</th>\n",
       "      <th>regulon_size</th>\n",
       "      <th>gene_set_size</th>\n",
       "      <th>n_regs</th>\n",
       "      <th>qvalue</th>\n",
       "    </tr>\n",
       "  </thead>\n",
       "  <tbody>\n",
       "    <tr>\n",
       "      <th>S6:S18 ribosomal subunit complex</th>\n",
       "      <td>2.142975e-08</td>\n",
       "      <td>0.075472</td>\n",
       "      <td>1.0</td>\n",
       "      <td>0.140351</td>\n",
       "      <td>4.0</td>\n",
       "      <td>4.0</td>\n",
       "      <td>53.0</td>\n",
       "      <td>1.0</td>\n",
       "      <td>2.142975e-08</td>\n",
       "    </tr>\n",
       "  </tbody>\n",
       "</table>\n",
       "</div>"
      ],
      "text/plain": [
       "                                        pvalue  precision  recall   f1score  \\\n",
       "S6:S18 ribosomal subunit complex  2.142975e-08   0.075472     1.0  0.140351   \n",
       "\n",
       "                                   TP  regulon_size  gene_set_size  n_regs  \\\n",
       "S6:S18 ribosomal subunit complex  4.0           4.0           53.0     1.0   \n",
       "\n",
       "                                        qvalue  \n",
       "S6:S18 ribosomal subunit complex  2.142975e-08  "
      ]
     },
     "metadata": {},
     "output_type": "display_data"
    },
    {
     "data": {
      "text/plain": [
       "'GadXW'"
      ]
     },
     "metadata": {},
     "output_type": "display_data"
    },
    {
     "data": {
      "text/plain": [
       "-0.16839348631226875"
      ]
     },
     "metadata": {},
     "output_type": "display_data"
    },
    {
     "data": {
      "text/plain": [
       "8"
      ]
     },
     "metadata": {},
     "output_type": "display_data"
    },
    {
     "data": {
      "text/html": [
       "<div>\n",
       "<style scoped>\n",
       "    .dataframe tbody tr th:only-of-type {\n",
       "        vertical-align: middle;\n",
       "    }\n",
       "\n",
       "    .dataframe tbody tr th {\n",
       "        vertical-align: top;\n",
       "    }\n",
       "\n",
       "    .dataframe thead th {\n",
       "        text-align: right;\n",
       "    }\n",
       "</style>\n",
       "<table border=\"1\" class=\"dataframe\">\n",
       "  <thead>\n",
       "    <tr style=\"text-align: right;\">\n",
       "      <th></th>\n",
       "      <th>pvalue</th>\n",
       "      <th>precision</th>\n",
       "      <th>recall</th>\n",
       "      <th>f1score</th>\n",
       "      <th>TP</th>\n",
       "      <th>regulon_size</th>\n",
       "      <th>gene_set_size</th>\n",
       "      <th>n_regs</th>\n",
       "      <th>qvalue</th>\n",
       "    </tr>\n",
       "  </thead>\n",
       "  <tbody>\n",
       "    <tr>\n",
       "      <th>AdiY</th>\n",
       "      <td>0.000004</td>\n",
       "      <td>0.157895</td>\n",
       "      <td>0.375</td>\n",
       "      <td>0.222222</td>\n",
       "      <td>3.0</td>\n",
       "      <td>8.0</td>\n",
       "      <td>19.0</td>\n",
       "      <td>1.0</td>\n",
       "      <td>0.000004</td>\n",
       "    </tr>\n",
       "  </tbody>\n",
       "</table>\n",
       "</div>"
      ],
      "text/plain": [
       "        pvalue  precision  recall   f1score   TP  regulon_size  gene_set_size  \\\n",
       "AdiY  0.000004   0.157895   0.375  0.222222  3.0           8.0           19.0   \n",
       "\n",
       "      n_regs    qvalue  \n",
       "AdiY     1.0  0.000004  "
      ]
     },
     "metadata": {},
     "output_type": "display_data"
    },
    {
     "data": {
      "text/plain": [
       "'GadXW'"
      ]
     },
     "metadata": {},
     "output_type": "display_data"
    },
    {
     "data": {
      "text/plain": [
       "0.11982950799047493"
      ]
     },
     "metadata": {},
     "output_type": "display_data"
    },
    {
     "data": {
      "text/plain": [
       "9"
      ]
     },
     "metadata": {},
     "output_type": "display_data"
    },
    {
     "data": {
      "text/html": [
       "<div>\n",
       "<style scoped>\n",
       "    .dataframe tbody tr th:only-of-type {\n",
       "        vertical-align: middle;\n",
       "    }\n",
       "\n",
       "    .dataframe tbody tr th {\n",
       "        vertical-align: top;\n",
       "    }\n",
       "\n",
       "    .dataframe thead th {\n",
       "        text-align: right;\n",
       "    }\n",
       "</style>\n",
       "<table border=\"1\" class=\"dataframe\">\n",
       "  <thead>\n",
       "    <tr style=\"text-align: right;\">\n",
       "      <th></th>\n",
       "      <th>pvalue</th>\n",
       "      <th>precision</th>\n",
       "      <th>recall</th>\n",
       "      <th>f1score</th>\n",
       "      <th>TP</th>\n",
       "      <th>regulon_size</th>\n",
       "      <th>gene_set_size</th>\n",
       "      <th>n_regs</th>\n",
       "      <th>qvalue</th>\n",
       "    </tr>\n",
       "  </thead>\n",
       "  <tbody>\n",
       "    <tr>\n",
       "      <th>GadRcs</th>\n",
       "      <td>3.523926e-08</td>\n",
       "      <td>0.210526</td>\n",
       "      <td>0.444444</td>\n",
       "      <td>0.285714</td>\n",
       "      <td>4.0</td>\n",
       "      <td>9.0</td>\n",
       "      <td>19.0</td>\n",
       "      <td>1.0</td>\n",
       "      <td>3.523926e-08</td>\n",
       "    </tr>\n",
       "  </tbody>\n",
       "</table>\n",
       "</div>"
      ],
      "text/plain": [
       "              pvalue  precision    recall   f1score   TP  regulon_size  \\\n",
       "GadRcs  3.523926e-08   0.210526  0.444444  0.285714  4.0           9.0   \n",
       "\n",
       "        gene_set_size  n_regs        qvalue  \n",
       "GadRcs           19.0     1.0  3.523926e-08  "
      ]
     },
     "metadata": {},
     "output_type": "display_data"
    },
    {
     "data": {
      "text/plain": [
       "'FlhDC-2'"
      ]
     },
     "metadata": {},
     "output_type": "display_data"
    },
    {
     "data": {
      "text/plain": [
       "0.4659817610344777"
      ]
     },
     "metadata": {},
     "output_type": "display_data"
    },
    {
     "data": {
      "text/plain": [
       "9"
      ]
     },
     "metadata": {},
     "output_type": "display_data"
    },
    {
     "data": {
      "text/html": [
       "<div>\n",
       "<style scoped>\n",
       "    .dataframe tbody tr th:only-of-type {\n",
       "        vertical-align: middle;\n",
       "    }\n",
       "\n",
       "    .dataframe tbody tr th {\n",
       "        vertical-align: top;\n",
       "    }\n",
       "\n",
       "    .dataframe thead th {\n",
       "        text-align: right;\n",
       "    }\n",
       "</style>\n",
       "<table border=\"1\" class=\"dataframe\">\n",
       "  <thead>\n",
       "    <tr style=\"text-align: right;\">\n",
       "      <th></th>\n",
       "      <th>pvalue</th>\n",
       "      <th>precision</th>\n",
       "      <th>recall</th>\n",
       "      <th>f1score</th>\n",
       "      <th>TP</th>\n",
       "      <th>regulon_size</th>\n",
       "      <th>gene_set_size</th>\n",
       "      <th>n_regs</th>\n",
       "      <th>qvalue</th>\n",
       "    </tr>\n",
       "  </thead>\n",
       "  <tbody>\n",
       "    <tr>\n",
       "      <th>PdeL</th>\n",
       "      <td>6.079126e-11</td>\n",
       "      <td>0.139535</td>\n",
       "      <td>0.666667</td>\n",
       "      <td>0.230769</td>\n",
       "      <td>6.0</td>\n",
       "      <td>9.0</td>\n",
       "      <td>43.0</td>\n",
       "      <td>1.0</td>\n",
       "      <td>6.079126e-11</td>\n",
       "    </tr>\n",
       "  </tbody>\n",
       "</table>\n",
       "</div>"
      ],
      "text/plain": [
       "            pvalue  precision    recall   f1score   TP  regulon_size  \\\n",
       "PdeL  6.079126e-11   0.139535  0.666667  0.230769  6.0           9.0   \n",
       "\n",
       "      gene_set_size  n_regs        qvalue  \n",
       "PdeL           43.0     1.0  6.079126e-11  "
      ]
     },
     "metadata": {},
     "output_type": "display_data"
    },
    {
     "data": {
      "text/plain": [
       "'Dipeptide'"
      ]
     },
     "metadata": {},
     "output_type": "display_data"
    },
    {
     "data": {
      "text/plain": [
       "0.322364321505545"
      ]
     },
     "metadata": {},
     "output_type": "display_data"
    },
    {
     "data": {
      "text/plain": [
       "9"
      ]
     },
     "metadata": {},
     "output_type": "display_data"
    },
    {
     "data": {
      "text/html": [
       "<div>\n",
       "<style scoped>\n",
       "    .dataframe tbody tr th:only-of-type {\n",
       "        vertical-align: middle;\n",
       "    }\n",
       "\n",
       "    .dataframe tbody tr th {\n",
       "        vertical-align: top;\n",
       "    }\n",
       "\n",
       "    .dataframe thead th {\n",
       "        text-align: right;\n",
       "    }\n",
       "</style>\n",
       "<table border=\"1\" class=\"dataframe\">\n",
       "  <thead>\n",
       "    <tr style=\"text-align: right;\">\n",
       "      <th></th>\n",
       "      <th>pvalue</th>\n",
       "      <th>precision</th>\n",
       "      <th>recall</th>\n",
       "      <th>f1score</th>\n",
       "      <th>TP</th>\n",
       "      <th>regulon_size</th>\n",
       "      <th>gene_set_size</th>\n",
       "      <th>n_regs</th>\n",
       "      <th>qvalue</th>\n",
       "    </tr>\n",
       "  </thead>\n",
       "  <tbody>\n",
       "    <tr>\n",
       "      <th>PdeL</th>\n",
       "      <td>3.641790e-07</td>\n",
       "      <td>0.375</td>\n",
       "      <td>0.333333</td>\n",
       "      <td>0.352941</td>\n",
       "      <td>3.0</td>\n",
       "      <td>9.0</td>\n",
       "      <td>8.0</td>\n",
       "      <td>1.0</td>\n",
       "      <td>3.641790e-07</td>\n",
       "    </tr>\n",
       "  </tbody>\n",
       "</table>\n",
       "</div>"
      ],
      "text/plain": [
       "            pvalue  precision    recall   f1score   TP  regulon_size  \\\n",
       "PdeL  3.641790e-07      0.375  0.333333  0.352941  3.0           9.0   \n",
       "\n",
       "      gene_set_size  n_regs        qvalue  \n",
       "PdeL            8.0     1.0  3.641790e-07  "
      ]
     },
     "metadata": {},
     "output_type": "display_data"
    },
    {
     "data": {
      "text/plain": [
       "'Flagella'"
      ]
     },
     "metadata": {},
     "output_type": "display_data"
    },
    {
     "data": {
      "text/plain": [
       "0.1872894491685302"
      ]
     },
     "metadata": {},
     "output_type": "display_data"
    },
    {
     "data": {
      "text/plain": [
       "9"
      ]
     },
     "metadata": {},
     "output_type": "display_data"
    },
    {
     "data": {
      "text/html": [
       "<div>\n",
       "<style scoped>\n",
       "    .dataframe tbody tr th:only-of-type {\n",
       "        vertical-align: middle;\n",
       "    }\n",
       "\n",
       "    .dataframe tbody tr th {\n",
       "        vertical-align: top;\n",
       "    }\n",
       "\n",
       "    .dataframe thead th {\n",
       "        text-align: right;\n",
       "    }\n",
       "</style>\n",
       "<table border=\"1\" class=\"dataframe\">\n",
       "  <thead>\n",
       "    <tr style=\"text-align: right;\">\n",
       "      <th></th>\n",
       "      <th>pvalue</th>\n",
       "      <th>precision</th>\n",
       "      <th>recall</th>\n",
       "      <th>f1score</th>\n",
       "      <th>TP</th>\n",
       "      <th>regulon_size</th>\n",
       "      <th>gene_set_size</th>\n",
       "      <th>n_regs</th>\n",
       "      <th>qvalue</th>\n",
       "    </tr>\n",
       "  </thead>\n",
       "  <tbody>\n",
       "    <tr>\n",
       "      <th>PdeL</th>\n",
       "      <td>2.612318e-08</td>\n",
       "      <td>0.75</td>\n",
       "      <td>0.333333</td>\n",
       "      <td>0.461538</td>\n",
       "      <td>3.0</td>\n",
       "      <td>9.0</td>\n",
       "      <td>4.0</td>\n",
       "      <td>1.0</td>\n",
       "      <td>2.612318e-08</td>\n",
       "    </tr>\n",
       "  </tbody>\n",
       "</table>\n",
       "</div>"
      ],
      "text/plain": [
       "            pvalue  precision    recall   f1score   TP  regulon_size  \\\n",
       "PdeL  2.612318e-08       0.75  0.333333  0.461538  3.0           9.0   \n",
       "\n",
       "      gene_set_size  n_regs        qvalue  \n",
       "PdeL            4.0     1.0  2.612318e-08  "
      ]
     },
     "metadata": {},
     "output_type": "display_data"
    },
    {
     "data": {
      "text/plain": [
       "'Galactose'"
      ]
     },
     "metadata": {},
     "output_type": "display_data"
    },
    {
     "data": {
      "text/plain": [
       "-0.14184360517345737"
      ]
     },
     "metadata": {},
     "output_type": "display_data"
    },
    {
     "data": {
      "text/plain": [
       "4"
      ]
     },
     "metadata": {},
     "output_type": "display_data"
    },
    {
     "data": {
      "text/html": [
       "<div>\n",
       "<style scoped>\n",
       "    .dataframe tbody tr th:only-of-type {\n",
       "        vertical-align: middle;\n",
       "    }\n",
       "\n",
       "    .dataframe tbody tr th {\n",
       "        vertical-align: top;\n",
       "    }\n",
       "\n",
       "    .dataframe thead th {\n",
       "        text-align: right;\n",
       "    }\n",
       "</style>\n",
       "<table border=\"1\" class=\"dataframe\">\n",
       "  <thead>\n",
       "    <tr style=\"text-align: right;\">\n",
       "      <th></th>\n",
       "      <th>pvalue</th>\n",
       "      <th>precision</th>\n",
       "      <th>recall</th>\n",
       "      <th>f1score</th>\n",
       "      <th>TP</th>\n",
       "      <th>regulon_size</th>\n",
       "      <th>gene_set_size</th>\n",
       "      <th>n_regs</th>\n",
       "      <th>qvalue</th>\n",
       "    </tr>\n",
       "  </thead>\n",
       "  <tbody>\n",
       "    <tr>\n",
       "      <th>HU</th>\n",
       "      <td>1.536838e-11</td>\n",
       "      <td>0.4</td>\n",
       "      <td>1.0</td>\n",
       "      <td>0.571429</td>\n",
       "      <td>4.0</td>\n",
       "      <td>4.0</td>\n",
       "      <td>10.0</td>\n",
       "      <td>1.0</td>\n",
       "      <td>1.536838e-11</td>\n",
       "    </tr>\n",
       "  </tbody>\n",
       "</table>\n",
       "</div>"
      ],
      "text/plain": [
       "          pvalue  precision  recall   f1score   TP  regulon_size  \\\n",
       "HU  1.536838e-11        0.4     1.0  0.571429  4.0           4.0   \n",
       "\n",
       "    gene_set_size  n_regs        qvalue  \n",
       "HU           10.0     1.0  1.536838e-11  "
      ]
     },
     "metadata": {},
     "output_type": "display_data"
    },
    {
     "data": {
      "text/plain": [
       "'PAL Amp'"
      ]
     },
     "metadata": {},
     "output_type": "display_data"
    },
    {
     "data": {
      "text/plain": [
       "0.5489385789317164"
      ]
     },
     "metadata": {},
     "output_type": "display_data"
    },
    {
     "data": {
      "text/plain": [
       "4"
      ]
     },
     "metadata": {},
     "output_type": "display_data"
    },
    {
     "data": {
      "text/html": [
       "<div>\n",
       "<style scoped>\n",
       "    .dataframe tbody tr th:only-of-type {\n",
       "        vertical-align: middle;\n",
       "    }\n",
       "\n",
       "    .dataframe tbody tr th {\n",
       "        vertical-align: top;\n",
       "    }\n",
       "\n",
       "    .dataframe thead th {\n",
       "        text-align: right;\n",
       "    }\n",
       "</style>\n",
       "<table border=\"1\" class=\"dataframe\">\n",
       "  <thead>\n",
       "    <tr style=\"text-align: right;\">\n",
       "      <th></th>\n",
       "      <th>pvalue</th>\n",
       "      <th>precision</th>\n",
       "      <th>recall</th>\n",
       "      <th>f1score</th>\n",
       "      <th>TP</th>\n",
       "      <th>regulon_size</th>\n",
       "      <th>gene_set_size</th>\n",
       "      <th>n_regs</th>\n",
       "      <th>qvalue</th>\n",
       "    </tr>\n",
       "  </thead>\n",
       "  <tbody>\n",
       "    <tr>\n",
       "      <th>HU</th>\n",
       "      <td>1.706542e-07</td>\n",
       "      <td>0.045455</td>\n",
       "      <td>1.0</td>\n",
       "      <td>0.086957</td>\n",
       "      <td>4.0</td>\n",
       "      <td>4.0</td>\n",
       "      <td>88.0</td>\n",
       "      <td>1.0</td>\n",
       "      <td>1.706542e-07</td>\n",
       "    </tr>\n",
       "  </tbody>\n",
       "</table>\n",
       "</div>"
      ],
      "text/plain": [
       "          pvalue  precision  recall   f1score   TP  regulon_size  \\\n",
       "HU  1.706542e-07   0.045455     1.0  0.086957  4.0           4.0   \n",
       "\n",
       "    gene_set_size  n_regs        qvalue  \n",
       "HU           88.0     1.0  1.706542e-07  "
      ]
     },
     "metadata": {},
     "output_type": "display_data"
    },
    {
     "data": {
      "text/plain": [
       "'NtrC-3'"
      ]
     },
     "metadata": {},
     "output_type": "display_data"
    },
    {
     "data": {
      "text/plain": [
       "-0.046457002093955785"
      ]
     },
     "metadata": {},
     "output_type": "display_data"
    },
    {
     "data": {
      "text/plain": [
       "16"
      ]
     },
     "metadata": {},
     "output_type": "display_data"
    },
    {
     "data": {
      "text/html": [
       "<div>\n",
       "<style scoped>\n",
       "    .dataframe tbody tr th:only-of-type {\n",
       "        vertical-align: middle;\n",
       "    }\n",
       "\n",
       "    .dataframe tbody tr th {\n",
       "        vertical-align: top;\n",
       "    }\n",
       "\n",
       "    .dataframe thead th {\n",
       "        text-align: right;\n",
       "    }\n",
       "</style>\n",
       "<table border=\"1\" class=\"dataframe\">\n",
       "  <thead>\n",
       "    <tr style=\"text-align: right;\">\n",
       "      <th></th>\n",
       "      <th>pvalue</th>\n",
       "      <th>precision</th>\n",
       "      <th>recall</th>\n",
       "      <th>f1score</th>\n",
       "      <th>TP</th>\n",
       "      <th>regulon_size</th>\n",
       "      <th>gene_set_size</th>\n",
       "      <th>n_regs</th>\n",
       "      <th>qvalue</th>\n",
       "    </tr>\n",
       "  </thead>\n",
       "  <tbody>\n",
       "    <tr>\n",
       "      <th>RutR</th>\n",
       "      <td>1.730637e-13</td>\n",
       "      <td>0.35</td>\n",
       "      <td>0.4375</td>\n",
       "      <td>0.388889</td>\n",
       "      <td>7.0</td>\n",
       "      <td>16.0</td>\n",
       "      <td>20.0</td>\n",
       "      <td>1.0</td>\n",
       "      <td>1.730637e-13</td>\n",
       "    </tr>\n",
       "  </tbody>\n",
       "</table>\n",
       "</div>"
      ],
      "text/plain": [
       "            pvalue  precision  recall   f1score   TP  regulon_size  \\\n",
       "RutR  1.730637e-13       0.35  0.4375  0.388889  7.0          16.0   \n",
       "\n",
       "      gene_set_size  n_regs        qvalue  \n",
       "RutR           20.0     1.0  1.730637e-13  "
      ]
     },
     "metadata": {},
     "output_type": "display_data"
    },
    {
     "data": {
      "text/plain": [
       "'tpiA KO'"
      ]
     },
     "metadata": {},
     "output_type": "display_data"
    },
    {
     "data": {
      "text/plain": [
       "0.12016471711747126"
      ]
     },
     "metadata": {},
     "output_type": "display_data"
    },
    {
     "data": {
      "text/plain": [
       "16"
      ]
     },
     "metadata": {},
     "output_type": "display_data"
    },
    {
     "data": {
      "text/html": [
       "<div>\n",
       "<style scoped>\n",
       "    .dataframe tbody tr th:only-of-type {\n",
       "        vertical-align: middle;\n",
       "    }\n",
       "\n",
       "    .dataframe tbody tr th {\n",
       "        vertical-align: top;\n",
       "    }\n",
       "\n",
       "    .dataframe thead th {\n",
       "        text-align: right;\n",
       "    }\n",
       "</style>\n",
       "<table border=\"1\" class=\"dataframe\">\n",
       "  <thead>\n",
       "    <tr style=\"text-align: right;\">\n",
       "      <th></th>\n",
       "      <th>pvalue</th>\n",
       "      <th>precision</th>\n",
       "      <th>recall</th>\n",
       "      <th>f1score</th>\n",
       "      <th>TP</th>\n",
       "      <th>regulon_size</th>\n",
       "      <th>gene_set_size</th>\n",
       "      <th>n_regs</th>\n",
       "      <th>qvalue</th>\n",
       "    </tr>\n",
       "  </thead>\n",
       "  <tbody>\n",
       "    <tr>\n",
       "      <th>RutR</th>\n",
       "      <td>0.000005</td>\n",
       "      <td>0.3</td>\n",
       "      <td>0.1875</td>\n",
       "      <td>0.230769</td>\n",
       "      <td>3.0</td>\n",
       "      <td>16.0</td>\n",
       "      <td>10.0</td>\n",
       "      <td>1.0</td>\n",
       "      <td>0.000005</td>\n",
       "    </tr>\n",
       "  </tbody>\n",
       "</table>\n",
       "</div>"
      ],
      "text/plain": [
       "        pvalue  precision  recall   f1score   TP  regulon_size  gene_set_size  \\\n",
       "RutR  0.000005        0.3  0.1875  0.230769  3.0          16.0           10.0   \n",
       "\n",
       "      n_regs    qvalue  \n",
       "RutR     1.0  0.000005  "
      ]
     },
     "metadata": {},
     "output_type": "display_data"
    },
    {
     "data": {
      "text/plain": [
       "'IS5'"
      ]
     },
     "metadata": {},
     "output_type": "display_data"
    },
    {
     "data": {
      "text/plain": [
       "0.5824939963840795"
      ]
     },
     "metadata": {},
     "output_type": "display_data"
    },
    {
     "data": {
      "text/plain": [
       "2"
      ]
     },
     "metadata": {},
     "output_type": "display_data"
    },
    {
     "data": {
      "text/html": [
       "<div>\n",
       "<style scoped>\n",
       "    .dataframe tbody tr th:only-of-type {\n",
       "        vertical-align: middle;\n",
       "    }\n",
       "\n",
       "    .dataframe tbody tr th {\n",
       "        vertical-align: top;\n",
       "    }\n",
       "\n",
       "    .dataframe thead th {\n",
       "        text-align: right;\n",
       "    }\n",
       "</style>\n",
       "<table border=\"1\" class=\"dataframe\">\n",
       "  <thead>\n",
       "    <tr style=\"text-align: right;\">\n",
       "      <th></th>\n",
       "      <th>pvalue</th>\n",
       "      <th>precision</th>\n",
       "      <th>recall</th>\n",
       "      <th>f1score</th>\n",
       "      <th>TP</th>\n",
       "      <th>regulon_size</th>\n",
       "      <th>gene_set_size</th>\n",
       "      <th>n_regs</th>\n",
       "      <th>qvalue</th>\n",
       "    </tr>\n",
       "  </thead>\n",
       "  <tbody>\n",
       "    <tr>\n",
       "      <th>TreR</th>\n",
       "      <td>0.000004</td>\n",
       "      <td>0.222222</td>\n",
       "      <td>1.0</td>\n",
       "      <td>0.363636</td>\n",
       "      <td>2.0</td>\n",
       "      <td>2.0</td>\n",
       "      <td>9.0</td>\n",
       "      <td>1.0</td>\n",
       "      <td>0.000004</td>\n",
       "    </tr>\n",
       "  </tbody>\n",
       "</table>\n",
       "</div>"
      ],
      "text/plain": [
       "        pvalue  precision  recall   f1score   TP  regulon_size  gene_set_size  \\\n",
       "TreR  0.000004   0.222222     1.0  0.363636  2.0           2.0            9.0   \n",
       "\n",
       "      n_regs    qvalue  \n",
       "TreR     1.0  0.000004  "
      ]
     },
     "metadata": {},
     "output_type": "display_data"
    },
    {
     "data": {
      "text/plain": [
       "'Salicylic Acid'"
      ]
     },
     "metadata": {},
     "output_type": "display_data"
    },
    {
     "data": {
      "text/plain": [
       "-0.10942870617275417"
      ]
     },
     "metadata": {},
     "output_type": "display_data"
    },
    {
     "data": {
      "text/plain": [
       "3"
      ]
     },
     "metadata": {},
     "output_type": "display_data"
    },
    {
     "data": {
      "text/html": [
       "<div>\n",
       "<style scoped>\n",
       "    .dataframe tbody tr th:only-of-type {\n",
       "        vertical-align: middle;\n",
       "    }\n",
       "\n",
       "    .dataframe tbody tr th {\n",
       "        vertical-align: top;\n",
       "    }\n",
       "\n",
       "    .dataframe thead th {\n",
       "        text-align: right;\n",
       "    }\n",
       "</style>\n",
       "<table border=\"1\" class=\"dataframe\">\n",
       "  <thead>\n",
       "    <tr style=\"text-align: right;\">\n",
       "      <th></th>\n",
       "      <th>pvalue</th>\n",
       "      <th>precision</th>\n",
       "      <th>recall</th>\n",
       "      <th>f1score</th>\n",
       "      <th>TP</th>\n",
       "      <th>regulon_size</th>\n",
       "      <th>gene_set_size</th>\n",
       "      <th>n_regs</th>\n",
       "      <th>qvalue</th>\n",
       "    </tr>\n",
       "  </thead>\n",
       "  <tbody>\n",
       "    <tr>\n",
       "      <th>MarR</th>\n",
       "      <td>6.537711e-09</td>\n",
       "      <td>0.333333</td>\n",
       "      <td>1.0</td>\n",
       "      <td>0.5</td>\n",
       "      <td>3.0</td>\n",
       "      <td>3.0</td>\n",
       "      <td>9.0</td>\n",
       "      <td>1.0</td>\n",
       "      <td>6.537711e-09</td>\n",
       "    </tr>\n",
       "  </tbody>\n",
       "</table>\n",
       "</div>"
      ],
      "text/plain": [
       "            pvalue  precision  recall  f1score   TP  regulon_size  \\\n",
       "MarR  6.537711e-09   0.333333     1.0      0.5  3.0           3.0   \n",
       "\n",
       "      gene_set_size  n_regs        qvalue  \n",
       "MarR            9.0     1.0  6.537711e-09  "
      ]
     },
     "metadata": {},
     "output_type": "display_data"
    },
    {
     "data": {
      "text/plain": [
       "'tpiA KO'"
      ]
     },
     "metadata": {},
     "output_type": "display_data"
    },
    {
     "data": {
      "text/plain": [
       "0.08399851941274947"
      ]
     },
     "metadata": {},
     "output_type": "display_data"
    },
    {
     "data": {
      "text/plain": [
       "2"
      ]
     },
     "metadata": {},
     "output_type": "display_data"
    },
    {
     "data": {
      "text/html": [
       "<div>\n",
       "<style scoped>\n",
       "    .dataframe tbody tr th:only-of-type {\n",
       "        vertical-align: middle;\n",
       "    }\n",
       "\n",
       "    .dataframe tbody tr th {\n",
       "        vertical-align: top;\n",
       "    }\n",
       "\n",
       "    .dataframe thead th {\n",
       "        text-align: right;\n",
       "    }\n",
       "</style>\n",
       "<table border=\"1\" class=\"dataframe\">\n",
       "  <thead>\n",
       "    <tr style=\"text-align: right;\">\n",
       "      <th></th>\n",
       "      <th>pvalue</th>\n",
       "      <th>precision</th>\n",
       "      <th>recall</th>\n",
       "      <th>f1score</th>\n",
       "      <th>TP</th>\n",
       "      <th>regulon_size</th>\n",
       "      <th>gene_set_size</th>\n",
       "      <th>n_regs</th>\n",
       "      <th>qvalue</th>\n",
       "    </tr>\n",
       "  </thead>\n",
       "  <tbody>\n",
       "    <tr>\n",
       "      <th>YqhC</th>\n",
       "      <td>0.000005</td>\n",
       "      <td>0.2</td>\n",
       "      <td>1.0</td>\n",
       "      <td>0.333333</td>\n",
       "      <td>2.0</td>\n",
       "      <td>2.0</td>\n",
       "      <td>10.0</td>\n",
       "      <td>1.0</td>\n",
       "      <td>0.000005</td>\n",
       "    </tr>\n",
       "  </tbody>\n",
       "</table>\n",
       "</div>"
      ],
      "text/plain": [
       "        pvalue  precision  recall   f1score   TP  regulon_size  gene_set_size  \\\n",
       "YqhC  0.000005        0.2     1.0  0.333333  2.0           2.0           10.0   \n",
       "\n",
       "      n_regs    qvalue  \n",
       "YqhC     1.0  0.000005  "
      ]
     },
     "metadata": {},
     "output_type": "display_data"
    },
    {
     "data": {
      "text/plain": [
       "'Rhamnose'"
      ]
     },
     "metadata": {},
     "output_type": "display_data"
    },
    {
     "data": {
      "text/plain": [
       "0.10353629448113691"
      ]
     },
     "metadata": {},
     "output_type": "display_data"
    },
    {
     "data": {
      "text/plain": [
       "2"
      ]
     },
     "metadata": {},
     "output_type": "display_data"
    },
    {
     "data": {
      "text/html": [
       "<div>\n",
       "<style scoped>\n",
       "    .dataframe tbody tr th:only-of-type {\n",
       "        vertical-align: middle;\n",
       "    }\n",
       "\n",
       "    .dataframe tbody tr th {\n",
       "        vertical-align: top;\n",
       "    }\n",
       "\n",
       "    .dataframe thead th {\n",
       "        text-align: right;\n",
       "    }\n",
       "</style>\n",
       "<table border=\"1\" class=\"dataframe\">\n",
       "  <thead>\n",
       "    <tr style=\"text-align: right;\">\n",
       "      <th></th>\n",
       "      <th>pvalue</th>\n",
       "      <th>precision</th>\n",
       "      <th>recall</th>\n",
       "      <th>f1score</th>\n",
       "      <th>TP</th>\n",
       "      <th>regulon_size</th>\n",
       "      <th>gene_set_size</th>\n",
       "      <th>n_regs</th>\n",
       "      <th>qvalue</th>\n",
       "    </tr>\n",
       "  </thead>\n",
       "  <tbody>\n",
       "    <tr>\n",
       "      <th>RhaR</th>\n",
       "      <td>0.000003</td>\n",
       "      <td>0.25</td>\n",
       "      <td>1.0</td>\n",
       "      <td>0.4</td>\n",
       "      <td>2.0</td>\n",
       "      <td>2.0</td>\n",
       "      <td>8.0</td>\n",
       "      <td>1.0</td>\n",
       "      <td>0.000003</td>\n",
       "    </tr>\n",
       "  </tbody>\n",
       "</table>\n",
       "</div>"
      ],
      "text/plain": [
       "        pvalue  precision  recall  f1score   TP  regulon_size  gene_set_size  \\\n",
       "RhaR  0.000003       0.25     1.0      0.4  2.0           2.0            8.0   \n",
       "\n",
       "      n_regs    qvalue  \n",
       "RhaR     1.0  0.000003  "
      ]
     },
     "metadata": {},
     "output_type": "display_data"
    },
    {
     "data": {
      "text/plain": [
       "'UC-9'"
      ]
     },
     "metadata": {},
     "output_type": "display_data"
    },
    {
     "data": {
      "text/plain": [
       "0.28757152768677924"
      ]
     },
     "metadata": {},
     "output_type": "display_data"
    },
    {
     "data": {
      "text/plain": [
       "2"
      ]
     },
     "metadata": {},
     "output_type": "display_data"
    },
    {
     "data": {
      "text/html": [
       "<div>\n",
       "<style scoped>\n",
       "    .dataframe tbody tr th:only-of-type {\n",
       "        vertical-align: middle;\n",
       "    }\n",
       "\n",
       "    .dataframe tbody tr th {\n",
       "        vertical-align: top;\n",
       "    }\n",
       "\n",
       "    .dataframe thead th {\n",
       "        text-align: right;\n",
       "    }\n",
       "</style>\n",
       "<table border=\"1\" class=\"dataframe\">\n",
       "  <thead>\n",
       "    <tr style=\"text-align: right;\">\n",
       "      <th></th>\n",
       "      <th>pvalue</th>\n",
       "      <th>precision</th>\n",
       "      <th>recall</th>\n",
       "      <th>f1score</th>\n",
       "      <th>TP</th>\n",
       "      <th>regulon_size</th>\n",
       "      <th>gene_set_size</th>\n",
       "      <th>n_regs</th>\n",
       "      <th>qvalue</th>\n",
       "    </tr>\n",
       "  </thead>\n",
       "  <tbody>\n",
       "    <tr>\n",
       "      <th>YdfH</th>\n",
       "      <td>0.000005</td>\n",
       "      <td>0.2</td>\n",
       "      <td>1.0</td>\n",
       "      <td>0.333333</td>\n",
       "      <td>2.0</td>\n",
       "      <td>2.0</td>\n",
       "      <td>10.0</td>\n",
       "      <td>1.0</td>\n",
       "      <td>0.000005</td>\n",
       "    </tr>\n",
       "  </tbody>\n",
       "</table>\n",
       "</div>"
      ],
      "text/plain": [
       "        pvalue  precision  recall   f1score   TP  regulon_size  gene_set_size  \\\n",
       "YdfH  0.000005        0.2     1.0  0.333333  2.0           2.0           10.0   \n",
       "\n",
       "      n_regs    qvalue  \n",
       "YdfH     1.0  0.000005  "
      ]
     },
     "metadata": {},
     "output_type": "display_data"
    },
    {
     "data": {
      "text/plain": [
       "'CCK-PGI Del'"
      ]
     },
     "metadata": {},
     "output_type": "display_data"
    },
    {
     "data": {
      "text/plain": [
       "0.427631568337664"
      ]
     },
     "metadata": {},
     "output_type": "display_data"
    },
    {
     "data": {
      "text/plain": [
       "6"
      ]
     },
     "metadata": {},
     "output_type": "display_data"
    },
    {
     "data": {
      "text/html": [
       "<div>\n",
       "<style scoped>\n",
       "    .dataframe tbody tr th:only-of-type {\n",
       "        vertical-align: middle;\n",
       "    }\n",
       "\n",
       "    .dataframe tbody tr th {\n",
       "        vertical-align: top;\n",
       "    }\n",
       "\n",
       "    .dataframe thead th {\n",
       "        text-align: right;\n",
       "    }\n",
       "</style>\n",
       "<table border=\"1\" class=\"dataframe\">\n",
       "  <thead>\n",
       "    <tr style=\"text-align: right;\">\n",
       "      <th></th>\n",
       "      <th>pvalue</th>\n",
       "      <th>precision</th>\n",
       "      <th>recall</th>\n",
       "      <th>f1score</th>\n",
       "      <th>TP</th>\n",
       "      <th>regulon_size</th>\n",
       "      <th>gene_set_size</th>\n",
       "      <th>n_regs</th>\n",
       "      <th>qvalue</th>\n",
       "    </tr>\n",
       "  </thead>\n",
       "  <tbody>\n",
       "    <tr>\n",
       "      <th>RacR</th>\n",
       "      <td>1.547170e-12</td>\n",
       "      <td>0.333333</td>\n",
       "      <td>0.833333</td>\n",
       "      <td>0.47619</td>\n",
       "      <td>5.0</td>\n",
       "      <td>6.0</td>\n",
       "      <td>15.0</td>\n",
       "      <td>1.0</td>\n",
       "      <td>1.547170e-12</td>\n",
       "    </tr>\n",
       "  </tbody>\n",
       "</table>\n",
       "</div>"
      ],
      "text/plain": [
       "            pvalue  precision    recall  f1score   TP  regulon_size  \\\n",
       "RacR  1.547170e-12   0.333333  0.833333  0.47619  5.0           6.0   \n",
       "\n",
       "      gene_set_size  n_regs        qvalue  \n",
       "RacR           15.0     1.0  1.547170e-12  "
      ]
     },
     "metadata": {},
     "output_type": "display_data"
    },
    {
     "data": {
      "text/plain": [
       "'BW25113'"
      ]
     },
     "metadata": {},
     "output_type": "display_data"
    },
    {
     "data": {
      "text/plain": [
       "0.35895002037436385"
      ]
     },
     "metadata": {},
     "output_type": "display_data"
    },
    {
     "data": {
      "text/plain": [
       "6"
      ]
     },
     "metadata": {},
     "output_type": "display_data"
    },
    {
     "data": {
      "text/html": [
       "<div>\n",
       "<style scoped>\n",
       "    .dataframe tbody tr th:only-of-type {\n",
       "        vertical-align: middle;\n",
       "    }\n",
       "\n",
       "    .dataframe tbody tr th {\n",
       "        vertical-align: top;\n",
       "    }\n",
       "\n",
       "    .dataframe thead th {\n",
       "        text-align: right;\n",
       "    }\n",
       "</style>\n",
       "<table border=\"1\" class=\"dataframe\">\n",
       "  <thead>\n",
       "    <tr style=\"text-align: right;\">\n",
       "      <th></th>\n",
       "      <th>pvalue</th>\n",
       "      <th>precision</th>\n",
       "      <th>recall</th>\n",
       "      <th>f1score</th>\n",
       "      <th>TP</th>\n",
       "      <th>regulon_size</th>\n",
       "      <th>gene_set_size</th>\n",
       "      <th>n_regs</th>\n",
       "      <th>qvalue</th>\n",
       "    </tr>\n",
       "  </thead>\n",
       "  <tbody>\n",
       "    <tr>\n",
       "      <th>MhpR</th>\n",
       "      <td>1.627569e-08</td>\n",
       "      <td>0.153846</td>\n",
       "      <td>0.666667</td>\n",
       "      <td>0.25</td>\n",
       "      <td>4.0</td>\n",
       "      <td>6.0</td>\n",
       "      <td>26.0</td>\n",
       "      <td>1.0</td>\n",
       "      <td>1.627569e-08</td>\n",
       "    </tr>\n",
       "  </tbody>\n",
       "</table>\n",
       "</div>"
      ],
      "text/plain": [
       "            pvalue  precision    recall  f1score   TP  regulon_size  \\\n",
       "MhpR  1.627569e-08   0.153846  0.666667     0.25  4.0           6.0   \n",
       "\n",
       "      gene_set_size  n_regs        qvalue  \n",
       "MhpR           26.0     1.0  1.627569e-08  "
      ]
     },
     "metadata": {},
     "output_type": "display_data"
    },
    {
     "data": {
      "text/plain": [
       "'tpiA KO'"
      ]
     },
     "metadata": {},
     "output_type": "display_data"
    },
    {
     "data": {
      "text/plain": [
       "-0.06087113525799215"
      ]
     },
     "metadata": {},
     "output_type": "display_data"
    },
    {
     "data": {
      "text/plain": [
       "3"
      ]
     },
     "metadata": {},
     "output_type": "display_data"
    },
    {
     "data": {
      "text/html": [
       "<div>\n",
       "<style scoped>\n",
       "    .dataframe tbody tr th:only-of-type {\n",
       "        vertical-align: middle;\n",
       "    }\n",
       "\n",
       "    .dataframe tbody tr th {\n",
       "        vertical-align: top;\n",
       "    }\n",
       "\n",
       "    .dataframe thead th {\n",
       "        text-align: right;\n",
       "    }\n",
       "</style>\n",
       "<table border=\"1\" class=\"dataframe\">\n",
       "  <thead>\n",
       "    <tr style=\"text-align: right;\">\n",
       "      <th></th>\n",
       "      <th>pvalue</th>\n",
       "      <th>precision</th>\n",
       "      <th>recall</th>\n",
       "      <th>f1score</th>\n",
       "      <th>TP</th>\n",
       "      <th>regulon_size</th>\n",
       "      <th>gene_set_size</th>\n",
       "      <th>n_regs</th>\n",
       "      <th>qvalue</th>\n",
       "    </tr>\n",
       "  </thead>\n",
       "  <tbody>\n",
       "    <tr>\n",
       "      <th>NemR</th>\n",
       "      <td>9.339587e-09</td>\n",
       "      <td>0.3</td>\n",
       "      <td>1.0</td>\n",
       "      <td>0.461538</td>\n",
       "      <td>3.0</td>\n",
       "      <td>3.0</td>\n",
       "      <td>10.0</td>\n",
       "      <td>1.0</td>\n",
       "      <td>9.339587e-09</td>\n",
       "    </tr>\n",
       "  </tbody>\n",
       "</table>\n",
       "</div>"
      ],
      "text/plain": [
       "            pvalue  precision  recall   f1score   TP  regulon_size  \\\n",
       "NemR  9.339587e-09        0.3     1.0  0.461538  3.0           3.0   \n",
       "\n",
       "      gene_set_size  n_regs        qvalue  \n",
       "NemR           10.0     1.0  9.339587e-09  "
      ]
     },
     "metadata": {},
     "output_type": "display_data"
    },
    {
     "data": {
      "text/plain": [
       "'entC/ubiC KO-2'"
      ]
     },
     "metadata": {},
     "output_type": "display_data"
    },
    {
     "data": {
      "text/plain": [
       "-0.20017571880851803"
      ]
     },
     "metadata": {},
     "output_type": "display_data"
    },
    {
     "data": {
      "text/plain": [
       "3"
      ]
     },
     "metadata": {},
     "output_type": "display_data"
    },
    {
     "data": {
      "text/html": [
       "<div>\n",
       "<style scoped>\n",
       "    .dataframe tbody tr th:only-of-type {\n",
       "        vertical-align: middle;\n",
       "    }\n",
       "\n",
       "    .dataframe tbody tr th {\n",
       "        vertical-align: top;\n",
       "    }\n",
       "\n",
       "    .dataframe thead th {\n",
       "        text-align: right;\n",
       "    }\n",
       "</style>\n",
       "<table border=\"1\" class=\"dataframe\">\n",
       "  <thead>\n",
       "    <tr style=\"text-align: right;\">\n",
       "      <th></th>\n",
       "      <th>pvalue</th>\n",
       "      <th>precision</th>\n",
       "      <th>recall</th>\n",
       "      <th>f1score</th>\n",
       "      <th>TP</th>\n",
       "      <th>regulon_size</th>\n",
       "      <th>gene_set_size</th>\n",
       "      <th>n_regs</th>\n",
       "      <th>qvalue</th>\n",
       "    </tr>\n",
       "  </thead>\n",
       "  <tbody>\n",
       "    <tr>\n",
       "      <th>PtrR</th>\n",
       "      <td>0.000003</td>\n",
       "      <td>0.4</td>\n",
       "      <td>0.666667</td>\n",
       "      <td>0.5</td>\n",
       "      <td>2.0</td>\n",
       "      <td>3.0</td>\n",
       "      <td>5.0</td>\n",
       "      <td>1.0</td>\n",
       "      <td>0.000003</td>\n",
       "    </tr>\n",
       "  </tbody>\n",
       "</table>\n",
       "</div>"
      ],
      "text/plain": [
       "        pvalue  precision    recall  f1score   TP  regulon_size  \\\n",
       "PtrR  0.000003        0.4  0.666667      0.5  2.0           3.0   \n",
       "\n",
       "      gene_set_size  n_regs    qvalue  \n",
       "PtrR            5.0     1.0  0.000003  "
      ]
     },
     "metadata": {},
     "output_type": "display_data"
    }
   ],
   "source": [
    "count_enriched = 0\n",
    "enriched_sizes = []\n",
    "count_corr = 0\n",
    "enriched = False\n",
    "correlated = False\n",
    "for reg in not_captured_regs:\n",
    "    reg = reg.lower()\n",
    "    trn_temp = trn[trn.regulator.str.lower() == reg]\n",
    "    for ica_column in p1k_gene_presence.columns:\n",
    "        ica_genes = set(p1k_gene_presence.index[p1k_gene_presence[ica_column] == 1])\n",
    "        trn_enrichment = compute_trn_enrichment(ica_genes,p1k_M.index,trn_temp, fdr=1e-5)\n",
    "        if len(trn_enrichment) > 0:\n",
    "            enriched = True\n",
    "            correlation = spearmanr(p1k_A.loc[ica_column], NCA_A.loc[NCA_A.index.str.lower() == reg].T)[0]\n",
    "            display(ica_column,correlation, len(trn_temp), (trn_enrichment))\n",
    "            if abs(correlation) > .7:\n",
    "                correlated = True\n",
    "                display(ica_column,correlation, len(trn_temp), (trn_enrichment))\n",
    "    if enriched:\n",
    "        count_enriched += 1\n",
    "        enriched_sizes.append(len(trn_temp))\n",
    "        enriched = False\n",
    "    if correlated:\n",
    "        count_corr += 1\n",
    "        correlated = False"
   ]
  }
 ],
 "metadata": {
  "kernelspec": {
   "display_name": "Python [conda env:miniconda3-modulome]",
   "language": "python",
   "name": "conda-env-miniconda3-modulome-py"
  },
  "language_info": {
   "codemirror_mode": {
    "name": "ipython",
    "version": 3
   },
   "file_extension": ".py",
   "mimetype": "text/x-python",
   "name": "python",
   "nbconvert_exporter": "python",
   "pygments_lexer": "ipython3",
   "version": "3.7.12"
  }
 },
 "nbformat": 4,
 "nbformat_minor": 5
}
