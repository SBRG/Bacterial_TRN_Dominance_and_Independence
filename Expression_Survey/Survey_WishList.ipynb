{
 "cells": [
  {
   "cell_type": "markdown",
   "id": "ed910faa-6a5e-4a7f-b831-c58e6890be40",
   "metadata": {},
   "source": [
    "# Package import"
   ]
  },
  {
   "cell_type": "markdown",
   "id": "815d6caf-986a-4970-ac49-3b37d4ec3da3",
   "metadata": {},
   "source": [
    "# Bitome and Genomic Data Processing"
   ]
  },
  {
   "cell_type": "markdown",
   "id": "6f6ac5b2-44b5-416b-8d58-aae9f253bcab",
   "metadata": {
    "jp-MarkdownHeadingCollapsed": true
   },
   "source": [
    "# RegulonDB Data Processing"
   ]
  },
  {
   "cell_type": "markdown",
   "id": "9ac6095d-a0b0-40d0-bd1b-d5024729756b",
   "metadata": {},
   "source": [
    "# Precise1k and iModulon Data processing"
   ]
  },
  {
   "cell_type": "markdown",
   "id": "1c9b43e5-9735-420e-829e-f7b92e3df12a",
   "metadata": {},
   "source": [
    "# Questions"
   ]
  },
  {
   "cell_type": "markdown",
   "id": "13b4c124-7cf1-4de6-bc75-ef2498f1142e",
   "metadata": {},
   "source": [
    "## How many high confidence promoters are there in E. coli MG1655?"
   ]
  },
  {
   "cell_type": "code",
   "execution_count": null,
   "id": "e97e99f1-3461-4a4e-bb22-bd307698e701",
   "metadata": {},
   "outputs": [],
   "source": [
    "# Maybe need to cross-reference the genbank/regulonDB info with the Urtecho 2023 dataset"
   ]
  },
  {
   "cell_type": "markdown",
   "id": "4b528893-d77c-4178-83f3-adedb05e5f9b",
   "metadata": {},
   "source": [
    "## What does gene expression magnitude vs gene expression variation look like in P1k?"
   ]
  },
  {
   "cell_type": "code",
   "execution_count": null,
   "id": "4c56e8ac-ddfd-40c4-ac89-7d48350bf316",
   "metadata": {},
   "outputs": [],
   "source": [
    "# Repeat of Cam's plot from the p1k study"
   ]
  },
  {
   "cell_type": "markdown",
   "id": "d6639815-f33e-4422-b09d-f238f5981fac",
   "metadata": {},
   "source": [
    "## In each of the 9 expression categories, how many regulons and iMs does each gene participate in? "
   ]
  },
  {
   "cell_type": "code",
   "execution_count": null,
   "id": "c0ff0b06-0411-424f-8d05-70069c8a7989",
   "metadata": {},
   "outputs": [],
   "source": [
    "# Categories are high expression high variance, medium expression high variance, and so on, with thresholds we'll have to try to determine by elbows"
   ]
  },
  {
   "cell_type": "markdown",
   "id": "cfa5596f-3ad0-49d4-b3fc-8be39d47c34f",
   "metadata": {},
   "source": [
    "## How many regulators (TFs/Sigma factors) have iModulons associated with them?"
   ]
  },
  {
   "cell_type": "code",
   "execution_count": null,
   "id": "edd343f8-3ca0-471e-9529-9c4a7c79b4ff",
   "metadata": {},
   "outputs": [],
   "source": [
    "# Separate unique regulator-iM associations vs multi-regulator to a single iM"
   ]
  },
  {
   "cell_type": "markdown",
   "id": "c5be73ff-b94c-4361-9b65-1cde2e05c34a",
   "metadata": {},
   "source": [
    "## For genes associated to iMs, how much explained variance is captured by the top iM?"
   ]
  },
  {
   "cell_type": "code",
   "execution_count": null,
   "id": "dd8f92c1-36c9-4885-af7b-a527b00fc849",
   "metadata": {},
   "outputs": [],
   "source": []
  },
  {
   "cell_type": "markdown",
   "id": "abce3f5a-c00a-44b6-a951-be2aa07a0509",
   "metadata": {},
   "source": [
    "## How many genes are explained well by their top iM?"
   ]
  },
  {
   "cell_type": "code",
   "execution_count": null,
   "id": "633d30b4-5b17-41df-8123-375c152f812c",
   "metadata": {},
   "outputs": [],
   "source": []
  },
  {
   "cell_type": "markdown",
   "id": "56681731-02e5-4d60-9c7a-f8d520fd72c9",
   "metadata": {},
   "source": [
    "## How many genes (even not in an iModulon) can be explained reasonably well by a single iM?"
   ]
  },
  {
   "cell_type": "code",
   "execution_count": null,
   "id": "8084a1f6-a22b-45c0-8333-1ea8404c0d35",
   "metadata": {},
   "outputs": [],
   "source": [
    "# An appropriate cutoff for what \"explained well\" means needs to be determined"
   ]
  },
  {
   "cell_type": "markdown",
   "id": "48a5cc02-31db-44c4-a248-5c864bcdfeec",
   "metadata": {},
   "source": [
    "## What are the final counts in each category of gene?"
   ]
  },
  {
   "cell_type": "code",
   "execution_count": null,
   "id": "9973d418-4b1f-4114-8cbd-9803bf43ac4b",
   "metadata": {},
   "outputs": [],
   "source": [
    "# Categories:\n",
    "# 1) Gene is explained well by an iModulon\n",
    "# 2) Gene is not explained well but is poorly expressed on all conditions\n",
    "# 3) Gene is not explained well but is poorly expressed on most conditions - and few active conditions don't seem to be captured\n",
    "# 4) Gene is not explained well but is low variance\n",
    "# 5) Gene is not explained well and is well expressed with good variation, but regulator may not be activated in P1k (presumably they are \n",
    "# active enough to alter the expression of this gene, but maybe not in an isolated way where ICA can find the regulon)\n",
    "# 6) Gene is not explained well and is well expressed with good variation, and its regulation may not be explained well by MA at the regulator level\n",
    "# (i.e. many genes for the same regulator seem to fail)\n",
    "# 7) Gene is not explained well and is well expressed with good variation, and its regulation may not be explained well by MA at the promoter level\n",
    "# (i.e. this particular gene seems to fail and it appears to be due to complex regulation at the promoter)"
   ]
  }
 ],
 "metadata": {
  "kernelspec": {
   "display_name": "Python 3 (ipykernel)",
   "language": "python",
   "name": "python3"
  },
  "language_info": {
   "codemirror_mode": {
    "name": "ipython",
    "version": 3
   },
   "file_extension": ".py",
   "mimetype": "text/x-python",
   "name": "python",
   "nbconvert_exporter": "python",
   "pygments_lexer": "ipython3",
   "version": "3.9.1"
  }
 },
 "nbformat": 4,
 "nbformat_minor": 5
}
