{
 "cells": [
  {
   "cell_type": "markdown",
   "id": "9b13722e-0e1e-4a89-9f78-54ed0b4d0a89",
   "metadata": {},
   "source": [
    "# Exp_Var_top_iM"
   ]
  },
  {
   "cell_type": "code",
   "execution_count": 1,
   "id": "a8761f4d-c2a3-4293-aecf-585c5f8e31e2",
   "metadata": {
    "execution": {
     "iopub.execute_input": "2024-08-20T06:07:04.596309Z",
     "iopub.status.busy": "2024-08-20T06:07:04.595728Z",
     "iopub.status.idle": "2024-08-20T06:07:05.424696Z",
     "shell.execute_reply": "2024-08-20T06:07:05.424215Z",
     "shell.execute_reply.started": "2024-08-20T06:07:04.596272Z"
    }
   },
   "outputs": [],
   "source": [
    "from pathlib import Path\n",
    "import sys\n",
    "import os.path\n",
    "\n",
    "import matplotlib.pyplot as plt\n",
    "import numpy as np\n",
    "import pandas as pd\n",
    "import json\n",
    "from scipy.stats import f_oneway, gaussian_kde, mannwhitneyu, pearsonr, spearmanr\n",
    "import seaborn as sns\n",
    "\n",
    "from tqdm.notebook import tqdm\n",
    "from pymodulon.compare import compare_ica\n",
    "from pymodulon.core import IcaData\n",
    "from pymodulon.io import load_json_model, save_to_json\n",
    "from pymodulon.plotting import *\n",
    "\n",
    "from pymodulon.util import explained_variance\n",
    "from pymodulon.imodulondb import imdb_gene_presence\n",
    "sns.set_style('whitegrid')"
   ]
  },
  {
   "cell_type": "markdown",
   "id": "47b3e9e9-4df1-4b13-bd3c-3ef95167ea5d",
   "metadata": {},
   "source": [
    "## Load the data from ./Data/ folder"
   ]
  },
  {
   "cell_type": "code",
   "execution_count": 2,
   "id": "953c5ba5-3d10-408c-b2ea-bee206aad9a1",
   "metadata": {
    "execution": {
     "iopub.execute_input": "2024-08-20T06:07:05.425465Z",
     "iopub.status.busy": "2024-08-20T06:07:05.425230Z",
     "iopub.status.idle": "2024-08-20T06:07:15.463793Z",
     "shell.execute_reply": "2024-08-20T06:07:15.463307Z",
     "shell.execute_reply.started": "2024-08-20T06:07:05.425450Z"
    }
   },
   "outputs": [],
   "source": [
    "precise1k = load_json_model('../Data/p1k.json.gz')"
   ]
  },
  {
   "cell_type": "code",
   "execution_count": 3,
   "id": "7dad6e54-de33-4fba-aacf-f6e3b35d2627",
   "metadata": {
    "execution": {
     "iopub.execute_input": "2024-08-20T06:07:15.464439Z",
     "iopub.status.busy": "2024-08-20T06:07:15.464313Z",
     "iopub.status.idle": "2024-08-20T06:07:15.503915Z",
     "shell.execute_reply": "2024-08-20T06:07:15.503452Z",
     "shell.execute_reply.started": "2024-08-20T06:07:15.464425Z"
    }
   },
   "outputs": [],
   "source": [
    "P1K_Gene_Presence_Matrix = pd.read_csv(\"../Data/P1K_Gene_Presence_Matrix.csv\", index_col=0)"
   ]
  },
  {
   "cell_type": "code",
   "execution_count": 4,
   "id": "1a0f03e4-b178-4a63-a6e5-0de81968d79a",
   "metadata": {
    "execution": {
     "iopub.execute_input": "2024-08-20T06:07:15.504539Z",
     "iopub.status.busy": "2024-08-20T06:07:15.504423Z",
     "iopub.status.idle": "2024-08-20T06:07:15.529402Z",
     "shell.execute_reply": "2024-08-20T06:07:15.528956Z",
     "shell.execute_reply.started": "2024-08-20T06:07:15.504527Z"
    }
   },
   "outputs": [],
   "source": [
    "RegulonDB_TRN = pd.read_csv('../Data/RegulonDB_TRN_C_and_S.csv', index_col = 0)"
   ]
  },
  {
   "cell_type": "code",
   "execution_count": 5,
   "id": "55afb2ad-e5d8-4629-a71c-8f308c55d200",
   "metadata": {
    "execution": {
     "iopub.execute_input": "2024-08-20T06:07:15.530017Z",
     "iopub.status.busy": "2024-08-20T06:07:15.529901Z",
     "iopub.status.idle": "2024-08-20T06:07:15.535364Z",
     "shell.execute_reply": "2024-08-20T06:07:15.535007Z",
     "shell.execute_reply.started": "2024-08-20T06:07:15.530005Z"
    }
   },
   "outputs": [],
   "source": [
    "biocyc_info = pd.read_csv('../Data/biocyc_info.txt', sep=\"\\t\")"
   ]
  },
  {
   "cell_type": "markdown",
   "id": "fc880e84-24a7-4eef-8321-424d57750424",
   "metadata": {},
   "source": [
    "### PRECISE-1K: X M A log_tpm gene_presence_matrix"
   ]
  },
  {
   "cell_type": "code",
   "execution_count": 6,
   "id": "062374d3-bb55-4261-838d-dd54347245c2",
   "metadata": {
    "execution": {
     "iopub.execute_input": "2024-08-20T06:07:15.536893Z",
     "iopub.status.busy": "2024-08-20T06:07:15.536767Z",
     "iopub.status.idle": "2024-08-20T06:07:15.539186Z",
     "shell.execute_reply": "2024-08-20T06:07:15.538738Z",
     "shell.execute_reply.started": "2024-08-20T06:07:15.536880Z"
    }
   },
   "outputs": [],
   "source": [
    "P1K_M = precise1k.M"
   ]
  },
  {
   "cell_type": "code",
   "execution_count": 7,
   "id": "0afb9bc9-539f-4af8-bfec-2af66bc2b12a",
   "metadata": {
    "execution": {
     "iopub.execute_input": "2024-08-20T06:07:15.540052Z",
     "iopub.status.busy": "2024-08-20T06:07:15.539906Z",
     "iopub.status.idle": "2024-08-20T06:07:15.542407Z",
     "shell.execute_reply": "2024-08-20T06:07:15.541855Z",
     "shell.execute_reply.started": "2024-08-20T06:07:15.540040Z"
    }
   },
   "outputs": [],
   "source": [
    "P1K_A = precise1k.A"
   ]
  },
  {
   "cell_type": "code",
   "execution_count": 8,
   "id": "135a6275-c746-48be-b030-de25176137a0",
   "metadata": {
    "execution": {
     "iopub.execute_input": "2024-08-20T06:07:15.543367Z",
     "iopub.status.busy": "2024-08-20T06:07:15.543073Z",
     "iopub.status.idle": "2024-08-20T06:07:15.545237Z",
     "shell.execute_reply": "2024-08-20T06:07:15.544901Z",
     "shell.execute_reply.started": "2024-08-20T06:07:15.543355Z"
    }
   },
   "outputs": [],
   "source": [
    "P1K_X = precise1k.X"
   ]
  },
  {
   "cell_type": "code",
   "execution_count": 9,
   "id": "7d4411fb-6917-44a4-b165-a533b23842fe",
   "metadata": {
    "execution": {
     "iopub.execute_input": "2024-08-20T06:07:15.545858Z",
     "iopub.status.busy": "2024-08-20T06:07:15.545738Z",
     "iopub.status.idle": "2024-08-20T06:07:15.547987Z",
     "shell.execute_reply": "2024-08-20T06:07:15.547595Z",
     "shell.execute_reply.started": "2024-08-20T06:07:15.545845Z"
    }
   },
   "outputs": [],
   "source": [
    "P1K_log_tpm = precise1k.log_tpm"
   ]
  },
  {
   "cell_type": "code",
   "execution_count": 10,
   "id": "08a7d479-a381-464e-93b2-69d6443f2abc",
   "metadata": {
    "execution": {
     "iopub.execute_input": "2024-08-20T06:07:15.548542Z",
     "iopub.status.busy": "2024-08-20T06:07:15.548424Z",
     "iopub.status.idle": "2024-08-20T06:07:15.552340Z",
     "shell.execute_reply": "2024-08-20T06:07:15.551849Z",
     "shell.execute_reply.started": "2024-08-20T06:07:15.548530Z"
    }
   },
   "outputs": [],
   "source": [
    "def map_accession_to_gene_name(df, biocyc_info):\n",
    "\n",
    "    # Reset index if 'Accession' is the index, and rename the column\n",
    "    if df.index.name == 'Accession' or df.index.name is None:\n",
    "        df = df.reset_index()\n",
    "        df.rename(columns={'index': 'Accession'}, inplace=True)\n",
    "        \n",
    "    # Merge with biocyc_info to map 'Accession' to 'Gene Name'\n",
    "    merged_df = df.merge(biocyc_info[['Accession', 'Gene Name']], on='Accession', how='left')\n",
    "\n",
    "    # Identify rows with NaN 'Gene Name'\n",
    "    removed_indices = merged_df[merged_df['Gene Name'].isna()]['Accession'].tolist()\n",
    "\n",
    "    # Print the original indices that were removed\n",
    "    print(\"Original indices removed due to NaN 'Gene Name':\", removed_indices)\n",
    "\n",
    "    # Set 'Gene Name' as the new index and drop the 'Accession' column\n",
    "    merged_df.set_index('Gene Name', inplace=True)\n",
    "    merged_df.drop(columns=['Accession'], inplace=True)\n",
    "\n",
    "    # Remove rows with NaN as index\n",
    "    merged_df = merged_df[merged_df.index.notna()]\n",
    "    \n",
    "    return merged_df"
   ]
  },
  {
   "cell_type": "code",
   "execution_count": 11,
   "id": "36f51a2d-bc2f-4692-9f34-11735028d2e6",
   "metadata": {
    "execution": {
     "iopub.execute_input": "2024-08-20T06:07:15.553145Z",
     "iopub.status.busy": "2024-08-20T06:07:15.553022Z",
     "iopub.status.idle": "2024-08-20T06:07:15.562371Z",
     "shell.execute_reply": "2024-08-20T06:07:15.561965Z",
     "shell.execute_reply.started": "2024-08-20T06:07:15.553132Z"
    }
   },
   "outputs": [
    {
     "name": "stdout",
     "output_type": "stream",
     "text": [
      "Original indices removed due to NaN 'Gene Name': []\n"
     ]
    }
   ],
   "source": [
    "P1K_M = map_accession_to_gene_name(P1K_M, biocyc_info)"
   ]
  },
  {
   "cell_type": "code",
   "execution_count": 12,
   "id": "41303710-8dd6-4fdb-b313-19c9238e27f8",
   "metadata": {
    "execution": {
     "iopub.execute_input": "2024-08-20T06:07:15.562983Z",
     "iopub.status.busy": "2024-08-20T06:07:15.562858Z",
     "iopub.status.idle": "2024-08-20T06:07:15.591481Z",
     "shell.execute_reply": "2024-08-20T06:07:15.590866Z",
     "shell.execute_reply.started": "2024-08-20T06:07:15.562970Z"
    }
   },
   "outputs": [
    {
     "name": "stdout",
     "output_type": "stream",
     "text": [
      "Original indices removed due to NaN 'Gene Name': []\n"
     ]
    }
   ],
   "source": [
    "P1K_X = map_accession_to_gene_name(P1K_X, biocyc_info)"
   ]
  },
  {
   "cell_type": "code",
   "execution_count": 13,
   "id": "0fcb44bf-1fb8-4bc4-8999-9a3b137ea8ab",
   "metadata": {
    "execution": {
     "iopub.execute_input": "2024-08-20T06:07:15.592439Z",
     "iopub.status.busy": "2024-08-20T06:07:15.592305Z",
     "iopub.status.idle": "2024-08-20T06:07:15.620475Z",
     "shell.execute_reply": "2024-08-20T06:07:15.619877Z",
     "shell.execute_reply.started": "2024-08-20T06:07:15.592425Z"
    }
   },
   "outputs": [
    {
     "name": "stdout",
     "output_type": "stream",
     "text": [
      "Original indices removed due to NaN 'Gene Name': []\n"
     ]
    }
   ],
   "source": [
    "P1K_log_tpm = map_accession_to_gene_name(P1K_log_tpm, biocyc_info)"
   ]
  },
  {
   "cell_type": "code",
   "execution_count": 14,
   "id": "1f5a24ce-a39b-4f94-8586-03a6d88a7fd9",
   "metadata": {
    "execution": {
     "iopub.execute_input": "2024-08-20T06:07:15.621445Z",
     "iopub.status.busy": "2024-08-20T06:07:15.621326Z",
     "iopub.status.idle": "2024-08-20T06:07:15.631269Z",
     "shell.execute_reply": "2024-08-20T06:07:15.630897Z",
     "shell.execute_reply.started": "2024-08-20T06:07:15.621430Z"
    }
   },
   "outputs": [
    {
     "name": "stdout",
     "output_type": "stream",
     "text": [
      "Original indices removed due to NaN 'Gene Name': []\n"
     ]
    }
   ],
   "source": [
    "P1K_Gene_Presence_Matrix = map_accession_to_gene_name(P1K_Gene_Presence_Matrix, biocyc_info)"
   ]
  },
  {
   "cell_type": "markdown",
   "id": "c6a27222-8fb5-4fed-b870-b5ba60d1efa2",
   "metadata": {},
   "source": [
    "## Get the top exp var iM for each gene"
   ]
  },
  {
   "cell_type": "code",
   "execution_count": 15,
   "id": "c5c72091-32b8-470e-b295-604d0d323c57",
   "metadata": {
    "execution": {
     "iopub.execute_input": "2024-08-20T06:07:15.631858Z",
     "iopub.status.busy": "2024-08-20T06:07:15.631736Z",
     "iopub.status.idle": "2024-08-20T06:07:15.635837Z",
     "shell.execute_reply": "2024-08-20T06:07:15.635468Z",
     "shell.execute_reply.started": "2024-08-20T06:07:15.631846Z"
    }
   },
   "outputs": [],
   "source": [
    "def calculate_explained_variance(M_matrix, A_matrix, log_tpm):\n",
    "    # Check if inputs are DataFrames and convert to numpy arrays if needed\n",
    "    if isinstance(M_matrix, pd.DataFrame) or isinstance(M_matrix, pd.Series):\n",
    "        M_matrix = M_matrix.values.flatten()\n",
    "    \n",
    "    if isinstance(A_matrix, pd.DataFrame):\n",
    "        A_matrix = A_matrix.values\n",
    "    \n",
    "    if isinstance(log_tpm, pd.DataFrame) or isinstance(log_tpm, pd.Series):\n",
    "        log_tpm = log_tpm.values.flatten()\n",
    "    \n",
    "    # Compute the predicted values\n",
    "    predicted_values = np.dot(M_matrix, A_matrix)  # M_matrix is 1xM, A_matrix is MxN, result is 1xN\n",
    "\n",
    "    # Calculate the baseline (mean-centered log_tpm)\n",
    "    baseline = log_tpm - np.mean(log_tpm)  # mean-center the log_tpm\n",
    "\n",
    "    # Calculate the residual variance\n",
    "    residuals = log_tpm - predicted_values\n",
    "    residual_variance = np.sum((residuals - np.mean(residuals)) ** 2)\n",
    "\n",
    "    # Calculate the total variance\n",
    "    total_variance = np.sum((log_tpm - np.mean(log_tpm)) ** 2)\n",
    "\n",
    "    # Compute the explained variance (R^2)\n",
    "    explained_variance = 1 - (residual_variance / total_variance)\n",
    "    \n",
    "    return explained_variance"
   ]
  },
  {
   "cell_type": "code",
   "execution_count": 16,
   "id": "bcfd91a5-abd9-4a4f-ace9-43cf66987463",
   "metadata": {
    "execution": {
     "iopub.execute_input": "2024-08-20T06:07:15.636487Z",
     "iopub.status.busy": "2024-08-20T06:07:15.636362Z",
     "iopub.status.idle": "2024-08-20T06:07:15.652452Z",
     "shell.execute_reply": "2024-08-20T06:07:15.652101Z",
     "shell.execute_reply.started": "2024-08-20T06:07:15.636474Z"
    }
   },
   "outputs": [
    {
     "data": {
      "text/html": [
       "<div>\n",
       "<style scoped>\n",
       "    .dataframe tbody tr th:only-of-type {\n",
       "        vertical-align: middle;\n",
       "    }\n",
       "\n",
       "    .dataframe tbody tr th {\n",
       "        vertical-align: top;\n",
       "    }\n",
       "\n",
       "    .dataframe thead th {\n",
       "        text-align: right;\n",
       "    }\n",
       "</style>\n",
       "<table border=\"1\" class=\"dataframe\">\n",
       "  <thead>\n",
       "    <tr style=\"text-align: right;\">\n",
       "      <th></th>\n",
       "      <th>Sugar Diacid</th>\n",
       "      <th>Translation</th>\n",
       "      <th>ygdT</th>\n",
       "      <th>OxyR</th>\n",
       "      <th>FlhDC-2</th>\n",
       "      <th>Osmoprotectant</th>\n",
       "      <th>Glutamine</th>\n",
       "      <th>Sialic Acid</th>\n",
       "      <th>yqhI</th>\n",
       "      <th>ROS TALE Amp</th>\n",
       "      <th>...</th>\n",
       "      <th>Tryptophanase</th>\n",
       "      <th>crp KO-2</th>\n",
       "      <th>cyoB/ndh/nuoB KO-2</th>\n",
       "      <th>tpiA KO</th>\n",
       "      <th>Phage Shock</th>\n",
       "      <th>Glyoxylate</th>\n",
       "      <th>CCK-PGI Del</th>\n",
       "      <th>Acetate</th>\n",
       "      <th>Ile/Val</th>\n",
       "      <th>UC-8</th>\n",
       "    </tr>\n",
       "    <tr>\n",
       "      <th>Gene Name</th>\n",
       "      <th></th>\n",
       "      <th></th>\n",
       "      <th></th>\n",
       "      <th></th>\n",
       "      <th></th>\n",
       "      <th></th>\n",
       "      <th></th>\n",
       "      <th></th>\n",
       "      <th></th>\n",
       "      <th></th>\n",
       "      <th></th>\n",
       "      <th></th>\n",
       "      <th></th>\n",
       "      <th></th>\n",
       "      <th></th>\n",
       "      <th></th>\n",
       "      <th></th>\n",
       "      <th></th>\n",
       "      <th></th>\n",
       "      <th></th>\n",
       "      <th></th>\n",
       "    </tr>\n",
       "  </thead>\n",
       "  <tbody>\n",
       "    <tr>\n",
       "      <th>thrA</th>\n",
       "      <td>-0.005367</td>\n",
       "      <td>-0.002423</td>\n",
       "      <td>0.010140</td>\n",
       "      <td>-0.001362</td>\n",
       "      <td>-0.017297</td>\n",
       "      <td>0.008631</td>\n",
       "      <td>-0.006491</td>\n",
       "      <td>0.092469</td>\n",
       "      <td>-0.010978</td>\n",
       "      <td>-0.003400</td>\n",
       "      <td>...</td>\n",
       "      <td>-0.012070</td>\n",
       "      <td>-0.008812</td>\n",
       "      <td>0.004996</td>\n",
       "      <td>0.008216</td>\n",
       "      <td>-0.002720</td>\n",
       "      <td>0.007874</td>\n",
       "      <td>-0.004350</td>\n",
       "      <td>-0.013319</td>\n",
       "      <td>0.009296</td>\n",
       "      <td>0.000891</td>\n",
       "    </tr>\n",
       "    <tr>\n",
       "      <th>thrB</th>\n",
       "      <td>0.006212</td>\n",
       "      <td>-0.001901</td>\n",
       "      <td>0.007207</td>\n",
       "      <td>0.000073</td>\n",
       "      <td>-0.004829</td>\n",
       "      <td>-0.003186</td>\n",
       "      <td>-0.011677</td>\n",
       "      <td>0.082103</td>\n",
       "      <td>0.011074</td>\n",
       "      <td>-0.004679</td>\n",
       "      <td>...</td>\n",
       "      <td>0.006683</td>\n",
       "      <td>-0.017798</td>\n",
       "      <td>0.000964</td>\n",
       "      <td>0.003273</td>\n",
       "      <td>0.010018</td>\n",
       "      <td>0.002132</td>\n",
       "      <td>-0.005826</td>\n",
       "      <td>-0.010836</td>\n",
       "      <td>-0.066654</td>\n",
       "      <td>-0.003513</td>\n",
       "    </tr>\n",
       "    <tr>\n",
       "      <th>thrC</th>\n",
       "      <td>0.010600</td>\n",
       "      <td>-0.002205</td>\n",
       "      <td>0.004961</td>\n",
       "      <td>-0.002289</td>\n",
       "      <td>-0.004938</td>\n",
       "      <td>-0.005587</td>\n",
       "      <td>-0.008127</td>\n",
       "      <td>0.080888</td>\n",
       "      <td>0.007511</td>\n",
       "      <td>0.003887</td>\n",
       "      <td>...</td>\n",
       "      <td>0.008132</td>\n",
       "      <td>-0.018105</td>\n",
       "      <td>-0.007763</td>\n",
       "      <td>0.009103</td>\n",
       "      <td>-0.002566</td>\n",
       "      <td>-0.007120</td>\n",
       "      <td>-0.005676</td>\n",
       "      <td>-0.002164</td>\n",
       "      <td>-0.060155</td>\n",
       "      <td>-0.007025</td>\n",
       "    </tr>\n",
       "    <tr>\n",
       "      <th>yaaX</th>\n",
       "      <td>0.011520</td>\n",
       "      <td>0.008573</td>\n",
       "      <td>0.020449</td>\n",
       "      <td>-0.003123</td>\n",
       "      <td>0.002009</td>\n",
       "      <td>-0.026382</td>\n",
       "      <td>-0.016374</td>\n",
       "      <td>0.022484</td>\n",
       "      <td>0.007903</td>\n",
       "      <td>0.017561</td>\n",
       "      <td>...</td>\n",
       "      <td>-0.000139</td>\n",
       "      <td>0.001437</td>\n",
       "      <td>0.001827</td>\n",
       "      <td>-0.008113</td>\n",
       "      <td>0.065835</td>\n",
       "      <td>-0.019238</td>\n",
       "      <td>-0.001622</td>\n",
       "      <td>-0.009303</td>\n",
       "      <td>-0.069669</td>\n",
       "      <td>-0.004241</td>\n",
       "    </tr>\n",
       "    <tr>\n",
       "      <th>yaaA</th>\n",
       "      <td>0.003482</td>\n",
       "      <td>-0.002293</td>\n",
       "      <td>-0.010146</td>\n",
       "      <td>0.140794</td>\n",
       "      <td>-0.001754</td>\n",
       "      <td>0.000974</td>\n",
       "      <td>0.023500</td>\n",
       "      <td>-0.017665</td>\n",
       "      <td>0.006247</td>\n",
       "      <td>-0.005761</td>\n",
       "      <td>...</td>\n",
       "      <td>0.017025</td>\n",
       "      <td>0.005473</td>\n",
       "      <td>-0.002252</td>\n",
       "      <td>0.002807</td>\n",
       "      <td>-0.030303</td>\n",
       "      <td>0.000805</td>\n",
       "      <td>0.028367</td>\n",
       "      <td>0.018293</td>\n",
       "      <td>-0.018444</td>\n",
       "      <td>-0.033624</td>\n",
       "    </tr>\n",
       "    <tr>\n",
       "      <th>...</th>\n",
       "      <td>...</td>\n",
       "      <td>...</td>\n",
       "      <td>...</td>\n",
       "      <td>...</td>\n",
       "      <td>...</td>\n",
       "      <td>...</td>\n",
       "      <td>...</td>\n",
       "      <td>...</td>\n",
       "      <td>...</td>\n",
       "      <td>...</td>\n",
       "      <td>...</td>\n",
       "      <td>...</td>\n",
       "      <td>...</td>\n",
       "      <td>...</td>\n",
       "      <td>...</td>\n",
       "      <td>...</td>\n",
       "      <td>...</td>\n",
       "      <td>...</td>\n",
       "      <td>...</td>\n",
       "      <td>...</td>\n",
       "      <td>...</td>\n",
       "    </tr>\n",
       "    <tr>\n",
       "      <th>yneP</th>\n",
       "      <td>-0.003644</td>\n",
       "      <td>0.018245</td>\n",
       "      <td>-0.003134</td>\n",
       "      <td>0.004992</td>\n",
       "      <td>-0.000873</td>\n",
       "      <td>-0.021262</td>\n",
       "      <td>-0.012556</td>\n",
       "      <td>0.036707</td>\n",
       "      <td>-0.062935</td>\n",
       "      <td>0.016316</td>\n",
       "      <td>...</td>\n",
       "      <td>0.002969</td>\n",
       "      <td>-0.012892</td>\n",
       "      <td>0.024815</td>\n",
       "      <td>-0.000077</td>\n",
       "      <td>-0.004676</td>\n",
       "      <td>0.015222</td>\n",
       "      <td>0.011431</td>\n",
       "      <td>0.013733</td>\n",
       "      <td>0.011955</td>\n",
       "      <td>0.001203</td>\n",
       "    </tr>\n",
       "    <tr>\n",
       "      <th>ynfT</th>\n",
       "      <td>0.010023</td>\n",
       "      <td>-0.030343</td>\n",
       "      <td>-0.000578</td>\n",
       "      <td>-0.002526</td>\n",
       "      <td>-0.000906</td>\n",
       "      <td>0.000805</td>\n",
       "      <td>0.007411</td>\n",
       "      <td>-0.021330</td>\n",
       "      <td>-0.013622</td>\n",
       "      <td>-0.034542</td>\n",
       "      <td>...</td>\n",
       "      <td>0.004057</td>\n",
       "      <td>-0.001059</td>\n",
       "      <td>-0.007595</td>\n",
       "      <td>0.002024</td>\n",
       "      <td>0.001573</td>\n",
       "      <td>-0.029301</td>\n",
       "      <td>-0.007873</td>\n",
       "      <td>0.021424</td>\n",
       "      <td>-0.001528</td>\n",
       "      <td>-0.000353</td>\n",
       "    </tr>\n",
       "    <tr>\n",
       "      <th>yoaL</th>\n",
       "      <td>0.001082</td>\n",
       "      <td>0.013560</td>\n",
       "      <td>0.010030</td>\n",
       "      <td>-0.022409</td>\n",
       "      <td>0.006737</td>\n",
       "      <td>-0.012387</td>\n",
       "      <td>-0.002341</td>\n",
       "      <td>-0.010584</td>\n",
       "      <td>-0.015837</td>\n",
       "      <td>0.003776</td>\n",
       "      <td>...</td>\n",
       "      <td>-0.005873</td>\n",
       "      <td>-0.000560</td>\n",
       "      <td>0.008653</td>\n",
       "      <td>0.005759</td>\n",
       "      <td>0.029820</td>\n",
       "      <td>-0.004053</td>\n",
       "      <td>0.026769</td>\n",
       "      <td>0.020823</td>\n",
       "      <td>0.000414</td>\n",
       "      <td>-0.001453</td>\n",
       "    </tr>\n",
       "    <tr>\n",
       "      <th>yqhI</th>\n",
       "      <td>-0.002204</td>\n",
       "      <td>-0.006527</td>\n",
       "      <td>0.003732</td>\n",
       "      <td>-0.000946</td>\n",
       "      <td>-0.009858</td>\n",
       "      <td>0.010553</td>\n",
       "      <td>-0.022747</td>\n",
       "      <td>0.003496</td>\n",
       "      <td>0.530162</td>\n",
       "      <td>0.000412</td>\n",
       "      <td>...</td>\n",
       "      <td>0.024388</td>\n",
       "      <td>0.003566</td>\n",
       "      <td>0.004696</td>\n",
       "      <td>-0.003552</td>\n",
       "      <td>0.002161</td>\n",
       "      <td>0.000556</td>\n",
       "      <td>-0.005656</td>\n",
       "      <td>0.021056</td>\n",
       "      <td>0.008180</td>\n",
       "      <td>0.021366</td>\n",
       "    </tr>\n",
       "    <tr>\n",
       "      <th>yqiD</th>\n",
       "      <td>0.002046</td>\n",
       "      <td>-0.007253</td>\n",
       "      <td>0.013169</td>\n",
       "      <td>-0.001936</td>\n",
       "      <td>0.004338</td>\n",
       "      <td>-0.007156</td>\n",
       "      <td>0.013021</td>\n",
       "      <td>-0.011346</td>\n",
       "      <td>0.016958</td>\n",
       "      <td>0.014252</td>\n",
       "      <td>...</td>\n",
       "      <td>-0.035027</td>\n",
       "      <td>-0.035403</td>\n",
       "      <td>-0.033315</td>\n",
       "      <td>0.012985</td>\n",
       "      <td>-0.012235</td>\n",
       "      <td>0.025331</td>\n",
       "      <td>-0.047427</td>\n",
       "      <td>0.015525</td>\n",
       "      <td>-0.012791</td>\n",
       "      <td>-0.029001</td>\n",
       "    </tr>\n",
       "  </tbody>\n",
       "</table>\n",
       "<p>4257 rows × 201 columns</p>\n",
       "</div>"
      ],
      "text/plain": [
       "           Sugar Diacid  Translation      ygdT      OxyR   FlhDC-2  \\\n",
       "Gene Name                                                            \n",
       "thrA          -0.005367    -0.002423  0.010140 -0.001362 -0.017297   \n",
       "thrB           0.006212    -0.001901  0.007207  0.000073 -0.004829   \n",
       "thrC           0.010600    -0.002205  0.004961 -0.002289 -0.004938   \n",
       "yaaX           0.011520     0.008573  0.020449 -0.003123  0.002009   \n",
       "yaaA           0.003482    -0.002293 -0.010146  0.140794 -0.001754   \n",
       "...                 ...          ...       ...       ...       ...   \n",
       "yneP          -0.003644     0.018245 -0.003134  0.004992 -0.000873   \n",
       "ynfT           0.010023    -0.030343 -0.000578 -0.002526 -0.000906   \n",
       "yoaL           0.001082     0.013560  0.010030 -0.022409  0.006737   \n",
       "yqhI          -0.002204    -0.006527  0.003732 -0.000946 -0.009858   \n",
       "yqiD           0.002046    -0.007253  0.013169 -0.001936  0.004338   \n",
       "\n",
       "           Osmoprotectant  Glutamine  Sialic Acid      yqhI  ROS TALE Amp  \\\n",
       "Gene Name                                                                   \n",
       "thrA             0.008631  -0.006491     0.092469 -0.010978     -0.003400   \n",
       "thrB            -0.003186  -0.011677     0.082103  0.011074     -0.004679   \n",
       "thrC            -0.005587  -0.008127     0.080888  0.007511      0.003887   \n",
       "yaaX            -0.026382  -0.016374     0.022484  0.007903      0.017561   \n",
       "yaaA             0.000974   0.023500    -0.017665  0.006247     -0.005761   \n",
       "...                   ...        ...          ...       ...           ...   \n",
       "yneP            -0.021262  -0.012556     0.036707 -0.062935      0.016316   \n",
       "ynfT             0.000805   0.007411    -0.021330 -0.013622     -0.034542   \n",
       "yoaL            -0.012387  -0.002341    -0.010584 -0.015837      0.003776   \n",
       "yqhI             0.010553  -0.022747     0.003496  0.530162      0.000412   \n",
       "yqiD            -0.007156   0.013021    -0.011346  0.016958      0.014252   \n",
       "\n",
       "           ...  Tryptophanase  crp KO-2  cyoB/ndh/nuoB KO-2   tpiA KO  \\\n",
       "Gene Name  ...                                                          \n",
       "thrA       ...      -0.012070 -0.008812            0.004996  0.008216   \n",
       "thrB       ...       0.006683 -0.017798            0.000964  0.003273   \n",
       "thrC       ...       0.008132 -0.018105           -0.007763  0.009103   \n",
       "yaaX       ...      -0.000139  0.001437            0.001827 -0.008113   \n",
       "yaaA       ...       0.017025  0.005473           -0.002252  0.002807   \n",
       "...        ...            ...       ...                 ...       ...   \n",
       "yneP       ...       0.002969 -0.012892            0.024815 -0.000077   \n",
       "ynfT       ...       0.004057 -0.001059           -0.007595  0.002024   \n",
       "yoaL       ...      -0.005873 -0.000560            0.008653  0.005759   \n",
       "yqhI       ...       0.024388  0.003566            0.004696 -0.003552   \n",
       "yqiD       ...      -0.035027 -0.035403           -0.033315  0.012985   \n",
       "\n",
       "           Phage Shock  Glyoxylate  CCK-PGI Del   Acetate   Ile/Val      UC-8  \n",
       "Gene Name                                                                      \n",
       "thrA         -0.002720    0.007874    -0.004350 -0.013319  0.009296  0.000891  \n",
       "thrB          0.010018    0.002132    -0.005826 -0.010836 -0.066654 -0.003513  \n",
       "thrC         -0.002566   -0.007120    -0.005676 -0.002164 -0.060155 -0.007025  \n",
       "yaaX          0.065835   -0.019238    -0.001622 -0.009303 -0.069669 -0.004241  \n",
       "yaaA         -0.030303    0.000805     0.028367  0.018293 -0.018444 -0.033624  \n",
       "...                ...         ...          ...       ...       ...       ...  \n",
       "yneP         -0.004676    0.015222     0.011431  0.013733  0.011955  0.001203  \n",
       "ynfT          0.001573   -0.029301    -0.007873  0.021424 -0.001528 -0.000353  \n",
       "yoaL          0.029820   -0.004053     0.026769  0.020823  0.000414 -0.001453  \n",
       "yqhI          0.002161    0.000556    -0.005656  0.021056  0.008180  0.021366  \n",
       "yqiD         -0.012235    0.025331    -0.047427  0.015525 -0.012791 -0.029001  \n",
       "\n",
       "[4257 rows x 201 columns]"
      ]
     },
     "execution_count": 16,
     "metadata": {},
     "output_type": "execute_result"
    }
   ],
   "source": [
    "P1K_M"
   ]
  },
  {
   "cell_type": "code",
   "execution_count": 17,
   "id": "ca68efcd-3cba-483b-b1ce-6ef48e35a4d0",
   "metadata": {
    "execution": {
     "iopub.execute_input": "2024-08-20T06:07:15.653022Z",
     "iopub.status.busy": "2024-08-20T06:07:15.652901Z",
     "iopub.status.idle": "2024-08-20T06:07:15.657953Z",
     "shell.execute_reply": "2024-08-20T06:07:15.657600Z",
     "shell.execute_reply.started": "2024-08-20T06:07:15.653010Z"
    }
   },
   "outputs": [],
   "source": [
    "def compute_explained_variance_change(M, A, X, P1K_Gene_Presence_Matrix, gene):\n",
    "    M = M.loc[[gene]]\n",
    "    X = X.loc[[gene]]\n",
    "\n",
    "    # Initialize a dictionary to store the explained variance changes\n",
    "    exp_var_changes = {}\n",
    "\n",
    "    # Iterate through each row of A\n",
    "    for row_name in A.index:\n",
    "        # Select the corresponding row from A\n",
    "        modified_A = A.loc[[row_name]]\n",
    "\n",
    "        # Select the corresponding column from M and X\n",
    "        modified_M = M[[row_name]]\n",
    "        modified_X = X\n",
    "\n",
    "        # Recalculate the explained variance\n",
    "        new_exp_var = calculate_explained_variance(modified_M, modified_A, modified_X)\n",
    "\n",
    "        # Store the result in the dictionary\n",
    "        exp_var_changes[row_name] = new_exp_var\n",
    "\n",
    "    # Convert the dictionary to a DataFrame\n",
    "    explained_variance_df = pd.DataFrame.from_dict(exp_var_changes, orient='index', columns=['Explained Variance'])\n",
    "    explained_variance_df.reset_index(inplace=True)\n",
    "    \n",
    "    explained_variance_df.columns = ['iModulon', 'Explained Variance']\n",
    "    explained_variance_df = explained_variance_df.sort_values(by='Explained Variance', ascending=False)\n",
    "    \n",
    "    # Add presence information\n",
    "    explained_variance_df['Presence'] = explained_variance_df['iModulon'].apply(\n",
    "        lambda x: 'Yes' if P1K_Gene_Presence_Matrix.loc[gene, x] else 'No'\n",
    "    )\n",
    "\n",
    "    # Select the top 3 iModulons with the highest explained variance\n",
    "    top_3 = explained_variance_df.head(3)\n",
    "\n",
    "    # Return the top 3 iModulons and their explained variances\n",
    "    return (\n",
    "        top_3.iloc[0]['iModulon'], top_3.iloc[0]['Explained Variance'],\n",
    "        top_3.iloc[1]['iModulon'] if len(top_3) > 1 else None, top_3.iloc[1]['Explained Variance'] if len(top_3) > 1 else None,\n",
    "        top_3.iloc[2]['iModulon'] if len(top_3) > 2 else None, top_3.iloc[2]['Explained Variance'] if len(top_3) > 2 else None\n",
    "    )"
   ]
  },
  {
   "cell_type": "code",
   "execution_count": 18,
   "id": "62bb5efc-0770-4e80-ac84-6096f9cdad75",
   "metadata": {
    "execution": {
     "iopub.execute_input": "2024-08-20T06:07:15.658566Z",
     "iopub.status.busy": "2024-08-20T06:07:15.658443Z",
     "iopub.status.idle": "2024-08-20T06:07:15.743622Z",
     "shell.execute_reply": "2024-08-20T06:07:15.743310Z",
     "shell.execute_reply.started": "2024-08-20T06:07:15.658553Z"
    }
   },
   "outputs": [
    {
     "data": {
      "text/plain": [
       "('thrA KO',\n",
       " 0.6861935869597003,\n",
       " 'Cysteine-1',\n",
       " 0.07663828365964043,\n",
       " 'Thiamine-1',\n",
       " 0.07562788785712382)"
      ]
     },
     "execution_count": 18,
     "metadata": {},
     "output_type": "execute_result"
    }
   ],
   "source": [
    "compute_explained_variance_change(P1K_M, P1K_A, P1K_X, P1K_Gene_Presence_Matrix, 'thrA')"
   ]
  },
  {
   "cell_type": "code",
   "execution_count": 19,
   "id": "89b3de66-095a-4ee7-a315-0da9c17f1a3a",
   "metadata": {
    "execution": {
     "iopub.execute_input": "2024-08-20T06:07:15.744155Z",
     "iopub.status.busy": "2024-08-20T06:07:15.744047Z",
     "iopub.status.idle": "2024-08-20T06:07:15.748034Z",
     "shell.execute_reply": "2024-08-20T06:07:15.747446Z",
     "shell.execute_reply.started": "2024-08-20T06:07:15.744144Z"
    }
   },
   "outputs": [],
   "source": [
    "def explained_variance_all_genes(M_matrix, A_matrix, log_tpm, P1K_Gene_Presence_Matrix):\n",
    "    results = []\n",
    "\n",
    "    for gene in tqdm(log_tpm.index, desc=\"Processing genes\"):\n",
    "        try:\n",
    "            top_1_imodulon, top_1_exp_var, top_2_imodulon, top_2_exp_var, top_3_imodulon, top_3_exp_var = compute_explained_variance_change(\n",
    "                M_matrix, A_matrix, log_tpm, P1K_Gene_Presence_Matrix, gene\n",
    "            )\n",
    "            results.append([gene, top_1_exp_var, top_1_imodulon, top_2_exp_var, top_2_imodulon, top_3_exp_var, top_3_imodulon])\n",
    "        except Exception as e:\n",
    "            print(f\"Error processing gene {gene}: {e}\")\n",
    "            results.append([gene, None, None, None, None, None, None])\n",
    "\n",
    "    # Convert the results to a DataFrame\n",
    "    results_df = pd.DataFrame(results, columns=[\n",
    "        'Gene', \n",
    "        'Top_1_Explained_Variance', 'Top_1_iModulon',\n",
    "        'Top_2_Explained_Variance', 'Top_2_iModulon',\n",
    "        'Top_3_Explained_Variance', 'Top_3_iModulon'\n",
    "    ])\n",
    "    \n",
    "    return results_df\n"
   ]
  },
  {
   "cell_type": "code",
   "execution_count": 20,
   "id": "8fbe3a56-4981-4201-b634-586842f348fa",
   "metadata": {
    "execution": {
     "iopub.execute_input": "2024-08-20T06:07:15.748762Z",
     "iopub.status.busy": "2024-08-20T06:07:15.748639Z",
     "iopub.status.idle": "2024-08-20T06:12:41.453486Z",
     "shell.execute_reply": "2024-08-20T06:12:41.453112Z",
     "shell.execute_reply.started": "2024-08-20T06:07:15.748749Z"
    }
   },
   "outputs": [
    {
     "data": {
      "application/vnd.jupyter.widget-view+json": {
       "model_id": "1414ca04a41a4b2f99c2de012840b0bb",
       "version_major": 2,
       "version_minor": 0
      },
      "text/plain": [
       "Processing genes:   0%|          | 0/4257 [00:00<?, ?it/s]"
      ]
     },
     "metadata": {},
     "output_type": "display_data"
    }
   ],
   "source": [
    "top_exp_var = explained_variance_all_genes(P1K_M, P1K_A, P1K_X, P1K_Gene_Presence_Matrix)"
   ]
  },
  {
   "cell_type": "code",
   "execution_count": 75,
   "id": "5125fb08-1727-4e99-b551-09bb893a71b3",
   "metadata": {
    "execution": {
     "iopub.execute_input": "2024-08-20T06:14:19.495918Z",
     "iopub.status.busy": "2024-08-20T06:14:19.495552Z",
     "iopub.status.idle": "2024-08-20T06:14:19.524666Z",
     "shell.execute_reply": "2024-08-20T06:14:19.523796Z",
     "shell.execute_reply.started": "2024-08-20T06:14:19.495886Z"
    }
   },
   "outputs": [],
   "source": [
    "top_exp_var.to_csv('../Data/top_exp_var.csv')"
   ]
  },
  {
   "cell_type": "code",
   "execution_count": 76,
   "id": "44689788-5377-4d63-9a4f-936f761f31ca",
   "metadata": {
    "execution": {
     "iopub.execute_input": "2024-08-20T06:14:19.644643Z",
     "iopub.status.busy": "2024-08-20T06:14:19.644339Z",
     "iopub.status.idle": "2024-08-20T06:14:19.656969Z",
     "shell.execute_reply": "2024-08-20T06:14:19.656153Z",
     "shell.execute_reply.started": "2024-08-20T06:14:19.644614Z"
    }
   },
   "outputs": [],
   "source": [
    "top_exp_var = pd.read_csv('../Data/top_exp_var.csv', index_col=0)"
   ]
  },
  {
   "cell_type": "code",
   "execution_count": 23,
   "id": "2880b6e2-ddee-423c-8173-f12ed4accf6d",
   "metadata": {
    "execution": {
     "iopub.execute_input": "2024-08-20T06:12:41.479627Z",
     "iopub.status.busy": "2024-08-20T06:12:41.479504Z",
     "iopub.status.idle": "2024-08-20T06:12:41.482230Z",
     "shell.execute_reply": "2024-08-20T06:12:41.481705Z",
     "shell.execute_reply.started": "2024-08-20T06:12:41.479614Z"
    }
   },
   "outputs": [],
   "source": [
    "top_exp_var = top_exp_var.set_index('Gene')"
   ]
  },
  {
   "cell_type": "code",
   "execution_count": 24,
   "id": "d898f6c6-ffc7-46ca-b3ef-884a8e132d8e",
   "metadata": {
    "execution": {
     "iopub.execute_input": "2024-08-20T06:12:41.483120Z",
     "iopub.status.busy": "2024-08-20T06:12:41.482995Z",
     "iopub.status.idle": "2024-08-20T06:12:41.491167Z",
     "shell.execute_reply": "2024-08-20T06:12:41.490747Z",
     "shell.execute_reply.started": "2024-08-20T06:12:41.483107Z"
    }
   },
   "outputs": [
    {
     "data": {
      "text/html": [
       "<div>\n",
       "<style scoped>\n",
       "    .dataframe tbody tr th:only-of-type {\n",
       "        vertical-align: middle;\n",
       "    }\n",
       "\n",
       "    .dataframe tbody tr th {\n",
       "        vertical-align: top;\n",
       "    }\n",
       "\n",
       "    .dataframe thead th {\n",
       "        text-align: right;\n",
       "    }\n",
       "</style>\n",
       "<table border=\"1\" class=\"dataframe\">\n",
       "  <thead>\n",
       "    <tr style=\"text-align: right;\">\n",
       "      <th></th>\n",
       "      <th>Top_1_Explained_Variance</th>\n",
       "      <th>Top_1_iModulon</th>\n",
       "      <th>Top_2_Explained_Variance</th>\n",
       "      <th>Top_2_iModulon</th>\n",
       "      <th>Top_3_Explained_Variance</th>\n",
       "      <th>Top_3_iModulon</th>\n",
       "    </tr>\n",
       "    <tr>\n",
       "      <th>Gene</th>\n",
       "      <th></th>\n",
       "      <th></th>\n",
       "      <th></th>\n",
       "      <th></th>\n",
       "      <th></th>\n",
       "      <th></th>\n",
       "    </tr>\n",
       "  </thead>\n",
       "  <tbody>\n",
       "    <tr>\n",
       "      <th>thrA</th>\n",
       "      <td>0.686194</td>\n",
       "      <td>thrA KO</td>\n",
       "      <td>0.076638</td>\n",
       "      <td>Cysteine-1</td>\n",
       "      <td>0.075628</td>\n",
       "      <td>Thiamine-1</td>\n",
       "    </tr>\n",
       "    <tr>\n",
       "      <th>thrB</th>\n",
       "      <td>0.254512</td>\n",
       "      <td>thrA KO</td>\n",
       "      <td>0.227884</td>\n",
       "      <td>Leu/Val/Ile</td>\n",
       "      <td>0.103394</td>\n",
       "      <td>Leucine</td>\n",
       "    </tr>\n",
       "    <tr>\n",
       "      <th>thrC</th>\n",
       "      <td>0.246587</td>\n",
       "      <td>thrA KO</td>\n",
       "      <td>0.234486</td>\n",
       "      <td>Leu/Val/Ile</td>\n",
       "      <td>0.155906</td>\n",
       "      <td>Dipeptide</td>\n",
       "    </tr>\n",
       "    <tr>\n",
       "      <th>yaaX</th>\n",
       "      <td>0.171007</td>\n",
       "      <td>Leu/Val/Ile</td>\n",
       "      <td>0.169602</td>\n",
       "      <td>Nucleotide Stress</td>\n",
       "      <td>0.095365</td>\n",
       "      <td>Glycolate</td>\n",
       "    </tr>\n",
       "    <tr>\n",
       "      <th>yaaA</th>\n",
       "      <td>0.428612</td>\n",
       "      <td>OxyR</td>\n",
       "      <td>0.171808</td>\n",
       "      <td>Cold Shock</td>\n",
       "      <td>0.129606</td>\n",
       "      <td>UC-8</td>\n",
       "    </tr>\n",
       "    <tr>\n",
       "      <th>...</th>\n",
       "      <td>...</td>\n",
       "      <td>...</td>\n",
       "      <td>...</td>\n",
       "      <td>...</td>\n",
       "      <td>...</td>\n",
       "      <td>...</td>\n",
       "    </tr>\n",
       "    <tr>\n",
       "      <th>yneP</th>\n",
       "      <td>0.629455</td>\n",
       "      <td>yneP</td>\n",
       "      <td>0.075002</td>\n",
       "      <td>GadXW</td>\n",
       "      <td>0.047460</td>\n",
       "      <td>Resistance</td>\n",
       "    </tr>\n",
       "    <tr>\n",
       "      <th>ynfT</th>\n",
       "      <td>0.424437</td>\n",
       "      <td>Cold Shock</td>\n",
       "      <td>0.045140</td>\n",
       "      <td>NRZ</td>\n",
       "      <td>0.033476</td>\n",
       "      <td>LPS</td>\n",
       "    </tr>\n",
       "    <tr>\n",
       "      <th>yoaL</th>\n",
       "      <td>0.102746</td>\n",
       "      <td>CpxR</td>\n",
       "      <td>0.066571</td>\n",
       "      <td>Cellulose</td>\n",
       "      <td>0.044315</td>\n",
       "      <td>ppGpp</td>\n",
       "    </tr>\n",
       "    <tr>\n",
       "      <th>yqhI</th>\n",
       "      <td>0.738529</td>\n",
       "      <td>yqhI</td>\n",
       "      <td>0.091457</td>\n",
       "      <td>UC-8</td>\n",
       "      <td>0.084815</td>\n",
       "      <td>Resistance</td>\n",
       "    </tr>\n",
       "    <tr>\n",
       "      <th>yqiD</th>\n",
       "      <td>0.554369</td>\n",
       "      <td>Fnr-2</td>\n",
       "      <td>0.396718</td>\n",
       "      <td>Fnr-3</td>\n",
       "      <td>0.087869</td>\n",
       "      <td>ArcA</td>\n",
       "    </tr>\n",
       "  </tbody>\n",
       "</table>\n",
       "<p>4257 rows × 6 columns</p>\n",
       "</div>"
      ],
      "text/plain": [
       "      Top_1_Explained_Variance Top_1_iModulon  Top_2_Explained_Variance  \\\n",
       "Gene                                                                      \n",
       "thrA                  0.686194        thrA KO                  0.076638   \n",
       "thrB                  0.254512        thrA KO                  0.227884   \n",
       "thrC                  0.246587        thrA KO                  0.234486   \n",
       "yaaX                  0.171007    Leu/Val/Ile                  0.169602   \n",
       "yaaA                  0.428612           OxyR                  0.171808   \n",
       "...                        ...            ...                       ...   \n",
       "yneP                  0.629455           yneP                  0.075002   \n",
       "ynfT                  0.424437     Cold Shock                  0.045140   \n",
       "yoaL                  0.102746           CpxR                  0.066571   \n",
       "yqhI                  0.738529           yqhI                  0.091457   \n",
       "yqiD                  0.554369          Fnr-2                  0.396718   \n",
       "\n",
       "         Top_2_iModulon  Top_3_Explained_Variance Top_3_iModulon  \n",
       "Gene                                                              \n",
       "thrA         Cysteine-1                  0.075628     Thiamine-1  \n",
       "thrB        Leu/Val/Ile                  0.103394        Leucine  \n",
       "thrC        Leu/Val/Ile                  0.155906      Dipeptide  \n",
       "yaaX  Nucleotide Stress                  0.095365      Glycolate  \n",
       "yaaA         Cold Shock                  0.129606           UC-8  \n",
       "...                 ...                       ...            ...  \n",
       "yneP              GadXW                  0.047460     Resistance  \n",
       "ynfT                NRZ                  0.033476            LPS  \n",
       "yoaL          Cellulose                  0.044315          ppGpp  \n",
       "yqhI               UC-8                  0.084815     Resistance  \n",
       "yqiD              Fnr-3                  0.087869           ArcA  \n",
       "\n",
       "[4257 rows x 6 columns]"
      ]
     },
     "execution_count": 24,
     "metadata": {},
     "output_type": "execute_result"
    }
   ],
   "source": [
    "top_exp_var"
   ]
  },
  {
   "cell_type": "code",
   "execution_count": 25,
   "id": "06e70943-0d6d-4db9-9f07-0a09e7f8c071",
   "metadata": {
    "execution": {
     "iopub.execute_input": "2024-08-20T06:12:41.491734Z",
     "iopub.status.busy": "2024-08-20T06:12:41.491612Z",
     "iopub.status.idle": "2024-08-20T06:12:41.592527Z",
     "shell.execute_reply": "2024-08-20T06:12:41.592100Z",
     "shell.execute_reply.started": "2024-08-20T06:12:41.491721Z"
    }
   },
   "outputs": [
    {
     "data": {
      "text/plain": [
       "<AxesSubplot:>"
      ]
     },
     "execution_count": 25,
     "metadata": {},
     "output_type": "execute_result"
    },
    {
     "data": {
      "image/png": "[encoded data removed]",
      "text/plain": [
       "<Figure size 640x480 with 1 Axes>"
      ]
     },
     "metadata": {},
     "output_type": "display_data"
    }
   ],
   "source": [
    "top_exp_var['Top_1_Explained_Variance'].hist()"
   ]
  },
  {
   "cell_type": "code",
   "execution_count": 26,
   "id": "233b36a8-ff4a-4e12-8aba-e981192732ed",
   "metadata": {
    "execution": {
     "iopub.execute_input": "2024-08-20T06:12:41.593114Z",
     "iopub.status.busy": "2024-08-20T06:12:41.592985Z",
     "iopub.status.idle": "2024-08-20T06:12:41.600445Z",
     "shell.execute_reply": "2024-08-20T06:12:41.600103Z",
     "shell.execute_reply.started": "2024-08-20T06:12:41.593101Z"
    }
   },
   "outputs": [
    {
     "data": {
      "text/html": [
       "<div>\n",
       "<style scoped>\n",
       "    .dataframe tbody tr th:only-of-type {\n",
       "        vertical-align: middle;\n",
       "    }\n",
       "\n",
       "    .dataframe tbody tr th {\n",
       "        vertical-align: top;\n",
       "    }\n",
       "\n",
       "    .dataframe thead th {\n",
       "        text-align: right;\n",
       "    }\n",
       "</style>\n",
       "<table border=\"1\" class=\"dataframe\">\n",
       "  <thead>\n",
       "    <tr style=\"text-align: right;\">\n",
       "      <th></th>\n",
       "      <th>Top_1_Explained_Variance</th>\n",
       "      <th>Top_1_iModulon</th>\n",
       "      <th>Top_2_Explained_Variance</th>\n",
       "      <th>Top_2_iModulon</th>\n",
       "      <th>Top_3_Explained_Variance</th>\n",
       "      <th>Top_3_iModulon</th>\n",
       "    </tr>\n",
       "    <tr>\n",
       "      <th>Gene</th>\n",
       "      <th></th>\n",
       "      <th></th>\n",
       "      <th></th>\n",
       "      <th></th>\n",
       "      <th></th>\n",
       "      <th></th>\n",
       "    </tr>\n",
       "  </thead>\n",
       "  <tbody>\n",
       "    <tr>\n",
       "      <th>hofP</th>\n",
       "      <td>0.028429</td>\n",
       "      <td>Translation</td>\n",
       "      <td>0.025940</td>\n",
       "      <td>ykgR</td>\n",
       "      <td>0.022324</td>\n",
       "      <td>ytiC</td>\n",
       "    </tr>\n",
       "    <tr>\n",
       "      <th>yfcS</th>\n",
       "      <td>0.031301</td>\n",
       "      <td>ppGpp</td>\n",
       "      <td>0.030958</td>\n",
       "      <td>FlhDC-2</td>\n",
       "      <td>0.030654</td>\n",
       "      <td>IS5</td>\n",
       "    </tr>\n",
       "    <tr>\n",
       "      <th>hofO</th>\n",
       "      <td>0.032218</td>\n",
       "      <td>lsrB KO</td>\n",
       "      <td>0.030144</td>\n",
       "      <td>nquinone ALE 3</td>\n",
       "      <td>0.029838</td>\n",
       "      <td>e14 Del</td>\n",
       "    </tr>\n",
       "    <tr>\n",
       "      <th>agaC</th>\n",
       "      <td>0.034755</td>\n",
       "      <td>Phosphate-2</td>\n",
       "      <td>0.029729</td>\n",
       "      <td>UC-2</td>\n",
       "      <td>0.025961</td>\n",
       "      <td>malE OE</td>\n",
       "    </tr>\n",
       "    <tr>\n",
       "      <th>yaaU</th>\n",
       "      <td>0.036379</td>\n",
       "      <td>Translation</td>\n",
       "      <td>0.025086</td>\n",
       "      <td>FucR/AllR/AraC</td>\n",
       "      <td>0.023241</td>\n",
       "      <td>Leucine</td>\n",
       "    </tr>\n",
       "    <tr>\n",
       "      <th>sfmF</th>\n",
       "      <td>0.036993</td>\n",
       "      <td>UC-6</td>\n",
       "      <td>0.035706</td>\n",
       "      <td>Tryptophan</td>\n",
       "      <td>0.034946</td>\n",
       "      <td>Leucine</td>\n",
       "    </tr>\n",
       "    <tr>\n",
       "      <th>dicC</th>\n",
       "      <td>0.037217</td>\n",
       "      <td>NO Stress</td>\n",
       "      <td>0.033422</td>\n",
       "      <td>ypjJ</td>\n",
       "      <td>0.033414</td>\n",
       "      <td>cyoB/kdpE/qseB KO</td>\n",
       "    </tr>\n",
       "    <tr>\n",
       "      <th>yfdM</th>\n",
       "      <td>0.040620</td>\n",
       "      <td>UC-2</td>\n",
       "      <td>0.024629</td>\n",
       "      <td>Osmoprotectant</td>\n",
       "      <td>0.021516</td>\n",
       "      <td>NDH-1</td>\n",
       "    </tr>\n",
       "    <tr>\n",
       "      <th>ymjB</th>\n",
       "      <td>0.041217</td>\n",
       "      <td>Nitrate/Nitrite</td>\n",
       "      <td>0.037120</td>\n",
       "      <td>ldrC</td>\n",
       "      <td>0.029970</td>\n",
       "      <td>GadXW</td>\n",
       "    </tr>\n",
       "    <tr>\n",
       "      <th>ytcA</th>\n",
       "      <td>0.041261</td>\n",
       "      <td>RpoE</td>\n",
       "      <td>0.040898</td>\n",
       "      <td>UC-2</td>\n",
       "      <td>0.020968</td>\n",
       "      <td>PlaR</td>\n",
       "    </tr>\n",
       "  </tbody>\n",
       "</table>\n",
       "</div>"
      ],
      "text/plain": [
       "      Top_1_Explained_Variance   Top_1_iModulon  Top_2_Explained_Variance  \\\n",
       "Gene                                                                        \n",
       "hofP                  0.028429      Translation                  0.025940   \n",
       "yfcS                  0.031301            ppGpp                  0.030958   \n",
       "hofO                  0.032218          lsrB KO                  0.030144   \n",
       "agaC                  0.034755      Phosphate-2                  0.029729   \n",
       "yaaU                  0.036379      Translation                  0.025086   \n",
       "sfmF                  0.036993             UC-6                  0.035706   \n",
       "dicC                  0.037217        NO Stress                  0.033422   \n",
       "yfdM                  0.040620             UC-2                  0.024629   \n",
       "ymjB                  0.041217  Nitrate/Nitrite                  0.037120   \n",
       "ytcA                  0.041261             RpoE                  0.040898   \n",
       "\n",
       "      Top_2_iModulon  Top_3_Explained_Variance     Top_3_iModulon  \n",
       "Gene                                                               \n",
       "hofP            ykgR                  0.022324               ytiC  \n",
       "yfcS         FlhDC-2                  0.030654                IS5  \n",
       "hofO  nquinone ALE 3                  0.029838            e14 Del  \n",
       "agaC            UC-2                  0.025961            malE OE  \n",
       "yaaU  FucR/AllR/AraC                  0.023241            Leucine  \n",
       "sfmF      Tryptophan                  0.034946            Leucine  \n",
       "dicC            ypjJ                  0.033414  cyoB/kdpE/qseB KO  \n",
       "yfdM  Osmoprotectant                  0.021516              NDH-1  \n",
       "ymjB            ldrC                  0.029970              GadXW  \n",
       "ytcA            UC-2                  0.020968               PlaR  "
      ]
     },
     "execution_count": 26,
     "metadata": {},
     "output_type": "execute_result"
    }
   ],
   "source": [
    "top_exp_var.nsmallest(10, 'Top_1_Explained_Variance')"
   ]
  },
  {
   "cell_type": "code",
   "execution_count": 27,
   "id": "52b7a7c8-12a0-4736-9d81-79adb92696db",
   "metadata": {
    "execution": {
     "iopub.execute_input": "2024-08-20T06:12:41.601018Z",
     "iopub.status.busy": "2024-08-20T06:12:41.600893Z",
     "iopub.status.idle": "2024-08-20T06:12:41.614580Z",
     "shell.execute_reply": "2024-08-20T06:12:41.614237Z",
     "shell.execute_reply.started": "2024-08-20T06:12:41.601005Z"
    }
   },
   "outputs": [
    {
     "data": {
      "text/html": [
       "<div>\n",
       "<style scoped>\n",
       "    .dataframe tbody tr th:only-of-type {\n",
       "        vertical-align: middle;\n",
       "    }\n",
       "\n",
       "    .dataframe tbody tr th {\n",
       "        vertical-align: top;\n",
       "    }\n",
       "\n",
       "    .dataframe thead th {\n",
       "        text-align: right;\n",
       "    }\n",
       "</style>\n",
       "<table border=\"1\" class=\"dataframe\">\n",
       "  <thead>\n",
       "    <tr style=\"text-align: right;\">\n",
       "      <th></th>\n",
       "      <th>Top_1_Explained_Variance</th>\n",
       "      <th>Top_1_iModulon</th>\n",
       "      <th>Top_2_Explained_Variance</th>\n",
       "      <th>Top_2_iModulon</th>\n",
       "      <th>Top_3_Explained_Variance</th>\n",
       "      <th>Top_3_iModulon</th>\n",
       "    </tr>\n",
       "    <tr>\n",
       "      <th>Gene</th>\n",
       "      <th></th>\n",
       "      <th></th>\n",
       "      <th></th>\n",
       "      <th></th>\n",
       "      <th></th>\n",
       "      <th></th>\n",
       "    </tr>\n",
       "  </thead>\n",
       "  <tbody>\n",
       "    <tr>\n",
       "      <th>cusB</th>\n",
       "      <td>0.983159</td>\n",
       "      <td>Copper</td>\n",
       "      <td>0.035386</td>\n",
       "      <td>Zinc-1</td>\n",
       "      <td>0.018167</td>\n",
       "      <td>UC-8</td>\n",
       "    </tr>\n",
       "    <tr>\n",
       "      <th>thiF</th>\n",
       "      <td>0.979861</td>\n",
       "      <td>Thiamine-1</td>\n",
       "      <td>0.021397</td>\n",
       "      <td>Biotin</td>\n",
       "      <td>0.017967</td>\n",
       "      <td>Propionate</td>\n",
       "    </tr>\n",
       "    <tr>\n",
       "      <th>zinT</th>\n",
       "      <td>0.976842</td>\n",
       "      <td>Zinc-1</td>\n",
       "      <td>0.017674</td>\n",
       "      <td>Copper</td>\n",
       "      <td>0.013547</td>\n",
       "      <td>Nickel/Cobalt</td>\n",
       "    </tr>\n",
       "    <tr>\n",
       "      <th>cusF</th>\n",
       "      <td>0.975953</td>\n",
       "      <td>Copper</td>\n",
       "      <td>0.032475</td>\n",
       "      <td>Zinc-1</td>\n",
       "      <td>0.012290</td>\n",
       "      <td>Leu/Val/Ile</td>\n",
       "    </tr>\n",
       "    <tr>\n",
       "      <th>fliF</th>\n",
       "      <td>0.974904</td>\n",
       "      <td>FlhDC-2</td>\n",
       "      <td>0.066952</td>\n",
       "      <td>FlhDC-1</td>\n",
       "      <td>0.010509</td>\n",
       "      <td>Efflux Pump</td>\n",
       "    </tr>\n",
       "    <tr>\n",
       "      <th>thiE</th>\n",
       "      <td>0.973698</td>\n",
       "      <td>Thiamine-1</td>\n",
       "      <td>0.042185</td>\n",
       "      <td>Biotin</td>\n",
       "      <td>0.024334</td>\n",
       "      <td>UC-3</td>\n",
       "    </tr>\n",
       "    <tr>\n",
       "      <th>thiC</th>\n",
       "      <td>0.971274</td>\n",
       "      <td>Thiamine-1</td>\n",
       "      <td>0.051218</td>\n",
       "      <td>Biotin</td>\n",
       "      <td>0.028852</td>\n",
       "      <td>NRZ</td>\n",
       "    </tr>\n",
       "    <tr>\n",
       "      <th>gatC</th>\n",
       "      <td>0.970559</td>\n",
       "      <td>Crp-2</td>\n",
       "      <td>0.043604</td>\n",
       "      <td>Acetate</td>\n",
       "      <td>0.026965</td>\n",
       "      <td>Dipeptide</td>\n",
       "    </tr>\n",
       "    <tr>\n",
       "      <th>flgG</th>\n",
       "      <td>0.969192</td>\n",
       "      <td>FlhDC-2</td>\n",
       "      <td>0.031873</td>\n",
       "      <td>FliA</td>\n",
       "      <td>0.012762</td>\n",
       "      <td>minicoli KOs</td>\n",
       "    </tr>\n",
       "    <tr>\n",
       "      <th>fliL</th>\n",
       "      <td>0.969108</td>\n",
       "      <td>FlhDC-2</td>\n",
       "      <td>0.017697</td>\n",
       "      <td>NtrC-1</td>\n",
       "      <td>0.016019</td>\n",
       "      <td>gcvB</td>\n",
       "    </tr>\n",
       "  </tbody>\n",
       "</table>\n",
       "</div>"
      ],
      "text/plain": [
       "      Top_1_Explained_Variance Top_1_iModulon  Top_2_Explained_Variance  \\\n",
       "Gene                                                                      \n",
       "cusB                  0.983159         Copper                  0.035386   \n",
       "thiF                  0.979861     Thiamine-1                  0.021397   \n",
       "zinT                  0.976842         Zinc-1                  0.017674   \n",
       "cusF                  0.975953         Copper                  0.032475   \n",
       "fliF                  0.974904        FlhDC-2                  0.066952   \n",
       "thiE                  0.973698     Thiamine-1                  0.042185   \n",
       "thiC                  0.971274     Thiamine-1                  0.051218   \n",
       "gatC                  0.970559          Crp-2                  0.043604   \n",
       "flgG                  0.969192        FlhDC-2                  0.031873   \n",
       "fliL                  0.969108        FlhDC-2                  0.017697   \n",
       "\n",
       "     Top_2_iModulon  Top_3_Explained_Variance Top_3_iModulon  \n",
       "Gene                                                          \n",
       "cusB         Zinc-1                  0.018167           UC-8  \n",
       "thiF         Biotin                  0.017967     Propionate  \n",
       "zinT         Copper                  0.013547  Nickel/Cobalt  \n",
       "cusF         Zinc-1                  0.012290    Leu/Val/Ile  \n",
       "fliF        FlhDC-1                  0.010509    Efflux Pump  \n",
       "thiE         Biotin                  0.024334           UC-3  \n",
       "thiC         Biotin                  0.028852            NRZ  \n",
       "gatC        Acetate                  0.026965      Dipeptide  \n",
       "flgG           FliA                  0.012762   minicoli KOs  \n",
       "fliL         NtrC-1                  0.016019           gcvB  "
      ]
     },
     "execution_count": 27,
     "metadata": {},
     "output_type": "execute_result"
    }
   ],
   "source": [
    "top_exp_var.nlargest(10, 'Top_1_Explained_Variance')"
   ]
  },
  {
   "cell_type": "code",
   "execution_count": 28,
   "id": "df9fb8fa-6b00-4a8c-a5e3-dfbc4e10cf60",
   "metadata": {
    "execution": {
     "iopub.execute_input": "2024-08-20T06:12:41.615153Z",
     "iopub.status.busy": "2024-08-20T06:12:41.615028Z",
     "iopub.status.idle": "2024-08-20T06:12:41.617786Z",
     "shell.execute_reply": "2024-08-20T06:12:41.617436Z",
     "shell.execute_reply.started": "2024-08-20T06:12:41.615140Z"
    }
   },
   "outputs": [],
   "source": [
    "def compute_explained_variance_for_a_gene(M, A, X, P1K_Gene_Presence_Matrix, gene):\n",
    "\n",
    "    M = M.loc[[gene]]\n",
    "    X = X.loc[[gene]]\n",
    "\n",
    "    new_exp_var = calculate_explained_variance(M, A, X)\n",
    "\n",
    "    return new_exp_var"
   ]
  },
  {
   "cell_type": "code",
   "execution_count": 29,
   "id": "26a47b8c-d7f6-4af7-80a5-cdde085bef2d",
   "metadata": {
    "execution": {
     "iopub.execute_input": "2024-08-20T06:12:41.618430Z",
     "iopub.status.busy": "2024-08-20T06:12:41.618305Z",
     "iopub.status.idle": "2024-08-20T06:12:41.630390Z",
     "shell.execute_reply": "2024-08-20T06:12:41.629844Z",
     "shell.execute_reply.started": "2024-08-20T06:12:41.618418Z"
    }
   },
   "outputs": [
    {
     "data": {
      "text/plain": [
       "0.8963351176871969"
      ]
     },
     "execution_count": 29,
     "metadata": {},
     "output_type": "execute_result"
    }
   ],
   "source": [
    "compute_explained_variance_for_a_gene(P1K_M, P1K_A, P1K_X, P1K_Gene_Presence_Matrix, 'yqiD')"
   ]
  },
  {
   "cell_type": "code",
   "execution_count": 30,
   "id": "e377577c-7203-413d-b4f2-769a4267e3f9",
   "metadata": {
    "execution": {
     "iopub.execute_input": "2024-08-20T06:12:41.631361Z",
     "iopub.status.busy": "2024-08-20T06:12:41.631091Z",
     "iopub.status.idle": "2024-08-20T06:12:41.635780Z",
     "shell.execute_reply": "2024-08-20T06:12:41.635183Z",
     "shell.execute_reply.started": "2024-08-20T06:12:41.631341Z"
    }
   },
   "outputs": [],
   "source": [
    "def explained_variance_genes(\n",
    "    M_matrix, A_matrix, log_tpm, P1K_Gene_Presence_Matrix\n",
    "):\n",
    "    results = []\n",
    "\n",
    "    for gene in tqdm(log_tpm.index, desc=\"Processing genes\"):\n",
    "        try:\n",
    "            explained_variance = compute_explained_variance_for_a_gene(\n",
    "                M_matrix, A_matrix, log_tpm, P1K_Gene_Presence_Matrix, gene\n",
    "            )\n",
    "            results.append([gene, explained_variance])\n",
    "        except Exception as e:\n",
    "            print(f\"Error processing gene {gene}: {e}\")\n",
    "            results.append([gene, None, None])\n",
    "\n",
    "    results_df = pd.DataFrame(results, columns=['Gene', 'Total_Explained_Variance'])\n",
    "    return results_df"
   ]
  },
  {
   "cell_type": "code",
   "execution_count": 31,
   "id": "645e27d8-a9f4-481f-8131-a4210e61f4d7",
   "metadata": {
    "execution": {
     "iopub.execute_input": "2024-08-20T06:12:41.636935Z",
     "iopub.status.busy": "2024-08-20T06:12:41.636457Z",
     "iopub.status.idle": "2024-08-20T06:12:44.698485Z",
     "shell.execute_reply": "2024-08-20T06:12:44.697922Z",
     "shell.execute_reply.started": "2024-08-20T06:12:41.636915Z"
    }
   },
   "outputs": [
    {
     "data": {
      "application/vnd.jupyter.widget-view+json": {
       "model_id": "8ebeb91d255849f6ae2fa4b353949a59",
       "version_major": 2,
       "version_minor": 0
      },
      "text/plain": [
       "Processing genes:   0%|          | 0/4257 [00:00<?, ?it/s]"
      ]
     },
     "metadata": {},
     "output_type": "display_data"
    }
   ],
   "source": [
    "total_exp_var = explained_variance_genes(P1K_M, P1K_A, P1K_X, P1K_Gene_Presence_Matrix)"
   ]
  },
  {
   "cell_type": "code",
   "execution_count": 32,
   "id": "bf75df7c-bf1c-4d83-aed5-1430da8c1e80",
   "metadata": {
    "execution": {
     "iopub.execute_input": "2024-08-20T06:12:44.699752Z",
     "iopub.status.busy": "2024-08-20T06:12:44.699438Z",
     "iopub.status.idle": "2024-08-20T06:12:44.703005Z",
     "shell.execute_reply": "2024-08-20T06:12:44.702491Z",
     "shell.execute_reply.started": "2024-08-20T06:12:44.699730Z"
    }
   },
   "outputs": [],
   "source": [
    "total_exp_var = total_exp_var.set_index('Gene')"
   ]
  },
  {
   "cell_type": "code",
   "execution_count": 33,
   "id": "213127aa-9da1-4d52-a854-e72f5c2e4501",
   "metadata": {
    "execution": {
     "iopub.execute_input": "2024-08-20T06:12:44.704134Z",
     "iopub.status.busy": "2024-08-20T06:12:44.703836Z",
     "iopub.status.idle": "2024-08-20T06:12:44.716353Z",
     "shell.execute_reply": "2024-08-20T06:12:44.715861Z",
     "shell.execute_reply.started": "2024-08-20T06:12:44.704114Z"
    }
   },
   "outputs": [
    {
     "data": {
      "text/html": [
       "<div>\n",
       "<style scoped>\n",
       "    .dataframe tbody tr th:only-of-type {\n",
       "        vertical-align: middle;\n",
       "    }\n",
       "\n",
       "    .dataframe tbody tr th {\n",
       "        vertical-align: top;\n",
       "    }\n",
       "\n",
       "    .dataframe thead th {\n",
       "        text-align: right;\n",
       "    }\n",
       "</style>\n",
       "<table border=\"1\" class=\"dataframe\">\n",
       "  <thead>\n",
       "    <tr style=\"text-align: right;\">\n",
       "      <th></th>\n",
       "      <th>Total_Explained_Variance</th>\n",
       "    </tr>\n",
       "    <tr>\n",
       "      <th>Gene</th>\n",
       "      <th></th>\n",
       "    </tr>\n",
       "  </thead>\n",
       "  <tbody>\n",
       "    <tr>\n",
       "      <th>thrA</th>\n",
       "      <td>0.899430</td>\n",
       "    </tr>\n",
       "    <tr>\n",
       "      <th>thrB</th>\n",
       "      <td>0.808533</td>\n",
       "    </tr>\n",
       "    <tr>\n",
       "      <th>thrC</th>\n",
       "      <td>0.824916</td>\n",
       "    </tr>\n",
       "    <tr>\n",
       "      <th>yaaX</th>\n",
       "      <td>0.689923</td>\n",
       "    </tr>\n",
       "    <tr>\n",
       "      <th>yaaA</th>\n",
       "      <td>0.638300</td>\n",
       "    </tr>\n",
       "    <tr>\n",
       "      <th>...</th>\n",
       "      <td>...</td>\n",
       "    </tr>\n",
       "    <tr>\n",
       "      <th>yneP</th>\n",
       "      <td>0.748917</td>\n",
       "    </tr>\n",
       "    <tr>\n",
       "      <th>ynfT</th>\n",
       "      <td>0.467147</td>\n",
       "    </tr>\n",
       "    <tr>\n",
       "      <th>yoaL</th>\n",
       "      <td>0.333663</td>\n",
       "    </tr>\n",
       "    <tr>\n",
       "      <th>yqhI</th>\n",
       "      <td>0.894360</td>\n",
       "    </tr>\n",
       "    <tr>\n",
       "      <th>yqiD</th>\n",
       "      <td>0.896335</td>\n",
       "    </tr>\n",
       "  </tbody>\n",
       "</table>\n",
       "<p>4257 rows × 1 columns</p>\n",
       "</div>"
      ],
      "text/plain": [
       "      Total_Explained_Variance\n",
       "Gene                          \n",
       "thrA                  0.899430\n",
       "thrB                  0.808533\n",
       "thrC                  0.824916\n",
       "yaaX                  0.689923\n",
       "yaaA                  0.638300\n",
       "...                        ...\n",
       "yneP                  0.748917\n",
       "ynfT                  0.467147\n",
       "yoaL                  0.333663\n",
       "yqhI                  0.894360\n",
       "yqiD                  0.896335\n",
       "\n",
       "[4257 rows x 1 columns]"
      ]
     },
     "execution_count": 33,
     "metadata": {},
     "output_type": "execute_result"
    }
   ],
   "source": [
    "total_exp_var"
   ]
  },
  {
   "cell_type": "markdown",
   "id": "07dee2d5-0cdb-4e69-ac89-2fa1d234d1ed",
   "metadata": {},
   "source": [
    "## Number of Regulators"
   ]
  },
  {
   "cell_type": "code",
   "execution_count": 34,
   "id": "a8cd997a-5d8f-4375-8547-2a438b0c4a4c",
   "metadata": {
    "execution": {
     "iopub.execute_input": "2024-08-20T06:12:44.717446Z",
     "iopub.status.busy": "2024-08-20T06:12:44.717152Z",
     "iopub.status.idle": "2024-08-20T06:12:44.722198Z",
     "shell.execute_reply": "2024-08-20T06:12:44.721671Z",
     "shell.execute_reply.started": "2024-08-20T06:12:44.717427Z"
    }
   },
   "outputs": [],
   "source": [
    "P1K_RegulonDB= pd.DataFrame(RegulonDB_TRN.sum(axis=1), columns=['num_regulators'])"
   ]
  },
  {
   "cell_type": "code",
   "execution_count": 35,
   "id": "92312a15-fd00-41bf-a5c4-8b4a14ccd345",
   "metadata": {
    "execution": {
     "iopub.execute_input": "2024-08-20T06:12:44.723288Z",
     "iopub.status.busy": "2024-08-20T06:12:44.722999Z",
     "iopub.status.idle": "2024-08-20T06:12:44.730700Z",
     "shell.execute_reply": "2024-08-20T06:12:44.730200Z",
     "shell.execute_reply.started": "2024-08-20T06:12:44.723268Z"
    }
   },
   "outputs": [],
   "source": [
    "P1K_Regulon_Number = pd.DataFrame(index=P1K_X.index)\n",
    "P1K_Regulon_Number['num_regulators'] = 0\n",
    "\n",
    "# Update the num_regulators values with the values from new_df for the common indices\n",
    "common_indices = P1K_Regulon_Number.index.intersection(P1K_RegulonDB.index)\n",
    "P1K_Regulon_Number.loc[common_indices, 'num_regulators'] = P1K_RegulonDB.loc[common_indices, 'num_regulators']"
   ]
  },
  {
   "cell_type": "code",
   "execution_count": 56,
   "id": "02b422b0-993e-4dff-80e0-9f505dda3e0c",
   "metadata": {
    "execution": {
     "iopub.execute_input": "2024-08-20T06:13:24.198737Z",
     "iopub.status.busy": "2024-08-20T06:13:24.198393Z",
     "iopub.status.idle": "2024-08-20T06:13:24.203774Z",
     "shell.execute_reply": "2024-08-20T06:13:24.202993Z",
     "shell.execute_reply.started": "2024-08-20T06:13:24.198707Z"
    }
   },
   "outputs": [],
   "source": [
    "P1K_Regulon_Number['num_regulators'] = P1K_Regulon_Number['num_regulators'].astype('int')"
   ]
  },
  {
   "cell_type": "code",
   "execution_count": 57,
   "id": "0cd0a2d4-880a-4aba-a208-4e63109f257a",
   "metadata": {
    "execution": {
     "iopub.execute_input": "2024-08-20T06:13:24.931586Z",
     "iopub.status.busy": "2024-08-20T06:13:24.931267Z",
     "iopub.status.idle": "2024-08-20T06:13:24.938285Z",
     "shell.execute_reply": "2024-08-20T06:13:24.937576Z",
     "shell.execute_reply.started": "2024-08-20T06:13:24.931556Z"
    }
   },
   "outputs": [
    {
     "data": {
      "text/plain": [
       "Gene Name\n",
       "thrA    3\n",
       "thrB    1\n",
       "thrC    1\n",
       "yaaX    0\n",
       "yaaA    0\n",
       "       ..\n",
       "yneP    0\n",
       "ynfT    0\n",
       "yoaL    0\n",
       "yqhI    0\n",
       "yqiD    0\n",
       "Name: num_regulators, Length: 4257, dtype: int64"
      ]
     },
     "execution_count": 57,
     "metadata": {},
     "output_type": "execute_result"
    }
   ],
   "source": [
    "P1K_Regulon_Number['num_regulators']"
   ]
  },
  {
   "cell_type": "markdown",
   "id": "caaff3a5-ad29-4a14-ad96-f2658da7d827",
   "metadata": {},
   "source": [
    "## iM count"
   ]
  },
  {
   "cell_type": "code",
   "execution_count": 58,
   "id": "76872715-9f1b-4c66-88fb-a020a8fb7ee4",
   "metadata": {
    "execution": {
     "iopub.execute_input": "2024-08-20T06:13:26.689832Z",
     "iopub.status.busy": "2024-08-20T06:13:26.689610Z",
     "iopub.status.idle": "2024-08-20T06:13:26.693168Z",
     "shell.execute_reply": "2024-08-20T06:13:26.692788Z",
     "shell.execute_reply.started": "2024-08-20T06:13:26.689816Z"
    }
   },
   "outputs": [],
   "source": [
    "P1K_num_iM= pd.DataFrame( P1K_Gene_Presence_Matrix.sum(axis=1), columns=['num_iM'])"
   ]
  },
  {
   "cell_type": "code",
   "execution_count": 59,
   "id": "cd6f9493-e62c-47c2-baf1-26172f158d87",
   "metadata": {
    "execution": {
     "iopub.execute_input": "2024-08-20T06:13:26.694061Z",
     "iopub.status.busy": "2024-08-20T06:13:26.693827Z",
     "iopub.status.idle": "2024-08-20T06:13:26.705515Z",
     "shell.execute_reply": "2024-08-20T06:13:26.705126Z",
     "shell.execute_reply.started": "2024-08-20T06:13:26.694047Z"
    }
   },
   "outputs": [
    {
     "data": {
      "text/html": [
       "<div>\n",
       "<style scoped>\n",
       "    .dataframe tbody tr th:only-of-type {\n",
       "        vertical-align: middle;\n",
       "    }\n",
       "\n",
       "    .dataframe tbody tr th {\n",
       "        vertical-align: top;\n",
       "    }\n",
       "\n",
       "    .dataframe thead th {\n",
       "        text-align: right;\n",
       "    }\n",
       "</style>\n",
       "<table border=\"1\" class=\"dataframe\">\n",
       "  <thead>\n",
       "    <tr style=\"text-align: right;\">\n",
       "      <th></th>\n",
       "      <th>num_iM</th>\n",
       "    </tr>\n",
       "    <tr>\n",
       "      <th>Gene Name</th>\n",
       "      <th></th>\n",
       "    </tr>\n",
       "  </thead>\n",
       "  <tbody>\n",
       "    <tr>\n",
       "      <th>thrA</th>\n",
       "      <td>3</td>\n",
       "    </tr>\n",
       "    <tr>\n",
       "      <th>thrB</th>\n",
       "      <td>2</td>\n",
       "    </tr>\n",
       "    <tr>\n",
       "      <th>thrC</th>\n",
       "      <td>1</td>\n",
       "    </tr>\n",
       "    <tr>\n",
       "      <th>yaaX</th>\n",
       "      <td>3</td>\n",
       "    </tr>\n",
       "    <tr>\n",
       "      <th>yaaA</th>\n",
       "      <td>1</td>\n",
       "    </tr>\n",
       "    <tr>\n",
       "      <th>...</th>\n",
       "      <td>...</td>\n",
       "    </tr>\n",
       "    <tr>\n",
       "      <th>yneP</th>\n",
       "      <td>1</td>\n",
       "    </tr>\n",
       "    <tr>\n",
       "      <th>ynfT</th>\n",
       "      <td>2</td>\n",
       "    </tr>\n",
       "    <tr>\n",
       "      <th>yoaL</th>\n",
       "      <td>2</td>\n",
       "    </tr>\n",
       "    <tr>\n",
       "      <th>yqhI</th>\n",
       "      <td>2</td>\n",
       "    </tr>\n",
       "    <tr>\n",
       "      <th>yqiD</th>\n",
       "      <td>4</td>\n",
       "    </tr>\n",
       "  </tbody>\n",
       "</table>\n",
       "<p>4257 rows × 1 columns</p>\n",
       "</div>"
      ],
      "text/plain": [
       "           num_iM\n",
       "Gene Name        \n",
       "thrA            3\n",
       "thrB            2\n",
       "thrC            1\n",
       "yaaX            3\n",
       "yaaA            1\n",
       "...           ...\n",
       "yneP            1\n",
       "ynfT            2\n",
       "yoaL            2\n",
       "yqhI            2\n",
       "yqiD            4\n",
       "\n",
       "[4257 rows x 1 columns]"
      ]
     },
     "execution_count": 59,
     "metadata": {},
     "output_type": "execute_result"
    }
   ],
   "source": [
    "P1K_num_iM"
   ]
  },
  {
   "cell_type": "markdown",
   "id": "1f6e2a2e-3f3b-4115-a05b-fe817a7626d5",
   "metadata": {},
   "source": [
    "## P1K MAD"
   ]
  },
  {
   "cell_type": "code",
   "execution_count": 60,
   "id": "f8191e0b-2eb7-454b-a22f-8366b681250a",
   "metadata": {
    "execution": {
     "iopub.execute_input": "2024-08-20T06:13:26.706250Z",
     "iopub.status.busy": "2024-08-20T06:13:26.706126Z",
     "iopub.status.idle": "2024-08-20T06:13:26.709002Z",
     "shell.execute_reply": "2024-08-20T06:13:26.708625Z",
     "shell.execute_reply.started": "2024-08-20T06:13:26.706237Z"
    }
   },
   "outputs": [],
   "source": [
    "def calculate_mad(matrix: pd.DataFrame) -> pd.DataFrame:\n",
    "    \"\"\"\n",
    "    Calculate the Median Absolute Deviation (MAD) for each gene in the given matrix and return it as a DataFrame.\n",
    "    \n",
    "    Args:\n",
    "    - matrix (pd.DataFrame): A DataFrame where rows represent genes and columns represent samples.\n",
    "    \n",
    "    Returns:\n",
    "    - pd.DataFrame: A DataFrame with one column named 'mAD', containing the MAD for each gene.\n",
    "    \"\"\"\n",
    "    # Compute the median of each row (gene)\n",
    "    medians = matrix.median(axis=1)\n",
    "    \n",
    "    # Compute the absolute deviation from the median for each element in the matrix\n",
    "    deviations = matrix.sub(medians, axis=0).abs()\n",
    "    \n",
    "    # Compute the median of these deviations for each gene\n",
    "    mad = deviations.median(axis=1)\n",
    "    \n",
    "    # Create a DataFrame with the MAD values\n",
    "    mad_df = pd.DataFrame({'MAD': mad})\n",
    "    \n",
    "    return mad_df"
   ]
  },
  {
   "cell_type": "code",
   "execution_count": 61,
   "id": "23197361-3457-4c04-9b37-72fcada39fa7",
   "metadata": {
    "execution": {
     "iopub.execute_input": "2024-08-20T06:13:26.828252Z",
     "iopub.status.busy": "2024-08-20T06:13:26.827948Z",
     "iopub.status.idle": "2024-08-20T06:13:27.114831Z",
     "shell.execute_reply": "2024-08-20T06:13:27.114327Z",
     "shell.execute_reply.started": "2024-08-20T06:13:26.828223Z"
    }
   },
   "outputs": [],
   "source": [
    "P1K_MAD = calculate_mad(P1K_log_tpm)"
   ]
  },
  {
   "cell_type": "code",
   "execution_count": 62,
   "id": "54125640-0bf7-4f39-980b-1de981d2c33b",
   "metadata": {
    "execution": {
     "iopub.execute_input": "2024-08-20T06:13:27.115724Z",
     "iopub.status.busy": "2024-08-20T06:13:27.115585Z",
     "iopub.status.idle": "2024-08-20T06:13:27.120747Z",
     "shell.execute_reply": "2024-08-20T06:13:27.120375Z",
     "shell.execute_reply.started": "2024-08-20T06:13:27.115709Z"
    },
    "scrolled": true
   },
   "outputs": [
    {
     "data": {
      "text/html": [
       "<div>\n",
       "<style scoped>\n",
       "    .dataframe tbody tr th:only-of-type {\n",
       "        vertical-align: middle;\n",
       "    }\n",
       "\n",
       "    .dataframe tbody tr th {\n",
       "        vertical-align: top;\n",
       "    }\n",
       "\n",
       "    .dataframe thead th {\n",
       "        text-align: right;\n",
       "    }\n",
       "</style>\n",
       "<table border=\"1\" class=\"dataframe\">\n",
       "  <thead>\n",
       "    <tr style=\"text-align: right;\">\n",
       "      <th></th>\n",
       "      <th>MAD</th>\n",
       "    </tr>\n",
       "    <tr>\n",
       "      <th>Gene Name</th>\n",
       "      <th></th>\n",
       "    </tr>\n",
       "  </thead>\n",
       "  <tbody>\n",
       "    <tr>\n",
       "      <th>thrA</th>\n",
       "      <td>0.708056</td>\n",
       "    </tr>\n",
       "    <tr>\n",
       "      <th>thrB</th>\n",
       "      <td>0.698585</td>\n",
       "    </tr>\n",
       "    <tr>\n",
       "      <th>thrC</th>\n",
       "      <td>0.612527</td>\n",
       "    </tr>\n",
       "    <tr>\n",
       "      <th>yaaX</th>\n",
       "      <td>0.737335</td>\n",
       "    </tr>\n",
       "    <tr>\n",
       "      <th>yaaA</th>\n",
       "      <td>0.306569</td>\n",
       "    </tr>\n",
       "    <tr>\n",
       "      <th>...</th>\n",
       "      <td>...</td>\n",
       "    </tr>\n",
       "    <tr>\n",
       "      <th>yneP</th>\n",
       "      <td>1.059936</td>\n",
       "    </tr>\n",
       "    <tr>\n",
       "      <th>ynfT</th>\n",
       "      <td>1.776698</td>\n",
       "    </tr>\n",
       "    <tr>\n",
       "      <th>yoaL</th>\n",
       "      <td>0.540346</td>\n",
       "    </tr>\n",
       "    <tr>\n",
       "      <th>yqhI</th>\n",
       "      <td>1.195671</td>\n",
       "    </tr>\n",
       "    <tr>\n",
       "      <th>yqiD</th>\n",
       "      <td>1.062929</td>\n",
       "    </tr>\n",
       "  </tbody>\n",
       "</table>\n",
       "<p>4257 rows × 1 columns</p>\n",
       "</div>"
      ],
      "text/plain": [
       "                MAD\n",
       "Gene Name          \n",
       "thrA       0.708056\n",
       "thrB       0.698585\n",
       "thrC       0.612527\n",
       "yaaX       0.737335\n",
       "yaaA       0.306569\n",
       "...             ...\n",
       "yneP       1.059936\n",
       "ynfT       1.776698\n",
       "yoaL       0.540346\n",
       "yqhI       1.195671\n",
       "yqiD       1.062929\n",
       "\n",
       "[4257 rows x 1 columns]"
      ]
     },
     "execution_count": 62,
     "metadata": {},
     "output_type": "execute_result"
    }
   ],
   "source": [
    "P1K_MAD"
   ]
  },
  {
   "cell_type": "markdown",
   "id": "0b97e572-d111-40f3-89f0-b347a08d5387",
   "metadata": {},
   "source": [
    "## P1K Median Expression"
   ]
  },
  {
   "cell_type": "code",
   "execution_count": 63,
   "id": "5f5ee254-9dba-45c2-a056-2f3327078253",
   "metadata": {
    "execution": {
     "iopub.execute_input": "2024-08-20T06:13:27.161098Z",
     "iopub.status.busy": "2024-08-20T06:13:27.160796Z",
     "iopub.status.idle": "2024-08-20T06:13:27.163705Z",
     "shell.execute_reply": "2024-08-20T06:13:27.163333Z",
     "shell.execute_reply.started": "2024-08-20T06:13:27.161069Z"
    }
   },
   "outputs": [],
   "source": [
    "def calculate_median(matrix: pd.DataFrame) -> pd.DataFrame:\n",
    "    \"\"\"\n",
    "    Calculate the Median Absolute Deviation (MAD) for each gene in the given matrix and return it as a DataFrame.\n",
    "    \n",
    "    Args:\n",
    "    - matrix (pd.DataFrame): A DataFrame where rows represent genes and columns represent samples.\n",
    "    \n",
    "    Returns:\n",
    "    - pd.DataFrame: A DataFrame with one column named 'mAD', containing the MAD for each gene.\n",
    "    \"\"\"\n",
    "    # Compute the median of each row (gene)\n",
    "    medians = matrix.median(axis=1)\n",
    "    \n",
    "    # Create a DataFrame with the MAD values\n",
    "    mad_df = pd.DataFrame({'log_TPM_median': medians})\n",
    "    \n",
    "    return mad_df"
   ]
  },
  {
   "cell_type": "code",
   "execution_count": 64,
   "id": "d9ee7772-463a-46fc-8f1a-2fcab895378b",
   "metadata": {
    "execution": {
     "iopub.execute_input": "2024-08-20T06:13:27.246209Z",
     "iopub.status.busy": "2024-08-20T06:13:27.245894Z",
     "iopub.status.idle": "2024-08-20T06:13:27.379689Z",
     "shell.execute_reply": "2024-08-20T06:13:27.379212Z",
     "shell.execute_reply.started": "2024-08-20T06:13:27.246173Z"
    }
   },
   "outputs": [],
   "source": [
    "P1K_median = calculate_median(P1K_log_tpm)"
   ]
  },
  {
   "cell_type": "code",
   "execution_count": 65,
   "id": "2c584e38-09a9-4f54-b3ce-a55737c5c5b5",
   "metadata": {
    "execution": {
     "iopub.execute_input": "2024-08-20T06:13:27.466130Z",
     "iopub.status.busy": "2024-08-20T06:13:27.465986Z",
     "iopub.status.idle": "2024-08-20T06:13:27.471367Z",
     "shell.execute_reply": "2024-08-20T06:13:27.470996Z",
     "shell.execute_reply.started": "2024-08-20T06:13:27.466111Z"
    },
    "scrolled": true
   },
   "outputs": [
    {
     "data": {
      "text/html": [
       "<div>\n",
       "<style scoped>\n",
       "    .dataframe tbody tr th:only-of-type {\n",
       "        vertical-align: middle;\n",
       "    }\n",
       "\n",
       "    .dataframe tbody tr th {\n",
       "        vertical-align: top;\n",
       "    }\n",
       "\n",
       "    .dataframe thead th {\n",
       "        text-align: right;\n",
       "    }\n",
       "</style>\n",
       "<table border=\"1\" class=\"dataframe\">\n",
       "  <thead>\n",
       "    <tr style=\"text-align: right;\">\n",
       "      <th></th>\n",
       "      <th>log_TPM_median</th>\n",
       "    </tr>\n",
       "    <tr>\n",
       "      <th>Gene Name</th>\n",
       "      <th></th>\n",
       "    </tr>\n",
       "  </thead>\n",
       "  <tbody>\n",
       "    <tr>\n",
       "      <th>thrA</th>\n",
       "      <td>9.605329</td>\n",
       "    </tr>\n",
       "    <tr>\n",
       "      <th>thrB</th>\n",
       "      <td>9.225274</td>\n",
       "    </tr>\n",
       "    <tr>\n",
       "      <th>thrC</th>\n",
       "      <td>9.272277</td>\n",
       "    </tr>\n",
       "    <tr>\n",
       "      <th>yaaX</th>\n",
       "      <td>6.283661</td>\n",
       "    </tr>\n",
       "    <tr>\n",
       "      <th>yaaA</th>\n",
       "      <td>6.346626</td>\n",
       "    </tr>\n",
       "    <tr>\n",
       "      <th>...</th>\n",
       "      <td>...</td>\n",
       "    </tr>\n",
       "    <tr>\n",
       "      <th>yneP</th>\n",
       "      <td>1.140369</td>\n",
       "    </tr>\n",
       "    <tr>\n",
       "      <th>ynfT</th>\n",
       "      <td>2.466008</td>\n",
       "    </tr>\n",
       "    <tr>\n",
       "      <th>yoaL</th>\n",
       "      <td>5.048395</td>\n",
       "    </tr>\n",
       "    <tr>\n",
       "      <th>yqhI</th>\n",
       "      <td>1.195671</td>\n",
       "    </tr>\n",
       "    <tr>\n",
       "      <th>yqiD</th>\n",
       "      <td>5.070150</td>\n",
       "    </tr>\n",
       "  </tbody>\n",
       "</table>\n",
       "<p>4257 rows × 1 columns</p>\n",
       "</div>"
      ],
      "text/plain": [
       "           log_TPM_median\n",
       "Gene Name                \n",
       "thrA             9.605329\n",
       "thrB             9.225274\n",
       "thrC             9.272277\n",
       "yaaX             6.283661\n",
       "yaaA             6.346626\n",
       "...                   ...\n",
       "yneP             1.140369\n",
       "ynfT             2.466008\n",
       "yoaL             5.048395\n",
       "yqhI             1.195671\n",
       "yqiD             5.070150\n",
       "\n",
       "[4257 rows x 1 columns]"
      ]
     },
     "execution_count": 65,
     "metadata": {},
     "output_type": "execute_result"
    }
   ],
   "source": [
    "P1K_median"
   ]
  },
  {
   "cell_type": "markdown",
   "id": "2349cb86-d08e-4b96-b9d7-f1826d224882",
   "metadata": {},
   "source": [
    "## Range of log tpm"
   ]
  },
  {
   "cell_type": "code",
   "execution_count": 66,
   "id": "b5e71df7-0370-4ef8-a9c6-7748109e4502",
   "metadata": {
    "execution": {
     "iopub.execute_input": "2024-08-20T06:13:27.827400Z",
     "iopub.status.busy": "2024-08-20T06:13:27.827090Z",
     "iopub.status.idle": "2024-08-20T06:13:27.830500Z",
     "shell.execute_reply": "2024-08-20T06:13:27.829807Z",
     "shell.execute_reply.started": "2024-08-20T06:13:27.827371Z"
    }
   },
   "outputs": [],
   "source": [
    "def calculate_range_log_tpm(df):\n",
    "    # Calculate the range (max - min) for each row (gene)\n",
    "    df['range_log_tpm'] = df.max(axis=1) - df.min(axis=1)\n",
    "    \n",
    "    # Return a new DataFrame with only the 'range_log_tpm' column\n",
    "    result_df = df[['range_log_tpm']]\n",
    "    \n",
    "    return result_df"
   ]
  },
  {
   "cell_type": "code",
   "execution_count": 67,
   "id": "ad9e7a3b-1191-472f-a8b9-159e641d5bb1",
   "metadata": {
    "execution": {
     "iopub.execute_input": "2024-08-20T06:13:27.944415Z",
     "iopub.status.busy": "2024-08-20T06:13:27.944112Z",
     "iopub.status.idle": "2024-08-20T06:13:27.977701Z",
     "shell.execute_reply": "2024-08-20T06:13:27.976845Z",
     "shell.execute_reply.started": "2024-08-20T06:13:27.944386Z"
    }
   },
   "outputs": [],
   "source": [
    "P1K_range = calculate_range_log_tpm(P1K_log_tpm)"
   ]
  },
  {
   "cell_type": "code",
   "execution_count": 68,
   "id": "939ed82a-e257-4bf0-91cf-e7fff82e36f9",
   "metadata": {
    "execution": {
     "iopub.execute_input": "2024-08-20T06:13:28.107886Z",
     "iopub.status.busy": "2024-08-20T06:13:28.107577Z",
     "iopub.status.idle": "2024-08-20T06:13:28.117829Z",
     "shell.execute_reply": "2024-08-20T06:13:28.117135Z",
     "shell.execute_reply.started": "2024-08-20T06:13:28.107857Z"
    }
   },
   "outputs": [
    {
     "data": {
      "text/html": [
       "<div>\n",
       "<style scoped>\n",
       "    .dataframe tbody tr th:only-of-type {\n",
       "        vertical-align: middle;\n",
       "    }\n",
       "\n",
       "    .dataframe tbody tr th {\n",
       "        vertical-align: top;\n",
       "    }\n",
       "\n",
       "    .dataframe thead th {\n",
       "        text-align: right;\n",
       "    }\n",
       "</style>\n",
       "<table border=\"1\" class=\"dataframe\">\n",
       "  <thead>\n",
       "    <tr style=\"text-align: right;\">\n",
       "      <th></th>\n",
       "      <th>range_log_tpm</th>\n",
       "    </tr>\n",
       "    <tr>\n",
       "      <th>Gene Name</th>\n",
       "      <th></th>\n",
       "    </tr>\n",
       "  </thead>\n",
       "  <tbody>\n",
       "    <tr>\n",
       "      <th>thrA</th>\n",
       "      <td>11.771901</td>\n",
       "    </tr>\n",
       "    <tr>\n",
       "      <th>thrB</th>\n",
       "      <td>7.560994</td>\n",
       "    </tr>\n",
       "    <tr>\n",
       "      <th>thrC</th>\n",
       "      <td>7.647762</td>\n",
       "    </tr>\n",
       "    <tr>\n",
       "      <th>yaaX</th>\n",
       "      <td>11.817918</td>\n",
       "    </tr>\n",
       "    <tr>\n",
       "      <th>yaaA</th>\n",
       "      <td>8.667107</td>\n",
       "    </tr>\n",
       "    <tr>\n",
       "      <th>...</th>\n",
       "      <td>...</td>\n",
       "    </tr>\n",
       "    <tr>\n",
       "      <th>yneP</th>\n",
       "      <td>4.458041</td>\n",
       "    </tr>\n",
       "    <tr>\n",
       "      <th>ynfT</th>\n",
       "      <td>7.650393</td>\n",
       "    </tr>\n",
       "    <tr>\n",
       "      <th>yoaL</th>\n",
       "      <td>5.552991</td>\n",
       "    </tr>\n",
       "    <tr>\n",
       "      <th>yqhI</th>\n",
       "      <td>7.305199</td>\n",
       "    </tr>\n",
       "    <tr>\n",
       "      <th>yqiD</th>\n",
       "      <td>11.535971</td>\n",
       "    </tr>\n",
       "  </tbody>\n",
       "</table>\n",
       "<p>4257 rows × 1 columns</p>\n",
       "</div>"
      ],
      "text/plain": [
       "           range_log_tpm\n",
       "Gene Name               \n",
       "thrA           11.771901\n",
       "thrB            7.560994\n",
       "thrC            7.647762\n",
       "yaaX           11.817918\n",
       "yaaA            8.667107\n",
       "...                  ...\n",
       "yneP            4.458041\n",
       "ynfT            7.650393\n",
       "yoaL            5.552991\n",
       "yqhI            7.305199\n",
       "yqiD           11.535971\n",
       "\n",
       "[4257 rows x 1 columns]"
      ]
     },
     "execution_count": 68,
     "metadata": {},
     "output_type": "execute_result"
    }
   ],
   "source": [
    "P1K_range"
   ]
  },
  {
   "cell_type": "markdown",
   "id": "f72eed16-ea3a-4253-8b61-1f664bf33dbe",
   "metadata": {},
   "source": [
    "## Quantile Range of log tpm"
   ]
  },
  {
   "cell_type": "code",
   "execution_count": 69,
   "id": "ff51df0b-2653-40ba-a893-df699b0c32e7",
   "metadata": {
    "execution": {
     "iopub.execute_input": "2024-08-20T06:13:28.340831Z",
     "iopub.status.busy": "2024-08-20T06:13:28.340530Z",
     "iopub.status.idle": "2024-08-20T06:13:28.345763Z",
     "shell.execute_reply": "2024-08-20T06:13:28.344936Z",
     "shell.execute_reply.started": "2024-08-20T06:13:28.340803Z"
    }
   },
   "outputs": [],
   "source": [
    "def calculate_quantile_range(df):\n",
    "    # Calculate the 95th and 5th quantile for each row (gene)\n",
    "    q95 = df.quantile(0.95, axis=1)\n",
    "    q05 = df.quantile(0.05, axis=1)\n",
    "    \n",
    "    # Calculate the difference (95th quantile - 5th quantile)\n",
    "    df['quantile_range_log_tpm'] = q95 - q05\n",
    "    \n",
    "    # Return a new DataFrame with only the 'quantile_range' column\n",
    "    result_df = df[['quantile_range_log_tpm']]\n",
    "    \n",
    "    return result_df"
   ]
  },
  {
   "cell_type": "code",
   "execution_count": 70,
   "id": "7fe6e319-db4d-48c2-9cc3-092ab2de0fa4",
   "metadata": {
    "execution": {
     "iopub.execute_input": "2024-08-20T06:13:28.511403Z",
     "iopub.status.busy": "2024-08-20T06:13:28.511101Z",
     "iopub.status.idle": "2024-08-20T06:13:28.635831Z",
     "shell.execute_reply": "2024-08-20T06:13:28.635345Z",
     "shell.execute_reply.started": "2024-08-20T06:13:28.511375Z"
    }
   },
   "outputs": [],
   "source": [
    "P1K_quantile_range = calculate_quantile_range(P1K_log_tpm)"
   ]
  },
  {
   "cell_type": "code",
   "execution_count": 71,
   "id": "ed946403-a28a-4b62-b6a3-330296d16618",
   "metadata": {
    "execution": {
     "iopub.execute_input": "2024-08-20T06:13:28.658223Z",
     "iopub.status.busy": "2024-08-20T06:13:28.658040Z",
     "iopub.status.idle": "2024-08-20T06:13:28.662918Z",
     "shell.execute_reply": "2024-08-20T06:13:28.662570Z",
     "shell.execute_reply.started": "2024-08-20T06:13:28.658206Z"
    }
   },
   "outputs": [
    {
     "data": {
      "text/html": [
       "<div>\n",
       "<style scoped>\n",
       "    .dataframe tbody tr th:only-of-type {\n",
       "        vertical-align: middle;\n",
       "    }\n",
       "\n",
       "    .dataframe tbody tr th {\n",
       "        vertical-align: top;\n",
       "    }\n",
       "\n",
       "    .dataframe thead th {\n",
       "        text-align: right;\n",
       "    }\n",
       "</style>\n",
       "<table border=\"1\" class=\"dataframe\">\n",
       "  <thead>\n",
       "    <tr style=\"text-align: right;\">\n",
       "      <th></th>\n",
       "      <th>quantile_range_log_tpm</th>\n",
       "    </tr>\n",
       "    <tr>\n",
       "      <th>Gene Name</th>\n",
       "      <th></th>\n",
       "    </tr>\n",
       "  </thead>\n",
       "  <tbody>\n",
       "    <tr>\n",
       "      <th>thrA</th>\n",
       "      <td>4.398331</td>\n",
       "    </tr>\n",
       "    <tr>\n",
       "      <th>thrB</th>\n",
       "      <td>3.900854</td>\n",
       "    </tr>\n",
       "    <tr>\n",
       "      <th>thrC</th>\n",
       "      <td>3.681351</td>\n",
       "    </tr>\n",
       "    <tr>\n",
       "      <th>yaaX</th>\n",
       "      <td>4.395201</td>\n",
       "    </tr>\n",
       "    <tr>\n",
       "      <th>yaaA</th>\n",
       "      <td>1.920613</td>\n",
       "    </tr>\n",
       "    <tr>\n",
       "      <th>...</th>\n",
       "      <td>...</td>\n",
       "    </tr>\n",
       "    <tr>\n",
       "      <th>yneP</th>\n",
       "      <td>2.868327</td>\n",
       "    </tr>\n",
       "    <tr>\n",
       "      <th>ynfT</th>\n",
       "      <td>6.189466</td>\n",
       "    </tr>\n",
       "    <tr>\n",
       "      <th>yoaL</th>\n",
       "      <td>2.841891</td>\n",
       "    </tr>\n",
       "    <tr>\n",
       "      <th>yqhI</th>\n",
       "      <td>4.985373</td>\n",
       "    </tr>\n",
       "    <tr>\n",
       "      <th>yqiD</th>\n",
       "      <td>6.501506</td>\n",
       "    </tr>\n",
       "  </tbody>\n",
       "</table>\n",
       "<p>4257 rows × 1 columns</p>\n",
       "</div>"
      ],
      "text/plain": [
       "           quantile_range_log_tpm\n",
       "Gene Name                        \n",
       "thrA                     4.398331\n",
       "thrB                     3.900854\n",
       "thrC                     3.681351\n",
       "yaaX                     4.395201\n",
       "yaaA                     1.920613\n",
       "...                           ...\n",
       "yneP                     2.868327\n",
       "ynfT                     6.189466\n",
       "yoaL                     2.841891\n",
       "yqhI                     4.985373\n",
       "yqiD                     6.501506\n",
       "\n",
       "[4257 rows x 1 columns]"
      ]
     },
     "execution_count": 71,
     "metadata": {},
     "output_type": "execute_result"
    }
   ],
   "source": [
    "P1K_quantile_range"
   ]
  },
  {
   "cell_type": "markdown",
   "id": "fd53de30-eba4-4d8e-8f52-ceecbc18f62c",
   "metadata": {},
   "source": [
    "## Merge Dataframes"
   ]
  },
  {
   "cell_type": "code",
   "execution_count": 72,
   "id": "e092d789-dc8c-4db0-93c7-17edfed74f42",
   "metadata": {
    "execution": {
     "iopub.execute_input": "2024-08-20T06:13:28.975965Z",
     "iopub.status.busy": "2024-08-20T06:13:28.975839Z",
     "iopub.status.idle": "2024-08-20T06:13:28.980586Z",
     "shell.execute_reply": "2024-08-20T06:13:28.980235Z",
     "shell.execute_reply.started": "2024-08-20T06:13:28.975954Z"
    }
   },
   "outputs": [],
   "source": [
    "P1K_merged = pd.concat([total_exp_var, top_exp_var, P1K_Regulon_Number, P1K_num_iM, P1K_MAD, P1K_median, P1K_range, P1K_quantile_range], axis=1)"
   ]
  },
  {
   "cell_type": "code",
   "execution_count": 73,
   "id": "a556bc7a-93db-45df-a5e1-a6e199769695",
   "metadata": {
    "execution": {
     "iopub.execute_input": "2024-08-20T06:13:29.072384Z",
     "iopub.status.busy": "2024-08-20T06:13:29.071884Z",
     "iopub.status.idle": "2024-08-20T06:13:29.117922Z",
     "shell.execute_reply": "2024-08-20T06:13:29.117549Z",
     "shell.execute_reply.started": "2024-08-20T06:13:29.072354Z"
    }
   },
   "outputs": [],
   "source": [
    "P1K_merged.to_csv('../Data/P1K_merged.csv')"
   ]
  },
  {
   "cell_type": "code",
   "execution_count": 74,
   "id": "157c32c1-bbb7-4b60-a4f1-f685a57bde82",
   "metadata": {
    "execution": {
     "iopub.execute_input": "2024-08-20T06:13:29.457518Z",
     "iopub.status.busy": "2024-08-20T06:13:29.457214Z",
     "iopub.status.idle": "2024-08-20T06:13:29.477638Z",
     "shell.execute_reply": "2024-08-20T06:13:29.476948Z",
     "shell.execute_reply.started": "2024-08-20T06:13:29.457489Z"
    }
   },
   "outputs": [
    {
     "data": {
      "text/html": [
       "<div>\n",
       "<style scoped>\n",
       "    .dataframe tbody tr th:only-of-type {\n",
       "        vertical-align: middle;\n",
       "    }\n",
       "\n",
       "    .dataframe tbody tr th {\n",
       "        vertical-align: top;\n",
       "    }\n",
       "\n",
       "    .dataframe thead th {\n",
       "        text-align: right;\n",
       "    }\n",
       "</style>\n",
       "<table border=\"1\" class=\"dataframe\">\n",
       "  <thead>\n",
       "    <tr style=\"text-align: right;\">\n",
       "      <th></th>\n",
       "      <th>Total_Explained_Variance</th>\n",
       "      <th>Top_1_Explained_Variance</th>\n",
       "      <th>Top_1_iModulon</th>\n",
       "      <th>Top_2_Explained_Variance</th>\n",
       "      <th>Top_2_iModulon</th>\n",
       "      <th>Top_3_Explained_Variance</th>\n",
       "      <th>Top_3_iModulon</th>\n",
       "      <th>num_regulators</th>\n",
       "      <th>num_iM</th>\n",
       "      <th>MAD</th>\n",
       "      <th>log_TPM_median</th>\n",
       "      <th>range_log_tpm</th>\n",
       "      <th>quantile_range_log_tpm</th>\n",
       "    </tr>\n",
       "  </thead>\n",
       "  <tbody>\n",
       "    <tr>\n",
       "      <th>thrA</th>\n",
       "      <td>0.899430</td>\n",
       "      <td>0.686194</td>\n",
       "      <td>thrA KO</td>\n",
       "      <td>0.076638</td>\n",
       "      <td>Cysteine-1</td>\n",
       "      <td>0.075628</td>\n",
       "      <td>Thiamine-1</td>\n",
       "      <td>3</td>\n",
       "      <td>3</td>\n",
       "      <td>0.708056</td>\n",
       "      <td>9.605329</td>\n",
       "      <td>11.771901</td>\n",
       "      <td>4.398331</td>\n",
       "    </tr>\n",
       "    <tr>\n",
       "      <th>thrB</th>\n",
       "      <td>0.808533</td>\n",
       "      <td>0.254512</td>\n",
       "      <td>thrA KO</td>\n",
       "      <td>0.227884</td>\n",
       "      <td>Leu/Val/Ile</td>\n",
       "      <td>0.103394</td>\n",
       "      <td>Leucine</td>\n",
       "      <td>1</td>\n",
       "      <td>2</td>\n",
       "      <td>0.698585</td>\n",
       "      <td>9.225274</td>\n",
       "      <td>7.560994</td>\n",
       "      <td>3.900854</td>\n",
       "    </tr>\n",
       "    <tr>\n",
       "      <th>thrC</th>\n",
       "      <td>0.824916</td>\n",
       "      <td>0.246587</td>\n",
       "      <td>thrA KO</td>\n",
       "      <td>0.234486</td>\n",
       "      <td>Leu/Val/Ile</td>\n",
       "      <td>0.155906</td>\n",
       "      <td>Dipeptide</td>\n",
       "      <td>1</td>\n",
       "      <td>1</td>\n",
       "      <td>0.612527</td>\n",
       "      <td>9.272277</td>\n",
       "      <td>7.647762</td>\n",
       "      <td>3.681351</td>\n",
       "    </tr>\n",
       "    <tr>\n",
       "      <th>yaaX</th>\n",
       "      <td>0.689923</td>\n",
       "      <td>0.171007</td>\n",
       "      <td>Leu/Val/Ile</td>\n",
       "      <td>0.169602</td>\n",
       "      <td>Nucleotide Stress</td>\n",
       "      <td>0.095365</td>\n",
       "      <td>Glycolate</td>\n",
       "      <td>0</td>\n",
       "      <td>3</td>\n",
       "      <td>0.737335</td>\n",
       "      <td>6.283661</td>\n",
       "      <td>11.817918</td>\n",
       "      <td>4.395201</td>\n",
       "    </tr>\n",
       "    <tr>\n",
       "      <th>yaaA</th>\n",
       "      <td>0.638300</td>\n",
       "      <td>0.428612</td>\n",
       "      <td>OxyR</td>\n",
       "      <td>0.171808</td>\n",
       "      <td>Cold Shock</td>\n",
       "      <td>0.129606</td>\n",
       "      <td>UC-8</td>\n",
       "      <td>0</td>\n",
       "      <td>1</td>\n",
       "      <td>0.306569</td>\n",
       "      <td>6.346626</td>\n",
       "      <td>8.667107</td>\n",
       "      <td>1.920613</td>\n",
       "    </tr>\n",
       "    <tr>\n",
       "      <th>...</th>\n",
       "      <td>...</td>\n",
       "      <td>...</td>\n",
       "      <td>...</td>\n",
       "      <td>...</td>\n",
       "      <td>...</td>\n",
       "      <td>...</td>\n",
       "      <td>...</td>\n",
       "      <td>...</td>\n",
       "      <td>...</td>\n",
       "      <td>...</td>\n",
       "      <td>...</td>\n",
       "      <td>...</td>\n",
       "      <td>...</td>\n",
       "    </tr>\n",
       "    <tr>\n",
       "      <th>yneP</th>\n",
       "      <td>0.748917</td>\n",
       "      <td>0.629455</td>\n",
       "      <td>yneP</td>\n",
       "      <td>0.075002</td>\n",
       "      <td>GadXW</td>\n",
       "      <td>0.047460</td>\n",
       "      <td>Resistance</td>\n",
       "      <td>0</td>\n",
       "      <td>1</td>\n",
       "      <td>1.059936</td>\n",
       "      <td>1.140369</td>\n",
       "      <td>4.458041</td>\n",
       "      <td>2.868327</td>\n",
       "    </tr>\n",
       "    <tr>\n",
       "      <th>ynfT</th>\n",
       "      <td>0.467147</td>\n",
       "      <td>0.424437</td>\n",
       "      <td>Cold Shock</td>\n",
       "      <td>0.045140</td>\n",
       "      <td>NRZ</td>\n",
       "      <td>0.033476</td>\n",
       "      <td>LPS</td>\n",
       "      <td>0</td>\n",
       "      <td>2</td>\n",
       "      <td>1.776698</td>\n",
       "      <td>2.466008</td>\n",
       "      <td>7.650393</td>\n",
       "      <td>6.189466</td>\n",
       "    </tr>\n",
       "    <tr>\n",
       "      <th>yoaL</th>\n",
       "      <td>0.333663</td>\n",
       "      <td>0.102746</td>\n",
       "      <td>CpxR</td>\n",
       "      <td>0.066571</td>\n",
       "      <td>Cellulose</td>\n",
       "      <td>0.044315</td>\n",
       "      <td>ppGpp</td>\n",
       "      <td>0</td>\n",
       "      <td>2</td>\n",
       "      <td>0.540346</td>\n",
       "      <td>5.048395</td>\n",
       "      <td>5.552991</td>\n",
       "      <td>2.841891</td>\n",
       "    </tr>\n",
       "    <tr>\n",
       "      <th>yqhI</th>\n",
       "      <td>0.894360</td>\n",
       "      <td>0.738529</td>\n",
       "      <td>yqhI</td>\n",
       "      <td>0.091457</td>\n",
       "      <td>UC-8</td>\n",
       "      <td>0.084815</td>\n",
       "      <td>Resistance</td>\n",
       "      <td>0</td>\n",
       "      <td>2</td>\n",
       "      <td>1.195671</td>\n",
       "      <td>1.195671</td>\n",
       "      <td>7.305199</td>\n",
       "      <td>4.985373</td>\n",
       "    </tr>\n",
       "    <tr>\n",
       "      <th>yqiD</th>\n",
       "      <td>0.896335</td>\n",
       "      <td>0.554369</td>\n",
       "      <td>Fnr-2</td>\n",
       "      <td>0.396718</td>\n",
       "      <td>Fnr-3</td>\n",
       "      <td>0.087869</td>\n",
       "      <td>ArcA</td>\n",
       "      <td>0</td>\n",
       "      <td>4</td>\n",
       "      <td>1.062929</td>\n",
       "      <td>5.070150</td>\n",
       "      <td>11.535971</td>\n",
       "      <td>6.501506</td>\n",
       "    </tr>\n",
       "  </tbody>\n",
       "</table>\n",
       "<p>4257 rows × 13 columns</p>\n",
       "</div>"
      ],
      "text/plain": [
       "      Total_Explained_Variance  Top_1_Explained_Variance Top_1_iModulon  \\\n",
       "thrA                  0.899430                  0.686194        thrA KO   \n",
       "thrB                  0.808533                  0.254512        thrA KO   \n",
       "thrC                  0.824916                  0.246587        thrA KO   \n",
       "yaaX                  0.689923                  0.171007    Leu/Val/Ile   \n",
       "yaaA                  0.638300                  0.428612           OxyR   \n",
       "...                        ...                       ...            ...   \n",
       "yneP                  0.748917                  0.629455           yneP   \n",
       "ynfT                  0.467147                  0.424437     Cold Shock   \n",
       "yoaL                  0.333663                  0.102746           CpxR   \n",
       "yqhI                  0.894360                  0.738529           yqhI   \n",
       "yqiD                  0.896335                  0.554369          Fnr-2   \n",
       "\n",
       "      Top_2_Explained_Variance     Top_2_iModulon  Top_3_Explained_Variance  \\\n",
       "thrA                  0.076638         Cysteine-1                  0.075628   \n",
       "thrB                  0.227884        Leu/Val/Ile                  0.103394   \n",
       "thrC                  0.234486        Leu/Val/Ile                  0.155906   \n",
       "yaaX                  0.169602  Nucleotide Stress                  0.095365   \n",
       "yaaA                  0.171808         Cold Shock                  0.129606   \n",
       "...                        ...                ...                       ...   \n",
       "yneP                  0.075002              GadXW                  0.047460   \n",
       "ynfT                  0.045140                NRZ                  0.033476   \n",
       "yoaL                  0.066571          Cellulose                  0.044315   \n",
       "yqhI                  0.091457               UC-8                  0.084815   \n",
       "yqiD                  0.396718              Fnr-3                  0.087869   \n",
       "\n",
       "     Top_3_iModulon  num_regulators  num_iM       MAD  log_TPM_median  \\\n",
       "thrA     Thiamine-1               3       3  0.708056        9.605329   \n",
       "thrB        Leucine               1       2  0.698585        9.225274   \n",
       "thrC      Dipeptide               1       1  0.612527        9.272277   \n",
       "yaaX      Glycolate               0       3  0.737335        6.283661   \n",
       "yaaA           UC-8               0       1  0.306569        6.346626   \n",
       "...             ...             ...     ...       ...             ...   \n",
       "yneP     Resistance               0       1  1.059936        1.140369   \n",
       "ynfT            LPS               0       2  1.776698        2.466008   \n",
       "yoaL          ppGpp               0       2  0.540346        5.048395   \n",
       "yqhI     Resistance               0       2  1.195671        1.195671   \n",
       "yqiD           ArcA               0       4  1.062929        5.070150   \n",
       "\n",
       "      range_log_tpm  quantile_range_log_tpm  \n",
       "thrA      11.771901                4.398331  \n",
       "thrB       7.560994                3.900854  \n",
       "thrC       7.647762                3.681351  \n",
       "yaaX      11.817918                4.395201  \n",
       "yaaA       8.667107                1.920613  \n",
       "...             ...                     ...  \n",
       "yneP       4.458041                2.868327  \n",
       "ynfT       7.650393                6.189466  \n",
       "yoaL       5.552991                2.841891  \n",
       "yqhI       7.305199                4.985373  \n",
       "yqiD      11.535971                6.501506  \n",
       "\n",
       "[4257 rows x 13 columns]"
      ]
     },
     "execution_count": 74,
     "metadata": {},
     "output_type": "execute_result"
    }
   ],
   "source": [
    "P1K_merged"
   ]
  },
  {
   "cell_type": "code",
   "execution_count": null,
   "id": "0b7b52d9-7921-46dc-942f-c09ded677de3",
   "metadata": {},
   "outputs": [],
   "source": []
  },
  {
   "cell_type": "code",
   "execution_count": null,
   "id": "3bed962e-2622-487c-8d05-5e322852548e",
   "metadata": {},
   "outputs": [],
   "source": []
  },
  {
   "cell_type": "code",
   "execution_count": null,
   "id": "e0cdcb2d-667e-47b7-999e-f6de50cf1909",
   "metadata": {},
   "outputs": [],
   "source": []
  }
 ],
 "metadata": {
  "kernelspec": {
   "display_name": "Python [conda env:modulome]",
   "language": "python",
   "name": "conda-env-modulome-py"
  },
  "language_info": {
   "codemirror_mode": {
    "name": "ipython",
    "version": 3
   },
   "file_extension": ".py",
   "mimetype": "text/x-python",
   "name": "python",
   "nbconvert_exporter": "python",
   "pygments_lexer": "ipython3",
   "version": "3.7.12"
  }
 },
 "nbformat": 4,
 "nbformat_minor": 5
}
