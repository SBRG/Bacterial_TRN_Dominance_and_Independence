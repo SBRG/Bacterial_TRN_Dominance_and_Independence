{
 "cells": [
  {
   "cell_type": "markdown",
   "id": "685c11d7-8ede-48ab-b1ae-5ce68f2bb2ec",
   "metadata": {},
   "source": [
    "# Figure_4_ArgR"
   ]
  },
  {
   "cell_type": "markdown",
   "id": "e0bc4173",
   "metadata": {},
   "source": [
    "## Package, data, and function import"
   ]
  },
  {
   "cell_type": "code",
   "execution_count": 3,
   "id": "4c210f7d-af71-4585-8e62-7391853f0e05",
   "metadata": {
    "execution": {
     "iopub.execute_input": "2024-10-04T15:54:04.987487Z",
     "iopub.status.busy": "2024-10-04T15:54:04.987187Z",
     "iopub.status.idle": "2024-10-04T15:54:05.830029Z",
     "shell.execute_reply": "2024-10-04T15:54:05.829235Z",
     "shell.execute_reply.started": "2024-10-04T15:54:04.987457Z"
    }
   },
   "outputs": [],
   "source": [
    "from pathlib import Path\n",
    "import sys\n",
    "import os.path\n",
    "\n",
    "import matplotlib.pyplot as plt\n",
    "from matplotlib.patches import Rectangle\n",
    "from matplotlib.lines import Line2D\n",
    "import matplotlib.font_manager as fm\n",
    "\n",
    "import numpy as np\n",
    "\n",
    "import pandas as pd\n",
    "pd.set_option('display.max_columns', 50)\n",
    "\n",
    "import json\n",
    "\n",
    "from scipy.stats import f_oneway, gaussian_kde, mannwhitneyu, pearsonr, spearmanr\n",
    "from scipy.cluster.hierarchy import linkage, leaves_list\n",
    "\n",
    "import seaborn as sns\n",
    "sns.set_style('whitegrid')\n",
    "\n",
    "from tqdm.notebook import tqdm\n",
    "from pymodulon.compare import compare_ica\n",
    "from pymodulon.core import IcaData\n",
    "from pymodulon.io import load_json_model, save_to_json\n",
    "from pymodulon.plotting import *\n",
    "from pymodulon.util import explained_variance\n",
    "from pymodulon.imodulondb import imdb_gene_presence\n",
    "\n",
    "import itertools\n",
    "\n",
    "sys.path.append('../bitome2/')\n",
    "sys.path.append('../')\n",
    "\n",
    "from bitome.core import Bitome\n",
    "from feature_functions import *"
   ]
  },
  {
   "cell_type": "markdown",
   "id": "a8e70876-c33e-49b9-9bcc-51bf078f8e24",
   "metadata": {},
   "source": [
    "### Load the data from ./Data/ folder"
   ]
  },
  {
   "cell_type": "code",
   "execution_count": 4,
   "id": "44e63c33-69b6-401d-b2d8-7c2f67e5b3f2",
   "metadata": {
    "execution": {
     "iopub.execute_input": "2024-10-04T15:54:05.831315Z",
     "iopub.status.busy": "2024-10-04T15:54:05.831024Z",
     "iopub.status.idle": "2024-10-04T15:54:15.937315Z",
     "shell.execute_reply": "2024-10-04T15:54:15.936469Z",
     "shell.execute_reply.started": "2024-10-04T15:54:05.831298Z"
    }
   },
   "outputs": [],
   "source": [
    "precise1k = load_json_model('../Data/p1k.json.gz')"
   ]
  },
  {
   "cell_type": "code",
   "execution_count": 5,
   "id": "23d1ccc2-2eaa-4c7d-8759-77cbfd26409f",
   "metadata": {
    "execution": {
     "iopub.execute_input": "2024-10-04T15:54:15.938560Z",
     "iopub.status.busy": "2024-10-04T15:54:15.938423Z",
     "iopub.status.idle": "2024-10-04T15:54:15.979892Z",
     "shell.execute_reply": "2024-10-04T15:54:15.979079Z",
     "shell.execute_reply.started": "2024-10-04T15:54:15.938546Z"
    }
   },
   "outputs": [],
   "source": [
    "P1K_Gene_Presence_Matrix = pd.read_csv(\"../Data/P1K_Gene_Presence_Matrix.csv\", index_col=0)"
   ]
  },
  {
   "cell_type": "code",
   "execution_count": 6,
   "id": "d24d9429-7a72-4728-b4ba-2d7cbd35b560",
   "metadata": {
    "execution": {
     "iopub.execute_input": "2024-10-04T15:54:15.980685Z",
     "iopub.status.busy": "2024-10-04T15:54:15.980548Z",
     "iopub.status.idle": "2024-10-04T15:54:16.008087Z",
     "shell.execute_reply": "2024-10-04T15:54:16.007348Z",
     "shell.execute_reply.started": "2024-10-04T15:54:15.980671Z"
    }
   },
   "outputs": [],
   "source": [
    "RegulonDB_TRN = pd.read_csv('../Data/RegulonDB_TRN_C_and_S.csv', index_col = 0)"
   ]
  },
  {
   "cell_type": "code",
   "execution_count": 7,
   "id": "e7bb9ec2-f92c-4fff-926a-10648bb0d59b",
   "metadata": {
    "execution": {
     "iopub.execute_input": "2024-10-04T16:20:20.478263Z",
     "iopub.status.busy": "2024-10-04T16:20:20.477882Z",
     "iopub.status.idle": "2024-10-04T16:20:20.493148Z",
     "shell.execute_reply": "2024-10-04T16:20:20.492245Z",
     "shell.execute_reply.started": "2024-10-04T16:20:20.478229Z"
    }
   },
   "outputs": [],
   "source": [
    "Regulon_DB_P1K = pd.read_csv('../Data/Regulon_DB_P1K.csv', index_col=0)"
   ]
  },
  {
   "cell_type": "code",
   "execution_count": 8,
   "id": "49e62195-5033-4030-8d67-09633a4e2cbe",
   "metadata": {
    "execution": {
     "iopub.execute_input": "2024-10-04T15:54:16.009383Z",
     "iopub.status.busy": "2024-10-04T15:54:16.009241Z",
     "iopub.status.idle": "2024-10-04T15:54:16.015328Z",
     "shell.execute_reply": "2024-10-04T15:54:16.014753Z",
     "shell.execute_reply.started": "2024-10-04T15:54:16.009368Z"
    }
   },
   "outputs": [],
   "source": [
    "biocyc_info = pd.read_csv('../Data/biocyc_info.txt', sep=\"\\t\")"
   ]
  },
  {
   "cell_type": "code",
   "execution_count": 9,
   "id": "170b2525-8af7-4f9e-b32b-f548581f0d2d",
   "metadata": {
    "execution": {
     "iopub.execute_input": "2024-10-04T16:04:36.449840Z",
     "iopub.status.busy": "2024-10-04T16:04:36.449505Z",
     "iopub.status.idle": "2024-10-04T16:04:36.457912Z",
     "shell.execute_reply": "2024-10-04T16:04:36.457108Z",
     "shell.execute_reply.started": "2024-10-04T16:04:36.449807Z"
    }
   },
   "outputs": [],
   "source": [
    "iM_table = pd.read_csv('../Data/iM_table.csv', index_col = 0)"
   ]
  },
  {
   "cell_type": "markdown",
   "id": "2838ac77-27d7-46c3-a04e-83d11e755696",
   "metadata": {},
   "source": [
    "### PRECISE-1K: X M A log_tpm gene_presence_matrix"
   ]
  },
  {
   "cell_type": "code",
   "execution_count": 10,
   "id": "c2e53b99-b922-4177-b110-3991f4bbf431",
   "metadata": {
    "execution": {
     "iopub.execute_input": "2024-10-04T15:54:16.016077Z",
     "iopub.status.busy": "2024-10-04T15:54:16.015940Z",
     "iopub.status.idle": "2024-10-04T15:54:16.018913Z",
     "shell.execute_reply": "2024-10-04T15:54:16.018232Z",
     "shell.execute_reply.started": "2024-10-04T15:54:16.016064Z"
    }
   },
   "outputs": [],
   "source": [
    "P1K_M = precise1k.M"
   ]
  },
  {
   "cell_type": "code",
   "execution_count": 11,
   "id": "cbdde432-55f2-4ea7-bacc-cf42f02aa210",
   "metadata": {
    "execution": {
     "iopub.execute_input": "2024-10-04T15:54:16.019644Z",
     "iopub.status.busy": "2024-10-04T15:54:16.019515Z",
     "iopub.status.idle": "2024-10-04T15:54:16.022319Z",
     "shell.execute_reply": "2024-10-04T15:54:16.021727Z",
     "shell.execute_reply.started": "2024-10-04T15:54:16.019631Z"
    }
   },
   "outputs": [],
   "source": [
    "P1K_A = precise1k.A"
   ]
  },
  {
   "cell_type": "code",
   "execution_count": 12,
   "id": "d53c929b-9347-4ba7-9a43-37ffba8074c7",
   "metadata": {
    "execution": {
     "iopub.execute_input": "2024-10-04T15:54:22.666224Z",
     "iopub.status.busy": "2024-10-04T15:54:22.666044Z",
     "iopub.status.idle": "2024-10-04T15:54:22.670064Z",
     "shell.execute_reply": "2024-10-04T15:54:22.669268Z",
     "shell.execute_reply.started": "2024-10-04T15:54:22.666210Z"
    }
   },
   "outputs": [],
   "source": [
    "P1K_X = precise1k.X"
   ]
  },
  {
   "cell_type": "code",
   "execution_count": 13,
   "id": "46d61dc0-28be-4482-b77b-7dd4b554f3f8",
   "metadata": {
    "execution": {
     "iopub.execute_input": "2024-10-04T15:54:22.836855Z",
     "iopub.status.busy": "2024-10-04T15:54:22.836562Z",
     "iopub.status.idle": "2024-10-04T15:54:22.840745Z",
     "shell.execute_reply": "2024-10-04T15:54:22.839942Z",
     "shell.execute_reply.started": "2024-10-04T15:54:22.836825Z"
    }
   },
   "outputs": [],
   "source": [
    "P1K_log_tpm = precise1k.log_tpm"
   ]
  },
  {
   "cell_type": "markdown",
   "id": "d512122f",
   "metadata": {},
   "source": [
    "### Other Functions"
   ]
  },
  {
   "cell_type": "code",
   "execution_count": 14,
   "id": "009af58f",
   "metadata": {
    "execution": {
     "iopub.execute_input": "2024-10-04T15:59:33.440657Z",
     "iopub.status.busy": "2024-10-04T15:59:33.440313Z",
     "iopub.status.idle": "2024-10-04T15:59:33.455413Z",
     "shell.execute_reply": "2024-10-04T15:59:33.454574Z",
     "shell.execute_reply.started": "2024-10-04T15:59:33.440625Z"
    }
   },
   "outputs": [],
   "source": [
    "def plot_regulon_corr_heatmap_with_clustering(regulator, regulon_df, expression_df, gene_list, matrix=True, figure_size=(5, 4)):\n",
    "    # Find the genes in the regulon by the given regulator\n",
    "    genes_in_regulon = regulon_df.index[regulon_df[regulator] == 1].tolist()\n",
    "    \n",
    "    # Union of genes_in_regulon and gene_list\n",
    "    union_genes = list(set(genes_in_regulon).union(set(gene_list)))\n",
    "    \n",
    "    # Subset the expression DataFrame for these genes\n",
    "    expression_subset = expression_df.loc[union_genes]\n",
    "    \n",
    "    # Create a correlation matrix of expression for these genes\n",
    "    correlation_matrix = expression_subset.transpose().corr()\n",
    "    \n",
    "    # Calculate the average of correlation values\n",
    "    avg_corr_value = correlation_matrix.values[np.triu_indices_from(correlation_matrix, k=1)].mean()\n",
    "\n",
    "    # Perform hierarchical clustering on the rows\n",
    "    linkage_matrix = linkage(correlation_matrix, method='average')\n",
    "    dendrogram_order = leaves_list(linkage_matrix)\n",
    "    clustered_corr_matrix = correlation_matrix.iloc[dendrogram_order, dendrogram_order]\n",
    "\n",
    "    # Get the ordered list of genes after clustering\n",
    "    clustered_genes = clustered_corr_matrix.index\n",
    "\n",
    "    # Plot the correlation matrix as a heatmap with clustering\n",
    "    plt.figure(figsize=figure_size)\n",
    "    sns.heatmap(clustered_corr_matrix, annot=False, cmap='coolwarm', center=0)\n",
    "    plt.title(f'Corr Heatmap for {regulator} Regulon - Avg Corr: {avg_corr_value:.3f}')\n",
    "    \n",
    "    # Add category boxes at the diagonal\n",
    "    def add_category_box(start_idx, end_idx, color):\n",
    "        width = end_idx - start_idx + 1\n",
    "        rect = Rectangle((start_idx, start_idx), width, width, fill=False, edgecolor=color, linewidth=2)\n",
    "        ax.add_patch(rect)\n",
    "\n",
    "    ax = plt.gca()\n",
    "    current_category = None\n",
    "    start_idx = 0\n",
    "\n",
    "    for idx, gene in enumerate(clustered_genes):\n",
    "        if gene in genes_in_regulon and gene in gene_list:\n",
    "            category = 'Overlap'\n",
    "            color = 'lightgreen'\n",
    "        elif gene in genes_in_regulon:\n",
    "            category = 'Regulons'\n",
    "            color = 'black'\n",
    "        elif gene in gene_list:\n",
    "            category = 'iModulons'\n",
    "            color = 'yellow'\n",
    "        else:\n",
    "            category = None\n",
    "            color = 'black'\n",
    "\n",
    "        if category != current_category:\n",
    "            if current_category is not None:\n",
    "                add_category_box(start_idx, idx - 1, current_category_color)\n",
    "            current_category = category\n",
    "            current_category_color = color\n",
    "            start_idx = idx\n",
    "\n",
    "    if current_category is not None:\n",
    "        add_category_box(start_idx, len(clustered_genes) - 1, current_category_color)\n",
    "\n",
    "    # Create custom legend\n",
    "    legend_elements = [\n",
    "        Line2D([0], [0], color='black', lw=2, label='Regulons'),\n",
    "        Line2D([0], [0], color='yellow', lw=2, label='iModulons'),\n",
    "        Line2D([0], [0], color='lightgreen', lw=2, label='Overlap of iModulons and Regulons')\n",
    "    ]\n",
    "    plt.legend(handles=legend_elements, loc='upper right')\n",
    "\n",
    "    plt.show()\n",
    "    \n",
    "    if not matrix:\n",
    "        clustered_corr_matrix = None\n",
    "\n",
    "    return clustered_corr_matrix"
   ]
  },
  {
   "cell_type": "code",
   "execution_count": 15,
   "id": "07a740e8",
   "metadata": {
    "execution": {
     "iopub.execute_input": "2024-10-04T15:59:33.796044Z",
     "iopub.status.busy": "2024-10-04T15:59:33.795749Z",
     "iopub.status.idle": "2024-10-04T15:59:33.814559Z",
     "shell.execute_reply": "2024-10-04T15:59:33.813650Z",
     "shell.execute_reply.started": "2024-10-04T15:59:33.796013Z"
    }
   },
   "outputs": [
    {
     "data": {
      "text/plain": [
       "'def plot_regulon_corr_heatmap_with_clustering(regulator, regulon_df, expression_df, gene_list, matrix=True, figure_size=(5, 4), save_path=None):\\n    # Define custom font properties\\n    font_path = \\'/usr/share/fonts/truetype/msttcorefonts/Times_New_Roman.ttf\\'\\n    font_prop = fm.FontProperties(fname=font_path)\\n\\n    # Find the genes in the regulon by the given regulator\\n    genes_in_regulon = regulon_df.index[regulon_df[regulator] == 1].tolist()\\n    \\n    # Union of genes_in_regulon and gene_list\\n    union_genes = list(set(genes_in_regulon).union(set(gene_list)))\\n    \\n    # Subset the expression DataFrame for these genes\\n    expression_subset = expression_df.loc[union_genes]\\n    \\n    # Create a correlation matrix of expression for these genes\\n    correlation_matrix = expression_subset.transpose().corr()\\n    \\n    # Calculate the average of correlation values\\n    avg_corr_value = correlation_matrix.values[np.triu_indices_from(correlation_matrix, k=1)].mean()\\n\\n    # Perform hierarchical clustering on the rows\\n    linkage_matrix = linkage(correlation_matrix, method=\\'average\\')\\n    dendrogram_order = leaves_list(linkage_matrix)\\n    clustered_corr_matrix = correlation_matrix.iloc[dendrogram_order, dendrogram_order]\\n\\n    # Get the ordered list of genes after clustering\\n    clustered_genes = clustered_corr_matrix.index\\n\\n    # Plot the correlation matrix as a heatmap with clustering\\n    plt.figure(figsize=figure_size)\\n    sns.heatmap(clustered_corr_matrix, annot=False, cmap=\\'coolwarm\\', center=0, cbar=False)\\n\\n    # Remove all ticks (both x and y)\\n    ax = plt.gca()\\n    ax.set_xticks([])\\n    ax.set_yticks([])\\n\\n    # Set title with custom font\\n    # plt.title(f\\'Corr Heatmap for {regulator} Regulon - Avg Corr: {avg_corr_value:.3f}\\', fontproperties=font_prop)\\n\\n    # Set x and y labels with custom font\\n    ax.set_xlabel(\"Gene Name\", fontproperties=font_prop)\\n    ax.set_ylabel(\"Gene Name\", fontproperties=font_prop)'"
      ]
     },
     "execution_count": 15,
     "metadata": {},
     "output_type": "execute_result"
    }
   ],
   "source": [
    "'''def plot_regulon_corr_heatmap_with_clustering(regulator, regulon_df, expression_df, gene_list, matrix=True, figure_size=(5, 4), save_path=None):\n",
    "    # Define custom font properties\n",
    "    font_path = '/usr/share/fonts/truetype/msttcorefonts/Times_New_Roman.ttf'\n",
    "    font_prop = fm.FontProperties(fname=font_path)\n",
    "\n",
    "    # Find the genes in the regulon by the given regulator\n",
    "    genes_in_regulon = regulon_df.index[regulon_df[regulator] == 1].tolist()\n",
    "    \n",
    "    # Union of genes_in_regulon and gene_list\n",
    "    union_genes = list(set(genes_in_regulon).union(set(gene_list)))\n",
    "    \n",
    "    # Subset the expression DataFrame for these genes\n",
    "    expression_subset = expression_df.loc[union_genes]\n",
    "    \n",
    "    # Create a correlation matrix of expression for these genes\n",
    "    correlation_matrix = expression_subset.transpose().corr()\n",
    "    \n",
    "    # Calculate the average of correlation values\n",
    "    avg_corr_value = correlation_matrix.values[np.triu_indices_from(correlation_matrix, k=1)].mean()\n",
    "\n",
    "    # Perform hierarchical clustering on the rows\n",
    "    linkage_matrix = linkage(correlation_matrix, method='average')\n",
    "    dendrogram_order = leaves_list(linkage_matrix)\n",
    "    clustered_corr_matrix = correlation_matrix.iloc[dendrogram_order, dendrogram_order]\n",
    "\n",
    "    # Get the ordered list of genes after clustering\n",
    "    clustered_genes = clustered_corr_matrix.index\n",
    "\n",
    "    # Plot the correlation matrix as a heatmap with clustering\n",
    "    plt.figure(figsize=figure_size)\n",
    "    sns.heatmap(clustered_corr_matrix, annot=False, cmap='coolwarm', center=0, cbar=False)\n",
    "\n",
    "    # Remove all ticks (both x and y)\n",
    "    ax = plt.gca()\n",
    "    ax.set_xticks([])\n",
    "    ax.set_yticks([])\n",
    "\n",
    "    # Set title with custom font\n",
    "    # plt.title(f'Corr Heatmap for {regulator} Regulon - Avg Corr: {avg_corr_value:.3f}', fontproperties=font_prop)\n",
    "\n",
    "    # Set x and y labels with custom font\n",
    "    ax.set_xlabel(\"Gene Name\", fontproperties=font_prop)\n",
    "    ax.set_ylabel(\"Gene Name\", fontproperties=font_prop)'''"
   ]
  },
  {
   "cell_type": "code",
   "execution_count": 16,
   "id": "46ae11ee",
   "metadata": {
    "execution": {
     "iopub.execute_input": "2024-10-04T15:59:33.796044Z",
     "iopub.status.busy": "2024-10-04T15:59:33.795749Z",
     "iopub.status.idle": "2024-10-04T15:59:33.814559Z",
     "shell.execute_reply": "2024-10-04T15:59:33.813650Z",
     "shell.execute_reply.started": "2024-10-04T15:59:33.796013Z"
    }
   },
   "outputs": [],
   "source": [
    "# Add category boxes at the diagonal\n",
    "def add_category_box(start_idx, end_idx, color):\n",
    "    width = end_idx - start_idx + 1\n",
    "    rect = Rectangle((start_idx, start_idx), width, width, fill=False, edgecolor=color, linewidth=2)\n",
    "    ax.add_patch(rect)\n",
    "\n",
    "    current_category = None\n",
    "    start_idx = 0\n",
    "    category_genes = []\n",
    "\n",
    "    for idx, gene in enumerate(clustered_genes):\n",
    "        if gene in genes_in_regulon and gene in gene_list:\n",
    "            category = 'Overlap'\n",
    "            color = 'lightgreen'\n",
    "        elif gene in genes_in_regulon:\n",
    "            category = 'Regulons'\n",
    "            color = 'black'\n",
    "        elif gene in gene_list:\n",
    "            category = 'iModulons'\n",
    "            color = 'yellow'\n",
    "        else:\n",
    "            category = None\n",
    "            color = 'black'\n",
    "\n",
    "        if category != current_category:\n",
    "            if current_category is not None:\n",
    "                add_category_box(start_idx, idx - 1, current_category_color)\n",
    "                # Print genes in the current category\n",
    "                print(f\"{current_category} genes from index {start_idx} to {idx - 1}:\")\n",
    "                print(category_genes)\n",
    "                category_genes = []\n",
    "            current_category = category\n",
    "            current_category_color = color\n",
    "            start_idx = idx\n",
    "\n",
    "        category_genes.append(gene)\n",
    "\n",
    "    if current_category is not None:\n",
    "        add_category_box(start_idx, len(clustered_genes) - 1, current_category_color)\n",
    "        # Print genes in the final category\n",
    "        print(f\"{current_category} genes from index {start_idx} to {len(clustered_genes) - 1}:\")\n",
    "        print(category_genes)\n",
    "\n",
    "    # Create custom legend with custom font\n",
    "    legend_elements = [\n",
    "        Line2D([0], [0], color='black', lw=2, label='Regulons'),\n",
    "        Line2D([0], [0], color='yellow', lw=2, label='iModulons'),\n",
    "        Line2D([0], [0], color='lightgreen', lw=2, label='Overlap of iModulons and Regulons')\n",
    "    ]\n",
    "    plt.legend(handles=legend_elements, loc='upper right', prop=font_prop)\n",
    "\n",
    "    # Save the plot as an SVG file if save_path is provided\n",
    "    if save_path:\n",
    "        plt.savefig(save_path, format='svg', bbox_inches='tight')\n",
    "\n",
    "    # Show the plot\n",
    "    plt.show()\n",
    "\n",
    "    if not matrix:\n",
    "        clustered_corr_matrix = None\n",
    "\n",
    "    return clustered_corr_matrix"
   ]
  },
  {
   "cell_type": "code",
   "execution_count": 17,
   "id": "e4bd9476",
   "metadata": {
    "execution": {
     "iopub.execute_input": "2024-10-04T15:59:13.565992Z",
     "iopub.status.busy": "2024-10-04T15:59:13.565792Z",
     "iopub.status.idle": "2024-10-04T15:59:13.570584Z",
     "shell.execute_reply": "2024-10-04T15:59:13.569725Z",
     "shell.execute_reply.started": "2024-10-04T15:59:13.565977Z"
    }
   },
   "outputs": [],
   "source": [
    "def map_accession_to_gene_name(df, biocyc_info):\n",
    "\n",
    "    # Reset index if 'Accession-1' is the index, and rename the column\n",
    "    if df.index.name == 'Accession' or df.index.name is None:\n",
    "        df = df.reset_index()\n",
    "        df.rename(columns={'index': 'Accession'}, inplace=True)\n",
    "        \n",
    "    # Merge with biocyc_info to map 'Accession-1' to 'Gene Name'\n",
    "    merged_df = df.merge(biocyc_info[['Accession', 'Gene Name']], on='Accession', how='left')\n",
    "\n",
    "    # Set 'Gene Name' as the new index and drop the 'Accession-1' column\n",
    "    merged_df.set_index('Gene Name', inplace=True)\n",
    "    merged_df.drop(columns=['Accession'], inplace=True)\n",
    "\n",
    "    # Remove rows with NaN as index\n",
    "    merged_df = merged_df[merged_df.index.notna()]\n",
    "    \n",
    "    return merged_df"
   ]
  },
  {
   "cell_type": "code",
   "execution_count": 18,
   "id": "9cef3077",
   "metadata": {
    "execution": {
     "iopub.execute_input": "2024-10-04T15:59:14.029451Z",
     "iopub.status.busy": "2024-10-04T15:59:14.029150Z",
     "iopub.status.idle": "2024-10-04T15:59:14.034470Z",
     "shell.execute_reply": "2024-10-04T15:59:14.033606Z",
     "shell.execute_reply.started": "2024-10-04T15:59:14.029420Z"
    }
   },
   "outputs": [],
   "source": [
    "def get_genes_for_iM(df, regulator):\n",
    "\n",
    "    if regulator not in df.columns:\n",
    "        raise ValueError(f\"Regulator '{regulator}' not found in DataFrame columns.\")\n",
    "    \n",
    "    # Get the list of genes where the value in the specified column is 1\n",
    "    genes_in_regulon = df.index[df[regulator] == 1].tolist()\n",
    "    \n",
    "    return genes_in_regulon"
   ]
  },
  {
   "cell_type": "markdown",
   "id": "4a8d23d6",
   "metadata": {},
   "source": [
    "## Overview of ArgR"
   ]
  },
  {
   "cell_type": "markdown",
   "id": "6a8e63ba",
   "metadata": {},
   "source": [
    "### The ArgR Regulon from RegulonDB"
   ]
  },
  {
   "cell_type": "code",
   "execution_count": 19,
   "id": "6432595c",
   "metadata": {},
   "outputs": [
    {
     "data": {
      "text/html": [
       "<div>\n",
       "<style scoped>\n",
       "    .dataframe tbody tr th:only-of-type {\n",
       "        vertical-align: middle;\n",
       "    }\n",
       "\n",
       "    .dataframe tbody tr th {\n",
       "        vertical-align: top;\n",
       "    }\n",
       "\n",
       "    .dataframe thead th {\n",
       "        text-align: right;\n",
       "    }\n",
       "</style>\n",
       "<table border=\"1\" class=\"dataframe\">\n",
       "  <thead>\n",
       "    <tr style=\"text-align: right;\">\n",
       "      <th></th>\n",
       "      <th>FecI</th>\n",
       "      <th>FliA</th>\n",
       "      <th>RpoD</th>\n",
       "      <th>RpoE</th>\n",
       "      <th>RpoH</th>\n",
       "      <th>RpoN</th>\n",
       "      <th>RpoS</th>\n",
       "      <th>AcrR</th>\n",
       "      <th>Ada</th>\n",
       "      <th>AdiY</th>\n",
       "      <th>AgaR</th>\n",
       "      <th>AidB</th>\n",
       "      <th>AlaS</th>\n",
       "      <th>AllR</th>\n",
       "      <th>AraC</th>\n",
       "      <th>ArcA</th>\n",
       "      <th>ArcZ</th>\n",
       "      <th>ArgP</th>\n",
       "      <th>ArgR</th>\n",
       "      <th>ArrS</th>\n",
       "      <th>ArsR</th>\n",
       "      <th>AscG</th>\n",
       "      <th>AtoC</th>\n",
       "      <th>BaeR</th>\n",
       "      <th>BasR</th>\n",
       "      <th>...</th>\n",
       "      <th>TreR</th>\n",
       "      <th>TrpR</th>\n",
       "      <th>TyrR</th>\n",
       "      <th>UhpA</th>\n",
       "      <th>UhpU</th>\n",
       "      <th>UlaR</th>\n",
       "      <th>UvrY</th>\n",
       "      <th>UxuR</th>\n",
       "      <th>XylR</th>\n",
       "      <th>XynR</th>\n",
       "      <th>YciT</th>\n",
       "      <th>YcjW</th>\n",
       "      <th>YdeO</th>\n",
       "      <th>YdfH</th>\n",
       "      <th>YebK</th>\n",
       "      <th>YefM</th>\n",
       "      <th>YefMB</th>\n",
       "      <th>YgiV</th>\n",
       "      <th>YhaJ</th>\n",
       "      <th>YiaU</th>\n",
       "      <th>YjjQ</th>\n",
       "      <th>YqhC</th>\n",
       "      <th>ZntR</th>\n",
       "      <th>ZraR</th>\n",
       "      <th>Zur</th>\n",
       "    </tr>\n",
       "  </thead>\n",
       "  <tbody>\n",
       "    <tr>\n",
       "      <th>aaeA</th>\n",
       "      <td>0.0</td>\n",
       "      <td>0.0</td>\n",
       "      <td>0.0</td>\n",
       "      <td>0.0</td>\n",
       "      <td>0.0</td>\n",
       "      <td>0.0</td>\n",
       "      <td>0.0</td>\n",
       "      <td>0.0</td>\n",
       "      <td>0.0</td>\n",
       "      <td>0.0</td>\n",
       "      <td>0.0</td>\n",
       "      <td>0.0</td>\n",
       "      <td>0.0</td>\n",
       "      <td>0.0</td>\n",
       "      <td>0.0</td>\n",
       "      <td>0.0</td>\n",
       "      <td>0.0</td>\n",
       "      <td>0.0</td>\n",
       "      <td>0.0</td>\n",
       "      <td>0.0</td>\n",
       "      <td>0.0</td>\n",
       "      <td>0.0</td>\n",
       "      <td>0.0</td>\n",
       "      <td>0.0</td>\n",
       "      <td>0.0</td>\n",
       "      <td>...</td>\n",
       "      <td>0.0</td>\n",
       "      <td>0.0</td>\n",
       "      <td>0.0</td>\n",
       "      <td>0.0</td>\n",
       "      <td>0.0</td>\n",
       "      <td>0.0</td>\n",
       "      <td>0.0</td>\n",
       "      <td>0.0</td>\n",
       "      <td>0.0</td>\n",
       "      <td>0.0</td>\n",
       "      <td>0.0</td>\n",
       "      <td>0.0</td>\n",
       "      <td>0.0</td>\n",
       "      <td>0.0</td>\n",
       "      <td>0.0</td>\n",
       "      <td>0.0</td>\n",
       "      <td>0.0</td>\n",
       "      <td>0.0</td>\n",
       "      <td>0.0</td>\n",
       "      <td>0.0</td>\n",
       "      <td>0.0</td>\n",
       "      <td>0.0</td>\n",
       "      <td>0.0</td>\n",
       "      <td>0.0</td>\n",
       "      <td>0.0</td>\n",
       "    </tr>\n",
       "    <tr>\n",
       "      <th>aaeB</th>\n",
       "      <td>0.0</td>\n",
       "      <td>0.0</td>\n",
       "      <td>0.0</td>\n",
       "      <td>0.0</td>\n",
       "      <td>0.0</td>\n",
       "      <td>0.0</td>\n",
       "      <td>0.0</td>\n",
       "      <td>0.0</td>\n",
       "      <td>0.0</td>\n",
       "      <td>0.0</td>\n",
       "      <td>0.0</td>\n",
       "      <td>0.0</td>\n",
       "      <td>0.0</td>\n",
       "      <td>0.0</td>\n",
       "      <td>0.0</td>\n",
       "      <td>0.0</td>\n",
       "      <td>0.0</td>\n",
       "      <td>0.0</td>\n",
       "      <td>0.0</td>\n",
       "      <td>0.0</td>\n",
       "      <td>0.0</td>\n",
       "      <td>0.0</td>\n",
       "      <td>0.0</td>\n",
       "      <td>0.0</td>\n",
       "      <td>0.0</td>\n",
       "      <td>...</td>\n",
       "      <td>0.0</td>\n",
       "      <td>0.0</td>\n",
       "      <td>0.0</td>\n",
       "      <td>0.0</td>\n",
       "      <td>0.0</td>\n",
       "      <td>0.0</td>\n",
       "      <td>0.0</td>\n",
       "      <td>0.0</td>\n",
       "      <td>0.0</td>\n",
       "      <td>0.0</td>\n",
       "      <td>0.0</td>\n",
       "      <td>0.0</td>\n",
       "      <td>0.0</td>\n",
       "      <td>0.0</td>\n",
       "      <td>0.0</td>\n",
       "      <td>0.0</td>\n",
       "      <td>0.0</td>\n",
       "      <td>0.0</td>\n",
       "      <td>0.0</td>\n",
       "      <td>0.0</td>\n",
       "      <td>0.0</td>\n",
       "      <td>0.0</td>\n",
       "      <td>0.0</td>\n",
       "      <td>0.0</td>\n",
       "      <td>0.0</td>\n",
       "    </tr>\n",
       "    <tr>\n",
       "      <th>aaeR</th>\n",
       "      <td>0.0</td>\n",
       "      <td>0.0</td>\n",
       "      <td>0.0</td>\n",
       "      <td>0.0</td>\n",
       "      <td>0.0</td>\n",
       "      <td>0.0</td>\n",
       "      <td>0.0</td>\n",
       "      <td>0.0</td>\n",
       "      <td>0.0</td>\n",
       "      <td>0.0</td>\n",
       "      <td>0.0</td>\n",
       "      <td>0.0</td>\n",
       "      <td>0.0</td>\n",
       "      <td>0.0</td>\n",
       "      <td>0.0</td>\n",
       "      <td>0.0</td>\n",
       "      <td>0.0</td>\n",
       "      <td>0.0</td>\n",
       "      <td>0.0</td>\n",
       "      <td>0.0</td>\n",
       "      <td>0.0</td>\n",
       "      <td>0.0</td>\n",
       "      <td>0.0</td>\n",
       "      <td>0.0</td>\n",
       "      <td>0.0</td>\n",
       "      <td>...</td>\n",
       "      <td>0.0</td>\n",
       "      <td>0.0</td>\n",
       "      <td>0.0</td>\n",
       "      <td>0.0</td>\n",
       "      <td>0.0</td>\n",
       "      <td>0.0</td>\n",
       "      <td>0.0</td>\n",
       "      <td>0.0</td>\n",
       "      <td>0.0</td>\n",
       "      <td>0.0</td>\n",
       "      <td>0.0</td>\n",
       "      <td>0.0</td>\n",
       "      <td>0.0</td>\n",
       "      <td>0.0</td>\n",
       "      <td>0.0</td>\n",
       "      <td>0.0</td>\n",
       "      <td>0.0</td>\n",
       "      <td>0.0</td>\n",
       "      <td>0.0</td>\n",
       "      <td>0.0</td>\n",
       "      <td>0.0</td>\n",
       "      <td>0.0</td>\n",
       "      <td>0.0</td>\n",
       "      <td>0.0</td>\n",
       "      <td>0.0</td>\n",
       "    </tr>\n",
       "    <tr>\n",
       "      <th>aaeX</th>\n",
       "      <td>0.0</td>\n",
       "      <td>0.0</td>\n",
       "      <td>0.0</td>\n",
       "      <td>0.0</td>\n",
       "      <td>0.0</td>\n",
       "      <td>0.0</td>\n",
       "      <td>0.0</td>\n",
       "      <td>0.0</td>\n",
       "      <td>0.0</td>\n",
       "      <td>0.0</td>\n",
       "      <td>0.0</td>\n",
       "      <td>0.0</td>\n",
       "      <td>0.0</td>\n",
       "      <td>0.0</td>\n",
       "      <td>0.0</td>\n",
       "      <td>0.0</td>\n",
       "      <td>0.0</td>\n",
       "      <td>0.0</td>\n",
       "      <td>0.0</td>\n",
       "      <td>0.0</td>\n",
       "      <td>0.0</td>\n",
       "      <td>0.0</td>\n",
       "      <td>0.0</td>\n",
       "      <td>0.0</td>\n",
       "      <td>0.0</td>\n",
       "      <td>...</td>\n",
       "      <td>0.0</td>\n",
       "      <td>0.0</td>\n",
       "      <td>0.0</td>\n",
       "      <td>0.0</td>\n",
       "      <td>0.0</td>\n",
       "      <td>0.0</td>\n",
       "      <td>0.0</td>\n",
       "      <td>0.0</td>\n",
       "      <td>0.0</td>\n",
       "      <td>0.0</td>\n",
       "      <td>0.0</td>\n",
       "      <td>0.0</td>\n",
       "      <td>0.0</td>\n",
       "      <td>0.0</td>\n",
       "      <td>0.0</td>\n",
       "      <td>0.0</td>\n",
       "      <td>0.0</td>\n",
       "      <td>0.0</td>\n",
       "      <td>0.0</td>\n",
       "      <td>0.0</td>\n",
       "      <td>0.0</td>\n",
       "      <td>0.0</td>\n",
       "      <td>0.0</td>\n",
       "      <td>0.0</td>\n",
       "      <td>0.0</td>\n",
       "    </tr>\n",
       "    <tr>\n",
       "      <th>abgA</th>\n",
       "      <td>0.0</td>\n",
       "      <td>0.0</td>\n",
       "      <td>0.0</td>\n",
       "      <td>0.0</td>\n",
       "      <td>0.0</td>\n",
       "      <td>0.0</td>\n",
       "      <td>0.0</td>\n",
       "      <td>0.0</td>\n",
       "      <td>0.0</td>\n",
       "      <td>0.0</td>\n",
       "      <td>0.0</td>\n",
       "      <td>0.0</td>\n",
       "      <td>0.0</td>\n",
       "      <td>0.0</td>\n",
       "      <td>0.0</td>\n",
       "      <td>0.0</td>\n",
       "      <td>0.0</td>\n",
       "      <td>0.0</td>\n",
       "      <td>0.0</td>\n",
       "      <td>0.0</td>\n",
       "      <td>0.0</td>\n",
       "      <td>0.0</td>\n",
       "      <td>0.0</td>\n",
       "      <td>0.0</td>\n",
       "      <td>0.0</td>\n",
       "      <td>...</td>\n",
       "      <td>0.0</td>\n",
       "      <td>0.0</td>\n",
       "      <td>0.0</td>\n",
       "      <td>0.0</td>\n",
       "      <td>0.0</td>\n",
       "      <td>0.0</td>\n",
       "      <td>0.0</td>\n",
       "      <td>0.0</td>\n",
       "      <td>0.0</td>\n",
       "      <td>0.0</td>\n",
       "      <td>0.0</td>\n",
       "      <td>0.0</td>\n",
       "      <td>0.0</td>\n",
       "      <td>0.0</td>\n",
       "      <td>0.0</td>\n",
       "      <td>0.0</td>\n",
       "      <td>0.0</td>\n",
       "      <td>0.0</td>\n",
       "      <td>0.0</td>\n",
       "      <td>0.0</td>\n",
       "      <td>0.0</td>\n",
       "      <td>0.0</td>\n",
       "      <td>0.0</td>\n",
       "      <td>0.0</td>\n",
       "      <td>0.0</td>\n",
       "    </tr>\n",
       "    <tr>\n",
       "      <th>...</th>\n",
       "      <td>...</td>\n",
       "      <td>...</td>\n",
       "      <td>...</td>\n",
       "      <td>...</td>\n",
       "      <td>...</td>\n",
       "      <td>...</td>\n",
       "      <td>...</td>\n",
       "      <td>...</td>\n",
       "      <td>...</td>\n",
       "      <td>...</td>\n",
       "      <td>...</td>\n",
       "      <td>...</td>\n",
       "      <td>...</td>\n",
       "      <td>...</td>\n",
       "      <td>...</td>\n",
       "      <td>...</td>\n",
       "      <td>...</td>\n",
       "      <td>...</td>\n",
       "      <td>...</td>\n",
       "      <td>...</td>\n",
       "      <td>...</td>\n",
       "      <td>...</td>\n",
       "      <td>...</td>\n",
       "      <td>...</td>\n",
       "      <td>...</td>\n",
       "      <td>...</td>\n",
       "      <td>...</td>\n",
       "      <td>...</td>\n",
       "      <td>...</td>\n",
       "      <td>...</td>\n",
       "      <td>...</td>\n",
       "      <td>...</td>\n",
       "      <td>...</td>\n",
       "      <td>...</td>\n",
       "      <td>...</td>\n",
       "      <td>...</td>\n",
       "      <td>...</td>\n",
       "      <td>...</td>\n",
       "      <td>...</td>\n",
       "      <td>...</td>\n",
       "      <td>...</td>\n",
       "      <td>...</td>\n",
       "      <td>...</td>\n",
       "      <td>...</td>\n",
       "      <td>...</td>\n",
       "      <td>...</td>\n",
       "      <td>...</td>\n",
       "      <td>...</td>\n",
       "      <td>...</td>\n",
       "      <td>...</td>\n",
       "      <td>...</td>\n",
       "    </tr>\n",
       "    <tr>\n",
       "      <th>znuC</th>\n",
       "      <td>0.0</td>\n",
       "      <td>0.0</td>\n",
       "      <td>0.0</td>\n",
       "      <td>0.0</td>\n",
       "      <td>0.0</td>\n",
       "      <td>0.0</td>\n",
       "      <td>0.0</td>\n",
       "      <td>0.0</td>\n",
       "      <td>0.0</td>\n",
       "      <td>0.0</td>\n",
       "      <td>0.0</td>\n",
       "      <td>0.0</td>\n",
       "      <td>0.0</td>\n",
       "      <td>0.0</td>\n",
       "      <td>0.0</td>\n",
       "      <td>0.0</td>\n",
       "      <td>0.0</td>\n",
       "      <td>0.0</td>\n",
       "      <td>0.0</td>\n",
       "      <td>0.0</td>\n",
       "      <td>0.0</td>\n",
       "      <td>0.0</td>\n",
       "      <td>0.0</td>\n",
       "      <td>0.0</td>\n",
       "      <td>0.0</td>\n",
       "      <td>...</td>\n",
       "      <td>0.0</td>\n",
       "      <td>0.0</td>\n",
       "      <td>0.0</td>\n",
       "      <td>0.0</td>\n",
       "      <td>0.0</td>\n",
       "      <td>0.0</td>\n",
       "      <td>0.0</td>\n",
       "      <td>0.0</td>\n",
       "      <td>0.0</td>\n",
       "      <td>0.0</td>\n",
       "      <td>0.0</td>\n",
       "      <td>0.0</td>\n",
       "      <td>0.0</td>\n",
       "      <td>0.0</td>\n",
       "      <td>0.0</td>\n",
       "      <td>0.0</td>\n",
       "      <td>0.0</td>\n",
       "      <td>0.0</td>\n",
       "      <td>0.0</td>\n",
       "      <td>0.0</td>\n",
       "      <td>0.0</td>\n",
       "      <td>0.0</td>\n",
       "      <td>0.0</td>\n",
       "      <td>0.0</td>\n",
       "      <td>1.0</td>\n",
       "    </tr>\n",
       "    <tr>\n",
       "      <th>zraP</th>\n",
       "      <td>0.0</td>\n",
       "      <td>0.0</td>\n",
       "      <td>0.0</td>\n",
       "      <td>0.0</td>\n",
       "      <td>0.0</td>\n",
       "      <td>0.0</td>\n",
       "      <td>0.0</td>\n",
       "      <td>0.0</td>\n",
       "      <td>0.0</td>\n",
       "      <td>0.0</td>\n",
       "      <td>0.0</td>\n",
       "      <td>0.0</td>\n",
       "      <td>0.0</td>\n",
       "      <td>0.0</td>\n",
       "      <td>0.0</td>\n",
       "      <td>0.0</td>\n",
       "      <td>0.0</td>\n",
       "      <td>0.0</td>\n",
       "      <td>0.0</td>\n",
       "      <td>0.0</td>\n",
       "      <td>0.0</td>\n",
       "      <td>0.0</td>\n",
       "      <td>0.0</td>\n",
       "      <td>0.0</td>\n",
       "      <td>0.0</td>\n",
       "      <td>...</td>\n",
       "      <td>0.0</td>\n",
       "      <td>0.0</td>\n",
       "      <td>0.0</td>\n",
       "      <td>0.0</td>\n",
       "      <td>0.0</td>\n",
       "      <td>0.0</td>\n",
       "      <td>0.0</td>\n",
       "      <td>0.0</td>\n",
       "      <td>0.0</td>\n",
       "      <td>0.0</td>\n",
       "      <td>0.0</td>\n",
       "      <td>0.0</td>\n",
       "      <td>0.0</td>\n",
       "      <td>0.0</td>\n",
       "      <td>0.0</td>\n",
       "      <td>0.0</td>\n",
       "      <td>0.0</td>\n",
       "      <td>0.0</td>\n",
       "      <td>0.0</td>\n",
       "      <td>0.0</td>\n",
       "      <td>0.0</td>\n",
       "      <td>0.0</td>\n",
       "      <td>0.0</td>\n",
       "      <td>1.0</td>\n",
       "      <td>0.0</td>\n",
       "    </tr>\n",
       "    <tr>\n",
       "      <th>zraR</th>\n",
       "      <td>0.0</td>\n",
       "      <td>0.0</td>\n",
       "      <td>0.0</td>\n",
       "      <td>0.0</td>\n",
       "      <td>0.0</td>\n",
       "      <td>0.0</td>\n",
       "      <td>0.0</td>\n",
       "      <td>0.0</td>\n",
       "      <td>0.0</td>\n",
       "      <td>0.0</td>\n",
       "      <td>0.0</td>\n",
       "      <td>0.0</td>\n",
       "      <td>0.0</td>\n",
       "      <td>0.0</td>\n",
       "      <td>0.0</td>\n",
       "      <td>0.0</td>\n",
       "      <td>0.0</td>\n",
       "      <td>0.0</td>\n",
       "      <td>0.0</td>\n",
       "      <td>0.0</td>\n",
       "      <td>0.0</td>\n",
       "      <td>0.0</td>\n",
       "      <td>0.0</td>\n",
       "      <td>0.0</td>\n",
       "      <td>0.0</td>\n",
       "      <td>...</td>\n",
       "      <td>0.0</td>\n",
       "      <td>0.0</td>\n",
       "      <td>0.0</td>\n",
       "      <td>0.0</td>\n",
       "      <td>0.0</td>\n",
       "      <td>0.0</td>\n",
       "      <td>0.0</td>\n",
       "      <td>0.0</td>\n",
       "      <td>0.0</td>\n",
       "      <td>0.0</td>\n",
       "      <td>0.0</td>\n",
       "      <td>0.0</td>\n",
       "      <td>0.0</td>\n",
       "      <td>0.0</td>\n",
       "      <td>0.0</td>\n",
       "      <td>0.0</td>\n",
       "      <td>0.0</td>\n",
       "      <td>0.0</td>\n",
       "      <td>0.0</td>\n",
       "      <td>0.0</td>\n",
       "      <td>0.0</td>\n",
       "      <td>0.0</td>\n",
       "      <td>0.0</td>\n",
       "      <td>1.0</td>\n",
       "      <td>0.0</td>\n",
       "    </tr>\n",
       "    <tr>\n",
       "      <th>zraS</th>\n",
       "      <td>0.0</td>\n",
       "      <td>0.0</td>\n",
       "      <td>0.0</td>\n",
       "      <td>0.0</td>\n",
       "      <td>0.0</td>\n",
       "      <td>0.0</td>\n",
       "      <td>0.0</td>\n",
       "      <td>0.0</td>\n",
       "      <td>0.0</td>\n",
       "      <td>0.0</td>\n",
       "      <td>0.0</td>\n",
       "      <td>0.0</td>\n",
       "      <td>0.0</td>\n",
       "      <td>0.0</td>\n",
       "      <td>0.0</td>\n",
       "      <td>0.0</td>\n",
       "      <td>0.0</td>\n",
       "      <td>0.0</td>\n",
       "      <td>0.0</td>\n",
       "      <td>0.0</td>\n",
       "      <td>0.0</td>\n",
       "      <td>0.0</td>\n",
       "      <td>0.0</td>\n",
       "      <td>0.0</td>\n",
       "      <td>0.0</td>\n",
       "      <td>...</td>\n",
       "      <td>0.0</td>\n",
       "      <td>0.0</td>\n",
       "      <td>0.0</td>\n",
       "      <td>0.0</td>\n",
       "      <td>0.0</td>\n",
       "      <td>0.0</td>\n",
       "      <td>0.0</td>\n",
       "      <td>0.0</td>\n",
       "      <td>0.0</td>\n",
       "      <td>0.0</td>\n",
       "      <td>0.0</td>\n",
       "      <td>0.0</td>\n",
       "      <td>0.0</td>\n",
       "      <td>0.0</td>\n",
       "      <td>0.0</td>\n",
       "      <td>0.0</td>\n",
       "      <td>0.0</td>\n",
       "      <td>0.0</td>\n",
       "      <td>0.0</td>\n",
       "      <td>0.0</td>\n",
       "      <td>0.0</td>\n",
       "      <td>0.0</td>\n",
       "      <td>0.0</td>\n",
       "      <td>1.0</td>\n",
       "      <td>0.0</td>\n",
       "    </tr>\n",
       "    <tr>\n",
       "      <th>zwf</th>\n",
       "      <td>0.0</td>\n",
       "      <td>0.0</td>\n",
       "      <td>0.0</td>\n",
       "      <td>0.0</td>\n",
       "      <td>0.0</td>\n",
       "      <td>0.0</td>\n",
       "      <td>0.0</td>\n",
       "      <td>0.0</td>\n",
       "      <td>0.0</td>\n",
       "      <td>0.0</td>\n",
       "      <td>0.0</td>\n",
       "      <td>0.0</td>\n",
       "      <td>0.0</td>\n",
       "      <td>0.0</td>\n",
       "      <td>0.0</td>\n",
       "      <td>0.0</td>\n",
       "      <td>0.0</td>\n",
       "      <td>0.0</td>\n",
       "      <td>0.0</td>\n",
       "      <td>0.0</td>\n",
       "      <td>0.0</td>\n",
       "      <td>0.0</td>\n",
       "      <td>0.0</td>\n",
       "      <td>0.0</td>\n",
       "      <td>0.0</td>\n",
       "      <td>...</td>\n",
       "      <td>0.0</td>\n",
       "      <td>0.0</td>\n",
       "      <td>0.0</td>\n",
       "      <td>0.0</td>\n",
       "      <td>0.0</td>\n",
       "      <td>0.0</td>\n",
       "      <td>0.0</td>\n",
       "      <td>0.0</td>\n",
       "      <td>0.0</td>\n",
       "      <td>0.0</td>\n",
       "      <td>0.0</td>\n",
       "      <td>0.0</td>\n",
       "      <td>0.0</td>\n",
       "      <td>0.0</td>\n",
       "      <td>0.0</td>\n",
       "      <td>0.0</td>\n",
       "      <td>0.0</td>\n",
       "      <td>0.0</td>\n",
       "      <td>0.0</td>\n",
       "      <td>0.0</td>\n",
       "      <td>0.0</td>\n",
       "      <td>0.0</td>\n",
       "      <td>0.0</td>\n",
       "      <td>0.0</td>\n",
       "      <td>0.0</td>\n",
       "    </tr>\n",
       "  </tbody>\n",
       "</table>\n",
       "<p>2615 rows × 259 columns</p>\n",
       "</div>"
      ],
      "text/plain": [
       "      FecI  FliA  RpoD  RpoE  RpoH  RpoN  RpoS  AcrR  Ada  AdiY  AgaR  AidB  \\\n",
       "aaeA   0.0   0.0   0.0   0.0   0.0   0.0   0.0   0.0  0.0   0.0   0.0   0.0   \n",
       "aaeB   0.0   0.0   0.0   0.0   0.0   0.0   0.0   0.0  0.0   0.0   0.0   0.0   \n",
       "aaeR   0.0   0.0   0.0   0.0   0.0   0.0   0.0   0.0  0.0   0.0   0.0   0.0   \n",
       "aaeX   0.0   0.0   0.0   0.0   0.0   0.0   0.0   0.0  0.0   0.0   0.0   0.0   \n",
       "abgA   0.0   0.0   0.0   0.0   0.0   0.0   0.0   0.0  0.0   0.0   0.0   0.0   \n",
       "...    ...   ...   ...   ...   ...   ...   ...   ...  ...   ...   ...   ...   \n",
       "znuC   0.0   0.0   0.0   0.0   0.0   0.0   0.0   0.0  0.0   0.0   0.0   0.0   \n",
       "zraP   0.0   0.0   0.0   0.0   0.0   0.0   0.0   0.0  0.0   0.0   0.0   0.0   \n",
       "zraR   0.0   0.0   0.0   0.0   0.0   0.0   0.0   0.0  0.0   0.0   0.0   0.0   \n",
       "zraS   0.0   0.0   0.0   0.0   0.0   0.0   0.0   0.0  0.0   0.0   0.0   0.0   \n",
       "zwf    0.0   0.0   0.0   0.0   0.0   0.0   0.0   0.0  0.0   0.0   0.0   0.0   \n",
       "\n",
       "      AlaS  AllR  AraC  ArcA  ArcZ  ArgP  ArgR  ArrS  ArsR  AscG  AtoC  BaeR  \\\n",
       "aaeA   0.0   0.0   0.0   0.0   0.0   0.0   0.0   0.0   0.0   0.0   0.0   0.0   \n",
       "aaeB   0.0   0.0   0.0   0.0   0.0   0.0   0.0   0.0   0.0   0.0   0.0   0.0   \n",
       "aaeR   0.0   0.0   0.0   0.0   0.0   0.0   0.0   0.0   0.0   0.0   0.0   0.0   \n",
       "aaeX   0.0   0.0   0.0   0.0   0.0   0.0   0.0   0.0   0.0   0.0   0.0   0.0   \n",
       "abgA   0.0   0.0   0.0   0.0   0.0   0.0   0.0   0.0   0.0   0.0   0.0   0.0   \n",
       "...    ...   ...   ...   ...   ...   ...   ...   ...   ...   ...   ...   ...   \n",
       "znuC   0.0   0.0   0.0   0.0   0.0   0.0   0.0   0.0   0.0   0.0   0.0   0.0   \n",
       "zraP   0.0   0.0   0.0   0.0   0.0   0.0   0.0   0.0   0.0   0.0   0.0   0.0   \n",
       "zraR   0.0   0.0   0.0   0.0   0.0   0.0   0.0   0.0   0.0   0.0   0.0   0.0   \n",
       "zraS   0.0   0.0   0.0   0.0   0.0   0.0   0.0   0.0   0.0   0.0   0.0   0.0   \n",
       "zwf    0.0   0.0   0.0   0.0   0.0   0.0   0.0   0.0   0.0   0.0   0.0   0.0   \n",
       "\n",
       "      BasR  ...  TreR  TrpR  TyrR  UhpA  UhpU  UlaR  UvrY  UxuR  XylR  XynR  \\\n",
       "aaeA   0.0  ...   0.0   0.0   0.0   0.0   0.0   0.0   0.0   0.0   0.0   0.0   \n",
       "aaeB   0.0  ...   0.0   0.0   0.0   0.0   0.0   0.0   0.0   0.0   0.0   0.0   \n",
       "aaeR   0.0  ...   0.0   0.0   0.0   0.0   0.0   0.0   0.0   0.0   0.0   0.0   \n",
       "aaeX   0.0  ...   0.0   0.0   0.0   0.0   0.0   0.0   0.0   0.0   0.0   0.0   \n",
       "abgA   0.0  ...   0.0   0.0   0.0   0.0   0.0   0.0   0.0   0.0   0.0   0.0   \n",
       "...    ...  ...   ...   ...   ...   ...   ...   ...   ...   ...   ...   ...   \n",
       "znuC   0.0  ...   0.0   0.0   0.0   0.0   0.0   0.0   0.0   0.0   0.0   0.0   \n",
       "zraP   0.0  ...   0.0   0.0   0.0   0.0   0.0   0.0   0.0   0.0   0.0   0.0   \n",
       "zraR   0.0  ...   0.0   0.0   0.0   0.0   0.0   0.0   0.0   0.0   0.0   0.0   \n",
       "zraS   0.0  ...   0.0   0.0   0.0   0.0   0.0   0.0   0.0   0.0   0.0   0.0   \n",
       "zwf    0.0  ...   0.0   0.0   0.0   0.0   0.0   0.0   0.0   0.0   0.0   0.0   \n",
       "\n",
       "      YciT  YcjW  YdeO  YdfH  YebK  YefM  YefMB  YgiV  YhaJ  YiaU  YjjQ  YqhC  \\\n",
       "aaeA   0.0   0.0   0.0   0.0   0.0   0.0    0.0   0.0   0.0   0.0   0.0   0.0   \n",
       "aaeB   0.0   0.0   0.0   0.0   0.0   0.0    0.0   0.0   0.0   0.0   0.0   0.0   \n",
       "aaeR   0.0   0.0   0.0   0.0   0.0   0.0    0.0   0.0   0.0   0.0   0.0   0.0   \n",
       "aaeX   0.0   0.0   0.0   0.0   0.0   0.0    0.0   0.0   0.0   0.0   0.0   0.0   \n",
       "abgA   0.0   0.0   0.0   0.0   0.0   0.0    0.0   0.0   0.0   0.0   0.0   0.0   \n",
       "...    ...   ...   ...   ...   ...   ...    ...   ...   ...   ...   ...   ...   \n",
       "znuC   0.0   0.0   0.0   0.0   0.0   0.0    0.0   0.0   0.0   0.0   0.0   0.0   \n",
       "zraP   0.0   0.0   0.0   0.0   0.0   0.0    0.0   0.0   0.0   0.0   0.0   0.0   \n",
       "zraR   0.0   0.0   0.0   0.0   0.0   0.0    0.0   0.0   0.0   0.0   0.0   0.0   \n",
       "zraS   0.0   0.0   0.0   0.0   0.0   0.0    0.0   0.0   0.0   0.0   0.0   0.0   \n",
       "zwf    0.0   0.0   0.0   0.0   0.0   0.0    0.0   0.0   0.0   0.0   0.0   0.0   \n",
       "\n",
       "      ZntR  ZraR  Zur  \n",
       "aaeA   0.0   0.0  0.0  \n",
       "aaeB   0.0   0.0  0.0  \n",
       "aaeR   0.0   0.0  0.0  \n",
       "aaeX   0.0   0.0  0.0  \n",
       "abgA   0.0   0.0  0.0  \n",
       "...    ...   ...  ...  \n",
       "znuC   0.0   0.0  1.0  \n",
       "zraP   0.0   1.0  0.0  \n",
       "zraR   0.0   1.0  0.0  \n",
       "zraS   0.0   1.0  0.0  \n",
       "zwf    0.0   0.0  0.0  \n",
       "\n",
       "[2615 rows x 259 columns]"
      ]
     },
     "execution_count": 19,
     "metadata": {},
     "output_type": "execute_result"
    }
   ],
   "source": [
    "RegulonDB_TRN"
   ]
  },
  {
   "cell_type": "code",
   "execution_count": 20,
   "id": "5234bcb2",
   "metadata": {},
   "outputs": [
    {
     "data": {
      "text/plain": [
       "['argA',\n",
       " 'argB',\n",
       " 'argC',\n",
       " 'argD',\n",
       " 'argE',\n",
       " 'argF',\n",
       " 'argG',\n",
       " 'argH',\n",
       " 'argI',\n",
       " 'argR',\n",
       " 'aroK',\n",
       " 'aroP',\n",
       " 'artI',\n",
       " 'artJ',\n",
       " 'artM',\n",
       " 'artP',\n",
       " 'artQ',\n",
       " 'astA',\n",
       " 'astB',\n",
       " 'astC',\n",
       " 'astD',\n",
       " 'astE',\n",
       " 'carA',\n",
       " 'carB',\n",
       " 'cvpA',\n",
       " 'dacC',\n",
       " 'dps',\n",
       " 'eutS',\n",
       " 'ftsZ',\n",
       " 'gltB',\n",
       " 'gltD',\n",
       " 'gltF',\n",
       " 'gltP',\n",
       " 'hchA',\n",
       " 'hisJ',\n",
       " 'hisL',\n",
       " 'hisM',\n",
       " 'hisP',\n",
       " 'hisQ',\n",
       " 'infB',\n",
       " 'lrp',\n",
       " 'lysO',\n",
       " 'mcaS',\n",
       " 'metY',\n",
       " 'mukE',\n",
       " 'nusA',\n",
       " 'pfkB',\n",
       " 'pnp',\n",
       " 'potF',\n",
       " 'puuB',\n",
       " 'pyrL',\n",
       " 'rbfA',\n",
       " 'rimP',\n",
       " 'rpsO',\n",
       " 'stpA',\n",
       " 'truB',\n",
       " 'waaA',\n",
       " 'yaaU',\n",
       " 'ydgI',\n",
       " 'yfcC',\n",
       " 'yffB',\n",
       " 'yhcC',\n",
       " 'ykgA',\n",
       " 'yraQ']"
      ]
     },
     "execution_count": 20,
     "metadata": {},
     "output_type": "execute_result"
    }
   ],
   "source": [
    "RegulonDB_TRN.index[RegulonDB_TRN['ArgR']==1].to_list()"
   ]
  },
  {
   "cell_type": "markdown",
   "id": "f636da11",
   "metadata": {},
   "source": [
    "### Figure - Expression correlation heatmap showing Regulon vs iModulon"
   ]
  },
  {
   "cell_type": "code",
   "execution_count": 21,
   "id": "e6dacf2b",
   "metadata": {
    "execution": {
     "iopub.execute_input": "2024-10-04T15:59:14.530526Z",
     "iopub.status.busy": "2024-10-04T15:59:14.530226Z",
     "iopub.status.idle": "2024-10-04T15:59:14.576455Z",
     "shell.execute_reply": "2024-10-04T15:59:14.575598Z",
     "shell.execute_reply.started": "2024-10-04T15:59:14.530497Z"
    }
   },
   "outputs": [],
   "source": [
    "P1K_log_tpm_gene_name = map_accession_to_gene_name(P1K_log_tpm, biocyc_info)"
   ]
  },
  {
   "cell_type": "code",
   "execution_count": 22,
   "id": "65999339",
   "metadata": {
    "execution": {
     "iopub.execute_input": "2024-10-04T15:59:14.784203Z",
     "iopub.status.busy": "2024-10-04T15:59:14.783921Z",
     "iopub.status.idle": "2024-10-04T15:59:14.801220Z",
     "shell.execute_reply": "2024-10-04T15:59:14.800429Z",
     "shell.execute_reply.started": "2024-10-04T15:59:14.784177Z"
    }
   },
   "outputs": [],
   "source": [
    "P1K_Gene_Presence_Matrix_gene_name = map_accession_to_gene_name(P1K_Gene_Presence_Matrix, biocyc_info)"
   ]
  },
  {
   "cell_type": "code",
   "execution_count": 23,
   "id": "a49a76eb",
   "metadata": {
    "execution": {
     "iopub.execute_input": "2024-10-04T15:59:26.784539Z",
     "iopub.status.busy": "2024-10-04T15:59:26.784182Z",
     "iopub.status.idle": "2024-10-04T15:59:26.793878Z",
     "shell.execute_reply": "2024-10-04T15:59:26.793048Z",
     "shell.execute_reply.started": "2024-10-04T15:59:26.784506Z"
    }
   },
   "outputs": [],
   "source": [
    "Regulon_DB_TRN_filtered = RegulonDB_TRN.loc[RegulonDB_TRN.index.intersection(P1K_log_tpm_gene_name.index)]"
   ]
  },
  {
   "cell_type": "code",
   "execution_count": 24,
   "id": "3687d8eb",
   "metadata": {
    "execution": {
     "iopub.execute_input": "2024-10-04T15:59:42.158572Z",
     "iopub.status.busy": "2024-10-04T15:59:42.158221Z",
     "iopub.status.idle": "2024-10-04T15:59:42.163809Z",
     "shell.execute_reply": "2024-10-04T15:59:42.162958Z",
     "shell.execute_reply.started": "2024-10-04T15:59:42.158541Z"
    }
   },
   "outputs": [],
   "source": [
    "ArgR_iM_Genes = get_genes_for_iM(P1K_Gene_Presence_Matrix_gene_name, 'Arginine')"
   ]
  },
  {
   "cell_type": "code",
   "execution_count": 25,
   "id": "14ce4884",
   "metadata": {
    "execution": {
     "iopub.execute_input": "2024-10-04T15:59:42.414077Z",
     "iopub.status.busy": "2024-10-04T15:59:42.413778Z",
     "iopub.status.idle": "2024-10-04T15:59:42.549427Z",
     "shell.execute_reply": "2024-10-04T15:59:42.548679Z",
     "shell.execute_reply.started": "2024-10-04T15:59:42.414047Z"
    }
   },
   "outputs": [
    {
     "data": {
      "image/png": "[encoded data removed]",
      "text/plain": [
       "<Figure size 500x500 with 2 Axes>"
      ]
     },
     "metadata": {},
     "output_type": "display_data"
    }
   ],
   "source": [
    "plot_regulon_corr_heatmap_with_clustering('ArgR', Regulon_DB_TRN_filtered, P1K_log_tpm_gene_name, ArgR_iM_Genes, matrix = False, figure_size = (5,5))\n",
    "#plt.savefig('heatmap.png') #does not work"
   ]
  },
  {
   "cell_type": "markdown",
   "id": "13346372",
   "metadata": {},
   "source": [
    "# ArgR regulon case breakdown\n",
    "- in Arginine iM and ArgR regulon (case 1)\n",
    "- in Arginine iM only (case 2)\n",
    "- in ArgR regulon only\n",
    "    - in other iMs (case 3.1)\n",
    "    - not in other iMs (case 3.2)"
   ]
  },
  {
   "cell_type": "code",
   "execution_count": 61,
   "id": "f3c9d944",
   "metadata": {},
   "outputs": [],
   "source": [
    "argR_reg_genes = RegulonDB_TRN.index[RegulonDB_TRN['ArgR']==1].to_list()\n",
    "genes_in_imodulons = P1K_Gene_Presence_Matrix_gene_name.index[P1K_Gene_Presence_Matrix_gene_name.any(axis=1)].tolist()"
   ]
  },
  {
   "cell_type": "code",
   "execution_count": 62,
   "id": "f4e9af64",
   "metadata": {},
   "outputs": [],
   "source": [
    "overlap_genes = list(set(argR_reg_genes).intersection(set(ArgR_iM_Genes)))# reg+iM\n",
    "iM_only = list(set(ArgR_iM_Genes).difference(set(argR_reg_genes)))# iM only\n",
    "genes_only_in_regulon = set(argR_reg_genes).difference(set(ArgR_iM_Genes))\n",
    "regonly_otherimos = list(set(genes_only_in_regulon).intersection(set(genes_in_imodulons))) # reg only + in other iM\n",
    "remaining_genes = set(argR_reg_genes).difference(set(overlap_genes))\n",
    "regonly_not_inotherimos = list(remaining_genes.difference(set(regonly_otherimos)))# reg only + not in iM"
   ]
  },
  {
   "cell_type": "markdown",
   "id": "b060625d",
   "metadata": {},
   "source": [
    "### case 3.1 corr. vs Arginine iM overview"
   ]
  },
  {
   "cell_type": "code",
   "execution_count": 87,
   "id": "05a6caa0",
   "metadata": {},
   "outputs": [
    {
     "data": {
      "text/html": [
       "<div>\n",
       "<style scoped>\n",
       "    .dataframe tbody tr th:only-of-type {\n",
       "        vertical-align: middle;\n",
       "    }\n",
       "\n",
       "    .dataframe tbody tr th {\n",
       "        vertical-align: top;\n",
       "    }\n",
       "\n",
       "    .dataframe thead th {\n",
       "        text-align: right;\n",
       "    }\n",
       "</style>\n",
       "<table border=\"1\" class=\"dataframe\">\n",
       "  <thead>\n",
       "    <tr style=\"text-align: right;\">\n",
       "      <th></th>\n",
       "      <th>Gene</th>\n",
       "      <th>iModulon</th>\n",
       "      <th>arg_corr</th>\n",
       "      <th>iM_corr</th>\n",
       "    </tr>\n",
       "    <tr>\n",
       "      <th>Gene_Number</th>\n",
       "      <th></th>\n",
       "      <th></th>\n",
       "      <th></th>\n",
       "      <th></th>\n",
       "    </tr>\n",
       "  </thead>\n",
       "  <tbody>\n",
       "    <tr>\n",
       "      <th>b0112</th>\n",
       "      <td>aroP</td>\n",
       "      <td>Gluconate, Tyr/Trp/Phe</td>\n",
       "      <td>0.538511</td>\n",
       "      <td>-0.4388645727967023, 0.668059657472892</td>\n",
       "    </tr>\n",
       "    <tr>\n",
       "      <th>b1747</th>\n",
       "      <td>astA</td>\n",
       "      <td>NtrC-1</td>\n",
       "      <td>-0.167614</td>\n",
       "      <td>0.8671512233889477</td>\n",
       "    </tr>\n",
       "    <tr>\n",
       "      <th>b1745</th>\n",
       "      <td>astB</td>\n",
       "      <td>NtrC-1</td>\n",
       "      <td>-0.178386</td>\n",
       "      <td>0.841103505231837</td>\n",
       "    </tr>\n",
       "    <tr>\n",
       "      <th>b1748</th>\n",
       "      <td>astC</td>\n",
       "      <td>NtrC-1</td>\n",
       "      <td>-0.172263</td>\n",
       "      <td>0.8568591450481777</td>\n",
       "    </tr>\n",
       "    <tr>\n",
       "      <th>b1746</th>\n",
       "      <td>astD</td>\n",
       "      <td>NtrC-1</td>\n",
       "      <td>-0.159616</td>\n",
       "      <td>0.8284998811806618</td>\n",
       "    </tr>\n",
       "    <tr>\n",
       "      <th>b1744</th>\n",
       "      <td>astE</td>\n",
       "      <td>NtrC-1</td>\n",
       "      <td>-0.211202</td>\n",
       "      <td>0.8082293861735705</td>\n",
       "    </tr>\n",
       "    <tr>\n",
       "      <th>b2313</th>\n",
       "      <td>cvpA</td>\n",
       "      <td>Purine</td>\n",
       "      <td>0.616543</td>\n",
       "      <td>0.9050257587418922</td>\n",
       "    </tr>\n",
       "    <tr>\n",
       "      <th>b0839</th>\n",
       "      <td>dacC</td>\n",
       "      <td>UC-7</td>\n",
       "      <td>0.099863</td>\n",
       "      <td>-0.8899037650510794</td>\n",
       "    </tr>\n",
       "    <tr>\n",
       "      <th>b0812</th>\n",
       "      <td>dps</td>\n",
       "      <td>OxyR, RpoS</td>\n",
       "      <td>-0.220531</td>\n",
       "      <td>0.23708005102185384, 0.8260805784732469</td>\n",
       "    </tr>\n",
       "    <tr>\n",
       "      <th>b3212</th>\n",
       "      <td>gltB</td>\n",
       "      <td>Nitrogen</td>\n",
       "      <td>0.626987</td>\n",
       "      <td>-0.4069533528943708</td>\n",
       "    </tr>\n",
       "    <tr>\n",
       "      <th>b3213</th>\n",
       "      <td>gltD</td>\n",
       "      <td>Nitrogen</td>\n",
       "      <td>0.604855</td>\n",
       "      <td>-0.46950695781812457</td>\n",
       "    </tr>\n",
       "    <tr>\n",
       "      <th>b3214</th>\n",
       "      <td>gltF</td>\n",
       "      <td>nquinone ALE 3</td>\n",
       "      <td>0.548522</td>\n",
       "      <td>-0.24360737985363795</td>\n",
       "    </tr>\n",
       "    <tr>\n",
       "      <th>b4077</th>\n",
       "      <td>gltP</td>\n",
       "      <td>minicoli KOs</td>\n",
       "      <td>0.111042</td>\n",
       "      <td>0.6203959738639957</td>\n",
       "    </tr>\n",
       "    <tr>\n",
       "      <th>b1967</th>\n",
       "      <td>hchA</td>\n",
       "      <td>RpoS, UC-7</td>\n",
       "      <td>0.005893</td>\n",
       "      <td>0.7264320450709378, -0.7221602810649421</td>\n",
       "    </tr>\n",
       "    <tr>\n",
       "      <th>b0874</th>\n",
       "      <td>lysO</td>\n",
       "      <td>ppGpp</td>\n",
       "      <td>0.556393</td>\n",
       "      <td>0.6647328756422852</td>\n",
       "    </tr>\n",
       "    <tr>\n",
       "      <th>b1301</th>\n",
       "      <td>puuB</td>\n",
       "      <td>Putrescine</td>\n",
       "      <td>0.142402</td>\n",
       "      <td>0.94361513369028</td>\n",
       "    </tr>\n",
       "    <tr>\n",
       "      <th>b4246</th>\n",
       "      <td>pyrL</td>\n",
       "      <td>Resistance, Pyrimidine, Cellulose</td>\n",
       "      <td>0.144404</td>\n",
       "      <td>0.32105563480281546, 0.290871471296678, 0.1347...</td>\n",
       "    </tr>\n",
       "    <tr>\n",
       "      <th>b3167</th>\n",
       "      <td>rbfA</td>\n",
       "      <td>Translation</td>\n",
       "      <td>0.080279</td>\n",
       "      <td>0.48301985372458506</td>\n",
       "    </tr>\n",
       "    <tr>\n",
       "      <th>b2669</th>\n",
       "      <td>stpA</td>\n",
       "      <td>Lrp, Cellulose, Cold Shock, minicoli KOs</td>\n",
       "      <td>0.410269</td>\n",
       "      <td>0.40310967931514236, 0.4912568845551267, -0.57...</td>\n",
       "    </tr>\n",
       "    <tr>\n",
       "      <th>b3166</th>\n",
       "      <td>truB</td>\n",
       "      <td>Translation</td>\n",
       "      <td>0.117987</td>\n",
       "      <td>0.6308032483503315</td>\n",
       "    </tr>\n",
       "    <tr>\n",
       "      <th>b3633</th>\n",
       "      <td>waaA</td>\n",
       "      <td>PAL Amp</td>\n",
       "      <td>0.294727</td>\n",
       "      <td>0.28215332434085777</td>\n",
       "    </tr>\n",
       "    <tr>\n",
       "      <th>b1605</th>\n",
       "      <td>ydgI</td>\n",
       "      <td>Lrp</td>\n",
       "      <td>-0.012885</td>\n",
       "      <td>-0.2984713189936069</td>\n",
       "    </tr>\n",
       "    <tr>\n",
       "      <th>b2298</th>\n",
       "      <td>yfcC</td>\n",
       "      <td>Fnr-2</td>\n",
       "      <td>-0.027419</td>\n",
       "      <td>0.8504640915177536</td>\n",
       "    </tr>\n",
       "    <tr>\n",
       "      <th>b2471</th>\n",
       "      <td>yffB</td>\n",
       "      <td>Cellulose</td>\n",
       "      <td>-0.221850</td>\n",
       "      <td>0.6337239806982383</td>\n",
       "    </tr>\n",
       "    <tr>\n",
       "      <th>b3211</th>\n",
       "      <td>yhcC</td>\n",
       "      <td>Fnr-3, Fnr-2</td>\n",
       "      <td>0.080420</td>\n",
       "      <td>0.8749510404075621, 0.8608330565225347</td>\n",
       "    </tr>\n",
       "    <tr>\n",
       "      <th>b3151</th>\n",
       "      <td>yraQ</td>\n",
       "      <td>Membrane</td>\n",
       "      <td>0.547694</td>\n",
       "      <td>-0.3868131191087984</td>\n",
       "    </tr>\n",
       "  </tbody>\n",
       "</table>\n",
       "</div>"
      ],
      "text/plain": [
       "             Gene                                  iModulon  arg_corr  \\\n",
       "Gene_Number                                                             \n",
       "b0112        aroP                    Gluconate, Tyr/Trp/Phe  0.538511   \n",
       "b1747        astA                                    NtrC-1 -0.167614   \n",
       "b1745        astB                                    NtrC-1 -0.178386   \n",
       "b1748        astC                                    NtrC-1 -0.172263   \n",
       "b1746        astD                                    NtrC-1 -0.159616   \n",
       "b1744        astE                                    NtrC-1 -0.211202   \n",
       "b2313        cvpA                                    Purine  0.616543   \n",
       "b0839        dacC                                      UC-7  0.099863   \n",
       "b0812         dps                                OxyR, RpoS -0.220531   \n",
       "b3212        gltB                                  Nitrogen  0.626987   \n",
       "b3213        gltD                                  Nitrogen  0.604855   \n",
       "b3214        gltF                            nquinone ALE 3  0.548522   \n",
       "b4077        gltP                              minicoli KOs  0.111042   \n",
       "b1967        hchA                                RpoS, UC-7  0.005893   \n",
       "b0874        lysO                                     ppGpp  0.556393   \n",
       "b1301        puuB                                Putrescine  0.142402   \n",
       "b4246        pyrL         Resistance, Pyrimidine, Cellulose  0.144404   \n",
       "b3167        rbfA                               Translation  0.080279   \n",
       "b2669        stpA  Lrp, Cellulose, Cold Shock, minicoli KOs  0.410269   \n",
       "b3166        truB                               Translation  0.117987   \n",
       "b3633        waaA                                   PAL Amp  0.294727   \n",
       "b1605        ydgI                                       Lrp -0.012885   \n",
       "b2298        yfcC                                     Fnr-2 -0.027419   \n",
       "b2471        yffB                                 Cellulose -0.221850   \n",
       "b3211        yhcC                              Fnr-3, Fnr-2  0.080420   \n",
       "b3151        yraQ                                  Membrane  0.547694   \n",
       "\n",
       "                                                       iM_corr  \n",
       "Gene_Number                                                     \n",
       "b0112                   -0.4388645727967023, 0.668059657472892  \n",
       "b1747                                       0.8671512233889477  \n",
       "b1745                                        0.841103505231837  \n",
       "b1748                                       0.8568591450481777  \n",
       "b1746                                       0.8284998811806618  \n",
       "b1744                                       0.8082293861735705  \n",
       "b2313                                       0.9050257587418922  \n",
       "b0839                                      -0.8899037650510794  \n",
       "b0812                  0.23708005102185384, 0.8260805784732469  \n",
       "b3212                                      -0.4069533528943708  \n",
       "b3213                                     -0.46950695781812457  \n",
       "b3214                                     -0.24360737985363795  \n",
       "b4077                                       0.6203959738639957  \n",
       "b1967                  0.7264320450709378, -0.7221602810649421  \n",
       "b0874                                       0.6647328756422852  \n",
       "b1301                                         0.94361513369028  \n",
       "b4246        0.32105563480281546, 0.290871471296678, 0.1347...  \n",
       "b3167                                      0.48301985372458506  \n",
       "b2669        0.40310967931514236, 0.4912568845551267, -0.57...  \n",
       "b3166                                       0.6308032483503315  \n",
       "b3633                                      0.28215332434085777  \n",
       "b1605                                      -0.2984713189936069  \n",
       "b2298                                       0.8504640915177536  \n",
       "b2471                                       0.6337239806982383  \n",
       "b3211                   0.8749510404075621, 0.8608330565225347  \n",
       "b3151                                      -0.3868131191087984  "
      ]
     },
     "execution_count": 87,
     "metadata": {},
     "output_type": "execute_result"
    }
   ],
   "source": [
    "import numpy as np\n",
    "\n",
    "# Step 1: Subset the DataFrame for the genes in regonly_otherimos\n",
    "subset_df = P1K_Gene_Presence_Matrix_gene_name.loc[regonly_otherimos]\n",
    "\n",
    "# Step 2: Keep only the columns (iModulons) where the gene is in the iModulon (True values)\n",
    "filtered_df = subset_df.loc[:, subset_df.any()]\n",
    "\n",
    "# Step 3: Create the final DataFrame with the genes and the iModulons they belong to\n",
    "genes_in_other_iModulons_df = filtered_df[filtered_df == True].stack().reset_index()\n",
    "\n",
    "# Rename the columns for clarity\n",
    "genes_in_other_iModulons_df.columns = ['Gene', 'iModulon', 'Presence']\n",
    "\n",
    "# Drop the 'Presence' column, since it will always be True\n",
    "genes_in_other_iModulons_df = genes_in_other_iModulons_df.drop(columns=['Presence'])\n",
    "\n",
    "# Step 4: Group by 'Gene' and concatenate iModulons into a single string\n",
    "genes_in_other_iModulons_combined = genes_in_other_iModulons_df.groupby('Gene')['iModulon'].apply(', '.join).reset_index()\n",
    "\n",
    "# Step 5: Convert gene names to gene numbers using precise1k.name2num()\n",
    "genes_in_other_iModulons_combined['Gene_Number'] = genes_in_other_iModulons_combined['Gene'].apply(precise1k.name2num)\n",
    "\n",
    "# Step 6: Set the 'Gene_Number' as the index\n",
    "genes_in_other_iModulons_combined = genes_in_other_iModulons_combined.set_index('Gene_Number')\n",
    "\n",
    "# Reorder columns to have Gene and iModulon as first and second columns\n",
    "genes_in_other_iModulons_combined = genes_in_other_iModulons_combined[['Gene', 'iModulon']]\n",
    "\n",
    "# Step 7: Add 'arg_corr' column by calculating correlation with 'Arginine'\n",
    "def calculate_correlation(gene_number):\n",
    "    gene_data = precise1k.X.loc[gene_number]\n",
    "    arginine_data = precise1k.A.loc['Arginine']\n",
    "    correlation = np.corrcoef(gene_data, arginine_data)[0, 1]\n",
    "    return correlation\n",
    "\n",
    "# Apply the function to calculate arg_corr for each gene\n",
    "genes_in_other_iModulons_combined['arg_corr'] = genes_in_other_iModulons_combined.index.map(calculate_correlation)\n",
    "\n",
    "# Step 8: Add 'iM_corr' column by calculating correlation with respective iModulon(s)\n",
    "def calculate_im_corr(row):\n",
    "    gene_number = row.name  # Get the gene number from the index\n",
    "    gene_data = precise1k.X.loc[gene_number]\n",
    "    \n",
    "    # Extract respective iModulons from the iModulon column\n",
    "    imodulons = row['iModulon'].split(', ')\n",
    "    \n",
    "    correlations = []\n",
    "    \n",
    "    # Loop through each iModulon and calculate the correlation\n",
    "    for iM in imodulons:\n",
    "        iM_data = precise1k.A.loc[iM]\n",
    "        corr = np.corrcoef(gene_data, iM_data)[0, 1]\n",
    "        correlations.append(str(corr))\n",
    "    \n",
    "    # Join correlations with commas if there are multiple\n",
    "    return ', '.join(correlations)\n",
    "\n",
    "# Apply the function to calculate iM_corr for each gene\n",
    "genes_in_other_iModulons_combined['iM_corr'] = genes_in_other_iModulons_combined.apply(calculate_im_corr, axis=1)\n",
    "\n",
    "# Print or store the resulting DataFrame\n",
    "genes_in_other_iModulons_combined"
   ]
  },
  {
   "cell_type": "markdown",
   "id": "39ce7df0",
   "metadata": {},
   "source": [
    "### case 3.1 example\n",
    "Dual regulator example 1: astCADBE - ArgR/NtrC"
   ]
  },
  {
   "cell_type": "code",
   "execution_count": 27,
   "id": "a4ce91b7",
   "metadata": {
    "execution": {
     "iopub.execute_input": "2024-10-04T15:58:13.334176Z",
     "iopub.status.busy": "2024-10-04T15:58:13.333797Z",
     "iopub.status.idle": "2024-10-04T15:58:13.493279Z",
     "shell.execute_reply": "2024-10-04T15:58:13.492632Z",
     "shell.execute_reply.started": "2024-10-04T15:58:13.334142Z"
    }
   },
   "outputs": [
    {
     "data": {
      "image/png": "[encoded data removed]",
      "text/plain": [
       "<Figure size 432x288 with 1 Axes>"
      ]
     },
     "metadata": {
      "needs_background": "light"
     },
     "output_type": "display_data"
    }
   ],
   "source": [
    "# 3D plot of NtrC, Arginine, and astC\n",
    "\n",
    "# special samples\n",
    "s1_cytd = ['p1k_00167','p1k_00168']\n",
    "s2_misc = ['p1k_00049']\n",
    "\n",
    "# data\n",
    "ntrcA = precise1k.A.loc['NtrC-2'].tolist()\n",
    "argA = precise1k.A.loc['Arginine'].tolist()\n",
    "astC = precise1k.X.loc['b1748'].tolist()\n",
    "\n",
    "# make plot\n",
    "import matplotlib.pyplot as plt\n",
    "from mpl_toolkits.mplot3d import Axes3D\n",
    "fig = plt.figure()\n",
    "ax = fig.add_subplot(111, projection='3d')\n",
    "ax.scatter(ntrcA, argA, astC, alpha = 0.3, color = 'gray',s=30)\n",
    "ax.scatter(precise1k.A.loc['NtrC-2'][s1_cytd].tolist(), precise1k.A.loc['Arginine'][s1_cytd].tolist(), precise1k.X.loc['b1748'][s1_cytd].tolist(),alpha =1, color = 'orange',s=60,label = 'cytd_sample')\n",
    "ax.scatter(precise1k.A.loc['NtrC-2'][s2_misc].tolist(), precise1k.A.loc['Arginine'][s2_misc].tolist(), precise1k.X.loc['b1748'][s2_misc].tolist(),alpha =1, color = 'green',s=60, label = 'misc_sample')\n",
    "ax.set_ylim([min(argA), 6])\n",
    "\n",
    "# Set labels for each axis\n",
    "ax.set_xlabel('NtrC-2 iModulon Activity')\n",
    "ax.set_ylabel('Arginine iModulon Activity')\n",
    "ax.set_zlabel('astC Expression')\n",
    "ax.legend()\n",
    "\n",
    "ax.view_init(elev=30, azim=140)\n",
    "\n",
    "# Display the plot\n",
    "plt.savefig('ntrc_interaction.png')\n",
    "plt.show()"
   ]
  },
  {
   "cell_type": "code",
   "execution_count": 28,
   "id": "9a3cf5ec",
   "metadata": {
    "execution": {
     "iopub.execute_input": "2024-10-04T15:58:13.980981Z",
     "iopub.status.busy": "2024-10-04T15:58:13.980849Z",
     "iopub.status.idle": "2024-10-04T15:58:14.276379Z",
     "shell.execute_reply": "2024-10-04T15:58:14.275623Z",
     "shell.execute_reply.started": "2024-10-04T15:58:13.980968Z"
    }
   },
   "outputs": [
    {
     "data": {
      "image/png": "[encoded data removed]",
      "text/plain": [
       "<Figure size 864x360 with 2 Axes>"
      ]
     },
     "metadata": {
      "needs_background": "light"
     },
     "output_type": "display_data"
    }
   ],
   "source": [
    "import seaborn as sns\n",
    "import matplotlib.pyplot as plt\n",
    "\n",
    "samples = [['p1k_00167','p1k_00168'],'p1k_00049']\n",
    "\n",
    "# Create a figure with two subplots side by side\n",
    "fig, axs = plt.subplots(1, 2, figsize=(12, 5))  # 1 row, 2 columns\n",
    "\n",
    "# Plot for Sample 1\n",
    "sns.kdeplot(argA, color='blue', label='Arginine', ax=axs[0], fill=True)\n",
    "sns.kdeplot(ntrcA, color='red', label='NtrC-2', ax=axs[0], fill=True)\n",
    "axs[0].axvline(precise1k.A[samples[0]].loc['Arginine'].mean(), color='blue', linewidth=5)\n",
    "axs[0].axvline(precise1k.A[samples[0]].loc['NtrC-2'].mean(), color='red', linewidth=5)\n",
    "axs[0].set_xlabel(\"Activity\")\n",
    "axs[0].set_ylabel(\"Sample Counts\")\n",
    "axs[0].legend()\n",
    "axs[0].set_title(\"cytd_sample\")\n",
    "\n",
    "# Plot for Sample 2\n",
    "sns.kdeplot(argA, color='blue', label='Arginine', ax=axs[1], fill=True)\n",
    "sns.kdeplot(ntrcA, color='red', label='NtrC-2', ax=axs[1], fill=True)\n",
    "axs[1].axvline(precise1k.A[samples[1]].loc['Arginine'], color='blue', linewidth=5)\n",
    "axs[1].axvline(precise1k.A[samples[1]].loc['NtrC-2'], color='red', linewidth=5)\n",
    "axs[1].set_xlabel(\"Activity\")\n",
    "axs[1].set_ylabel(\"Sample Counts\")\n",
    "axs[1].legend()\n",
    "axs[1].set_title(\"misc_sample\")\n",
    "\n",
    "# Adjust layout and display the plot\n",
    "plt.tight_layout()\n",
    "plt.show()\n"
   ]
  },
  {
   "cell_type": "markdown",
   "id": "8e32b8f5",
   "metadata": {},
   "source": [
    "## Bitome analysis of binding sites"
   ]
  },
  {
   "cell_type": "markdown",
   "id": "3e562aa4",
   "metadata": {},
   "source": [
    "Look at the binding site similarity in different parts of the argR regulon/iModulon\n",
    "Does it support the idea that ICA works when the binding sites in the regulon have similar properties?\n"
   ]
  },
  {
   "cell_type": "markdown",
   "id": "3e8ed6bb",
   "metadata": {},
   "source": [
    "### Import data"
   ]
  },
  {
   "cell_type": "code",
   "execution_count": 29,
   "id": "fd478e3a",
   "metadata": {},
   "outputs": [],
   "source": [
    "K12_DATA_PATH = Path('../data/bitome2/mg1655')"
   ]
  },
  {
   "cell_type": "code",
   "execution_count": 30,
   "id": "ab8e0869",
   "metadata": {},
   "outputs": [],
   "source": [
    "# from GenBank annotation\n",
    "origin = (3925743, 3925975)\n",
    "# from 1. Duggin, I. G. & Bell, S. D. J. Mol. Biol. (2009). with the following terA/terC sequences:\n",
    "# ter_a = 'AATTAGTATGTTGTAACTAAAGT'\n",
    "# ter_c = 'ATATAGGATGTTGTAACTAATAT'\n",
    "terminus = (1341745, 1609180)"
   ]
  },
  {
   "cell_type": "code",
   "execution_count": 31,
   "id": "4075e5b6",
   "metadata": {},
   "outputs": [],
   "source": [
    "mg1655 = Bitome(\n",
    "    Path(K12_DATA_PATH, 'NC_000913.3.gb'),\n",
    "    name='MG1655',\n",
    "    origin=origin, terminus=terminus,\n",
    "    gene_table=Path(K12_DATA_PATH, 'gene_info_supp.csv'),\n",
    "    tu_table=Path(K12_DATA_PATH, 'tu.csv'),\n",
    "    operon_table=Path(K12_DATA_PATH, 'operon.csv'),\n",
    "    tss_table=Path(K12_DATA_PATH, 'tss.csv'),\n",
    "    # TODO PARSE TTS data\n",
    "    tts_table=None,\n",
    "    tfbs_table=Path(K12_DATA_PATH, 'tfbs.csv'),\n",
    "    terminator_table=Path(K12_DATA_PATH, 'terminator.csv'),\n",
    "    attenuator_table=Path(K12_DATA_PATH, 'attenuator.csv'),\n",
    "    rbs_table=Path(K12_DATA_PATH, 'rbs.csv'),\n",
    "    riboswitch_table=Path(K12_DATA_PATH, 'riboswitch.csv')\n",
    ")"
   ]
  },
  {
   "cell_type": "code",
   "execution_count": 32,
   "id": "50927cb0",
   "metadata": {},
   "outputs": [],
   "source": [
    "#ica_data = load_json_model('../data/precise2.json.gz')\n",
    "ica_data = precise1k"
   ]
  },
  {
   "cell_type": "markdown",
   "id": "ec66d963",
   "metadata": {},
   "source": [
    "## Motif score analysis"
   ]
  },
  {
   "cell_type": "code",
   "execution_count": 33,
   "id": "aa37c548",
   "metadata": {},
   "outputs": [
    {
     "name": "stdout",
     "output_type": "stream",
     "text": [
      "{'carA': 6.15, 'carB': 3.1666667, 'caiF': 2.0, 'argF': 11.3, 'artJ': 14.7, 'artM': 10.724999, 'artQ': 10.724999, 'artI': 10.724999, 'artP': 10.724999, 'hisP': 3.95, 'hisM': 3.95, 'hisQ': 3.95, 'hisJ': 3.95, 'argA': 7.3, 'argG': 15.7, 'argD': 8.6, 'asnA': 9.6, 'argE': 4.5499997, 'argC': 12.6, 'argB': 12.6, 'argH': 12.6, 'argI': 12.3}\n"
     ]
    }
   ],
   "source": [
    "# modify legacy PSSM format into Bitome 2 format\n",
    "tf_pwm_db = rpwm('../data/motif_pwm_db.txt')\n",
    "argR_pwm_old = tf_pwm_db['ArgR']\n",
    "argR_pssm = {base: [pos_dict[base] for pos_dict in argR_pwm_old] for base in 'ATCG'}\n",
    "\n",
    "argR_genes = ica_data.view_imodulon('Arginine')['gene_name'].values\n",
    "\n",
    "gene2score = {}\n",
    "for argR_gene in argR_genes:\n",
    "    tus_for_gene = mg1655._gene_to_tus[ica_data.name2num(argR_gene)]\n",
    "    gene_tu_df = mg1655.tu_table.loc[tus_for_gene]\n",
    "    gene_tu_df_tss = gene_tu_df[gene_tu_df['tss'].notna()]\n",
    "    scores = []\n",
    "    for tu_id, tu_row in gene_tu_df_tss.iterrows():\n",
    "        best_motif_match = mg1655.promoter_motif_search(tu_row.tss, tu_row.strand, argR_pssm)\n",
    "        scores.append(best_motif_match.log_odds.values[0])\n",
    "    if scores:\n",
    "        gene2score[argR_gene] = np.mean(scores)\n",
    "print(gene2score)"
   ]
  },
  {
   "cell_type": "code",
   "execution_count": 34,
   "id": "dd3d1254",
   "metadata": {
    "scrolled": true
   },
   "outputs": [
    {
     "data": {
      "image/png": "[encoded data removed]",
      "text/plain": [
       "<Figure size 576x432 with 1 Axes>"
      ]
     },
     "metadata": {
      "needs_background": "light"
     },
     "output_type": "display_data"
    }
   ],
   "source": [
    "argR_df = ica_data.view_imodulon('Arginine')\n",
    "argR_df['score'] = argR_df['gene_name'].apply(lambda gn: gene2score.get(gn, None))\n",
    "argR_w_motif = argR_df[argR_df['score'].notna()]\n",
    "argR_w_motif = argR_w_motif.set_index('gene_name')\n",
    "\n",
    "_, ax = plt.subplots(figsize=(8, 6))\n",
    "\n",
    "scatterplot(\n",
    "    argR_w_motif['score'], argR_w_motif['gene_weight'],\n",
    "    xlabel='argR Motif Log-Odds Score',\n",
    "    ylabel='argR Gene Weight',\n",
    "    show_labels=True,\n",
    "    fit_line=True,\n",
    "    legend=False,\n",
    "    ax=ax\n",
    ")\n",
    "\n",
    "plt.savefig('iM_logodds.png')"
   ]
  },
  {
   "cell_type": "markdown",
   "id": "8670c8d7",
   "metadata": {},
   "source": [
    "Can we find known ArgP binding sites according to RegulonDB? 28252 28271, and 28272 28291"
   ]
  },
  {
   "cell_type": "code",
   "execution_count": 35,
   "id": "9e81daa7",
   "metadata": {},
   "outputs": [],
   "source": [
    "# modify legacy PSSM format into Bitome 2 format\n",
    "tf_pwm_db = rpwm('../data/motif_pwm_db.txt')\n",
    "argR_pwm_old = tf_pwm_db['ArgR']\n",
    "argR_pssm = {base: [pos_dict[base] for pos_dict in argR_pwm_old] for base in 'ATCG'}"
   ]
  },
  {
   "cell_type": "code",
   "execution_count": 36,
   "id": "097eab28",
   "metadata": {},
   "outputs": [
    {
     "data": {
      "text/html": [
       "<div>\n",
       "<style scoped>\n",
       "    .dataframe tbody tr th:only-of-type {\n",
       "        vertical-align: middle;\n",
       "    }\n",
       "\n",
       "    .dataframe tbody tr th {\n",
       "        vertical-align: top;\n",
       "    }\n",
       "\n",
       "    .dataframe thead th {\n",
       "        text-align: right;\n",
       "    }\n",
       "</style>\n",
       "<table border=\"1\" class=\"dataframe\">\n",
       "  <thead>\n",
       "    <tr style=\"text-align: right;\">\n",
       "      <th></th>\n",
       "      <th>match_sequence</th>\n",
       "      <th>log_odds</th>\n",
       "      <th>left</th>\n",
       "      <th>right</th>\n",
       "    </tr>\n",
       "  </thead>\n",
       "  <tbody>\n",
       "    <tr>\n",
       "      <th>0</th>\n",
       "      <td>AGATCTGAAAGATTGCGCGGT</td>\n",
       "      <td>1.2</td>\n",
       "      <td>28925</td>\n",
       "      <td>28945</td>\n",
       "    </tr>\n",
       "    <tr>\n",
       "      <th>1</th>\n",
       "      <td>AAAAGAGAATAGCTATGCATG</td>\n",
       "      <td>-0.5</td>\n",
       "      <td>28360</td>\n",
       "      <td>28380</td>\n",
       "    </tr>\n",
       "    <tr>\n",
       "      <th>2</th>\n",
       "      <td>AAAGATGATTTTGATGTGTTT</td>\n",
       "      <td>-0.8</td>\n",
       "      <td>28581</td>\n",
       "      <td>28601</td>\n",
       "    </tr>\n",
       "    <tr>\n",
       "      <th>3</th>\n",
       "      <td>CATGATGCAAACATCCGCGTT</td>\n",
       "      <td>-0.9</td>\n",
       "      <td>28377</td>\n",
       "      <td>28397</td>\n",
       "    </tr>\n",
       "    <tr>\n",
       "      <th>4</th>\n",
       "      <td>GATATTGCGATTGTCTTTGCT</td>\n",
       "      <td>-1.0</td>\n",
       "      <td>28731</td>\n",
       "      <td>28751</td>\n",
       "    </tr>\n",
       "  </tbody>\n",
       "</table>\n",
       "</div>"
      ],
      "text/plain": [
       "          match_sequence  log_odds   left  right\n",
       "0  AGATCTGAAAGATTGCGCGGT       1.2  28925  28945\n",
       "1  AAAAGAGAATAGCTATGCATG      -0.5  28360  28380\n",
       "2  AAAGATGATTTTGATGTGTTT      -0.8  28581  28601\n",
       "3  CATGATGCAAACATCCGCGTT      -0.9  28377  28397\n",
       "4  GATATTGCGATTGTCTTTGCT      -1.0  28731  28751"
      ]
     },
     "execution_count": 36,
     "metadata": {},
     "output_type": "execute_result"
    }
   ],
   "source": [
    "mg1655.motif_search(28000, 29000, +1, argR_pssm, n_best_matches=5)"
   ]
  },
  {
   "cell_type": "markdown",
   "id": "225e5e7c",
   "metadata": {},
   "source": [
    "Motif Matching near TSS"
   ]
  },
  {
   "cell_type": "code",
   "execution_count": 37,
   "id": "11fa34c1",
   "metadata": {},
   "outputs": [
    {
     "data": {
      "text/html": [
       "<div>\n",
       "<style scoped>\n",
       "    .dataframe tbody tr th:only-of-type {\n",
       "        vertical-align: middle;\n",
       "    }\n",
       "\n",
       "    .dataframe tbody tr th {\n",
       "        vertical-align: top;\n",
       "    }\n",
       "\n",
       "    .dataframe thead th {\n",
       "        text-align: right;\n",
       "    }\n",
       "</style>\n",
       "<table border=\"1\" class=\"dataframe\">\n",
       "  <thead>\n",
       "    <tr style=\"text-align: right;\">\n",
       "      <th></th>\n",
       "      <th>match_sequence</th>\n",
       "      <th>log_odds</th>\n",
       "      <th>left</th>\n",
       "      <th>right</th>\n",
       "    </tr>\n",
       "  </thead>\n",
       "  <tbody>\n",
       "    <tr>\n",
       "      <th>0</th>\n",
       "      <td>GTTTATCATTAATTTCTAATT</td>\n",
       "      <td>-2.5</td>\n",
       "      <td>28272</td>\n",
       "      <td>28292</td>\n",
       "    </tr>\n",
       "    <tr>\n",
       "      <th>1</th>\n",
       "      <td>ATCATTAATTTCTAATTATCA</td>\n",
       "      <td>-3.2</td>\n",
       "      <td>28276</td>\n",
       "      <td>28296</td>\n",
       "    </tr>\n",
       "    <tr>\n",
       "      <th>2</th>\n",
       "      <td>TAATTTCTAATTATCAGCGTT</td>\n",
       "      <td>-3.4</td>\n",
       "      <td>28281</td>\n",
       "      <td>28301</td>\n",
       "    </tr>\n",
       "    <tr>\n",
       "      <th>3</th>\n",
       "      <td>TATCATTAATTTCTAATTATC</td>\n",
       "      <td>-3.4</td>\n",
       "      <td>28275</td>\n",
       "      <td>28295</td>\n",
       "    </tr>\n",
       "    <tr>\n",
       "      <th>4</th>\n",
       "      <td>ATTTCTAATTATCAGCGTTTT</td>\n",
       "      <td>-3.8</td>\n",
       "      <td>28283</td>\n",
       "      <td>28303</td>\n",
       "    </tr>\n",
       "  </tbody>\n",
       "</table>\n",
       "</div>"
      ],
      "text/plain": [
       "          match_sequence  log_odds   left  right\n",
       "0  GTTTATCATTAATTTCTAATT      -2.5  28272  28292\n",
       "1  ATCATTAATTTCTAATTATCA      -3.2  28276  28296\n",
       "2  TAATTTCTAATTATCAGCGTT      -3.4  28281  28301\n",
       "3  TATCATTAATTTCTAATTATC      -3.4  28275  28295\n",
       "4  ATTTCTAATTATCAGCGTTTT      -3.8  28283  28303"
      ]
     },
     "execution_count": 37,
     "metadata": {},
     "output_type": "execute_result"
    }
   ],
   "source": [
    "mg1655.promoter_motif_search(28288, 1, argR_pssm, n_best_matches=5)"
   ]
  },
  {
   "cell_type": "markdown",
   "id": "f3a312a6",
   "metadata": {},
   "source": [
    "Getting Binding sites from the Bitome"
   ]
  },
  {
   "cell_type": "code",
   "execution_count": 38,
   "id": "ae4d8a1e",
   "metadata": {
    "scrolled": true
   },
   "outputs": [
    {
     "name": "stderr",
     "output_type": "stream",
     "text": [
      "\n",
      "A value is trying to be set on a copy of a slice from a DataFrame.\n",
      "Try using .loc[row_indexer,col_indexer] = value instead\n",
      "\n",
      "See the caveats in the documentation: https://pandas.pydata.org/pandas-docs/stable/user_guide/indexing.html#returning-a-view-versus-a-copy\n"
     ]
    },
    {
     "data": {
      "text/html": [
       "<div>\n",
       "<style scoped>\n",
       "    .dataframe tbody tr th:only-of-type {\n",
       "        vertical-align: middle;\n",
       "    }\n",
       "\n",
       "    .dataframe tbody tr th {\n",
       "        vertical-align: top;\n",
       "    }\n",
       "\n",
       "    .dataframe thead th {\n",
       "        text-align: right;\n",
       "    }\n",
       "</style>\n",
       "<table border=\"1\" class=\"dataframe\">\n",
       "  <thead>\n",
       "    <tr style=\"text-align: right;\">\n",
       "      <th></th>\n",
       "      <th>left</th>\n",
       "      <th>right</th>\n",
       "      <th>mode</th>\n",
       "      <th>final_state</th>\n",
       "      <th>tf</th>\n",
       "      <th>strand</th>\n",
       "      <th>source</th>\n",
       "    </tr>\n",
       "    <tr>\n",
       "      <th>locus_tag</th>\n",
       "      <th></th>\n",
       "      <th></th>\n",
       "      <th></th>\n",
       "      <th></th>\n",
       "      <th></th>\n",
       "      <th></th>\n",
       "      <th></th>\n",
       "    </tr>\n",
       "  </thead>\n",
       "  <tbody>\n",
       "    <tr>\n",
       "      <th>ECK120011181</th>\n",
       "      <td>612650.0</td>\n",
       "      <td>612668</td>\n",
       "      <td>repressor</td>\n",
       "      <td>Fur-Fe&lt;sup&gt;2+&lt;/sup&gt;</td>\n",
       "      <td>Fur</td>\n",
       "      <td>NaN</td>\n",
       "      <td>RegulonDB</td>\n",
       "    </tr>\n",
       "    <tr>\n",
       "      <th>ECK120011181</th>\n",
       "      <td>612650.0</td>\n",
       "      <td>612668</td>\n",
       "      <td>repressor</td>\n",
       "      <td>Fur-Fe&lt;sup&gt;2+&lt;/sup&gt;</td>\n",
       "      <td>Fur</td>\n",
       "      <td>NaN</td>\n",
       "      <td>RegulonDB</td>\n",
       "    </tr>\n",
       "    <tr>\n",
       "      <th>ECK120011184</th>\n",
       "      <td>4516744.0</td>\n",
       "      <td>4516762</td>\n",
       "      <td>repressor</td>\n",
       "      <td>Fur-Fe&lt;sup&gt;2+&lt;/sup&gt;</td>\n",
       "      <td>Fur</td>\n",
       "      <td>NaN</td>\n",
       "      <td>RegulonDB</td>\n",
       "    </tr>\n",
       "    <tr>\n",
       "      <th>ECK120011188</th>\n",
       "      <td>1619005.0</td>\n",
       "      <td>1619019</td>\n",
       "      <td>activator</td>\n",
       "      <td>Fis</td>\n",
       "      <td>Fis</td>\n",
       "      <td>NaN</td>\n",
       "      <td>RegulonDB</td>\n",
       "    </tr>\n",
       "    <tr>\n",
       "      <th>ECK120011192</th>\n",
       "      <td>1619022.0</td>\n",
       "      <td>1619041</td>\n",
       "      <td>activator</td>\n",
       "      <td>Rob</td>\n",
       "      <td>Rob</td>\n",
       "      <td>NaN</td>\n",
       "      <td>RegulonDB</td>\n",
       "    </tr>\n",
       "  </tbody>\n",
       "</table>\n",
       "</div>"
      ],
      "text/plain": [
       "                   left    right       mode          final_state   tf  strand  \\\n",
       "locus_tag                                                                       \n",
       "ECK120011181   612650.0   612668  repressor  Fur-Fe<sup>2+</sup>  Fur     NaN   \n",
       "ECK120011181   612650.0   612668  repressor  Fur-Fe<sup>2+</sup>  Fur     NaN   \n",
       "ECK120011184  4516744.0  4516762  repressor  Fur-Fe<sup>2+</sup>  Fur     NaN   \n",
       "ECK120011188  1619005.0  1619019  activator                  Fis  Fis     NaN   \n",
       "ECK120011192  1619022.0  1619041  activator                  Rob  Rob     NaN   \n",
       "\n",
       "                 source  \n",
       "locus_tag                \n",
       "ECK120011181  RegulonDB  \n",
       "ECK120011181  RegulonDB  \n",
       "ECK120011184  RegulonDB  \n",
       "ECK120011188  RegulonDB  \n",
       "ECK120011192  RegulonDB  "
      ]
     },
     "execution_count": 38,
     "metadata": {},
     "output_type": "execute_result"
    }
   ],
   "source": [
    "bitome_tfbs_df = mg1655.tfbs_table[mg1655.tfbs_table['left'].notna()]\n",
    "bitome_tfbs_df['source'] = 'RegulonDB'\n",
    "bitome_tfbs_df.head()"
   ]
  },
  {
   "cell_type": "code",
   "execution_count": 82,
   "id": "54e94a8b",
   "metadata": {},
   "outputs": [],
   "source": [
    "### Now looking at motifs of genes in iM vs Regulon"
   ]
  },
  {
   "cell_type": "code",
   "execution_count": 39,
   "id": "a72fba8e",
   "metadata": {},
   "outputs": [
    {
     "name": "stdout",
     "output_type": "stream",
     "text": [
      "{'carA': 6.15, 'carB': 3.1666667, 'caiF': 2.0, 'argF': 11.3, 'artJ': 14.7, 'artM': 10.724999, 'artQ': 10.724999, 'artI': 10.724999, 'artP': 10.724999, 'hisP': 3.95, 'hisM': 3.95, 'hisQ': 3.95, 'hisJ': 3.95, 'argA': 7.3, 'argG': 15.7, 'argD': 8.6, 'asnA': 9.6, 'argE': 4.5499997, 'argC': 12.6, 'argB': 12.6, 'argH': 12.6, 'argI': 12.3}\n"
     ]
    },
    {
     "data": {
      "text/plain": [
       "<AxesSubplot:xlabel='argR Motif Log-Odds Score', ylabel='argR Gene Weight'>"
      ]
     },
     "execution_count": 39,
     "metadata": {},
     "output_type": "execute_result"
    },
    {
     "data": {
      "image/png": "[encoded data removed]",
      "text/plain": [
       "<Figure size 576x432 with 1 Axes>"
      ]
     },
     "metadata": {
      "needs_background": "light"
     },
     "output_type": "display_data"
    }
   ],
   "source": [
    "ArgR_iM_Genes\n",
    "gene2score_iM = {}\n",
    "for argR_gene in ArgR_iM_Genes:\n",
    "    tus_for_gene = mg1655._gene_to_tus[ica_data.name2num(argR_gene)]\n",
    "    gene_tu_df = mg1655.tu_table.loc[tus_for_gene]\n",
    "    gene_tu_df_tss = gene_tu_df[gene_tu_df['tss'].notna()]\n",
    "    scores = []\n",
    "    for tu_id, tu_row in gene_tu_df_tss.iterrows():\n",
    "        best_motif_match = mg1655.promoter_motif_search(tu_row.tss, tu_row.strand, argR_pssm)\n",
    "        scores.append(best_motif_match.log_odds.values[0])\n",
    "    if scores:\n",
    "        gene2score_iM[argR_gene] = np.mean(scores)\n",
    "print(gene2score_iM)\n",
    "\n",
    "argR_df = ica_data.view_imodulon('Arginine')\n",
    "argR_df['score'] = argR_df['gene_name'].apply(lambda gn: gene2score_iM.get(gn, None))\n",
    "argR_w_motif = argR_df[argR_df['score'].notna()]\n",
    "argR_w_motif = argR_w_motif.set_index('gene_name')\n",
    "\n",
    "_, ax = plt.subplots(figsize=(8, 6))\n",
    "\n",
    "scatterplot(\n",
    "    argR_w_motif['score'], argR_w_motif['gene_weight'],\n",
    "    xlabel='argR Motif Log-Odds Score',\n",
    "    ylabel='argR Gene Weight',\n",
    "    show_labels=True,\n",
    "    fit_line=True,\n",
    "    legend=False,\n",
    "    ax=ax\n",
    ")"
   ]
  },
  {
   "cell_type": "code",
   "execution_count": 40,
   "id": "30459f63",
   "metadata": {
    "scrolled": true
   },
   "outputs": [
    {
     "name": "stdout",
     "output_type": "stream",
     "text": [
      "{'argA': 7.3, 'argB': 12.6, 'argC': 12.6, 'argD': 8.6, 'argE': 4.5499997, 'argF': 11.3, 'argG': 15.7, 'argH': 12.6, 'argI': 12.3, 'argR': 7.2, 'aroK': 3.4, 'aroP': -1.4, 'artI': 10.724999, 'artJ': 14.7, 'artM': 10.724999, 'artP': 10.724999, 'artQ': 10.724999, 'astA': 1.1, 'astB': 1.1, 'astC': 1.1, 'astD': 1.1, 'astE': 1.1, 'carA': 6.15, 'carB': 3.1666667, 'cvpA': -0.2, 'dacC': 5.1, 'dps': -0.1, 'ftsZ': -1.47, 'gltB': 2.7, 'gltD': 2.7, 'gltF': 2.7, 'hchA': 0.19999999, 'hisJ': 3.95, 'hisM': 3.95, 'hisP': 3.95, 'hisQ': 3.95, 'infB': 0.46666667, 'lrp': 3.8, 'lysO': 8.5, 'mukE': -0.6, 'nusA': 1.02, 'pfkB': 4.6, 'pnp': 3.35, 'potF': 9.55, 'puuB': 4.5499997, 'rbfA': 3.85, 'rimP': 2.25, 'rpsO': 2.925, 'stpA': 3.0, 'truB': 3.85, 'waaA': 0.13333333, 'yaaU': -1.1}\n"
     ]
    },
    {
     "name": "stderr",
     "output_type": "stream",
     "text": [
      "\n",
      "A value is trying to be set on a copy of a slice from a DataFrame.\n",
      "Try using .loc[row_indexer,col_indexer] = value instead\n",
      "\n",
      "See the caveats in the documentation: https://pandas.pydata.org/pandas-docs/stable/user_guide/indexing.html#returning-a-view-versus-a-copy\n"
     ]
    },
    {
     "data": {
      "text/plain": [
       "b0032     6.150000\n",
       "b0033     3.166667\n",
       "b0045    -1.100000\n",
       "b0095    -1.470000\n",
       "b0112    -1.400000\n",
       "           ...    \n",
       "b3959    12.600000\n",
       "b3960    12.600000\n",
       "b4077          NaN\n",
       "b4246          NaN\n",
       "b4254    12.300000\n",
       "Name: score, Length: 61, dtype: float64"
      ]
     },
     "execution_count": 40,
     "metadata": {},
     "output_type": "execute_result"
    }
   ],
   "source": [
    "ArgR_Regulon_Genes = Regulon_DB_TRN_filtered.index[Regulon_DB_TRN_filtered['ArgR']==1].to_list()\n",
    "gene2score_Regulon = {}\n",
    "for argR_gene in ArgR_Regulon_Genes:\n",
    "    tus_for_gene = mg1655._gene_to_tus[ica_data.name2num(argR_gene)]\n",
    "    gene_tu_df = mg1655.tu_table.loc[tus_for_gene]\n",
    "    gene_tu_df_tss = gene_tu_df[gene_tu_df['tss'].notna()]\n",
    "    scores = []\n",
    "    for tu_id, tu_row in gene_tu_df_tss.iterrows():\n",
    "        best_motif_match = mg1655.promoter_motif_search(tu_row.tss, tu_row.strand, argR_pssm)\n",
    "        scores.append(best_motif_match.log_odds.values[0])\n",
    "    if scores:\n",
    "        gene2score_Regulon[argR_gene] = np.mean(scores)\n",
    "print(gene2score_Regulon)\n",
    "\n",
    "#Replace argR_df with the whole gene table - ica_data.gene_table then take just the regulon genes\n",
    "argR_df = ica_data.gene_table.loc[ica_data.gene_table['gene_name'].isin(ArgR_Regulon_Genes)]  \n",
    "argR_df['score'] = argR_df['gene_name'].apply(lambda gn: gene2score_Regulon.get(gn, None))\n",
    "argR_w_motif = argR_df[argR_df['score'].notna()]\n",
    "argR_w_motif = argR_w_motif.set_index('gene_name')\n",
    "argR_df['score']\n"
   ]
  },
  {
   "cell_type": "code",
   "execution_count": 113,
   "id": "ab50ca26",
   "metadata": {},
   "outputs": [
    {
     "name": "stdout",
     "output_type": "stream",
     "text": [
      "['xynR', 'caiF', 'asnA', 'dtpD']\n"
     ]
    }
   ],
   "source": [
    "ArgR_Intersect = list(set(ArgR_iM_Genes) & set(ArgR_Regulon_Genes))\n",
    "ArgR_iMOnly_Genes = list(set(ArgR_iM_Genes).symmetric_difference(ArgR_Intersect))\n",
    "print(ArgR_iMOnly_Genes)"
   ]
  },
  {
   "cell_type": "code",
   "execution_count": 114,
   "id": "b91976c1",
   "metadata": {},
   "outputs": [
    {
     "name": "stdout",
     "output_type": "stream",
     "text": [
      "['aroK', 'hchA', 'gltB', 'astB', 'astA', 'truB', 'astD', 'infB', 'cvpA', 'yraQ', 'ftsZ', 'nusA', 'argR', 'dacC', 'ydgI', 'yfcC', 'yhcC', 'ykgA', 'lysO', 'pyrL', 'astC', 'dps', 'yaaU', 'stpA', 'rpsO', 'gltP', 'gltD', 'potF', 'yffB', 'puuB', 'gltF', 'eutS', 'pnp', 'rbfA', 'mukE', 'aroP', 'lrp', 'astE', 'rimP', 'pfkB', 'waaA']\n"
     ]
    }
   ],
   "source": [
    "ArgR_RegulonOnly_Genes = list(set(ArgR_Regulon_Genes).symmetric_difference(ArgR_Intersect))\n",
    "print(ArgR_RegulonOnly_Genes)"
   ]
  },
  {
   "cell_type": "code",
   "execution_count": null,
   "id": "2993a28c",
   "metadata": {},
   "outputs": [],
   "source": []
  },
  {
   "cell_type": "markdown",
   "id": "75cdfb3e-11b3-4b6e-9864-e5b25e1a3d8c",
   "metadata": {},
   "source": [
    "## M augmentation"
   ]
  },
  {
   "cell_type": "markdown",
   "id": "962dfe26-3cfe-47e5-9fb0-ca27b795a46e",
   "metadata": {},
   "source": [
    "### useful functions"
   ]
  },
  {
   "cell_type": "code",
   "execution_count": 27,
   "id": "29180865-f28e-45ec-997b-6451ae029691",
   "metadata": {
    "execution": {
     "iopub.execute_input": "2024-10-04T16:03:35.340646Z",
     "iopub.status.busy": "2024-10-04T16:03:35.340308Z",
     "iopub.status.idle": "2024-10-04T16:03:35.344359Z",
     "shell.execute_reply": "2024-10-04T16:03:35.343753Z",
     "shell.execute_reply.started": "2024-10-04T16:03:35.340631Z"
    }
   },
   "outputs": [],
   "source": [
    "def get_genes_in_component(df, component):\n",
    "    # Filtering the dataframe for True values in the specified component\n",
    "    # The result is a series of True/False values for each row\n",
    "    gene_presence_in_component = df[str(component)]\n",
    "    \n",
    "    # Filtering the series to only include rows (genes) where the value is True\n",
    "    genes_in_component = gene_presence_in_component[gene_presence_in_component]\n",
    "    \n",
    "    # The indices of the series now correspond to the gene names, \n",
    "    # so we can return them as a list\n",
    "    return genes_in_component.index.tolist()"
   ]
  },
  {
   "cell_type": "code",
   "execution_count": 28,
   "id": "3dd2f1d8-9f10-4968-bf35-4b269ce19301",
   "metadata": {
    "execution": {
     "iopub.execute_input": "2024-10-04T16:03:35.519519Z",
     "iopub.status.busy": "2024-10-04T16:03:35.519223Z",
     "iopub.status.idle": "2024-10-04T16:03:35.526562Z",
     "shell.execute_reply": "2024-10-04T16:03:35.525727Z",
     "shell.execute_reply.started": "2024-10-04T16:03:35.519489Z"
    }
   },
   "outputs": [],
   "source": [
    "def calculate_and_filter_correlations(gene_ids, regulator, log_tpm_precise_1k, A_p1k, iM_table, corr_threshold=0.5):\n",
    "    \"\"\"\n",
    "    Calculate correlation between gene expression and regulator activity for each gene,\n",
    "    convert the result to a dataframe, and filter out rows with correlation smaller than the threshold.\n",
    "\n",
    "    \"\"\"\n",
    "    # Calculate correlations\n",
    "    regulator_activity = A_p1k.loc[iM_table[iM_table['regulator_readable'] == regulator].index.tolist()[0]]\n",
    "\n",
    "    correlation_dict = {}\n",
    "    for gene_id in gene_ids:\n",
    "        gene_expression = log_tpm_precise_1k.loc[gene_id]\n",
    "        correlation = gene_expression.corr(regulator_activity)\n",
    "        correlation_dict[gene_id] = correlation\n",
    "\n",
    "    # Convert to dataframe and filter\n",
    "    df = pd.DataFrame.from_dict(correlation_dict, orient='index', columns=['Correlation'])\n",
    "    df = df[df['Correlation'] >= corr_threshold]\n",
    "\n",
    "    return df.index.to_list()"
   ]
  },
  {
   "cell_type": "code",
   "execution_count": 52,
   "id": "df536e17-605d-41bd-b4a5-e8b0f0d2599b",
   "metadata": {
    "execution": {
     "iopub.execute_input": "2024-10-04T16:20:34.005862Z",
     "iopub.status.busy": "2024-10-04T16:20:34.005496Z",
     "iopub.status.idle": "2024-10-04T16:20:34.010861Z",
     "shell.execute_reply": "2024-10-04T16:20:34.009988Z",
     "shell.execute_reply.started": "2024-10-04T16:20:34.005831Z"
    }
   },
   "outputs": [],
   "source": [
    "def get_gene_ids(dataframe, regulator):\n",
    "    \n",
    "    # Get all gene_ids for a specific regulator\n",
    "    gene_ids = dataframe[dataframe['regulator'] == regulator]['gene_id'].tolist()\n",
    "    return gene_ids"
   ]
  },
  {
   "cell_type": "code",
   "execution_count": 30,
   "id": "5ac26043-3485-4a4d-ae3d-6eb1f27635fc",
   "metadata": {
    "execution": {
     "iopub.execute_input": "2024-10-04T16:03:35.973995Z",
     "iopub.status.busy": "2024-10-04T16:03:35.973699Z",
     "iopub.status.idle": "2024-10-04T16:03:35.983170Z",
     "shell.execute_reply": "2024-10-04T16:03:35.982260Z",
     "shell.execute_reply.started": "2024-10-04T16:03:35.973965Z"
    }
   },
   "outputs": [],
   "source": [
    "import matplotlib.pyplot as plt\n",
    "from matplotlib_venn import venn2\n",
    "\n",
    "def venn_plot_and_genes(regulon, genes, regulator):\n",
    "    \"\"\"\n",
    "    Create a Venn diagram comparing the genes in the given dataframe with the original genes,\n",
    "    and print the genes in each subset of the diagram.\n",
    "    \n",
    "    \"\"\"\n",
    "    # Convert to sets\n",
    "    new_genes = set(regulon)\n",
    "    original_genes = set(genes)\n",
    "\n",
    "    # Plot Venn diagram\n",
    "    plt.figure(figsize=(4, 3))\n",
    "    venn2([new_genes, original_genes], set_labels = ('Regulon Genes', 'Updated Genes'))\n",
    "    plt.title(f'Venn Diagram for {regulator}')\n",
    "    plt.show()\n",
    "\n",
    "    # Print gene lists\n",
    "    # Only in filtered_genes\n",
    "    only_in_new = new_genes - original_genes\n",
    "    #print(\"Only in Regulon:\", only_in_new)\n",
    "\n",
    "    # Only in original_genes\n",
    "    only_in_original = original_genes - new_genes\n",
    "    #print(\"Only in updated genes:\", only_in_original)\n",
    "\n",
    "    # Intersection of both\n",
    "    intersection = new_genes & original_genes\n",
    "    #print(\"In both Regulon and updated genes:\", intersection)"
   ]
  },
  {
   "cell_type": "code",
   "execution_count": 31,
   "id": "f161d397-0baa-4835-acc3-146b362a8cbe",
   "metadata": {
    "execution": {
     "iopub.execute_input": "2024-10-04T16:03:36.346330Z",
     "iopub.status.busy": "2024-10-04T16:03:36.346018Z",
     "iopub.status.idle": "2024-10-04T16:03:36.354791Z",
     "shell.execute_reply": "2024-10-04T16:03:36.353936Z",
     "shell.execute_reply.started": "2024-10-04T16:03:36.346299Z"
    }
   },
   "outputs": [],
   "source": [
    "def explained_variance_subset_genes(A_p1k, M_p1k, log_tpm_precise_1k, component, genes_list):\n",
    "    # Copy the dataframe to avoid altering the original data\n",
    "    M_p1k_copied = M_p1k.copy()\n",
    "    \n",
    "    # Set the values for other genes to 0 for specific component\n",
    "    M_p1k_copied.loc[~M_p1k_copied.index.isin(genes_list), str(component)] = 0\n",
    "    \n",
    "    # Get samples that exist in both dataframes\n",
    "    common_samples = list(set(A_p1k.columns) & set(log_tpm_precise_1k.columns))\n",
    "\n",
    "    # Subset dataframes by these common samples\n",
    "    A_p1k = A_p1k[common_samples]\n",
    "    log_tpm_precise_1k = log_tpm_precise_1k[common_samples]\n",
    "\n",
    "    # Center the log_tpm_precise_1k dataframe\n",
    "    centered = log_tpm_precise_1k.subtract(log_tpm_precise_1k.mean(axis=0), axis=1)\n",
    "\n",
    "    # Initialize variables\n",
    "    base_err = np.linalg.norm(centered.values) ** 2\n",
    "\n",
    "    # Compute component contribution\n",
    "    ma_arr = np.dot(\n",
    "        M_p1k_copied.loc[:, str(component)].values.reshape(len(M_p1k), 1),\n",
    "        A_p1k.loc[component, :].values.reshape(1, len(common_samples)),\n",
    "    )\n",
    "\n",
    "    # Compute variance explained by this component only\n",
    "    sa_err = np.linalg.norm(ma_arr - centered.values) ** 2\n",
    "    rec_var = (1 - sa_err / base_err)\n",
    "    explained_variance = np.clip(rec_var, 0, 1)\n",
    "\n",
    "    return explained_variance"
   ]
  },
  {
   "cell_type": "code",
   "execution_count": 32,
   "id": "6b7921d9-449a-438e-9e95-9db4ad0e4d91",
   "metadata": {
    "execution": {
     "iopub.execute_input": "2024-10-04T16:03:36.641753Z",
     "iopub.status.busy": "2024-10-04T16:03:36.641456Z",
     "iopub.status.idle": "2024-10-04T16:03:36.649759Z",
     "shell.execute_reply": "2024-10-04T16:03:36.648943Z",
     "shell.execute_reply.started": "2024-10-04T16:03:36.641722Z"
    }
   },
   "outputs": [],
   "source": [
    "def compute_EV_diff_for_each_gene(A_p1k, M_p1k, log_tpm_precise_1k, component, original_genes, regulon_genes):\n",
    "    # Initialize an empty dataframe to store the results\n",
    "    explained_variance_change = pd.DataFrame(columns=['gene_name', 'change_explained_variance'])\n",
    "    \n",
    "    # Initialize a copy of original_genes to hold the new genes\n",
    "    new_genes = original_genes.copy()\n",
    "\n",
    "    # Loop over the regulon_genes list\n",
    "    for gene in regulon_genes:\n",
    "        # Check if the gene is not in the original_genes list\n",
    "        if gene not in original_genes:\n",
    "            # Add the gene to the original_genes list\n",
    "            original_genes.append(gene)\n",
    "\n",
    "            # Compute the explained variance with the new gene added\n",
    "            new_variance = explained_variance_subset_genes(A_p1k, M_p1k, log_tpm_precise_1k, component, original_genes)\n",
    "\n",
    "            # Remove the gene from the original_genes list\n",
    "            original_genes.remove(gene)\n",
    "\n",
    "            # Compute the explained variance without the new gene\n",
    "            original_variance = explained_variance_subset_genes(A_p1k, M_p1k, log_tpm_precise_1k, component, original_genes)\n",
    "\n",
    "            # Compute the change in explained variance\n",
    "            change_variance = new_variance - original_variance\n",
    "\n",
    "            # Append the result to the dataframe\n",
    "            explained_variance_change = explained_variance_change.append({'gene_name': gene, 'change_explained_variance': change_variance}, ignore_index=True)\n",
    "\n",
    "            # If the change in variance is positive, add the gene to new_genes\n",
    "            if change_variance > 0:\n",
    "                new_genes.append(gene)\n",
    "\n",
    "    # Sort the dataframe by the change_explained_variance column in descending order\n",
    "    explained_variance_change = explained_variance_change.sort_values(by='change_explained_variance', ascending=False)\n",
    "\n",
    "    # Reset the index of the dataframe\n",
    "    explained_variance_change = explained_variance_change.reset_index(drop=True)\n",
    "\n",
    "    # Return the resulting dataframe and the new list of genes\n",
    "    return explained_variance_change, new_genes"
   ]
  },
  {
   "cell_type": "code",
   "execution_count": 33,
   "id": "c412c698-8daf-4d83-b888-536700a7bb87",
   "metadata": {
    "execution": {
     "iopub.execute_input": "2024-10-04T16:03:37.083069Z",
     "iopub.status.busy": "2024-10-04T16:03:37.082772Z",
     "iopub.status.idle": "2024-10-04T16:03:37.089579Z",
     "shell.execute_reply": "2024-10-04T16:03:37.088768Z",
     "shell.execute_reply.started": "2024-10-04T16:03:37.083040Z"
    }
   },
   "outputs": [],
   "source": [
    "def compute_and_print_variances(A_p1k, M_p1k, log_tpm_precise_1k, iM_table, original_genes, regulon_genes, new_genes):\n",
    "    component = iM_table[iM_table['regulator_readable'] == 'ArgR'].index.tolist()[0]\n",
    "    original_genes_variance = explained_variance_subset_genes(A_p1k, M_p1k, log_tpm_precise_1k, component, original_genes)\n",
    "    regulon_genes_variance = explained_variance_subset_genes(A_p1k, M_p1k, log_tpm_precise_1k, component, regulon_genes)\n",
    "    component_original = explained_variance_subset_genes(A_p1k, M_p1k, log_tpm_precise_1k, component, log_tpm_precise_1k.index.to_list())\n",
    "    new_genes_variance = explained_variance_subset_genes(A_p1k, M_p1k, log_tpm_precise_1k, component, new_genes)\n",
    "\n",
    "    print(\"Variance explained by original_genes: \", original_genes_variance)\n",
    "    print(\"Variance explained by regulon_genes: \", regulon_genes_variance)\n",
    "    print(\"Variance explained by original component: \", component_original)\n",
    "    print(\"Variance explained by new_genes: \", new_genes_variance)"
   ]
  },
  {
   "cell_type": "code",
   "execution_count": 45,
   "id": "034b75c5-d964-4c62-942b-c1a80374c1f5",
   "metadata": {
    "execution": {
     "iopub.execute_input": "2024-10-04T16:08:00.059308Z",
     "iopub.status.busy": "2024-10-04T16:08:00.058958Z",
     "iopub.status.idle": "2024-10-04T16:08:00.064835Z",
     "shell.execute_reply": "2024-10-04T16:08:00.063937Z",
     "shell.execute_reply.started": "2024-10-04T16:08:00.059293Z"
    }
   },
   "outputs": [
    {
     "name": "stdout",
     "output_type": "stream",
     "text": [
      "['b0032', 'b0033', 'b0034', 'b0272', 'b0273', 'b0709', 'b0860', 'b0861', 'b0862', 'b0863', 'b0864', 'b2306', 'b2307', 'b2308', 'b2309', 'b2818', 'b3172', 'b3359', 'b3744', 'b3957', 'b3958', 'b3959', 'b3960', 'b4254']\n"
     ]
    }
   ],
   "source": [
    "ArgR_original_genes = get_genes_in_component(P1K_Gene_Presence_Matrix, list(iM_table[iM_table['regulator_readable'] == 'ArgR']['name'])[0])\n",
    "print(ArgR_original_genes)"
   ]
  },
  {
   "cell_type": "code",
   "execution_count": 53,
   "id": "0db09d85-fc70-4ed1-ae3e-316a22a2c7ca",
   "metadata": {
    "execution": {
     "iopub.execute_input": "2024-10-04T16:20:36.784300Z",
     "iopub.status.busy": "2024-10-04T16:20:36.783939Z",
     "iopub.status.idle": "2024-10-04T16:20:36.791394Z",
     "shell.execute_reply": "2024-10-04T16:20:36.790497Z",
     "shell.execute_reply.started": "2024-10-04T16:20:36.784269Z"
    }
   },
   "outputs": [
    {
     "name": "stdout",
     "output_type": "stream",
     "text": [
      "['b3960', 'b3172', 'b0273', 'b3957', 'b3166', 'b3359', 'b4254', 'b3959', 'b2818', 'b3958', 'b3165', 'b3170', 'b0860', 'b0861', 'b0864', 'b0862', 'b1747', 'b1745', 'b1748', 'b1746', 'b1744', 'b0032', 'b0863', 'b0033', 'b3212', 'b3213', 'b3214', 'b2309', 'b2307', 'b2306', 'b2308', 'b3168', 'b0874', 'b3169', 'b3164', 'b3167', 'b3237', 'b0923', 'b1723', 'b2669', 'b1967', 'b1605', 'b0045', 'b3633', 'b2298', 'b2313', 'b0839', 'b1301', 'b0854', 'b0812', 'b0300', 'b4077', 'b0112', 'b2471', 'b3151', 'b3211', 'b0889', 'b3390', 'b4246', 'b2462', 'b0095']\n"
     ]
    }
   ],
   "source": [
    "ArgR_regulon_genes = get_gene_ids(Regulon_DB_P1K, \"ArgR\")\n",
    "print(ArgR_regulon_genes)"
   ]
  },
  {
   "cell_type": "code",
   "execution_count": 23,
   "id": "663c57c6-2903-4daa-945c-d0fd19b897e1",
   "metadata": {},
   "outputs": [
    {
     "name": "stdout",
     "output_type": "stream",
     "text": [
      "['b3960', 'b3172', 'b0273', 'b3957', 'b3359', 'b4254', 'b3959', 'b2818', 'b3958', 'b0860', 'b0032', 'b0033', 'b3212', 'b3213', 'b3214', 'b2309', 'b2307', 'b2306', 'b2308', 'b0874', 'b3237', 'b2313', 'b0112', 'b3151', 'b0889']\n"
     ]
    }
   ],
   "source": [
    "ArgR_genes_from_corr = calculate_and_filter_correlations(ArgR_regulon_genes, \"ArgR\", log_tpm_precise_1k, A_p1k, iM_table, corr_threshold=0.5)\n",
    "print(ArgR_genes_from_corr)"
   ]
  },
  {
   "cell_type": "code",
   "execution_count": 24,
   "id": "61856968-2112-458c-b79f-63c49d405886",
   "metadata": {},
   "outputs": [],
   "source": [
    "ArgR_corr_genes = set(ArgR_genes_from_corr+ArgR_original_genes)"
   ]
  },
  {
   "cell_type": "code",
   "execution_count": 25,
   "id": "0fc79325-b66f-47d5-8fcd-a584987397be",
   "metadata": {},
   "outputs": [
    {
     "data": {
      "image/png": "[encoded data removed]",
      "text/plain": [
       "<Figure size 400x300 with 1 Axes>"
      ]
     },
     "metadata": {},
     "output_type": "display_data"
    },
    {
     "name": "stdout",
     "output_type": "stream",
     "text": [
      "Variance explained by original_genes:  0.007256095475200897\n",
      "Variance explained by regulon_genes:  0.0069551261356307625\n",
      "Variance explained by original component:  0.007572620446356759\n",
      "Variance explained by new_genes:  0.007727355554288162\n"
     ]
    }
   ],
   "source": [
    "explained_variance_change, ArgR_new_genes = compute_EV_diff_for_each_gene(A_p1k, M_p1k, log_tpm_precise_1k, iM_table[iM_table['regulator_readable'] == 'ArgR'].index.tolist()[0], ArgR_original_genes, ArgR_regulon_genes)\n",
    "venn_plot_and_genes(ArgR_regulon_genes, ArgR_new_genes, 'ArgR')\n",
    "compute_and_print_variances(A_p1k, M_p1k, log_tpm_precise_1k, iM_table, ArgR_original_genes, ArgR_regulon_genes, ArgR_new_genes)"
   ]
  },
  {
   "cell_type": "code",
   "execution_count": 30,
   "id": "30936ef5-de09-4424-a6ff-b42c73f73216",
   "metadata": {},
   "outputs": [],
   "source": [
    "import matplotlib.pyplot as plt\n",
    "from matplotlib_venn import venn2\n",
    "\n",
    "def venn_plot_and_genes_original(regulon, genes, regulator):\n",
    "    \"\"\"\n",
    "    Create a Venn diagram comparing the genes in the given dataframe with the original genes,\n",
    "    and print the genes in each subset of the diagram.\n",
    "    \n",
    "    \"\"\"\n",
    "    # Convert to sets\n",
    "    new_genes = set(regulon)\n",
    "    original_genes = set(genes)\n",
    "\n",
    "    # Plot Venn diagram\n",
    "    plt.figure(figsize=(4, 3))\n",
    "    venn2([new_genes, original_genes], set_labels = ('Regulon Genes', 'Original Genes'))\n",
    "    plt.title(f'Venn Diagram for {regulator}')\n",
    "    plt.show()\n",
    "\n",
    "    # Print gene lists\n",
    "    # Only in filtered_genes\n",
    "    only_in_new = new_genes - original_genes\n",
    "    #print(\"Only in Regulon:\", only_in_new)\n",
    "\n",
    "    # Only in original_genes\n",
    "    only_in_original = original_genes - new_genes\n",
    "    #print(\"Only in updated genes:\", only_in_original)\n",
    "\n",
    "    # Intersection of both\n",
    "    intersection = new_genes & original_genes\n",
    "    #print(\"In both Regulon and updated genes:\", intersection)"
   ]
  },
  {
   "cell_type": "code",
   "execution_count": 31,
   "id": "202a9eb6-9c54-41c0-8a22-d9cc351a859b",
   "metadata": {},
   "outputs": [
    {
     "data": {
      "image/png": "[encoded data removed]",
      "text/plain": [
       "<Figure size 400x300 with 1 Axes>"
      ]
     },
     "metadata": {},
     "output_type": "display_data"
    }
   ],
   "source": [
    "venn_plot_and_genes_original(ArgR_regulon_genes, ArgR_original_genes, 'ArgR')"
   ]
  },
  {
   "cell_type": "code",
   "execution_count": 33,
   "id": "54124d0d-b94e-4eed-9290-f4a17209da6f",
   "metadata": {},
   "outputs": [
    {
     "name": "stdout",
     "output_type": "stream",
     "text": [
      "   gene_name  change_explained_variance\n",
      "0      b4246               7.641517e-05\n",
      "1      b0854               7.146228e-05\n",
      "2      b3212               6.455102e-05\n",
      "3      b3213               4.682758e-05\n",
      "4      b0874               4.118248e-05\n",
      "5      b2313               3.615611e-05\n",
      "6      b1301               2.636979e-05\n",
      "7      b3214               2.586112e-05\n",
      "8      b3151               2.314424e-05\n",
      "9      b2471               1.941619e-05\n",
      "10     b0889               1.112272e-05\n",
      "11     b3237               9.605101e-06\n",
      "12     b2462               7.051721e-06\n",
      "13     b1745               4.323461e-06\n",
      "14     b1744               2.952860e-06\n",
      "15     b0045               2.166561e-06\n",
      "16     b3170               1.585728e-06\n",
      "17     b3390               9.476038e-07\n",
      "18     b3169               1.140467e-07\n",
      "19     b0095               4.287580e-09\n",
      "20     b3165              -3.656540e-08\n",
      "21     b3168              -5.771196e-08\n",
      "22     b3164              -8.722684e-08\n",
      "23     b3167              -1.008441e-07\n",
      "24     b3166              -3.321577e-07\n",
      "25     b1746              -5.444107e-07\n",
      "26     b0923              -1.099585e-06\n",
      "27     b0839              -1.211796e-06\n",
      "28     b1723              -3.272745e-06\n",
      "29     b4077              -4.654105e-06\n",
      "30     b0300              -4.981050e-06\n",
      "31     b3633              -5.857720e-06\n",
      "32     b0112              -1.185661e-05\n",
      "33     b1748              -1.864838e-05\n",
      "34     b1747              -2.224994e-05\n",
      "35     b1605              -2.475087e-05\n",
      "36     b3211              -3.700995e-05\n",
      "37     b1967              -3.714065e-05\n",
      "38     b0812              -3.753825e-05\n",
      "39     b2298              -5.480752e-05\n",
      "40     b2669              -1.162872e-04\n"
     ]
    }
   ],
   "source": [
    "print(explained_variance_change)"
   ]
  },
  {
   "cell_type": "code",
   "execution_count": 38,
   "id": "9192d992-2d80-4d8c-ae16-f7f5ae7fd73b",
   "metadata": {
    "scrolled": true
   },
   "outputs": [
    {
     "data": {
      "image/png": "[encoded data removed]",
      "text/plain": [
       "<Figure size 640x480 with 1 Axes>"
      ]
     },
     "metadata": {},
     "output_type": "display_data"
    }
   ],
   "source": [
    "from matplotlib_venn import venn3\n",
    "import matplotlib.pyplot as plt\n",
    "\n",
    "# Create a dictionary where keys are the names of the gene lists\n",
    "# and values are the gene lists converted to set data type\n",
    "gene_sets = {'Explained_variance_updated': set(ArgR_new_genes), 'Regulon': set(ArgR_regulon_genes), 'Original': set(ArgR_original_genes)}\n",
    "\n",
    "# Create the Venn diagram\n",
    "venn3([set(i) for i in gene_sets.values()], set_labels = gene_sets.keys())\n",
    "\n",
    "# Display the plot\n",
    "plt.show()"
   ]
  },
  {
   "cell_type": "code",
   "execution_count": null,
   "id": "d43c6ca1",
   "metadata": {},
   "outputs": [],
   "source": [
    "# This needs an analysis of the correlation between ArgR and the old vs new genes - are the new genes explained well or not?\n",
    "# And why if not? Is it due to interactions?\n",
    "# Also, is there value in adding genes to the component? Is it just about maximizing regulon capture? Is there any improvement\n",
    "# in capturing regulon activity in terms of robustness? Or an improvement in the # of genes explained well by ICA (at least)\n",
    "# with a clean M?"
   ]
  }
 ],
 "metadata": {
  "kernelspec": {
   "display_name": "Python 3 (ipykernel)",
   "language": "python",
   "name": "python3"
  },
  "language_info": {
   "codemirror_mode": {
    "name": "ipython",
    "version": 3
   },
   "file_extension": ".py",
   "mimetype": "text/x-python",
   "name": "python",
   "nbconvert_exporter": "python",
   "pygments_lexer": "ipython3",
   "version": "3.7.16"
  },
  "toc": {
   "base_numbering": 1,
   "nav_menu": {},
   "number_sections": true,
   "sideBar": true,
   "skip_h1_title": false,
   "title_cell": "Table of Contents",
   "title_sidebar": "Contents",
   "toc_cell": false,
   "toc_position": {},
   "toc_section_display": true,
   "toc_window_display": false
  }
 },
 "nbformat": 4,
 "nbformat_minor": 5
}
