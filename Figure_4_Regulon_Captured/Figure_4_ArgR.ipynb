{
 "cells": [
  {
   "cell_type": "markdown",
   "id": "685c11d7-8ede-48ab-b1ae-5ce68f2bb2ec",
   "metadata": {},
   "source": [
    "# Figure_4_ArgR"
   ]
  },
  {
   "cell_type": "markdown",
   "id": "246a01d0",
   "metadata": {
    "heading_collapsed": true
   },
   "source": [
    "## Package, data, and function import"
   ]
  },
  {
   "cell_type": "code",
   "execution_count": 54,
   "id": "4c210f7d-af71-4585-8e62-7391853f0e05",
   "metadata": {
    "execution": {
     "iopub.execute_input": "2024-10-04T15:54:04.987487Z",
     "iopub.status.busy": "2024-10-04T15:54:04.987187Z",
     "iopub.status.idle": "2024-10-04T15:54:05.830029Z",
     "shell.execute_reply": "2024-10-04T15:54:05.829235Z",
     "shell.execute_reply.started": "2024-10-04T15:54:04.987457Z"
    },
    "hidden": true
   },
   "outputs": [],
   "source": [
    "from pathlib import Path\n",
    "import sys\n",
    "import os.path\n",
    "\n",
    "import matplotlib.pyplot as plt\n",
    "from matplotlib.patches import Rectangle\n",
    "from matplotlib.lines import Line2D\n",
    "import matplotlib.font_manager as fm\n",
    "\n",
    "import numpy as np\n",
    "\n",
    "import pandas as pd\n",
    "pd.set_option('display.max_columns', 50)\n",
    "\n",
    "import json\n",
    "\n",
    "from scipy.stats import f_oneway, gaussian_kde, mannwhitneyu, pearsonr, spearmanr\n",
    "from scipy.cluster.hierarchy import linkage, leaves_list\n",
    "\n",
    "import seaborn as sns\n",
    "sns.set_style('whitegrid')\n",
    "\n",
    "from tqdm.notebook import tqdm\n",
    "from pymodulon.compare import compare_ica\n",
    "from pymodulon.core import IcaData\n",
    "from pymodulon.io import load_json_model, save_to_json\n",
    "from pymodulon.plotting import *\n",
    "from pymodulon.util import explained_variance\n",
    "from pymodulon.imodulondb import imdb_gene_presence\n",
    "\n",
    "import itertools\n",
    "\n",
    "sys.path.append('../bitome2/')\n",
    "sys.path.append('../')\n",
    "\n",
    "from bitome.core import Bitome\n",
    "from feature_functions import *"
   ]
  },
  {
   "cell_type": "markdown",
   "id": "a8e70876-c33e-49b9-9bcc-51bf078f8e24",
   "metadata": {
    "heading_collapsed": true,
    "hidden": true
   },
   "source": [
    "### Load the data from ./Data/ folder"
   ]
  },
  {
   "cell_type": "code",
   "execution_count": 2,
   "id": "44e63c33-69b6-401d-b2d8-7c2f67e5b3f2",
   "metadata": {
    "execution": {
     "iopub.execute_input": "2024-10-04T15:54:05.831315Z",
     "iopub.status.busy": "2024-10-04T15:54:05.831024Z",
     "iopub.status.idle": "2024-10-04T15:54:15.937315Z",
     "shell.execute_reply": "2024-10-04T15:54:15.936469Z",
     "shell.execute_reply.started": "2024-10-04T15:54:05.831298Z"
    },
    "hidden": true
   },
   "outputs": [],
   "source": [
    "precise1k = load_json_model('../Data/p1k.json.gz')"
   ]
  },
  {
   "cell_type": "code",
   "execution_count": 3,
   "id": "23d1ccc2-2eaa-4c7d-8759-77cbfd26409f",
   "metadata": {
    "execution": {
     "iopub.execute_input": "2024-10-04T15:54:15.938560Z",
     "iopub.status.busy": "2024-10-04T15:54:15.938423Z",
     "iopub.status.idle": "2024-10-04T15:54:15.979892Z",
     "shell.execute_reply": "2024-10-04T15:54:15.979079Z",
     "shell.execute_reply.started": "2024-10-04T15:54:15.938546Z"
    },
    "hidden": true
   },
   "outputs": [],
   "source": [
    "P1K_Gene_Presence_Matrix = pd.read_csv(\"../Data/P1K_Gene_Presence_Matrix.csv\", index_col=0)"
   ]
  },
  {
   "cell_type": "code",
   "execution_count": 4,
   "id": "d24d9429-7a72-4728-b4ba-2d7cbd35b560",
   "metadata": {
    "execution": {
     "iopub.execute_input": "2024-10-04T15:54:15.980685Z",
     "iopub.status.busy": "2024-10-04T15:54:15.980548Z",
     "iopub.status.idle": "2024-10-04T15:54:16.008087Z",
     "shell.execute_reply": "2024-10-04T15:54:16.007348Z",
     "shell.execute_reply.started": "2024-10-04T15:54:15.980671Z"
    },
    "hidden": true
   },
   "outputs": [],
   "source": [
    "RegulonDB_TRN = pd.read_csv('../Data/RegulonDB_TRN_C_and_S.csv', index_col = 0)"
   ]
  },
  {
   "cell_type": "code",
   "execution_count": 5,
   "id": "e7bb9ec2-f92c-4fff-926a-10648bb0d59b",
   "metadata": {
    "execution": {
     "iopub.execute_input": "2024-10-04T16:20:20.478263Z",
     "iopub.status.busy": "2024-10-04T16:20:20.477882Z",
     "iopub.status.idle": "2024-10-04T16:20:20.493148Z",
     "shell.execute_reply": "2024-10-04T16:20:20.492245Z",
     "shell.execute_reply.started": "2024-10-04T16:20:20.478229Z"
    },
    "hidden": true
   },
   "outputs": [],
   "source": [
    "Regulon_DB_P1K = pd.read_csv('../Data/Regulon_DB_P1K.csv', index_col=0)"
   ]
  },
  {
   "cell_type": "code",
   "execution_count": 6,
   "id": "49e62195-5033-4030-8d67-09633a4e2cbe",
   "metadata": {
    "execution": {
     "iopub.execute_input": "2024-10-04T15:54:16.009383Z",
     "iopub.status.busy": "2024-10-04T15:54:16.009241Z",
     "iopub.status.idle": "2024-10-04T15:54:16.015328Z",
     "shell.execute_reply": "2024-10-04T15:54:16.014753Z",
     "shell.execute_reply.started": "2024-10-04T15:54:16.009368Z"
    },
    "hidden": true
   },
   "outputs": [],
   "source": [
    "biocyc_info = pd.read_csv('../Data/biocyc_info.txt', sep=\"\\t\")"
   ]
  },
  {
   "cell_type": "code",
   "execution_count": 7,
   "id": "170b2525-8af7-4f9e-b32b-f548581f0d2d",
   "metadata": {
    "execution": {
     "iopub.execute_input": "2024-10-04T16:04:36.449840Z",
     "iopub.status.busy": "2024-10-04T16:04:36.449505Z",
     "iopub.status.idle": "2024-10-04T16:04:36.457912Z",
     "shell.execute_reply": "2024-10-04T16:04:36.457108Z",
     "shell.execute_reply.started": "2024-10-04T16:04:36.449807Z"
    },
    "hidden": true
   },
   "outputs": [],
   "source": [
    "iM_table = pd.read_csv('../Data/iM_table.csv', index_col = 0)"
   ]
  },
  {
   "cell_type": "markdown",
   "id": "2838ac77-27d7-46c3-a04e-83d11e755696",
   "metadata": {
    "heading_collapsed": true,
    "hidden": true
   },
   "source": [
    "### PRECISE-1K: X M A log_tpm gene_presence_matrix"
   ]
  },
  {
   "cell_type": "code",
   "execution_count": 8,
   "id": "c2e53b99-b922-4177-b110-3991f4bbf431",
   "metadata": {
    "execution": {
     "iopub.execute_input": "2024-10-04T15:54:16.016077Z",
     "iopub.status.busy": "2024-10-04T15:54:16.015940Z",
     "iopub.status.idle": "2024-10-04T15:54:16.018913Z",
     "shell.execute_reply": "2024-10-04T15:54:16.018232Z",
     "shell.execute_reply.started": "2024-10-04T15:54:16.016064Z"
    },
    "hidden": true
   },
   "outputs": [],
   "source": [
    "P1K_M = precise1k.M"
   ]
  },
  {
   "cell_type": "code",
   "execution_count": 9,
   "id": "cbdde432-55f2-4ea7-bacc-cf42f02aa210",
   "metadata": {
    "execution": {
     "iopub.execute_input": "2024-10-04T15:54:16.019644Z",
     "iopub.status.busy": "2024-10-04T15:54:16.019515Z",
     "iopub.status.idle": "2024-10-04T15:54:16.022319Z",
     "shell.execute_reply": "2024-10-04T15:54:16.021727Z",
     "shell.execute_reply.started": "2024-10-04T15:54:16.019631Z"
    },
    "hidden": true
   },
   "outputs": [],
   "source": [
    "P1K_A = precise1k.A"
   ]
  },
  {
   "cell_type": "code",
   "execution_count": 10,
   "id": "d53c929b-9347-4ba7-9a43-37ffba8074c7",
   "metadata": {
    "execution": {
     "iopub.execute_input": "2024-10-04T15:54:22.666224Z",
     "iopub.status.busy": "2024-10-04T15:54:22.666044Z",
     "iopub.status.idle": "2024-10-04T15:54:22.670064Z",
     "shell.execute_reply": "2024-10-04T15:54:22.669268Z",
     "shell.execute_reply.started": "2024-10-04T15:54:22.666210Z"
    },
    "hidden": true
   },
   "outputs": [],
   "source": [
    "P1K_X = precise1k.X"
   ]
  },
  {
   "cell_type": "code",
   "execution_count": 11,
   "id": "46d61dc0-28be-4482-b77b-7dd4b554f3f8",
   "metadata": {
    "execution": {
     "iopub.execute_input": "2024-10-04T15:54:22.836855Z",
     "iopub.status.busy": "2024-10-04T15:54:22.836562Z",
     "iopub.status.idle": "2024-10-04T15:54:22.840745Z",
     "shell.execute_reply": "2024-10-04T15:54:22.839942Z",
     "shell.execute_reply.started": "2024-10-04T15:54:22.836825Z"
    },
    "hidden": true
   },
   "outputs": [],
   "source": [
    "P1K_log_tpm = precise1k.log_tpm"
   ]
  },
  {
   "cell_type": "markdown",
   "id": "d0ee8546",
   "metadata": {
    "heading_collapsed": true,
    "hidden": true
   },
   "source": [
    "### Other Functions"
   ]
  },
  {
   "cell_type": "code",
   "execution_count": 29,
   "id": "63253cbe",
   "metadata": {
    "execution": {
     "iopub.execute_input": "2024-10-04T15:59:33.440657Z",
     "iopub.status.busy": "2024-10-04T15:59:33.440313Z",
     "iopub.status.idle": "2024-10-04T15:59:33.455413Z",
     "shell.execute_reply": "2024-10-04T15:59:33.454574Z",
     "shell.execute_reply.started": "2024-10-04T15:59:33.440625Z"
    },
    "hidden": true
   },
   "outputs": [],
   "source": [
    "def plot_regulon_corr_heatmap_with_clustering(regulator, regulon_df, expression_df, gene_list, matrix=True, figure_size=(5, 4)):\n",
    "    # Find the genes in the regulon by the given regulator\n",
    "    genes_in_regulon = regulon_df.index[regulon_df[regulator] == 1].tolist()\n",
    "    \n",
    "    # Union of genes_in_regulon and gene_list\n",
    "    union_genes = list(set(genes_in_regulon).union(set(gene_list)))\n",
    "    \n",
    "    # Subset the expression DataFrame for these genes\n",
    "    expression_subset = expression_df.loc[union_genes]\n",
    "    \n",
    "    # Create a correlation matrix of expression for these genes\n",
    "    correlation_matrix = expression_subset.transpose().corr()\n",
    "    \n",
    "    # Calculate the average of correlation values\n",
    "    avg_corr_value = correlation_matrix.values[np.triu_indices_from(correlation_matrix, k=1)].mean()\n",
    "\n",
    "    # Perform hierarchical clustering on the rows\n",
    "    linkage_matrix = linkage(correlation_matrix, method='average')\n",
    "    dendrogram_order = leaves_list(linkage_matrix)\n",
    "    clustered_corr_matrix = correlation_matrix.iloc[dendrogram_order, dendrogram_order]\n",
    "\n",
    "    # Get the ordered list of genes after clustering\n",
    "    clustered_genes = clustered_corr_matrix.index\n",
    "\n",
    "    # Plot the correlation matrix as a heatmap with clustering\n",
    "    plt.figure(figsize=figure_size)\n",
    "    sns.heatmap(clustered_corr_matrix, annot=False, cmap='coolwarm', center=0)\n",
    "    plt.title(f'Corr Heatmap for {regulator} Regulon - Avg Corr: {avg_corr_value:.3f}')\n",
    "    \n",
    "    # Add category boxes at the diagonal\n",
    "    def add_category_box(start_idx, end_idx, color):\n",
    "        width = end_idx - start_idx + 1\n",
    "        rect = Rectangle((start_idx, start_idx), width, width, fill=False, edgecolor=color, linewidth=2)\n",
    "        ax.add_patch(rect)\n",
    "\n",
    "    ax = plt.gca()\n",
    "    current_category = None\n",
    "    start_idx = 0\n",
    "\n",
    "    for idx, gene in enumerate(clustered_genes):\n",
    "        if gene in genes_in_regulon and gene in gene_list:\n",
    "            category = 'Overlap'\n",
    "            color = 'lightgreen'\n",
    "        elif gene in genes_in_regulon:\n",
    "            category = 'Regulons'\n",
    "            color = 'black'\n",
    "        elif gene in gene_list:\n",
    "            category = 'iModulons'\n",
    "            color = 'yellow'\n",
    "        else:\n",
    "            category = None\n",
    "            color = 'black'\n",
    "\n",
    "        if category != current_category:\n",
    "            if current_category is not None:\n",
    "                add_category_box(start_idx, idx - 1, current_category_color)\n",
    "            current_category = category\n",
    "            current_category_color = color\n",
    "            start_idx = idx\n",
    "\n",
    "    if current_category is not None:\n",
    "        add_category_box(start_idx, len(clustered_genes) - 1, current_category_color)\n",
    "\n",
    "    # Create custom legend\n",
    "    legend_elements = [\n",
    "        Line2D([0], [0], color='black', lw=2, label='Regulons'),\n",
    "        Line2D([0], [0], color='yellow', lw=2, label='iModulons'),\n",
    "        Line2D([0], [0], color='lightgreen', lw=2, label='Overlap of iModulons and Regulons')\n",
    "    ]\n",
    "    plt.legend(handles=legend_elements, loc='upper right')\n",
    "\n",
    "    plt.show()\n",
    "    \n",
    "    if not matrix:\n",
    "        clustered_corr_matrix = None\n",
    "\n",
    "    return clustered_corr_matrix"
   ]
  },
  {
   "cell_type": "code",
   "execution_count": 20,
   "id": "24e7ff7a",
   "metadata": {
    "execution": {
     "iopub.execute_input": "2024-10-04T15:59:33.796044Z",
     "iopub.status.busy": "2024-10-04T15:59:33.795749Z",
     "iopub.status.idle": "2024-10-04T15:59:33.814559Z",
     "shell.execute_reply": "2024-10-04T15:59:33.813650Z",
     "shell.execute_reply.started": "2024-10-04T15:59:33.796013Z"
    },
    "hidden": true
   },
   "outputs": [],
   "source": [
    "'''def plot_regulon_corr_heatmap_with_clustering(regulator, regulon_df, expression_df, gene_list, matrix=True, figure_size=(5, 4), save_path=None):\n",
    "    # Define custom font properties\n",
    "    font_path = '/usr/share/fonts/truetype/msttcorefonts/Times_New_Roman.ttf'\n",
    "    font_prop = fm.FontProperties(fname=font_path)\n",
    "\n",
    "    # Find the genes in the regulon by the given regulator\n",
    "    genes_in_regulon = regulon_df.index[regulon_df[regulator] == 1].tolist()\n",
    "    \n",
    "    # Union of genes_in_regulon and gene_list\n",
    "    union_genes = list(set(genes_in_regulon).union(set(gene_list)))\n",
    "    \n",
    "    # Subset the expression DataFrame for these genes\n",
    "    expression_subset = expression_df.loc[union_genes]\n",
    "    \n",
    "    # Create a correlation matrix of expression for these genes\n",
    "    correlation_matrix = expression_subset.transpose().corr()\n",
    "    \n",
    "    # Calculate the average of correlation values\n",
    "    avg_corr_value = correlation_matrix.values[np.triu_indices_from(correlation_matrix, k=1)].mean()\n",
    "\n",
    "    # Perform hierarchical clustering on the rows\n",
    "    linkage_matrix = linkage(correlation_matrix, method='average')\n",
    "    dendrogram_order = leaves_list(linkage_matrix)\n",
    "    clustered_corr_matrix = correlation_matrix.iloc[dendrogram_order, dendrogram_order]\n",
    "\n",
    "    # Get the ordered list of genes after clustering\n",
    "    clustered_genes = clustered_corr_matrix.index\n",
    "\n",
    "    # Plot the correlation matrix as a heatmap with clustering\n",
    "    plt.figure(figsize=figure_size)\n",
    "    sns.heatmap(clustered_corr_matrix, annot=False, cmap='coolwarm', center=0, cbar=False)\n",
    "\n",
    "    # Remove all ticks (both x and y)\n",
    "    ax = plt.gca()\n",
    "    ax.set_xticks([])\n",
    "    ax.set_yticks([])\n",
    "\n",
    "    # Set title with custom font\n",
    "    # plt.title(f'Corr Heatmap for {regulator} Regulon - Avg Corr: {avg_corr_value:.3f}', fontproperties=font_prop)\n",
    "\n",
    "    # Set x and y labels with custom font\n",
    "    ax.set_xlabel(\"Gene Name\", fontproperties=font_prop)\n",
    "    ax.set_ylabel(\"Gene Name\", fontproperties=font_prop)'''"
   ]
  },
  {
   "cell_type": "code",
   "execution_count": 21,
   "id": "7496cb3e",
   "metadata": {
    "execution": {
     "iopub.execute_input": "2024-10-04T15:59:33.796044Z",
     "iopub.status.busy": "2024-10-04T15:59:33.795749Z",
     "iopub.status.idle": "2024-10-04T15:59:33.814559Z",
     "shell.execute_reply": "2024-10-04T15:59:33.813650Z",
     "shell.execute_reply.started": "2024-10-04T15:59:33.796013Z"
    },
    "hidden": true
   },
   "outputs": [],
   "source": [
    "# Add category boxes at the diagonal\n",
    "def add_category_box(start_idx, end_idx, color):\n",
    "    width = end_idx - start_idx + 1\n",
    "    rect = Rectangle((start_idx, start_idx), width, width, fill=False, edgecolor=color, linewidth=2)\n",
    "    ax.add_patch(rect)\n",
    "\n",
    "    current_category = None\n",
    "    start_idx = 0\n",
    "    category_genes = []\n",
    "\n",
    "    for idx, gene in enumerate(clustered_genes):\n",
    "        if gene in genes_in_regulon and gene in gene_list:\n",
    "            category = 'Overlap'\n",
    "            color = 'lightgreen'\n",
    "        elif gene in genes_in_regulon:\n",
    "            category = 'Regulons'\n",
    "            color = 'black'\n",
    "        elif gene in gene_list:\n",
    "            category = 'iModulons'\n",
    "            color = 'yellow'\n",
    "        else:\n",
    "            category = None\n",
    "            color = 'black'\n",
    "\n",
    "        if category != current_category:\n",
    "            if current_category is not None:\n",
    "                add_category_box(start_idx, idx - 1, current_category_color)\n",
    "                # Print genes in the current category\n",
    "                print(f\"{current_category} genes from index {start_idx} to {idx - 1}:\")\n",
    "                print(category_genes)\n",
    "                category_genes = []\n",
    "            current_category = category\n",
    "            current_category_color = color\n",
    "            start_idx = idx\n",
    "\n",
    "        category_genes.append(gene)\n",
    "\n",
    "    if current_category is not None:\n",
    "        add_category_box(start_idx, len(clustered_genes) - 1, current_category_color)\n",
    "        # Print genes in the final category\n",
    "        print(f\"{current_category} genes from index {start_idx} to {len(clustered_genes) - 1}:\")\n",
    "        print(category_genes)\n",
    "\n",
    "    # Create custom legend with custom font\n",
    "    legend_elements = [\n",
    "        Line2D([0], [0], color='black', lw=2, label='Regulons'),\n",
    "        Line2D([0], [0], color='yellow', lw=2, label='iModulons'),\n",
    "        Line2D([0], [0], color='lightgreen', lw=2, label='Overlap of iModulons and Regulons')\n",
    "    ]\n",
    "    plt.legend(handles=legend_elements, loc='upper right', prop=font_prop)\n",
    "\n",
    "    # Save the plot as an SVG file if save_path is provided\n",
    "    if save_path:\n",
    "        plt.savefig(save_path, format='svg', bbox_inches='tight')\n",
    "\n",
    "    # Show the plot\n",
    "    plt.show()\n",
    "\n",
    "    if not matrix:\n",
    "        clustered_corr_matrix = None\n",
    "\n",
    "    return clustered_corr_matrix"
   ]
  },
  {
   "cell_type": "code",
   "execution_count": 22,
   "id": "f1eb9502",
   "metadata": {
    "execution": {
     "iopub.execute_input": "2024-10-04T15:59:13.565992Z",
     "iopub.status.busy": "2024-10-04T15:59:13.565792Z",
     "iopub.status.idle": "2024-10-04T15:59:13.570584Z",
     "shell.execute_reply": "2024-10-04T15:59:13.569725Z",
     "shell.execute_reply.started": "2024-10-04T15:59:13.565977Z"
    },
    "hidden": true
   },
   "outputs": [],
   "source": [
    "def map_accession_to_gene_name(df, biocyc_info):\n",
    "\n",
    "    # Reset index if 'Accession-1' is the index, and rename the column\n",
    "    if df.index.name == 'Accession' or df.index.name is None:\n",
    "        df = df.reset_index()\n",
    "        df.rename(columns={'index': 'Accession'}, inplace=True)\n",
    "        \n",
    "    # Merge with biocyc_info to map 'Accession-1' to 'Gene Name'\n",
    "    merged_df = df.merge(biocyc_info[['Accession', 'Gene Name']], on='Accession', how='left')\n",
    "\n",
    "    # Set 'Gene Name' as the new index and drop the 'Accession-1' column\n",
    "    merged_df.set_index('Gene Name', inplace=True)\n",
    "    merged_df.drop(columns=['Accession'], inplace=True)\n",
    "\n",
    "    # Remove rows with NaN as index\n",
    "    merged_df = merged_df[merged_df.index.notna()]\n",
    "    \n",
    "    return merged_df"
   ]
  },
  {
   "cell_type": "code",
   "execution_count": 23,
   "id": "ad199608",
   "metadata": {
    "execution": {
     "iopub.execute_input": "2024-10-04T15:59:14.029451Z",
     "iopub.status.busy": "2024-10-04T15:59:14.029150Z",
     "iopub.status.idle": "2024-10-04T15:59:14.034470Z",
     "shell.execute_reply": "2024-10-04T15:59:14.033606Z",
     "shell.execute_reply.started": "2024-10-04T15:59:14.029420Z"
    },
    "hidden": true
   },
   "outputs": [],
   "source": [
    "def get_genes_for_iM(df, regulator):\n",
    "\n",
    "    if regulator not in df.columns:\n",
    "        raise ValueError(f\"Regulator '{regulator}' not found in DataFrame columns.\")\n",
    "    \n",
    "    # Get the list of genes where the value in the specified column is 1\n",
    "    genes_in_regulon = df.index[df[regulator] == 1].tolist()\n",
    "    \n",
    "    return genes_in_regulon"
   ]
  },
  {
   "cell_type": "markdown",
   "id": "f209c664",
   "metadata": {
    "heading_collapsed": true
   },
   "source": [
    "## Overview of ArgR"
   ]
  },
  {
   "cell_type": "markdown",
   "id": "29380442",
   "metadata": {
    "heading_collapsed": true,
    "hidden": true
   },
   "source": [
    "### The ArgR Regulon from RegulonDB"
   ]
  },
  {
   "cell_type": "code",
   "execution_count": null,
   "id": "838329af",
   "metadata": {
    "hidden": true
   },
   "outputs": [],
   "source": [
    "RegulonDB_TRN"
   ]
  },
  {
   "cell_type": "code",
   "execution_count": 31,
   "id": "80867756",
   "metadata": {
    "hidden": true
   },
   "outputs": [
    {
     "data": {
      "text/plain": [
       "['argA',\n",
       " 'argB',\n",
       " 'argC',\n",
       " 'argD',\n",
       " 'argE',\n",
       " 'argF',\n",
       " 'argG',\n",
       " 'argH',\n",
       " 'argI',\n",
       " 'argR',\n",
       " 'aroK',\n",
       " 'aroP',\n",
       " 'artI',\n",
       " 'artJ',\n",
       " 'artM',\n",
       " 'artP',\n",
       " 'artQ',\n",
       " 'astA',\n",
       " 'astB',\n",
       " 'astC',\n",
       " 'astD',\n",
       " 'astE',\n",
       " 'carA',\n",
       " 'carB',\n",
       " 'cvpA',\n",
       " 'dacC',\n",
       " 'dps',\n",
       " 'eutS',\n",
       " 'ftsZ',\n",
       " 'gltB',\n",
       " 'gltD',\n",
       " 'gltF',\n",
       " 'gltP',\n",
       " 'hchA',\n",
       " 'hisJ',\n",
       " 'hisL',\n",
       " 'hisM',\n",
       " 'hisP',\n",
       " 'hisQ',\n",
       " 'infB',\n",
       " 'lrp',\n",
       " 'lysO',\n",
       " 'mcaS',\n",
       " 'metY',\n",
       " 'mukE',\n",
       " 'nusA',\n",
       " 'pfkB',\n",
       " 'pnp',\n",
       " 'potF',\n",
       " 'puuB',\n",
       " 'pyrL',\n",
       " 'rbfA',\n",
       " 'rimP',\n",
       " 'rpsO',\n",
       " 'stpA',\n",
       " 'truB',\n",
       " 'waaA',\n",
       " 'yaaU',\n",
       " 'ydgI',\n",
       " 'yfcC',\n",
       " 'yffB',\n",
       " 'yhcC',\n",
       " 'ykgA',\n",
       " 'yraQ']"
      ]
     },
     "execution_count": 31,
     "metadata": {},
     "output_type": "execute_result"
    }
   ],
   "source": [
    "RegulonDB_TRN.index[RegulonDB_TRN['ArgR']==1].to_list()"
   ]
  },
  {
   "cell_type": "markdown",
   "id": "734cd2e6",
   "metadata": {
    "hidden": true
   },
   "source": [
    "### Figure - Expression correlation heatmap showing Regulon vs iModulon"
   ]
  },
  {
   "cell_type": "code",
   "execution_count": 38,
   "id": "dc23a0db",
   "metadata": {
    "execution": {
     "iopub.execute_input": "2024-10-04T15:59:14.530526Z",
     "iopub.status.busy": "2024-10-04T15:59:14.530226Z",
     "iopub.status.idle": "2024-10-04T15:59:14.576455Z",
     "shell.execute_reply": "2024-10-04T15:59:14.575598Z",
     "shell.execute_reply.started": "2024-10-04T15:59:14.530497Z"
    },
    "hidden": true
   },
   "outputs": [],
   "source": [
    "P1K_log_tpm_gene_name = map_accession_to_gene_name(P1K_log_tpm, biocyc_info)"
   ]
  },
  {
   "cell_type": "code",
   "execution_count": 39,
   "id": "31a42d10",
   "metadata": {
    "execution": {
     "iopub.execute_input": "2024-10-04T15:59:14.784203Z",
     "iopub.status.busy": "2024-10-04T15:59:14.783921Z",
     "iopub.status.idle": "2024-10-04T15:59:14.801220Z",
     "shell.execute_reply": "2024-10-04T15:59:14.800429Z",
     "shell.execute_reply.started": "2024-10-04T15:59:14.784177Z"
    },
    "hidden": true
   },
   "outputs": [],
   "source": [
    "P1K_Gene_Presence_Matrix_gene_name = map_accession_to_gene_name(P1K_Gene_Presence_Matrix, biocyc_info)"
   ]
  },
  {
   "cell_type": "code",
   "execution_count": 40,
   "id": "8cf42bf7",
   "metadata": {
    "execution": {
     "iopub.execute_input": "2024-10-04T15:59:26.784539Z",
     "iopub.status.busy": "2024-10-04T15:59:26.784182Z",
     "iopub.status.idle": "2024-10-04T15:59:26.793878Z",
     "shell.execute_reply": "2024-10-04T15:59:26.793048Z",
     "shell.execute_reply.started": "2024-10-04T15:59:26.784506Z"
    },
    "hidden": true
   },
   "outputs": [],
   "source": [
    "Regulon_DB_TRN_filtered = RegulonDB_TRN.loc[RegulonDB_TRN.index.intersection(P1K_log_tpm_gene_name.index)]"
   ]
  },
  {
   "cell_type": "code",
   "execution_count": 41,
   "id": "5b21da54",
   "metadata": {
    "execution": {
     "iopub.execute_input": "2024-10-04T15:59:42.158572Z",
     "iopub.status.busy": "2024-10-04T15:59:42.158221Z",
     "iopub.status.idle": "2024-10-04T15:59:42.163809Z",
     "shell.execute_reply": "2024-10-04T15:59:42.162958Z",
     "shell.execute_reply.started": "2024-10-04T15:59:42.158541Z"
    },
    "hidden": true
   },
   "outputs": [],
   "source": [
    "ArgR_iM_Genes = get_genes_for_iM(P1K_Gene_Presence_Matrix_gene_name, 'Arginine')"
   ]
  },
  {
   "cell_type": "code",
   "execution_count": 42,
   "id": "c6465773",
   "metadata": {
    "execution": {
     "iopub.execute_input": "2024-10-04T15:59:42.414077Z",
     "iopub.status.busy": "2024-10-04T15:59:42.413778Z",
     "iopub.status.idle": "2024-10-04T15:59:42.549427Z",
     "shell.execute_reply": "2024-10-04T15:59:42.548679Z",
     "shell.execute_reply.started": "2024-10-04T15:59:42.414047Z"
    },
    "hidden": true
   },
   "outputs": [
    {
     "data": {
      "image/png": "[encoded data removed]",
      "text/plain": [
       "<Figure size 360x360 with 2 Axes>"
      ]
     },
     "metadata": {
      "needs_background": "light"
     },
     "output_type": "display_data"
    }
   ],
   "source": [
    "plot_regulon_corr_heatmap_with_clustering('ArgR', Regulon_DB_TRN_filtered, P1K_log_tpm_gene_name, ArgR_iM_Genes, matrix = False, figure_size = (5,5))"
   ]
  },
  {
   "cell_type": "markdown",
   "id": "39ce7df0",
   "metadata": {
    "heading_collapsed": true
   },
   "source": [
    "## Dual regulator example 1: astCADBE - ArgR/NtrC\n",
    "- 3D plot\n",
    "- sample specific plotas"
   ]
  },
  {
   "cell_type": "code",
   "execution_count": 36,
   "id": "a4ce91b7",
   "metadata": {
    "execution": {
     "iopub.execute_input": "2024-10-04T15:58:13.334176Z",
     "iopub.status.busy": "2024-10-04T15:58:13.333797Z",
     "iopub.status.idle": "2024-10-04T15:58:13.493279Z",
     "shell.execute_reply": "2024-10-04T15:58:13.492632Z",
     "shell.execute_reply.started": "2024-10-04T15:58:13.334142Z"
    },
    "hidden": true
   },
   "outputs": [
    {
     "data": {
      "image/png": "[encoded data removed]",
      "text/plain": [
       "<Figure size 432x288 with 1 Axes>"
      ]
     },
     "metadata": {
      "needs_background": "light"
     },
     "output_type": "display_data"
    }
   ],
   "source": [
    "# 3D plot of NtrC, Arginine, and astC\n",
    "\n",
    "# special samples\n",
    "s1_cytd = ['p1k_00167','p1k_00168']\n",
    "s2_misc = ['p1k_00049']\n",
    "\n",
    "# data\n",
    "ntrcA = precise1k.A.loc['NtrC-2'].tolist()\n",
    "argA = precise1k.A.loc['Arginine'].tolist()\n",
    "astC = precise1k.X.loc['b1748'].tolist()\n",
    "\n",
    "# make plot\n",
    "import matplotlib.pyplot as plt\n",
    "from mpl_toolkits.mplot3d import Axes3D\n",
    "fig = plt.figure()\n",
    "ax = fig.add_subplot(111, projection='3d')\n",
    "ax.scatter(ntrcA, argA, astC, alpha = 0.3, color = 'gray',s=30)\n",
    "ax.scatter(precise1k.A.loc['NtrC-2'][s1_cytd].tolist(), precise1k.A.loc['Arginine'][s1_cytd].tolist(), precise1k.X.loc['b1748'][s1_cytd].tolist(),alpha =1, color = 'orange',s=60,label = 'cytd_sample')\n",
    "ax.scatter(precise1k.A.loc['NtrC-2'][s2_misc].tolist(), precise1k.A.loc['Arginine'][s2_misc].tolist(), precise1k.X.loc['b1748'][s2_misc].tolist(),alpha =1, color = 'green',s=60, label = 'misc_sample')\n",
    "ax.set_ylim([min(argA), 6])\n",
    "\n",
    "# Set labels for each axis\n",
    "ax.set_xlabel('NtrC-2 iModulon Activity')\n",
    "ax.set_ylabel('Arginine iModulon Activity')\n",
    "ax.set_zlabel('astC Expression')\n",
    "ax.legend()\n",
    "\n",
    "ax.view_init(elev=30, azim=140)\n",
    "\n",
    "# Display the plot\n",
    "plt.show()"
   ]
  },
  {
   "cell_type": "code",
   "execution_count": 37,
   "id": "9a3cf5ec",
   "metadata": {
    "execution": {
     "iopub.execute_input": "2024-10-04T15:58:13.980981Z",
     "iopub.status.busy": "2024-10-04T15:58:13.980849Z",
     "iopub.status.idle": "2024-10-04T15:58:14.276379Z",
     "shell.execute_reply": "2024-10-04T15:58:14.275623Z",
     "shell.execute_reply.started": "2024-10-04T15:58:13.980968Z"
    },
    "hidden": true
   },
   "outputs": [
    {
     "data": {
      "image/png": "[encoded data removed]",
      "text/plain": [
       "<Figure size 864x360 with 2 Axes>"
      ]
     },
     "metadata": {
      "needs_background": "light"
     },
     "output_type": "display_data"
    }
   ],
   "source": [
    "import seaborn as sns\n",
    "import matplotlib.pyplot as plt\n",
    "\n",
    "samples = [['p1k_00167','p1k_00168'],'p1k_00049']\n",
    "\n",
    "# Create a figure with two subplots side by side\n",
    "fig, axs = plt.subplots(1, 2, figsize=(12, 5))  # 1 row, 2 columns\n",
    "\n",
    "# Plot for Sample 1\n",
    "sns.kdeplot(argA, color='blue', label='Arginine', ax=axs[0], fill=True)\n",
    "sns.kdeplot(ntrcA, color='red', label='NtrC-2', ax=axs[0], fill=True)\n",
    "axs[0].axvline(precise1k.A[samples[0]].loc['Arginine'].mean(), color='blue', linewidth=5)\n",
    "axs[0].axvline(precise1k.A[samples[0]].loc['NtrC-2'].mean(), color='red', linewidth=5)\n",
    "axs[0].set_xlabel(\"Activity\")\n",
    "axs[0].set_ylabel(\"Sample Counts\")\n",
    "axs[0].legend()\n",
    "axs[0].set_title(\"cytd_sample\")\n",
    "\n",
    "# Plot for Sample 2\n",
    "sns.kdeplot(argA, color='blue', label='Arginine', ax=axs[1], fill=True)\n",
    "sns.kdeplot(ntrcA, color='red', label='NtrC-2', ax=axs[1], fill=True)\n",
    "axs[1].axvline(precise1k.A[samples[1]].loc['Arginine'], color='blue', linewidth=5)\n",
    "axs[1].axvline(precise1k.A[samples[1]].loc['NtrC-2'], color='red', linewidth=5)\n",
    "axs[1].set_xlabel(\"Activity\")\n",
    "axs[1].set_ylabel(\"Sample Counts\")\n",
    "axs[1].legend()\n",
    "axs[1].set_title(\"misc_sample\")\n",
    "\n",
    "# Adjust layout and display the plot\n",
    "plt.tight_layout()\n",
    "plt.show()\n"
   ]
  },
  {
   "cell_type": "markdown",
   "id": "8e32b8f5",
   "metadata": {
    "heading_collapsed": true
   },
   "source": [
    "## Bitome analysis of binding sites"
   ]
  },
  {
   "cell_type": "markdown",
   "id": "3e562aa4",
   "metadata": {
    "hidden": true
   },
   "source": [
    "Look at the binding site similarity in different parts of the argR regulon/iModulon\n",
    "Does it support the idea that ICA works when the binding sites in the regulon have similar properties?\n"
   ]
  },
  {
   "cell_type": "markdown",
   "id": "3e8ed6bb",
   "metadata": {
    "hidden": true
   },
   "source": [
    "### Import data"
   ]
  },
  {
   "cell_type": "code",
   "execution_count": 47,
   "id": "fd478e3a",
   "metadata": {
    "hidden": true
   },
   "outputs": [],
   "source": [
    "K12_DATA_PATH = Path('../data/bitome2/mg1655')"
   ]
  },
  {
   "cell_type": "code",
   "execution_count": 48,
   "id": "ab8e0869",
   "metadata": {
    "hidden": true
   },
   "outputs": [],
   "source": [
    "# from GenBank annotation\n",
    "origin = (3925743, 3925975)\n",
    "# from 1. Duggin, I. G. & Bell, S. D. J. Mol. Biol. (2009). with the following terA/terC sequences:\n",
    "# ter_a = 'AATTAGTATGTTGTAACTAAAGT'\n",
    "# ter_c = 'ATATAGGATGTTGTAACTAATAT'\n",
    "terminus = (1341745, 1609180)"
   ]
  },
  {
   "cell_type": "code",
   "execution_count": 49,
   "id": "4075e5b6",
   "metadata": {
    "hidden": true
   },
   "outputs": [],
   "source": [
    "mg1655 = Bitome(\n",
    "    Path(K12_DATA_PATH, 'NC_000913.3.gb'),\n",
    "    name='MG1655',\n",
    "    origin=origin, terminus=terminus,\n",
    "    gene_table=Path(K12_DATA_PATH, 'gene_info_supp.csv'),\n",
    "    tu_table=Path(K12_DATA_PATH, 'tu.csv'),\n",
    "    operon_table=Path(K12_DATA_PATH, 'operon.csv'),\n",
    "    tss_table=Path(K12_DATA_PATH, 'tss.csv'),\n",
    "    # TODO PARSE TTS data\n",
    "    tts_table=None,\n",
    "    tfbs_table=Path(K12_DATA_PATH, 'tfbs.csv'),\n",
    "    terminator_table=Path(K12_DATA_PATH, 'terminator.csv'),\n",
    "    attenuator_table=Path(K12_DATA_PATH, 'attenuator.csv'),\n",
    "    rbs_table=Path(K12_DATA_PATH, 'rbs.csv'),\n",
    "    riboswitch_table=Path(K12_DATA_PATH, 'riboswitch.csv')\n",
    ")"
   ]
  },
  {
   "cell_type": "code",
   "execution_count": 52,
   "id": "50927cb0",
   "metadata": {
    "hidden": true
   },
   "outputs": [],
   "source": [
    "#ica_data = load_json_model('../data/precise2.json.gz')\n",
    "ica_data = precise1k"
   ]
  },
  {
   "cell_type": "markdown",
   "id": "ec66d963",
   "metadata": {
    "heading_collapsed": true
   },
   "source": [
    "## Motif score analysis"
   ]
  },
  {
   "cell_type": "code",
   "execution_count": 71,
   "id": "aa37c548",
   "metadata": {
    "hidden": true
   },
   "outputs": [
    {
     "name": "stdout",
     "output_type": "stream",
     "text": [
      "{'carA': 0.55, 'carB': 1.5666666, 'caiF': 5.3, 'argF': 1.4, 'artJ': -0.8, 'artM': 1.0999999, 'artQ': 1.0999999, 'artI': 1.0999999, 'artP': 1.0999999, 'hisP': 1.65, 'hisM': 1.65, 'hisQ': 1.65, 'hisJ': 1.65, 'argA': 1.4, 'argG': 1.1, 'argD': -0.2, 'asnA': 0.7, 'argE': -1.1, 'argC': 6.2, 'argB': 6.2, 'argH': 6.2, 'argI': 2.1}\n"
     ]
    }
   ],
   "source": [
    "# modify legacy PSSM format into Bitome 2 format\n",
    "tf_pwm_db = rpwm('../data/motif_pwm_db.txt')\n",
    "argR_pwm_old = tf_pwm_db['ArgR']\n",
    "argR_pssm = {base: [pos_dict[base] for pos_dict in flhdc_pwm_old] for base in 'ATCG'}\n",
    "\n",
    "argR_genes = ica_data.view_imodulon('Arginine')['gene_name'].values\n",
    "\n",
    "gene2score = {}\n",
    "for argR_gene in argR_genes:\n",
    "    tus_for_gene = mg1655._gene_to_tus[ica_data.name2num(argR_gene)]\n",
    "    gene_tu_df = mg1655.tu_table.loc[tus_for_gene]\n",
    "    gene_tu_df_tss = gene_tu_df[gene_tu_df['tss'].notna()]\n",
    "    scores = []\n",
    "    for tu_id, tu_row in gene_tu_df_tss.iterrows():\n",
    "        best_motif_match = mg1655.promoter_motif_search(tu_row.tss, tu_row.strand, argR_pssm)\n",
    "        scores.append(best_motif_match.log_odds.values[0])\n",
    "    if scores:\n",
    "        gene2score[argR_gene] = np.mean(scores)\n",
    "print(gene2score)"
   ]
  },
  {
   "cell_type": "code",
   "execution_count": 73,
   "id": "dd3d1254",
   "metadata": {
    "hidden": true,
    "scrolled": true
   },
   "outputs": [
    {
     "data": {
      "text/plain": [
       "<AxesSubplot:xlabel='argR Motif Log-Odds Score', ylabel='argR Gene Weight'>"
      ]
     },
     "execution_count": 73,
     "metadata": {},
     "output_type": "execute_result"
    },
    {
     "data": {
      "image/png": "[encoded data removed]",
      "text/plain": [
       "<Figure size 576x432 with 1 Axes>"
      ]
     },
     "metadata": {},
     "output_type": "display_data"
    }
   ],
   "source": [
    "argR_df = ica_data.view_imodulon('Arginine')\n",
    "argR_df['score'] = argR_df['gene_name'].apply(lambda gn: gene2score.get(gn, None))\n",
    "argR_w_motif = argR_df[argR_df['score'].notna()]\n",
    "argR_w_motif = argR_w_motif.set_index('gene_name')\n",
    "\n",
    "_, ax = plt.subplots(figsize=(8, 6))\n",
    "\n",
    "scatterplot(\n",
    "    argR_w_motif['score'], argR_w_motif['gene_weight'],\n",
    "    xlabel='argR Motif Log-Odds Score',\n",
    "    ylabel='argR Gene Weight',\n",
    "    show_labels=True,\n",
    "    fit_line=True,\n",
    "    legend=False,\n",
    "    ax=ax\n",
    ")"
   ]
  },
  {
   "cell_type": "markdown",
   "id": "8670c8d7",
   "metadata": {
    "hidden": true
   },
   "source": [
    "Can we find known ArgP binding sites according to RegulonDB? 28252 28271, and 28272 28291"
   ]
  },
  {
   "cell_type": "code",
   "execution_count": 78,
   "id": "4df7df16",
   "metadata": {
    "hidden": true
   },
   "outputs": [],
   "source": [
    "# modify legacy PSSM format into Bitome 2 format\n",
    "tf_pwm_db = rpwm('../data/motif_pwm_db.txt')\n",
    "argR_pwm_old = tf_pwm_db['ArgR']\n",
    "argR_pssm = {base: [pos_dict[base] for pos_dict in argR_pwm_old] for base in 'ATCG'}"
   ]
  },
  {
   "cell_type": "code",
   "execution_count": 79,
   "id": "097eab28",
   "metadata": {
    "hidden": true
   },
   "outputs": [
    {
     "data": {
      "text/html": [
       "<div>\n",
       "<style scoped>\n",
       "    .dataframe tbody tr th:only-of-type {\n",
       "        vertical-align: middle;\n",
       "    }\n",
       "\n",
       "    .dataframe tbody tr th {\n",
       "        vertical-align: top;\n",
       "    }\n",
       "\n",
       "    .dataframe thead th {\n",
       "        text-align: right;\n",
       "    }\n",
       "</style>\n",
       "<table border=\"1\" class=\"dataframe\">\n",
       "  <thead>\n",
       "    <tr style=\"text-align: right;\">\n",
       "      <th></th>\n",
       "      <th>match_sequence</th>\n",
       "      <th>log_odds</th>\n",
       "      <th>left</th>\n",
       "      <th>right</th>\n",
       "    </tr>\n",
       "  </thead>\n",
       "  <tbody>\n",
       "    <tr>\n",
       "      <th>0</th>\n",
       "      <td>AGATCTGAAAGATTGCGCGGT</td>\n",
       "      <td>1.2</td>\n",
       "      <td>28925</td>\n",
       "      <td>28945</td>\n",
       "    </tr>\n",
       "    <tr>\n",
       "      <th>1</th>\n",
       "      <td>AAAAGAGAATAGCTATGCATG</td>\n",
       "      <td>-0.5</td>\n",
       "      <td>28360</td>\n",
       "      <td>28380</td>\n",
       "    </tr>\n",
       "    <tr>\n",
       "      <th>2</th>\n",
       "      <td>AAAGATGATTTTGATGTGTTT</td>\n",
       "      <td>-0.8</td>\n",
       "      <td>28581</td>\n",
       "      <td>28601</td>\n",
       "    </tr>\n",
       "    <tr>\n",
       "      <th>3</th>\n",
       "      <td>CATGATGCAAACATCCGCGTT</td>\n",
       "      <td>-0.9</td>\n",
       "      <td>28377</td>\n",
       "      <td>28397</td>\n",
       "    </tr>\n",
       "    <tr>\n",
       "      <th>4</th>\n",
       "      <td>GATATTGCGATTGTCTTTGCT</td>\n",
       "      <td>-1.0</td>\n",
       "      <td>28731</td>\n",
       "      <td>28751</td>\n",
       "    </tr>\n",
       "  </tbody>\n",
       "</table>\n",
       "</div>"
      ],
      "text/plain": [
       "          match_sequence  log_odds   left  right\n",
       "0  AGATCTGAAAGATTGCGCGGT       1.2  28925  28945\n",
       "1  AAAAGAGAATAGCTATGCATG      -0.5  28360  28380\n",
       "2  AAAGATGATTTTGATGTGTTT      -0.8  28581  28601\n",
       "3  CATGATGCAAACATCCGCGTT      -0.9  28377  28397\n",
       "4  GATATTGCGATTGTCTTTGCT      -1.0  28731  28751"
      ]
     },
     "execution_count": 79,
     "metadata": {},
     "output_type": "execute_result"
    }
   ],
   "source": [
    "mg1655.motif_search(28000, 29000, +1, argR_pssm, n_best_matches=5)"
   ]
  },
  {
   "cell_type": "markdown",
   "id": "225e5e7c",
   "metadata": {
    "hidden": true
   },
   "source": [
    "Motif Matching near TSS"
   ]
  },
  {
   "cell_type": "code",
   "execution_count": 80,
   "id": "11fa34c1",
   "metadata": {
    "hidden": true
   },
   "outputs": [
    {
     "data": {
      "text/html": [
       "<div>\n",
       "<style scoped>\n",
       "    .dataframe tbody tr th:only-of-type {\n",
       "        vertical-align: middle;\n",
       "    }\n",
       "\n",
       "    .dataframe tbody tr th {\n",
       "        vertical-align: top;\n",
       "    }\n",
       "\n",
       "    .dataframe thead th {\n",
       "        text-align: right;\n",
       "    }\n",
       "</style>\n",
       "<table border=\"1\" class=\"dataframe\">\n",
       "  <thead>\n",
       "    <tr style=\"text-align: right;\">\n",
       "      <th></th>\n",
       "      <th>match_sequence</th>\n",
       "      <th>log_odds</th>\n",
       "      <th>left</th>\n",
       "      <th>right</th>\n",
       "    </tr>\n",
       "  </thead>\n",
       "  <tbody>\n",
       "    <tr>\n",
       "      <th>0</th>\n",
       "      <td>GTTTATCATTAATTTCTAATT</td>\n",
       "      <td>-2.5</td>\n",
       "      <td>28272</td>\n",
       "      <td>28292</td>\n",
       "    </tr>\n",
       "    <tr>\n",
       "      <th>1</th>\n",
       "      <td>ATCATTAATTTCTAATTATCA</td>\n",
       "      <td>-3.2</td>\n",
       "      <td>28276</td>\n",
       "      <td>28296</td>\n",
       "    </tr>\n",
       "    <tr>\n",
       "      <th>2</th>\n",
       "      <td>TAATTTCTAATTATCAGCGTT</td>\n",
       "      <td>-3.4</td>\n",
       "      <td>28281</td>\n",
       "      <td>28301</td>\n",
       "    </tr>\n",
       "    <tr>\n",
       "      <th>3</th>\n",
       "      <td>TATCATTAATTTCTAATTATC</td>\n",
       "      <td>-3.4</td>\n",
       "      <td>28275</td>\n",
       "      <td>28295</td>\n",
       "    </tr>\n",
       "    <tr>\n",
       "      <th>4</th>\n",
       "      <td>ATTTCTAATTATCAGCGTTTT</td>\n",
       "      <td>-3.8</td>\n",
       "      <td>28283</td>\n",
       "      <td>28303</td>\n",
       "    </tr>\n",
       "  </tbody>\n",
       "</table>\n",
       "</div>"
      ],
      "text/plain": [
       "          match_sequence  log_odds   left  right\n",
       "0  GTTTATCATTAATTTCTAATT      -2.5  28272  28292\n",
       "1  ATCATTAATTTCTAATTATCA      -3.2  28276  28296\n",
       "2  TAATTTCTAATTATCAGCGTT      -3.4  28281  28301\n",
       "3  TATCATTAATTTCTAATTATC      -3.4  28275  28295\n",
       "4  ATTTCTAATTATCAGCGTTTT      -3.8  28283  28303"
      ]
     },
     "execution_count": 80,
     "metadata": {},
     "output_type": "execute_result"
    }
   ],
   "source": [
    "mg1655.promoter_motif_search(28288, 1, argR_pssm, n_best_matches=5)"
   ]
  },
  {
   "cell_type": "markdown",
   "id": "f3a312a6",
   "metadata": {
    "hidden": true
   },
   "source": [
    "Getting Binding sites from the Bitome"
   ]
  },
  {
   "cell_type": "code",
   "execution_count": 81,
   "id": "ae4d8a1e",
   "metadata": {
    "hidden": true
   },
   "outputs": [
    {
     "name": "stderr",
     "output_type": "stream",
     "text": [
      "\n",
      "A value is trying to be set on a copy of a slice from a DataFrame.\n",
      "Try using .loc[row_indexer,col_indexer] = value instead\n",
      "\n",
      "See the caveats in the documentation: https://pandas.pydata.org/pandas-docs/stable/user_guide/indexing.html#returning-a-view-versus-a-copy\n"
     ]
    },
    {
     "data": {
      "text/html": [
       "<div>\n",
       "<style scoped>\n",
       "    .dataframe tbody tr th:only-of-type {\n",
       "        vertical-align: middle;\n",
       "    }\n",
       "\n",
       "    .dataframe tbody tr th {\n",
       "        vertical-align: top;\n",
       "    }\n",
       "\n",
       "    .dataframe thead th {\n",
       "        text-align: right;\n",
       "    }\n",
       "</style>\n",
       "<table border=\"1\" class=\"dataframe\">\n",
       "  <thead>\n",
       "    <tr style=\"text-align: right;\">\n",
       "      <th></th>\n",
       "      <th>left</th>\n",
       "      <th>right</th>\n",
       "      <th>mode</th>\n",
       "      <th>final_state</th>\n",
       "      <th>tf</th>\n",
       "      <th>strand</th>\n",
       "      <th>source</th>\n",
       "    </tr>\n",
       "    <tr>\n",
       "      <th>locus_tag</th>\n",
       "      <th></th>\n",
       "      <th></th>\n",
       "      <th></th>\n",
       "      <th></th>\n",
       "      <th></th>\n",
       "      <th></th>\n",
       "      <th></th>\n",
       "    </tr>\n",
       "  </thead>\n",
       "  <tbody>\n",
       "    <tr>\n",
       "      <th>ECK120011181</th>\n",
       "      <td>612650.0</td>\n",
       "      <td>612668</td>\n",
       "      <td>repressor</td>\n",
       "      <td>Fur-Fe&lt;sup&gt;2+&lt;/sup&gt;</td>\n",
       "      <td>Fur</td>\n",
       "      <td>NaN</td>\n",
       "      <td>RegulonDB</td>\n",
       "    </tr>\n",
       "    <tr>\n",
       "      <th>ECK120011181</th>\n",
       "      <td>612650.0</td>\n",
       "      <td>612668</td>\n",
       "      <td>repressor</td>\n",
       "      <td>Fur-Fe&lt;sup&gt;2+&lt;/sup&gt;</td>\n",
       "      <td>Fur</td>\n",
       "      <td>NaN</td>\n",
       "      <td>RegulonDB</td>\n",
       "    </tr>\n",
       "    <tr>\n",
       "      <th>ECK120011184</th>\n",
       "      <td>4516744.0</td>\n",
       "      <td>4516762</td>\n",
       "      <td>repressor</td>\n",
       "      <td>Fur-Fe&lt;sup&gt;2+&lt;/sup&gt;</td>\n",
       "      <td>Fur</td>\n",
       "      <td>NaN</td>\n",
       "      <td>RegulonDB</td>\n",
       "    </tr>\n",
       "    <tr>\n",
       "      <th>ECK120011188</th>\n",
       "      <td>1619005.0</td>\n",
       "      <td>1619019</td>\n",
       "      <td>activator</td>\n",
       "      <td>Fis</td>\n",
       "      <td>Fis</td>\n",
       "      <td>NaN</td>\n",
       "      <td>RegulonDB</td>\n",
       "    </tr>\n",
       "    <tr>\n",
       "      <th>ECK120011192</th>\n",
       "      <td>1619022.0</td>\n",
       "      <td>1619041</td>\n",
       "      <td>activator</td>\n",
       "      <td>Rob</td>\n",
       "      <td>Rob</td>\n",
       "      <td>NaN</td>\n",
       "      <td>RegulonDB</td>\n",
       "    </tr>\n",
       "  </tbody>\n",
       "</table>\n",
       "</div>"
      ],
      "text/plain": [
       "                   left    right       mode          final_state   tf  strand  \\\n",
       "locus_tag                                                                       \n",
       "ECK120011181   612650.0   612668  repressor  Fur-Fe<sup>2+</sup>  Fur     NaN   \n",
       "ECK120011181   612650.0   612668  repressor  Fur-Fe<sup>2+</sup>  Fur     NaN   \n",
       "ECK120011184  4516744.0  4516762  repressor  Fur-Fe<sup>2+</sup>  Fur     NaN   \n",
       "ECK120011188  1619005.0  1619019  activator                  Fis  Fis     NaN   \n",
       "ECK120011192  1619022.0  1619041  activator                  Rob  Rob     NaN   \n",
       "\n",
       "                 source  \n",
       "locus_tag                \n",
       "ECK120011181  RegulonDB  \n",
       "ECK120011181  RegulonDB  \n",
       "ECK120011184  RegulonDB  \n",
       "ECK120011188  RegulonDB  \n",
       "ECK120011192  RegulonDB  "
      ]
     },
     "execution_count": 81,
     "metadata": {},
     "output_type": "execute_result"
    }
   ],
   "source": [
    "bitome_tfbs_df = mg1655.tfbs_table[mg1655.tfbs_table['left'].notna()]\n",
    "bitome_tfbs_df['source'] = 'RegulonDB'\n",
    "bitome_tfbs_df.head()"
   ]
  },
  {
   "cell_type": "markdown",
   "id": "75cdfb3e-11b3-4b6e-9864-e5b25e1a3d8c",
   "metadata": {
    "heading_collapsed": true
   },
   "source": [
    "## M augmentation"
   ]
  },
  {
   "cell_type": "markdown",
   "id": "962dfe26-3cfe-47e5-9fb0-ca27b795a46e",
   "metadata": {
    "hidden": true
   },
   "source": [
    "### useful functions"
   ]
  },
  {
   "cell_type": "code",
   "execution_count": 27,
   "id": "29180865-f28e-45ec-997b-6451ae029691",
   "metadata": {
    "execution": {
     "iopub.execute_input": "2024-10-04T16:03:35.340646Z",
     "iopub.status.busy": "2024-10-04T16:03:35.340308Z",
     "iopub.status.idle": "2024-10-04T16:03:35.344359Z",
     "shell.execute_reply": "2024-10-04T16:03:35.343753Z",
     "shell.execute_reply.started": "2024-10-04T16:03:35.340631Z"
    },
    "hidden": true
   },
   "outputs": [],
   "source": [
    "def get_genes_in_component(df, component):\n",
    "    # Filtering the dataframe for True values in the specified component\n",
    "    # The result is a series of True/False values for each row\n",
    "    gene_presence_in_component = df[str(component)]\n",
    "    \n",
    "    # Filtering the series to only include rows (genes) where the value is True\n",
    "    genes_in_component = gene_presence_in_component[gene_presence_in_component]\n",
    "    \n",
    "    # The indices of the series now correspond to the gene names, \n",
    "    # so we can return them as a list\n",
    "    return genes_in_component.index.tolist()"
   ]
  },
  {
   "cell_type": "code",
   "execution_count": 28,
   "id": "3dd2f1d8-9f10-4968-bf35-4b269ce19301",
   "metadata": {
    "execution": {
     "iopub.execute_input": "2024-10-04T16:03:35.519519Z",
     "iopub.status.busy": "2024-10-04T16:03:35.519223Z",
     "iopub.status.idle": "2024-10-04T16:03:35.526562Z",
     "shell.execute_reply": "2024-10-04T16:03:35.525727Z",
     "shell.execute_reply.started": "2024-10-04T16:03:35.519489Z"
    },
    "hidden": true
   },
   "outputs": [],
   "source": [
    "def calculate_and_filter_correlations(gene_ids, regulator, log_tpm_precise_1k, A_p1k, iM_table, corr_threshold=0.5):\n",
    "    \"\"\"\n",
    "    Calculate correlation between gene expression and regulator activity for each gene,\n",
    "    convert the result to a dataframe, and filter out rows with correlation smaller than the threshold.\n",
    "\n",
    "    \"\"\"\n",
    "    # Calculate correlations\n",
    "    regulator_activity = A_p1k.loc[iM_table[iM_table['regulator_readable'] == regulator].index.tolist()[0]]\n",
    "\n",
    "    correlation_dict = {}\n",
    "    for gene_id in gene_ids:\n",
    "        gene_expression = log_tpm_precise_1k.loc[gene_id]\n",
    "        correlation = gene_expression.corr(regulator_activity)\n",
    "        correlation_dict[gene_id] = correlation\n",
    "\n",
    "    # Convert to dataframe and filter\n",
    "    df = pd.DataFrame.from_dict(correlation_dict, orient='index', columns=['Correlation'])\n",
    "    df = df[df['Correlation'] >= corr_threshold]\n",
    "\n",
    "    return df.index.to_list()"
   ]
  },
  {
   "cell_type": "code",
   "execution_count": 52,
   "id": "df536e17-605d-41bd-b4a5-e8b0f0d2599b",
   "metadata": {
    "execution": {
     "iopub.execute_input": "2024-10-04T16:20:34.005862Z",
     "iopub.status.busy": "2024-10-04T16:20:34.005496Z",
     "iopub.status.idle": "2024-10-04T16:20:34.010861Z",
     "shell.execute_reply": "2024-10-04T16:20:34.009988Z",
     "shell.execute_reply.started": "2024-10-04T16:20:34.005831Z"
    },
    "hidden": true
   },
   "outputs": [],
   "source": [
    "def get_gene_ids(dataframe, regulator):\n",
    "    \n",
    "    # Get all gene_ids for a specific regulator\n",
    "    gene_ids = dataframe[dataframe['regulator'] == regulator]['gene_id'].tolist()\n",
    "    return gene_ids"
   ]
  },
  {
   "cell_type": "code",
   "execution_count": 30,
   "id": "5ac26043-3485-4a4d-ae3d-6eb1f27635fc",
   "metadata": {
    "execution": {
     "iopub.execute_input": "2024-10-04T16:03:35.973995Z",
     "iopub.status.busy": "2024-10-04T16:03:35.973699Z",
     "iopub.status.idle": "2024-10-04T16:03:35.983170Z",
     "shell.execute_reply": "2024-10-04T16:03:35.982260Z",
     "shell.execute_reply.started": "2024-10-04T16:03:35.973965Z"
    },
    "hidden": true
   },
   "outputs": [],
   "source": [
    "import matplotlib.pyplot as plt\n",
    "from matplotlib_venn import venn2\n",
    "\n",
    "def venn_plot_and_genes(regulon, genes, regulator):\n",
    "    \"\"\"\n",
    "    Create a Venn diagram comparing the genes in the given dataframe with the original genes,\n",
    "    and print the genes in each subset of the diagram.\n",
    "    \n",
    "    \"\"\"\n",
    "    # Convert to sets\n",
    "    new_genes = set(regulon)\n",
    "    original_genes = set(genes)\n",
    "\n",
    "    # Plot Venn diagram\n",
    "    plt.figure(figsize=(4, 3))\n",
    "    venn2([new_genes, original_genes], set_labels = ('Regulon Genes', 'Updated Genes'))\n",
    "    plt.title(f'Venn Diagram for {regulator}')\n",
    "    plt.show()\n",
    "\n",
    "    # Print gene lists\n",
    "    # Only in filtered_genes\n",
    "    only_in_new = new_genes - original_genes\n",
    "    #print(\"Only in Regulon:\", only_in_new)\n",
    "\n",
    "    # Only in original_genes\n",
    "    only_in_original = original_genes - new_genes\n",
    "    #print(\"Only in updated genes:\", only_in_original)\n",
    "\n",
    "    # Intersection of both\n",
    "    intersection = new_genes & original_genes\n",
    "    #print(\"In both Regulon and updated genes:\", intersection)"
   ]
  },
  {
   "cell_type": "code",
   "execution_count": 31,
   "id": "f161d397-0baa-4835-acc3-146b362a8cbe",
   "metadata": {
    "execution": {
     "iopub.execute_input": "2024-10-04T16:03:36.346330Z",
     "iopub.status.busy": "2024-10-04T16:03:36.346018Z",
     "iopub.status.idle": "2024-10-04T16:03:36.354791Z",
     "shell.execute_reply": "2024-10-04T16:03:36.353936Z",
     "shell.execute_reply.started": "2024-10-04T16:03:36.346299Z"
    },
    "hidden": true
   },
   "outputs": [],
   "source": [
    "def explained_variance_subset_genes(A_p1k, M_p1k, log_tpm_precise_1k, component, genes_list):\n",
    "    # Copy the dataframe to avoid altering the original data\n",
    "    M_p1k_copied = M_p1k.copy()\n",
    "    \n",
    "    # Set the values for other genes to 0 for specific component\n",
    "    M_p1k_copied.loc[~M_p1k_copied.index.isin(genes_list), str(component)] = 0\n",
    "    \n",
    "    # Get samples that exist in both dataframes\n",
    "    common_samples = list(set(A_p1k.columns) & set(log_tpm_precise_1k.columns))\n",
    "\n",
    "    # Subset dataframes by these common samples\n",
    "    A_p1k = A_p1k[common_samples]\n",
    "    log_tpm_precise_1k = log_tpm_precise_1k[common_samples]\n",
    "\n",
    "    # Center the log_tpm_precise_1k dataframe\n",
    "    centered = log_tpm_precise_1k.subtract(log_tpm_precise_1k.mean(axis=0), axis=1)\n",
    "\n",
    "    # Initialize variables\n",
    "    base_err = np.linalg.norm(centered.values) ** 2\n",
    "\n",
    "    # Compute component contribution\n",
    "    ma_arr = np.dot(\n",
    "        M_p1k_copied.loc[:, str(component)].values.reshape(len(M_p1k), 1),\n",
    "        A_p1k.loc[component, :].values.reshape(1, len(common_samples)),\n",
    "    )\n",
    "\n",
    "    # Compute variance explained by this component only\n",
    "    sa_err = np.linalg.norm(ma_arr - centered.values) ** 2\n",
    "    rec_var = (1 - sa_err / base_err)\n",
    "    explained_variance = np.clip(rec_var, 0, 1)\n",
    "\n",
    "    return explained_variance"
   ]
  },
  {
   "cell_type": "code",
   "execution_count": 32,
   "id": "6b7921d9-449a-438e-9e95-9db4ad0e4d91",
   "metadata": {
    "execution": {
     "iopub.execute_input": "2024-10-04T16:03:36.641753Z",
     "iopub.status.busy": "2024-10-04T16:03:36.641456Z",
     "iopub.status.idle": "2024-10-04T16:03:36.649759Z",
     "shell.execute_reply": "2024-10-04T16:03:36.648943Z",
     "shell.execute_reply.started": "2024-10-04T16:03:36.641722Z"
    },
    "hidden": true
   },
   "outputs": [],
   "source": [
    "def compute_EV_diff_for_each_gene(A_p1k, M_p1k, log_tpm_precise_1k, component, original_genes, regulon_genes):\n",
    "    # Initialize an empty dataframe to store the results\n",
    "    explained_variance_change = pd.DataFrame(columns=['gene_name', 'change_explained_variance'])\n",
    "    \n",
    "    # Initialize a copy of original_genes to hold the new genes\n",
    "    new_genes = original_genes.copy()\n",
    "\n",
    "    # Loop over the regulon_genes list\n",
    "    for gene in regulon_genes:\n",
    "        # Check if the gene is not in the original_genes list\n",
    "        if gene not in original_genes:\n",
    "            # Add the gene to the original_genes list\n",
    "            original_genes.append(gene)\n",
    "\n",
    "            # Compute the explained variance with the new gene added\n",
    "            new_variance = explained_variance_subset_genes(A_p1k, M_p1k, log_tpm_precise_1k, component, original_genes)\n",
    "\n",
    "            # Remove the gene from the original_genes list\n",
    "            original_genes.remove(gene)\n",
    "\n",
    "            # Compute the explained variance without the new gene\n",
    "            original_variance = explained_variance_subset_genes(A_p1k, M_p1k, log_tpm_precise_1k, component, original_genes)\n",
    "\n",
    "            # Compute the change in explained variance\n",
    "            change_variance = new_variance - original_variance\n",
    "\n",
    "            # Append the result to the dataframe\n",
    "            explained_variance_change = explained_variance_change.append({'gene_name': gene, 'change_explained_variance': change_variance}, ignore_index=True)\n",
    "\n",
    "            # If the change in variance is positive, add the gene to new_genes\n",
    "            if change_variance > 0:\n",
    "                new_genes.append(gene)\n",
    "\n",
    "    # Sort the dataframe by the change_explained_variance column in descending order\n",
    "    explained_variance_change = explained_variance_change.sort_values(by='change_explained_variance', ascending=False)\n",
    "\n",
    "    # Reset the index of the dataframe\n",
    "    explained_variance_change = explained_variance_change.reset_index(drop=True)\n",
    "\n",
    "    # Return the resulting dataframe and the new list of genes\n",
    "    return explained_variance_change, new_genes"
   ]
  },
  {
   "cell_type": "code",
   "execution_count": 33,
   "id": "c412c698-8daf-4d83-b888-536700a7bb87",
   "metadata": {
    "execution": {
     "iopub.execute_input": "2024-10-04T16:03:37.083069Z",
     "iopub.status.busy": "2024-10-04T16:03:37.082772Z",
     "iopub.status.idle": "2024-10-04T16:03:37.089579Z",
     "shell.execute_reply": "2024-10-04T16:03:37.088768Z",
     "shell.execute_reply.started": "2024-10-04T16:03:37.083040Z"
    },
    "hidden": true
   },
   "outputs": [],
   "source": [
    "def compute_and_print_variances(A_p1k, M_p1k, log_tpm_precise_1k, iM_table, original_genes, regulon_genes, new_genes):\n",
    "    component = iM_table[iM_table['regulator_readable'] == 'ArgR'].index.tolist()[0]\n",
    "    original_genes_variance = explained_variance_subset_genes(A_p1k, M_p1k, log_tpm_precise_1k, component, original_genes)\n",
    "    regulon_genes_variance = explained_variance_subset_genes(A_p1k, M_p1k, log_tpm_precise_1k, component, regulon_genes)\n",
    "    component_original = explained_variance_subset_genes(A_p1k, M_p1k, log_tpm_precise_1k, component, log_tpm_precise_1k.index.to_list())\n",
    "    new_genes_variance = explained_variance_subset_genes(A_p1k, M_p1k, log_tpm_precise_1k, component, new_genes)\n",
    "\n",
    "    print(\"Variance explained by original_genes: \", original_genes_variance)\n",
    "    print(\"Variance explained by regulon_genes: \", regulon_genes_variance)\n",
    "    print(\"Variance explained by original component: \", component_original)\n",
    "    print(\"Variance explained by new_genes: \", new_genes_variance)"
   ]
  },
  {
   "cell_type": "code",
   "execution_count": 45,
   "id": "034b75c5-d964-4c62-942b-c1a80374c1f5",
   "metadata": {
    "execution": {
     "iopub.execute_input": "2024-10-04T16:08:00.059308Z",
     "iopub.status.busy": "2024-10-04T16:08:00.058958Z",
     "iopub.status.idle": "2024-10-04T16:08:00.064835Z",
     "shell.execute_reply": "2024-10-04T16:08:00.063937Z",
     "shell.execute_reply.started": "2024-10-04T16:08:00.059293Z"
    },
    "hidden": true
   },
   "outputs": [
    {
     "name": "stdout",
     "output_type": "stream",
     "text": [
      "['b0032', 'b0033', 'b0034', 'b0272', 'b0273', 'b0709', 'b0860', 'b0861', 'b0862', 'b0863', 'b0864', 'b2306', 'b2307', 'b2308', 'b2309', 'b2818', 'b3172', 'b3359', 'b3744', 'b3957', 'b3958', 'b3959', 'b3960', 'b4254']\n"
     ]
    }
   ],
   "source": [
    "ArgR_original_genes = get_genes_in_component(P1K_Gene_Presence_Matrix, list(iM_table[iM_table['regulator_readable'] == 'ArgR']['name'])[0])\n",
    "print(ArgR_original_genes)"
   ]
  },
  {
   "cell_type": "code",
   "execution_count": 53,
   "id": "0db09d85-fc70-4ed1-ae3e-316a22a2c7ca",
   "metadata": {
    "execution": {
     "iopub.execute_input": "2024-10-04T16:20:36.784300Z",
     "iopub.status.busy": "2024-10-04T16:20:36.783939Z",
     "iopub.status.idle": "2024-10-04T16:20:36.791394Z",
     "shell.execute_reply": "2024-10-04T16:20:36.790497Z",
     "shell.execute_reply.started": "2024-10-04T16:20:36.784269Z"
    },
    "hidden": true
   },
   "outputs": [
    {
     "name": "stdout",
     "output_type": "stream",
     "text": [
      "['b3960', 'b3172', 'b0273', 'b3957', 'b3166', 'b3359', 'b4254', 'b3959', 'b2818', 'b3958', 'b3165', 'b3170', 'b0860', 'b0861', 'b0864', 'b0862', 'b1747', 'b1745', 'b1748', 'b1746', 'b1744', 'b0032', 'b0863', 'b0033', 'b3212', 'b3213', 'b3214', 'b2309', 'b2307', 'b2306', 'b2308', 'b3168', 'b0874', 'b3169', 'b3164', 'b3167', 'b3237', 'b0923', 'b1723', 'b2669', 'b1967', 'b1605', 'b0045', 'b3633', 'b2298', 'b2313', 'b0839', 'b1301', 'b0854', 'b0812', 'b0300', 'b4077', 'b0112', 'b2471', 'b3151', 'b3211', 'b0889', 'b3390', 'b4246', 'b2462', 'b0095']\n"
     ]
    }
   ],
   "source": [
    "ArgR_regulon_genes = get_gene_ids(Regulon_DB_P1K, \"ArgR\")\n",
    "print(ArgR_regulon_genes)"
   ]
  },
  {
   "cell_type": "code",
   "execution_count": 23,
   "id": "663c57c6-2903-4daa-945c-d0fd19b897e1",
   "metadata": {
    "hidden": true
   },
   "outputs": [
    {
     "name": "stdout",
     "output_type": "stream",
     "text": [
      "['b3960', 'b3172', 'b0273', 'b3957', 'b3359', 'b4254', 'b3959', 'b2818', 'b3958', 'b0860', 'b0032', 'b0033', 'b3212', 'b3213', 'b3214', 'b2309', 'b2307', 'b2306', 'b2308', 'b0874', 'b3237', 'b2313', 'b0112', 'b3151', 'b0889']\n"
     ]
    }
   ],
   "source": [
    "ArgR_genes_from_corr = calculate_and_filter_correlations(ArgR_regulon_genes, \"ArgR\", log_tpm_precise_1k, A_p1k, iM_table, corr_threshold=0.5)\n",
    "print(ArgR_genes_from_corr)"
   ]
  },
  {
   "cell_type": "code",
   "execution_count": 24,
   "id": "61856968-2112-458c-b79f-63c49d405886",
   "metadata": {
    "hidden": true
   },
   "outputs": [],
   "source": [
    "ArgR_corr_genes = set(ArgR_genes_from_corr+ArgR_original_genes)"
   ]
  },
  {
   "cell_type": "code",
   "execution_count": 25,
   "id": "0fc79325-b66f-47d5-8fcd-a584987397be",
   "metadata": {
    "hidden": true
   },
   "outputs": [
    {
     "data": {
      "image/png": "[encoded data removed]",
      "text/plain": [
       "<Figure size 400x300 with 1 Axes>"
      ]
     },
     "metadata": {},
     "output_type": "display_data"
    },
    {
     "name": "stdout",
     "output_type": "stream",
     "text": [
      "Variance explained by original_genes:  0.007256095475200897\n",
      "Variance explained by regulon_genes:  0.0069551261356307625\n",
      "Variance explained by original component:  0.007572620446356759\n",
      "Variance explained by new_genes:  0.007727355554288162\n"
     ]
    }
   ],
   "source": [
    "explained_variance_change, ArgR_new_genes = compute_EV_diff_for_each_gene(A_p1k, M_p1k, log_tpm_precise_1k, iM_table[iM_table['regulator_readable'] == 'ArgR'].index.tolist()[0], ArgR_original_genes, ArgR_regulon_genes)\n",
    "venn_plot_and_genes(ArgR_regulon_genes, ArgR_new_genes, 'ArgR')\n",
    "compute_and_print_variances(A_p1k, M_p1k, log_tpm_precise_1k, iM_table, ArgR_original_genes, ArgR_regulon_genes, ArgR_new_genes)"
   ]
  },
  {
   "cell_type": "code",
   "execution_count": 30,
   "id": "30936ef5-de09-4424-a6ff-b42c73f73216",
   "metadata": {
    "hidden": true
   },
   "outputs": [],
   "source": [
    "import matplotlib.pyplot as plt\n",
    "from matplotlib_venn import venn2\n",
    "\n",
    "def venn_plot_and_genes_original(regulon, genes, regulator):\n",
    "    \"\"\"\n",
    "    Create a Venn diagram comparing the genes in the given dataframe with the original genes,\n",
    "    and print the genes in each subset of the diagram.\n",
    "    \n",
    "    \"\"\"\n",
    "    # Convert to sets\n",
    "    new_genes = set(regulon)\n",
    "    original_genes = set(genes)\n",
    "\n",
    "    # Plot Venn diagram\n",
    "    plt.figure(figsize=(4, 3))\n",
    "    venn2([new_genes, original_genes], set_labels = ('Regulon Genes', 'Original Genes'))\n",
    "    plt.title(f'Venn Diagram for {regulator}')\n",
    "    plt.show()\n",
    "\n",
    "    # Print gene lists\n",
    "    # Only in filtered_genes\n",
    "    only_in_new = new_genes - original_genes\n",
    "    #print(\"Only in Regulon:\", only_in_new)\n",
    "\n",
    "    # Only in original_genes\n",
    "    only_in_original = original_genes - new_genes\n",
    "    #print(\"Only in updated genes:\", only_in_original)\n",
    "\n",
    "    # Intersection of both\n",
    "    intersection = new_genes & original_genes\n",
    "    #print(\"In both Regulon and updated genes:\", intersection)"
   ]
  },
  {
   "cell_type": "code",
   "execution_count": 31,
   "id": "202a9eb6-9c54-41c0-8a22-d9cc351a859b",
   "metadata": {
    "hidden": true
   },
   "outputs": [
    {
     "data": {
      "image/png": "[encoded data removed]",
      "text/plain": [
       "<Figure size 400x300 with 1 Axes>"
      ]
     },
     "metadata": {},
     "output_type": "display_data"
    }
   ],
   "source": [
    "venn_plot_and_genes_original(ArgR_regulon_genes, ArgR_original_genes, 'ArgR')"
   ]
  },
  {
   "cell_type": "code",
   "execution_count": 33,
   "id": "54124d0d-b94e-4eed-9290-f4a17209da6f",
   "metadata": {
    "hidden": true
   },
   "outputs": [
    {
     "name": "stdout",
     "output_type": "stream",
     "text": [
      "   gene_name  change_explained_variance\n",
      "0      b4246               7.641517e-05\n",
      "1      b0854               7.146228e-05\n",
      "2      b3212               6.455102e-05\n",
      "3      b3213               4.682758e-05\n",
      "4      b0874               4.118248e-05\n",
      "5      b2313               3.615611e-05\n",
      "6      b1301               2.636979e-05\n",
      "7      b3214               2.586112e-05\n",
      "8      b3151               2.314424e-05\n",
      "9      b2471               1.941619e-05\n",
      "10     b0889               1.112272e-05\n",
      "11     b3237               9.605101e-06\n",
      "12     b2462               7.051721e-06\n",
      "13     b1745               4.323461e-06\n",
      "14     b1744               2.952860e-06\n",
      "15     b0045               2.166561e-06\n",
      "16     b3170               1.585728e-06\n",
      "17     b3390               9.476038e-07\n",
      "18     b3169               1.140467e-07\n",
      "19     b0095               4.287580e-09\n",
      "20     b3165              -3.656540e-08\n",
      "21     b3168              -5.771196e-08\n",
      "22     b3164              -8.722684e-08\n",
      "23     b3167              -1.008441e-07\n",
      "24     b3166              -3.321577e-07\n",
      "25     b1746              -5.444107e-07\n",
      "26     b0923              -1.099585e-06\n",
      "27     b0839              -1.211796e-06\n",
      "28     b1723              -3.272745e-06\n",
      "29     b4077              -4.654105e-06\n",
      "30     b0300              -4.981050e-06\n",
      "31     b3633              -5.857720e-06\n",
      "32     b0112              -1.185661e-05\n",
      "33     b1748              -1.864838e-05\n",
      "34     b1747              -2.224994e-05\n",
      "35     b1605              -2.475087e-05\n",
      "36     b3211              -3.700995e-05\n",
      "37     b1967              -3.714065e-05\n",
      "38     b0812              -3.753825e-05\n",
      "39     b2298              -5.480752e-05\n",
      "40     b2669              -1.162872e-04\n"
     ]
    }
   ],
   "source": [
    "print(explained_variance_change)"
   ]
  },
  {
   "cell_type": "code",
   "execution_count": 38,
   "id": "9192d992-2d80-4d8c-ae16-f7f5ae7fd73b",
   "metadata": {
    "hidden": true
   },
   "outputs": [
    {
     "data": {
      "image/png": "[encoded data removed]",
      "text/plain": [
       "<Figure size 640x480 with 1 Axes>"
      ]
     },
     "metadata": {},
     "output_type": "display_data"
    }
   ],
   "source": [
    "from matplotlib_venn import venn3\n",
    "import matplotlib.pyplot as plt\n",
    "\n",
    "# Create a dictionary where keys are the names of the gene lists\n",
    "# and values are the gene lists converted to set data type\n",
    "gene_sets = {'Explained_variance_updated': set(ArgR_new_genes), 'Regulon': set(ArgR_regulon_genes), 'Original': set(ArgR_original_genes)}\n",
    "\n",
    "# Create the Venn diagram\n",
    "venn3([set(i) for i in gene_sets.values()], set_labels = gene_sets.keys())\n",
    "\n",
    "# Display the plot\n",
    "plt.show()"
   ]
  }
 ],
 "metadata": {
  "kernelspec": {
   "display_name": "Python 3 (ipykernel)",
   "language": "python",
   "name": "python3"
  },
  "language_info": {
   "codemirror_mode": {
    "name": "ipython",
    "version": 3
   },
   "file_extension": ".py",
   "mimetype": "text/x-python",
   "name": "python",
   "nbconvert_exporter": "python",
   "pygments_lexer": "ipython3",
   "version": "3.9.10"
  },
  "toc": {
   "base_numbering": 1,
   "nav_menu": {},
   "number_sections": true,
   "sideBar": true,
   "skip_h1_title": false,
   "title_cell": "Table of Contents",
   "title_sidebar": "Contents",
   "toc_cell": false,
   "toc_position": {},
   "toc_section_display": true,
   "toc_window_display": false
  }
 },
 "nbformat": 4,
 "nbformat_minor": 5
}
