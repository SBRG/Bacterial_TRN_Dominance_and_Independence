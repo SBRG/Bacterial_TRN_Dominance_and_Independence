{
 "cells": [
  {
   "cell_type": "markdown",
   "id": "d4b4007d-668a-490c-b737-e6bd5ac73624",
   "metadata": {},
   "source": [
    "# 5_Exp_Var_all_methods"
   ]
  },
  {
   "cell_type": "code",
   "execution_count": 1,
   "id": "3bbfb267-dbc7-4ccf-99cb-a3dbaca75f89",
   "metadata": {
    "execution": {
     "iopub.execute_input": "2024-08-30T06:02:00.745264Z",
     "iopub.status.busy": "2024-08-30T06:02:00.744824Z",
     "iopub.status.idle": "2024-08-30T06:02:02.901846Z",
     "shell.execute_reply": "2024-08-30T06:02:02.901212Z",
     "shell.execute_reply.started": "2024-08-30T06:02:00.745229Z"
    }
   },
   "outputs": [],
   "source": [
    "from pathlib import Path\n",
    "import sys\n",
    "import os.path\n",
    "import matplotlib\n",
    "import matplotlib.pyplot as plt\n",
    "import numpy as np\n",
    "import pandas as pd\n",
    "from scipy.stats import f_oneway, gaussian_kde, mannwhitneyu, pearsonr, spearmanr\n",
    "import seaborn as sns\n",
    "from tqdm.notebook import tqdm\n",
    "from pymodulon.compare import compare_ica\n",
    "from pymodulon.core import IcaData\n",
    "from pymodulon.io import load_json_model, save_to_json\n",
    "from pymodulon.plotting import *\n",
    "\n",
    "import json\n",
    "\n",
    "from pymodulon.util import explained_variance\n",
    "from pymodulon.imodulondb import imdb_gene_presence\n",
    "\n",
    "%matplotlib inline\n",
    "%config  InlineBackend.figure_format = 'png'\n",
    "\n",
    "sns.set_style('whitegrid')"
   ]
  },
  {
   "cell_type": "code",
   "execution_count": 2,
   "id": "b8e7f4ce-865a-45e1-a12a-c54aa84bc4ea",
   "metadata": {
    "execution": {
     "iopub.execute_input": "2024-08-30T06:02:02.907147Z",
     "iopub.status.busy": "2024-08-30T06:02:02.905895Z",
     "iopub.status.idle": "2024-08-30T06:02:23.087856Z",
     "shell.execute_reply": "2024-08-30T06:02:23.087197Z",
     "shell.execute_reply.started": "2024-08-30T06:02:02.907121Z"
    }
   },
   "outputs": [],
   "source": [
    "precise1k = load_json_model('../Data/p1k.json.gz')"
   ]
  },
  {
   "cell_type": "code",
   "execution_count": 6,
   "id": "053eabdc-a92a-4b95-93e2-4992935d8279",
   "metadata": {
    "execution": {
     "iopub.execute_input": "2024-08-30T16:17:49.281706Z",
     "iopub.status.busy": "2024-08-30T16:17:49.281489Z",
     "iopub.status.idle": "2024-08-30T16:17:49.287013Z",
     "shell.execute_reply": "2024-08-30T16:17:49.286650Z",
     "shell.execute_reply.started": "2024-08-30T16:17:49.281692Z"
    },
    "jupyter": {
     "source_hidden": true
    }
   },
   "outputs": [],
   "source": [
    "def explained_variance_each_component(\n",
    "    M_matrix, A_matrix, log_tpm , genes=None, samples=None, imodulons=None\n",
    "):\n",
    "\n",
    "    # Check inputs\n",
    "    if genes is None:\n",
    "        genes = log_tpm.index\n",
    "    elif isinstance(genes, str):\n",
    "        genes = [genes]\n",
    "\n",
    "    if samples is None:\n",
    "        samples = log_tpm.columns\n",
    "    elif isinstance(samples, str):\n",
    "        samples = [samples]\n",
    "\n",
    "    if imodulons is None:\n",
    "        imodulons = M_matrix.columns\n",
    "    elif isinstance(imodulons, str) or isinstance(imodulons, int):\n",
    "        imodulons = [imodulons]\n",
    "\n",
    "    centered = log_tpm\n",
    "    \n",
    "    # Account for normalization procedures before ICA (X=SA-x_mean)\n",
    "    baseline = centered.subtract(centered.mean(axis=0), axis=1)\n",
    "    baseline = baseline.loc[genes, samples]\n",
    "\n",
    "    # Initialize variables\n",
    "    base_err = np.linalg.norm(baseline) ** 2\n",
    "    MA = np.zeros(baseline.shape)\n",
    "    rec_var = [0]\n",
    "    ma_arrs = {}\n",
    "    ma_weights = {}\n",
    "    explained_variance = []\n",
    "    i = 0\n",
    "    \n",
    "    # Get individual modulon contributions\n",
    "    for k in imodulons:\n",
    "        ma_arr = np.dot(\n",
    "            M_matrix.loc[genes, k].values.reshape(len(genes), 1),\n",
    "            A_matrix.loc[k, samples].values.reshape(1, len(samples)),\n",
    "        )\n",
    "        ma_arrs[k] = ma_arr\n",
    "        ma_weights[k] = np.sum(ma_arr**2)\n",
    "\n",
    "    # Calculate explained variance in the original order\n",
    "    for k in imodulons:\n",
    "        MA = MA + ma_arrs[k]\n",
    "        sa_err = np.linalg.norm(MA - baseline) ** 2\n",
    "        rec_var.append((1 - sa_err / base_err))\n",
    "        explained_variance.append((k, rec_var[i+1] - rec_var[i]))\n",
    "        i += 1\n",
    "\n",
    "    # Create a DataFrame from the collected data without sorting by explained variance\n",
    "    explained_variance_df = pd.DataFrame(explained_variance, columns=['iModulon', 'Explained Variance'])\n",
    "    \n",
    "    return explained_variance_df"
   ]
  },
  {
   "cell_type": "markdown",
   "id": "3ad567e9-9c00-4227-92de-1476708dc3a0",
   "metadata": {},
   "source": [
    "## Principal Component Analysis"
   ]
  },
  {
   "cell_type": "code",
   "execution_count": 4,
   "id": "f5e08a32-0a48-484a-9d90-1751bc5a84ef",
   "metadata": {
    "execution": {
     "iopub.execute_input": "2024-08-30T06:02:23.094628Z",
     "iopub.status.busy": "2024-08-30T06:02:23.094438Z",
     "iopub.status.idle": "2024-08-30T06:02:23.360974Z",
     "shell.execute_reply": "2024-08-30T06:02:23.360323Z",
     "shell.execute_reply.started": "2024-08-30T06:02:23.094609Z"
    }
   },
   "outputs": [],
   "source": [
    "components_pca = pd.read_csv('./Results/PCA/M_PCA.csv', index_col=0)"
   ]
  },
  {
   "cell_type": "code",
   "execution_count": 5,
   "id": "81b91841-75cd-46b0-9251-cadbb82c3e97",
   "metadata": {
    "execution": {
     "iopub.execute_input": "2024-08-30T06:02:23.364553Z",
     "iopub.status.busy": "2024-08-30T06:02:23.363408Z",
     "iopub.status.idle": "2024-08-30T06:02:23.439529Z",
     "shell.execute_reply": "2024-08-30T06:02:23.438873Z",
     "shell.execute_reply.started": "2024-08-30T06:02:23.364528Z"
    }
   },
   "outputs": [],
   "source": [
    "activities_pca = pd.read_csv('./Results/PCA/A_PCA.csv', index_col=0).T"
   ]
  },
  {
   "cell_type": "code",
   "execution_count": 7,
   "id": "81caba14-2673-4334-bf99-4dfee2f0a38b",
   "metadata": {
    "execution": {
     "iopub.execute_input": "2024-08-30T16:18:21.691331Z",
     "iopub.status.busy": "2024-08-30T16:18:21.691133Z",
     "iopub.status.idle": "2024-08-30T16:18:32.027013Z",
     "shell.execute_reply": "2024-08-30T16:18:32.026375Z",
     "shell.execute_reply.started": "2024-08-30T16:18:21.691317Z"
    }
   },
   "outputs": [],
   "source": [
    "PCA_explained_variance = explained_variance_each_component(components_pca, activities_pca, precise1k.X)"
   ]
  },
  {
   "cell_type": "code",
   "execution_count": 8,
   "id": "e2f7447f-cc3f-4441-85d0-49896b8da671",
   "metadata": {
    "execution": {
     "iopub.execute_input": "2024-08-30T16:18:39.980005Z",
     "iopub.status.busy": "2024-08-30T16:18:39.979776Z",
     "iopub.status.idle": "2024-08-30T16:18:39.986646Z",
     "shell.execute_reply": "2024-08-30T16:18:39.986322Z",
     "shell.execute_reply.started": "2024-08-30T16:18:39.979988Z"
    }
   },
   "outputs": [
    {
     "data": {
      "text/html": [
       "<div>\n",
       "<style scoped>\n",
       "    .dataframe tbody tr th:only-of-type {\n",
       "        vertical-align: middle;\n",
       "    }\n",
       "\n",
       "    .dataframe tbody tr th {\n",
       "        vertical-align: top;\n",
       "    }\n",
       "\n",
       "    .dataframe thead th {\n",
       "        text-align: right;\n",
       "    }\n",
       "</style>\n",
       "<table border=\"1\" class=\"dataframe\">\n",
       "  <thead>\n",
       "    <tr style=\"text-align: right;\">\n",
       "      <th></th>\n",
       "      <th>iModulon</th>\n",
       "      <th>Explained Variance</th>\n",
       "    </tr>\n",
       "  </thead>\n",
       "  <tbody>\n",
       "    <tr>\n",
       "      <th>0</th>\n",
       "      <td>Component_1</td>\n",
       "      <td>0.290072</td>\n",
       "    </tr>\n",
       "    <tr>\n",
       "      <th>1</th>\n",
       "      <td>Component_2</td>\n",
       "      <td>0.114001</td>\n",
       "    </tr>\n",
       "    <tr>\n",
       "      <th>2</th>\n",
       "      <td>Component_3</td>\n",
       "      <td>0.094801</td>\n",
       "    </tr>\n",
       "    <tr>\n",
       "      <th>3</th>\n",
       "      <td>Component_4</td>\n",
       "      <td>0.057818</td>\n",
       "    </tr>\n",
       "    <tr>\n",
       "      <th>4</th>\n",
       "      <td>Component_5</td>\n",
       "      <td>0.046460</td>\n",
       "    </tr>\n",
       "    <tr>\n",
       "      <th>...</th>\n",
       "      <td>...</td>\n",
       "      <td>...</td>\n",
       "    </tr>\n",
       "    <tr>\n",
       "      <th>245</th>\n",
       "      <td>Component_246</td>\n",
       "      <td>0.000098</td>\n",
       "    </tr>\n",
       "    <tr>\n",
       "      <th>246</th>\n",
       "      <td>Component_247</td>\n",
       "      <td>0.000097</td>\n",
       "    </tr>\n",
       "    <tr>\n",
       "      <th>247</th>\n",
       "      <td>Component_248</td>\n",
       "      <td>0.000097</td>\n",
       "    </tr>\n",
       "    <tr>\n",
       "      <th>248</th>\n",
       "      <td>Component_249</td>\n",
       "      <td>0.000096</td>\n",
       "    </tr>\n",
       "    <tr>\n",
       "      <th>249</th>\n",
       "      <td>Component_250</td>\n",
       "      <td>0.000094</td>\n",
       "    </tr>\n",
       "  </tbody>\n",
       "</table>\n",
       "<p>250 rows × 2 columns</p>\n",
       "</div>"
      ],
      "text/plain": [
       "          iModulon  Explained Variance\n",
       "0      Component_1            0.290072\n",
       "1      Component_2            0.114001\n",
       "2      Component_3            0.094801\n",
       "3      Component_4            0.057818\n",
       "4      Component_5            0.046460\n",
       "..             ...                 ...\n",
       "245  Component_246            0.000098\n",
       "246  Component_247            0.000097\n",
       "247  Component_248            0.000097\n",
       "248  Component_249            0.000096\n",
       "249  Component_250            0.000094\n",
       "\n",
       "[250 rows x 2 columns]"
      ]
     },
     "execution_count": 8,
     "metadata": {},
     "output_type": "execute_result"
    }
   ],
   "source": [
    "PCA_explained_variance"
   ]
  },
  {
   "cell_type": "markdown",
   "id": "1160a9e2-f622-408b-bafe-946e8cb85ddb",
   "metadata": {},
   "source": [
    "## Independent Principal Component Analysis"
   ]
  },
  {
   "cell_type": "code",
   "execution_count": 10,
   "id": "8d27b17e-39ec-4c68-87b9-d23bdc67fa6e",
   "metadata": {
    "execution": {
     "iopub.execute_input": "2024-08-30T16:19:04.304663Z",
     "iopub.status.busy": "2024-08-30T16:19:04.304466Z",
     "iopub.status.idle": "2024-08-30T16:19:04.466827Z",
     "shell.execute_reply": "2024-08-30T16:19:04.466350Z",
     "shell.execute_reply.started": "2024-08-30T16:19:04.304650Z"
    }
   },
   "outputs": [],
   "source": [
    "components_ipca = pd.read_csv('./Results/IPCA/components_ipca.csv', index_col=0)"
   ]
  },
  {
   "cell_type": "code",
   "execution_count": 11,
   "id": "c1ff5244-2699-4de0-8cb1-8c0804b3c301",
   "metadata": {
    "execution": {
     "iopub.execute_input": "2024-08-30T16:19:04.628102Z",
     "iopub.status.busy": "2024-08-30T16:19:04.627893Z",
     "iopub.status.idle": "2024-08-30T16:19:04.689587Z",
     "shell.execute_reply": "2024-08-30T16:19:04.689191Z",
     "shell.execute_reply.started": "2024-08-30T16:19:04.628089Z"
    }
   },
   "outputs": [],
   "source": [
    "activities_ipca = pd.read_csv('./Results/IPCA/loadings_variables_ipca.csv', index_col=0).T"
   ]
  },
  {
   "cell_type": "code",
   "execution_count": 22,
   "id": "fcaa1f5c-fae2-47b4-88e7-911aa51151a8",
   "metadata": {
    "execution": {
     "iopub.execute_input": "2024-08-30T16:20:12.410229Z",
     "iopub.status.busy": "2024-08-30T16:20:12.410012Z",
     "iopub.status.idle": "2024-08-30T16:20:23.612075Z",
     "shell.execute_reply": "2024-08-30T16:20:23.611438Z",
     "shell.execute_reply.started": "2024-08-30T16:20:12.410212Z"
    }
   },
   "outputs": [],
   "source": [
    "IPCA_explained_variance = explained_variance_each_component(components_ipca, activities_ipca, precise1k.X)"
   ]
  },
  {
   "cell_type": "code",
   "execution_count": 23,
   "id": "4634ff12-4809-4ac1-b70b-05d885863bf2",
   "metadata": {
    "execution": {
     "iopub.execute_input": "2024-08-30T16:20:23.613463Z",
     "iopub.status.busy": "2024-08-30T16:20:23.613193Z",
     "iopub.status.idle": "2024-08-30T16:20:23.621820Z",
     "shell.execute_reply": "2024-08-30T16:20:23.621319Z",
     "shell.execute_reply.started": "2024-08-30T16:20:23.613442Z"
    }
   },
   "outputs": [
    {
     "data": {
      "text/html": [
       "<div>\n",
       "<style scoped>\n",
       "    .dataframe tbody tr th:only-of-type {\n",
       "        vertical-align: middle;\n",
       "    }\n",
       "\n",
       "    .dataframe tbody tr th {\n",
       "        vertical-align: top;\n",
       "    }\n",
       "\n",
       "    .dataframe thead th {\n",
       "        text-align: right;\n",
       "    }\n",
       "</style>\n",
       "<table border=\"1\" class=\"dataframe\">\n",
       "  <thead>\n",
       "    <tr style=\"text-align: right;\">\n",
       "      <th></th>\n",
       "      <th>iModulon</th>\n",
       "      <th>Explained Variance</th>\n",
       "    </tr>\n",
       "  </thead>\n",
       "  <tbody>\n",
       "    <tr>\n",
       "      <th>0</th>\n",
       "      <td>IPC1</td>\n",
       "      <td>8.212769e-07</td>\n",
       "    </tr>\n",
       "    <tr>\n",
       "      <th>1</th>\n",
       "      <td>IPC2</td>\n",
       "      <td>4.610091e-07</td>\n",
       "    </tr>\n",
       "    <tr>\n",
       "      <th>2</th>\n",
       "      <td>IPC3</td>\n",
       "      <td>8.013879e-07</td>\n",
       "    </tr>\n",
       "    <tr>\n",
       "      <th>3</th>\n",
       "      <td>IPC4</td>\n",
       "      <td>7.753888e-07</td>\n",
       "    </tr>\n",
       "    <tr>\n",
       "      <th>4</th>\n",
       "      <td>IPC5</td>\n",
       "      <td>4.721739e-07</td>\n",
       "    </tr>\n",
       "    <tr>\n",
       "      <th>...</th>\n",
       "      <td>...</td>\n",
       "      <td>...</td>\n",
       "    </tr>\n",
       "    <tr>\n",
       "      <th>245</th>\n",
       "      <td>IPC246</td>\n",
       "      <td>2.867657e-07</td>\n",
       "    </tr>\n",
       "    <tr>\n",
       "      <th>246</th>\n",
       "      <td>IPC247</td>\n",
       "      <td>2.964287e-07</td>\n",
       "    </tr>\n",
       "    <tr>\n",
       "      <th>247</th>\n",
       "      <td>IPC248</td>\n",
       "      <td>2.984583e-07</td>\n",
       "    </tr>\n",
       "    <tr>\n",
       "      <th>248</th>\n",
       "      <td>IPC249</td>\n",
       "      <td>2.976146e-07</td>\n",
       "    </tr>\n",
       "    <tr>\n",
       "      <th>249</th>\n",
       "      <td>IPC250</td>\n",
       "      <td>9.454651e-07</td>\n",
       "    </tr>\n",
       "  </tbody>\n",
       "</table>\n",
       "<p>250 rows × 2 columns</p>\n",
       "</div>"
      ],
      "text/plain": [
       "    iModulon  Explained Variance\n",
       "0       IPC1        8.212769e-07\n",
       "1       IPC2        4.610091e-07\n",
       "2       IPC3        8.013879e-07\n",
       "3       IPC4        7.753888e-07\n",
       "4       IPC5        4.721739e-07\n",
       "..       ...                 ...\n",
       "245   IPC246        2.867657e-07\n",
       "246   IPC247        2.964287e-07\n",
       "247   IPC248        2.984583e-07\n",
       "248   IPC249        2.976146e-07\n",
       "249   IPC250        9.454651e-07\n",
       "\n",
       "[250 rows x 2 columns]"
      ]
     },
     "execution_count": 23,
     "metadata": {},
     "output_type": "execute_result"
    }
   ],
   "source": [
    "IPCA_explained_variance"
   ]
  },
  {
   "cell_type": "markdown",
   "id": "8de25373-35a7-45f0-8df3-8338fff242da",
   "metadata": {},
   "source": [
    "## sparse IPCA"
   ]
  },
  {
   "cell_type": "code",
   "execution_count": 24,
   "id": "4b7bf2a4-e032-4cf7-9b0d-2734374ecb3f",
   "metadata": {
    "execution": {
     "iopub.execute_input": "2024-08-30T16:20:23.622931Z",
     "iopub.status.busy": "2024-08-30T16:20:23.622504Z",
     "iopub.status.idle": "2024-08-30T16:20:23.779906Z",
     "shell.execute_reply": "2024-08-30T16:20:23.779458Z",
     "shell.execute_reply.started": "2024-08-30T16:20:23.622912Z"
    }
   },
   "outputs": [],
   "source": [
    "components_sipca = pd.read_csv('./Results/sIPCA/components_sipca.csv', index_col=0)"
   ]
  },
  {
   "cell_type": "code",
   "execution_count": 25,
   "id": "215c19c8-5c4a-440b-8009-c52decf5cd72",
   "metadata": {
    "execution": {
     "iopub.execute_input": "2024-08-30T16:20:23.781152Z",
     "iopub.status.busy": "2024-08-30T16:20:23.780844Z",
     "iopub.status.idle": "2024-08-30T16:20:23.794901Z",
     "shell.execute_reply": "2024-08-30T16:20:23.794533Z",
     "shell.execute_reply.started": "2024-08-30T16:20:23.781138Z"
    }
   },
   "outputs": [],
   "source": [
    "activities_sipca = pd.read_csv('./Results/sIPCA/loadings_variables_sipca.csv', index_col=0).T"
   ]
  },
  {
   "cell_type": "code",
   "execution_count": 26,
   "id": "c4961657-9946-4b90-a408-585aed53024d",
   "metadata": {
    "execution": {
     "iopub.execute_input": "2024-08-30T16:20:23.795483Z",
     "iopub.status.busy": "2024-08-30T16:20:23.795361Z",
     "iopub.status.idle": "2024-08-30T16:20:23.797506Z",
     "shell.execute_reply": "2024-08-30T16:20:23.797166Z",
     "shell.execute_reply.started": "2024-08-30T16:20:23.795471Z"
    }
   },
   "outputs": [],
   "source": [
    "activities_sipca.index = components_sipca.columns"
   ]
  },
  {
   "cell_type": "code",
   "execution_count": 27,
   "id": "05ebc0e1-ddb2-4346-b9d2-d511354f31f0",
   "metadata": {
    "execution": {
     "iopub.execute_input": "2024-08-30T16:20:23.798286Z",
     "iopub.status.busy": "2024-08-30T16:20:23.797979Z",
     "iopub.status.idle": "2024-08-30T16:20:35.138429Z",
     "shell.execute_reply": "2024-08-30T16:20:35.137777Z",
     "shell.execute_reply.started": "2024-08-30T16:20:23.798271Z"
    }
   },
   "outputs": [],
   "source": [
    "sIPCA_explained_variance = explained_variance_each_component(components_sipca, activities_sipca, precise1k.X)"
   ]
  },
  {
   "cell_type": "code",
   "execution_count": 28,
   "id": "e346a747-70b2-4ecb-8616-e340672c0ad6",
   "metadata": {
    "execution": {
     "iopub.execute_input": "2024-08-30T16:20:35.139516Z",
     "iopub.status.busy": "2024-08-30T16:20:35.139253Z",
     "iopub.status.idle": "2024-08-30T16:20:35.147914Z",
     "shell.execute_reply": "2024-08-30T16:20:35.147417Z",
     "shell.execute_reply.started": "2024-08-30T16:20:35.139495Z"
    }
   },
   "outputs": [
    {
     "data": {
      "text/html": [
       "<div>\n",
       "<style scoped>\n",
       "    .dataframe tbody tr th:only-of-type {\n",
       "        vertical-align: middle;\n",
       "    }\n",
       "\n",
       "    .dataframe tbody tr th {\n",
       "        vertical-align: top;\n",
       "    }\n",
       "\n",
       "    .dataframe thead th {\n",
       "        text-align: right;\n",
       "    }\n",
       "</style>\n",
       "<table border=\"1\" class=\"dataframe\">\n",
       "  <thead>\n",
       "    <tr style=\"text-align: right;\">\n",
       "      <th></th>\n",
       "      <th>iModulon</th>\n",
       "      <th>Explained Variance</th>\n",
       "    </tr>\n",
       "  </thead>\n",
       "  <tbody>\n",
       "    <tr>\n",
       "      <th>0</th>\n",
       "      <td>IPC 1</td>\n",
       "      <td>8.130004e-07</td>\n",
       "    </tr>\n",
       "    <tr>\n",
       "      <th>1</th>\n",
       "      <td>IPC 2</td>\n",
       "      <td>4.016788e-07</td>\n",
       "    </tr>\n",
       "    <tr>\n",
       "      <th>2</th>\n",
       "      <td>IPC 3</td>\n",
       "      <td>7.337181e-07</td>\n",
       "    </tr>\n",
       "    <tr>\n",
       "      <th>3</th>\n",
       "      <td>IPC 4</td>\n",
       "      <td>8.118782e-07</td>\n",
       "    </tr>\n",
       "    <tr>\n",
       "      <th>4</th>\n",
       "      <td>IPC 5</td>\n",
       "      <td>4.136397e-07</td>\n",
       "    </tr>\n",
       "    <tr>\n",
       "      <th>...</th>\n",
       "      <td>...</td>\n",
       "      <td>...</td>\n",
       "    </tr>\n",
       "    <tr>\n",
       "      <th>245</th>\n",
       "      <td>IPC 246</td>\n",
       "      <td>2.301792e-08</td>\n",
       "    </tr>\n",
       "    <tr>\n",
       "      <th>246</th>\n",
       "      <td>IPC 247</td>\n",
       "      <td>2.214125e-08</td>\n",
       "    </tr>\n",
       "    <tr>\n",
       "      <th>247</th>\n",
       "      <td>IPC 248</td>\n",
       "      <td>1.994395e-08</td>\n",
       "    </tr>\n",
       "    <tr>\n",
       "      <th>248</th>\n",
       "      <td>IPC 249</td>\n",
       "      <td>1.829524e-07</td>\n",
       "    </tr>\n",
       "    <tr>\n",
       "      <th>249</th>\n",
       "      <td>IPC 250</td>\n",
       "      <td>1.834876e-09</td>\n",
       "    </tr>\n",
       "  </tbody>\n",
       "</table>\n",
       "<p>250 rows × 2 columns</p>\n",
       "</div>"
      ],
      "text/plain": [
       "    iModulon  Explained Variance\n",
       "0      IPC 1        8.130004e-07\n",
       "1      IPC 2        4.016788e-07\n",
       "2      IPC 3        7.337181e-07\n",
       "3      IPC 4        8.118782e-07\n",
       "4      IPC 5        4.136397e-07\n",
       "..       ...                 ...\n",
       "245  IPC 246        2.301792e-08\n",
       "246  IPC 247        2.214125e-08\n",
       "247  IPC 248        1.994395e-08\n",
       "248  IPC 249        1.829524e-07\n",
       "249  IPC 250        1.834876e-09\n",
       "\n",
       "[250 rows x 2 columns]"
      ]
     },
     "execution_count": 28,
     "metadata": {},
     "output_type": "execute_result"
    }
   ],
   "source": [
    "sIPCA_explained_variance"
   ]
  },
  {
   "cell_type": "markdown",
   "id": "ea677718-d93c-4e05-a91a-f5ccf8d35445",
   "metadata": {},
   "source": [
    "## Factor Analysis"
   ]
  },
  {
   "cell_type": "code",
   "execution_count": 30,
   "id": "0b9b7db7-8e83-4685-b73a-ee5098851366",
   "metadata": {
    "execution": {
     "iopub.execute_input": "2024-08-30T16:21:36.316904Z",
     "iopub.status.busy": "2024-08-30T16:21:36.316524Z",
     "iopub.status.idle": "2024-08-30T16:21:36.464044Z",
     "shell.execute_reply": "2024-08-30T16:21:36.463566Z",
     "shell.execute_reply.started": "2024-08-30T16:21:36.316874Z"
    }
   },
   "outputs": [],
   "source": [
    "components_factor_analysis = pd.read_csv('./Results/Factor_Analysis/M_Factor_Analysis.csv', index_col=0)"
   ]
  },
  {
   "cell_type": "code",
   "execution_count": 31,
   "id": "d350845d-3ef9-4c40-8a1d-63aaf27cf77e",
   "metadata": {
    "execution": {
     "iopub.execute_input": "2024-08-30T16:21:36.534568Z",
     "iopub.status.busy": "2024-08-30T16:21:36.534438Z",
     "iopub.status.idle": "2024-08-30T16:21:36.573629Z",
     "shell.execute_reply": "2024-08-30T16:21:36.573182Z",
     "shell.execute_reply.started": "2024-08-30T16:21:36.534556Z"
    }
   },
   "outputs": [],
   "source": [
    "activities_factor_analysis = pd.read_csv('./Results/Factor_Analysis/A_Factor_Analysis.csv', index_col=0).T"
   ]
  },
  {
   "cell_type": "code",
   "execution_count": 32,
   "id": "1059498e-516b-47ba-8d2f-d8338ed00518",
   "metadata": {
    "execution": {
     "iopub.execute_input": "2024-08-30T16:21:36.974255Z",
     "iopub.status.busy": "2024-08-30T16:21:36.973849Z",
     "iopub.status.idle": "2024-08-30T16:21:47.929340Z",
     "shell.execute_reply": "2024-08-30T16:21:47.928682Z",
     "shell.execute_reply.started": "2024-08-30T16:21:36.974223Z"
    }
   },
   "outputs": [],
   "source": [
    "factor_analysis_explained_variance = explained_variance_each_component(components_factor_analysis, activities_factor_analysis, precise1k.X)"
   ]
  },
  {
   "cell_type": "code",
   "execution_count": 33,
   "id": "889dd00a-5c1f-4b91-97e1-1d37af7e2452",
   "metadata": {
    "execution": {
     "iopub.execute_input": "2024-08-30T16:21:47.930789Z",
     "iopub.status.busy": "2024-08-30T16:21:47.930451Z",
     "iopub.status.idle": "2024-08-30T16:21:47.939021Z",
     "shell.execute_reply": "2024-08-30T16:21:47.938462Z",
     "shell.execute_reply.started": "2024-08-30T16:21:47.930766Z"
    }
   },
   "outputs": [
    {
     "data": {
      "text/html": [
       "<div>\n",
       "<style scoped>\n",
       "    .dataframe tbody tr th:only-of-type {\n",
       "        vertical-align: middle;\n",
       "    }\n",
       "\n",
       "    .dataframe tbody tr th {\n",
       "        vertical-align: top;\n",
       "    }\n",
       "\n",
       "    .dataframe thead th {\n",
       "        text-align: right;\n",
       "    }\n",
       "</style>\n",
       "<table border=\"1\" class=\"dataframe\">\n",
       "  <thead>\n",
       "    <tr style=\"text-align: right;\">\n",
       "      <th></th>\n",
       "      <th>iModulon</th>\n",
       "      <th>Explained Variance</th>\n",
       "    </tr>\n",
       "  </thead>\n",
       "  <tbody>\n",
       "    <tr>\n",
       "      <th>0</th>\n",
       "      <td>Component_1</td>\n",
       "      <td>0.156821</td>\n",
       "    </tr>\n",
       "    <tr>\n",
       "      <th>1</th>\n",
       "      <td>Component_2</td>\n",
       "      <td>0.030974</td>\n",
       "    </tr>\n",
       "    <tr>\n",
       "      <th>2</th>\n",
       "      <td>Component_3</td>\n",
       "      <td>0.003256</td>\n",
       "    </tr>\n",
       "    <tr>\n",
       "      <th>3</th>\n",
       "      <td>Component_4</td>\n",
       "      <td>0.004981</td>\n",
       "    </tr>\n",
       "    <tr>\n",
       "      <th>4</th>\n",
       "      <td>Component_5</td>\n",
       "      <td>0.002752</td>\n",
       "    </tr>\n",
       "    <tr>\n",
       "      <th>...</th>\n",
       "      <td>...</td>\n",
       "      <td>...</td>\n",
       "    </tr>\n",
       "    <tr>\n",
       "      <th>245</th>\n",
       "      <td>Component_246</td>\n",
       "      <td>0.000084</td>\n",
       "    </tr>\n",
       "    <tr>\n",
       "      <th>246</th>\n",
       "      <td>Component_247</td>\n",
       "      <td>0.000088</td>\n",
       "    </tr>\n",
       "    <tr>\n",
       "      <th>247</th>\n",
       "      <td>Component_248</td>\n",
       "      <td>0.000082</td>\n",
       "    </tr>\n",
       "    <tr>\n",
       "      <th>248</th>\n",
       "      <td>Component_249</td>\n",
       "      <td>0.000084</td>\n",
       "    </tr>\n",
       "    <tr>\n",
       "      <th>249</th>\n",
       "      <td>Component_250</td>\n",
       "      <td>0.000079</td>\n",
       "    </tr>\n",
       "  </tbody>\n",
       "</table>\n",
       "<p>250 rows × 2 columns</p>\n",
       "</div>"
      ],
      "text/plain": [
       "          iModulon  Explained Variance\n",
       "0      Component_1            0.156821\n",
       "1      Component_2            0.030974\n",
       "2      Component_3            0.003256\n",
       "3      Component_4            0.004981\n",
       "4      Component_5            0.002752\n",
       "..             ...                 ...\n",
       "245  Component_246            0.000084\n",
       "246  Component_247            0.000088\n",
       "247  Component_248            0.000082\n",
       "248  Component_249            0.000084\n",
       "249  Component_250            0.000079\n",
       "\n",
       "[250 rows x 2 columns]"
      ]
     },
     "execution_count": 33,
     "metadata": {},
     "output_type": "execute_result"
    }
   ],
   "source": [
    "factor_analysis_explained_variance"
   ]
  },
  {
   "cell_type": "markdown",
   "id": "bf8055fb-3647-4f83-9242-6619fc6b03b6",
   "metadata": {},
   "source": [
    "## Dictionary Learning"
   ]
  },
  {
   "cell_type": "code",
   "execution_count": 34,
   "id": "328cc6f4-c8b0-4b7a-9011-bf388e51f80e",
   "metadata": {
    "execution": {
     "iopub.execute_input": "2024-08-30T16:21:54.192788Z",
     "iopub.status.busy": "2024-08-30T16:21:54.192589Z",
     "iopub.status.idle": "2024-08-30T16:21:54.284490Z",
     "shell.execute_reply": "2024-08-30T16:21:54.284002Z",
     "shell.execute_reply.started": "2024-08-30T16:21:54.192774Z"
    }
   },
   "outputs": [],
   "source": [
    "components_dictionary_learning = pd.read_csv('./Results/Dictionary_Learning/M_Dictionary_Learning.csv', index_col=0)"
   ]
  },
  {
   "cell_type": "code",
   "execution_count": 35,
   "id": "527551b2-b757-4c4b-a531-10ede3b9227a",
   "metadata": {
    "execution": {
     "iopub.execute_input": "2024-08-30T16:21:54.432393Z",
     "iopub.status.busy": "2024-08-30T16:21:54.432161Z",
     "iopub.status.idle": "2024-08-30T16:21:54.493224Z",
     "shell.execute_reply": "2024-08-30T16:21:54.492766Z",
     "shell.execute_reply.started": "2024-08-30T16:21:54.432371Z"
    }
   },
   "outputs": [],
   "source": [
    "activities_dictionary_learning = pd.read_csv('./Results/Dictionary_Learning/A_Dictionary_Learning.csv', index_col=0).T"
   ]
  },
  {
   "cell_type": "code",
   "execution_count": 36,
   "id": "7c8da844-c7a1-48f5-9b79-1e7311c4aa0d",
   "metadata": {
    "execution": {
     "iopub.execute_input": "2024-08-30T16:21:54.757652Z",
     "iopub.status.busy": "2024-08-30T16:21:54.757330Z",
     "iopub.status.idle": "2024-08-30T16:22:05.676217Z",
     "shell.execute_reply": "2024-08-30T16:22:05.675582Z",
     "shell.execute_reply.started": "2024-08-30T16:21:54.757638Z"
    }
   },
   "outputs": [],
   "source": [
    "dictionary_learning_explained_variance = explained_variance_each_component(components_dictionary_learning, activities_dictionary_learning, precise1k.X)"
   ]
  },
  {
   "cell_type": "code",
   "execution_count": 37,
   "id": "412b6e2b-2d25-4225-956b-144c1bf520f6",
   "metadata": {
    "execution": {
     "iopub.execute_input": "2024-08-30T16:22:05.677549Z",
     "iopub.status.busy": "2024-08-30T16:22:05.677283Z",
     "iopub.status.idle": "2024-08-30T16:22:05.685819Z",
     "shell.execute_reply": "2024-08-30T16:22:05.685309Z",
     "shell.execute_reply.started": "2024-08-30T16:22:05.677528Z"
    }
   },
   "outputs": [
    {
     "data": {
      "text/html": [
       "<div>\n",
       "<style scoped>\n",
       "    .dataframe tbody tr th:only-of-type {\n",
       "        vertical-align: middle;\n",
       "    }\n",
       "\n",
       "    .dataframe tbody tr th {\n",
       "        vertical-align: top;\n",
       "    }\n",
       "\n",
       "    .dataframe thead th {\n",
       "        text-align: right;\n",
       "    }\n",
       "</style>\n",
       "<table border=\"1\" class=\"dataframe\">\n",
       "  <thead>\n",
       "    <tr style=\"text-align: right;\">\n",
       "      <th></th>\n",
       "      <th>iModulon</th>\n",
       "      <th>Explained Variance</th>\n",
       "    </tr>\n",
       "  </thead>\n",
       "  <tbody>\n",
       "    <tr>\n",
       "      <th>0</th>\n",
       "      <td>Component_1</td>\n",
       "      <td>0.015061</td>\n",
       "    </tr>\n",
       "    <tr>\n",
       "      <th>1</th>\n",
       "      <td>Component_2</td>\n",
       "      <td>0.021113</td>\n",
       "    </tr>\n",
       "    <tr>\n",
       "      <th>2</th>\n",
       "      <td>Component_3</td>\n",
       "      <td>0.022684</td>\n",
       "    </tr>\n",
       "    <tr>\n",
       "      <th>3</th>\n",
       "      <td>Component_4</td>\n",
       "      <td>0.009116</td>\n",
       "    </tr>\n",
       "    <tr>\n",
       "      <th>4</th>\n",
       "      <td>Component_5</td>\n",
       "      <td>0.002443</td>\n",
       "    </tr>\n",
       "    <tr>\n",
       "      <th>...</th>\n",
       "      <td>...</td>\n",
       "      <td>...</td>\n",
       "    </tr>\n",
       "    <tr>\n",
       "      <th>245</th>\n",
       "      <td>Component_246</td>\n",
       "      <td>0.000761</td>\n",
       "    </tr>\n",
       "    <tr>\n",
       "      <th>246</th>\n",
       "      <td>Component_247</td>\n",
       "      <td>0.002756</td>\n",
       "    </tr>\n",
       "    <tr>\n",
       "      <th>247</th>\n",
       "      <td>Component_248</td>\n",
       "      <td>0.003909</td>\n",
       "    </tr>\n",
       "    <tr>\n",
       "      <th>248</th>\n",
       "      <td>Component_249</td>\n",
       "      <td>0.008274</td>\n",
       "    </tr>\n",
       "    <tr>\n",
       "      <th>249</th>\n",
       "      <td>Component_250</td>\n",
       "      <td>0.000916</td>\n",
       "    </tr>\n",
       "  </tbody>\n",
       "</table>\n",
       "<p>250 rows × 2 columns</p>\n",
       "</div>"
      ],
      "text/plain": [
       "          iModulon  Explained Variance\n",
       "0      Component_1            0.015061\n",
       "1      Component_2            0.021113\n",
       "2      Component_3            0.022684\n",
       "3      Component_4            0.009116\n",
       "4      Component_5            0.002443\n",
       "..             ...                 ...\n",
       "245  Component_246            0.000761\n",
       "246  Component_247            0.002756\n",
       "247  Component_248            0.003909\n",
       "248  Component_249            0.008274\n",
       "249  Component_250            0.000916\n",
       "\n",
       "[250 rows x 2 columns]"
      ]
     },
     "execution_count": 37,
     "metadata": {},
     "output_type": "execute_result"
    }
   ],
   "source": [
    "dictionary_learning_explained_variance"
   ]
  },
  {
   "cell_type": "markdown",
   "id": "d77a8cbe-ac7f-48a6-8c10-1e3e11b77371",
   "metadata": {},
   "source": [
    "## SparseCoder"
   ]
  },
  {
   "cell_type": "code",
   "execution_count": 39,
   "id": "8a9e1eb6-88ae-4016-9005-fbc9e5a7146a",
   "metadata": {
    "execution": {
     "iopub.execute_input": "2024-08-30T16:22:15.347605Z",
     "iopub.status.busy": "2024-08-30T16:22:15.347408Z",
     "iopub.status.idle": "2024-08-30T16:22:15.468233Z",
     "shell.execute_reply": "2024-08-30T16:22:15.467790Z",
     "shell.execute_reply.started": "2024-08-30T16:22:15.347591Z"
    }
   },
   "outputs": [],
   "source": [
    "components_SparseCoder = pd.read_csv('./Results/SparseCoder/M_SparseCoder.csv', index_col=0)"
   ]
  },
  {
   "cell_type": "code",
   "execution_count": 40,
   "id": "b06316b8-235c-43d2-9513-377ad5410593",
   "metadata": {
    "execution": {
     "iopub.execute_input": "2024-08-30T16:22:15.508416Z",
     "iopub.status.busy": "2024-08-30T16:22:15.508115Z",
     "iopub.status.idle": "2024-08-30T16:22:15.545914Z",
     "shell.execute_reply": "2024-08-30T16:22:15.545504Z",
     "shell.execute_reply.started": "2024-08-30T16:22:15.508388Z"
    }
   },
   "outputs": [],
   "source": [
    "activities_SparseCoder = pd.read_csv('./Results/SparseCoder/A_SparseCoder.csv', index_col=0).T"
   ]
  },
  {
   "cell_type": "code",
   "execution_count": 41,
   "id": "ae1f0e06-c9d5-478b-bdb2-c2c511057f6e",
   "metadata": {
    "execution": {
     "iopub.execute_input": "2024-08-30T16:22:15.689886Z",
     "iopub.status.busy": "2024-08-30T16:22:15.689582Z",
     "iopub.status.idle": "2024-08-30T16:22:26.639415Z",
     "shell.execute_reply": "2024-08-30T16:22:26.638778Z",
     "shell.execute_reply.started": "2024-08-30T16:22:15.689857Z"
    }
   },
   "outputs": [],
   "source": [
    "SparseCoder_explained_variance = explained_variance_each_component(components_SparseCoder, activities_SparseCoder, precise1k.X)"
   ]
  },
  {
   "cell_type": "code",
   "execution_count": 42,
   "id": "410cf935-46d2-46dd-b3e5-dcf0dfd91e54",
   "metadata": {
    "execution": {
     "iopub.execute_input": "2024-08-30T16:22:26.640813Z",
     "iopub.status.busy": "2024-08-30T16:22:26.640594Z",
     "iopub.status.idle": "2024-08-30T16:22:26.648833Z",
     "shell.execute_reply": "2024-08-30T16:22:26.648331Z",
     "shell.execute_reply.started": "2024-08-30T16:22:26.640792Z"
    }
   },
   "outputs": [
    {
     "data": {
      "text/html": [
       "<div>\n",
       "<style scoped>\n",
       "    .dataframe tbody tr th:only-of-type {\n",
       "        vertical-align: middle;\n",
       "    }\n",
       "\n",
       "    .dataframe tbody tr th {\n",
       "        vertical-align: top;\n",
       "    }\n",
       "\n",
       "    .dataframe thead th {\n",
       "        text-align: right;\n",
       "    }\n",
       "</style>\n",
       "<table border=\"1\" class=\"dataframe\">\n",
       "  <thead>\n",
       "    <tr style=\"text-align: right;\">\n",
       "      <th></th>\n",
       "      <th>iModulon</th>\n",
       "      <th>Explained Variance</th>\n",
       "    </tr>\n",
       "  </thead>\n",
       "  <tbody>\n",
       "    <tr>\n",
       "      <th>0</th>\n",
       "      <td>Component_1</td>\n",
       "      <td>0.015061</td>\n",
       "    </tr>\n",
       "    <tr>\n",
       "      <th>1</th>\n",
       "      <td>Component_2</td>\n",
       "      <td>0.021113</td>\n",
       "    </tr>\n",
       "    <tr>\n",
       "      <th>2</th>\n",
       "      <td>Component_3</td>\n",
       "      <td>0.022684</td>\n",
       "    </tr>\n",
       "    <tr>\n",
       "      <th>3</th>\n",
       "      <td>Component_4</td>\n",
       "      <td>0.009116</td>\n",
       "    </tr>\n",
       "    <tr>\n",
       "      <th>4</th>\n",
       "      <td>Component_5</td>\n",
       "      <td>0.002443</td>\n",
       "    </tr>\n",
       "    <tr>\n",
       "      <th>...</th>\n",
       "      <td>...</td>\n",
       "      <td>...</td>\n",
       "    </tr>\n",
       "    <tr>\n",
       "      <th>245</th>\n",
       "      <td>Component_246</td>\n",
       "      <td>0.000761</td>\n",
       "    </tr>\n",
       "    <tr>\n",
       "      <th>246</th>\n",
       "      <td>Component_247</td>\n",
       "      <td>0.002756</td>\n",
       "    </tr>\n",
       "    <tr>\n",
       "      <th>247</th>\n",
       "      <td>Component_248</td>\n",
       "      <td>0.003909</td>\n",
       "    </tr>\n",
       "    <tr>\n",
       "      <th>248</th>\n",
       "      <td>Component_249</td>\n",
       "      <td>0.008274</td>\n",
       "    </tr>\n",
       "    <tr>\n",
       "      <th>249</th>\n",
       "      <td>Component_250</td>\n",
       "      <td>0.000916</td>\n",
       "    </tr>\n",
       "  </tbody>\n",
       "</table>\n",
       "<p>250 rows × 2 columns</p>\n",
       "</div>"
      ],
      "text/plain": [
       "          iModulon  Explained Variance\n",
       "0      Component_1            0.015061\n",
       "1      Component_2            0.021113\n",
       "2      Component_3            0.022684\n",
       "3      Component_4            0.009116\n",
       "4      Component_5            0.002443\n",
       "..             ...                 ...\n",
       "245  Component_246            0.000761\n",
       "246  Component_247            0.002756\n",
       "247  Component_248            0.003909\n",
       "248  Component_249            0.008274\n",
       "249  Component_250            0.000916\n",
       "\n",
       "[250 rows x 2 columns]"
      ]
     },
     "execution_count": 42,
     "metadata": {},
     "output_type": "execute_result"
    }
   ],
   "source": [
    "SparseCoder_explained_variance"
   ]
  },
  {
   "cell_type": "markdown",
   "id": "b0157975-8c4a-42a1-8410-26ae871ce8ef",
   "metadata": {},
   "source": [
    "## Incremental Principal Component Analysis"
   ]
  },
  {
   "cell_type": "code",
   "execution_count": 44,
   "id": "5f513205-afd4-44f5-862e-254ebd1fbd29",
   "metadata": {
    "execution": {
     "iopub.execute_input": "2024-08-30T16:23:33.557790Z",
     "iopub.status.busy": "2024-08-30T16:23:33.557596Z",
     "iopub.status.idle": "2024-08-30T16:23:33.721283Z",
     "shell.execute_reply": "2024-08-30T16:23:33.720798Z",
     "shell.execute_reply.started": "2024-08-30T16:23:33.557776Z"
    }
   },
   "outputs": [],
   "source": [
    "components_incremental_pca = pd.read_csv('./Results/IncrementalPCA/M_IncrementalPCA.csv', index_col=0)"
   ]
  },
  {
   "cell_type": "code",
   "execution_count": 45,
   "id": "f7627427-a158-4310-977c-3c31e42b65cb",
   "metadata": {
    "execution": {
     "iopub.execute_input": "2024-08-30T16:23:33.741871Z",
     "iopub.status.busy": "2024-08-30T16:23:33.741684Z",
     "iopub.status.idle": "2024-08-30T16:23:33.780355Z",
     "shell.execute_reply": "2024-08-30T16:23:33.779902Z",
     "shell.execute_reply.started": "2024-08-30T16:23:33.741852Z"
    }
   },
   "outputs": [],
   "source": [
    "activities_incremental_pca = pd.read_csv('./Results/IncrementalPCA/A_IncrementalPCA.csv', index_col=0).T"
   ]
  },
  {
   "cell_type": "code",
   "execution_count": 46,
   "id": "db774953-b7da-43e5-8de8-cc9323726a62",
   "metadata": {
    "execution": {
     "iopub.execute_input": "2024-08-30T16:23:33.980976Z",
     "iopub.status.busy": "2024-08-30T16:23:33.980674Z",
     "iopub.status.idle": "2024-08-30T16:23:45.002582Z",
     "shell.execute_reply": "2024-08-30T16:23:45.001929Z",
     "shell.execute_reply.started": "2024-08-30T16:23:33.980947Z"
    }
   },
   "outputs": [],
   "source": [
    "incremental_pca_explained_variance = explained_variance_each_component(components_incremental_pca, activities_incremental_pca, precise1k.X)"
   ]
  },
  {
   "cell_type": "code",
   "execution_count": 47,
   "id": "01e0bc9a-1aaa-4733-b386-8572f32fdf3d",
   "metadata": {
    "execution": {
     "iopub.execute_input": "2024-08-30T16:23:45.003932Z",
     "iopub.status.busy": "2024-08-30T16:23:45.003668Z",
     "iopub.status.idle": "2024-08-30T16:23:45.012287Z",
     "shell.execute_reply": "2024-08-30T16:23:45.011789Z",
     "shell.execute_reply.started": "2024-08-30T16:23:45.003910Z"
    }
   },
   "outputs": [
    {
     "data": {
      "text/html": [
       "<div>\n",
       "<style scoped>\n",
       "    .dataframe tbody tr th:only-of-type {\n",
       "        vertical-align: middle;\n",
       "    }\n",
       "\n",
       "    .dataframe tbody tr th {\n",
       "        vertical-align: top;\n",
       "    }\n",
       "\n",
       "    .dataframe thead th {\n",
       "        text-align: right;\n",
       "    }\n",
       "</style>\n",
       "<table border=\"1\" class=\"dataframe\">\n",
       "  <thead>\n",
       "    <tr style=\"text-align: right;\">\n",
       "      <th></th>\n",
       "      <th>iModulon</th>\n",
       "      <th>Explained Variance</th>\n",
       "    </tr>\n",
       "  </thead>\n",
       "  <tbody>\n",
       "    <tr>\n",
       "      <th>0</th>\n",
       "      <td>Component_1</td>\n",
       "      <td>0.290072</td>\n",
       "    </tr>\n",
       "    <tr>\n",
       "      <th>1</th>\n",
       "      <td>Component_2</td>\n",
       "      <td>0.114001</td>\n",
       "    </tr>\n",
       "    <tr>\n",
       "      <th>2</th>\n",
       "      <td>Component_3</td>\n",
       "      <td>0.094801</td>\n",
       "    </tr>\n",
       "    <tr>\n",
       "      <th>3</th>\n",
       "      <td>Component_4</td>\n",
       "      <td>0.057818</td>\n",
       "    </tr>\n",
       "    <tr>\n",
       "      <th>4</th>\n",
       "      <td>Component_5</td>\n",
       "      <td>0.046460</td>\n",
       "    </tr>\n",
       "    <tr>\n",
       "      <th>...</th>\n",
       "      <td>...</td>\n",
       "      <td>...</td>\n",
       "    </tr>\n",
       "    <tr>\n",
       "      <th>245</th>\n",
       "      <td>Component_246</td>\n",
       "      <td>0.000105</td>\n",
       "    </tr>\n",
       "    <tr>\n",
       "      <th>246</th>\n",
       "      <td>Component_247</td>\n",
       "      <td>0.000105</td>\n",
       "    </tr>\n",
       "    <tr>\n",
       "      <th>247</th>\n",
       "      <td>Component_248</td>\n",
       "      <td>0.000104</td>\n",
       "    </tr>\n",
       "    <tr>\n",
       "      <th>248</th>\n",
       "      <td>Component_249</td>\n",
       "      <td>0.000103</td>\n",
       "    </tr>\n",
       "    <tr>\n",
       "      <th>249</th>\n",
       "      <td>Component_250</td>\n",
       "      <td>0.000103</td>\n",
       "    </tr>\n",
       "  </tbody>\n",
       "</table>\n",
       "<p>250 rows × 2 columns</p>\n",
       "</div>"
      ],
      "text/plain": [
       "          iModulon  Explained Variance\n",
       "0      Component_1            0.290072\n",
       "1      Component_2            0.114001\n",
       "2      Component_3            0.094801\n",
       "3      Component_4            0.057818\n",
       "4      Component_5            0.046460\n",
       "..             ...                 ...\n",
       "245  Component_246            0.000105\n",
       "246  Component_247            0.000105\n",
       "247  Component_248            0.000104\n",
       "248  Component_249            0.000103\n",
       "249  Component_250            0.000103\n",
       "\n",
       "[250 rows x 2 columns]"
      ]
     },
     "execution_count": 47,
     "metadata": {},
     "output_type": "execute_result"
    }
   ],
   "source": [
    "incremental_pca_explained_variance"
   ]
  },
  {
   "cell_type": "markdown",
   "id": "78d9d515-3e2d-4308-8745-2d0f0970f332",
   "metadata": {},
   "source": [
    "## FastICA"
   ]
  },
  {
   "cell_type": "code",
   "execution_count": 48,
   "id": "fe277a5a-7d73-4dc8-b250-539acfa7d7f0",
   "metadata": {
    "execution": {
     "iopub.execute_input": "2024-08-30T16:23:52.939883Z",
     "iopub.status.busy": "2024-08-30T16:23:52.939657Z",
     "iopub.status.idle": "2024-08-30T16:23:53.093965Z",
     "shell.execute_reply": "2024-08-30T16:23:53.093477Z",
     "shell.execute_reply.started": "2024-08-30T16:23:52.939869Z"
    }
   },
   "outputs": [],
   "source": [
    "components_Fast_ICA = pd.read_csv('./Results/Fast_ICA/M_Fast_ICA.csv', index_col=0)"
   ]
  },
  {
   "cell_type": "code",
   "execution_count": 49,
   "id": "63406444-df88-4c02-99fe-d313c8cdde9a",
   "metadata": {
    "execution": {
     "iopub.execute_input": "2024-08-30T16:23:53.152770Z",
     "iopub.status.busy": "2024-08-30T16:23:53.152546Z",
     "iopub.status.idle": "2024-08-30T16:23:53.191780Z",
     "shell.execute_reply": "2024-08-30T16:23:53.191329Z",
     "shell.execute_reply.started": "2024-08-30T16:23:53.152748Z"
    }
   },
   "outputs": [],
   "source": [
    "activities_Fast_ICA = pd.read_csv('./Results/Fast_ICA/A_Fast_ICA.csv', index_col=0).T"
   ]
  },
  {
   "cell_type": "code",
   "execution_count": 50,
   "id": "efa82ac2-09a2-4214-aa11-db7939a5d7ba",
   "metadata": {
    "execution": {
     "iopub.execute_input": "2024-08-30T16:23:53.432904Z",
     "iopub.status.busy": "2024-08-30T16:23:53.432707Z",
     "iopub.status.idle": "2024-08-30T16:24:04.506747Z",
     "shell.execute_reply": "2024-08-30T16:24:04.506077Z",
     "shell.execute_reply.started": "2024-08-30T16:23:53.432891Z"
    }
   },
   "outputs": [],
   "source": [
    "Fast_ICA_explained_variance = explained_variance_each_component(components_Fast_ICA, activities_Fast_ICA, precise1k.X)"
   ]
  },
  {
   "cell_type": "code",
   "execution_count": 51,
   "id": "acf58252-38a0-4b4e-acdd-9e7af785e6d5",
   "metadata": {
    "execution": {
     "iopub.execute_input": "2024-08-30T16:24:04.508246Z",
     "iopub.status.busy": "2024-08-30T16:24:04.507906Z",
     "iopub.status.idle": "2024-08-30T16:24:04.516232Z",
     "shell.execute_reply": "2024-08-30T16:24:04.515707Z",
     "shell.execute_reply.started": "2024-08-30T16:24:04.508224Z"
    }
   },
   "outputs": [
    {
     "data": {
      "text/html": [
       "<div>\n",
       "<style scoped>\n",
       "    .dataframe tbody tr th:only-of-type {\n",
       "        vertical-align: middle;\n",
       "    }\n",
       "\n",
       "    .dataframe tbody tr th {\n",
       "        vertical-align: top;\n",
       "    }\n",
       "\n",
       "    .dataframe thead th {\n",
       "        text-align: right;\n",
       "    }\n",
       "</style>\n",
       "<table border=\"1\" class=\"dataframe\">\n",
       "  <thead>\n",
       "    <tr style=\"text-align: right;\">\n",
       "      <th></th>\n",
       "      <th>iModulon</th>\n",
       "      <th>Explained Variance</th>\n",
       "    </tr>\n",
       "  </thead>\n",
       "  <tbody>\n",
       "    <tr>\n",
       "      <th>0</th>\n",
       "      <td>Component_1</td>\n",
       "      <td>0.002425</td>\n",
       "    </tr>\n",
       "    <tr>\n",
       "      <th>1</th>\n",
       "      <td>Component_2</td>\n",
       "      <td>0.000501</td>\n",
       "    </tr>\n",
       "    <tr>\n",
       "      <th>2</th>\n",
       "      <td>Component_3</td>\n",
       "      <td>0.008790</td>\n",
       "    </tr>\n",
       "    <tr>\n",
       "      <th>3</th>\n",
       "      <td>Component_4</td>\n",
       "      <td>0.003086</td>\n",
       "    </tr>\n",
       "    <tr>\n",
       "      <th>4</th>\n",
       "      <td>Component_5</td>\n",
       "      <td>0.001186</td>\n",
       "    </tr>\n",
       "    <tr>\n",
       "      <th>...</th>\n",
       "      <td>...</td>\n",
       "      <td>...</td>\n",
       "    </tr>\n",
       "    <tr>\n",
       "      <th>245</th>\n",
       "      <td>Component_246</td>\n",
       "      <td>0.001587</td>\n",
       "    </tr>\n",
       "    <tr>\n",
       "      <th>246</th>\n",
       "      <td>Component_247</td>\n",
       "      <td>0.008582</td>\n",
       "    </tr>\n",
       "    <tr>\n",
       "      <th>247</th>\n",
       "      <td>Component_248</td>\n",
       "      <td>0.000829</td>\n",
       "    </tr>\n",
       "    <tr>\n",
       "      <th>248</th>\n",
       "      <td>Component_249</td>\n",
       "      <td>0.001490</td>\n",
       "    </tr>\n",
       "    <tr>\n",
       "      <th>249</th>\n",
       "      <td>Component_250</td>\n",
       "      <td>0.001366</td>\n",
       "    </tr>\n",
       "  </tbody>\n",
       "</table>\n",
       "<p>250 rows × 2 columns</p>\n",
       "</div>"
      ],
      "text/plain": [
       "          iModulon  Explained Variance\n",
       "0      Component_1            0.002425\n",
       "1      Component_2            0.000501\n",
       "2      Component_3            0.008790\n",
       "3      Component_4            0.003086\n",
       "4      Component_5            0.001186\n",
       "..             ...                 ...\n",
       "245  Component_246            0.001587\n",
       "246  Component_247            0.008582\n",
       "247  Component_248            0.000829\n",
       "248  Component_249            0.001490\n",
       "249  Component_250            0.001366\n",
       "\n",
       "[250 rows x 2 columns]"
      ]
     },
     "execution_count": 51,
     "metadata": {},
     "output_type": "execute_result"
    }
   ],
   "source": [
    "Fast_ICA_explained_variance"
   ]
  },
  {
   "cell_type": "markdown",
   "id": "d671b6b6-92e5-4479-ab56-a360637ec8e7",
   "metadata": {},
   "source": [
    "## Sparse ICA"
   ]
  },
  {
   "cell_type": "code",
   "execution_count": 58,
   "id": "86fdd3fa-c3e2-428a-bb46-99e944e4e204",
   "metadata": {
    "execution": {
     "iopub.execute_input": "2024-08-30T16:24:58.652309Z",
     "iopub.status.busy": "2024-08-30T16:24:58.651933Z",
     "iopub.status.idle": "2024-08-30T16:24:58.719393Z",
     "shell.execute_reply": "2024-08-30T16:24:58.718916Z",
     "shell.execute_reply.started": "2024-08-30T16:24:58.652280Z"
    }
   },
   "outputs": [],
   "source": [
    "components_Sparse_ICA = pd.read_csv('./Results/Sparse_ICA_R/Dim_250/S_sparse_ICA_0_8.csv')"
   ]
  },
  {
   "cell_type": "code",
   "execution_count": 59,
   "id": "0f0f6f81-b794-4eea-8627-9a427202e7b2",
   "metadata": {
    "execution": {
     "iopub.execute_input": "2024-08-30T16:24:58.829192Z",
     "iopub.status.busy": "2024-08-30T16:24:58.829007Z",
     "iopub.status.idle": "2024-08-30T16:24:58.831278Z",
     "shell.execute_reply": "2024-08-30T16:24:58.830973Z",
     "shell.execute_reply.started": "2024-08-30T16:24:58.829179Z"
    }
   },
   "outputs": [],
   "source": [
    "components_Sparse_ICA.index = precise1k.X.index"
   ]
  },
  {
   "cell_type": "code",
   "execution_count": 60,
   "id": "4db1a830-1827-4937-bb03-b00fc8b7fe3d",
   "metadata": {
    "execution": {
     "iopub.execute_input": "2024-08-30T16:24:58.983361Z",
     "iopub.status.busy": "2024-08-30T16:24:58.982686Z",
     "iopub.status.idle": "2024-08-30T16:24:59.051689Z",
     "shell.execute_reply": "2024-08-30T16:24:59.051249Z",
     "shell.execute_reply.started": "2024-08-30T16:24:58.983330Z"
    }
   },
   "outputs": [],
   "source": [
    "activities_Sparse_ICA = pd.read_csv('./Results/Sparse_ICA_R/Dim_250/A_sparse_ICA_0_8.csv')"
   ]
  },
  {
   "cell_type": "code",
   "execution_count": 61,
   "id": "94cf8c83-48f8-4cc6-b39f-3b86489361df",
   "metadata": {
    "execution": {
     "iopub.execute_input": "2024-08-30T16:24:59.210982Z",
     "iopub.status.busy": "2024-08-30T16:24:59.210831Z",
     "iopub.status.idle": "2024-08-30T16:24:59.212980Z",
     "shell.execute_reply": "2024-08-30T16:24:59.212673Z",
     "shell.execute_reply.started": "2024-08-30T16:24:59.210971Z"
    }
   },
   "outputs": [],
   "source": [
    "activities_Sparse_ICA.index = components_Sparse_ICA.columns"
   ]
  },
  {
   "cell_type": "code",
   "execution_count": 62,
   "id": "a347e7cc-53c3-4b78-a68d-823c99d76b60",
   "metadata": {
    "execution": {
     "iopub.execute_input": "2024-08-30T16:24:59.693371Z",
     "iopub.status.busy": "2024-08-30T16:24:59.692994Z",
     "iopub.status.idle": "2024-08-30T16:25:10.531188Z",
     "shell.execute_reply": "2024-08-30T16:25:10.530554Z",
     "shell.execute_reply.started": "2024-08-30T16:24:59.693340Z"
    }
   },
   "outputs": [],
   "source": [
    "Sparse_ICA_explained_variance = explained_variance_each_component(components_Sparse_ICA, activities_Sparse_ICA, precise1k.X)"
   ]
  },
  {
   "cell_type": "code",
   "execution_count": 63,
   "id": "b6bb3e5a-6eaf-40e2-8ca4-e2d53d4a7e64",
   "metadata": {
    "execution": {
     "iopub.execute_input": "2024-08-30T16:25:50.779113Z",
     "iopub.status.busy": "2024-08-30T16:25:50.778916Z",
     "iopub.status.idle": "2024-08-30T16:25:50.784836Z",
     "shell.execute_reply": "2024-08-30T16:25:50.784228Z",
     "shell.execute_reply.started": "2024-08-30T16:25:50.779099Z"
    }
   },
   "outputs": [
    {
     "data": {
      "text/html": [
       "<div>\n",
       "<style scoped>\n",
       "    .dataframe tbody tr th:only-of-type {\n",
       "        vertical-align: middle;\n",
       "    }\n",
       "\n",
       "    .dataframe tbody tr th {\n",
       "        vertical-align: top;\n",
       "    }\n",
       "\n",
       "    .dataframe thead th {\n",
       "        text-align: right;\n",
       "    }\n",
       "</style>\n",
       "<table border=\"1\" class=\"dataframe\">\n",
       "  <thead>\n",
       "    <tr style=\"text-align: right;\">\n",
       "      <th></th>\n",
       "      <th>iModulon</th>\n",
       "      <th>Explained Variance</th>\n",
       "    </tr>\n",
       "  </thead>\n",
       "  <tbody>\n",
       "    <tr>\n",
       "      <th>0</th>\n",
       "      <td>V1</td>\n",
       "      <td>0.000720</td>\n",
       "    </tr>\n",
       "    <tr>\n",
       "      <th>1</th>\n",
       "      <td>V2</td>\n",
       "      <td>0.001640</td>\n",
       "    </tr>\n",
       "    <tr>\n",
       "      <th>2</th>\n",
       "      <td>V3</td>\n",
       "      <td>0.003230</td>\n",
       "    </tr>\n",
       "    <tr>\n",
       "      <th>3</th>\n",
       "      <td>V4</td>\n",
       "      <td>0.002199</td>\n",
       "    </tr>\n",
       "    <tr>\n",
       "      <th>4</th>\n",
       "      <td>V5</td>\n",
       "      <td>0.001474</td>\n",
       "    </tr>\n",
       "    <tr>\n",
       "      <th>...</th>\n",
       "      <td>...</td>\n",
       "      <td>...</td>\n",
       "    </tr>\n",
       "    <tr>\n",
       "      <th>245</th>\n",
       "      <td>V246</td>\n",
       "      <td>0.005501</td>\n",
       "    </tr>\n",
       "    <tr>\n",
       "      <th>246</th>\n",
       "      <td>V247</td>\n",
       "      <td>0.001353</td>\n",
       "    </tr>\n",
       "    <tr>\n",
       "      <th>247</th>\n",
       "      <td>V248</td>\n",
       "      <td>0.007559</td>\n",
       "    </tr>\n",
       "    <tr>\n",
       "      <th>248</th>\n",
       "      <td>V249</td>\n",
       "      <td>0.001395</td>\n",
       "    </tr>\n",
       "    <tr>\n",
       "      <th>249</th>\n",
       "      <td>V250</td>\n",
       "      <td>0.001313</td>\n",
       "    </tr>\n",
       "  </tbody>\n",
       "</table>\n",
       "<p>250 rows × 2 columns</p>\n",
       "</div>"
      ],
      "text/plain": [
       "    iModulon  Explained Variance\n",
       "0         V1            0.000720\n",
       "1         V2            0.001640\n",
       "2         V3            0.003230\n",
       "3         V4            0.002199\n",
       "4         V5            0.001474\n",
       "..       ...                 ...\n",
       "245     V246            0.005501\n",
       "246     V247            0.001353\n",
       "247     V248            0.007559\n",
       "248     V249            0.001395\n",
       "249     V250            0.001313\n",
       "\n",
       "[250 rows x 2 columns]"
      ]
     },
     "execution_count": 63,
     "metadata": {},
     "output_type": "execute_result"
    }
   ],
   "source": [
    "Sparse_ICA_explained_variance"
   ]
  },
  {
   "cell_type": "markdown",
   "id": "68a067e8-63f5-4e09-95f5-ef3661043d48",
   "metadata": {},
   "source": [
    "## InfoMax ICA"
   ]
  },
  {
   "cell_type": "code",
   "execution_count": 64,
   "id": "406eeb10-e55f-4b7e-ab24-148f74d83ea2",
   "metadata": {
    "execution": {
     "iopub.execute_input": "2024-08-30T16:25:53.333475Z",
     "iopub.status.busy": "2024-08-30T16:25:53.333148Z",
     "iopub.status.idle": "2024-08-30T16:25:53.569913Z",
     "shell.execute_reply": "2024-08-30T16:25:53.569422Z",
     "shell.execute_reply.started": "2024-08-30T16:25:53.333451Z"
    }
   },
   "outputs": [],
   "source": [
    "components_InfoMax_ICA = pd.read_csv('./Results/InfoMax_ICA/proc_S.csv').T"
   ]
  },
  {
   "cell_type": "code",
   "execution_count": 65,
   "id": "2edeaa82-a904-4b74-b241-467cff22103f",
   "metadata": {
    "execution": {
     "iopub.execute_input": "2024-08-30T16:25:53.570738Z",
     "iopub.status.busy": "2024-08-30T16:25:53.570614Z",
     "iopub.status.idle": "2024-08-30T16:25:53.573025Z",
     "shell.execute_reply": "2024-08-30T16:25:53.572526Z",
     "shell.execute_reply.started": "2024-08-30T16:25:53.570725Z"
    }
   },
   "outputs": [],
   "source": [
    "components_InfoMax_ICA.index = precise1k.X.index"
   ]
  },
  {
   "cell_type": "code",
   "execution_count": 66,
   "id": "735809dd-4af6-47f0-9784-96ef389698bf",
   "metadata": {
    "execution": {
     "iopub.execute_input": "2024-08-30T16:25:53.949009Z",
     "iopub.status.busy": "2024-08-30T16:25:53.948632Z",
     "iopub.status.idle": "2024-08-30T16:25:54.016877Z",
     "shell.execute_reply": "2024-08-30T16:25:54.016438Z",
     "shell.execute_reply.started": "2024-08-30T16:25:53.948979Z"
    }
   },
   "outputs": [],
   "source": [
    "activities_InfoMax_ICA = pd.read_csv('./Results/InfoMax_ICA/proc_A.csv')"
   ]
  },
  {
   "cell_type": "code",
   "execution_count": 67,
   "id": "ace4826b-e3c4-4279-8adb-b2e523f6fcbc",
   "metadata": {
    "execution": {
     "iopub.execute_input": "2024-08-30T16:25:54.288209Z",
     "iopub.status.busy": "2024-08-30T16:25:54.287915Z",
     "iopub.status.idle": "2024-08-30T16:25:54.290465Z",
     "shell.execute_reply": "2024-08-30T16:25:54.290133Z",
     "shell.execute_reply.started": "2024-08-30T16:25:54.288195Z"
    }
   },
   "outputs": [],
   "source": [
    "activities_InfoMax_ICA.columns = precise1k.X.columns"
   ]
  },
  {
   "cell_type": "code",
   "execution_count": 68,
   "id": "919655f7-8273-48b3-8a3a-a08cf2cea303",
   "metadata": {
    "execution": {
     "iopub.execute_input": "2024-08-30T16:25:54.597600Z",
     "iopub.status.busy": "2024-08-30T16:25:54.597286Z",
     "iopub.status.idle": "2024-08-30T16:25:54.601265Z",
     "shell.execute_reply": "2024-08-30T16:25:54.600586Z",
     "shell.execute_reply.started": "2024-08-30T16:25:54.597574Z"
    }
   },
   "outputs": [],
   "source": [
    "components_InfoMax_ICA.columns = activities_InfoMax_ICA.index"
   ]
  },
  {
   "cell_type": "code",
   "execution_count": 73,
   "id": "efe51a51-4b7c-4125-9cf5-612f1b909cca",
   "metadata": {
    "execution": {
     "iopub.execute_input": "2024-08-30T16:26:39.769141Z",
     "iopub.status.busy": "2024-08-30T16:26:39.768765Z",
     "iopub.status.idle": "2024-08-30T16:26:50.482970Z",
     "shell.execute_reply": "2024-08-30T16:26:50.482336Z",
     "shell.execute_reply.started": "2024-08-30T16:26:39.769110Z"
    }
   },
   "outputs": [],
   "source": [
    "InfoMax_ICA_explained_variance = explained_variance_each_component(components_InfoMax_ICA, activities_InfoMax_ICA, precise1k.X)"
   ]
  },
  {
   "cell_type": "code",
   "execution_count": 74,
   "id": "e62f03fd-89e0-4b0d-b2e5-08cb82637722",
   "metadata": {
    "execution": {
     "iopub.execute_input": "2024-08-30T16:26:50.484349Z",
     "iopub.status.busy": "2024-08-30T16:26:50.484137Z",
     "iopub.status.idle": "2024-08-30T16:26:50.491873Z",
     "shell.execute_reply": "2024-08-30T16:26:50.491383Z",
     "shell.execute_reply.started": "2024-08-30T16:26:50.484329Z"
    }
   },
   "outputs": [
    {
     "data": {
      "text/html": [
       "<div>\n",
       "<style scoped>\n",
       "    .dataframe tbody tr th:only-of-type {\n",
       "        vertical-align: middle;\n",
       "    }\n",
       "\n",
       "    .dataframe tbody tr th {\n",
       "        vertical-align: top;\n",
       "    }\n",
       "\n",
       "    .dataframe thead th {\n",
       "        text-align: right;\n",
       "    }\n",
       "</style>\n",
       "<table border=\"1\" class=\"dataframe\">\n",
       "  <thead>\n",
       "    <tr style=\"text-align: right;\">\n",
       "      <th></th>\n",
       "      <th>iModulon</th>\n",
       "      <th>Explained Variance</th>\n",
       "    </tr>\n",
       "  </thead>\n",
       "  <tbody>\n",
       "    <tr>\n",
       "      <th>0</th>\n",
       "      <td>0</td>\n",
       "      <td>0.041331</td>\n",
       "    </tr>\n",
       "    <tr>\n",
       "      <th>1</th>\n",
       "      <td>1</td>\n",
       "      <td>0.018525</td>\n",
       "    </tr>\n",
       "    <tr>\n",
       "      <th>2</th>\n",
       "      <td>2</td>\n",
       "      <td>0.013703</td>\n",
       "    </tr>\n",
       "    <tr>\n",
       "      <th>3</th>\n",
       "      <td>3</td>\n",
       "      <td>0.009819</td>\n",
       "    </tr>\n",
       "    <tr>\n",
       "      <th>4</th>\n",
       "      <td>4</td>\n",
       "      <td>0.015056</td>\n",
       "    </tr>\n",
       "    <tr>\n",
       "      <th>...</th>\n",
       "      <td>...</td>\n",
       "      <td>...</td>\n",
       "    </tr>\n",
       "    <tr>\n",
       "      <th>245</th>\n",
       "      <td>245</td>\n",
       "      <td>0.000550</td>\n",
       "    </tr>\n",
       "    <tr>\n",
       "      <th>246</th>\n",
       "      <td>246</td>\n",
       "      <td>0.000486</td>\n",
       "    </tr>\n",
       "    <tr>\n",
       "      <th>247</th>\n",
       "      <td>247</td>\n",
       "      <td>0.000499</td>\n",
       "    </tr>\n",
       "    <tr>\n",
       "      <th>248</th>\n",
       "      <td>248</td>\n",
       "      <td>0.000477</td>\n",
       "    </tr>\n",
       "    <tr>\n",
       "      <th>249</th>\n",
       "      <td>249</td>\n",
       "      <td>0.000413</td>\n",
       "    </tr>\n",
       "  </tbody>\n",
       "</table>\n",
       "<p>250 rows × 2 columns</p>\n",
       "</div>"
      ],
      "text/plain": [
       "     iModulon  Explained Variance\n",
       "0           0            0.041331\n",
       "1           1            0.018525\n",
       "2           2            0.013703\n",
       "3           3            0.009819\n",
       "4           4            0.015056\n",
       "..        ...                 ...\n",
       "245       245            0.000550\n",
       "246       246            0.000486\n",
       "247       247            0.000499\n",
       "248       248            0.000477\n",
       "249       249            0.000413\n",
       "\n",
       "[250 rows x 2 columns]"
      ]
     },
     "execution_count": 74,
     "metadata": {},
     "output_type": "execute_result"
    }
   ],
   "source": [
    "InfoMax_ICA_explained_variance"
   ]
  },
  {
   "cell_type": "markdown",
   "id": "3d359e31-f531-435f-b4f2-3779ac83528e",
   "metadata": {},
   "source": [
    "## NMF"
   ]
  },
  {
   "cell_type": "code",
   "execution_count": 76,
   "id": "011e4e89-febd-4fe4-b24f-381d3d587707",
   "metadata": {
    "execution": {
     "iopub.execute_input": "2024-08-30T16:27:07.696908Z",
     "iopub.status.busy": "2024-08-30T16:27:07.696531Z",
     "iopub.status.idle": "2024-08-30T16:27:07.836177Z",
     "shell.execute_reply": "2024-08-30T16:27:07.835694Z",
     "shell.execute_reply.started": "2024-08-30T16:27:07.696878Z"
    }
   },
   "outputs": [],
   "source": [
    "components_NMF = pd.read_csv('./Results/NMF/M_NMF.csv', index_col=0)"
   ]
  },
  {
   "cell_type": "code",
   "execution_count": 77,
   "id": "ddb914f2-c484-4430-adac-a1ad50989cdc",
   "metadata": {
    "execution": {
     "iopub.execute_input": "2024-08-30T16:27:07.836977Z",
     "iopub.status.busy": "2024-08-30T16:27:07.836856Z",
     "iopub.status.idle": "2024-08-30T16:27:07.864413Z",
     "shell.execute_reply": "2024-08-30T16:27:07.863962Z",
     "shell.execute_reply.started": "2024-08-30T16:27:07.836964Z"
    }
   },
   "outputs": [],
   "source": [
    "activities_NMF = pd.read_csv('./Results/NMF/A_NMF.csv', index_col=0).T"
   ]
  },
  {
   "cell_type": "code",
   "execution_count": 78,
   "id": "c2742ca6-1d02-422b-be8e-8604d5fabb3b",
   "metadata": {
    "execution": {
     "iopub.execute_input": "2024-08-30T16:27:08.002092Z",
     "iopub.status.busy": "2024-08-30T16:27:08.001867Z",
     "iopub.status.idle": "2024-08-30T16:27:18.935114Z",
     "shell.execute_reply": "2024-08-30T16:27:18.934480Z",
     "shell.execute_reply.started": "2024-08-30T16:27:08.002071Z"
    }
   },
   "outputs": [],
   "source": [
    "NMF_explained_variance = explained_variance_each_component(components_NMF, activities_NMF, precise1k.X)"
   ]
  },
  {
   "cell_type": "code",
   "execution_count": 79,
   "id": "7e2e2061-ff4d-44f4-915c-efbeb6cf415b",
   "metadata": {
    "execution": {
     "iopub.execute_input": "2024-08-30T16:27:18.936591Z",
     "iopub.status.busy": "2024-08-30T16:27:18.936181Z",
     "iopub.status.idle": "2024-08-30T16:27:18.944615Z",
     "shell.execute_reply": "2024-08-30T16:27:18.944103Z",
     "shell.execute_reply.started": "2024-08-30T16:27:18.936569Z"
    }
   },
   "outputs": [
    {
     "data": {
      "text/html": [
       "<div>\n",
       "<style scoped>\n",
       "    .dataframe tbody tr th:only-of-type {\n",
       "        vertical-align: middle;\n",
       "    }\n",
       "\n",
       "    .dataframe tbody tr th {\n",
       "        vertical-align: top;\n",
       "    }\n",
       "\n",
       "    .dataframe thead th {\n",
       "        text-align: right;\n",
       "    }\n",
       "</style>\n",
       "<table border=\"1\" class=\"dataframe\">\n",
       "  <thead>\n",
       "    <tr style=\"text-align: right;\">\n",
       "      <th></th>\n",
       "      <th>iModulon</th>\n",
       "      <th>Explained Variance</th>\n",
       "    </tr>\n",
       "  </thead>\n",
       "  <tbody>\n",
       "    <tr>\n",
       "      <th>0</th>\n",
       "      <td>Component_1</td>\n",
       "      <td>-1.929845</td>\n",
       "    </tr>\n",
       "    <tr>\n",
       "      <th>1</th>\n",
       "      <td>Component_2</td>\n",
       "      <td>-0.056140</td>\n",
       "    </tr>\n",
       "    <tr>\n",
       "      <th>2</th>\n",
       "      <td>Component_3</td>\n",
       "      <td>-0.263809</td>\n",
       "    </tr>\n",
       "    <tr>\n",
       "      <th>3</th>\n",
       "      <td>Component_4</td>\n",
       "      <td>-0.076488</td>\n",
       "    </tr>\n",
       "    <tr>\n",
       "      <th>4</th>\n",
       "      <td>Component_5</td>\n",
       "      <td>-0.057049</td>\n",
       "    </tr>\n",
       "    <tr>\n",
       "      <th>...</th>\n",
       "      <td>...</td>\n",
       "      <td>...</td>\n",
       "    </tr>\n",
       "    <tr>\n",
       "      <th>245</th>\n",
       "      <td>Component_246</td>\n",
       "      <td>-0.116657</td>\n",
       "    </tr>\n",
       "    <tr>\n",
       "      <th>246</th>\n",
       "      <td>Component_247</td>\n",
       "      <td>-0.118131</td>\n",
       "    </tr>\n",
       "    <tr>\n",
       "      <th>247</th>\n",
       "      <td>Component_248</td>\n",
       "      <td>-0.046003</td>\n",
       "    </tr>\n",
       "    <tr>\n",
       "      <th>248</th>\n",
       "      <td>Component_249</td>\n",
       "      <td>-0.025747</td>\n",
       "    </tr>\n",
       "    <tr>\n",
       "      <th>249</th>\n",
       "      <td>Component_250</td>\n",
       "      <td>-0.054168</td>\n",
       "    </tr>\n",
       "  </tbody>\n",
       "</table>\n",
       "<p>250 rows × 2 columns</p>\n",
       "</div>"
      ],
      "text/plain": [
       "          iModulon  Explained Variance\n",
       "0      Component_1           -1.929845\n",
       "1      Component_2           -0.056140\n",
       "2      Component_3           -0.263809\n",
       "3      Component_4           -0.076488\n",
       "4      Component_5           -0.057049\n",
       "..             ...                 ...\n",
       "245  Component_246           -0.116657\n",
       "246  Component_247           -0.118131\n",
       "247  Component_248           -0.046003\n",
       "248  Component_249           -0.025747\n",
       "249  Component_250           -0.054168\n",
       "\n",
       "[250 rows x 2 columns]"
      ]
     },
     "execution_count": 79,
     "metadata": {},
     "output_type": "execute_result"
    }
   ],
   "source": [
    "NMF_explained_variance"
   ]
  },
  {
   "cell_type": "markdown",
   "id": "0630bb44-8c33-42a5-8e2e-13697ea6a065",
   "metadata": {},
   "source": [
    "## Picard ICA"
   ]
  },
  {
   "cell_type": "code",
   "execution_count": 80,
   "id": "89a075df-dde3-4f6e-8557-d24e9f524619",
   "metadata": {
    "execution": {
     "iopub.execute_input": "2024-08-30T16:28:03.799913Z",
     "iopub.status.busy": "2024-08-30T16:28:03.799582Z",
     "iopub.status.idle": "2024-08-30T16:28:04.023362Z",
     "shell.execute_reply": "2024-08-30T16:28:04.022877Z",
     "shell.execute_reply.started": "2024-08-30T16:28:03.799899Z"
    }
   },
   "outputs": [],
   "source": [
    "components_Picard_ICA = pd.read_csv('./Results/Picard_ICA/proc_S.csv').T"
   ]
  },
  {
   "cell_type": "code",
   "execution_count": 81,
   "id": "7b20e0f2-31fe-4ad6-96e1-9580b1ece469",
   "metadata": {
    "execution": {
     "iopub.execute_input": "2024-08-30T16:28:04.024395Z",
     "iopub.status.busy": "2024-08-30T16:28:04.024066Z",
     "iopub.status.idle": "2024-08-30T16:28:04.026403Z",
     "shell.execute_reply": "2024-08-30T16:28:04.026036Z",
     "shell.execute_reply.started": "2024-08-30T16:28:04.024382Z"
    }
   },
   "outputs": [],
   "source": [
    "components_Picard_ICA.index = precise1k.X.index"
   ]
  },
  {
   "cell_type": "code",
   "execution_count": 82,
   "id": "dd174e55-d069-4d8d-a246-8384c1295650",
   "metadata": {
    "execution": {
     "iopub.execute_input": "2024-08-30T16:28:04.208772Z",
     "iopub.status.busy": "2024-08-30T16:28:04.208544Z",
     "iopub.status.idle": "2024-08-30T16:28:04.269633Z",
     "shell.execute_reply": "2024-08-30T16:28:04.269193Z",
     "shell.execute_reply.started": "2024-08-30T16:28:04.208751Z"
    }
   },
   "outputs": [],
   "source": [
    "activities_Picard_ICA = pd.read_csv('./Results/Picard_ICA/proc_A.csv')"
   ]
  },
  {
   "cell_type": "code",
   "execution_count": 83,
   "id": "c0b3db58-14a6-4757-9ee2-e4fa723d966d",
   "metadata": {
    "execution": {
     "iopub.execute_input": "2024-08-30T16:28:04.553851Z",
     "iopub.status.busy": "2024-08-30T16:28:04.553480Z",
     "iopub.status.idle": "2024-08-30T16:28:04.556116Z",
     "shell.execute_reply": "2024-08-30T16:28:04.555779Z",
     "shell.execute_reply.started": "2024-08-30T16:28:04.553822Z"
    }
   },
   "outputs": [],
   "source": [
    "activities_Picard_ICA.columns = precise1k.X.columns"
   ]
  },
  {
   "cell_type": "code",
   "execution_count": 84,
   "id": "626f807e-6ab3-4060-a853-151bc48e3f7f",
   "metadata": {
    "execution": {
     "iopub.execute_input": "2024-08-30T16:28:04.858441Z",
     "iopub.status.busy": "2024-08-30T16:28:04.858041Z",
     "iopub.status.idle": "2024-08-30T16:28:04.861732Z",
     "shell.execute_reply": "2024-08-30T16:28:04.860982Z",
     "shell.execute_reply.started": "2024-08-30T16:28:04.858410Z"
    }
   },
   "outputs": [],
   "source": [
    "components_Picard_ICA.columns = activities_Picard_ICA.index"
   ]
  },
  {
   "cell_type": "code",
   "execution_count": 85,
   "id": "abf246dc-dca2-48fa-98ef-5c6d8ba3f973",
   "metadata": {
    "execution": {
     "iopub.execute_input": "2024-08-30T16:28:05.928334Z",
     "iopub.status.busy": "2024-08-30T16:28:05.927964Z",
     "iopub.status.idle": "2024-08-30T16:28:16.686643Z",
     "shell.execute_reply": "2024-08-30T16:28:16.685993Z",
     "shell.execute_reply.started": "2024-08-30T16:28:05.928305Z"
    }
   },
   "outputs": [],
   "source": [
    "Picard_ICA_explained_variance = explained_variance_each_component(components_Picard_ICA, activities_Picard_ICA, precise1k.X)"
   ]
  },
  {
   "cell_type": "code",
   "execution_count": 86,
   "id": "e19e754e-b94e-457a-a3bb-430b7be40caf",
   "metadata": {
    "execution": {
     "iopub.execute_input": "2024-08-30T16:28:16.688215Z",
     "iopub.status.busy": "2024-08-30T16:28:16.687806Z",
     "iopub.status.idle": "2024-08-30T16:28:16.696262Z",
     "shell.execute_reply": "2024-08-30T16:28:16.695762Z",
     "shell.execute_reply.started": "2024-08-30T16:28:16.688193Z"
    }
   },
   "outputs": [
    {
     "data": {
      "text/html": [
       "<div>\n",
       "<style scoped>\n",
       "    .dataframe tbody tr th:only-of-type {\n",
       "        vertical-align: middle;\n",
       "    }\n",
       "\n",
       "    .dataframe tbody tr th {\n",
       "        vertical-align: top;\n",
       "    }\n",
       "\n",
       "    .dataframe thead th {\n",
       "        text-align: right;\n",
       "    }\n",
       "</style>\n",
       "<table border=\"1\" class=\"dataframe\">\n",
       "  <thead>\n",
       "    <tr style=\"text-align: right;\">\n",
       "      <th></th>\n",
       "      <th>iModulon</th>\n",
       "      <th>Explained Variance</th>\n",
       "    </tr>\n",
       "  </thead>\n",
       "  <tbody>\n",
       "    <tr>\n",
       "      <th>0</th>\n",
       "      <td>0</td>\n",
       "      <td>0.023638</td>\n",
       "    </tr>\n",
       "    <tr>\n",
       "      <th>1</th>\n",
       "      <td>1</td>\n",
       "      <td>0.012080</td>\n",
       "    </tr>\n",
       "    <tr>\n",
       "      <th>2</th>\n",
       "      <td>2</td>\n",
       "      <td>0.011979</td>\n",
       "    </tr>\n",
       "    <tr>\n",
       "      <th>3</th>\n",
       "      <td>3</td>\n",
       "      <td>0.012388</td>\n",
       "    </tr>\n",
       "    <tr>\n",
       "      <th>4</th>\n",
       "      <td>4</td>\n",
       "      <td>0.009017</td>\n",
       "    </tr>\n",
       "    <tr>\n",
       "      <th>...</th>\n",
       "      <td>...</td>\n",
       "      <td>...</td>\n",
       "    </tr>\n",
       "    <tr>\n",
       "      <th>245</th>\n",
       "      <td>245</td>\n",
       "      <td>0.000453</td>\n",
       "    </tr>\n",
       "    <tr>\n",
       "      <th>246</th>\n",
       "      <td>246</td>\n",
       "      <td>0.000443</td>\n",
       "    </tr>\n",
       "    <tr>\n",
       "      <th>247</th>\n",
       "      <td>247</td>\n",
       "      <td>0.000354</td>\n",
       "    </tr>\n",
       "    <tr>\n",
       "      <th>248</th>\n",
       "      <td>248</td>\n",
       "      <td>0.000347</td>\n",
       "    </tr>\n",
       "    <tr>\n",
       "      <th>249</th>\n",
       "      <td>249</td>\n",
       "      <td>0.000284</td>\n",
       "    </tr>\n",
       "  </tbody>\n",
       "</table>\n",
       "<p>250 rows × 2 columns</p>\n",
       "</div>"
      ],
      "text/plain": [
       "     iModulon  Explained Variance\n",
       "0           0            0.023638\n",
       "1           1            0.012080\n",
       "2           2            0.011979\n",
       "3           3            0.012388\n",
       "4           4            0.009017\n",
       "..        ...                 ...\n",
       "245       245            0.000453\n",
       "246       246            0.000443\n",
       "247       247            0.000354\n",
       "248       248            0.000347\n",
       "249       249            0.000284\n",
       "\n",
       "[250 rows x 2 columns]"
      ]
     },
     "execution_count": 86,
     "metadata": {},
     "output_type": "execute_result"
    }
   ],
   "source": [
    "Picard_ICA_explained_variance"
   ]
  },
  {
   "cell_type": "code",
   "execution_count": null,
   "id": "2653cc26-0583-4fe7-8516-bd2bba324ba8",
   "metadata": {},
   "outputs": [],
   "source": []
  },
  {
   "cell_type": "markdown",
   "id": "485e6983-da2d-48d8-a5ba-99e306d292cf",
   "metadata": {},
   "source": [
    "## Sum of Exp Var"
   ]
  },
  {
   "cell_type": "code",
   "execution_count": 113,
   "id": "e185f75f-1af4-4cb5-89b4-56e6b5e17b79",
   "metadata": {
    "execution": {
     "iopub.execute_input": "2024-08-30T17:01:33.971196Z",
     "iopub.status.busy": "2024-08-30T17:01:33.970938Z",
     "iopub.status.idle": "2024-08-30T17:01:33.974232Z",
     "shell.execute_reply": "2024-08-30T17:01:33.973649Z",
     "shell.execute_reply.started": "2024-08-30T17:01:33.971181Z"
    }
   },
   "outputs": [],
   "source": [
    "def calculate_sum_of_variances(dataframes: Dict[str, pd.DataFrame]) -> Dict[str, float]:\n",
    "    \"\"\"\n",
    "    Calculates the sum of the 'Explained Variance' column in each provided dataframe.\n",
    "    \n",
    "    Parameters:\n",
    "    dataframes (Dict[str, pd.DataFrame]): A dictionary where the keys are the method names and the values are the corresponding dataframes.\n",
    "\n",
    "    Returns:\n",
    "    Dict[str, float]: A dictionary with method names as keys and their corresponding sum of 'Explained Variance' values as values.\n",
    "    \"\"\"\n",
    "    sum_dict = {}\n",
    "    \n",
    "    for method_name, df in dataframes.items():\n",
    "        sum_value = df['Explained Variance'].sum()\n",
    "        sum_dict[method_name] = sum_value\n",
    "    \n",
    "    return sum_dict"
   ]
  },
  {
   "cell_type": "code",
   "execution_count": 108,
   "id": "64fc3c2e-2e58-4f86-b8a2-45db925807aa",
   "metadata": {
    "execution": {
     "iopub.execute_input": "2024-08-30T17:00:02.705538Z",
     "iopub.status.busy": "2024-08-30T17:00:02.705169Z",
     "iopub.status.idle": "2024-08-30T17:00:02.709332Z",
     "shell.execute_reply": "2024-08-30T17:00:02.708579Z",
     "shell.execute_reply.started": "2024-08-30T17:00:02.705508Z"
    }
   },
   "outputs": [],
   "source": [
    "sum_exp_var = calculate_sum_of_variances(dataframes_dict)"
   ]
  },
  {
   "cell_type": "code",
   "execution_count": 109,
   "id": "6c3f937f-26da-475c-98cb-f02e45e8b617",
   "metadata": {
    "execution": {
     "iopub.execute_input": "2024-08-30T17:00:03.060582Z",
     "iopub.status.busy": "2024-08-30T17:00:03.060203Z",
     "iopub.status.idle": "2024-08-30T17:00:03.066274Z",
     "shell.execute_reply": "2024-08-30T17:00:03.065521Z",
     "shell.execute_reply.started": "2024-08-30T17:00:03.060552Z"
    }
   },
   "outputs": [
    {
     "data": {
      "text/plain": [
       "{'PCA': 0.9773929746051151,\n",
       " 'Incremental PCA': 0.9776315813713764,\n",
       " 'Independent PCA': 0.00014441529368169892,\n",
       " 'Sparse Independent PCA': 0.00010286532068926046,\n",
       " 'Fast ICA': 0.9776315813713765,\n",
       " 'InfoMax ICA': 0.665104016836261,\n",
       " 'Picard ICA': 0.6651040168362612,\n",
       " 'Sparse ICA': 0.7489040854551958,\n",
       " 'NMF': -20.61833196378741,\n",
       " 'Factor Analysis': 0.9729593694263614,\n",
       " 'Dictionary Learning': 0.9032879365766188,\n",
       " 'Sparse Coder': 0.9032879365766188}"
      ]
     },
     "execution_count": 109,
     "metadata": {},
     "output_type": "execute_result"
    }
   ],
   "source": [
    "sum_exp_var"
   ]
  },
  {
   "cell_type": "code",
   "execution_count": 110,
   "id": "06b61e32-9341-4743-bf02-9e0cb57e2ac2",
   "metadata": {
    "execution": {
     "iopub.execute_input": "2024-08-30T17:00:03.844036Z",
     "iopub.status.busy": "2024-08-30T17:00:03.843662Z",
     "iopub.status.idle": "2024-08-30T17:00:03.848093Z",
     "shell.execute_reply": "2024-08-30T17:00:03.847317Z",
     "shell.execute_reply.started": "2024-08-30T17:00:03.844006Z"
    }
   },
   "outputs": [],
   "source": [
    "sum_exp_var['NMF'] = 0"
   ]
  },
  {
   "cell_type": "code",
   "execution_count": 111,
   "id": "5ef34d15-5af7-4371-b918-567a7cc4ad3a",
   "metadata": {
    "execution": {
     "iopub.execute_input": "2024-08-30T17:00:04.177493Z",
     "iopub.status.busy": "2024-08-30T17:00:04.177116Z",
     "iopub.status.idle": "2024-08-30T17:00:04.183193Z",
     "shell.execute_reply": "2024-08-30T17:00:04.182460Z",
     "shell.execute_reply.started": "2024-08-30T17:00:04.177462Z"
    }
   },
   "outputs": [
    {
     "data": {
      "text/plain": [
       "{'PCA': 0.9773929746051151,\n",
       " 'Incremental PCA': 0.9776315813713764,\n",
       " 'Independent PCA': 0.00014441529368169892,\n",
       " 'Sparse Independent PCA': 0.00010286532068926046,\n",
       " 'Fast ICA': 0.9776315813713765,\n",
       " 'InfoMax ICA': 0.665104016836261,\n",
       " 'Picard ICA': 0.6651040168362612,\n",
       " 'Sparse ICA': 0.7489040854551958,\n",
       " 'NMF': 0,\n",
       " 'Factor Analysis': 0.9729593694263614,\n",
       " 'Dictionary Learning': 0.9032879365766188,\n",
       " 'Sparse Coder': 0.9032879365766188}"
      ]
     },
     "execution_count": 111,
     "metadata": {},
     "output_type": "execute_result"
    }
   ],
   "source": [
    "sum_exp_var"
   ]
  },
  {
   "cell_type": "code",
   "execution_count": 112,
   "id": "dd4c7ad1-d190-482a-b0ce-6c914518fe1b",
   "metadata": {
    "execution": {
     "iopub.execute_input": "2024-08-30T17:00:04.567785Z",
     "iopub.status.busy": "2024-08-30T17:00:04.567568Z",
     "iopub.status.idle": "2024-08-30T17:00:04.689742Z",
     "shell.execute_reply": "2024-08-30T17:00:04.689354Z",
     "shell.execute_reply.started": "2024-08-30T17:00:04.567768Z"
    }
   },
   "outputs": [
    {
     "data": {
      "image/png": "[encoded data removed]",
      "text/plain": [
       "<Figure size 600x400 with 1 Axes>"
      ]
     },
     "metadata": {},
     "output_type": "display_data"
    }
   ],
   "source": [
    "import matplotlib.font_manager as fm\n",
    "\n",
    "def plot_sum_of_variances_with_style(sum_results: Dict[str, float]):\n",
    "    \"\"\"\n",
    "    Plots the sum of explained variances for different methods with a specific style.\n",
    "    \n",
    "    Parameters:\n",
    "    sum_results (Dict[str, float]): A dictionary with method names as keys and their corresponding sum of 'Explained Variance' values as values.\n",
    "    \"\"\"\n",
    "    # Load custom font\n",
    "    font_path = '/usr/share/fonts/truetype/msttcorefonts/Times_New_Roman.ttf'\n",
    "    font_prop = fm.FontProperties(fname=font_path)\n",
    "    \n",
    "    # Extract keys and values\n",
    "    methods = list(sum_results.keys())\n",
    "    sums = list(sum_results.values())\n",
    "    \n",
    "    # Create the plot\n",
    "    fig, ax = plt.subplots(figsize=(6, 4))\n",
    "    \n",
    "    # Bar plot\n",
    "    ax.bar(methods, sums, color='#B999C8')\n",
    "    \n",
    "    # Set x-tick positions and labels to the method names\n",
    "    ax.set_xticks(range(len(methods)))\n",
    "    ax.set_xticklabels(methods, fontproperties=font_prop, rotation=45, ha=\"right\")\n",
    "    \n",
    "    # Apply the font to y-axis ticks\n",
    "    ax.yaxis.set_tick_params(labelsize=12)  # Optionally, set tick size\n",
    "    for label in ax.get_yticklabels():\n",
    "        label.set_fontproperties(font_prop)\n",
    "    \n",
    "    # Add title and labels\n",
    "    ax.set_title(\"Sum of Explained Variance by Method\", fontproperties=font_prop)\n",
    "    \n",
    "    # Remove grid lines\n",
    "    ax.grid(False)\n",
    "    \n",
    "    # Add a width=1 box around the plot\n",
    "    ax.spines['top'].set_linewidth(1)\n",
    "    ax.spines['right'].set_linewidth(1)\n",
    "    ax.spines['bottom'].set_linewidth(1)\n",
    "    ax.spines['left'].set_linewidth(1)\n",
    "    \n",
    "    # Display the plot\n",
    "    plt.tight_layout()\n",
    "    plt.show()\n",
    "\n",
    "plot_sum_of_variances_with_style(sum_exp_var)\n",
    "\n"
   ]
  },
  {
   "cell_type": "markdown",
   "id": "f87bb0f0-7d98-4490-9d4e-13fb938ba242",
   "metadata": {},
   "source": [
    "## Calculate Coefficient of Variation (CV) for all exp var"
   ]
  },
  {
   "cell_type": "markdown",
   "id": "6adb71b0-ee49-484b-9cca-9e73a09badff",
   "metadata": {},
   "source": [
    "To account for the scale and ensure that the relative variance is comparable, you could normalize or standardize the data before calculating the MAD. One common approach is to calculate the Coefficient of Variation (CV), which normalizes the MAD by dividing it by the mean:"
   ]
  },
  {
   "cell_type": "code",
   "execution_count": 116,
   "id": "d1b848e2-94ac-4bf7-abf3-e743a8f43f42",
   "metadata": {
    "execution": {
     "iopub.execute_input": "2024-08-30T17:02:08.301731Z",
     "iopub.status.busy": "2024-08-30T17:02:08.301533Z",
     "iopub.status.idle": "2024-08-30T17:02:08.304782Z",
     "shell.execute_reply": "2024-08-30T17:02:08.304441Z",
     "shell.execute_reply.started": "2024-08-30T17:02:08.301717Z"
    }
   },
   "outputs": [],
   "source": [
    "from typing import Dict\n",
    "\n",
    "def calculate_cv_for_variances(dataframes: Dict[str, pd.DataFrame]) -> Dict[str, float]:\n",
    "    \"\"\"\n",
    "    Calculates the Coefficient of Variation (CV) for the 'Explained Variance' column in each provided dataframe.\n",
    "    \n",
    "    Parameters:\n",
    "    dataframes (Dict[str, pd.DataFrame]): A dictionary where the keys are the method names and the values are the corresponding dataframes.\n",
    "\n",
    "    Returns:\n",
    "    Dict[str, float]: A dictionary with method names as keys and their corresponding CV values as values.\n",
    "    \"\"\"\n",
    "    cv_dict = {}\n",
    "    \n",
    "    for method_name, df in dataframes.items():\n",
    "        mean_value = df['Explained Variance'].mean()\n",
    "        mad_value = df['Explained Variance'].mad()\n",
    "        cv_value = mad_value / mean_value\n",
    "        cv_dict[method_name] = abs(cv_value)\n",
    "    \n",
    "    return cv_dict"
   ]
  },
  {
   "cell_type": "code",
   "execution_count": 117,
   "id": "9cbec77c-a7a5-40e6-91af-ff6f40e3d115",
   "metadata": {
    "execution": {
     "iopub.execute_input": "2024-08-30T17:02:08.486964Z",
     "iopub.status.busy": "2024-08-30T17:02:08.486768Z",
     "iopub.status.idle": "2024-08-30T17:02:08.490233Z",
     "shell.execute_reply": "2024-08-30T17:02:08.489454Z",
     "shell.execute_reply.started": "2024-08-30T17:02:08.486950Z"
    }
   },
   "outputs": [],
   "source": [
    "dataframes_dict = {\n",
    "    'PCA': PCA_explained_variance,\n",
    "    'Incremental PCA': incremental_pca_explained_variance,\n",
    "    'Independent PCA': IPCA_explained_variance,\n",
    "    'Sparse Independent PCA': sIPCA_explained_variance,\n",
    "    'Fast ICA': Fast_ICA_explained_variance,\n",
    "    'InfoMax ICA': InfoMax_ICA_explained_variance,\n",
    "    'Picard ICA': Picard_ICA_explained_variance,\n",
    "    'Sparse ICA': Sparse_ICA_explained_variance,\n",
    "    'NMF': NMF_explained_variance,\n",
    "    'Factor Analysis': factor_analysis_explained_variance,\n",
    "    'Dictionary Learning': dictionary_learning_explained_variance,\n",
    "    'Sparse Coder': SparseCoder_explained_variance\n",
    "}"
   ]
  },
  {
   "cell_type": "code",
   "execution_count": 118,
   "id": "dcb585d8-7f25-47cb-bb62-11fb2c8dc89b",
   "metadata": {
    "execution": {
     "iopub.execute_input": "2024-08-30T17:02:12.205552Z",
     "iopub.status.busy": "2024-08-30T17:02:12.205175Z",
     "iopub.status.idle": "2024-08-30T17:02:12.218875Z",
     "shell.execute_reply": "2024-08-30T17:02:12.218099Z",
     "shell.execute_reply.started": "2024-08-30T17:02:12.205522Z"
    }
   },
   "outputs": [],
   "source": [
    "coefficient_of_variation_exp_var_per_components = calculate_cv_for_variances(dataframes_dict)"
   ]
  },
  {
   "cell_type": "code",
   "execution_count": 119,
   "id": "0374f99b-67d7-4acc-ab24-72539da5f2aa",
   "metadata": {
    "execution": {
     "iopub.execute_input": "2024-08-30T17:02:12.716584Z",
     "iopub.status.busy": "2024-08-30T17:02:12.716289Z",
     "iopub.status.idle": "2024-08-30T17:02:12.721985Z",
     "shell.execute_reply": "2024-08-30T17:02:12.721279Z",
     "shell.execute_reply.started": "2024-08-30T17:02:12.716556Z"
    }
   },
   "outputs": [
    {
     "data": {
      "text/plain": [
       "{'PCA': 1.5543700680768,\n",
       " 'Incremental PCA': 1.5539418857464145,\n",
       " 'Independent PCA': 0.3785420482638874,\n",
       " 'Sparse Independent PCA': 0.5647240459088939,\n",
       " 'Fast ICA': 0.8088495713288201,\n",
       " 'InfoMax ICA': 0.7711659599045133,\n",
       " 'Picard ICA': 0.5847961615070819,\n",
       " 'Sparse ICA': 0.8793467287515502,\n",
       " 'NMF': 0.3970965477821813,\n",
       " 'Factor Analysis': 1.5274883449377958,\n",
       " 'Dictionary Learning': 0.5874579446155792,\n",
       " 'Sparse Coder': 0.5874579446155792}"
      ]
     },
     "execution_count": 119,
     "metadata": {},
     "output_type": "execute_result"
    }
   ],
   "source": [
    "coefficient_of_variation_exp_var_per_components"
   ]
  },
  {
   "cell_type": "code",
   "execution_count": 122,
   "id": "bf93a11f-f1b4-48de-88cd-0ce0d597d850",
   "metadata": {
    "execution": {
     "iopub.execute_input": "2024-08-30T17:56:44.322209Z",
     "iopub.status.busy": "2024-08-30T17:56:44.321809Z",
     "iopub.status.idle": "2024-08-30T17:56:44.324493Z",
     "shell.execute_reply": "2024-08-30T17:56:44.324147Z",
     "shell.execute_reply.started": "2024-08-30T17:56:44.322177Z"
    }
   },
   "outputs": [],
   "source": [
    "del coefficient_of_variation_exp_var_per_components['NMF']"
   ]
  },
  {
   "cell_type": "code",
   "execution_count": 123,
   "id": "418714dc-e78a-4214-ba98-18ebd0952877",
   "metadata": {
    "execution": {
     "iopub.execute_input": "2024-08-30T17:57:16.406618Z",
     "iopub.status.busy": "2024-08-30T17:57:16.406415Z",
     "iopub.status.idle": "2024-08-30T17:57:16.409174Z",
     "shell.execute_reply": "2024-08-30T17:57:16.408515Z",
     "shell.execute_reply.started": "2024-08-30T17:57:16.406597Z"
    }
   },
   "outputs": [],
   "source": [
    "del coefficient_of_variation_exp_var_per_components['Independent PCA']"
   ]
  },
  {
   "cell_type": "code",
   "execution_count": 124,
   "id": "ace31c83-661e-4112-ba53-3c30ac8e2e99",
   "metadata": {
    "execution": {
     "iopub.execute_input": "2024-08-30T17:57:16.748645Z",
     "iopub.status.busy": "2024-08-30T17:57:16.748268Z",
     "iopub.status.idle": "2024-08-30T17:57:16.751475Z",
     "shell.execute_reply": "2024-08-30T17:57:16.751097Z",
     "shell.execute_reply.started": "2024-08-30T17:57:16.748613Z"
    }
   },
   "outputs": [],
   "source": [
    "del coefficient_of_variation_exp_var_per_components['Sparse Independent PCA']"
   ]
  },
  {
   "cell_type": "code",
   "execution_count": 129,
   "id": "8bfe33cf-4298-4076-8df2-4a75dda2e080",
   "metadata": {
    "execution": {
     "iopub.execute_input": "2024-08-30T17:59:38.975716Z",
     "iopub.status.busy": "2024-08-30T17:59:38.975349Z",
     "iopub.status.idle": "2024-08-30T17:59:38.980456Z",
     "shell.execute_reply": "2024-08-30T17:59:38.979692Z",
     "shell.execute_reply.started": "2024-08-30T17:59:38.975697Z"
    }
   },
   "outputs": [],
   "source": [
    "def plot_cv_of_variances_with_style(cv_results: Dict[str, float]):\n",
    "    \"\"\"\n",
    "    Plots the Coefficient of Variation (CV) for explained variances for different methods with a specific style.\n",
    "    \n",
    "    Parameters:\n",
    "    cv_results (Dict[str, float]): A dictionary with method names as keys and their corresponding CV values as values.\n",
    "    \"\"\"\n",
    "    # Load custom font\n",
    "    font_path = '/usr/share/fonts/truetype/msttcorefonts/Times_New_Roman.ttf'\n",
    "    font_prop = fm.FontProperties(fname=font_path)\n",
    "    \n",
    "    # Extract keys and values\n",
    "    methods = list(cv_results.keys())\n",
    "    cvs = list(cv_results.values())\n",
    "    \n",
    "    # Create the plot\n",
    "    fig, ax = plt.subplots(figsize=(6, 4))\n",
    "    \n",
    "    # Bar plot with the specified color\n",
    "    ax.bar(methods, cvs, color='#F6CD82')\n",
    "    \n",
    "    # Set x-tick positions and labels to the method names\n",
    "    ax.set_xticks(range(len(methods)))\n",
    "    ax.set_xticklabels(methods, fontproperties=font_prop, rotation=45, ha=\"right\")\n",
    "    \n",
    "    # Apply the font to y-axis ticks\n",
    "    ax.yaxis.set_tick_params(labelsize=12)  # Optionally, set tick size\n",
    "    for label in ax.get_yticklabels():\n",
    "        label.set_fontproperties(font_prop)\n",
    "    \n",
    "    # Add title and labels\n",
    "    # ax.set_title(\"Coefficient of Variation of Explained Variance by Method\", fontproperties=font_prop)\n",
    "    ax.set_title(\"\", fontproperties=font_prop)\n",
    "    # Remove grid lines\n",
    "    ax.grid(False)\n",
    "    \n",
    "    # Add a width=1 box around the plot\n",
    "    ax.spines['top'].set_linewidth(1)\n",
    "    ax.spines['right'].set_linewidth(1)\n",
    "    ax.spines['bottom'].set_linewidth(1)\n",
    "    ax.spines['left'].set_linewidth(1)\n",
    "    \n",
    "    # Display the plot\n",
    "    plt.tight_layout()\n",
    "\n",
    "    plt.savefig('coefficient_of_variation_exp_var.svg', format = 'svg')\n",
    "    \n",
    "    plt.show()"
   ]
  },
  {
   "cell_type": "code",
   "execution_count": 130,
   "id": "2890554c-d8d7-4c1f-a01c-ba5b6a820575",
   "metadata": {
    "execution": {
     "iopub.execute_input": "2024-08-30T17:59:39.168353Z",
     "iopub.status.busy": "2024-08-30T17:59:39.168157Z",
     "iopub.status.idle": "2024-08-30T17:59:39.307533Z",
     "shell.execute_reply": "2024-08-30T17:59:39.307137Z",
     "shell.execute_reply.started": "2024-08-30T17:59:39.168340Z"
    }
   },
   "outputs": [
    {
     "data": {
      "image/png": "[encoded data removed]",
      "text/plain": [
       "<Figure size 600x400 with 1 Axes>"
      ]
     },
     "metadata": {},
     "output_type": "display_data"
    }
   ],
   "source": [
    "plot_cv_of_variances_with_style(coefficient_of_variation_exp_var_per_components)"
   ]
  },
  {
   "cell_type": "markdown",
   "id": "bec81833-7f6d-4c84-81e5-78966d5879c7",
   "metadata": {},
   "source": [
    "## Sum of Exp Var"
   ]
  },
  {
   "cell_type": "code",
   "execution_count": 113,
   "id": "de468d26-34c5-4c06-84bd-873112870e00",
   "metadata": {
    "execution": {
     "iopub.execute_input": "2024-08-30T17:01:33.971196Z",
     "iopub.status.busy": "2024-08-30T17:01:33.970938Z",
     "iopub.status.idle": "2024-08-30T17:01:33.974232Z",
     "shell.execute_reply": "2024-08-30T17:01:33.973649Z",
     "shell.execute_reply.started": "2024-08-30T17:01:33.971181Z"
    }
   },
   "outputs": [],
   "source": [
    "def calculate_sum_of_variances(dataframes: Dict[str, pd.DataFrame]) -> Dict[str, float]:\n",
    "    \"\"\"\n",
    "    Calculates the sum of the 'Explained Variance' column in each provided dataframe.\n",
    "    \n",
    "    Parameters:\n",
    "    dataframes (Dict[str, pd.DataFrame]): A dictionary where the keys are the method names and the values are the corresponding dataframes.\n",
    "\n",
    "    Returns:\n",
    "    Dict[str, float]: A dictionary with method names as keys and their corresponding sum of 'Explained Variance' values as values.\n",
    "    \"\"\"\n",
    "    sum_dict = {}\n",
    "    \n",
    "    for method_name, df in dataframes.items():\n",
    "        sum_value = df['Explained Variance'].sum()\n",
    "        sum_dict[method_name] = sum_value\n",
    "    \n",
    "    return sum_dict"
   ]
  },
  {
   "cell_type": "code",
   "execution_count": 108,
   "id": "e0437f18-fb86-42e6-9daf-c1449aebfb06",
   "metadata": {
    "execution": {
     "iopub.execute_input": "2024-08-30T17:00:02.705538Z",
     "iopub.status.busy": "2024-08-30T17:00:02.705169Z",
     "iopub.status.idle": "2024-08-30T17:00:02.709332Z",
     "shell.execute_reply": "2024-08-30T17:00:02.708579Z",
     "shell.execute_reply.started": "2024-08-30T17:00:02.705508Z"
    }
   },
   "outputs": [],
   "source": [
    "sum_exp_var = calculate_sum_of_variances(dataframes_dict)"
   ]
  },
  {
   "cell_type": "code",
   "execution_count": 109,
   "id": "9c5b096d-8474-4ffd-9922-f66190e886a8",
   "metadata": {
    "execution": {
     "iopub.execute_input": "2024-08-30T17:00:03.060582Z",
     "iopub.status.busy": "2024-08-30T17:00:03.060203Z",
     "iopub.status.idle": "2024-08-30T17:00:03.066274Z",
     "shell.execute_reply": "2024-08-30T17:00:03.065521Z",
     "shell.execute_reply.started": "2024-08-30T17:00:03.060552Z"
    }
   },
   "outputs": [
    {
     "data": {
      "text/plain": [
       "{'PCA': 0.9773929746051151,\n",
       " 'Incremental PCA': 0.9776315813713764,\n",
       " 'Independent PCA': 0.00014441529368169892,\n",
       " 'Sparse Independent PCA': 0.00010286532068926046,\n",
       " 'Fast ICA': 0.9776315813713765,\n",
       " 'InfoMax ICA': 0.665104016836261,\n",
       " 'Picard ICA': 0.6651040168362612,\n",
       " 'Sparse ICA': 0.7489040854551958,\n",
       " 'NMF': -20.61833196378741,\n",
       " 'Factor Analysis': 0.9729593694263614,\n",
       " 'Dictionary Learning': 0.9032879365766188,\n",
       " 'Sparse Coder': 0.9032879365766188}"
      ]
     },
     "execution_count": 109,
     "metadata": {},
     "output_type": "execute_result"
    }
   ],
   "source": [
    "sum_exp_var"
   ]
  },
  {
   "cell_type": "code",
   "execution_count": 110,
   "id": "c8f7bbbd-162f-4047-8de3-c71cf521033d",
   "metadata": {
    "execution": {
     "iopub.execute_input": "2024-08-30T17:00:03.844036Z",
     "iopub.status.busy": "2024-08-30T17:00:03.843662Z",
     "iopub.status.idle": "2024-08-30T17:00:03.848093Z",
     "shell.execute_reply": "2024-08-30T17:00:03.847317Z",
     "shell.execute_reply.started": "2024-08-30T17:00:03.844006Z"
    }
   },
   "outputs": [],
   "source": [
    "sum_exp_var['NMF'] = 0"
   ]
  },
  {
   "cell_type": "code",
   "execution_count": 111,
   "id": "5002a286-ee55-4acd-ba99-39508cf5b03d",
   "metadata": {
    "execution": {
     "iopub.execute_input": "2024-08-30T17:00:04.177493Z",
     "iopub.status.busy": "2024-08-30T17:00:04.177116Z",
     "iopub.status.idle": "2024-08-30T17:00:04.183193Z",
     "shell.execute_reply": "2024-08-30T17:00:04.182460Z",
     "shell.execute_reply.started": "2024-08-30T17:00:04.177462Z"
    }
   },
   "outputs": [
    {
     "data": {
      "text/plain": [
       "{'PCA': 0.9773929746051151,\n",
       " 'Incremental PCA': 0.9776315813713764,\n",
       " 'Independent PCA': 0.00014441529368169892,\n",
       " 'Sparse Independent PCA': 0.00010286532068926046,\n",
       " 'Fast ICA': 0.9776315813713765,\n",
       " 'InfoMax ICA': 0.665104016836261,\n",
       " 'Picard ICA': 0.6651040168362612,\n",
       " 'Sparse ICA': 0.7489040854551958,\n",
       " 'NMF': 0,\n",
       " 'Factor Analysis': 0.9729593694263614,\n",
       " 'Dictionary Learning': 0.9032879365766188,\n",
       " 'Sparse Coder': 0.9032879365766188}"
      ]
     },
     "execution_count": 111,
     "metadata": {},
     "output_type": "execute_result"
    }
   ],
   "source": [
    "sum_exp_var"
   ]
  },
  {
   "cell_type": "code",
   "execution_count": 131,
   "id": "06f1ebbf-a887-421a-82c6-d43382e954c7",
   "metadata": {
    "execution": {
     "iopub.execute_input": "2024-08-30T18:02:41.365514Z",
     "iopub.status.busy": "2024-08-30T18:02:41.365318Z",
     "iopub.status.idle": "2024-08-30T18:02:41.502461Z",
     "shell.execute_reply": "2024-08-30T18:02:41.502061Z",
     "shell.execute_reply.started": "2024-08-30T18:02:41.365501Z"
    }
   },
   "outputs": [
    {
     "data": {
      "image/png": "[encoded data removed]",
      "text/plain": [
       "<Figure size 600x400 with 1 Axes>"
      ]
     },
     "metadata": {},
     "output_type": "display_data"
    }
   ],
   "source": [
    "import matplotlib.font_manager as fm\n",
    "\n",
    "def plot_sum_of_variances_with_style(sum_results: Dict[str, float]):\n",
    "    \"\"\"\n",
    "    Plots the sum of explained variances for different methods with a specific style.\n",
    "    \n",
    "    Parameters:\n",
    "    sum_results (Dict[str, float]): A dictionary with method names as keys and their corresponding sum of 'Explained Variance' values as values.\n",
    "    \"\"\"\n",
    "    # Load custom font\n",
    "    font_path = '/usr/share/fonts/truetype/msttcorefonts/Times_New_Roman.ttf'\n",
    "    font_prop = fm.FontProperties(fname=font_path)\n",
    "    \n",
    "    # Extract keys and values\n",
    "    methods = list(sum_results.keys())\n",
    "    sums = list(sum_results.values())\n",
    "    \n",
    "    # Create the plot\n",
    "    fig, ax = plt.subplots(figsize=(6, 4))\n",
    "    \n",
    "    # Bar plot\n",
    "    ax.bar(methods, sums, color='#B999C8')\n",
    "    \n",
    "    # Set x-tick positions and labels to the method names\n",
    "    ax.set_xticks(range(len(methods)))\n",
    "    ax.set_xticklabels(methods, fontproperties=font_prop, rotation=45, ha=\"right\")\n",
    "    \n",
    "    # Apply the font to y-axis ticks\n",
    "    ax.yaxis.set_tick_params(labelsize=12)  # Optionally, set tick size\n",
    "    for label in ax.get_yticklabels():\n",
    "        label.set_fontproperties(font_prop)\n",
    "    \n",
    "    # Add title and labels\n",
    "    # ax.set_title(\"Sum of Explained Variance by Method\", fontproperties=font_prop)\n",
    "    ax.set_title(\"\", fontproperties=font_prop)\n",
    "    \n",
    "    # Remove grid lines\n",
    "    ax.grid(False)\n",
    "    \n",
    "    # Add a width=1 box around the plot\n",
    "    ax.spines['top'].set_linewidth(1)\n",
    "    ax.spines['right'].set_linewidth(1)\n",
    "    ax.spines['bottom'].set_linewidth(1)\n",
    "    ax.spines['left'].set_linewidth(1)\n",
    "    \n",
    "    # Display the plot\n",
    "    plt.tight_layout()\n",
    "    plt.savefig('sum_of_exp_var.svg', format = 'svg')\n",
    "    plt.show()\n",
    "\n",
    "plot_sum_of_variances_with_style(sum_exp_var)\n",
    "\n"
   ]
  },
  {
   "cell_type": "code",
   "execution_count": null,
   "id": "aea34b69-5623-4129-86c8-4863c5addd70",
   "metadata": {},
   "outputs": [],
   "source": []
  }
 ],
 "metadata": {
  "kernelspec": {
   "display_name": "Python [conda env:modulome]",
   "language": "python",
   "name": "conda-env-modulome-py"
  },
  "language_info": {
   "codemirror_mode": {
    "name": "ipython",
    "version": 3
   },
   "file_extension": ".py",
   "mimetype": "text/x-python",
   "name": "python",
   "nbconvert_exporter": "python",
   "pygments_lexer": "ipython3",
   "version": "3.7.12"
  }
 },
 "nbformat": 4,
 "nbformat_minor": 5
}
