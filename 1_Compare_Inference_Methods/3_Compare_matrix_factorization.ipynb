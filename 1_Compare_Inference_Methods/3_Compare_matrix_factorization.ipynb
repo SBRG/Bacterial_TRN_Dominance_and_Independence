{
 "cells": [
  {
   "cell_type": "markdown",
   "id": "d86bd7f0-275e-45ea-a5b1-61d09f3d7112",
   "metadata": {},
   "source": [
    "# Compare_matrix_factorization"
   ]
  },
  {
   "cell_type": "code",
   "execution_count": 1,
   "id": "d782a357-5acf-4503-9b6f-7a5c07cab678",
   "metadata": {
    "execution": {
     "iopub.execute_input": "2024-10-22T15:04:20.603807Z",
     "iopub.status.busy": "2024-10-22T15:04:20.603195Z",
     "iopub.status.idle": "2024-10-22T15:04:21.483453Z",
     "shell.execute_reply": "2024-10-22T15:04:21.482657Z",
     "shell.execute_reply.started": "2024-10-22T15:04:20.603766Z"
    }
   },
   "outputs": [],
   "source": [
    "from pathlib import Path\n",
    "import sys\n",
    "import os.path\n",
    "import matplotlib\n",
    "import matplotlib.pyplot as plt\n",
    "import numpy as np\n",
    "import pandas as pd\n",
    "from scipy.stats import f_oneway, gaussian_kde, mannwhitneyu, pearsonr, spearmanr\n",
    "import seaborn as sns\n",
    "from tqdm.notebook import tqdm\n",
    "from pymodulon.compare import compare_ica\n",
    "from pymodulon.core import IcaData\n",
    "from pymodulon.io import load_json_model, save_to_json\n",
    "from pymodulon.plotting import *\n",
    "\n",
    "import json\n",
    "\n",
    "from pymodulon.util import explained_variance\n",
    "from pymodulon.imodulondb import imdb_gene_presence\n",
    "\n",
    "%matplotlib inline\n",
    "%config  InlineBackend.figure_format = 'png'\n",
    "\n",
    "sns.set_style('whitegrid')"
   ]
  },
  {
   "cell_type": "code",
   "execution_count": 2,
   "id": "7417dead-71a4-4f13-bad4-3686c181ebba",
   "metadata": {
    "execution": {
     "iopub.execute_input": "2024-10-22T15:04:22.645831Z",
     "iopub.status.busy": "2024-10-22T15:04:22.645629Z",
     "iopub.status.idle": "2024-10-22T15:04:22.659527Z",
     "shell.execute_reply": "2024-10-22T15:04:22.658925Z",
     "shell.execute_reply.started": "2024-10-22T15:04:22.645817Z"
    }
   },
   "outputs": [],
   "source": [
    "biocyc_info = pd.read_csv('../Data/biocyc_info.txt', sep=\"\\t\")"
   ]
  },
  {
   "cell_type": "code",
   "execution_count": 3,
   "id": "c4332814-1720-4f14-8da0-9b5583c2e738",
   "metadata": {
    "execution": {
     "iopub.execute_input": "2024-10-22T15:04:23.076222Z",
     "iopub.status.busy": "2024-10-22T15:04:23.075903Z",
     "iopub.status.idle": "2024-10-22T15:04:23.082558Z",
     "shell.execute_reply": "2024-10-22T15:04:23.081729Z",
     "shell.execute_reply.started": "2024-10-22T15:04:23.076192Z"
    }
   },
   "outputs": [],
   "source": [
    "def map_accession_to_gene_name(df, biocyc_info):\n",
    "\n",
    "    # Reset index if 'Accession' is the index, and rename the column\n",
    "    if df.index.name == 'Accession' or df.index.name is None:\n",
    "        df = df.reset_index()\n",
    "        df.rename(columns={'index': 'Accession'}, inplace=True)\n",
    "        \n",
    "    # Merge with biocyc_info to map 'Accession' to 'Gene Name'\n",
    "    merged_df = df.merge(biocyc_info[['Accession', 'Gene Name']], on='Accession', how='left')\n",
    "\n",
    "    # Identify rows with NaN 'Gene Name'\n",
    "    removed_indices = merged_df[merged_df['Gene Name'].isna()]['Accession'].tolist()\n",
    "\n",
    "    # Print the original indices that were removed\n",
    "    print(\"Original indices removed due to NaN 'Gene Name':\", removed_indices)\n",
    "\n",
    "    # Set 'Gene Name' as the new index and drop the 'Accession' column\n",
    "    merged_df.set_index('Gene Name', inplace=True)\n",
    "    merged_df.drop(columns=['Accession'], inplace=True)\n",
    "\n",
    "    # Remove rows with NaN as index\n",
    "    merged_df = merged_df[merged_df.index.notna()]\n",
    "    \n",
    "    return merged_df"
   ]
  },
  {
   "cell_type": "markdown",
   "id": "c80d82ed-59e8-483b-95ef-ecd63c47260e",
   "metadata": {},
   "source": [
    "## Read All Gene Presence Matrices"
   ]
  },
  {
   "cell_type": "code",
   "execution_count": 4,
   "id": "f689501a-7441-41b1-b8ba-a4455a83c120",
   "metadata": {
    "execution": {
     "iopub.execute_input": "2024-10-22T15:04:23.903829Z",
     "iopub.status.busy": "2024-10-22T15:04:23.903523Z",
     "iopub.status.idle": "2024-10-22T15:04:23.999293Z",
     "shell.execute_reply": "2024-10-22T15:04:23.998439Z",
     "shell.execute_reply.started": "2024-10-22T15:04:23.903799Z"
    }
   },
   "outputs": [],
   "source": [
    "Dictionary_Learning_Gene_Presence_Matrix = pd.read_csv(\"./Presence_Matrices/Dictionary_Learning_Gene_Presence_Matrix.csv\", index_col=0).astype(int)"
   ]
  },
  {
   "cell_type": "code",
   "execution_count": 5,
   "id": "a911eb9f-545d-4bc3-b60b-01bc1a614cc4",
   "metadata": {
    "execution": {
     "iopub.execute_input": "2024-10-22T15:04:24.244075Z",
     "iopub.status.busy": "2024-10-22T15:04:24.243926Z",
     "iopub.status.idle": "2024-10-22T15:04:24.326521Z",
     "shell.execute_reply": "2024-10-22T15:04:24.325681Z",
     "shell.execute_reply.started": "2024-10-22T15:04:24.244060Z"
    }
   },
   "outputs": [],
   "source": [
    "Factor_Analysis_Gene_Presence_Matrix = pd.read_csv(\"./Presence_Matrices/Factor_Analysis_Gene_Presence_Matrix.csv\", index_col=0).astype(int)"
   ]
  },
  {
   "cell_type": "code",
   "execution_count": 6,
   "id": "885ecdfc-0b0f-429c-a8df-176669c1428f",
   "metadata": {
    "execution": {
     "iopub.execute_input": "2024-10-22T15:04:24.475304Z",
     "iopub.status.busy": "2024-10-22T15:04:24.475153Z",
     "iopub.status.idle": "2024-10-22T15:04:24.564425Z",
     "shell.execute_reply": "2024-10-22T15:04:24.563632Z",
     "shell.execute_reply.started": "2024-10-22T15:04:24.475289Z"
    }
   },
   "outputs": [],
   "source": [
    "Fast_ICA_Gene_Presence_Matrix = pd.read_csv(\"./Presence_Matrices/Fast_ICA_Gene_Presence_Matrix.csv\", index_col=0).astype(int)"
   ]
  },
  {
   "cell_type": "code",
   "execution_count": 7,
   "id": "2719b08d-d7aa-46b3-afd2-c5cb014bd607",
   "metadata": {
    "execution": {
     "iopub.execute_input": "2024-10-22T15:04:24.703858Z",
     "iopub.status.busy": "2024-10-22T15:04:24.703723Z",
     "iopub.status.idle": "2024-10-22T15:04:24.770366Z",
     "shell.execute_reply": "2024-10-22T15:04:24.769551Z",
     "shell.execute_reply.started": "2024-10-22T15:04:24.703845Z"
    }
   },
   "outputs": [],
   "source": [
    "Incremental_PCA_Gene_Presence_Matrix = pd.read_csv(\"./Presence_Matrices/Incremental_PCA_Gene_Presence_Matrix.csv\", index_col=0).astype(int)"
   ]
  },
  {
   "cell_type": "code",
   "execution_count": 8,
   "id": "6a49efd1-ec9b-4e17-84b0-026ce10cbd4c",
   "metadata": {
    "execution": {
     "iopub.execute_input": "2024-10-22T15:04:24.896677Z",
     "iopub.status.busy": "2024-10-22T15:04:24.896376Z",
     "iopub.status.idle": "2024-10-22T15:04:24.976899Z",
     "shell.execute_reply": "2024-10-22T15:04:24.976101Z",
     "shell.execute_reply.started": "2024-10-22T15:04:24.896646Z"
    }
   },
   "outputs": [],
   "source": [
    "Independent_PCA_Gene_Presence_Matrix = pd.read_csv(\"./Presence_Matrices/Independent_PCA_Gene_Presence_Matrix.csv\", index_col=0).astype(int)"
   ]
  },
  {
   "cell_type": "code",
   "execution_count": 9,
   "id": "e53a81b8-6762-4cb9-9d3f-2bf82225bf18",
   "metadata": {
    "execution": {
     "iopub.execute_input": "2024-10-22T15:04:25.097351Z",
     "iopub.status.busy": "2024-10-22T15:04:25.097068Z",
     "iopub.status.idle": "2024-10-22T15:04:25.164839Z",
     "shell.execute_reply": "2024-10-22T15:04:25.164046Z",
     "shell.execute_reply.started": "2024-10-22T15:04:25.097337Z"
    }
   },
   "outputs": [],
   "source": [
    "InfoMax_ICA_Gene_Presence_Matrix = pd.read_csv(\"./Presence_Matrices/InfoMax_ICA_Gene_Presence_Matrix.csv\", index_col=0).astype(int)"
   ]
  },
  {
   "cell_type": "code",
   "execution_count": 10,
   "id": "28bf4a21-b71d-4a1b-ba79-87f6b287bd45",
   "metadata": {
    "execution": {
     "iopub.execute_input": "2024-10-22T15:04:25.279701Z",
     "iopub.status.busy": "2024-10-22T15:04:25.279420Z",
     "iopub.status.idle": "2024-10-22T15:04:25.349869Z",
     "shell.execute_reply": "2024-10-22T15:04:25.349071Z",
     "shell.execute_reply.started": "2024-10-22T15:04:25.279686Z"
    }
   },
   "outputs": [],
   "source": [
    "Picard_ICA_Gene_Presence_Matrix = pd.read_csv(\"./Presence_Matrices/Picard_ICA_Gene_Presence_Matrix.csv\", index_col=0).astype(int)"
   ]
  },
  {
   "cell_type": "code",
   "execution_count": 11,
   "id": "e4cb148f-2140-4f97-9a50-f5d90d325bce",
   "metadata": {
    "execution": {
     "iopub.execute_input": "2024-10-22T15:04:25.457372Z",
     "iopub.status.busy": "2024-10-22T15:04:25.457239Z",
     "iopub.status.idle": "2024-10-22T15:04:25.523419Z",
     "shell.execute_reply": "2024-10-22T15:04:25.522632Z",
     "shell.execute_reply.started": "2024-10-22T15:04:25.457359Z"
    }
   },
   "outputs": [],
   "source": [
    "NMF_Gene_Presence_Matrix = pd.read_csv(\"./Presence_Matrices/NMF_Gene_Presence_Matrix.csv\", index_col=0).astype(int)"
   ]
  },
  {
   "cell_type": "code",
   "execution_count": 12,
   "id": "cf0d3f4e-c119-457d-8ec9-c60f3445254f",
   "metadata": {
    "execution": {
     "iopub.execute_input": "2024-10-22T15:04:25.642570Z",
     "iopub.status.busy": "2024-10-22T15:04:25.642434Z",
     "iopub.status.idle": "2024-10-22T15:04:25.697853Z",
     "shell.execute_reply": "2024-10-22T15:04:25.697064Z",
     "shell.execute_reply.started": "2024-10-22T15:04:25.642557Z"
    }
   },
   "outputs": [],
   "source": [
    "PCA_Gene_Presence_Matrix = pd.read_csv(\"./Presence_Matrices/PCA_Gene_Presence_Matrix.csv\", index_col=0).astype(int)"
   ]
  },
  {
   "cell_type": "code",
   "execution_count": 13,
   "id": "63f9ab1f-8049-48a2-a279-430e35e14a3d",
   "metadata": {
    "execution": {
     "iopub.execute_input": "2024-10-22T15:04:25.822758Z",
     "iopub.status.busy": "2024-10-22T15:04:25.822450Z",
     "iopub.status.idle": "2024-10-22T15:04:25.879638Z",
     "shell.execute_reply": "2024-10-22T15:04:25.878821Z",
     "shell.execute_reply.started": "2024-10-22T15:04:25.822726Z"
    }
   },
   "outputs": [],
   "source": [
    "Sparse_ICA_Gene_Presence_Matrix = pd.read_csv(\"./Presence_Matrices/Sparse_ICA_Gene_Presence_Matrix.csv\", index_col=0).astype(int)"
   ]
  },
  {
   "cell_type": "code",
   "execution_count": 14,
   "id": "7326d7b9-9fd4-4106-9ca6-3f41bfc4b93c",
   "metadata": {
    "execution": {
     "iopub.execute_input": "2024-10-22T15:04:26.018143Z",
     "iopub.status.busy": "2024-10-22T15:04:26.017856Z",
     "iopub.status.idle": "2024-10-22T15:04:26.077094Z",
     "shell.execute_reply": "2024-10-22T15:04:26.076269Z",
     "shell.execute_reply.started": "2024-10-22T15:04:26.018127Z"
    }
   },
   "outputs": [],
   "source": [
    "Sparse_Independent_PCA_Gene_Presence_Matrix = pd.read_csv(\"./Presence_Matrices/Sparse_Independent_PCA_Gene_Presence_Matrix.csv\", index_col=0).astype(int)"
   ]
  },
  {
   "cell_type": "code",
   "execution_count": 15,
   "id": "5bf622fb-7854-4890-bde7-06fe5de44bba",
   "metadata": {
    "execution": {
     "iopub.execute_input": "2024-10-22T15:04:26.219765Z",
     "iopub.status.busy": "2024-10-22T15:04:26.219633Z",
     "iopub.status.idle": "2024-10-22T15:04:26.278471Z",
     "shell.execute_reply": "2024-10-22T15:04:26.277649Z",
     "shell.execute_reply.started": "2024-10-22T15:04:26.219752Z"
    }
   },
   "outputs": [],
   "source": [
    "SparseCoder_Gene_Presence_Matrix = pd.read_csv(\"./Presence_Matrices/SparseCoder_Gene_Presence_Matrix.csv\", index_col=0).astype(int)"
   ]
  },
  {
   "cell_type": "code",
   "execution_count": 16,
   "id": "853c1f32-7571-4441-80b8-6a5a21cf1b7f",
   "metadata": {
    "execution": {
     "iopub.execute_input": "2024-10-22T15:04:26.446147Z",
     "iopub.status.busy": "2024-10-22T15:04:26.446005Z",
     "iopub.status.idle": "2024-10-22T15:04:26.486223Z",
     "shell.execute_reply": "2024-10-22T15:04:26.485402Z",
     "shell.execute_reply.started": "2024-10-22T15:04:26.446133Z"
    }
   },
   "outputs": [],
   "source": [
    "Biclustering_Gene_Presence_Matrix = pd.read_csv(\"./Presence_Matrices/Biclustering_Presence_Matrix.csv\", index_col=0).astype(int)"
   ]
  },
  {
   "cell_type": "code",
   "execution_count": 17,
   "id": "51088284-82f4-48c7-91cf-0776fd2cbda9",
   "metadata": {
    "execution": {
     "iopub.execute_input": "2024-10-22T15:04:26.733768Z",
     "iopub.status.busy": "2024-10-22T15:04:26.733627Z",
     "iopub.status.idle": "2024-10-22T15:04:26.781940Z",
     "shell.execute_reply": "2024-10-22T15:04:26.781142Z",
     "shell.execute_reply.started": "2024-10-22T15:04:26.733752Z"
    }
   },
   "outputs": [],
   "source": [
    "Corr_Hierarchical_Presence_Matrix = pd.read_csv(\"./Presence_Matrices/Corr_Hierarchical_Presence_Matrix.csv\", index_col=0).astype(int)"
   ]
  },
  {
   "cell_type": "code",
   "execution_count": 18,
   "id": "24fddb42-4806-452a-919f-d5e9c9d2f2ab",
   "metadata": {
    "execution": {
     "iopub.execute_input": "2024-10-22T15:04:27.039907Z",
     "iopub.status.busy": "2024-10-22T15:04:27.039598Z",
     "iopub.status.idle": "2024-10-22T15:04:27.116522Z",
     "shell.execute_reply": "2024-10-22T15:04:27.115695Z",
     "shell.execute_reply.started": "2024-10-22T15:04:27.039875Z"
    }
   },
   "outputs": [],
   "source": [
    "GENIE3_Gene_Presence_Matrix = pd.read_csv(\"./Presence_Matrices/GENIE3_Gene_Presence_Matrix.csv\", index_col=0).astype(int)"
   ]
  },
  {
   "cell_type": "code",
   "execution_count": 149,
   "id": "7853921f-4d9f-42d6-b264-3db7cb8e403d",
   "metadata": {
    "execution": {
     "iopub.execute_input": "2024-11-28T23:30:39.256619Z",
     "iopub.status.busy": "2024-11-28T23:30:39.256234Z",
     "iopub.status.idle": "2024-11-28T23:30:39.319974Z",
     "shell.execute_reply": "2024-11-28T23:30:39.319429Z",
     "shell.execute_reply.started": "2024-11-28T23:30:39.256586Z"
    }
   },
   "outputs": [],
   "source": [
    "WGCNA_Gene_Presence_Matrix = pd.read_csv(\"./Presence_Matrices/WGCNA_Gene_Presence_Matrix.csv\", index_col=0).astype(int)"
   ]
  },
  {
   "cell_type": "code",
   "execution_count": 197,
   "id": "8e15c8bc-fb73-4ebd-96b7-bada19add039",
   "metadata": {
    "execution": {
     "iopub.execute_input": "2024-12-02T14:57:05.993162Z",
     "iopub.status.busy": "2024-12-02T14:57:05.992930Z",
     "iopub.status.idle": "2024-12-02T14:57:06.030670Z",
     "shell.execute_reply": "2024-12-02T14:57:06.030148Z",
     "shell.execute_reply.started": "2024-12-02T14:57:05.993147Z"
    }
   },
   "outputs": [],
   "source": [
    "FLAME_Gene_Presence_Matrix = pd.read_csv(\"./Presence_Matrices/FLAME_Gene_Presence_Matrix.csv\", index_col=0).astype(int)"
   ]
  },
  {
   "cell_type": "code",
   "execution_count": 198,
   "id": "df7ebefb-b144-4d93-8a6e-1bb38c616c46",
   "metadata": {
    "execution": {
     "iopub.execute_input": "2024-12-02T14:57:06.248509Z",
     "iopub.status.busy": "2024-12-02T14:57:06.248357Z",
     "iopub.status.idle": "2024-12-02T14:57:06.301573Z",
     "shell.execute_reply": "2024-12-02T14:57:06.301041Z",
     "shell.execute_reply.started": "2024-12-02T14:57:06.248494Z"
    }
   },
   "outputs": [],
   "source": [
    "QUBIC_Gene_Presence_Matrix = pd.read_csv(\"./Presence_Matrices/QUBIC_Gene_Presence_Matrix.csv\", index_col=0).astype(int)"
   ]
  },
  {
   "cell_type": "code",
   "execution_count": 199,
   "id": "ad8d1b0c-484a-43f5-aa36-e9618193dffc",
   "metadata": {
    "execution": {
     "iopub.execute_input": "2024-12-02T14:57:06.592773Z",
     "iopub.status.busy": "2024-12-02T14:57:06.592448Z",
     "iopub.status.idle": "2024-12-02T14:57:06.662197Z",
     "shell.execute_reply": "2024-12-02T14:57:06.661652Z",
     "shell.execute_reply.started": "2024-12-02T14:57:06.592741Z"
    }
   },
   "outputs": [],
   "source": [
    "ISA_Gene_Presence_Matrix = pd.read_csv(\"./Presence_Matrices/ISA_Gene_Presence_Matrix.csv\", index_col=0).astype(int)"
   ]
  },
  {
   "cell_type": "code",
   "execution_count": 19,
   "id": "fa9a404c-71c5-4e16-b047-bea43859add5",
   "metadata": {
    "execution": {
     "iopub.execute_input": "2024-10-22T15:04:27.265603Z",
     "iopub.status.busy": "2024-10-22T15:04:27.265463Z",
     "iopub.status.idle": "2024-10-22T15:04:27.306381Z",
     "shell.execute_reply": "2024-10-22T15:04:27.305596Z",
     "shell.execute_reply.started": "2024-10-22T15:04:27.265589Z"
    }
   },
   "outputs": [],
   "source": [
    "RegulonDB_Gene_Presence_Matrix = pd.read_csv(\"../Data/RegulonDB_TRN_C_and_S.csv\", index_col=0).astype(int)"
   ]
  },
  {
   "cell_type": "markdown",
   "id": "621460a0-410a-4640-b7d3-34991f6a0ecd",
   "metadata": {},
   "source": [
    "## Map to gene name"
   ]
  },
  {
   "cell_type": "code",
   "execution_count": 20,
   "id": "f4246ebe-01ab-46fa-99e7-92ede80acd67",
   "metadata": {
    "execution": {
     "iopub.execute_input": "2024-10-22T15:04:27.703512Z",
     "iopub.status.busy": "2024-10-22T15:04:27.703354Z",
     "iopub.status.idle": "2024-10-22T15:04:27.718742Z",
     "shell.execute_reply": "2024-10-22T15:04:27.717757Z",
     "shell.execute_reply.started": "2024-10-22T15:04:27.703497Z"
    }
   },
   "outputs": [
    {
     "name": "stdout",
     "output_type": "stream",
     "text": [
      "Original indices removed due to NaN 'Gene Name': []\n"
     ]
    }
   ],
   "source": [
    "Dictionary_Learning_Gene_Presence_Matrix = map_accession_to_gene_name(Dictionary_Learning_Gene_Presence_Matrix, biocyc_info)"
   ]
  },
  {
   "cell_type": "code",
   "execution_count": 21,
   "id": "9ed9ed51-d30d-437b-b85c-9f7b3d3adc85",
   "metadata": {
    "execution": {
     "iopub.execute_input": "2024-10-22T15:04:27.885326Z",
     "iopub.status.busy": "2024-10-22T15:04:27.885064Z",
     "iopub.status.idle": "2024-10-22T15:04:27.902645Z",
     "shell.execute_reply": "2024-10-22T15:04:27.901729Z",
     "shell.execute_reply.started": "2024-10-22T15:04:27.885301Z"
    }
   },
   "outputs": [
    {
     "name": "stdout",
     "output_type": "stream",
     "text": [
      "Original indices removed due to NaN 'Gene Name': []\n"
     ]
    }
   ],
   "source": [
    "Factor_Analysis_Gene_Presence_Matrix = map_accession_to_gene_name(Factor_Analysis_Gene_Presence_Matrix, biocyc_info)"
   ]
  },
  {
   "cell_type": "code",
   "execution_count": 22,
   "id": "bf00baab-7f33-4bc8-9565-2cf9b99cd93a",
   "metadata": {
    "execution": {
     "iopub.execute_input": "2024-10-22T15:04:28.079242Z",
     "iopub.status.busy": "2024-10-22T15:04:28.078930Z",
     "iopub.status.idle": "2024-10-22T15:04:28.090601Z",
     "shell.execute_reply": "2024-10-22T15:04:28.089850Z",
     "shell.execute_reply.started": "2024-10-22T15:04:28.079227Z"
    }
   },
   "outputs": [
    {
     "name": "stdout",
     "output_type": "stream",
     "text": [
      "Original indices removed due to NaN 'Gene Name': []\n"
     ]
    }
   ],
   "source": [
    "Fast_ICA_Gene_Presence_Matrix = map_accession_to_gene_name(Fast_ICA_Gene_Presence_Matrix, biocyc_info)"
   ]
  },
  {
   "cell_type": "code",
   "execution_count": 23,
   "id": "308c49f2-f2c5-4665-8dab-028cf07d1b0f",
   "metadata": {
    "execution": {
     "iopub.execute_input": "2024-10-22T15:04:28.271640Z",
     "iopub.status.busy": "2024-10-22T15:04:28.271490Z",
     "iopub.status.idle": "2024-10-22T15:04:28.283184Z",
     "shell.execute_reply": "2024-10-22T15:04:28.282569Z",
     "shell.execute_reply.started": "2024-10-22T15:04:28.271627Z"
    }
   },
   "outputs": [
    {
     "name": "stdout",
     "output_type": "stream",
     "text": [
      "Original indices removed due to NaN 'Gene Name': []\n"
     ]
    }
   ],
   "source": [
    "Incremental_PCA_Gene_Presence_Matrix = map_accession_to_gene_name(Incremental_PCA_Gene_Presence_Matrix, biocyc_info)"
   ]
  },
  {
   "cell_type": "code",
   "execution_count": 24,
   "id": "5fcdac8b-06a2-4abe-a41e-6ac45b38bbd8",
   "metadata": {
    "execution": {
     "iopub.execute_input": "2024-10-22T15:04:28.475997Z",
     "iopub.status.busy": "2024-10-22T15:04:28.475803Z",
     "iopub.status.idle": "2024-10-22T15:04:28.487157Z",
     "shell.execute_reply": "2024-10-22T15:04:28.486546Z",
     "shell.execute_reply.started": "2024-10-22T15:04:28.475984Z"
    }
   },
   "outputs": [
    {
     "name": "stdout",
     "output_type": "stream",
     "text": [
      "Original indices removed due to NaN 'Gene Name': []\n"
     ]
    }
   ],
   "source": [
    "Independent_PCA_Gene_Presence_Matrix = map_accession_to_gene_name(Independent_PCA_Gene_Presence_Matrix, biocyc_info)"
   ]
  },
  {
   "cell_type": "code",
   "execution_count": 25,
   "id": "8cf1118d-a8aa-471a-8f35-a59d5506bc98",
   "metadata": {
    "execution": {
     "iopub.execute_input": "2024-10-22T15:04:28.669783Z",
     "iopub.status.busy": "2024-10-22T15:04:28.669482Z",
     "iopub.status.idle": "2024-10-22T15:04:28.690453Z",
     "shell.execute_reply": "2024-10-22T15:04:28.689565Z",
     "shell.execute_reply.started": "2024-10-22T15:04:28.669753Z"
    }
   },
   "outputs": [
    {
     "name": "stdout",
     "output_type": "stream",
     "text": [
      "Original indices removed due to NaN 'Gene Name': []\n"
     ]
    }
   ],
   "source": [
    "InfoMax_ICA_Gene_Presence_Matrix = map_accession_to_gene_name(InfoMax_ICA_Gene_Presence_Matrix, biocyc_info)"
   ]
  },
  {
   "cell_type": "code",
   "execution_count": 26,
   "id": "e7528338-51ae-4459-9112-6f8bf55d7182",
   "metadata": {
    "execution": {
     "iopub.execute_input": "2024-10-22T15:04:28.885910Z",
     "iopub.status.busy": "2024-10-22T15:04:28.885606Z",
     "iopub.status.idle": "2024-10-22T15:04:28.906440Z",
     "shell.execute_reply": "2024-10-22T15:04:28.905579Z",
     "shell.execute_reply.started": "2024-10-22T15:04:28.885879Z"
    }
   },
   "outputs": [
    {
     "name": "stdout",
     "output_type": "stream",
     "text": [
      "Original indices removed due to NaN 'Gene Name': []\n"
     ]
    }
   ],
   "source": [
    "Picard_ICA_Gene_Presence_Matrix = map_accession_to_gene_name(Picard_ICA_Gene_Presence_Matrix, biocyc_info)"
   ]
  },
  {
   "cell_type": "code",
   "execution_count": 27,
   "id": "020584ad-b8b6-482f-b8a4-00952218991d",
   "metadata": {
    "execution": {
     "iopub.execute_input": "2024-10-22T15:04:29.110185Z",
     "iopub.status.busy": "2024-10-22T15:04:29.109866Z",
     "iopub.status.idle": "2024-10-22T15:04:29.129919Z",
     "shell.execute_reply": "2024-10-22T15:04:29.129067Z",
     "shell.execute_reply.started": "2024-10-22T15:04:29.110153Z"
    }
   },
   "outputs": [
    {
     "name": "stdout",
     "output_type": "stream",
     "text": [
      "Original indices removed due to NaN 'Gene Name': []\n"
     ]
    }
   ],
   "source": [
    "NMF_Gene_Presence_Matrix = map_accession_to_gene_name(NMF_Gene_Presence_Matrix, biocyc_info)"
   ]
  },
  {
   "cell_type": "code",
   "execution_count": 28,
   "id": "0965fed8-0d01-406a-ab16-e0bfc182fe0a",
   "metadata": {
    "execution": {
     "iopub.execute_input": "2024-10-22T15:04:29.308213Z",
     "iopub.status.busy": "2024-10-22T15:04:29.307912Z",
     "iopub.status.idle": "2024-10-22T15:04:29.326432Z",
     "shell.execute_reply": "2024-10-22T15:04:29.325532Z",
     "shell.execute_reply.started": "2024-10-22T15:04:29.308182Z"
    }
   },
   "outputs": [
    {
     "name": "stdout",
     "output_type": "stream",
     "text": [
      "Original indices removed due to NaN 'Gene Name': []\n"
     ]
    }
   ],
   "source": [
    "PCA_Gene_Presence_Matrix = map_accession_to_gene_name(PCA_Gene_Presence_Matrix, biocyc_info)"
   ]
  },
  {
   "cell_type": "code",
   "execution_count": 29,
   "id": "76c6e817-4bcf-4c8f-9518-fdbf92aa6c56",
   "metadata": {
    "execution": {
     "iopub.execute_input": "2024-10-22T15:04:29.533604Z",
     "iopub.status.busy": "2024-10-22T15:04:29.533303Z",
     "iopub.status.idle": "2024-10-22T15:04:29.554096Z",
     "shell.execute_reply": "2024-10-22T15:04:29.553208Z",
     "shell.execute_reply.started": "2024-10-22T15:04:29.533573Z"
    }
   },
   "outputs": [
    {
     "name": "stdout",
     "output_type": "stream",
     "text": [
      "Original indices removed due to NaN 'Gene Name': []\n"
     ]
    }
   ],
   "source": [
    "Sparse_ICA_Gene_Presence_Matrix = map_accession_to_gene_name(Sparse_ICA_Gene_Presence_Matrix, biocyc_info)"
   ]
  },
  {
   "cell_type": "code",
   "execution_count": 30,
   "id": "2e676f28-3b8d-4b6b-a34a-e8f502c36a6e",
   "metadata": {
    "execution": {
     "iopub.execute_input": "2024-10-22T15:04:29.727279Z",
     "iopub.status.busy": "2024-10-22T15:04:29.726980Z",
     "iopub.status.idle": "2024-10-22T15:04:29.747885Z",
     "shell.execute_reply": "2024-10-22T15:04:29.746992Z",
     "shell.execute_reply.started": "2024-10-22T15:04:29.727249Z"
    }
   },
   "outputs": [
    {
     "name": "stdout",
     "output_type": "stream",
     "text": [
      "Original indices removed due to NaN 'Gene Name': []\n"
     ]
    }
   ],
   "source": [
    "Sparse_Independent_PCA_Gene_Presence_Matrix = map_accession_to_gene_name(Sparse_Independent_PCA_Gene_Presence_Matrix, biocyc_info)"
   ]
  },
  {
   "cell_type": "code",
   "execution_count": 31,
   "id": "2d138253-e9c7-44fd-817e-adb61390bd23",
   "metadata": {
    "execution": {
     "iopub.execute_input": "2024-10-22T15:04:29.948172Z",
     "iopub.status.busy": "2024-10-22T15:04:29.947869Z",
     "iopub.status.idle": "2024-10-22T15:04:29.968773Z",
     "shell.execute_reply": "2024-10-22T15:04:29.967924Z",
     "shell.execute_reply.started": "2024-10-22T15:04:29.948141Z"
    }
   },
   "outputs": [
    {
     "name": "stdout",
     "output_type": "stream",
     "text": [
      "Original indices removed due to NaN 'Gene Name': []\n"
     ]
    }
   ],
   "source": [
    "SparseCoder_Gene_Presence_Matrix = map_accession_to_gene_name(SparseCoder_Gene_Presence_Matrix, biocyc_info)"
   ]
  },
  {
   "cell_type": "code",
   "execution_count": 32,
   "id": "93551c42-5772-45da-966f-c4a4d7399044",
   "metadata": {
    "execution": {
     "iopub.execute_input": "2024-10-22T15:04:30.154262Z",
     "iopub.status.busy": "2024-10-22T15:04:30.154130Z",
     "iopub.status.idle": "2024-10-22T15:04:30.165632Z",
     "shell.execute_reply": "2024-10-22T15:04:30.164921Z",
     "shell.execute_reply.started": "2024-10-22T15:04:30.154248Z"
    }
   },
   "outputs": [
    {
     "name": "stdout",
     "output_type": "stream",
     "text": [
      "Original indices removed due to NaN 'Gene Name': []\n"
     ]
    }
   ],
   "source": [
    "Biclustering_Gene_Presence_Matrix = map_accession_to_gene_name(Biclustering_Gene_Presence_Matrix, biocyc_info)"
   ]
  },
  {
   "cell_type": "code",
   "execution_count": 33,
   "id": "33bce248-1bdc-4a81-8e6e-3e5a8fb0a386",
   "metadata": {
    "execution": {
     "iopub.execute_input": "2024-10-22T15:04:30.367538Z",
     "iopub.status.busy": "2024-10-22T15:04:30.367246Z",
     "iopub.status.idle": "2024-10-22T15:04:30.378520Z",
     "shell.execute_reply": "2024-10-22T15:04:30.377877Z",
     "shell.execute_reply.started": "2024-10-22T15:04:30.367519Z"
    }
   },
   "outputs": [
    {
     "name": "stdout",
     "output_type": "stream",
     "text": [
      "Original indices removed due to NaN 'Gene Name': []\n"
     ]
    }
   ],
   "source": [
    "Corr_Hierarchical_Presence_Matrix = map_accession_to_gene_name(Corr_Hierarchical_Presence_Matrix, biocyc_info)"
   ]
  },
  {
   "cell_type": "code",
   "execution_count": 34,
   "id": "f821b1dd-55bb-4226-896a-cbe171e3c372",
   "metadata": {
    "execution": {
     "iopub.execute_input": "2024-10-22T15:04:30.640989Z",
     "iopub.status.busy": "2024-10-22T15:04:30.640684Z",
     "iopub.status.idle": "2024-10-22T15:04:30.658800Z",
     "shell.execute_reply": "2024-10-22T15:04:30.657929Z",
     "shell.execute_reply.started": "2024-10-22T15:04:30.640958Z"
    }
   },
   "outputs": [
    {
     "name": "stdout",
     "output_type": "stream",
     "text": [
      "Original indices removed due to NaN 'Gene Name': []\n"
     ]
    }
   ],
   "source": [
    "GENIE3_Gene_Presence_Matrix = map_accession_to_gene_name(GENIE3_Gene_Presence_Matrix, biocyc_info)"
   ]
  },
  {
   "cell_type": "code",
   "execution_count": 150,
   "id": "72316d17-e829-4d7b-a5a9-63fc316e4f89",
   "metadata": {
    "execution": {
     "iopub.execute_input": "2024-11-28T23:30:54.401020Z",
     "iopub.status.busy": "2024-11-28T23:30:54.400810Z",
     "iopub.status.idle": "2024-11-28T23:30:54.421172Z",
     "shell.execute_reply": "2024-11-28T23:30:54.420364Z",
     "shell.execute_reply.started": "2024-11-28T23:30:54.401004Z"
    }
   },
   "outputs": [
    {
     "name": "stdout",
     "output_type": "stream",
     "text": [
      "Original indices removed due to NaN 'Gene Name': []\n"
     ]
    }
   ],
   "source": [
    "WGCNA_Gene_Presence_Matrix = map_accession_to_gene_name(WGCNA_Gene_Presence_Matrix, biocyc_info)"
   ]
  },
  {
   "cell_type": "code",
   "execution_count": 200,
   "id": "5b000d08-cedd-46d9-9e5a-27f4ce70ee92",
   "metadata": {
    "execution": {
     "iopub.execute_input": "2024-12-02T14:57:14.603676Z",
     "iopub.status.busy": "2024-12-02T14:57:14.603373Z",
     "iopub.status.idle": "2024-12-02T14:57:14.616617Z",
     "shell.execute_reply": "2024-12-02T14:57:14.616119Z",
     "shell.execute_reply.started": "2024-12-02T14:57:14.603660Z"
    }
   },
   "outputs": [
    {
     "name": "stdout",
     "output_type": "stream",
     "text": [
      "Original indices removed due to NaN 'Gene Name': []\n"
     ]
    }
   ],
   "source": [
    "FLAME_Gene_Presence_Matrix = map_accession_to_gene_name(FLAME_Gene_Presence_Matrix, biocyc_info)"
   ]
  },
  {
   "cell_type": "code",
   "execution_count": 201,
   "id": "70fd7b76-3b47-4ad0-b843-c2d7311e3e0d",
   "metadata": {
    "execution": {
     "iopub.execute_input": "2024-12-02T14:57:30.141652Z",
     "iopub.status.busy": "2024-12-02T14:57:30.141293Z",
     "iopub.status.idle": "2024-12-02T14:57:30.155090Z",
     "shell.execute_reply": "2024-12-02T14:57:30.154662Z",
     "shell.execute_reply.started": "2024-12-02T14:57:30.141631Z"
    }
   },
   "outputs": [
    {
     "name": "stdout",
     "output_type": "stream",
     "text": [
      "Original indices removed due to NaN 'Gene Name': []\n"
     ]
    }
   ],
   "source": [
    "QUBIC_Gene_Presence_Matrix = map_accession_to_gene_name(QUBIC_Gene_Presence_Matrix, biocyc_info)"
   ]
  },
  {
   "cell_type": "code",
   "execution_count": 202,
   "id": "42654a4d-c058-4b92-9d3b-49328c51a34a",
   "metadata": {
    "execution": {
     "iopub.execute_input": "2024-12-02T14:57:30.376692Z",
     "iopub.status.busy": "2024-12-02T14:57:30.376380Z",
     "iopub.status.idle": "2024-12-02T14:57:30.385985Z",
     "shell.execute_reply": "2024-12-02T14:57:30.385559Z",
     "shell.execute_reply.started": "2024-12-02T14:57:30.376661Z"
    }
   },
   "outputs": [
    {
     "name": "stdout",
     "output_type": "stream",
     "text": [
      "Original indices removed due to NaN 'Gene Name': []\n"
     ]
    }
   ],
   "source": [
    "ISA_Gene_Presence_Matrix = map_accession_to_gene_name(ISA_Gene_Presence_Matrix, biocyc_info)"
   ]
  },
  {
   "cell_type": "code",
   "execution_count": 203,
   "id": "6d69a24e-efec-4d0c-b77f-466eed82cdd8",
   "metadata": {
    "execution": {
     "iopub.execute_input": "2024-12-02T14:57:57.223070Z",
     "iopub.status.busy": "2024-12-02T14:57:57.222765Z",
     "iopub.status.idle": "2024-12-02T14:57:57.226886Z",
     "shell.execute_reply": "2024-12-02T14:57:57.226487Z",
     "shell.execute_reply.started": "2024-12-02T14:57:57.223051Z"
    }
   },
   "outputs": [],
   "source": [
    "FLAME_Gene_Presence_Matrix = FLAME_Gene_Presence_Matrix.loc[\n",
    "    FLAME_Gene_Presence_Matrix.index.isin(RegulonDB_Gene_Presence_Matrix.index)\n",
    "]"
   ]
  },
  {
   "cell_type": "code",
   "execution_count": 204,
   "id": "82db99dc-42cf-4171-833c-adc5d059aece",
   "metadata": {
    "execution": {
     "iopub.execute_input": "2024-12-02T14:57:57.425346Z",
     "iopub.status.busy": "2024-12-02T14:57:57.425038Z",
     "iopub.status.idle": "2024-12-02T14:57:57.429742Z",
     "shell.execute_reply": "2024-12-02T14:57:57.429124Z",
     "shell.execute_reply.started": "2024-12-02T14:57:57.425315Z"
    }
   },
   "outputs": [],
   "source": [
    "QUBIC_Gene_Presence_Matrix = QUBIC_Gene_Presence_Matrix.loc[\n",
    "    QUBIC_Gene_Presence_Matrix.index.isin(RegulonDB_Gene_Presence_Matrix.index)\n",
    "]"
   ]
  },
  {
   "cell_type": "code",
   "execution_count": 205,
   "id": "c30b6b98-c37a-4caf-8288-44f51e530ccf",
   "metadata": {
    "execution": {
     "iopub.execute_input": "2024-12-02T14:57:57.732696Z",
     "iopub.status.busy": "2024-12-02T14:57:57.732385Z",
     "iopub.status.idle": "2024-12-02T14:57:57.736233Z",
     "shell.execute_reply": "2024-12-02T14:57:57.735866Z",
     "shell.execute_reply.started": "2024-12-02T14:57:57.732665Z"
    }
   },
   "outputs": [],
   "source": [
    "ISA_Gene_Presence_Matrix = ISA_Gene_Presence_Matrix.loc[\n",
    "    ISA_Gene_Presence_Matrix.index.isin(RegulonDB_Gene_Presence_Matrix.index)\n",
    "]"
   ]
  },
  {
   "cell_type": "code",
   "execution_count": 35,
   "id": "b15f6385-26ce-4851-9215-25db12a08499",
   "metadata": {
    "execution": {
     "iopub.execute_input": "2024-10-22T15:04:30.951007Z",
     "iopub.status.busy": "2024-10-22T15:04:30.950704Z",
     "iopub.status.idle": "2024-10-22T15:04:30.957811Z",
     "shell.execute_reply": "2024-10-22T15:04:30.956978Z",
     "shell.execute_reply.started": "2024-10-22T15:04:30.950977Z"
    }
   },
   "outputs": [],
   "source": [
    "Dictionary_Learning_Gene_Presence_Matrix = Dictionary_Learning_Gene_Presence_Matrix.loc[\n",
    "    Dictionary_Learning_Gene_Presence_Matrix.index.isin(RegulonDB_Gene_Presence_Matrix.index)\n",
    "]"
   ]
  },
  {
   "cell_type": "code",
   "execution_count": 36,
   "id": "77c9bd84-ae6f-4d0b-a402-fb003e5ef2fa",
   "metadata": {
    "execution": {
     "iopub.execute_input": "2024-10-22T15:04:31.310226Z",
     "iopub.status.busy": "2024-10-22T15:04:31.309896Z",
     "iopub.status.idle": "2024-10-22T15:04:31.314960Z",
     "shell.execute_reply": "2024-10-22T15:04:31.314276Z",
     "shell.execute_reply.started": "2024-10-22T15:04:31.310193Z"
    }
   },
   "outputs": [],
   "source": [
    "Factor_Analysis_Gene_Presence_Matrix = Factor_Analysis_Gene_Presence_Matrix.loc[\n",
    "    Factor_Analysis_Gene_Presence_Matrix.index.isin(RegulonDB_Gene_Presence_Matrix.index)\n",
    "]"
   ]
  },
  {
   "cell_type": "code",
   "execution_count": 37,
   "id": "c2d365bb-7282-4c3c-893b-494094937d58",
   "metadata": {
    "execution": {
     "iopub.execute_input": "2024-10-22T15:04:31.546972Z",
     "iopub.status.busy": "2024-10-22T15:04:31.546837Z",
     "iopub.status.idle": "2024-10-22T15:04:31.551024Z",
     "shell.execute_reply": "2024-10-22T15:04:31.550433Z",
     "shell.execute_reply.started": "2024-10-22T15:04:31.546959Z"
    }
   },
   "outputs": [],
   "source": [
    "Fast_ICA_Gene_Presence_Matrix = Fast_ICA_Gene_Presence_Matrix.loc[\n",
    "    Fast_ICA_Gene_Presence_Matrix.index.isin(RegulonDB_Gene_Presence_Matrix.index)\n",
    "]"
   ]
  },
  {
   "cell_type": "code",
   "execution_count": 38,
   "id": "587b3b97-b2bd-4637-9e7c-d6302ea658fd",
   "metadata": {
    "execution": {
     "iopub.execute_input": "2024-10-22T15:04:31.749414Z",
     "iopub.status.busy": "2024-10-22T15:04:31.749291Z",
     "iopub.status.idle": "2024-10-22T15:04:31.753946Z",
     "shell.execute_reply": "2024-10-22T15:04:31.753215Z",
     "shell.execute_reply.started": "2024-10-22T15:04:31.749402Z"
    }
   },
   "outputs": [],
   "source": [
    "Incremental_PCA_Gene_Presence_Matrix = Incremental_PCA_Gene_Presence_Matrix.loc[\n",
    "    Incremental_PCA_Gene_Presence_Matrix.index.isin(RegulonDB_Gene_Presence_Matrix.index)\n",
    "]"
   ]
  },
  {
   "cell_type": "code",
   "execution_count": 39,
   "id": "bc51ff76-324c-4199-90e9-5697aab60cae",
   "metadata": {
    "execution": {
     "iopub.execute_input": "2024-10-22T15:04:32.181187Z",
     "iopub.status.busy": "2024-10-22T15:04:32.181057Z",
     "iopub.status.idle": "2024-10-22T15:04:32.185494Z",
     "shell.execute_reply": "2024-10-22T15:04:32.184776Z",
     "shell.execute_reply.started": "2024-10-22T15:04:32.181175Z"
    }
   },
   "outputs": [],
   "source": [
    "Independent_PCA_Gene_Presence_Matrix = Independent_PCA_Gene_Presence_Matrix.loc[\n",
    "    Independent_PCA_Gene_Presence_Matrix.index.isin(RegulonDB_Gene_Presence_Matrix.index)\n",
    "]"
   ]
  },
  {
   "cell_type": "code",
   "execution_count": 40,
   "id": "659b13f4-b1d2-46da-b6cf-c2cbc6775301",
   "metadata": {
    "execution": {
     "iopub.execute_input": "2024-10-22T15:04:32.403387Z",
     "iopub.status.busy": "2024-10-22T15:04:32.403085Z",
     "iopub.status.idle": "2024-10-22T15:04:32.408879Z",
     "shell.execute_reply": "2024-10-22T15:04:32.408229Z",
     "shell.execute_reply.started": "2024-10-22T15:04:32.403357Z"
    }
   },
   "outputs": [],
   "source": [
    "InfoMax_ICA_Gene_Presence_Matrix = InfoMax_ICA_Gene_Presence_Matrix.loc[\n",
    "    InfoMax_ICA_Gene_Presence_Matrix.index.isin(RegulonDB_Gene_Presence_Matrix.index)\n",
    "]"
   ]
  },
  {
   "cell_type": "code",
   "execution_count": 41,
   "id": "1f4face7-2c2c-4763-abfe-ad93bbacf03a",
   "metadata": {
    "execution": {
     "iopub.execute_input": "2024-10-22T15:04:32.614460Z",
     "iopub.status.busy": "2024-10-22T15:04:32.614159Z",
     "iopub.status.idle": "2024-10-22T15:04:32.620943Z",
     "shell.execute_reply": "2024-10-22T15:04:32.620041Z",
     "shell.execute_reply.started": "2024-10-22T15:04:32.614431Z"
    }
   },
   "outputs": [],
   "source": [
    "Picard_ICA_Gene_Presence_Matrix = Picard_ICA_Gene_Presence_Matrix.loc[\n",
    "    Picard_ICA_Gene_Presence_Matrix.index.isin(RegulonDB_Gene_Presence_Matrix.index)\n",
    "]"
   ]
  },
  {
   "cell_type": "code",
   "execution_count": 42,
   "id": "07553786-0208-41ff-a88b-2728cc90d400",
   "metadata": {
    "execution": {
     "iopub.execute_input": "2024-10-22T15:04:32.825287Z",
     "iopub.status.busy": "2024-10-22T15:04:32.824987Z",
     "iopub.status.idle": "2024-10-22T15:04:32.831650Z",
     "shell.execute_reply": "2024-10-22T15:04:32.830771Z",
     "shell.execute_reply.started": "2024-10-22T15:04:32.825256Z"
    }
   },
   "outputs": [],
   "source": [
    "NMF_Gene_Presence_Matrix = NMF_Gene_Presence_Matrix.loc[\n",
    "    NMF_Gene_Presence_Matrix.index.isin(RegulonDB_Gene_Presence_Matrix.index)\n",
    "]"
   ]
  },
  {
   "cell_type": "code",
   "execution_count": 43,
   "id": "a06ac970-c835-4bcd-a5a0-acc2ceaed436",
   "metadata": {
    "execution": {
     "iopub.execute_input": "2024-10-22T15:04:33.037828Z",
     "iopub.status.busy": "2024-10-22T15:04:33.037695Z",
     "iopub.status.idle": "2024-10-22T15:04:33.042108Z",
     "shell.execute_reply": "2024-10-22T15:04:33.041466Z",
     "shell.execute_reply.started": "2024-10-22T15:04:33.037816Z"
    }
   },
   "outputs": [],
   "source": [
    "PCA_Gene_Presence_Matrix = PCA_Gene_Presence_Matrix.loc[\n",
    "    PCA_Gene_Presence_Matrix.index.isin(RegulonDB_Gene_Presence_Matrix.index)\n",
    "]"
   ]
  },
  {
   "cell_type": "code",
   "execution_count": 44,
   "id": "5179d6ed-abde-4832-be08-14d982e013ce",
   "metadata": {
    "execution": {
     "iopub.execute_input": "2024-10-22T15:04:33.226835Z",
     "iopub.status.busy": "2024-10-22T15:04:33.226535Z",
     "iopub.status.idle": "2024-10-22T15:04:33.231360Z",
     "shell.execute_reply": "2024-10-22T15:04:33.230502Z",
     "shell.execute_reply.started": "2024-10-22T15:04:33.226805Z"
    }
   },
   "outputs": [],
   "source": [
    "Sparse_ICA_Gene_Presence_Matrix = Sparse_ICA_Gene_Presence_Matrix.loc[\n",
    "    Sparse_ICA_Gene_Presence_Matrix.index.isin(RegulonDB_Gene_Presence_Matrix.index)\n",
    "]"
   ]
  },
  {
   "cell_type": "code",
   "execution_count": 45,
   "id": "d2dffff0-2400-43bf-8f3a-2cf5e65ebedc",
   "metadata": {
    "execution": {
     "iopub.execute_input": "2024-10-22T15:04:33.464369Z",
     "iopub.status.busy": "2024-10-22T15:04:33.464068Z",
     "iopub.status.idle": "2024-10-22T15:04:33.468808Z",
     "shell.execute_reply": "2024-10-22T15:04:33.467961Z",
     "shell.execute_reply.started": "2024-10-22T15:04:33.464339Z"
    }
   },
   "outputs": [],
   "source": [
    "Sparse_Independent_PCA_Gene_Presence_Matrix = Sparse_Independent_PCA_Gene_Presence_Matrix.loc[\n",
    "    Sparse_Independent_PCA_Gene_Presence_Matrix.index.isin(RegulonDB_Gene_Presence_Matrix.index)\n",
    "]"
   ]
  },
  {
   "cell_type": "code",
   "execution_count": 46,
   "id": "ae0158e4-35f4-448b-a52f-61e5e0624636",
   "metadata": {
    "execution": {
     "iopub.execute_input": "2024-10-22T15:04:33.685957Z",
     "iopub.status.busy": "2024-10-22T15:04:33.685655Z",
     "iopub.status.idle": "2024-10-22T15:04:33.690216Z",
     "shell.execute_reply": "2024-10-22T15:04:33.689604Z",
     "shell.execute_reply.started": "2024-10-22T15:04:33.685926Z"
    }
   },
   "outputs": [],
   "source": [
    "SparseCoder_Gene_Presence_Matrix = SparseCoder_Gene_Presence_Matrix.loc[\n",
    "    SparseCoder_Gene_Presence_Matrix.index.isin(RegulonDB_Gene_Presence_Matrix.index)\n",
    "]"
   ]
  },
  {
   "cell_type": "code",
   "execution_count": 47,
   "id": "cf9bdf3c-a08e-475b-9d77-4527a6ca86c0",
   "metadata": {
    "execution": {
     "iopub.execute_input": "2024-10-22T15:04:33.878281Z",
     "iopub.status.busy": "2024-10-22T15:04:33.877969Z",
     "iopub.status.idle": "2024-10-22T15:04:33.882699Z",
     "shell.execute_reply": "2024-10-22T15:04:33.881915Z",
     "shell.execute_reply.started": "2024-10-22T15:04:33.878254Z"
    }
   },
   "outputs": [],
   "source": [
    "Biclustering_Gene_Presence_Matrix = Biclustering_Gene_Presence_Matrix.loc[\n",
    "    Biclustering_Gene_Presence_Matrix.index.isin(RegulonDB_Gene_Presence_Matrix.index)\n",
    "]"
   ]
  },
  {
   "cell_type": "code",
   "execution_count": 48,
   "id": "acd56acf-87ae-469d-9a93-66fd421a9096",
   "metadata": {
    "execution": {
     "iopub.execute_input": "2024-10-22T15:04:34.079843Z",
     "iopub.status.busy": "2024-10-22T15:04:34.079703Z",
     "iopub.status.idle": "2024-10-22T15:04:34.086496Z",
     "shell.execute_reply": "2024-10-22T15:04:34.085622Z",
     "shell.execute_reply.started": "2024-10-22T15:04:34.079830Z"
    }
   },
   "outputs": [],
   "source": [
    "Corr_Hierarchical_Presence_Matrix = Corr_Hierarchical_Presence_Matrix.loc[\n",
    "    Corr_Hierarchical_Presence_Matrix.index.isin(RegulonDB_Gene_Presence_Matrix.index)\n",
    "]"
   ]
  },
  {
   "cell_type": "code",
   "execution_count": 49,
   "id": "420ae270-33f2-477d-b849-5a7062f034d6",
   "metadata": {
    "execution": {
     "iopub.execute_input": "2024-10-22T15:04:34.285378Z",
     "iopub.status.busy": "2024-10-22T15:04:34.285252Z",
     "iopub.status.idle": "2024-10-22T15:04:34.291188Z",
     "shell.execute_reply": "2024-10-22T15:04:34.290260Z",
     "shell.execute_reply.started": "2024-10-22T15:04:34.285366Z"
    }
   },
   "outputs": [],
   "source": [
    "GENIE3_Gene_Presence_Matrix = GENIE3_Gene_Presence_Matrix.loc[\n",
    "    GENIE3_Gene_Presence_Matrix.index.isin(RegulonDB_Gene_Presence_Matrix.index)\n",
    "]"
   ]
  },
  {
   "cell_type": "code",
   "execution_count": 151,
   "id": "2756fa7e-ae80-4723-b4dc-d46980bb3769",
   "metadata": {
    "execution": {
     "iopub.execute_input": "2024-11-28T23:31:06.644959Z",
     "iopub.status.busy": "2024-11-28T23:31:06.644591Z",
     "iopub.status.idle": "2024-11-28T23:31:06.654510Z",
     "shell.execute_reply": "2024-11-28T23:31:06.653695Z",
     "shell.execute_reply.started": "2024-11-28T23:31:06.644927Z"
    }
   },
   "outputs": [],
   "source": [
    "WGCNA_Gene_Presence_Matrix = WGCNA_Gene_Presence_Matrix.loc[\n",
    "    WGCNA_Gene_Presence_Matrix.index.isin(RegulonDB_Gene_Presence_Matrix.index)\n",
    "]"
   ]
  },
  {
   "cell_type": "code",
   "execution_count": 50,
   "id": "a6655138-2185-4d29-b401-ad5259bca21a",
   "metadata": {
    "execution": {
     "iopub.execute_input": "2024-10-22T15:04:34.496398Z",
     "iopub.status.busy": "2024-10-22T15:04:34.496100Z",
     "iopub.status.idle": "2024-10-22T15:04:34.500548Z",
     "shell.execute_reply": "2024-10-22T15:04:34.499797Z",
     "shell.execute_reply.started": "2024-10-22T15:04:34.496368Z"
    }
   },
   "outputs": [],
   "source": [
    "RegulonDB_Gene_Presence_Matrix = RegulonDB_Gene_Presence_Matrix.loc[\n",
    "    RegulonDB_Gene_Presence_Matrix.index.isin(SparseCoder_Gene_Presence_Matrix.index)\n",
    "]"
   ]
  },
  {
   "cell_type": "code",
   "execution_count": 51,
   "id": "c1e606c3-b457-4bba-b1f9-0b6ad0697192",
   "metadata": {
    "execution": {
     "iopub.execute_input": "2024-10-22T15:04:34.812825Z",
     "iopub.status.busy": "2024-10-22T15:04:34.812520Z",
     "iopub.status.idle": "2024-10-22T15:04:34.835804Z",
     "shell.execute_reply": "2024-10-22T15:04:34.835022Z",
     "shell.execute_reply.started": "2024-10-22T15:04:34.812795Z"
    }
   },
   "outputs": [
    {
     "data": {
      "text/html": [
       "<div>\n",
       "<style scoped>\n",
       "    .dataframe tbody tr th:only-of-type {\n",
       "        vertical-align: middle;\n",
       "    }\n",
       "\n",
       "    .dataframe tbody tr th {\n",
       "        vertical-align: top;\n",
       "    }\n",
       "\n",
       "    .dataframe thead th {\n",
       "        text-align: right;\n",
       "    }\n",
       "</style>\n",
       "<table border=\"1\" class=\"dataframe\">\n",
       "  <thead>\n",
       "    <tr style=\"text-align: right;\">\n",
       "      <th></th>\n",
       "      <th>FecI</th>\n",
       "      <th>FliA</th>\n",
       "      <th>RpoD</th>\n",
       "      <th>RpoE</th>\n",
       "      <th>RpoH</th>\n",
       "      <th>RpoN</th>\n",
       "      <th>RpoS</th>\n",
       "      <th>AcrR</th>\n",
       "      <th>Ada</th>\n",
       "      <th>AdiY</th>\n",
       "      <th>...</th>\n",
       "      <th>YefM</th>\n",
       "      <th>YefMB</th>\n",
       "      <th>YgiV</th>\n",
       "      <th>YhaJ</th>\n",
       "      <th>YiaU</th>\n",
       "      <th>YjjQ</th>\n",
       "      <th>YqhC</th>\n",
       "      <th>ZntR</th>\n",
       "      <th>ZraR</th>\n",
       "      <th>Zur</th>\n",
       "    </tr>\n",
       "  </thead>\n",
       "  <tbody>\n",
       "    <tr>\n",
       "      <th>aaeA</th>\n",
       "      <td>0</td>\n",
       "      <td>0</td>\n",
       "      <td>0</td>\n",
       "      <td>0</td>\n",
       "      <td>0</td>\n",
       "      <td>0</td>\n",
       "      <td>0</td>\n",
       "      <td>0</td>\n",
       "      <td>0</td>\n",
       "      <td>0</td>\n",
       "      <td>...</td>\n",
       "      <td>0</td>\n",
       "      <td>0</td>\n",
       "      <td>0</td>\n",
       "      <td>0</td>\n",
       "      <td>0</td>\n",
       "      <td>0</td>\n",
       "      <td>0</td>\n",
       "      <td>0</td>\n",
       "      <td>0</td>\n",
       "      <td>0</td>\n",
       "    </tr>\n",
       "    <tr>\n",
       "      <th>aaeB</th>\n",
       "      <td>0</td>\n",
       "      <td>0</td>\n",
       "      <td>0</td>\n",
       "      <td>0</td>\n",
       "      <td>0</td>\n",
       "      <td>0</td>\n",
       "      <td>0</td>\n",
       "      <td>0</td>\n",
       "      <td>0</td>\n",
       "      <td>0</td>\n",
       "      <td>...</td>\n",
       "      <td>0</td>\n",
       "      <td>0</td>\n",
       "      <td>0</td>\n",
       "      <td>0</td>\n",
       "      <td>0</td>\n",
       "      <td>0</td>\n",
       "      <td>0</td>\n",
       "      <td>0</td>\n",
       "      <td>0</td>\n",
       "      <td>0</td>\n",
       "    </tr>\n",
       "    <tr>\n",
       "      <th>aaeR</th>\n",
       "      <td>0</td>\n",
       "      <td>0</td>\n",
       "      <td>0</td>\n",
       "      <td>0</td>\n",
       "      <td>0</td>\n",
       "      <td>0</td>\n",
       "      <td>0</td>\n",
       "      <td>0</td>\n",
       "      <td>0</td>\n",
       "      <td>0</td>\n",
       "      <td>...</td>\n",
       "      <td>0</td>\n",
       "      <td>0</td>\n",
       "      <td>0</td>\n",
       "      <td>0</td>\n",
       "      <td>0</td>\n",
       "      <td>0</td>\n",
       "      <td>0</td>\n",
       "      <td>0</td>\n",
       "      <td>0</td>\n",
       "      <td>0</td>\n",
       "    </tr>\n",
       "    <tr>\n",
       "      <th>aaeX</th>\n",
       "      <td>0</td>\n",
       "      <td>0</td>\n",
       "      <td>0</td>\n",
       "      <td>0</td>\n",
       "      <td>0</td>\n",
       "      <td>0</td>\n",
       "      <td>0</td>\n",
       "      <td>0</td>\n",
       "      <td>0</td>\n",
       "      <td>0</td>\n",
       "      <td>...</td>\n",
       "      <td>0</td>\n",
       "      <td>0</td>\n",
       "      <td>0</td>\n",
       "      <td>0</td>\n",
       "      <td>0</td>\n",
       "      <td>0</td>\n",
       "      <td>0</td>\n",
       "      <td>0</td>\n",
       "      <td>0</td>\n",
       "      <td>0</td>\n",
       "    </tr>\n",
       "    <tr>\n",
       "      <th>abgA</th>\n",
       "      <td>0</td>\n",
       "      <td>0</td>\n",
       "      <td>0</td>\n",
       "      <td>0</td>\n",
       "      <td>0</td>\n",
       "      <td>0</td>\n",
       "      <td>0</td>\n",
       "      <td>0</td>\n",
       "      <td>0</td>\n",
       "      <td>0</td>\n",
       "      <td>...</td>\n",
       "      <td>0</td>\n",
       "      <td>0</td>\n",
       "      <td>0</td>\n",
       "      <td>0</td>\n",
       "      <td>0</td>\n",
       "      <td>0</td>\n",
       "      <td>0</td>\n",
       "      <td>0</td>\n",
       "      <td>0</td>\n",
       "      <td>0</td>\n",
       "    </tr>\n",
       "    <tr>\n",
       "      <th>...</th>\n",
       "      <td>...</td>\n",
       "      <td>...</td>\n",
       "      <td>...</td>\n",
       "      <td>...</td>\n",
       "      <td>...</td>\n",
       "      <td>...</td>\n",
       "      <td>...</td>\n",
       "      <td>...</td>\n",
       "      <td>...</td>\n",
       "      <td>...</td>\n",
       "      <td>...</td>\n",
       "      <td>...</td>\n",
       "      <td>...</td>\n",
       "      <td>...</td>\n",
       "      <td>...</td>\n",
       "      <td>...</td>\n",
       "      <td>...</td>\n",
       "      <td>...</td>\n",
       "      <td>...</td>\n",
       "      <td>...</td>\n",
       "      <td>...</td>\n",
       "    </tr>\n",
       "    <tr>\n",
       "      <th>znuC</th>\n",
       "      <td>0</td>\n",
       "      <td>0</td>\n",
       "      <td>0</td>\n",
       "      <td>0</td>\n",
       "      <td>0</td>\n",
       "      <td>0</td>\n",
       "      <td>0</td>\n",
       "      <td>0</td>\n",
       "      <td>0</td>\n",
       "      <td>0</td>\n",
       "      <td>...</td>\n",
       "      <td>0</td>\n",
       "      <td>0</td>\n",
       "      <td>0</td>\n",
       "      <td>0</td>\n",
       "      <td>0</td>\n",
       "      <td>0</td>\n",
       "      <td>0</td>\n",
       "      <td>0</td>\n",
       "      <td>0</td>\n",
       "      <td>1</td>\n",
       "    </tr>\n",
       "    <tr>\n",
       "      <th>zraP</th>\n",
       "      <td>0</td>\n",
       "      <td>0</td>\n",
       "      <td>0</td>\n",
       "      <td>0</td>\n",
       "      <td>0</td>\n",
       "      <td>0</td>\n",
       "      <td>0</td>\n",
       "      <td>0</td>\n",
       "      <td>0</td>\n",
       "      <td>0</td>\n",
       "      <td>...</td>\n",
       "      <td>0</td>\n",
       "      <td>0</td>\n",
       "      <td>0</td>\n",
       "      <td>0</td>\n",
       "      <td>0</td>\n",
       "      <td>0</td>\n",
       "      <td>0</td>\n",
       "      <td>0</td>\n",
       "      <td>1</td>\n",
       "      <td>0</td>\n",
       "    </tr>\n",
       "    <tr>\n",
       "      <th>zraR</th>\n",
       "      <td>0</td>\n",
       "      <td>0</td>\n",
       "      <td>0</td>\n",
       "      <td>0</td>\n",
       "      <td>0</td>\n",
       "      <td>0</td>\n",
       "      <td>0</td>\n",
       "      <td>0</td>\n",
       "      <td>0</td>\n",
       "      <td>0</td>\n",
       "      <td>...</td>\n",
       "      <td>0</td>\n",
       "      <td>0</td>\n",
       "      <td>0</td>\n",
       "      <td>0</td>\n",
       "      <td>0</td>\n",
       "      <td>0</td>\n",
       "      <td>0</td>\n",
       "      <td>0</td>\n",
       "      <td>1</td>\n",
       "      <td>0</td>\n",
       "    </tr>\n",
       "    <tr>\n",
       "      <th>zraS</th>\n",
       "      <td>0</td>\n",
       "      <td>0</td>\n",
       "      <td>0</td>\n",
       "      <td>0</td>\n",
       "      <td>0</td>\n",
       "      <td>0</td>\n",
       "      <td>0</td>\n",
       "      <td>0</td>\n",
       "      <td>0</td>\n",
       "      <td>0</td>\n",
       "      <td>...</td>\n",
       "      <td>0</td>\n",
       "      <td>0</td>\n",
       "      <td>0</td>\n",
       "      <td>0</td>\n",
       "      <td>0</td>\n",
       "      <td>0</td>\n",
       "      <td>0</td>\n",
       "      <td>0</td>\n",
       "      <td>1</td>\n",
       "      <td>0</td>\n",
       "    </tr>\n",
       "    <tr>\n",
       "      <th>zwf</th>\n",
       "      <td>0</td>\n",
       "      <td>0</td>\n",
       "      <td>0</td>\n",
       "      <td>0</td>\n",
       "      <td>0</td>\n",
       "      <td>0</td>\n",
       "      <td>0</td>\n",
       "      <td>0</td>\n",
       "      <td>0</td>\n",
       "      <td>0</td>\n",
       "      <td>...</td>\n",
       "      <td>0</td>\n",
       "      <td>0</td>\n",
       "      <td>0</td>\n",
       "      <td>0</td>\n",
       "      <td>0</td>\n",
       "      <td>0</td>\n",
       "      <td>0</td>\n",
       "      <td>0</td>\n",
       "      <td>0</td>\n",
       "      <td>0</td>\n",
       "    </tr>\n",
       "  </tbody>\n",
       "</table>\n",
       "<p>2441 rows × 259 columns</p>\n",
       "</div>"
      ],
      "text/plain": [
       "      FecI  FliA  RpoD  RpoE  RpoH  RpoN  RpoS  AcrR  Ada  AdiY  ...  YefM  \\\n",
       "aaeA     0     0     0     0     0     0     0     0    0     0  ...     0   \n",
       "aaeB     0     0     0     0     0     0     0     0    0     0  ...     0   \n",
       "aaeR     0     0     0     0     0     0     0     0    0     0  ...     0   \n",
       "aaeX     0     0     0     0     0     0     0     0    0     0  ...     0   \n",
       "abgA     0     0     0     0     0     0     0     0    0     0  ...     0   \n",
       "...    ...   ...   ...   ...   ...   ...   ...   ...  ...   ...  ...   ...   \n",
       "znuC     0     0     0     0     0     0     0     0    0     0  ...     0   \n",
       "zraP     0     0     0     0     0     0     0     0    0     0  ...     0   \n",
       "zraR     0     0     0     0     0     0     0     0    0     0  ...     0   \n",
       "zraS     0     0     0     0     0     0     0     0    0     0  ...     0   \n",
       "zwf      0     0     0     0     0     0     0     0    0     0  ...     0   \n",
       "\n",
       "      YefMB  YgiV  YhaJ  YiaU  YjjQ  YqhC  ZntR  ZraR  Zur  \n",
       "aaeA      0     0     0     0     0     0     0     0    0  \n",
       "aaeB      0     0     0     0     0     0     0     0    0  \n",
       "aaeR      0     0     0     0     0     0     0     0    0  \n",
       "aaeX      0     0     0     0     0     0     0     0    0  \n",
       "abgA      0     0     0     0     0     0     0     0    0  \n",
       "...     ...   ...   ...   ...   ...   ...   ...   ...  ...  \n",
       "znuC      0     0     0     0     0     0     0     0    1  \n",
       "zraP      0     0     0     0     0     0     0     1    0  \n",
       "zraR      0     0     0     0     0     0     0     1    0  \n",
       "zraS      0     0     0     0     0     0     0     1    0  \n",
       "zwf       0     0     0     0     0     0     0     0    0  \n",
       "\n",
       "[2441 rows x 259 columns]"
      ]
     },
     "execution_count": 51,
     "metadata": {},
     "output_type": "execute_result"
    }
   ],
   "source": [
    "RegulonDB_Gene_Presence_Matrix"
   ]
  },
  {
   "cell_type": "markdown",
   "id": "e17d2eb9-49bf-447b-8765-6450bf76fd6b",
   "metadata": {},
   "source": [
    "## Negentropy for PCA/ICA/IPCA/sIPCA/Regulon"
   ]
  },
  {
   "cell_type": "code",
   "execution_count": 55,
   "id": "78e946a3-982d-4e5c-abba-fe38daa455e3",
   "metadata": {
    "execution": {
     "iopub.execute_input": "2024-10-22T15:04:38.047565Z",
     "iopub.status.busy": "2024-10-22T15:04:38.047424Z",
     "iopub.status.idle": "2024-10-22T15:04:38.053142Z",
     "shell.execute_reply": "2024-10-22T15:04:38.052556Z",
     "shell.execute_reply.started": "2024-10-22T15:04:38.047552Z"
    }
   },
   "outputs": [],
   "source": [
    "import numpy as np\n",
    "import pandas as pd\n",
    "from sklearn.preprocessing import StandardScaler\n",
    "\n",
    "def logcosh(x):\n",
    "    return np.log(np.cosh(x))\n",
    "\n",
    "def calculate_logcosh_negentropy(column):\n",
    "    # Normalize the data\n",
    "    scaler = StandardScaler()\n",
    "    normalized_column = scaler.fit_transform(column.values.reshape(-1, 1)).flatten()\n",
    "    \n",
    "    # Calculate the log-cosh of the column\n",
    "    logcosh_values = logcosh(normalized_column)\n",
    "    \n",
    "    # Calculate the expected value (mean) of the log-cosh values\n",
    "    mean_logcosh = np.mean(logcosh_values)\n",
    "    \n",
    "    # Calculate the expected value of the log-cosh for a standard Gaussian\n",
    "    mean_logcosh_gaussian = np.mean(logcosh(np.random.randn(10000)))\n",
    "    \n",
    "    # Negentropy is the difference between these two expectations\n",
    "    negentropy = mean_logcosh - mean_logcosh_gaussian\n",
    "    return negentropy\n",
    "\n",
    "def negentropy_per_column(df):\n",
    "    negentropy_values = []\n",
    "    for column in df.columns:\n",
    "        negentropy = calculate_logcosh_negentropy(df[column]) * -1\n",
    "        negentropy_values.append(negentropy)\n",
    "    return np.array(negentropy_values)\n",
    "\n",
    "def calculate_average_negentropy(dataframes_dict):\n",
    "    # Create an empty list to store the results\n",
    "    results = []\n",
    "\n",
    "    for method_name, df in dataframes_dict.items():\n",
    "        # Calculate the negentropy for each column\n",
    "        negentropy_values = negentropy_per_column(df)\n",
    "        \n",
    "        # Calculate the average negentropy\n",
    "        average_negentropy = np.mean(negentropy_values)\n",
    "        \n",
    "        # Append the result as a tuple (method name, average negentropy)\n",
    "        results.append((method_name.replace('_Gene_Presence_Matrix', ''), abs(average_negentropy)))\n",
    "    \n",
    "    # Convert the results into a DataFrame\n",
    "    negentropy_df = pd.DataFrame(results, columns=['Method', 'Average_Negentropy'])\n",
    "    negentropy_df.set_index('Method', inplace=True)\n",
    "    \n",
    "    return negentropy_df"
   ]
  },
  {
   "cell_type": "code",
   "execution_count": 206,
   "id": "191582e8-2d16-421b-a53d-0b5726c00136",
   "metadata": {
    "execution": {
     "iopub.execute_input": "2024-12-02T14:58:45.504316Z",
     "iopub.status.busy": "2024-12-02T14:58:45.503935Z",
     "iopub.status.idle": "2024-12-02T14:58:47.969216Z",
     "shell.execute_reply": "2024-12-02T14:58:47.968691Z",
     "shell.execute_reply.started": "2024-12-02T14:58:45.504283Z"
    }
   },
   "outputs": [],
   "source": [
    "dataframes_dict = {\n",
    "    \"GENIE3_Gene_Presence_Matrix\": GENIE3_Gene_Presence_Matrix,\n",
    "    \"WGCNA_Gene_Presence_Matrix\": WGCNA_Gene_Presence_Matrix,\n",
    "    \"FLAME_Gene_Presence_Matrix\": FLAME_Gene_Presence_Matrix,\n",
    "    \"QUBIC_Gene_Presence_Matrix\": QUBIC_Gene_Presence_Matrix,\n",
    "    \"ISA_Gene_Presence_Matrix\": ISA_Gene_Presence_Matrix,\n",
    "    \"PCA_Gene_Presence_Matrix\": PCA_Gene_Presence_Matrix,\n",
    "    \"Incremental_PCA_Gene_Presence_Matrix\": Incremental_PCA_Gene_Presence_Matrix,\n",
    "    \"Independent_PCA_Gene_Presence_Matrix\": Independent_PCA_Gene_Presence_Matrix,\n",
    "    \"Sparse_Independent_PCA_Gene_Presence_Matrix\": Sparse_Independent_PCA_Gene_Presence_Matrix,\n",
    "    \"Fast_ICA_Gene_Presence_Matrix\": Fast_ICA_Gene_Presence_Matrix,\n",
    "    \"InfoMax_ICA_Gene_Presence_Matrix\": InfoMax_ICA_Gene_Presence_Matrix,\n",
    "    \"Picard_ICA_Gene_Presence_Matrix\": Picard_ICA_Gene_Presence_Matrix,\n",
    "    \"Sparse_ICA_Gene_Presence_Matrix\": Sparse_ICA_Gene_Presence_Matrix,\n",
    "    \"NMF_Gene_Presence_Matrix\": NMF_Gene_Presence_Matrix,\n",
    "    \"Factor_Analysis_Gene_Presence_Matrix\": Factor_Analysis_Gene_Presence_Matrix,\n",
    "    \"Dictionary_Learning_Gene_Presence_Matrix\": Dictionary_Learning_Gene_Presence_Matrix,\n",
    "    \"SparseCoder_Gene_Presence_Matrix\": SparseCoder_Gene_Presence_Matrix,\n",
    "    \"RegulonDB_Gene_Presence_Matrix\":RegulonDB_Gene_Presence_Matrix,\n",
    "    \"Randomized_RegulonDB_Gene_Presence_Matrix\":Randomized_RegulonDB_Gene_Presence_Matrix\n",
    "}\n",
    "\n",
    "# Calculate the average negentropy for each DataFrame and return the result as a DataFrame\n",
    "negentropy_df = calculate_average_negentropy(dataframes_dict)"
   ]
  },
  {
   "cell_type": "code",
   "execution_count": 207,
   "id": "5f5efeba-b215-4d35-b2d6-bba08cf62958",
   "metadata": {
    "execution": {
     "iopub.execute_input": "2024-12-02T14:59:16.587435Z",
     "iopub.status.busy": "2024-12-02T14:59:16.587067Z",
     "iopub.status.idle": "2024-12-02T14:59:16.592603Z",
     "shell.execute_reply": "2024-12-02T14:59:16.592230Z",
     "shell.execute_reply.started": "2024-12-02T14:59:16.587419Z"
    }
   },
   "outputs": [
    {
     "data": {
      "text/html": [
       "<div>\n",
       "<style scoped>\n",
       "    .dataframe tbody tr th:only-of-type {\n",
       "        vertical-align: middle;\n",
       "    }\n",
       "\n",
       "    .dataframe tbody tr th {\n",
       "        vertical-align: top;\n",
       "    }\n",
       "\n",
       "    .dataframe thead th {\n",
       "        text-align: right;\n",
       "    }\n",
       "</style>\n",
       "<table border=\"1\" class=\"dataframe\">\n",
       "  <thead>\n",
       "    <tr style=\"text-align: right;\">\n",
       "      <th></th>\n",
       "      <th>Average_Negentropy</th>\n",
       "    </tr>\n",
       "    <tr>\n",
       "      <th>Method</th>\n",
       "      <th></th>\n",
       "    </tr>\n",
       "  </thead>\n",
       "  <tbody>\n",
       "    <tr>\n",
       "      <th>GENIE3</th>\n",
       "      <td>0.272017</td>\n",
       "    </tr>\n",
       "    <tr>\n",
       "      <th>WGCNA</th>\n",
       "      <td>0.328575</td>\n",
       "    </tr>\n",
       "    <tr>\n",
       "      <th>FLAME</th>\n",
       "      <td>0.322366</td>\n",
       "    </tr>\n",
       "    <tr>\n",
       "      <th>QUBIC</th>\n",
       "      <td>0.246928</td>\n",
       "    </tr>\n",
       "    <tr>\n",
       "      <th>ISA</th>\n",
       "      <td>0.275067</td>\n",
       "    </tr>\n",
       "    <tr>\n",
       "      <th>PCA</th>\n",
       "      <td>0.300759</td>\n",
       "    </tr>\n",
       "    <tr>\n",
       "      <th>Incremental_PCA</th>\n",
       "      <td>0.300416</td>\n",
       "    </tr>\n",
       "    <tr>\n",
       "      <th>Independent_PCA</th>\n",
       "      <td>0.298783</td>\n",
       "    </tr>\n",
       "    <tr>\n",
       "      <th>Sparse_Independent_PCA</th>\n",
       "      <td>0.300494</td>\n",
       "    </tr>\n",
       "    <tr>\n",
       "      <th>Fast_ICA</th>\n",
       "      <td>0.326891</td>\n",
       "    </tr>\n",
       "    <tr>\n",
       "      <th>InfoMax_ICA</th>\n",
       "      <td>0.268927</td>\n",
       "    </tr>\n",
       "    <tr>\n",
       "      <th>Picard_ICA</th>\n",
       "      <td>0.273301</td>\n",
       "    </tr>\n",
       "    <tr>\n",
       "      <th>Sparse_ICA</th>\n",
       "      <td>0.325163</td>\n",
       "    </tr>\n",
       "    <tr>\n",
       "      <th>NMF</th>\n",
       "      <td>0.288743</td>\n",
       "    </tr>\n",
       "    <tr>\n",
       "      <th>Factor_Analysis</th>\n",
       "      <td>0.297362</td>\n",
       "    </tr>\n",
       "    <tr>\n",
       "      <th>Dictionary_Learning</th>\n",
       "      <td>0.306583</td>\n",
       "    </tr>\n",
       "    <tr>\n",
       "      <th>SparseCoder</th>\n",
       "      <td>0.307990</td>\n",
       "    </tr>\n",
       "    <tr>\n",
       "      <th>RegulonDB</th>\n",
       "      <td>0.311019</td>\n",
       "    </tr>\n",
       "    <tr>\n",
       "      <th>Randomized_RegulonDB</th>\n",
       "      <td>0.310988</td>\n",
       "    </tr>\n",
       "  </tbody>\n",
       "</table>\n",
       "</div>"
      ],
      "text/plain": [
       "                        Average_Negentropy\n",
       "Method                                    \n",
       "GENIE3                            0.272017\n",
       "WGCNA                             0.328575\n",
       "FLAME                             0.322366\n",
       "QUBIC                             0.246928\n",
       "ISA                               0.275067\n",
       "PCA                               0.300759\n",
       "Incremental_PCA                   0.300416\n",
       "Independent_PCA                   0.298783\n",
       "Sparse_Independent_PCA            0.300494\n",
       "Fast_ICA                          0.326891\n",
       "InfoMax_ICA                       0.268927\n",
       "Picard_ICA                        0.273301\n",
       "Sparse_ICA                        0.325163\n",
       "NMF                               0.288743\n",
       "Factor_Analysis                   0.297362\n",
       "Dictionary_Learning               0.306583\n",
       "SparseCoder                       0.307990\n",
       "RegulonDB                         0.311019\n",
       "Randomized_RegulonDB              0.310988"
      ]
     },
     "execution_count": 207,
     "metadata": {},
     "output_type": "execute_result"
    }
   ],
   "source": [
    "negentropy_df"
   ]
  },
  {
   "cell_type": "markdown",
   "id": "ff6a50e8-43a1-428d-9ccc-779da8fbf757",
   "metadata": {},
   "source": [
    "## Mutual Information"
   ]
  },
  {
   "cell_type": "code",
   "execution_count": 208,
   "id": "fa827149-2bee-4c5b-b702-db29033dd253",
   "metadata": {
    "execution": {
     "iopub.execute_input": "2024-12-02T14:59:24.293325Z",
     "iopub.status.busy": "2024-12-02T14:59:24.292984Z",
     "iopub.status.idle": "2024-12-02T14:59:24.296957Z",
     "shell.execute_reply": "2024-12-02T14:59:24.296216Z",
     "shell.execute_reply.started": "2024-12-02T14:59:24.293309Z"
    }
   },
   "outputs": [],
   "source": [
    "import matplotlib.pyplot as plt\n",
    "import matplotlib.font_manager as fm\n",
    "from sklearn.metrics import mutual_info_score\n",
    "\n",
    "# Calculate mutual information scores\n",
    "def calculate_mutual_information(df):\n",
    "    mi_scores = []\n",
    "    for col in df.columns:\n",
    "        for col2 in df.columns:\n",
    "            if col != col2:\n",
    "                mi_scores.append(mutual_info_score(df[col], df[col2]))\n",
    "    return np.array(mi_scores)"
   ]
  },
  {
   "cell_type": "code",
   "execution_count": 209,
   "id": "0cc2b236-cf6b-4083-bd25-f30191721dfe",
   "metadata": {
    "execution": {
     "iopub.execute_input": "2024-12-02T14:59:24.808806Z",
     "iopub.status.busy": "2024-12-02T14:59:24.808494Z",
     "iopub.status.idle": "2024-12-02T14:59:24.812276Z",
     "shell.execute_reply": "2024-12-02T14:59:24.811852Z",
     "shell.execute_reply.started": "2024-12-02T14:59:24.808775Z"
    }
   },
   "outputs": [],
   "source": [
    "def calculate_average_mutual_information(dataframes_dict):\n",
    "    # Create an empty list to store the results\n",
    "    results = []\n",
    "\n",
    "    for method_name, df in dataframes_dict.items():\n",
    "        # Calculate the mutual information scores for each pair of columns\n",
    "        mi_scores = calculate_mutual_information(df)\n",
    "        \n",
    "        # Calculate the average mutual information\n",
    "        average_mi = np.mean(mi_scores)\n",
    "        \n",
    "        # Append the result as a tuple (method name, average mutual information)\n",
    "        results.append((method_name.replace('_Gene_Presence_Matrix', ''), average_mi))\n",
    "    \n",
    "    # Convert the results into a DataFrame\n",
    "    mi_df = pd.DataFrame(results, columns=['Method', 'Mutual_Information'])\n",
    "    mi_df.set_index('Method', inplace=True)\n",
    "    \n",
    "    return mi_df"
   ]
  },
  {
   "cell_type": "code",
   "execution_count": 210,
   "id": "fd27adb6-98dd-4ace-8c86-aeb6886c2187",
   "metadata": {
    "execution": {
     "iopub.execute_input": "2024-12-02T14:59:25.218346Z",
     "iopub.status.busy": "2024-12-02T14:59:25.218178Z",
     "iopub.status.idle": "2024-12-02T15:10:29.312650Z",
     "shell.execute_reply": "2024-12-02T15:10:29.311834Z",
     "shell.execute_reply.started": "2024-12-02T14:59:25.218332Z"
    }
   },
   "outputs": [],
   "source": [
    "mutual_information_df = calculate_average_mutual_information(dataframes_dict)"
   ]
  },
  {
   "cell_type": "markdown",
   "id": "a0417822-7d22-42a0-bfd3-c6db73f71446",
   "metadata": {},
   "source": [
    "## Normalized Mutual Information"
   ]
  },
  {
   "cell_type": "code",
   "execution_count": 212,
   "id": "5510b09b-4e5d-4a4b-bae4-d1b2f1202108",
   "metadata": {
    "execution": {
     "iopub.execute_input": "2024-12-02T15:10:29.320466Z",
     "iopub.status.busy": "2024-12-02T15:10:29.320338Z",
     "iopub.status.idle": "2024-12-02T15:10:29.330579Z",
     "shell.execute_reply": "2024-12-02T15:10:29.330013Z",
     "shell.execute_reply.started": "2024-12-02T15:10:29.320453Z"
    }
   },
   "outputs": [],
   "source": [
    "import matplotlib.pyplot as plt\n",
    "import matplotlib.font_manager as fm\n",
    "from sklearn.metrics import normalized_mutual_info_score\n",
    "\n",
    "# Calculate mutual information scores\n",
    "def calculate_mutual_information(df):\n",
    "    mi_scores = []\n",
    "    for col in df.columns:\n",
    "        for col2 in df.columns:\n",
    "            if col != col2:\n",
    "                mi_scores.append(normalized_mutual_info_score(df[col], df[col2]))\n",
    "    return np.array(mi_scores)"
   ]
  },
  {
   "cell_type": "code",
   "execution_count": 213,
   "id": "e73a3ea1-36a3-4d68-a734-66ca6b1956c6",
   "metadata": {
    "execution": {
     "iopub.execute_input": "2024-12-02T15:10:29.331915Z",
     "iopub.status.busy": "2024-12-02T15:10:29.331780Z",
     "iopub.status.idle": "2024-12-02T15:10:29.335582Z",
     "shell.execute_reply": "2024-12-02T15:10:29.335043Z",
     "shell.execute_reply.started": "2024-12-02T15:10:29.331902Z"
    }
   },
   "outputs": [],
   "source": [
    "def calculate_average_mutual_information(dataframes_dict):\n",
    "    # Create an empty list to store the results\n",
    "    results = []\n",
    "\n",
    "    for method_name, df in dataframes_dict.items():\n",
    "        # Calculate the mutual information scores for each pair of columns\n",
    "        mi_scores = calculate_mutual_information(df)\n",
    "        \n",
    "        # Calculate the average mutual information\n",
    "        average_mi = np.mean(mi_scores)\n",
    "        \n",
    "        # Append the result as a tuple (method name, average mutual information)\n",
    "        results.append((method_name.replace('_Gene_Presence_Matrix', ''), average_mi))\n",
    "    \n",
    "    # Convert the results into a DataFrame\n",
    "    mi_df = pd.DataFrame(results, columns=['Method', 'Normalized_Mutual_Information'])\n",
    "    mi_df.set_index('Method', inplace=True)\n",
    "    \n",
    "    return mi_df"
   ]
  },
  {
   "cell_type": "code",
   "execution_count": 214,
   "id": "8513a44e-2406-4aec-ac79-e085431452e9",
   "metadata": {
    "execution": {
     "iopub.execute_input": "2024-12-02T15:10:29.336466Z",
     "iopub.status.busy": "2024-12-02T15:10:29.336325Z",
     "iopub.status.idle": "2024-12-02T15:26:45.264675Z",
     "shell.execute_reply": "2024-12-02T15:26:45.263803Z",
     "shell.execute_reply.started": "2024-12-02T15:10:29.336453Z"
    }
   },
   "outputs": [],
   "source": [
    "normalized_mutual_information_df = calculate_average_mutual_information(dataframes_dict)"
   ]
  },
  {
   "cell_type": "code",
   "execution_count": 215,
   "id": "2607a0c8-42ea-4c4c-a065-5a3b786e5fb8",
   "metadata": {
    "execution": {
     "iopub.execute_input": "2024-12-02T15:26:45.265759Z",
     "iopub.status.busy": "2024-12-02T15:26:45.265621Z",
     "iopub.status.idle": "2024-12-02T15:26:45.271386Z",
     "shell.execute_reply": "2024-12-02T15:26:45.270849Z",
     "shell.execute_reply.started": "2024-12-02T15:26:45.265744Z"
    }
   },
   "outputs": [
    {
     "data": {
      "text/html": [
       "<div>\n",
       "<style scoped>\n",
       "    .dataframe tbody tr th:only-of-type {\n",
       "        vertical-align: middle;\n",
       "    }\n",
       "\n",
       "    .dataframe tbody tr th {\n",
       "        vertical-align: top;\n",
       "    }\n",
       "\n",
       "    .dataframe thead th {\n",
       "        text-align: right;\n",
       "    }\n",
       "</style>\n",
       "<table border=\"1\" class=\"dataframe\">\n",
       "  <thead>\n",
       "    <tr style=\"text-align: right;\">\n",
       "      <th></th>\n",
       "      <th>Normalized_Mutual_Information</th>\n",
       "    </tr>\n",
       "    <tr>\n",
       "      <th>Method</th>\n",
       "      <th></th>\n",
       "    </tr>\n",
       "  </thead>\n",
       "  <tbody>\n",
       "    <tr>\n",
       "      <th>GENIE3</th>\n",
       "      <td>0.016921</td>\n",
       "    </tr>\n",
       "    <tr>\n",
       "      <th>WGCNA</th>\n",
       "      <td>0.005199</td>\n",
       "    </tr>\n",
       "    <tr>\n",
       "      <th>FLAME</th>\n",
       "      <td>0.004423</td>\n",
       "    </tr>\n",
       "    <tr>\n",
       "      <th>QUBIC</th>\n",
       "      <td>0.090697</td>\n",
       "    </tr>\n",
       "    <tr>\n",
       "      <th>ISA</th>\n",
       "      <td>0.013328</td>\n",
       "    </tr>\n",
       "    <tr>\n",
       "      <th>PCA</th>\n",
       "      <td>0.018836</td>\n",
       "    </tr>\n",
       "    <tr>\n",
       "      <th>Incremental_PCA</th>\n",
       "      <td>0.018446</td>\n",
       "    </tr>\n",
       "    <tr>\n",
       "      <th>Independent_PCA</th>\n",
       "      <td>0.011325</td>\n",
       "    </tr>\n",
       "    <tr>\n",
       "      <th>Sparse_Independent_PCA</th>\n",
       "      <td>0.009358</td>\n",
       "    </tr>\n",
       "    <tr>\n",
       "      <th>Fast_ICA</th>\n",
       "      <td>0.023247</td>\n",
       "    </tr>\n",
       "    <tr>\n",
       "      <th>InfoMax_ICA</th>\n",
       "      <td>0.040553</td>\n",
       "    </tr>\n",
       "    <tr>\n",
       "      <th>Picard_ICA</th>\n",
       "      <td>0.030175</td>\n",
       "    </tr>\n",
       "    <tr>\n",
       "      <th>Sparse_ICA</th>\n",
       "      <td>0.030782</td>\n",
       "    </tr>\n",
       "    <tr>\n",
       "      <th>NMF</th>\n",
       "      <td>0.030562</td>\n",
       "    </tr>\n",
       "    <tr>\n",
       "      <th>Factor_Analysis</th>\n",
       "      <td>0.019573</td>\n",
       "    </tr>\n",
       "    <tr>\n",
       "      <th>Dictionary_Learning</th>\n",
       "      <td>0.015631</td>\n",
       "    </tr>\n",
       "    <tr>\n",
       "      <th>SparseCoder</th>\n",
       "      <td>0.017519</td>\n",
       "    </tr>\n",
       "    <tr>\n",
       "      <th>RegulonDB</th>\n",
       "      <td>0.003374</td>\n",
       "    </tr>\n",
       "    <tr>\n",
       "      <th>Randomized_RegulonDB</th>\n",
       "      <td>0.001306</td>\n",
       "    </tr>\n",
       "  </tbody>\n",
       "</table>\n",
       "</div>"
      ],
      "text/plain": [
       "                        Normalized_Mutual_Information\n",
       "Method                                               \n",
       "GENIE3                                       0.016921\n",
       "WGCNA                                        0.005199\n",
       "FLAME                                        0.004423\n",
       "QUBIC                                        0.090697\n",
       "ISA                                          0.013328\n",
       "PCA                                          0.018836\n",
       "Incremental_PCA                              0.018446\n",
       "Independent_PCA                              0.011325\n",
       "Sparse_Independent_PCA                       0.009358\n",
       "Fast_ICA                                     0.023247\n",
       "InfoMax_ICA                                  0.040553\n",
       "Picard_ICA                                   0.030175\n",
       "Sparse_ICA                                   0.030782\n",
       "NMF                                          0.030562\n",
       "Factor_Analysis                              0.019573\n",
       "Dictionary_Learning                          0.015631\n",
       "SparseCoder                                  0.017519\n",
       "RegulonDB                                    0.003374\n",
       "Randomized_RegulonDB                         0.001306"
      ]
     },
     "execution_count": 215,
     "metadata": {},
     "output_type": "execute_result"
    }
   ],
   "source": [
    "normalized_mutual_information_df"
   ]
  },
  {
   "cell_type": "markdown",
   "id": "10d28b7e-d86f-4705-8e76-2cb0d00d0b26",
   "metadata": {},
   "source": [
    "## Sparsity"
   ]
  },
  {
   "cell_type": "code",
   "execution_count": 216,
   "id": "e906ec68-61f9-448a-a64e-4cb68181ba2c",
   "metadata": {
    "execution": {
     "iopub.execute_input": "2024-12-02T15:26:45.272422Z",
     "iopub.status.busy": "2024-12-02T15:26:45.272294Z",
     "iopub.status.idle": "2024-12-02T15:26:45.280889Z",
     "shell.execute_reply": "2024-12-02T15:26:45.280132Z",
     "shell.execute_reply.started": "2024-12-02T15:26:45.272410Z"
    }
   },
   "outputs": [],
   "source": [
    "def calculate_sparsity_ratio(df, threshold=0):\n",
    "    if threshold == 0:\n",
    "        zero_elements = (df == 0).sum().sum()\n",
    "    else:\n",
    "        zero_elements = (np.abs(df) < threshold).sum().sum()\n",
    "    total_elements = df.size\n",
    "    sparsity_ratio = zero_elements / total_elements\n",
    "    return sparsity_ratio"
   ]
  },
  {
   "cell_type": "code",
   "execution_count": 217,
   "id": "24ee60c7-4b59-4638-8940-ae2bacf8411b",
   "metadata": {
    "execution": {
     "iopub.execute_input": "2024-12-02T15:26:45.281614Z",
     "iopub.status.busy": "2024-12-02T15:26:45.281487Z",
     "iopub.status.idle": "2024-12-02T15:26:45.285202Z",
     "shell.execute_reply": "2024-12-02T15:26:45.284577Z",
     "shell.execute_reply.started": "2024-12-02T15:26:45.281601Z"
    }
   },
   "outputs": [],
   "source": [
    "def calculate_average_sparsity_ratio(dataframes_dict, threshold=0):\n",
    "    # Create an empty list to store the results\n",
    "    results = []\n",
    "\n",
    "    for method_name, df in dataframes_dict.items():\n",
    "        # Calculate the sparsity ratio for the DataFrame\n",
    "        sparsity_ratio = calculate_sparsity_ratio(df, threshold=threshold)\n",
    "        \n",
    "        # Append the result as a tuple (method name, sparsity ratio)\n",
    "        results.append((method_name.replace('_Gene_Presence_Matrix', ''), sparsity_ratio))\n",
    "    \n",
    "    # Convert the results into a DataFrame\n",
    "    sparsity_df = pd.DataFrame(results, columns=['Method', 'Sparsity_Ratio'])\n",
    "    sparsity_df.set_index('Method', inplace=True)\n",
    "    \n",
    "    return sparsity_df"
   ]
  },
  {
   "cell_type": "code",
   "execution_count": 218,
   "id": "b67ea00b-487b-478e-b658-3ba5c883ac6f",
   "metadata": {
    "execution": {
     "iopub.execute_input": "2024-12-02T15:26:45.285856Z",
     "iopub.status.busy": "2024-12-02T15:26:45.285734Z",
     "iopub.status.idle": "2024-12-02T15:26:45.307984Z",
     "shell.execute_reply": "2024-12-02T15:26:45.307297Z",
     "shell.execute_reply.started": "2024-12-02T15:26:45.285844Z"
    }
   },
   "outputs": [],
   "source": [
    "sparsity_ratio_df = calculate_average_sparsity_ratio(dataframes_dict, threshold=0)"
   ]
  },
  {
   "cell_type": "code",
   "execution_count": 219,
   "id": "a2c5fc91-3cea-4617-8612-f7f70e28bc49",
   "metadata": {
    "execution": {
     "iopub.execute_input": "2024-12-02T15:26:45.309959Z",
     "iopub.status.busy": "2024-12-02T15:26:45.309818Z",
     "iopub.status.idle": "2024-12-02T15:26:45.315376Z",
     "shell.execute_reply": "2024-12-02T15:26:45.314855Z",
     "shell.execute_reply.started": "2024-12-02T15:26:45.309944Z"
    }
   },
   "outputs": [
    {
     "data": {
      "text/html": [
       "<div>\n",
       "<style scoped>\n",
       "    .dataframe tbody tr th:only-of-type {\n",
       "        vertical-align: middle;\n",
       "    }\n",
       "\n",
       "    .dataframe tbody tr th {\n",
       "        vertical-align: top;\n",
       "    }\n",
       "\n",
       "    .dataframe thead th {\n",
       "        text-align: right;\n",
       "    }\n",
       "</style>\n",
       "<table border=\"1\" class=\"dataframe\">\n",
       "  <thead>\n",
       "    <tr style=\"text-align: right;\">\n",
       "      <th></th>\n",
       "      <th>Sparsity_Ratio</th>\n",
       "    </tr>\n",
       "    <tr>\n",
       "      <th>Method</th>\n",
       "      <th></th>\n",
       "    </tr>\n",
       "  </thead>\n",
       "  <tbody>\n",
       "    <tr>\n",
       "      <th>GENIE3</th>\n",
       "      <td>0.985463</td>\n",
       "    </tr>\n",
       "    <tr>\n",
       "      <th>WGCNA</th>\n",
       "      <td>0.996000</td>\n",
       "    </tr>\n",
       "    <tr>\n",
       "      <th>FLAME</th>\n",
       "      <td>0.996178</td>\n",
       "    </tr>\n",
       "    <tr>\n",
       "      <th>QUBIC</th>\n",
       "      <td>0.981173</td>\n",
       "    </tr>\n",
       "    <tr>\n",
       "      <th>ISA</th>\n",
       "      <td>0.986900</td>\n",
       "    </tr>\n",
       "    <tr>\n",
       "      <th>PCA</th>\n",
       "      <td>0.989809</td>\n",
       "    </tr>\n",
       "    <tr>\n",
       "      <th>Incremental_PCA</th>\n",
       "      <td>0.989745</td>\n",
       "    </tr>\n",
       "    <tr>\n",
       "      <th>Independent_PCA</th>\n",
       "      <td>0.989317</td>\n",
       "    </tr>\n",
       "    <tr>\n",
       "      <th>Sparse_Independent_PCA</th>\n",
       "      <td>0.990660</td>\n",
       "    </tr>\n",
       "    <tr>\n",
       "      <th>Fast_ICA</th>\n",
       "      <td>0.996462</td>\n",
       "    </tr>\n",
       "    <tr>\n",
       "      <th>InfoMax_ICA</th>\n",
       "      <td>0.984246</td>\n",
       "    </tr>\n",
       "    <tr>\n",
       "      <th>Picard_ICA</th>\n",
       "      <td>0.985268</td>\n",
       "    </tr>\n",
       "    <tr>\n",
       "      <th>Sparse_ICA</th>\n",
       "      <td>0.995702</td>\n",
       "    </tr>\n",
       "    <tr>\n",
       "      <th>NMF</th>\n",
       "      <td>0.988293</td>\n",
       "    </tr>\n",
       "    <tr>\n",
       "      <th>Factor_Analysis</th>\n",
       "      <td>0.992421</td>\n",
       "    </tr>\n",
       "    <tr>\n",
       "      <th>Dictionary_Learning</th>\n",
       "      <td>0.977490</td>\n",
       "    </tr>\n",
       "    <tr>\n",
       "      <th>SparseCoder</th>\n",
       "      <td>0.980241</td>\n",
       "    </tr>\n",
       "    <tr>\n",
       "      <th>RegulonDB</th>\n",
       "      <td>0.990810</td>\n",
       "    </tr>\n",
       "    <tr>\n",
       "      <th>Randomized_RegulonDB</th>\n",
       "      <td>0.990810</td>\n",
       "    </tr>\n",
       "  </tbody>\n",
       "</table>\n",
       "</div>"
      ],
      "text/plain": [
       "                        Sparsity_Ratio\n",
       "Method                                \n",
       "GENIE3                        0.985463\n",
       "WGCNA                         0.996000\n",
       "FLAME                         0.996178\n",
       "QUBIC                         0.981173\n",
       "ISA                           0.986900\n",
       "PCA                           0.989809\n",
       "Incremental_PCA               0.989745\n",
       "Independent_PCA               0.989317\n",
       "Sparse_Independent_PCA        0.990660\n",
       "Fast_ICA                      0.996462\n",
       "InfoMax_ICA                   0.984246\n",
       "Picard_ICA                    0.985268\n",
       "Sparse_ICA                    0.995702\n",
       "NMF                           0.988293\n",
       "Factor_Analysis               0.992421\n",
       "Dictionary_Learning           0.977490\n",
       "SparseCoder                   0.980241\n",
       "RegulonDB                     0.990810\n",
       "Randomized_RegulonDB          0.990810"
      ]
     },
     "execution_count": 219,
     "metadata": {},
     "output_type": "execute_result"
    }
   ],
   "source": [
    "sparsity_ratio_df"
   ]
  },
  {
   "cell_type": "code",
   "execution_count": 220,
   "id": "7c95b6a2-e5a7-4037-b074-9c31550ce629",
   "metadata": {
    "execution": {
     "iopub.execute_input": "2024-12-02T15:26:45.316006Z",
     "iopub.status.busy": "2024-12-02T15:26:45.315876Z",
     "iopub.status.idle": "2024-12-02T15:26:45.319178Z",
     "shell.execute_reply": "2024-12-02T15:26:45.318611Z",
     "shell.execute_reply.started": "2024-12-02T15:26:45.315993Z"
    }
   },
   "outputs": [],
   "source": [
    "Numerical_Properties = pd.concat([negentropy_df, mutual_information_df, normalized_mutual_information_df, sparsity_ratio_df], axis=1)"
   ]
  },
  {
   "cell_type": "code",
   "execution_count": 248,
   "id": "20e1fc8e-a185-497f-a3b0-eb13762ca3ec",
   "metadata": {
    "execution": {
     "iopub.execute_input": "2024-12-02T16:57:04.750387Z",
     "iopub.status.busy": "2024-12-02T16:57:04.750019Z",
     "iopub.status.idle": "2024-12-02T16:57:04.763186Z",
     "shell.execute_reply": "2024-12-02T16:57:04.762371Z",
     "shell.execute_reply.started": "2024-12-02T16:57:04.750355Z"
    }
   },
   "outputs": [
    {
     "data": {
      "text/html": [
       "<div>\n",
       "<style scoped>\n",
       "    .dataframe tbody tr th:only-of-type {\n",
       "        vertical-align: middle;\n",
       "    }\n",
       "\n",
       "    .dataframe tbody tr th {\n",
       "        vertical-align: top;\n",
       "    }\n",
       "\n",
       "    .dataframe thead th {\n",
       "        text-align: right;\n",
       "    }\n",
       "</style>\n",
       "<table border=\"1\" class=\"dataframe\">\n",
       "  <thead>\n",
       "    <tr style=\"text-align: right;\">\n",
       "      <th></th>\n",
       "      <th>Average_Negentropy</th>\n",
       "      <th>Mutual_Information</th>\n",
       "      <th>Normalized_Mutual_Information</th>\n",
       "      <th>Sparsity_Ratio</th>\n",
       "    </tr>\n",
       "    <tr>\n",
       "      <th>Method</th>\n",
       "      <th></th>\n",
       "      <th></th>\n",
       "      <th></th>\n",
       "      <th></th>\n",
       "    </tr>\n",
       "  </thead>\n",
       "  <tbody>\n",
       "    <tr>\n",
       "      <th>GENIE3</th>\n",
       "      <td>0.272017</td>\n",
       "      <td>0.001730</td>\n",
       "      <td>0.016921</td>\n",
       "      <td>0.985463</td>\n",
       "    </tr>\n",
       "    <tr>\n",
       "      <th>WGCNA</th>\n",
       "      <td>0.328575</td>\n",
       "      <td>0.000000</td>\n",
       "      <td>0.005199</td>\n",
       "      <td>0.996000</td>\n",
       "    </tr>\n",
       "    <tr>\n",
       "      <th>FLAME</th>\n",
       "      <td>0.322366</td>\n",
       "      <td>0.000015</td>\n",
       "      <td>0.004423</td>\n",
       "      <td>0.996178</td>\n",
       "    </tr>\n",
       "    <tr>\n",
       "      <th>QUBIC</th>\n",
       "      <td>0.246928</td>\n",
       "      <td>0.008386</td>\n",
       "      <td>0.090697</td>\n",
       "      <td>0.981173</td>\n",
       "    </tr>\n",
       "    <tr>\n",
       "      <th>ISA</th>\n",
       "      <td>0.275067</td>\n",
       "      <td>0.001104</td>\n",
       "      <td>0.013328</td>\n",
       "      <td>0.986900</td>\n",
       "    </tr>\n",
       "    <tr>\n",
       "      <th>PCA</th>\n",
       "      <td>0.300759</td>\n",
       "      <td>0.000646</td>\n",
       "      <td>0.018836</td>\n",
       "      <td>0.989809</td>\n",
       "    </tr>\n",
       "    <tr>\n",
       "      <th>Incremental PCA</th>\n",
       "      <td>0.300416</td>\n",
       "      <td>0.000645</td>\n",
       "      <td>0.018446</td>\n",
       "      <td>0.989745</td>\n",
       "    </tr>\n",
       "    <tr>\n",
       "      <th>Independent PCA</th>\n",
       "      <td>0.298783</td>\n",
       "      <td>0.000403</td>\n",
       "      <td>0.011325</td>\n",
       "      <td>0.989317</td>\n",
       "    </tr>\n",
       "    <tr>\n",
       "      <th>Sparse Independent PCA</th>\n",
       "      <td>0.300494</td>\n",
       "      <td>0.000309</td>\n",
       "      <td>0.009358</td>\n",
       "      <td>0.990660</td>\n",
       "    </tr>\n",
       "    <tr>\n",
       "      <th>Fast ICA</th>\n",
       "      <td>0.326891</td>\n",
       "      <td>0.000042</td>\n",
       "      <td>0.023247</td>\n",
       "      <td>0.996462</td>\n",
       "    </tr>\n",
       "    <tr>\n",
       "      <th>InfoMax ICA</th>\n",
       "      <td>0.268927</td>\n",
       "      <td>0.003200</td>\n",
       "      <td>0.040553</td>\n",
       "      <td>0.984246</td>\n",
       "    </tr>\n",
       "    <tr>\n",
       "      <th>Picard ICA</th>\n",
       "      <td>0.273301</td>\n",
       "      <td>0.002449</td>\n",
       "      <td>0.030175</td>\n",
       "      <td>0.985268</td>\n",
       "    </tr>\n",
       "    <tr>\n",
       "      <th>Sparse ICA</th>\n",
       "      <td>0.325163</td>\n",
       "      <td>0.000053</td>\n",
       "      <td>0.030782</td>\n",
       "      <td>0.995702</td>\n",
       "    </tr>\n",
       "    <tr>\n",
       "      <th>NMF</th>\n",
       "      <td>0.288743</td>\n",
       "      <td>0.000640</td>\n",
       "      <td>0.030562</td>\n",
       "      <td>0.988293</td>\n",
       "    </tr>\n",
       "    <tr>\n",
       "      <th>Factor Analysis</th>\n",
       "      <td>0.297362</td>\n",
       "      <td>0.000734</td>\n",
       "      <td>0.019573</td>\n",
       "      <td>0.992421</td>\n",
       "    </tr>\n",
       "    <tr>\n",
       "      <th>Dictionary Learning</th>\n",
       "      <td>0.306583</td>\n",
       "      <td>0.000072</td>\n",
       "      <td>0.015631</td>\n",
       "      <td>0.977490</td>\n",
       "    </tr>\n",
       "    <tr>\n",
       "      <th>SparseCoder</th>\n",
       "      <td>0.307990</td>\n",
       "      <td>0.000070</td>\n",
       "      <td>0.017519</td>\n",
       "      <td>0.980241</td>\n",
       "    </tr>\n",
       "    <tr>\n",
       "      <th>RegulonDB</th>\n",
       "      <td>0.311019</td>\n",
       "      <td>0.000148</td>\n",
       "      <td>0.003374</td>\n",
       "      <td>0.990810</td>\n",
       "    </tr>\n",
       "  </tbody>\n",
       "</table>\n",
       "</div>"
      ],
      "text/plain": [
       "                        Average_Negentropy  Mutual_Information  \\\n",
       "Method                                                           \n",
       "GENIE3                            0.272017            0.001730   \n",
       "WGCNA                             0.328575            0.000000   \n",
       "FLAME                             0.322366            0.000015   \n",
       "QUBIC                             0.246928            0.008386   \n",
       "ISA                               0.275067            0.001104   \n",
       "PCA                               0.300759            0.000646   \n",
       "Incremental PCA                   0.300416            0.000645   \n",
       "Independent PCA                   0.298783            0.000403   \n",
       "Sparse Independent PCA            0.300494            0.000309   \n",
       "Fast ICA                          0.326891            0.000042   \n",
       "InfoMax ICA                       0.268927            0.003200   \n",
       "Picard ICA                        0.273301            0.002449   \n",
       "Sparse ICA                        0.325163            0.000053   \n",
       "NMF                               0.288743            0.000640   \n",
       "Factor Analysis                   0.297362            0.000734   \n",
       "Dictionary Learning               0.306583            0.000072   \n",
       "SparseCoder                       0.307990            0.000070   \n",
       "RegulonDB                         0.311019            0.000148   \n",
       "\n",
       "                        Normalized_Mutual_Information  Sparsity_Ratio  \n",
       "Method                                                                 \n",
       "GENIE3                                       0.016921        0.985463  \n",
       "WGCNA                                        0.005199        0.996000  \n",
       "FLAME                                        0.004423        0.996178  \n",
       "QUBIC                                        0.090697        0.981173  \n",
       "ISA                                          0.013328        0.986900  \n",
       "PCA                                          0.018836        0.989809  \n",
       "Incremental PCA                              0.018446        0.989745  \n",
       "Independent PCA                              0.011325        0.989317  \n",
       "Sparse Independent PCA                       0.009358        0.990660  \n",
       "Fast ICA                                     0.023247        0.996462  \n",
       "InfoMax ICA                                  0.040553        0.984246  \n",
       "Picard ICA                                   0.030175        0.985268  \n",
       "Sparse ICA                                   0.030782        0.995702  \n",
       "NMF                                          0.030562        0.988293  \n",
       "Factor Analysis                              0.019573        0.992421  \n",
       "Dictionary Learning                          0.015631        0.977490  \n",
       "SparseCoder                                  0.017519        0.980241  \n",
       "RegulonDB                                    0.003374        0.990810  "
      ]
     },
     "execution_count": 248,
     "metadata": {},
     "output_type": "execute_result"
    }
   ],
   "source": [
    "Numerical_Properties"
   ]
  },
  {
   "cell_type": "code",
   "execution_count": null,
   "id": "f9ec86dc-453a-4e4d-ac8a-b459ba4bc324",
   "metadata": {},
   "outputs": [],
   "source": [
    "Numerical_Properties = Numerical_Properties.drop(index='Randomized RegulonDB')"
   ]
  },
  {
   "cell_type": "code",
   "execution_count": 222,
   "id": "bfaea0bd-bf45-401f-bc79-8b3cb0fcc031",
   "metadata": {
    "execution": {
     "iopub.execute_input": "2024-12-02T15:26:45.327351Z",
     "iopub.status.busy": "2024-12-02T15:26:45.327223Z",
     "iopub.status.idle": "2024-12-02T15:26:45.330295Z",
     "shell.execute_reply": "2024-12-02T15:26:45.329719Z",
     "shell.execute_reply.started": "2024-12-02T15:26:45.327338Z"
    }
   },
   "outputs": [],
   "source": [
    "Numerical_Properties.index = Numerical_Properties.index.str.replace('_', ' ')"
   ]
  },
  {
   "cell_type": "code",
   "execution_count": 249,
   "id": "96cd3124-f806-48cd-97f8-963662fdef3f",
   "metadata": {
    "execution": {
     "iopub.execute_input": "2024-12-02T16:57:11.307955Z",
     "iopub.status.busy": "2024-12-02T16:57:11.307607Z",
     "iopub.status.idle": "2024-12-02T16:57:11.326635Z",
     "shell.execute_reply": "2024-12-02T16:57:11.325679Z",
     "shell.execute_reply.started": "2024-12-02T16:57:11.307923Z"
    }
   },
   "outputs": [],
   "source": [
    "import matplotlib.pyplot as plt\n",
    "import matplotlib.font_manager as fm\n",
    "\n",
    "def plot_average_negentropy(df):\n",
    "    font_path = '/usr/share/fonts/truetype/msttcorefonts/Times_New_Roman.ttf'\n",
    "    font_prop = fm.FontProperties(fname=font_path)\n",
    "    \n",
    "    # Create the plot\n",
    "    fig, ax = plt.subplots(figsize=(5, 3))\n",
    "    \n",
    "    # Plot for Average_Negentropy\n",
    "    ax.bar(df.index, df['Average_Negentropy'], color='#F6CD82')\n",
    "    \n",
    "    # Set the x-tick positions and labels to the method names\n",
    "    ax.set_xticks(range(len(df.index)))\n",
    "    ax.set_xticklabels(df.index, fontproperties=font_prop, rotation=45, ha=\"right\")\n",
    "    \n",
    "    # Apply the font to y-axis ticks\n",
    "    ax.yaxis.set_tick_params(labelsize=12)  # Optionally, set tick size\n",
    "    for label in ax.get_yticklabels():\n",
    "        label.set_fontproperties(font_prop)\n",
    "    \n",
    "    # Add title and labels\n",
    "    # ax.set_title(\"Average Negentropy\", fontproperties=font_prop)\n",
    "    ax.set_title(\"\", fontproperties=font_prop)\n",
    "    \n",
    "    # Remove grid lines\n",
    "    ax.grid(False)\n",
    "    \n",
    "    # Add a width=1 box around the plot\n",
    "    ax.spines['top'].set_linewidth(1)\n",
    "    ax.spines['right'].set_linewidth(1)\n",
    "    ax.spines['bottom'].set_linewidth(1)\n",
    "    ax.spines['left'].set_linewidth(1)\n",
    "    \n",
    "    # Display the plot\n",
    "    plt.tight_layout()\n",
    "    plt.savefig('plot_average_negentropy.svg', format = 'svg')\n",
    "    plt.show()\n",
    "\n",
    "def plot_normalized_mutual_information(df):\n",
    "    font_path = '/usr/share/fonts/truetype/msttcorefonts/Times_New_Roman.ttf'\n",
    "    font_prop = fm.FontProperties(fname=font_path)\n",
    "    \n",
    "    # Create the plot\n",
    "    fig, ax = plt.subplots(figsize=(5, 3))\n",
    "    \n",
    "    # Plot for Mutual_Information with a label for the legend\n",
    "    ax.bar(df.index, df['Normalized_Mutual_Information'], color='#B999C8', label='Normalized Mutual Information')\n",
    "    \n",
    "    # Set the x-tick positions and labels to the method names\n",
    "    ax.set_xticks(range(len(df.index)))\n",
    "    ax.set_xticklabels(df.index, fontproperties=font_prop, rotation=45, ha=\"right\")\n",
    "    \n",
    "    # Apply the font to y-axis ticks\n",
    "    ax.yaxis.set_tick_params(labelsize=12)  # Optionally, set tick size\n",
    "    for label in ax.get_yticklabels():\n",
    "        label.set_fontproperties(font_prop)\n",
    "    \n",
    "    # Add title and labels\n",
    "    # ax.set_title(\"Mutual Information\", fontproperties=font_prop)\n",
    "    ax.set_title(\"\", fontproperties=font_prop)\n",
    "    \n",
    "    # Remove grid lines\n",
    "    ax.grid(False)\n",
    "    \n",
    "    # Customize the spines to have a black border with linewidth=1\n",
    "    for spine in ax.spines.values():\n",
    "        spine.set_linewidth(1)\n",
    "        spine.set_color('black')  # Ensure the border color is black\n",
    "    \n",
    "    # Add a legend to the plot\n",
    "    ax.legend(prop=font_prop, fontsize=12)\n",
    "    \n",
    "    # Display the plot\n",
    "    plt.tight_layout()\n",
    "    plt.savefig('plot_Normalized_mutual_information.svg', format='svg')\n",
    "    plt.show()\n",
    "    \n",
    "def plot_sparsity_ratio(df):\n",
    "    font_path = '/usr/share/fonts/truetype/msttcorefonts/Times_New_Roman.ttf'\n",
    "    font_prop = fm.FontProperties(fname=font_path)\n",
    "    \n",
    "    # Create the plot\n",
    "    fig, ax = plt.subplots(figsize=(5, 3))\n",
    "    \n",
    "    # Plot for Sparsity_Ratio\n",
    "    ax.bar(df.index, df['Sparsity_Ratio'], color='#B8D8A9')\n",
    "    \n",
    "    # Set the x-tick positions and labels to the method names\n",
    "    ax.set_xticks(range(len(df.index)))\n",
    "    ax.set_xticklabels(df.index, fontproperties=font_prop, rotation=45, ha=\"right\")\n",
    "    \n",
    "    # Apply the font to y-axis ticks\n",
    "    ax.yaxis.set_tick_params(labelsize=12)  # Optionally, set tick size\n",
    "    for label in ax.get_yticklabels():\n",
    "        label.set_fontproperties(font_prop)\n",
    "    \n",
    "    # Add title and labels\n",
    "    ax.set_title(\"Sparsity Ratio\", fontproperties=font_prop)\n",
    "    \n",
    "    # Remove grid lines\n",
    "    ax.grid(False)\n",
    "    \n",
    "    # Add a width=1 box around the plot\n",
    "    ax.spines['top'].set_linewidth(1)\n",
    "    ax.spines['right'].set_linewidth(1)\n",
    "    ax.spines['bottom'].set_linewidth(1)\n",
    "    ax.spines['left'].set_linewidth(1)\n",
    "    \n",
    "    # Display the plot\n",
    "    plt.tight_layout()\n",
    "    plt.show()"
   ]
  },
  {
   "cell_type": "code",
   "execution_count": 245,
   "id": "f725a5e0-c666-4f9e-bed1-fef8469a5a14",
   "metadata": {
    "execution": {
     "iopub.execute_input": "2024-12-02T16:55:11.742922Z",
     "iopub.status.busy": "2024-12-02T16:55:11.742617Z",
     "iopub.status.idle": "2024-12-02T16:55:11.945389Z",
     "shell.execute_reply": "2024-12-02T16:55:11.944695Z",
     "shell.execute_reply.started": "2024-12-02T16:55:11.742892Z"
    }
   },
   "outputs": [
    {
     "data": {
      "image/png": "[encoded data removed]",
      "text/plain": [
       "<Figure size 500x300 with 1 Axes>"
      ]
     },
     "metadata": {},
     "output_type": "display_data"
    }
   ],
   "source": [
    "plot_average_negentropy(Numerical_Properties)"
   ]
  },
  {
   "cell_type": "code",
   "execution_count": 251,
   "id": "7f057b15-9944-46be-82a3-0d4ef994bfaa",
   "metadata": {
    "execution": {
     "iopub.execute_input": "2024-12-02T16:57:29.603201Z",
     "iopub.status.busy": "2024-12-02T16:57:29.602833Z",
     "iopub.status.idle": "2024-12-02T16:57:29.616179Z",
     "shell.execute_reply": "2024-12-02T16:57:29.615530Z",
     "shell.execute_reply.started": "2024-12-02T16:57:29.603168Z"
    }
   },
   "outputs": [],
   "source": [
    "import matplotlib.pyplot as plt\n",
    "import matplotlib.font_manager as fm\n",
    "import pandas as pd\n",
    "\n",
    "def plot_mutual_information(df):\n",
    "    font_path = '/usr/share/fonts/truetype/msttcorefonts/Times_New_Roman.ttf'\n",
    "    font_prop = fm.FontProperties(fname=font_path)\n",
    "\n",
    "    # Separate the 'RegulonDB' row from the rest of the DataFrame\n",
    "    df_main = df.drop('RegulonDB')\n",
    "    df_regulon = df.loc[['RegulonDB']]\n",
    "\n",
    "    # Create subplots with shared y-axis to ensure the same y-scale\n",
    "    fig, (ax, ax2) = plt.subplots(1, 2, figsize=(7, 2), gridspec_kw={'width_ratios': [len(df_main), 1]}, sharey=True)\n",
    "\n",
    "    # Plot for Mutual Information for all rows except 'RegulonDB'\n",
    "    ax.bar(df_main.index, df_main['Mutual_Information'], color='#B999C8', label='Mutual Information')\n",
    "\n",
    "    # Set the x-tick positions and labels for the main plot\n",
    "    ax.set_xticks(range(len(df_main.index)))\n",
    "    ax.set_xticklabels(df_main.index, fontproperties=font_prop, rotation=45, ha=\"right\")\n",
    "    ax.set_yticks([0, 0.001, 0.002, 0.003, 0.004])  # Adjust values based on your data\n",
    "    ax.yaxis.set_tick_params(labelsize=12)\n",
    "    # Apply the font to y-axis ticks for the main plot\n",
    "    ax.yaxis.set_tick_params(labelsize=12)\n",
    "    for label in ax.get_yticklabels():\n",
    "        label.set_fontproperties(font_prop)\n",
    "\n",
    "    # Title (optional)\n",
    "    ax.set_title(\"\", fontproperties=font_prop)\n",
    "\n",
    "    # Remove grid lines for the main plot\n",
    "    ax.grid(False)\n",
    "\n",
    "    # Customize the spines for the main plot\n",
    "    for spine in ax.spines.values():\n",
    "        spine.set_linewidth(1)\n",
    "        spine.set_color('black')\n",
    "\n",
    "    # Add a legend to the main plot\n",
    "    ax.legend(prop=font_prop, fontsize=12)\n",
    "\n",
    "    # Plot the 'RegulonDB' bar in ax2, sharing the y-axis with ax\n",
    "    ax2.bar('RegulonDB', df_regulon['Mutual_Information'], color='#94c47d')\n",
    "\n",
    "    # Remove y-ticks for the 'RegulonDB' box but keep the y-scale aligned\n",
    "    ax2.tick_params(left=False)  # This hides the y-ticks\n",
    "\n",
    "    # Set x-tick labels for 'RegulonDB' box with the appropriate font\n",
    "    ax2.set_xticks([0])\n",
    "    ax2.set_xticklabels(['RegulonDB'], fontproperties=font_prop, rotation=45, ha=\"center\")\n",
    "\n",
    "    # Customize the spines for the 'RegulonDB' box\n",
    "    for spine in ax2.spines.values():\n",
    "        spine.set_linewidth(1)\n",
    "        spine.set_color('black')\n",
    "\n",
    "    # Remove grid lines for 'RegulonDB' box\n",
    "    ax2.grid(False)\n",
    "\n",
    "    # Adjust layout for better fit and smaller gap between the plots\n",
    "    plt.subplots_adjust(wspace=0.05, left=0.1, right=0.9, top=0.9, bottom=0.3)\n",
    "\n",
    "    # Save and display the plot\n",
    "    plt.savefig('plot_mutual_information.svg', format='svg')\n",
    "    plt.show()\n",
    "\n",
    "# Example usage assuming you have a DataFrame `df`\n",
    "# plot_mutual_information(df)\n"
   ]
  },
  {
   "cell_type": "code",
   "execution_count": 261,
   "id": "4ce1bb9c-c948-40b9-a49e-3a4519a26db0",
   "metadata": {
    "execution": {
     "iopub.execute_input": "2024-12-02T17:08:51.716298Z",
     "iopub.status.busy": "2024-12-02T17:08:51.716053Z",
     "iopub.status.idle": "2024-12-02T17:08:51.723147Z",
     "shell.execute_reply": "2024-12-02T17:08:51.722567Z",
     "shell.execute_reply.started": "2024-12-02T17:08:51.716282Z"
    }
   },
   "outputs": [],
   "source": [
    "import matplotlib.pyplot as plt\n",
    "import matplotlib.font_manager as fm\n",
    "import pandas as pd\n",
    "\n",
    "def plot_mutual_information(df):\n",
    "    font_path = '/usr/share/fonts/truetype/msttcorefonts/Times_New_Roman.ttf'\n",
    "    font_prop = fm.FontProperties(fname=font_path)\n",
    "\n",
    "    # Separate the 'RegulonDB' row from the rest of the DataFrame\n",
    "    df_main = df.drop('RegulonDB')\n",
    "    df_regulon = df.loc[['RegulonDB']]\n",
    "\n",
    "    # Create subplots with shared y-axis to ensure the same y-scale\n",
    "    fig, (ax, ax2) = plt.subplots(1, 2, figsize=(6, 2.3), gridspec_kw={'width_ratios': [len(df_main), 1]}, sharey=True)\n",
    "\n",
    "    # Plot for Mutual Information for all rows except 'RegulonDB'\n",
    "    ax.bar(df_main.index, df_main['Mutual_Information'], color='#B999C8', label='Mutual Information (log)')\n",
    "\n",
    "    # Remove all x-ticks for the main plot\n",
    "    ax.set_xticks([])  # Removes x-ticks\n",
    "    ax.tick_params(axis='x', bottom=False)  # Hides x-axis ticks\n",
    "\n",
    "    # Set y-ticks and apply the font to y-axis ticks\n",
    "    ax.set_yscale('log')\n",
    "    # ax.set_yticks([0, 0.001, 0.002, 0.003, 0.004])\n",
    "    for label in ax.get_yticklabels():\n",
    "        label.set_fontproperties(font_prop)\n",
    "\n",
    "    # Title (optional)\n",
    "    ax.set_title(\"\", fontproperties=font_prop)\n",
    "\n",
    "    # Remove grid lines for the main plot\n",
    "    ax.grid(False)\n",
    "\n",
    "    # Customize the spines for the main plot\n",
    "    for spine in ax.spines.values():\n",
    "        spine.set_linewidth(1)\n",
    "        spine.set_color('black')\n",
    "\n",
    "    # Add a legend to the main plot\n",
    "    ax.legend(prop=font_prop, fontsize=12)\n",
    "\n",
    "    # Plot the 'RegulonDB' bar in ax2\n",
    "    ax2.bar('RegulonDB', df_regulon['Mutual_Information'], color='#94c47d')\n",
    "\n",
    "    # Remove all x-ticks for the 'RegulonDB' box\n",
    "    ax2.set_xticks([])  # Removes x-ticks\n",
    "    ax2.tick_params(axis='x', bottom=False)  # Hides x-axis ticks\n",
    "\n",
    "    # Customize the spines for the 'RegulonDB' box\n",
    "    for spine in ax2.spines.values():\n",
    "        spine.set_linewidth(1)\n",
    "        spine.set_color('black')\n",
    "\n",
    "    # Remove grid lines for 'RegulonDB' box\n",
    "    ax2.grid(False)\n",
    "\n",
    "    # Adjust layout for better fit and smaller gap between the plots\n",
    "    plt.subplots_adjust(wspace=0.05, left=0.1, right=0.9, top=0.9, bottom=0.3)\n",
    "\n",
    "    # Save and display the plot\n",
    "    plt.savefig('plot_mutual_information.svg', format='svg')\n",
    "    plt.show()"
   ]
  },
  {
   "cell_type": "code",
   "execution_count": 262,
   "id": "92358b3e-4e04-49cf-9e71-59383d4d05bf",
   "metadata": {
    "execution": {
     "iopub.execute_input": "2024-12-02T17:08:51.885425Z",
     "iopub.status.busy": "2024-12-02T17:08:51.885127Z",
     "iopub.status.idle": "2024-12-02T17:08:52.200787Z",
     "shell.execute_reply": "2024-12-02T17:08:52.200086Z",
     "shell.execute_reply.started": "2024-12-02T17:08:51.885395Z"
    }
   },
   "outputs": [
    {
     "data": {
      "image/png": "[encoded data removed]",
      "text/plain": [
       "<Figure size 600x230 with 2 Axes>"
      ]
     },
     "metadata": {},
     "output_type": "display_data"
    }
   ],
   "source": [
    "plot_mutual_information(Numerical_Properties)"
   ]
  },
  {
   "cell_type": "markdown",
   "id": "c811405a-addb-49f5-bef3-96e462058e21",
   "metadata": {},
   "source": [
    "## Sparsity plot"
   ]
  },
  {
   "cell_type": "markdown",
   "id": "04729cf0-8aba-4a93-b5da-51d86252ae3a",
   "metadata": {},
   "source": [
    "## Read All Gene Presence Matrices"
   ]
  },
  {
   "cell_type": "code",
   "execution_count": 266,
   "id": "50933def-149e-4eb9-9f7a-9a50e95a0326",
   "metadata": {
    "execution": {
     "iopub.execute_input": "2024-12-02T18:58:38.332961Z",
     "iopub.status.busy": "2024-12-02T18:58:38.332594Z",
     "iopub.status.idle": "2024-12-02T18:58:38.431400Z",
     "shell.execute_reply": "2024-12-02T18:58:38.430507Z",
     "shell.execute_reply.started": "2024-12-02T18:58:38.332929Z"
    }
   },
   "outputs": [],
   "source": [
    "Dictionary_Learning_Gene_Presence_Matrix = pd.read_csv(\"./Presence_Matrices/Dictionary_Learning_Gene_Presence_Matrix.csv\", index_col=0).astype(int)"
   ]
  },
  {
   "cell_type": "code",
   "execution_count": 267,
   "id": "dc119f05-d2d6-42ae-b76d-fccde37ff91d",
   "metadata": {
    "execution": {
     "iopub.execute_input": "2024-12-02T18:58:38.539318Z",
     "iopub.status.busy": "2024-12-02T18:58:38.539174Z",
     "iopub.status.idle": "2024-12-02T18:58:38.628521Z",
     "shell.execute_reply": "2024-12-02T18:58:38.627703Z",
     "shell.execute_reply.started": "2024-12-02T18:58:38.539303Z"
    }
   },
   "outputs": [],
   "source": [
    "Factor_Analysis_Gene_Presence_Matrix = pd.read_csv(\"./Presence_Matrices/Factor_Analysis_Gene_Presence_Matrix.csv\", index_col=0).astype(int)"
   ]
  },
  {
   "cell_type": "code",
   "execution_count": 268,
   "id": "0d3bfe80-726f-4a0d-aee2-a16410c5e95a",
   "metadata": {
    "execution": {
     "iopub.execute_input": "2024-12-02T18:58:38.671555Z",
     "iopub.status.busy": "2024-12-02T18:58:38.671403Z",
     "iopub.status.idle": "2024-12-02T18:58:38.739998Z",
     "shell.execute_reply": "2024-12-02T18:58:38.739178Z",
     "shell.execute_reply.started": "2024-12-02T18:58:38.671540Z"
    }
   },
   "outputs": [],
   "source": [
    "Fast_ICA_Gene_Presence_Matrix = pd.read_csv(\"./Presence_Matrices/Fast_ICA_Gene_Presence_Matrix.csv\", index_col=0).astype(int)"
   ]
  },
  {
   "cell_type": "code",
   "execution_count": 269,
   "id": "5c3cc150-2d24-4e4c-854b-c28f5fe778a5",
   "metadata": {
    "execution": {
     "iopub.execute_input": "2024-12-02T18:58:38.846819Z",
     "iopub.status.busy": "2024-12-02T18:58:38.846578Z",
     "iopub.status.idle": "2024-12-02T18:58:38.912157Z",
     "shell.execute_reply": "2024-12-02T18:58:38.911482Z",
     "shell.execute_reply.started": "2024-12-02T18:58:38.846804Z"
    }
   },
   "outputs": [],
   "source": [
    "Incremental_PCA_Gene_Presence_Matrix = pd.read_csv(\"./Presence_Matrices/Incremental_PCA_Gene_Presence_Matrix.csv\", index_col=0).astype(int)"
   ]
  },
  {
   "cell_type": "code",
   "execution_count": 270,
   "id": "c472942d-b220-4f8c-bfb7-dfccbd7a649e",
   "metadata": {
    "execution": {
     "iopub.execute_input": "2024-12-02T18:58:38.980032Z",
     "iopub.status.busy": "2024-12-02T18:58:38.979747Z",
     "iopub.status.idle": "2024-12-02T18:58:39.046457Z",
     "shell.execute_reply": "2024-12-02T18:58:39.045682Z",
     "shell.execute_reply.started": "2024-12-02T18:58:38.980016Z"
    }
   },
   "outputs": [],
   "source": [
    "Independent_PCA_Gene_Presence_Matrix = pd.read_csv(\"./Presence_Matrices/Independent_PCA_Gene_Presence_Matrix.csv\", index_col=0).astype(int)"
   ]
  },
  {
   "cell_type": "code",
   "execution_count": 271,
   "id": "42016ff3-f505-4c24-9461-c74dff4f3feb",
   "metadata": {
    "execution": {
     "iopub.execute_input": "2024-12-02T18:58:39.120275Z",
     "iopub.status.busy": "2024-12-02T18:58:39.119974Z",
     "iopub.status.idle": "2024-12-02T18:58:39.192986Z",
     "shell.execute_reply": "2024-12-02T18:58:39.192166Z",
     "shell.execute_reply.started": "2024-12-02T18:58:39.120244Z"
    }
   },
   "outputs": [],
   "source": [
    "InfoMax_ICA_Gene_Presence_Matrix = pd.read_csv(\"./Presence_Matrices/InfoMax_ICA_Gene_Presence_Matrix.csv\", index_col=0).astype(int)"
   ]
  },
  {
   "cell_type": "code",
   "execution_count": 272,
   "id": "09bef1b2-b558-4e09-88c8-de1177984e92",
   "metadata": {
    "execution": {
     "iopub.execute_input": "2024-12-02T18:58:39.241471Z",
     "iopub.status.busy": "2024-12-02T18:58:39.241168Z",
     "iopub.status.idle": "2024-12-02T18:58:39.315780Z",
     "shell.execute_reply": "2024-12-02T18:58:39.314957Z",
     "shell.execute_reply.started": "2024-12-02T18:58:39.241439Z"
    }
   },
   "outputs": [],
   "source": [
    "Picard_ICA_Gene_Presence_Matrix = pd.read_csv(\"./Presence_Matrices/Picard_ICA_Gene_Presence_Matrix.csv\", index_col=0).astype(int)"
   ]
  },
  {
   "cell_type": "code",
   "execution_count": 273,
   "id": "9978173a-7a75-4081-ba89-cd33f099d6e4",
   "metadata": {
    "execution": {
     "iopub.execute_input": "2024-12-02T18:58:39.377932Z",
     "iopub.status.busy": "2024-12-02T18:58:39.377786Z",
     "iopub.status.idle": "2024-12-02T18:58:39.449153Z",
     "shell.execute_reply": "2024-12-02T18:58:39.448328Z",
     "shell.execute_reply.started": "2024-12-02T18:58:39.377917Z"
    }
   },
   "outputs": [],
   "source": [
    "NMF_Gene_Presence_Matrix = pd.read_csv(\"./Presence_Matrices/NMF_Gene_Presence_Matrix.csv\", index_col=0).astype(int)"
   ]
  },
  {
   "cell_type": "code",
   "execution_count": 274,
   "id": "093293ce-809d-4d59-a925-07c14290ace6",
   "metadata": {
    "execution": {
     "iopub.execute_input": "2024-12-02T18:58:39.493243Z",
     "iopub.status.busy": "2024-12-02T18:58:39.493098Z",
     "iopub.status.idle": "2024-12-02T18:58:39.557785Z",
     "shell.execute_reply": "2024-12-02T18:58:39.556959Z",
     "shell.execute_reply.started": "2024-12-02T18:58:39.493228Z"
    }
   },
   "outputs": [],
   "source": [
    "PCA_Gene_Presence_Matrix = pd.read_csv(\"./Presence_Matrices/PCA_Gene_Presence_Matrix.csv\", index_col=0).astype(int)"
   ]
  },
  {
   "cell_type": "code",
   "execution_count": 275,
   "id": "76ed325e-9a15-4c43-84ef-45ef4922c8b7",
   "metadata": {
    "execution": {
     "iopub.execute_input": "2024-12-02T18:58:39.631351Z",
     "iopub.status.busy": "2024-12-02T18:58:39.631125Z",
     "iopub.status.idle": "2024-12-02T18:58:39.696914Z",
     "shell.execute_reply": "2024-12-02T18:58:39.696096Z",
     "shell.execute_reply.started": "2024-12-02T18:58:39.631335Z"
    }
   },
   "outputs": [],
   "source": [
    "Sparse_ICA_Gene_Presence_Matrix = pd.read_csv(\"./Presence_Matrices/Sparse_ICA_Gene_Presence_Matrix.csv\", index_col=0).astype(int)"
   ]
  },
  {
   "cell_type": "code",
   "execution_count": 276,
   "id": "02edabb5-3f24-446d-a7ca-5240b5b32e6d",
   "metadata": {
    "execution": {
     "iopub.execute_input": "2024-12-02T18:58:39.758418Z",
     "iopub.status.busy": "2024-12-02T18:58:39.758083Z",
     "iopub.status.idle": "2024-12-02T18:58:39.826662Z",
     "shell.execute_reply": "2024-12-02T18:58:39.825827Z",
     "shell.execute_reply.started": "2024-12-02T18:58:39.758385Z"
    }
   },
   "outputs": [],
   "source": [
    "Sparse_Independent_PCA_Gene_Presence_Matrix = pd.read_csv(\"./Presence_Matrices/Sparse_Independent_PCA_Gene_Presence_Matrix.csv\", index_col=0).astype(int)"
   ]
  },
  {
   "cell_type": "code",
   "execution_count": 277,
   "id": "8ca23e62-0da3-4495-866a-fc5a3de0ff86",
   "metadata": {
    "execution": {
     "iopub.execute_input": "2024-12-02T18:58:39.874287Z",
     "iopub.status.busy": "2024-12-02T18:58:39.873972Z",
     "iopub.status.idle": "2024-12-02T18:58:39.939666Z",
     "shell.execute_reply": "2024-12-02T18:58:39.938838Z",
     "shell.execute_reply.started": "2024-12-02T18:58:39.874256Z"
    }
   },
   "outputs": [],
   "source": [
    "SparseCoder_Gene_Presence_Matrix = pd.read_csv(\"./Presence_Matrices/SparseCoder_Gene_Presence_Matrix.csv\", index_col=0).astype(int)"
   ]
  },
  {
   "cell_type": "code",
   "execution_count": 278,
   "id": "4b9efa26-313c-48b7-ad6a-59e698f8db41",
   "metadata": {
    "execution": {
     "iopub.execute_input": "2024-12-02T18:58:40.018269Z",
     "iopub.status.busy": "2024-12-02T18:58:40.018115Z",
     "iopub.status.idle": "2024-12-02T18:58:40.067856Z",
     "shell.execute_reply": "2024-12-02T18:58:40.067032Z",
     "shell.execute_reply.started": "2024-12-02T18:58:40.018254Z"
    }
   },
   "outputs": [],
   "source": [
    "Biclustering_Gene_Presence_Matrix = pd.read_csv(\"./Presence_Matrices/Biclustering_Presence_Matrix.csv\", index_col=0).astype(int)"
   ]
  },
  {
   "cell_type": "code",
   "execution_count": 279,
   "id": "3bfe9399-5ec3-4371-a230-09722e63aa99",
   "metadata": {
    "execution": {
     "iopub.execute_input": "2024-12-02T18:58:40.192498Z",
     "iopub.status.busy": "2024-12-02T18:58:40.192351Z",
     "iopub.status.idle": "2024-12-02T18:58:40.239614Z",
     "shell.execute_reply": "2024-12-02T18:58:40.238779Z",
     "shell.execute_reply.started": "2024-12-02T18:58:40.192484Z"
    }
   },
   "outputs": [],
   "source": [
    "Corr_Hierarchical_Presence_Matrix = pd.read_csv(\"./Presence_Matrices/Corr_Hierarchical_Presence_Matrix.csv\", index_col=0).astype(int)"
   ]
  },
  {
   "cell_type": "code",
   "execution_count": 280,
   "id": "fd922550-cdb3-4aa7-9405-a374cc7147f2",
   "metadata": {
    "execution": {
     "iopub.execute_input": "2024-12-02T18:58:40.335766Z",
     "iopub.status.busy": "2024-12-02T18:58:40.335590Z",
     "iopub.status.idle": "2024-12-02T18:58:40.404052Z",
     "shell.execute_reply": "2024-12-02T18:58:40.403226Z",
     "shell.execute_reply.started": "2024-12-02T18:58:40.335751Z"
    }
   },
   "outputs": [],
   "source": [
    "GENIE3_Gene_Presence_Matrix = pd.read_csv(\"./Presence_Matrices/GENIE3_Gene_Presence_Matrix.csv\", index_col=0).astype(int)"
   ]
  },
  {
   "cell_type": "code",
   "execution_count": 281,
   "id": "2d061244-7f01-484c-b8f5-0c6d2151a8bf",
   "metadata": {
    "execution": {
     "iopub.execute_input": "2024-12-02T18:58:40.494849Z",
     "iopub.status.busy": "2024-12-02T18:58:40.494545Z",
     "iopub.status.idle": "2024-12-02T18:58:40.538625Z",
     "shell.execute_reply": "2024-12-02T18:58:40.537780Z",
     "shell.execute_reply.started": "2024-12-02T18:58:40.494818Z"
    }
   },
   "outputs": [],
   "source": [
    "WGCNA_Gene_Presence_Matrix = pd.read_csv(\"./Presence_Matrices/WGCNA_Gene_Presence_Matrix.csv\", index_col=0).astype(int)"
   ]
  },
  {
   "cell_type": "code",
   "execution_count": 282,
   "id": "b9c38966-8571-46c9-8625-b1635bd25453",
   "metadata": {
    "execution": {
     "iopub.execute_input": "2024-12-02T18:58:40.644285Z",
     "iopub.status.busy": "2024-12-02T18:58:40.644037Z",
     "iopub.status.idle": "2024-12-02T18:58:40.687812Z",
     "shell.execute_reply": "2024-12-02T18:58:40.687003Z",
     "shell.execute_reply.started": "2024-12-02T18:58:40.644270Z"
    }
   },
   "outputs": [],
   "source": [
    "FLAME_Gene_Presence_Matrix = pd.read_csv(\"./Presence_Matrices/FLAME_Gene_Presence_Matrix.csv\", index_col=0).astype(int)"
   ]
  },
  {
   "cell_type": "code",
   "execution_count": 283,
   "id": "17592f9f-8e5e-483b-8bf5-93e99a432823",
   "metadata": {
    "execution": {
     "iopub.execute_input": "2024-12-02T18:58:40.811752Z",
     "iopub.status.busy": "2024-12-02T18:58:40.811604Z",
     "iopub.status.idle": "2024-12-02T18:58:40.865817Z",
     "shell.execute_reply": "2024-12-02T18:58:40.864981Z",
     "shell.execute_reply.started": "2024-12-02T18:58:40.811736Z"
    }
   },
   "outputs": [],
   "source": [
    "QUBIC_Gene_Presence_Matrix = pd.read_csv(\"./Presence_Matrices/QUBIC_Gene_Presence_Matrix.csv\", index_col=0).astype(int)"
   ]
  },
  {
   "cell_type": "code",
   "execution_count": 284,
   "id": "b5747cee-6132-4654-a49d-2c0022b4e29a",
   "metadata": {
    "execution": {
     "iopub.execute_input": "2024-12-02T18:58:40.988477Z",
     "iopub.status.busy": "2024-12-02T18:58:40.988175Z",
     "iopub.status.idle": "2024-12-02T18:58:41.067211Z",
     "shell.execute_reply": "2024-12-02T18:58:41.066378Z",
     "shell.execute_reply.started": "2024-12-02T18:58:40.988446Z"
    }
   },
   "outputs": [],
   "source": [
    "ISA_Gene_Presence_Matrix = pd.read_csv(\"./Presence_Matrices/ISA_Gene_Presence_Matrix.csv\", index_col=0).astype(int)"
   ]
  },
  {
   "cell_type": "code",
   "execution_count": 285,
   "id": "64fe4f25-877b-4bd3-a0ba-9bd4257f057a",
   "metadata": {
    "execution": {
     "iopub.execute_input": "2024-12-02T18:58:41.205366Z",
     "iopub.status.busy": "2024-12-02T18:58:41.205121Z",
     "iopub.status.idle": "2024-12-02T18:58:41.237498Z",
     "shell.execute_reply": "2024-12-02T18:58:41.236729Z",
     "shell.execute_reply.started": "2024-12-02T18:58:41.205351Z"
    }
   },
   "outputs": [],
   "source": [
    "RegulonDB_Gene_Presence_Matrix = pd.read_csv(\"../Data/RegulonDB_TRN_C_and_S.csv\", index_col=0).astype(int)"
   ]
  },
  {
   "cell_type": "code",
   "execution_count": 286,
   "id": "a92a5eab-4a88-4bfd-8ec3-88d2213b3bc1",
   "metadata": {
    "execution": {
     "iopub.execute_input": "2024-12-02T18:58:41.504112Z",
     "iopub.status.busy": "2024-12-02T18:58:41.503963Z",
     "iopub.status.idle": "2024-12-02T18:58:41.512000Z",
     "shell.execute_reply": "2024-12-02T18:58:41.511283Z",
     "shell.execute_reply.started": "2024-12-02T18:58:41.504097Z"
    }
   },
   "outputs": [],
   "source": [
    "dataframes_dict = {\n",
    "    \"GENIE3_Gene_Presence_Matrix\": GENIE3_Gene_Presence_Matrix,\n",
    "    \"WGCNA_Gene_Presence_Matrix\": WGCNA_Gene_Presence_Matrix,\n",
    "    \"FLAME_Gene_Presence_Matrix\": FLAME_Gene_Presence_Matrix,\n",
    "    \"QUBIC_Gene_Presence_Matrix\": QUBIC_Gene_Presence_Matrix,\n",
    "    \"ISA_Gene_Presence_Matrix\": ISA_Gene_Presence_Matrix,\n",
    "    \"PCA_Gene_Presence_Matrix\": PCA_Gene_Presence_Matrix,\n",
    "    \"Incremental_PCA_Gene_Presence_Matrix\": Incremental_PCA_Gene_Presence_Matrix,\n",
    "    \"Independent_PCA_Gene_Presence_Matrix\": Independent_PCA_Gene_Presence_Matrix,\n",
    "    \"Sparse_Independent_PCA_Gene_Presence_Matrix\": Sparse_Independent_PCA_Gene_Presence_Matrix,\n",
    "    \"Fast_ICA_Gene_Presence_Matrix\": Fast_ICA_Gene_Presence_Matrix,\n",
    "    \"InfoMax_ICA_Gene_Presence_Matrix\": InfoMax_ICA_Gene_Presence_Matrix,\n",
    "    \"Picard_ICA_Gene_Presence_Matrix\": Picard_ICA_Gene_Presence_Matrix,\n",
    "    \"Sparse_ICA_Gene_Presence_Matrix\": Sparse_ICA_Gene_Presence_Matrix,\n",
    "    \"NMF_Gene_Presence_Matrix\": NMF_Gene_Presence_Matrix,\n",
    "    \"Factor_Analysis_Gene_Presence_Matrix\": Factor_Analysis_Gene_Presence_Matrix,\n",
    "    \"Dictionary_Learning_Gene_Presence_Matrix\": Dictionary_Learning_Gene_Presence_Matrix,\n",
    "    \"SparseCoder_Gene_Presence_Matrix\": SparseCoder_Gene_Presence_Matrix,\n",
    "    \"RegulonDB_Gene_Presence_Matrix\":RegulonDB_Gene_Presence_Matrix\n",
    "}"
   ]
  },
  {
   "cell_type": "code",
   "execution_count": 287,
   "id": "accde136-a405-4290-ba78-41fb5b388caf",
   "metadata": {
    "execution": {
     "iopub.execute_input": "2024-12-02T18:58:41.993760Z",
     "iopub.status.busy": "2024-12-02T18:58:41.993452Z",
     "iopub.status.idle": "2024-12-02T18:58:42.007852Z",
     "shell.execute_reply": "2024-12-02T18:58:42.007047Z",
     "shell.execute_reply.started": "2024-12-02T18:58:41.993729Z"
    }
   },
   "outputs": [],
   "source": [
    "import matplotlib.pyplot as plt\n",
    "import matplotlib.font_manager as fm\n",
    "import pandas as pd\n",
    "\n",
    "def plot_average_genes(dataframes_dict):\n",
    "    # Create a dictionary to store the average number of 1s for each dataframe\n",
    "    averages_dict = {}\n",
    "\n",
    "    # Iterate over the dictionary of DataFrames\n",
    "    for name, df in dataframes_dict.items():\n",
    "        # Calculate the average number of 1s in each column, then take the mean of those averages\n",
    "        average_ones = df.sum().mean()\n",
    "        averages_dict[name] = average_ones\n",
    "\n",
    "    # Convert the dictionary to a DataFrame for plotting\n",
    "    averages_df = pd.DataFrame.from_dict(averages_dict, orient='index', columns=['Average_Genes'])\n",
    "\n",
    "    # Clean up the index labels (remove \"_Presence_Matrix\" and replace \"_\" with \" \")\n",
    "    averages_df.index = averages_df.index.str.replace('_Gene_Presence_Matrix', '', regex=False).str.replace('_', ' ', regex=False)\n",
    "\n",
    "    # Separate the 'RegulonDB' row from the rest of the DataFrame for special handling\n",
    "    df_main = averages_df.drop('RegulonDB')\n",
    "    df_regulon = averages_df.loc[['RegulonDB']]\n",
    "\n",
    "    # Plotting\n",
    "    font_path = '/usr/share/fonts/truetype/msttcorefonts/Times_New_Roman.ttf'\n",
    "    font_prop = fm.FontProperties(fname=font_path)\n",
    "\n",
    "    # Create subplots with shared y-axis\n",
    "    fig, (ax, ax2) = plt.subplots(1, 2, figsize=(6, 2.3), gridspec_kw={'width_ratios': [len(df_main), 1]}, sharey=True)\n",
    "\n",
    "    # Plot for Average Genes for all rows except 'RegulonDB'\n",
    "    ax.bar(df_main.index, df_main['Average_Genes'], color='#f6cd82', label='Average Number of Genes in Components')\n",
    "\n",
    "    # Set the x-tick positions and labels for the main plot\n",
    "    ax.set_xticks(range(len(df_main.index)))\n",
    "    ax.set_xticklabels(df_main.index, fontproperties=font_prop, rotation=50, ha=\"right\")\n",
    "\n",
    "    # Apply the font to y-axis ticks for the main plot (with labels now displayed)\n",
    "    ax.yaxis.set_tick_params(labelsize=12)\n",
    "    for label in ax.get_yticklabels():\n",
    "        label.set_fontproperties(font_prop)\n",
    "    # Title (optional)\n",
    "    ax.set_title(\"\", fontproperties=font_prop)\n",
    "\n",
    "    # Remove grid lines for the main plot\n",
    "    ax.grid(False)\n",
    "\n",
    "    # Customize the spines for the main plot\n",
    "    for spine in ax.spines.values():\n",
    "        spine.set_linewidth(1)\n",
    "        spine.set_color('black')\n",
    "\n",
    "    # Add a legend to the main plot\n",
    "    ax.legend(prop=font_prop, fontsize=12)\n",
    "\n",
    "    # Plot the 'RegulonDB' bar in ax2, sharing the y-axis with ax\n",
    "    ax2.bar('RegulonDB Gene', df_regulon['Average_Genes'], color='#94c47d')\n",
    "\n",
    "    # Set the x-tick labels for 'RegulonDB' box with the appropriate font\n",
    "    ax2.set_xticks([0])\n",
    "    ax2.set_xticklabels(['RegulonDB'], fontproperties=font_prop, rotation=50, ha=\"center\")\n",
    "\n",
    "    # Customize the spines for the 'RegulonDB' box\n",
    "    for spine in ax2.spines.values():\n",
    "        spine.set_linewidth(1)\n",
    "        spine.set_color('black')\n",
    "\n",
    "    # Remove grid lines for 'RegulonDB' box\n",
    "    ax2.grid(False)\n",
    "\n",
    "    # Adjust layout for better fit and smaller gap between the plots\n",
    "    plt.subplots_adjust(wspace=0.05, left=0.1, right=0.9, top=0.9, bottom=0.3)\n",
    "\n",
    "    # Save and display the plot\n",
    "    plt.savefig('plot_average_genes.svg', format='svg')\n",
    "    plt.show()\n",
    "\n",
    "# Usage\n",
    "# Assuming the dataframes_dict is defined as you provided, you can call the function as:\n",
    "# plot_average_genes(dataframes_dict)\n"
   ]
  },
  {
   "cell_type": "code",
   "execution_count": 288,
   "id": "c7b68fda-0f15-41b1-ba2c-76b25f707676",
   "metadata": {
    "execution": {
     "iopub.execute_input": "2024-12-02T18:58:42.710629Z",
     "iopub.status.busy": "2024-12-02T18:58:42.710321Z",
     "iopub.status.idle": "2024-12-02T18:58:42.962067Z",
     "shell.execute_reply": "2024-12-02T18:58:42.961243Z",
     "shell.execute_reply.started": "2024-12-02T18:58:42.710599Z"
    }
   },
   "outputs": [
    {
     "data": {
      "image/png": "[encoded data removed]",
      "text/plain": [
       "<Figure size 600x230 with 2 Axes>"
      ]
     },
     "metadata": {},
     "output_type": "display_data"
    }
   ],
   "source": [
    "plot_average_genes(dataframes_dict)"
   ]
  },
  {
   "cell_type": "code",
   "execution_count": 289,
   "id": "7a2afabf-baf1-4b66-a207-956b497e9090",
   "metadata": {
    "execution": {
     "iopub.execute_input": "2024-12-02T18:58:45.714275Z",
     "iopub.status.busy": "2024-12-02T18:58:45.714074Z",
     "iopub.status.idle": "2024-12-02T18:58:45.722565Z",
     "shell.execute_reply": "2024-12-02T18:58:45.721871Z",
     "shell.execute_reply.started": "2024-12-02T18:58:45.714259Z"
    }
   },
   "outputs": [],
   "source": [
    "import matplotlib.pyplot as plt\n",
    "import matplotlib.font_manager as fm\n",
    "import pandas as pd\n",
    "\n",
    "def plot_gene_component_presence(dataframes_dict):\n",
    "    # Create a dictionary to store the average component presence for each DataFrame\n",
    "    gene_presence_dict = {}\n",
    "\n",
    "    # Iterate over the dictionary of DataFrames\n",
    "    for name, df in dataframes_dict.items():\n",
    "        # Sum along the rows to get the presence count of each gene across components\n",
    "        gene_presence = df.sum(axis=1).mean()\n",
    "        gene_presence_dict[name] = gene_presence\n",
    "\n",
    "    # Convert the dictionary to a DataFrame for plotting\n",
    "    presence_df = pd.DataFrame.from_dict(gene_presence_dict, orient='index', columns=['Gene_Component_Presence'])\n",
    "\n",
    "    # Clean up the index labels (remove \"_Presence_Matrix\" and replace \"_\" with \" \")\n",
    "    presence_df.index = presence_df.index.str.replace('_Gene_Presence_Matrix', '', regex=False).str.replace('_', ' ', regex=False)\n",
    "\n",
    "    # Separate the 'RegulonDB' row from the rest of the DataFrame for special handling\n",
    "    df_main = presence_df.drop('RegulonDB')\n",
    "    df_regulon = presence_df.loc[['RegulonDB']]\n",
    "\n",
    "    # Plotting\n",
    "    font_path = '/usr/share/fonts/truetype/msttcorefonts/Times_New_Roman.ttf'\n",
    "    font_prop = fm.FontProperties(fname=font_path)\n",
    "\n",
    "    # Create subplots with shared y-axis\n",
    "    fig, (ax, ax2) = plt.subplots(1, 2, figsize=(7, 2), gridspec_kw={'width_ratios': [len(df_main), 1]}, sharey=True)\n",
    "\n",
    "    # Plot for Gene Component Presence for all rows except 'RegulonDB'\n",
    "    ax.bar(df_main.index, df_main['Gene_Component_Presence'], color='#f6cd82', label='Average Component Presence per Gene')\n",
    "\n",
    "    # Set the x-tick positions and labels for the main plot\n",
    "    ax.set_xticks(range(len(df_main.index)))\n",
    "    ax.set_xticklabels(df_main.index, fontproperties=font_prop, rotation=45, ha=\"right\")\n",
    "\n",
    "    # Apply the font to y-axis ticks for the main plot (with labels now displayed)\n",
    "    ax.yaxis.set_tick_params(labelsize=12)\n",
    "    for label in ax.get_yticklabels():\n",
    "        label.set_fontproperties(font_prop)\n",
    "    # Title (optional)\n",
    "    ax.set_title(\"\", fontproperties=font_prop)\n",
    "\n",
    "    # Remove grid lines for the main plot\n",
    "    ax.grid(False)\n",
    "\n",
    "    # Customize the spines for the main plot\n",
    "    for spine in ax.spines.values():\n",
    "        spine.set_linewidth(1)\n",
    "        spine.set_color('black')\n",
    "\n",
    "    # Add a legend to the main plot\n",
    "    ax.legend(prop=font_prop, fontsize=12)\n",
    "\n",
    "    # Plot the 'RegulonDB' bar in ax2, sharing the y-axis with ax\n",
    "    ax2.bar('RegulonDB Gene', df_regulon['Gene_Component_Presence'], color='#94c47d')\n",
    "\n",
    "    # Set the x-tick labels for 'RegulonDB' box with the appropriate font\n",
    "    ax2.set_xticks([0])\n",
    "    ax2.set_xticklabels(['RegulonDB'], fontproperties=font_prop, rotation=45, ha=\"center\")\n",
    "\n",
    "    # Customize the spines for the 'RegulonDB' box\n",
    "    for spine in ax2.spines.values():\n",
    "        spine.set_linewidth(1)\n",
    "        spine.set_color('black')\n",
    "\n",
    "    # Remove grid lines for 'RegulonDB' box\n",
    "    ax2.grid(False)\n",
    "\n",
    "    # Adjust layout for better fit and smaller gap between the plots\n",
    "    plt.subplots_adjust(wspace=0.05, left=0.1, right=0.9, top=0.9, bottom=0.3)\n",
    "\n",
    "    # Save and display the plot\n",
    "    plt.savefig('gene_component_presence.svg', format='svg')\n",
    "    plt.show()"
   ]
  },
  {
   "cell_type": "code",
   "execution_count": 290,
   "id": "e30da810-2749-457e-88b9-0aac476754af",
   "metadata": {
    "execution": {
     "iopub.execute_input": "2024-12-02T18:58:46.384177Z",
     "iopub.status.busy": "2024-12-02T18:58:46.383893Z",
     "iopub.status.idle": "2024-12-02T18:58:46.625636Z",
     "shell.execute_reply": "2024-12-02T18:58:46.624864Z",
     "shell.execute_reply.started": "2024-12-02T18:58:46.384150Z"
    }
   },
   "outputs": [
    {
     "data": {
      "image/png": "[encoded data removed]",
      "text/plain": [
       "<Figure size 700x200 with 2 Axes>"
      ]
     },
     "metadata": {},
     "output_type": "display_data"
    }
   ],
   "source": [
    "plot_gene_component_presence(dataframes_dict)"
   ]
  },
  {
   "cell_type": "code",
   "execution_count": 294,
   "id": "c9bcd0b2-783c-4036-b7f6-3dcfb80cd793",
   "metadata": {
    "execution": {
     "iopub.execute_input": "2024-12-02T19:01:06.440761Z",
     "iopub.status.busy": "2024-12-02T19:01:06.440389Z",
     "iopub.status.idle": "2024-12-02T19:01:06.445221Z",
     "shell.execute_reply": "2024-12-02T19:01:06.444369Z",
     "shell.execute_reply.started": "2024-12-02T19:01:06.440728Z"
    }
   },
   "outputs": [],
   "source": [
    "def count_the_number_of_genes_covered(matrix):\n",
    "    return (matrix.sum(axis=1) > 0).sum()"
   ]
  },
  {
   "cell_type": "code",
   "execution_count": 296,
   "id": "449d3f61-fd77-4d8b-aa47-e72451593fcb",
   "metadata": {
    "execution": {
     "iopub.execute_input": "2024-12-02T19:01:18.535723Z",
     "iopub.status.busy": "2024-12-02T19:01:18.535386Z",
     "iopub.status.idle": "2024-12-02T19:01:18.542548Z",
     "shell.execute_reply": "2024-12-02T19:01:18.541751Z",
     "shell.execute_reply.started": "2024-12-02T19:01:18.535692Z"
    }
   },
   "outputs": [
    {
     "data": {
      "text/plain": [
       "2569"
      ]
     },
     "execution_count": 296,
     "metadata": {},
     "output_type": "execute_result"
    }
   ],
   "source": [
    "count_the_number_of_genes_covered(GENIE3_Gene_Presence_Matrix)"
   ]
  },
  {
   "cell_type": "code",
   "execution_count": 297,
   "id": "3cfc0892-c2c6-4516-a5cb-18d16a580235",
   "metadata": {
    "execution": {
     "iopub.execute_input": "2024-12-02T19:01:18.720648Z",
     "iopub.status.busy": "2024-12-02T19:01:18.720343Z",
     "iopub.status.idle": "2024-12-02T19:01:18.727013Z",
     "shell.execute_reply": "2024-12-02T19:01:18.726224Z",
     "shell.execute_reply.started": "2024-12-02T19:01:18.720618Z"
    }
   },
   "outputs": [
    {
     "data": {
      "text/plain": [
       "4257"
      ]
     },
     "execution_count": 297,
     "metadata": {},
     "output_type": "execute_result"
    }
   ],
   "source": [
    "count_the_number_of_genes_covered(WGCNA_Gene_Presence_Matrix)"
   ]
  },
  {
   "cell_type": "code",
   "execution_count": 298,
   "id": "abe9976b-1a39-42f0-ab40-09a4a7dcac35",
   "metadata": {
    "execution": {
     "iopub.execute_input": "2024-12-02T19:01:19.104003Z",
     "iopub.status.busy": "2024-12-02T19:01:19.103695Z",
     "iopub.status.idle": "2024-12-02T19:01:19.110259Z",
     "shell.execute_reply": "2024-12-02T19:01:19.109478Z",
     "shell.execute_reply.started": "2024-12-02T19:01:19.103973Z"
    }
   },
   "outputs": [
    {
     "data": {
      "text/plain": [
       "3076"
      ]
     },
     "execution_count": 298,
     "metadata": {},
     "output_type": "execute_result"
    }
   ],
   "source": [
    "count_the_number_of_genes_covered(FLAME_Gene_Presence_Matrix)"
   ]
  },
  {
   "cell_type": "code",
   "execution_count": 300,
   "id": "27f12e31-36ca-48d6-9999-a4573bee3c4f",
   "metadata": {
    "execution": {
     "iopub.execute_input": "2024-12-02T19:01:53.952806Z",
     "iopub.status.busy": "2024-12-02T19:01:53.952442Z",
     "iopub.status.idle": "2024-12-02T19:01:53.959780Z",
     "shell.execute_reply": "2024-12-02T19:01:53.959131Z",
     "shell.execute_reply.started": "2024-12-02T19:01:53.952774Z"
    }
   },
   "outputs": [
    {
     "data": {
      "text/plain": [
       "1335"
      ]
     },
     "execution_count": 300,
     "metadata": {},
     "output_type": "execute_result"
    }
   ],
   "source": [
    "count_the_number_of_genes_covered(QUBIC_Gene_Presence_Matrix)"
   ]
  },
  {
   "cell_type": "code",
   "execution_count": 301,
   "id": "21e652e1-a28a-4d4a-80db-7da258d04049",
   "metadata": {
    "execution": {
     "iopub.execute_input": "2024-12-02T19:01:54.123658Z",
     "iopub.status.busy": "2024-12-02T19:01:54.123356Z",
     "iopub.status.idle": "2024-12-02T19:01:54.130237Z",
     "shell.execute_reply": "2024-12-02T19:01:54.129446Z",
     "shell.execute_reply.started": "2024-12-02T19:01:54.123628Z"
    }
   },
   "outputs": [
    {
     "data": {
      "text/plain": [
       "2803"
      ]
     },
     "execution_count": 301,
     "metadata": {},
     "output_type": "execute_result"
    }
   ],
   "source": [
    "count_the_number_of_genes_covered(ISA_Gene_Presence_Matrix)"
   ]
  },
  {
   "cell_type": "code",
   "execution_count": 302,
   "id": "f7b1e8db-dc8e-4fdf-9ef2-9f24a2564dd6",
   "metadata": {
    "execution": {
     "iopub.execute_input": "2024-12-02T19:02:09.791038Z",
     "iopub.status.busy": "2024-12-02T19:02:09.790670Z",
     "iopub.status.idle": "2024-12-02T19:02:09.798365Z",
     "shell.execute_reply": "2024-12-02T19:02:09.797562Z",
     "shell.execute_reply.started": "2024-12-02T19:02:09.791006Z"
    }
   },
   "outputs": [
    {
     "data": {
      "text/plain": [
       "4042"
      ]
     },
     "execution_count": 302,
     "metadata": {},
     "output_type": "execute_result"
    }
   ],
   "source": [
    "count_the_number_of_genes_covered(PCA_Gene_Presence_Matrix)"
   ]
  },
  {
   "cell_type": "code",
   "execution_count": 299,
   "id": "537998da-6196-4183-8154-e3ae8b5302d3",
   "metadata": {
    "execution": {
     "iopub.execute_input": "2024-12-02T19:01:34.983481Z",
     "iopub.status.busy": "2024-12-02T19:01:34.983119Z",
     "iopub.status.idle": "2024-12-02T19:01:34.990683Z",
     "shell.execute_reply": "2024-12-02T19:01:34.989872Z",
     "shell.execute_reply.started": "2024-12-02T19:01:34.983449Z"
    }
   },
   "outputs": [
    {
     "data": {
      "text/plain": [
       "2253"
      ]
     },
     "execution_count": 299,
     "metadata": {},
     "output_type": "execute_result"
    }
   ],
   "source": [
    "count_the_number_of_genes_covered(Fast_ICA_Gene_Presence_Matrix)"
   ]
  },
  {
   "cell_type": "code",
   "execution_count": 131,
   "id": "8c7c2df9-c127-42d3-b290-ac4f5db7aed9",
   "metadata": {
    "execution": {
     "iopub.execute_input": "2024-10-22T16:00:39.346113Z",
     "iopub.status.busy": "2024-10-22T16:00:39.345952Z",
     "iopub.status.idle": "2024-10-22T16:00:39.350729Z",
     "shell.execute_reply": "2024-10-22T16:00:39.350193Z",
     "shell.execute_reply.started": "2024-10-22T16:00:39.346100Z"
    }
   },
   "outputs": [],
   "source": [
    "import matplotlib.pyplot as plt\n",
    "import pandas as pd\n",
    "\n",
    "def plot_component_distribution(df):\n",
    "    \"\"\"\n",
    "    Plots the distribution of the number of components that a gene is present in.\n",
    "\n",
    "    Parameters:\n",
    "        df (pd.DataFrame): DataFrame with components as columns, \n",
    "                           genes as rows, and 1/0 values indicating presence/absence.\n",
    "    \"\"\"\n",
    "    # Sum across the rows to get the number of components each gene is present in\n",
    "    component_counts = df.sum(axis=1)\n",
    "\n",
    "    # Get the frequency distribution of these counts\n",
    "    frequency_distribution = component_counts.value_counts().sort_index()\n",
    "\n",
    "    # Plotting\n",
    "    fig, ax = plt.subplots(figsize=(10, 3))\n",
    "\n",
    "    ax.bar(frequency_distribution.index, frequency_distribution.values, color='#4c72b0')\n",
    "\n",
    "    # Set x and y labels\n",
    "    ax.set_xlabel('Number of Components a Gene is Present In', fontsize=12)\n",
    "    ax.set_ylabel('Frequency of Genes', fontsize=12)\n",
    "    ax.set_title('Distribution of Genes across Components', fontsize=14)\n",
    "\n",
    "    # Set x-ticks to be integer values only\n",
    "    ax.set_xticks(frequency_distribution.index)\n",
    "\n",
    "    # Customize the spines\n",
    "    for spine in ax.spines.values():\n",
    "        spine.set_linewidth(1)\n",
    "        spine.set_color('black')\n",
    "\n",
    "    # Adjust layout\n",
    "    plt.tight_layout()\n",
    "\n",
    "    plt.show()"
   ]
  },
  {
   "cell_type": "code",
   "execution_count": 132,
   "id": "e444e2b4-5598-4247-ab9f-abf242fad649",
   "metadata": {
    "execution": {
     "iopub.execute_input": "2024-10-22T16:00:39.478185Z",
     "iopub.status.busy": "2024-10-22T16:00:39.477873Z",
     "iopub.status.idle": "2024-10-22T16:00:39.696381Z",
     "shell.execute_reply": "2024-10-22T16:00:39.695884Z",
     "shell.execute_reply.started": "2024-10-22T16:00:39.478155Z"
    }
   },
   "outputs": [
    {
     "data": {
      "image/png": "[encoded data removed]",
      "text/plain": [
       "<Figure size 1000x300 with 1 Axes>"
      ]
     },
     "metadata": {},
     "output_type": "display_data"
    }
   ],
   "source": [
    "plot_component_distribution(GENIE3_Gene_Presence_Matrix)"
   ]
  },
  {
   "cell_type": "code",
   "execution_count": 133,
   "id": "af1cb7e3-8568-4226-9fb3-9b6873607ca6",
   "metadata": {
    "execution": {
     "iopub.execute_input": "2024-10-22T16:00:40.597331Z",
     "iopub.status.busy": "2024-10-22T16:00:40.597191Z",
     "iopub.status.idle": "2024-10-22T16:00:40.684141Z",
     "shell.execute_reply": "2024-10-22T16:00:40.683683Z",
     "shell.execute_reply.started": "2024-10-22T16:00:40.597318Z"
    }
   },
   "outputs": [
    {
     "data": {
      "image/png": "[encoded data removed]",
      "text/plain": [
       "<Figure size 1000x300 with 1 Axes>"
      ]
     },
     "metadata": {},
     "output_type": "display_data"
    }
   ],
   "source": [
    "plot_component_distribution(Biclustering_Gene_Presence_Matrix)"
   ]
  },
  {
   "cell_type": "code",
   "execution_count": 134,
   "id": "cdc92865-4dd3-4be9-bfe3-896462425ef2",
   "metadata": {
    "execution": {
     "iopub.execute_input": "2024-10-22T16:00:41.150276Z",
     "iopub.status.busy": "2024-10-22T16:00:41.149936Z",
     "iopub.status.idle": "2024-10-22T16:00:41.221978Z",
     "shell.execute_reply": "2024-10-22T16:00:41.221524Z",
     "shell.execute_reply.started": "2024-10-22T16:00:41.150249Z"
    }
   },
   "outputs": [
    {
     "data": {
      "image/png": "[encoded data removed]",
      "text/plain": [
       "<Figure size 1000x300 with 1 Axes>"
      ]
     },
     "metadata": {},
     "output_type": "display_data"
    }
   ],
   "source": [
    "plot_component_distribution(Corr_Hierarchical_Presence_Matrix)"
   ]
  },
  {
   "cell_type": "code",
   "execution_count": 135,
   "id": "a93b80ef-4db9-4b73-81f1-8718ab074ac0",
   "metadata": {
    "execution": {
     "iopub.execute_input": "2024-10-22T16:00:46.738438Z",
     "iopub.status.busy": "2024-10-22T16:00:46.738264Z",
     "iopub.status.idle": "2024-10-22T16:00:46.834376Z",
     "shell.execute_reply": "2024-10-22T16:00:46.833692Z",
     "shell.execute_reply.started": "2024-10-22T16:00:46.738423Z"
    }
   },
   "outputs": [
    {
     "data": {
      "image/png": "[encoded data removed]",
      "text/plain": [
       "<Figure size 1000x300 with 1 Axes>"
      ]
     },
     "metadata": {},
     "output_type": "display_data"
    }
   ],
   "source": [
    "plot_component_distribution(Fast_ICA_Gene_Presence_Matrix)"
   ]
  },
  {
   "cell_type": "code",
   "execution_count": 136,
   "id": "f6eb6ccc-adaa-43dc-9b03-c0e25a79d4f8",
   "metadata": {
    "execution": {
     "iopub.execute_input": "2024-10-22T16:02:06.937608Z",
     "iopub.status.busy": "2024-10-22T16:02:06.937409Z",
     "iopub.status.idle": "2024-10-22T16:02:07.182855Z",
     "shell.execute_reply": "2024-10-22T16:02:07.182299Z",
     "shell.execute_reply.started": "2024-10-22T16:02:06.937593Z"
    }
   },
   "outputs": [
    {
     "data": {
      "image/png": "[encoded data removed]",
      "text/plain": [
       "<Figure size 1000x300 with 1 Axes>"
      ]
     },
     "metadata": {},
     "output_type": "display_data"
    }
   ],
   "source": [
    "plot_component_distribution(Sparse_Independent_PCA_Gene_Presence_Matrix)"
   ]
  }
 ],
 "metadata": {
  "kernelspec": {
   "display_name": "Python [conda env:miniconda3-modulome]",
   "language": "python",
   "name": "conda-env-miniconda3-modulome-py"
  },
  "language_info": {
   "codemirror_mode": {
    "name": "ipython",
    "version": 3
   },
   "file_extension": ".py",
   "mimetype": "text/x-python",
   "name": "python",
   "nbconvert_exporter": "python",
   "pygments_lexer": "ipython3",
   "version": "3.7.12"
  }
 },
 "nbformat": 4,
 "nbformat_minor": 5
}
