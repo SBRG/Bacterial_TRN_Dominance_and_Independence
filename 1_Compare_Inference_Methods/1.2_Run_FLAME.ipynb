{
 "cells": [
  {
   "cell_type": "code",
   "execution_count": 166,
   "metadata": {
    "execution": {
     "iopub.execute_input": "2024-11-30T03:46:11.193321Z",
     "iopub.status.busy": "2024-11-30T03:46:11.193086Z",
     "iopub.status.idle": "2024-11-30T03:46:11.198034Z",
     "shell.execute_reply": "2024-11-30T03:46:11.197434Z",
     "shell.execute_reply.started": "2024-11-30T03:46:11.193301Z"
    }
   },
   "outputs": [],
   "source": [
    "import pandas as pd\n",
    "import matplotlib.pyplot as plt\n",
    "%matplotlib inline\n",
    "import seaborn as sns\n",
    "from sklearn import datasets\n",
    "import numpy as np"
   ]
  },
  {
   "cell_type": "code",
   "execution_count": 167,
   "metadata": {
    "execution": {
     "iopub.execute_input": "2024-11-30T03:46:11.396006Z",
     "iopub.status.busy": "2024-11-30T03:46:11.395765Z",
     "iopub.status.idle": "2024-11-30T03:46:11.868153Z",
     "shell.execute_reply": "2024-11-30T03:46:11.867293Z",
     "shell.execute_reply.started": "2024-11-30T03:46:11.395987Z"
    }
   },
   "outputs": [],
   "source": [
    "P1K_X = pd.read_csv('../Data/P1K_X.csv', index_col=0)"
   ]
  },
  {
   "cell_type": "code",
   "execution_count": 168,
   "metadata": {
    "execution": {
     "iopub.execute_input": "2024-11-30T03:46:11.869385Z",
     "iopub.status.busy": "2024-11-30T03:46:11.869230Z",
     "iopub.status.idle": "2024-11-30T03:46:11.874116Z",
     "shell.execute_reply": "2024-11-30T03:46:11.873550Z",
     "shell.execute_reply.started": "2024-11-30T03:46:11.869370Z"
    }
   },
   "outputs": [
    {
     "data": {
      "text/plain": [
       "array([[-5.39931400e-02,  5.39931400e-02,  8.79043050e-01, ...,\n",
       "        -1.55274772e+00, -1.89259848e+00, -1.83135889e+00],\n",
       "       [-6.19732545e-02,  6.19732545e-02,  1.06332988e+00, ...,\n",
       "        -2.06002163e+00, -2.34852392e+00, -2.12277220e+00],\n",
       "       [-3.69719740e-02,  3.69719740e-02,  3.13155700e-03, ...,\n",
       "        -1.57783331e+00, -1.38352066e+00, -1.52707855e+00],\n",
       "       ...,\n",
       "       [-3.95520480e-02,  3.95520480e-02, -1.29002115e+00, ...,\n",
       "        -5.34742325e-01,  3.94488833e-02, -5.13727915e-02],\n",
       "       [-2.35166160e-01,  2.35166160e-01,  2.62164861e+00, ...,\n",
       "         3.41394017e+00,  1.91451536e+00,  1.56451836e+00],\n",
       "       [ 3.64790109e-01, -3.64790108e-01, -1.58595380e+00, ...,\n",
       "        -5.94895968e-01, -6.02305536e-01,  9.14861341e-01]])"
      ]
     },
     "execution_count": 168,
     "metadata": {},
     "output_type": "execute_result"
    }
   ],
   "source": [
    "P1K_X.values"
   ]
  },
  {
   "cell_type": "code",
   "execution_count": 198,
   "metadata": {
    "collapsed": false,
    "execution": {
     "iopub.execute_input": "2024-11-30T03:47:09.876617Z",
     "iopub.status.busy": "2024-11-30T03:47:09.875937Z",
     "iopub.status.idle": "2024-11-30T03:47:11.165222Z",
     "shell.execute_reply": "2024-11-30T03:47:11.164678Z",
     "shell.execute_reply.started": "2024-11-30T03:47:09.876601Z"
    },
    "jupyter": {
     "outputs_hidden": false
    }
   },
   "outputs": [],
   "source": [
    "from FLAME import FLAME\n",
    "clusterer = FLAME(cluster_neighbors=3, iteration_neighbors=3, verbose=0)\n",
    "clusterer = clusterer.fit(P1K_X.values)\n",
    "pred = clusterer.labels_"
   ]
  },
  {
   "cell_type": "code",
   "execution_count": 199,
   "metadata": {
    "execution": {
     "iopub.execute_input": "2024-11-30T03:47:11.166200Z",
     "iopub.status.busy": "2024-11-30T03:47:11.166056Z",
     "iopub.status.idle": "2024-11-30T03:47:11.169536Z",
     "shell.execute_reply": "2024-11-30T03:47:11.169194Z",
     "shell.execute_reply.started": "2024-11-30T03:47:11.166185Z"
    }
   },
   "outputs": [
    {
     "data": {
      "text/plain": [
       "4257"
      ]
     },
     "execution_count": 199,
     "metadata": {},
     "output_type": "execute_result"
    }
   ],
   "source": [
    "len(pred)"
   ]
  },
  {
   "cell_type": "code",
   "execution_count": 200,
   "metadata": {
    "execution": {
     "iopub.execute_input": "2024-11-30T03:47:11.170117Z",
     "iopub.status.busy": "2024-11-30T03:47:11.169998Z",
     "iopub.status.idle": "2024-11-30T03:47:11.179409Z",
     "shell.execute_reply": "2024-11-30T03:47:11.179024Z",
     "shell.execute_reply.started": "2024-11-30T03:47:11.170105Z"
    }
   },
   "outputs": [
    {
     "data": {
      "text/plain": [
       "198"
      ]
     },
     "execution_count": 200,
     "metadata": {},
     "output_type": "execute_result"
    }
   ],
   "source": [
    "pred.max()"
   ]
  },
  {
   "cell_type": "code",
   "execution_count": 201,
   "metadata": {
    "execution": {
     "iopub.execute_input": "2024-11-30T03:47:11.180426Z",
     "iopub.status.busy": "2024-11-30T03:47:11.180301Z",
     "iopub.status.idle": "2024-11-30T03:47:11.183263Z",
     "shell.execute_reply": "2024-11-30T03:47:11.182920Z",
     "shell.execute_reply.started": "2024-11-30T03:47:11.180414Z"
    }
   },
   "outputs": [
    {
     "data": {
      "text/plain": [
       "array([  0,   0, 132, ..., 145,  62, 100])"
      ]
     },
     "execution_count": 201,
     "metadata": {},
     "output_type": "execute_result"
    }
   ],
   "source": [
    "pred"
   ]
  },
  {
   "cell_type": "code",
   "execution_count": 202,
   "metadata": {
    "execution": {
     "iopub.execute_input": "2024-11-30T03:47:11.183814Z",
     "iopub.status.busy": "2024-11-30T03:47:11.183695Z",
     "iopub.status.idle": "2024-11-30T03:47:11.186076Z",
     "shell.execute_reply": "2024-11-30T03:47:11.185566Z",
     "shell.execute_reply.started": "2024-11-30T03:47:11.183802Z"
    }
   },
   "outputs": [],
   "source": [
    "gene_names = P1K_X.index"
   ]
  },
  {
   "cell_type": "code",
   "execution_count": 203,
   "metadata": {
    "execution": {
     "iopub.execute_input": "2024-11-30T03:47:11.187027Z",
     "iopub.status.busy": "2024-11-30T03:47:11.186907Z",
     "iopub.status.idle": "2024-11-30T03:47:11.334206Z",
     "shell.execute_reply": "2024-11-30T03:47:11.333781Z",
     "shell.execute_reply.started": "2024-11-30T03:47:11.187015Z"
    }
   },
   "outputs": [],
   "source": [
    "# Create a presence matrix\n",
    "unique_pred_values = np.unique(pred)\n",
    "FLAME_presence_matrix = pd.DataFrame(\n",
    "    0,\n",
    "    index=gene_names,\n",
    "    columns=unique_pred_values\n",
    ")\n",
    "\n",
    "# Fill the matrix with 1s for presence\n",
    "for i, gene in enumerate(gene_names):\n",
    "    FLAME_presence_matrix.loc[gene, pred[i]] = 1"
   ]
  },
  {
   "cell_type": "code",
   "execution_count": 204,
   "metadata": {
    "execution": {
     "iopub.execute_input": "2024-11-30T03:47:11.334775Z",
     "iopub.status.busy": "2024-11-30T03:47:11.334656Z",
     "iopub.status.idle": "2024-11-30T03:47:11.338009Z",
     "shell.execute_reply": "2024-11-30T03:47:11.337646Z",
     "shell.execute_reply.started": "2024-11-30T03:47:11.334764Z"
    }
   },
   "outputs": [],
   "source": [
    "FLAME_presence_matrix = FLAME_presence_matrix.drop(FLAME_presence_matrix.columns[0], axis=1)"
   ]
  },
  {
   "cell_type": "code",
   "execution_count": 205,
   "metadata": {
    "execution": {
     "iopub.execute_input": "2024-11-30T03:47:11.338598Z",
     "iopub.status.busy": "2024-11-30T03:47:11.338477Z",
     "iopub.status.idle": "2024-11-30T03:47:11.355743Z",
     "shell.execute_reply": "2024-11-30T03:47:11.355398Z",
     "shell.execute_reply.started": "2024-11-30T03:47:11.338586Z"
    }
   },
   "outputs": [
    {
     "data": {
      "text/html": [
       "<div>\n",
       "<style scoped>\n",
       "    .dataframe tbody tr th:only-of-type {\n",
       "        vertical-align: middle;\n",
       "    }\n",
       "\n",
       "    .dataframe tbody tr th {\n",
       "        vertical-align: top;\n",
       "    }\n",
       "\n",
       "    .dataframe thead th {\n",
       "        text-align: right;\n",
       "    }\n",
       "</style>\n",
       "<table border=\"1\" class=\"dataframe\">\n",
       "  <thead>\n",
       "    <tr style=\"text-align: right;\">\n",
       "      <th></th>\n",
       "      <th>0</th>\n",
       "      <th>1</th>\n",
       "      <th>2</th>\n",
       "      <th>3</th>\n",
       "      <th>4</th>\n",
       "      <th>5</th>\n",
       "      <th>6</th>\n",
       "      <th>7</th>\n",
       "      <th>8</th>\n",
       "      <th>9</th>\n",
       "      <th>...</th>\n",
       "      <th>189</th>\n",
       "      <th>190</th>\n",
       "      <th>191</th>\n",
       "      <th>192</th>\n",
       "      <th>193</th>\n",
       "      <th>194</th>\n",
       "      <th>195</th>\n",
       "      <th>196</th>\n",
       "      <th>197</th>\n",
       "      <th>198</th>\n",
       "    </tr>\n",
       "  </thead>\n",
       "  <tbody>\n",
       "    <tr>\n",
       "      <th>b0002</th>\n",
       "      <td>1</td>\n",
       "      <td>0</td>\n",
       "      <td>0</td>\n",
       "      <td>0</td>\n",
       "      <td>0</td>\n",
       "      <td>0</td>\n",
       "      <td>0</td>\n",
       "      <td>0</td>\n",
       "      <td>0</td>\n",
       "      <td>0</td>\n",
       "      <td>...</td>\n",
       "      <td>0</td>\n",
       "      <td>0</td>\n",
       "      <td>0</td>\n",
       "      <td>0</td>\n",
       "      <td>0</td>\n",
       "      <td>0</td>\n",
       "      <td>0</td>\n",
       "      <td>0</td>\n",
       "      <td>0</td>\n",
       "      <td>0</td>\n",
       "    </tr>\n",
       "    <tr>\n",
       "      <th>b0003</th>\n",
       "      <td>1</td>\n",
       "      <td>0</td>\n",
       "      <td>0</td>\n",
       "      <td>0</td>\n",
       "      <td>0</td>\n",
       "      <td>0</td>\n",
       "      <td>0</td>\n",
       "      <td>0</td>\n",
       "      <td>0</td>\n",
       "      <td>0</td>\n",
       "      <td>...</td>\n",
       "      <td>0</td>\n",
       "      <td>0</td>\n",
       "      <td>0</td>\n",
       "      <td>0</td>\n",
       "      <td>0</td>\n",
       "      <td>0</td>\n",
       "      <td>0</td>\n",
       "      <td>0</td>\n",
       "      <td>0</td>\n",
       "      <td>0</td>\n",
       "    </tr>\n",
       "    <tr>\n",
       "      <th>b0004</th>\n",
       "      <td>0</td>\n",
       "      <td>0</td>\n",
       "      <td>0</td>\n",
       "      <td>0</td>\n",
       "      <td>0</td>\n",
       "      <td>0</td>\n",
       "      <td>0</td>\n",
       "      <td>0</td>\n",
       "      <td>0</td>\n",
       "      <td>0</td>\n",
       "      <td>...</td>\n",
       "      <td>0</td>\n",
       "      <td>0</td>\n",
       "      <td>0</td>\n",
       "      <td>0</td>\n",
       "      <td>0</td>\n",
       "      <td>0</td>\n",
       "      <td>0</td>\n",
       "      <td>0</td>\n",
       "      <td>0</td>\n",
       "      <td>0</td>\n",
       "    </tr>\n",
       "    <tr>\n",
       "      <th>b0005</th>\n",
       "      <td>1</td>\n",
       "      <td>0</td>\n",
       "      <td>0</td>\n",
       "      <td>0</td>\n",
       "      <td>0</td>\n",
       "      <td>0</td>\n",
       "      <td>0</td>\n",
       "      <td>0</td>\n",
       "      <td>0</td>\n",
       "      <td>0</td>\n",
       "      <td>...</td>\n",
       "      <td>0</td>\n",
       "      <td>0</td>\n",
       "      <td>0</td>\n",
       "      <td>0</td>\n",
       "      <td>0</td>\n",
       "      <td>0</td>\n",
       "      <td>0</td>\n",
       "      <td>0</td>\n",
       "      <td>0</td>\n",
       "      <td>0</td>\n",
       "    </tr>\n",
       "    <tr>\n",
       "      <th>b0006</th>\n",
       "      <td>0</td>\n",
       "      <td>0</td>\n",
       "      <td>0</td>\n",
       "      <td>0</td>\n",
       "      <td>0</td>\n",
       "      <td>0</td>\n",
       "      <td>0</td>\n",
       "      <td>0</td>\n",
       "      <td>0</td>\n",
       "      <td>0</td>\n",
       "      <td>...</td>\n",
       "      <td>0</td>\n",
       "      <td>0</td>\n",
       "      <td>0</td>\n",
       "      <td>0</td>\n",
       "      <td>0</td>\n",
       "      <td>0</td>\n",
       "      <td>0</td>\n",
       "      <td>0</td>\n",
       "      <td>0</td>\n",
       "      <td>0</td>\n",
       "    </tr>\n",
       "    <tr>\n",
       "      <th>...</th>\n",
       "      <td>...</td>\n",
       "      <td>...</td>\n",
       "      <td>...</td>\n",
       "      <td>...</td>\n",
       "      <td>...</td>\n",
       "      <td>...</td>\n",
       "      <td>...</td>\n",
       "      <td>...</td>\n",
       "      <td>...</td>\n",
       "      <td>...</td>\n",
       "      <td>...</td>\n",
       "      <td>...</td>\n",
       "      <td>...</td>\n",
       "      <td>...</td>\n",
       "      <td>...</td>\n",
       "      <td>...</td>\n",
       "      <td>...</td>\n",
       "      <td>...</td>\n",
       "      <td>...</td>\n",
       "      <td>...</td>\n",
       "      <td>...</td>\n",
       "    </tr>\n",
       "    <tr>\n",
       "      <th>b4747</th>\n",
       "      <td>0</td>\n",
       "      <td>0</td>\n",
       "      <td>0</td>\n",
       "      <td>0</td>\n",
       "      <td>0</td>\n",
       "      <td>0</td>\n",
       "      <td>0</td>\n",
       "      <td>0</td>\n",
       "      <td>0</td>\n",
       "      <td>0</td>\n",
       "      <td>...</td>\n",
       "      <td>0</td>\n",
       "      <td>0</td>\n",
       "      <td>0</td>\n",
       "      <td>0</td>\n",
       "      <td>0</td>\n",
       "      <td>0</td>\n",
       "      <td>0</td>\n",
       "      <td>0</td>\n",
       "      <td>0</td>\n",
       "      <td>0</td>\n",
       "    </tr>\n",
       "    <tr>\n",
       "      <th>b4748</th>\n",
       "      <td>0</td>\n",
       "      <td>0</td>\n",
       "      <td>0</td>\n",
       "      <td>0</td>\n",
       "      <td>0</td>\n",
       "      <td>0</td>\n",
       "      <td>0</td>\n",
       "      <td>0</td>\n",
       "      <td>0</td>\n",
       "      <td>0</td>\n",
       "      <td>...</td>\n",
       "      <td>0</td>\n",
       "      <td>0</td>\n",
       "      <td>0</td>\n",
       "      <td>0</td>\n",
       "      <td>0</td>\n",
       "      <td>0</td>\n",
       "      <td>0</td>\n",
       "      <td>0</td>\n",
       "      <td>0</td>\n",
       "      <td>0</td>\n",
       "    </tr>\n",
       "    <tr>\n",
       "      <th>b4751</th>\n",
       "      <td>0</td>\n",
       "      <td>0</td>\n",
       "      <td>0</td>\n",
       "      <td>0</td>\n",
       "      <td>0</td>\n",
       "      <td>0</td>\n",
       "      <td>0</td>\n",
       "      <td>0</td>\n",
       "      <td>0</td>\n",
       "      <td>0</td>\n",
       "      <td>...</td>\n",
       "      <td>0</td>\n",
       "      <td>0</td>\n",
       "      <td>0</td>\n",
       "      <td>0</td>\n",
       "      <td>0</td>\n",
       "      <td>0</td>\n",
       "      <td>0</td>\n",
       "      <td>0</td>\n",
       "      <td>0</td>\n",
       "      <td>0</td>\n",
       "    </tr>\n",
       "    <tr>\n",
       "      <th>b4755</th>\n",
       "      <td>0</td>\n",
       "      <td>0</td>\n",
       "      <td>0</td>\n",
       "      <td>0</td>\n",
       "      <td>0</td>\n",
       "      <td>0</td>\n",
       "      <td>0</td>\n",
       "      <td>0</td>\n",
       "      <td>0</td>\n",
       "      <td>0</td>\n",
       "      <td>...</td>\n",
       "      <td>0</td>\n",
       "      <td>0</td>\n",
       "      <td>0</td>\n",
       "      <td>0</td>\n",
       "      <td>0</td>\n",
       "      <td>0</td>\n",
       "      <td>0</td>\n",
       "      <td>0</td>\n",
       "      <td>0</td>\n",
       "      <td>0</td>\n",
       "    </tr>\n",
       "    <tr>\n",
       "      <th>b4756</th>\n",
       "      <td>0</td>\n",
       "      <td>0</td>\n",
       "      <td>0</td>\n",
       "      <td>0</td>\n",
       "      <td>0</td>\n",
       "      <td>0</td>\n",
       "      <td>0</td>\n",
       "      <td>0</td>\n",
       "      <td>0</td>\n",
       "      <td>0</td>\n",
       "      <td>...</td>\n",
       "      <td>0</td>\n",
       "      <td>0</td>\n",
       "      <td>0</td>\n",
       "      <td>0</td>\n",
       "      <td>0</td>\n",
       "      <td>0</td>\n",
       "      <td>0</td>\n",
       "      <td>0</td>\n",
       "      <td>0</td>\n",
       "      <td>0</td>\n",
       "    </tr>\n",
       "  </tbody>\n",
       "</table>\n",
       "<p>4257 rows × 199 columns</p>\n",
       "</div>"
      ],
      "text/plain": [
       "       0    1    2    3    4    5    6    7    8    9    ...  189  190  191  \\\n",
       "b0002    1    0    0    0    0    0    0    0    0    0  ...    0    0    0   \n",
       "b0003    1    0    0    0    0    0    0    0    0    0  ...    0    0    0   \n",
       "b0004    0    0    0    0    0    0    0    0    0    0  ...    0    0    0   \n",
       "b0005    1    0    0    0    0    0    0    0    0    0  ...    0    0    0   \n",
       "b0006    0    0    0    0    0    0    0    0    0    0  ...    0    0    0   \n",
       "...    ...  ...  ...  ...  ...  ...  ...  ...  ...  ...  ...  ...  ...  ...   \n",
       "b4747    0    0    0    0    0    0    0    0    0    0  ...    0    0    0   \n",
       "b4748    0    0    0    0    0    0    0    0    0    0  ...    0    0    0   \n",
       "b4751    0    0    0    0    0    0    0    0    0    0  ...    0    0    0   \n",
       "b4755    0    0    0    0    0    0    0    0    0    0  ...    0    0    0   \n",
       "b4756    0    0    0    0    0    0    0    0    0    0  ...    0    0    0   \n",
       "\n",
       "       192  193  194  195  196  197  198  \n",
       "b0002    0    0    0    0    0    0    0  \n",
       "b0003    0    0    0    0    0    0    0  \n",
       "b0004    0    0    0    0    0    0    0  \n",
       "b0005    0    0    0    0    0    0    0  \n",
       "b0006    0    0    0    0    0    0    0  \n",
       "...    ...  ...  ...  ...  ...  ...  ...  \n",
       "b4747    0    0    0    0    0    0    0  \n",
       "b4748    0    0    0    0    0    0    0  \n",
       "b4751    0    0    0    0    0    0    0  \n",
       "b4755    0    0    0    0    0    0    0  \n",
       "b4756    0    0    0    0    0    0    0  \n",
       "\n",
       "[4257 rows x 199 columns]"
      ]
     },
     "execution_count": 205,
     "metadata": {},
     "output_type": "execute_result"
    }
   ],
   "source": [
    "FLAME_presence_matrix"
   ]
  },
  {
   "cell_type": "code",
   "execution_count": 212,
   "metadata": {
    "execution": {
     "iopub.execute_input": "2024-11-30T16:15:56.556546Z",
     "iopub.status.busy": "2024-11-30T16:15:56.556271Z",
     "iopub.status.idle": "2024-11-30T16:15:56.660117Z",
     "shell.execute_reply": "2024-11-30T16:15:56.659679Z",
     "shell.execute_reply.started": "2024-11-30T16:15:56.556518Z"
    }
   },
   "outputs": [
    {
     "data": {
      "image/png": "[encoded data removed]",
      "text/plain": [
       "<Figure size 800x600 with 1 Axes>"
      ]
     },
     "metadata": {},
     "output_type": "display_data"
    }
   ],
   "source": [
    "# Calculate the sum for each column\n",
    "column_sums = FLAME_presence_matrix.sum(axis=0)\n",
    "\n",
    "# Create a histogram for the distribution of column sums\n",
    "plt.figure(figsize=(8, 6))\n",
    "plt.hist(column_sums.values, bins=10, edgecolor=\"black\")\n",
    "plt.title(\"Distribution of Column Sums in FLAME Presence Matrix\")\n",
    "plt.xlabel(\"Sum of Presence (1s) in Columns\")\n",
    "plt.ylabel(\"Frequency\")\n",
    "plt.show()"
   ]
  },
  {
   "cell_type": "code",
   "execution_count": 213,
   "metadata": {
    "execution": {
     "iopub.execute_input": "2024-11-30T16:16:12.012615Z",
     "iopub.status.busy": "2024-11-30T16:16:12.012290Z",
     "iopub.status.idle": "2024-11-30T16:16:12.015837Z",
     "shell.execute_reply": "2024-11-30T16:16:12.015458Z",
     "shell.execute_reply.started": "2024-11-30T16:16:12.012587Z"
    }
   },
   "outputs": [],
   "source": [
    "new_column_names = [f\"Component_{i+1}\" for i in range(FLAME_presence_matrix.shape[1])]\n",
    "FLAME_presence_matrix.columns = new_column_names"
   ]
  },
  {
   "cell_type": "code",
   "execution_count": 214,
   "metadata": {
    "execution": {
     "iopub.execute_input": "2024-11-30T16:16:12.264948Z",
     "iopub.status.busy": "2024-11-30T16:16:12.264669Z",
     "iopub.status.idle": "2024-11-30T16:16:12.332695Z",
     "shell.execute_reply": "2024-11-30T16:16:12.332264Z",
     "shell.execute_reply.started": "2024-11-30T16:16:12.264921Z"
    }
   },
   "outputs": [],
   "source": [
    "FLAME_presence_matrix.to_csv('Presence_Matrices/FLAME_ICA_Gene_Presence_Matrix.csv')"
   ]
  },
  {
   "cell_type": "code",
   "execution_count": 215,
   "metadata": {
    "execution": {
     "iopub.execute_input": "2024-11-30T16:16:12.711376Z",
     "iopub.status.busy": "2024-11-30T16:16:12.711229Z",
     "iopub.status.idle": "2024-11-30T16:16:12.715901Z",
     "shell.execute_reply": "2024-11-30T16:16:12.715202Z",
     "shell.execute_reply.started": "2024-11-30T16:16:12.711362Z"
    }
   },
   "outputs": [
    {
     "name": "stdout",
     "output_type": "stream",
     "text": [
      "The number of genes present in at least one cluster is: 3076\n"
     ]
    }
   ],
   "source": [
    "def count_genes_in_clusters(matrix):\n",
    "    \"\"\"\n",
    "    Calculates how many of the genes are present in at least one cluster.\n",
    "\n",
    "    Args:\n",
    "    matrix (pd.DataFrame): The presence matrix with genes as rows and components as columns.\n",
    "\n",
    "    Returns:\n",
    "    int: Number of genes present in at least one cluster.\n",
    "    \"\"\"\n",
    "    # Check if any gene has a presence (1) in any of the clusters (columns)\n",
    "    genes_in_clusters = (matrix.sum(axis=1) > 0).sum()\n",
    "    return genes_in_clusters\n",
    "\n",
    "# Calculate the number of genes in any cluster for FLAME_presence_matrix\n",
    "genes_in_clusters_count = count_genes_in_clusters(FLAME_presence_matrix)\n",
    "\n",
    "print(f\"The number of genes present in at least one cluster is: {genes_in_clusters_count}\")"
   ]
  },
  {
   "cell_type": "code",
   "execution_count": null,
   "metadata": {},
   "outputs": [],
   "source": []
  }
 ],
 "metadata": {
  "kernelspec": {
   "display_name": "Python [conda env:modulome]",
   "language": "python",
   "name": "conda-env-modulome-py"
  },
  "language_info": {
   "codemirror_mode": {
    "name": "ipython",
    "version": 3
   },
   "file_extension": ".py",
   "mimetype": "text/x-python",
   "name": "python",
   "nbconvert_exporter": "python",
   "pygments_lexer": "ipython3",
   "version": "3.7.12"
  }
 },
 "nbformat": 4,
 "nbformat_minor": 4
}
