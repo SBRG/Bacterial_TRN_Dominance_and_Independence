{
 "cells": [
  {
   "cell_type": "markdown",
   "id": "6268bae2-0c1e-447e-ab18-47c537447eb8",
   "metadata": {},
   "source": [
    "# GENIE3"
   ]
  },
  {
   "cell_type": "code",
   "execution_count": 1,
   "id": "37d05012-f153-46d1-b981-4769a2029e16",
   "metadata": {
    "execution": {
     "iopub.execute_input": "2024-10-21T20:56:21.158440Z",
     "iopub.status.busy": "2024-10-21T20:56:21.157824Z",
     "iopub.status.idle": "2024-10-21T20:56:22.000425Z",
     "shell.execute_reply": "2024-10-21T20:56:21.999877Z",
     "shell.execute_reply.started": "2024-10-21T20:56:21.158405Z"
    }
   },
   "outputs": [],
   "source": [
    "from pathlib import Path\n",
    "import sys\n",
    "import os.path\n",
    "import matplotlib\n",
    "import matplotlib.pyplot as plt\n",
    "import numpy as np\n",
    "import pandas as pd\n",
    "from scipy.stats import f_oneway, gaussian_kde, mannwhitneyu, pearsonr, spearmanr\n",
    "import seaborn as sns\n",
    "from tqdm.notebook import tqdm\n",
    "from pymodulon.compare import compare_ica\n",
    "from pymodulon.core import IcaData\n",
    "from pymodulon.io import load_json_model, save_to_json\n",
    "from pymodulon.plotting import *\n",
    "\n",
    "import json\n",
    "\n",
    "from pymodulon.util import explained_variance\n",
    "from pymodulon.imodulondb import imdb_gene_presence\n",
    "\n",
    "%matplotlib inline\n",
    "%config  InlineBackend.figure_format = 'png'\n",
    "\n",
    "sns.set_style('whitegrid')"
   ]
  },
  {
   "cell_type": "code",
   "execution_count": 2,
   "id": "8b5af3bd-989a-43c3-9b9c-6548b9cf7169",
   "metadata": {
    "execution": {
     "iopub.execute_input": "2024-10-21T20:56:22.001374Z",
     "iopub.status.busy": "2024-10-21T20:56:22.001170Z",
     "iopub.status.idle": "2024-10-21T20:56:32.205603Z",
     "shell.execute_reply": "2024-10-21T20:56:32.204784Z",
     "shell.execute_reply.started": "2024-10-21T20:56:22.001358Z"
    }
   },
   "outputs": [],
   "source": [
    "precise1k = load_json_model('../Data/p1k.json.gz')"
   ]
  },
  {
   "cell_type": "markdown",
   "id": "5f4177c6-0862-45f9-92ec-340cad47d7cd",
   "metadata": {},
   "source": [
    "## Principal Component Analysis"
   ]
  },
  {
   "cell_type": "code",
   "execution_count": 3,
   "id": "481dd8e0-a6b5-4cd3-ae3a-3fc869beba40",
   "metadata": {
    "execution": {
     "iopub.execute_input": "2024-10-21T20:56:32.206435Z",
     "iopub.status.busy": "2024-10-21T20:56:32.206298Z",
     "iopub.status.idle": "2024-10-21T20:56:32.328789Z",
     "shell.execute_reply": "2024-10-21T20:56:32.327982Z",
     "shell.execute_reply.started": "2024-10-21T20:56:32.206421Z"
    }
   },
   "outputs": [],
   "source": [
    "components_GENIE3 = pd.read_csv('./Results/GENIE3/genie3_top250_regulon_matrix.csv', index_col=0)"
   ]
  },
  {
   "cell_type": "code",
   "execution_count": null,
   "id": "d4264c75-e22e-488d-ad86-16dde002ad0e",
   "metadata": {},
   "outputs": [],
   "source": []
  },
  {
   "cell_type": "code",
   "execution_count": 4,
   "id": "0fc0697d-1fd3-4f0a-8d01-261e717f91a7",
   "metadata": {
    "execution": {
     "iopub.execute_input": "2024-10-21T20:56:32.329641Z",
     "iopub.status.busy": "2024-10-21T20:56:32.329518Z",
     "iopub.status.idle": "2024-10-21T20:56:32.362347Z",
     "shell.execute_reply": "2024-10-21T20:56:32.361691Z",
     "shell.execute_reply.started": "2024-10-21T20:56:32.329628Z"
    }
   },
   "outputs": [],
   "source": [
    "activities_GENIE3 = pd.read_csv('./Results/PCA/A_PCA.csv', index_col=0).T"
   ]
  },
  {
   "cell_type": "code",
   "execution_count": 5,
   "id": "22b87e74-d1d2-489c-9dd6-878afff981ed",
   "metadata": {
    "execution": {
     "iopub.execute_input": "2024-10-21T20:56:32.363067Z",
     "iopub.status.busy": "2024-10-21T20:56:32.362948Z",
     "iopub.status.idle": "2024-10-21T20:56:32.366005Z",
     "shell.execute_reply": "2024-10-21T20:56:32.365363Z",
     "shell.execute_reply.started": "2024-10-21T20:56:32.363054Z"
    }
   },
   "outputs": [],
   "source": [
    "components_GENIE3.columns = activities_GENIE3.index"
   ]
  },
  {
   "cell_type": "code",
   "execution_count": 6,
   "id": "856b78f8-b586-4dcf-9069-7b0ed8d06091",
   "metadata": {
    "execution": {
     "iopub.execute_input": "2024-10-21T20:56:32.367902Z",
     "iopub.status.busy": "2024-10-21T20:56:32.367769Z",
     "iopub.status.idle": "2024-10-21T20:56:32.383154Z",
     "shell.execute_reply": "2024-10-21T20:56:32.382631Z",
     "shell.execute_reply.started": "2024-10-21T20:56:32.367888Z"
    }
   },
   "outputs": [
    {
     "data": {
      "text/html": [
       "<div>\n",
       "<style scoped>\n",
       "    .dataframe tbody tr th:only-of-type {\n",
       "        vertical-align: middle;\n",
       "    }\n",
       "\n",
       "    .dataframe tbody tr th {\n",
       "        vertical-align: top;\n",
       "    }\n",
       "\n",
       "    .dataframe thead th {\n",
       "        text-align: right;\n",
       "    }\n",
       "</style>\n",
       "<table border=\"1\" class=\"dataframe\">\n",
       "  <thead>\n",
       "    <tr style=\"text-align: right;\">\n",
       "      <th></th>\n",
       "      <th>p1k_00001</th>\n",
       "      <th>p1k_00002</th>\n",
       "      <th>p1k_00003</th>\n",
       "      <th>p1k_00004</th>\n",
       "      <th>p1k_00005</th>\n",
       "      <th>p1k_00006</th>\n",
       "      <th>p1k_00007</th>\n",
       "      <th>p1k_00008</th>\n",
       "      <th>p1k_00009</th>\n",
       "      <th>p1k_00010</th>\n",
       "      <th>...</th>\n",
       "      <th>p1k_01046</th>\n",
       "      <th>p1k_01047</th>\n",
       "      <th>p1k_01048</th>\n",
       "      <th>p1k_01049</th>\n",
       "      <th>p1k_01050</th>\n",
       "      <th>p1k_01051</th>\n",
       "      <th>p1k_01052</th>\n",
       "      <th>p1k_01053</th>\n",
       "      <th>p1k_01054</th>\n",
       "      <th>p1k_01055</th>\n",
       "    </tr>\n",
       "  </thead>\n",
       "  <tbody>\n",
       "    <tr>\n",
       "      <th>Component_1</th>\n",
       "      <td>-0.000796</td>\n",
       "      <td>0.000796</td>\n",
       "      <td>-0.009932</td>\n",
       "      <td>-0.011762</td>\n",
       "      <td>-0.004834</td>\n",
       "      <td>-0.005275</td>\n",
       "      <td>-0.009730</td>\n",
       "      <td>-0.008994</td>\n",
       "      <td>-0.004250</td>\n",
       "      <td>-0.004251</td>\n",
       "      <td>...</td>\n",
       "      <td>-0.024665</td>\n",
       "      <td>-0.032701</td>\n",
       "      <td>-0.031739</td>\n",
       "      <td>-0.032275</td>\n",
       "      <td>-0.028228</td>\n",
       "      <td>-0.028110</td>\n",
       "      <td>-0.017707</td>\n",
       "      <td>-0.028397</td>\n",
       "      <td>-0.029349</td>\n",
       "      <td>-0.028413</td>\n",
       "    </tr>\n",
       "    <tr>\n",
       "      <th>Component_2</th>\n",
       "      <td>0.000340</td>\n",
       "      <td>-0.000340</td>\n",
       "      <td>0.032579</td>\n",
       "      <td>0.034095</td>\n",
       "      <td>0.003090</td>\n",
       "      <td>0.003045</td>\n",
       "      <td>0.032615</td>\n",
       "      <td>0.029976</td>\n",
       "      <td>0.005862</td>\n",
       "      <td>0.007157</td>\n",
       "      <td>...</td>\n",
       "      <td>-0.009067</td>\n",
       "      <td>0.019883</td>\n",
       "      <td>0.020178</td>\n",
       "      <td>0.020062</td>\n",
       "      <td>0.017391</td>\n",
       "      <td>0.018562</td>\n",
       "      <td>0.014461</td>\n",
       "      <td>0.067900</td>\n",
       "      <td>0.059982</td>\n",
       "      <td>0.057965</td>\n",
       "    </tr>\n",
       "    <tr>\n",
       "      <th>Component_3</th>\n",
       "      <td>0.000428</td>\n",
       "      <td>-0.000428</td>\n",
       "      <td>-0.025548</td>\n",
       "      <td>-0.028039</td>\n",
       "      <td>-0.003330</td>\n",
       "      <td>-0.002797</td>\n",
       "      <td>-0.024140</td>\n",
       "      <td>-0.024606</td>\n",
       "      <td>-0.007185</td>\n",
       "      <td>-0.007997</td>\n",
       "      <td>...</td>\n",
       "      <td>0.001653</td>\n",
       "      <td>-0.000951</td>\n",
       "      <td>-0.000218</td>\n",
       "      <td>-0.000471</td>\n",
       "      <td>-0.001364</td>\n",
       "      <td>-0.002057</td>\n",
       "      <td>-0.009706</td>\n",
       "      <td>-0.020753</td>\n",
       "      <td>-0.019695</td>\n",
       "      <td>-0.015142</td>\n",
       "    </tr>\n",
       "    <tr>\n",
       "      <th>Component_4</th>\n",
       "      <td>-0.000026</td>\n",
       "      <td>0.000026</td>\n",
       "      <td>-0.022460</td>\n",
       "      <td>-0.023100</td>\n",
       "      <td>0.006338</td>\n",
       "      <td>0.007627</td>\n",
       "      <td>-0.021889</td>\n",
       "      <td>-0.017520</td>\n",
       "      <td>0.005531</td>\n",
       "      <td>0.004391</td>\n",
       "      <td>...</td>\n",
       "      <td>0.046154</td>\n",
       "      <td>0.061455</td>\n",
       "      <td>0.064692</td>\n",
       "      <td>0.060869</td>\n",
       "      <td>0.068568</td>\n",
       "      <td>0.068627</td>\n",
       "      <td>0.024516</td>\n",
       "      <td>0.046473</td>\n",
       "      <td>0.066673</td>\n",
       "      <td>0.057466</td>\n",
       "    </tr>\n",
       "    <tr>\n",
       "      <th>Component_5</th>\n",
       "      <td>0.000122</td>\n",
       "      <td>-0.000122</td>\n",
       "      <td>0.020359</td>\n",
       "      <td>0.024101</td>\n",
       "      <td>-0.008346</td>\n",
       "      <td>-0.010845</td>\n",
       "      <td>0.024425</td>\n",
       "      <td>0.024194</td>\n",
       "      <td>0.001842</td>\n",
       "      <td>0.003221</td>\n",
       "      <td>...</td>\n",
       "      <td>-0.014840</td>\n",
       "      <td>-0.026451</td>\n",
       "      <td>-0.024957</td>\n",
       "      <td>-0.025923</td>\n",
       "      <td>-0.017571</td>\n",
       "      <td>-0.016351</td>\n",
       "      <td>0.011342</td>\n",
       "      <td>-0.002116</td>\n",
       "      <td>-0.001529</td>\n",
       "      <td>0.001051</td>\n",
       "    </tr>\n",
       "    <tr>\n",
       "      <th>...</th>\n",
       "      <td>...</td>\n",
       "      <td>...</td>\n",
       "      <td>...</td>\n",
       "      <td>...</td>\n",
       "      <td>...</td>\n",
       "      <td>...</td>\n",
       "      <td>...</td>\n",
       "      <td>...</td>\n",
       "      <td>...</td>\n",
       "      <td>...</td>\n",
       "      <td>...</td>\n",
       "      <td>...</td>\n",
       "      <td>...</td>\n",
       "      <td>...</td>\n",
       "      <td>...</td>\n",
       "      <td>...</td>\n",
       "      <td>...</td>\n",
       "      <td>...</td>\n",
       "      <td>...</td>\n",
       "      <td>...</td>\n",
       "      <td>...</td>\n",
       "    </tr>\n",
       "    <tr>\n",
       "      <th>Component_246</th>\n",
       "      <td>0.002403</td>\n",
       "      <td>-0.002403</td>\n",
       "      <td>-0.009581</td>\n",
       "      <td>0.007558</td>\n",
       "      <td>0.029961</td>\n",
       "      <td>0.045749</td>\n",
       "      <td>0.009189</td>\n",
       "      <td>0.026739</td>\n",
       "      <td>0.014043</td>\n",
       "      <td>-0.020146</td>\n",
       "      <td>...</td>\n",
       "      <td>0.010333</td>\n",
       "      <td>0.042124</td>\n",
       "      <td>0.026685</td>\n",
       "      <td>-0.078522</td>\n",
       "      <td>-0.010899</td>\n",
       "      <td>-0.022550</td>\n",
       "      <td>0.043597</td>\n",
       "      <td>0.038264</td>\n",
       "      <td>-0.026933</td>\n",
       "      <td>0.021084</td>\n",
       "    </tr>\n",
       "    <tr>\n",
       "      <th>Component_247</th>\n",
       "      <td>0.018227</td>\n",
       "      <td>-0.018227</td>\n",
       "      <td>-0.003811</td>\n",
       "      <td>-0.018609</td>\n",
       "      <td>0.016571</td>\n",
       "      <td>-0.009261</td>\n",
       "      <td>0.019573</td>\n",
       "      <td>0.004479</td>\n",
       "      <td>0.030027</td>\n",
       "      <td>0.039885</td>\n",
       "      <td>...</td>\n",
       "      <td>0.052473</td>\n",
       "      <td>-0.007073</td>\n",
       "      <td>0.032239</td>\n",
       "      <td>0.003937</td>\n",
       "      <td>-0.040311</td>\n",
       "      <td>-0.016154</td>\n",
       "      <td>0.030262</td>\n",
       "      <td>0.070465</td>\n",
       "      <td>0.041169</td>\n",
       "      <td>0.017018</td>\n",
       "    </tr>\n",
       "    <tr>\n",
       "      <th>Component_248</th>\n",
       "      <td>0.017610</td>\n",
       "      <td>-0.017610</td>\n",
       "      <td>-0.019091</td>\n",
       "      <td>-0.043341</td>\n",
       "      <td>-0.064804</td>\n",
       "      <td>-0.066699</td>\n",
       "      <td>0.074716</td>\n",
       "      <td>0.030099</td>\n",
       "      <td>0.033713</td>\n",
       "      <td>0.082203</td>\n",
       "      <td>...</td>\n",
       "      <td>-0.036537</td>\n",
       "      <td>-0.021847</td>\n",
       "      <td>0.097845</td>\n",
       "      <td>-0.112593</td>\n",
       "      <td>0.014330</td>\n",
       "      <td>0.026513</td>\n",
       "      <td>-0.014223</td>\n",
       "      <td>-0.022293</td>\n",
       "      <td>-0.028344</td>\n",
       "      <td>-0.006859</td>\n",
       "    </tr>\n",
       "    <tr>\n",
       "      <th>Component_249</th>\n",
       "      <td>0.016306</td>\n",
       "      <td>-0.016306</td>\n",
       "      <td>-0.049227</td>\n",
       "      <td>0.014516</td>\n",
       "      <td>-0.008886</td>\n",
       "      <td>-0.017670</td>\n",
       "      <td>-0.028651</td>\n",
       "      <td>-0.010584</td>\n",
       "      <td>0.020709</td>\n",
       "      <td>0.022158</td>\n",
       "      <td>...</td>\n",
       "      <td>-0.003203</td>\n",
       "      <td>-0.015069</td>\n",
       "      <td>-0.001256</td>\n",
       "      <td>0.045928</td>\n",
       "      <td>-0.027366</td>\n",
       "      <td>-0.041236</td>\n",
       "      <td>-0.046568</td>\n",
       "      <td>-0.080595</td>\n",
       "      <td>-0.083178</td>\n",
       "      <td>-0.080711</td>\n",
       "    </tr>\n",
       "    <tr>\n",
       "      <th>Component_250</th>\n",
       "      <td>0.018758</td>\n",
       "      <td>-0.018758</td>\n",
       "      <td>0.010971</td>\n",
       "      <td>0.026695</td>\n",
       "      <td>0.017927</td>\n",
       "      <td>0.042670</td>\n",
       "      <td>-0.033900</td>\n",
       "      <td>-0.012095</td>\n",
       "      <td>-0.005799</td>\n",
       "      <td>0.013566</td>\n",
       "      <td>...</td>\n",
       "      <td>-0.036299</td>\n",
       "      <td>-0.018864</td>\n",
       "      <td>-0.029165</td>\n",
       "      <td>-0.033263</td>\n",
       "      <td>0.016055</td>\n",
       "      <td>0.010693</td>\n",
       "      <td>0.017387</td>\n",
       "      <td>0.044455</td>\n",
       "      <td>0.012622</td>\n",
       "      <td>0.028845</td>\n",
       "    </tr>\n",
       "  </tbody>\n",
       "</table>\n",
       "<p>250 rows × 1035 columns</p>\n",
       "</div>"
      ],
      "text/plain": [
       "               p1k_00001  p1k_00002  p1k_00003  p1k_00004  p1k_00005  \\\n",
       "Component_1    -0.000796   0.000796  -0.009932  -0.011762  -0.004834   \n",
       "Component_2     0.000340  -0.000340   0.032579   0.034095   0.003090   \n",
       "Component_3     0.000428  -0.000428  -0.025548  -0.028039  -0.003330   \n",
       "Component_4    -0.000026   0.000026  -0.022460  -0.023100   0.006338   \n",
       "Component_5     0.000122  -0.000122   0.020359   0.024101  -0.008346   \n",
       "...                  ...        ...        ...        ...        ...   \n",
       "Component_246   0.002403  -0.002403  -0.009581   0.007558   0.029961   \n",
       "Component_247   0.018227  -0.018227  -0.003811  -0.018609   0.016571   \n",
       "Component_248   0.017610  -0.017610  -0.019091  -0.043341  -0.064804   \n",
       "Component_249   0.016306  -0.016306  -0.049227   0.014516  -0.008886   \n",
       "Component_250   0.018758  -0.018758   0.010971   0.026695   0.017927   \n",
       "\n",
       "               p1k_00006  p1k_00007  p1k_00008  p1k_00009  p1k_00010  ...  \\\n",
       "Component_1    -0.005275  -0.009730  -0.008994  -0.004250  -0.004251  ...   \n",
       "Component_2     0.003045   0.032615   0.029976   0.005862   0.007157  ...   \n",
       "Component_3    -0.002797  -0.024140  -0.024606  -0.007185  -0.007997  ...   \n",
       "Component_4     0.007627  -0.021889  -0.017520   0.005531   0.004391  ...   \n",
       "Component_5    -0.010845   0.024425   0.024194   0.001842   0.003221  ...   \n",
       "...                  ...        ...        ...        ...        ...  ...   \n",
       "Component_246   0.045749   0.009189   0.026739   0.014043  -0.020146  ...   \n",
       "Component_247  -0.009261   0.019573   0.004479   0.030027   0.039885  ...   \n",
       "Component_248  -0.066699   0.074716   0.030099   0.033713   0.082203  ...   \n",
       "Component_249  -0.017670  -0.028651  -0.010584   0.020709   0.022158  ...   \n",
       "Component_250   0.042670  -0.033900  -0.012095  -0.005799   0.013566  ...   \n",
       "\n",
       "               p1k_01046  p1k_01047  p1k_01048  p1k_01049  p1k_01050  \\\n",
       "Component_1    -0.024665  -0.032701  -0.031739  -0.032275  -0.028228   \n",
       "Component_2    -0.009067   0.019883   0.020178   0.020062   0.017391   \n",
       "Component_3     0.001653  -0.000951  -0.000218  -0.000471  -0.001364   \n",
       "Component_4     0.046154   0.061455   0.064692   0.060869   0.068568   \n",
       "Component_5    -0.014840  -0.026451  -0.024957  -0.025923  -0.017571   \n",
       "...                  ...        ...        ...        ...        ...   \n",
       "Component_246   0.010333   0.042124   0.026685  -0.078522  -0.010899   \n",
       "Component_247   0.052473  -0.007073   0.032239   0.003937  -0.040311   \n",
       "Component_248  -0.036537  -0.021847   0.097845  -0.112593   0.014330   \n",
       "Component_249  -0.003203  -0.015069  -0.001256   0.045928  -0.027366   \n",
       "Component_250  -0.036299  -0.018864  -0.029165  -0.033263   0.016055   \n",
       "\n",
       "               p1k_01051  p1k_01052  p1k_01053  p1k_01054  p1k_01055  \n",
       "Component_1    -0.028110  -0.017707  -0.028397  -0.029349  -0.028413  \n",
       "Component_2     0.018562   0.014461   0.067900   0.059982   0.057965  \n",
       "Component_3    -0.002057  -0.009706  -0.020753  -0.019695  -0.015142  \n",
       "Component_4     0.068627   0.024516   0.046473   0.066673   0.057466  \n",
       "Component_5    -0.016351   0.011342  -0.002116  -0.001529   0.001051  \n",
       "...                  ...        ...        ...        ...        ...  \n",
       "Component_246  -0.022550   0.043597   0.038264  -0.026933   0.021084  \n",
       "Component_247  -0.016154   0.030262   0.070465   0.041169   0.017018  \n",
       "Component_248   0.026513  -0.014223  -0.022293  -0.028344  -0.006859  \n",
       "Component_249  -0.041236  -0.046568  -0.080595  -0.083178  -0.080711  \n",
       "Component_250   0.010693   0.017387   0.044455   0.012622   0.028845  \n",
       "\n",
       "[250 rows x 1035 columns]"
      ]
     },
     "execution_count": 6,
     "metadata": {},
     "output_type": "execute_result"
    }
   ],
   "source": [
    "activities_GENIE3"
   ]
  },
  {
   "cell_type": "code",
   "execution_count": 7,
   "id": "015a5685-0e88-452c-9f2e-453378816c72",
   "metadata": {
    "execution": {
     "iopub.execute_input": "2024-10-21T20:56:32.383849Z",
     "iopub.status.busy": "2024-10-21T20:56:32.383726Z",
     "iopub.status.idle": "2024-10-21T20:57:17.714911Z",
     "shell.execute_reply": "2024-10-21T20:57:17.714398Z",
     "shell.execute_reply.started": "2024-10-21T20:56:32.383837Z"
    }
   },
   "outputs": [],
   "source": [
    "GENIE3 = IcaData(components_GENIE3,activities_GENIE3)"
   ]
  },
  {
   "cell_type": "code",
   "execution_count": 8,
   "id": "35bc2ea4-12b3-4298-a9f0-93863895c00c",
   "metadata": {
    "execution": {
     "iopub.execute_input": "2024-10-21T20:57:17.715685Z",
     "iopub.status.busy": "2024-10-21T20:57:17.715544Z",
     "iopub.status.idle": "2024-10-21T20:57:17.724277Z",
     "shell.execute_reply": "2024-10-21T20:57:17.723891Z",
     "shell.execute_reply.started": "2024-10-21T20:57:17.715670Z"
    }
   },
   "outputs": [],
   "source": [
    "GENIE3.X = precise1k.X"
   ]
  },
  {
   "cell_type": "code",
   "execution_count": 9,
   "id": "4adf3be0-6150-4937-a31f-ecae9af87ecb",
   "metadata": {
    "execution": {
     "iopub.execute_input": "2024-10-21T20:57:17.725034Z",
     "iopub.status.busy": "2024-10-21T20:57:17.724770Z",
     "iopub.status.idle": "2024-10-21T20:57:17.908208Z",
     "shell.execute_reply": "2024-10-21T20:57:17.907778Z",
     "shell.execute_reply.started": "2024-10-21T20:57:17.725020Z"
    }
   },
   "outputs": [],
   "source": [
    "GENIE3.gene_table = precise1k.gene_table\n",
    "GENIE3.trn = precise1k.trn"
   ]
  },
  {
   "cell_type": "code",
   "execution_count": 10,
   "id": "330687d1-8b59-4d3d-926b-078dbae61fca",
   "metadata": {
    "execution": {
     "iopub.execute_input": "2024-10-21T20:57:17.908851Z",
     "iopub.status.busy": "2024-10-21T20:57:17.908721Z",
     "iopub.status.idle": "2024-10-21T20:57:17.911026Z",
     "shell.execute_reply": "2024-10-21T20:57:17.910628Z",
     "shell.execute_reply.started": "2024-10-21T20:57:17.908836Z"
    }
   },
   "outputs": [],
   "source": [
    "GENIE3.cog_colors = precise1k.cog_colors"
   ]
  },
  {
   "cell_type": "code",
   "execution_count": 11,
   "id": "9a3fd994-a9eb-4ba1-a03e-cc6d2cd15efd",
   "metadata": {
    "execution": {
     "iopub.execute_input": "2024-10-21T20:57:17.911595Z",
     "iopub.status.busy": "2024-10-21T20:57:17.911475Z",
     "iopub.status.idle": "2024-10-21T20:57:17.923329Z",
     "shell.execute_reply": "2024-10-21T20:57:17.922981Z",
     "shell.execute_reply.started": "2024-10-21T20:57:17.911582Z"
    }
   },
   "outputs": [],
   "source": [
    "GENIE3.sample_table = precise1k.sample_table"
   ]
  },
  {
   "cell_type": "code",
   "execution_count": 12,
   "id": "30d0dfd6-09bb-4ec0-ad4c-5040e76a0d01",
   "metadata": {
    "execution": {
     "iopub.execute_input": "2024-10-21T20:57:17.923886Z",
     "iopub.status.busy": "2024-10-21T20:57:17.923764Z",
     "iopub.status.idle": "2024-10-21T21:07:23.965515Z",
     "shell.execute_reply": "2024-10-21T21:07:23.965023Z",
     "shell.execute_reply.started": "2024-10-21T20:57:17.923873Z"
    }
   },
   "outputs": [
    {
     "data": {
      "application/vnd.jupyter.widget-view+json": {
       "model_id": "62d9e6a945c2452a9791ad8d81dd1400",
       "version_major": 2,
       "version_minor": 0
      },
      "text/plain": [
       "  0%|          | 0/50 [00:00<?, ?it/s]"
      ]
     },
     "metadata": {},
     "output_type": "display_data"
    },
    {
     "name": "stdout",
     "output_type": "stream",
     "text": [
      "      F1 Score  Precision    Recall       MCC\n",
      "2500  0.164929   0.417194  0.210719  0.175596\n",
      "2550  0.165440   0.412354  0.214097  0.177146\n",
      "2600  0.165778   0.408166  0.217513  0.178671\n",
      "2650  0.166339   0.402533  0.221254  0.180165\n",
      "2700  0.166936   0.399095  0.225161  0.182002\n",
      "2750  0.167656   0.394183  0.229372  0.183712\n",
      "2800  0.168774   0.390325  0.234692  0.186039\n",
      "2850  0.169538   0.385418  0.240348  0.187972\n",
      "2900  0.170588   0.380731  0.246979  0.190280\n",
      "2950  0.171533   0.376286  0.252998  0.192360\n",
      "3000  0.172633   0.372027  0.258134  0.194294\n",
      "3050  0.173694   0.366217  0.263702  0.195926\n",
      "3100  0.174298   0.360335  0.269628  0.197309\n",
      "3150  0.175465   0.355912  0.275948  0.199397\n",
      "3200  0.176272   0.348317  0.282679  0.200549\n",
      "3250  0.177167   0.342330  0.288854  0.202046\n",
      "3300  0.179129   0.338076  0.296764  0.204655\n",
      "3350  0.180773   0.331630  0.305100  0.206575\n",
      "3400  0.181998   0.325252  0.312704  0.208233\n",
      "3450  0.182716   0.318689  0.312721  0.209228\n",
      "3500  0.184112   0.309654  0.326376  0.211025\n",
      "3550  0.185146   0.301846  0.328781  0.212130\n",
      "3600  0.186037   0.292261  0.339012  0.213385\n",
      "3650  0.188818   0.286627  0.356897  0.217535\n",
      "3700  0.184383   0.273814  0.357244  0.213015\n",
      "3750  0.184188   0.265077  0.363902  0.213424\n",
      "3800  0.182904   0.255720  0.369350  0.212187\n",
      "3850  0.182461   0.246277  0.372004  0.211679\n",
      "3900  0.182393   0.236628  0.385829  0.211727\n",
      "3950  0.175624   0.222008  0.383344  0.203648\n",
      "4000  0.174580   0.211882  0.394544  0.202509\n",
      "4050  0.174689   0.204849  0.409624  0.203511\n",
      "4100  0.171848   0.195205  0.422000  0.200620\n",
      "4150  0.168946   0.186775  0.429123  0.197796\n",
      "4200  0.162293   0.174926  0.420041  0.190470\n",
      "4250  0.156093   0.164491  0.428753  0.184225\n",
      "4300  0.155187   0.158358  0.426954  0.182034\n",
      "4350  0.151953   0.151587  0.422153  0.178970\n",
      "4400  0.149475   0.145171  0.418217  0.175844\n",
      "4450  0.147205   0.138198  0.418811  0.173025\n",
      "4500  0.143754   0.131148  0.397802  0.167841\n",
      "4550  0.140290   0.123010  0.405400  0.164892\n",
      "4600  0.130819   0.112512  0.385507  0.154555\n",
      "4650  0.129392   0.108688  0.374325  0.152675\n",
      "4700  0.124370   0.103126  0.363079  0.146678\n",
      "4750  0.115697   0.095148  0.325549  0.135753\n",
      "4800  0.107166   0.087070  0.302927  0.126240\n",
      "4850  0.104221   0.083192  0.290366  0.123536\n",
      "4900  0.099806   0.079239  0.274959  0.118690\n",
      "4950  0.093955   0.074183  0.252076  0.111273\n"
     ]
    },
    {
     "data": {
      "text/plain": [
       "3650"
      ]
     },
     "execution_count": 12,
     "metadata": {},
     "output_type": "execute_result"
    },
    {
     "data": {
      "image/png": "[encoded data removed]",
      "text/plain": [
       "<Figure size 400x400 with 1 Axes>"
      ]
     },
     "metadata": {},
     "output_type": "display_data"
    }
   ],
   "source": [
    "GENIE3.reoptimize_thresholds()"
   ]
  },
  {
   "cell_type": "code",
   "execution_count": 13,
   "id": "e9608704-ee72-47ca-9c1f-a621c22561f3",
   "metadata": {
    "execution": {
     "iopub.execute_input": "2024-10-21T21:07:23.966200Z",
     "iopub.status.busy": "2024-10-21T21:07:23.966057Z",
     "iopub.status.idle": "2024-10-21T21:07:23.968479Z",
     "shell.execute_reply": "2024-10-21T21:07:23.967933Z",
     "shell.execute_reply.started": "2024-10-21T21:07:23.966185Z"
    }
   },
   "outputs": [],
   "source": [
    "# GENIE3.recompute_thresholds(150)                                                 "
   ]
  },
  {
   "cell_type": "code",
   "execution_count": 14,
   "id": "38d23ca4-da10-4169-a8c3-b180a52167b5",
   "metadata": {
    "execution": {
     "iopub.execute_input": "2024-10-21T21:07:23.969459Z",
     "iopub.status.busy": "2024-10-21T21:07:23.969179Z",
     "iopub.status.idle": "2024-10-21T21:07:36.158942Z",
     "shell.execute_reply": "2024-10-21T21:07:36.158392Z",
     "shell.execute_reply.started": "2024-10-21T21:07:23.969445Z"
    }
   },
   "outputs": [],
   "source": [
    "imdb_gene_presence(GENIE3)[0].to_csv('Presence_Matrices/GENIE3_Gene_Presence_Matrix.csv')"
   ]
  }
 ],
 "metadata": {
  "kernelspec": {
   "display_name": "Python [conda env:modulome]",
   "language": "python",
   "name": "conda-env-modulome-py"
  },
  "language_info": {
   "codemirror_mode": {
    "name": "ipython",
    "version": 3
   },
   "file_extension": ".py",
   "mimetype": "text/x-python",
   "name": "python",
   "nbconvert_exporter": "python",
   "pygments_lexer": "ipython3",
   "version": "3.7.12"
  }
 },
 "nbformat": 4,
 "nbformat_minor": 5
}
