{
 "cells": [
  {
   "cell_type": "markdown",
   "id": "d4b4007d-668a-490c-b737-e6bd5ac73624",
   "metadata": {},
   "source": [
    "# 2_Create_gene_presence_matrices"
   ]
  },
  {
   "cell_type": "code",
   "execution_count": 2,
   "id": "3bbfb267-dbc7-4ccf-99cb-a3dbaca75f89",
   "metadata": {
    "execution": {
     "iopub.execute_input": "2024-12-01T06:41:33.562972Z",
     "iopub.status.busy": "2024-12-01T06:41:33.562665Z",
     "iopub.status.idle": "2024-12-01T06:41:34.403939Z",
     "shell.execute_reply": "2024-12-01T06:41:34.403422Z",
     "shell.execute_reply.started": "2024-12-01T06:41:33.562958Z"
    }
   },
   "outputs": [],
   "source": [
    "from pathlib import Path\n",
    "import sys\n",
    "import os.path\n",
    "import matplotlib\n",
    "import matplotlib.pyplot as plt\n",
    "import numpy as np\n",
    "import pandas as pd\n",
    "from scipy.stats import f_oneway, gaussian_kde, mannwhitneyu, pearsonr, spearmanr\n",
    "import seaborn as sns\n",
    "from tqdm.notebook import tqdm\n",
    "from pymodulon.compare import compare_ica\n",
    "from pymodulon.core import IcaData\n",
    "from pymodulon.io import load_json_model, save_to_json\n",
    "from pymodulon.plotting import *\n",
    "\n",
    "import json\n",
    "\n",
    "from pymodulon.util import explained_variance\n",
    "from pymodulon.imodulondb import imdb_gene_presence\n",
    "\n",
    "%matplotlib inline\n",
    "%config  InlineBackend.figure_format = 'png'\n",
    "\n",
    "sns.set_style('whitegrid')"
   ]
  },
  {
   "cell_type": "code",
   "execution_count": 3,
   "id": "b8e7f4ce-865a-45e1-a12a-c54aa84bc4ea",
   "metadata": {
    "execution": {
     "iopub.execute_input": "2024-12-01T06:41:34.404898Z",
     "iopub.status.busy": "2024-12-01T06:41:34.404705Z",
     "iopub.status.idle": "2024-12-01T06:41:45.090330Z",
     "shell.execute_reply": "2024-12-01T06:41:45.089794Z",
     "shell.execute_reply.started": "2024-12-01T06:41:34.404883Z"
    }
   },
   "outputs": [],
   "source": [
    "precise1k = load_json_model('../Data/p1k.json.gz')"
   ]
  },
  {
   "cell_type": "code",
   "execution_count": 4,
   "id": "90d245d2-833a-4ac7-9aef-61567c8045cd",
   "metadata": {
    "execution": {
     "iopub.execute_input": "2024-12-01T06:41:45.091298Z",
     "iopub.status.busy": "2024-12-01T06:41:45.091152Z",
     "iopub.status.idle": "2024-12-01T06:41:45.094255Z",
     "shell.execute_reply": "2024-12-01T06:41:45.093807Z",
     "shell.execute_reply.started": "2024-12-01T06:41:45.091283Z"
    }
   },
   "outputs": [],
   "source": [
    "import random\n",
    "\n",
    "def replace_zeros_with_random(df):\n",
    "    # Define a function that replaces 0 with a random value between 0 and 0.01\n",
    "    def replace_value(x):\n",
    "        return random.uniform(0, 0.01) if x == 0 else x\n",
    "    \n",
    "    # Apply this function to every element in the dataframe\n",
    "    df = df.applymap(replace_value)\n",
    "    return df"
   ]
  },
  {
   "cell_type": "markdown",
   "id": "3ad567e9-9c00-4227-92de-1476708dc3a0",
   "metadata": {},
   "source": [
    "## Principal Component Analysis"
   ]
  },
  {
   "cell_type": "code",
   "execution_count": 4,
   "id": "f5e08a32-0a48-484a-9d90-1751bc5a84ef",
   "metadata": {
    "execution": {
     "iopub.execute_input": "2024-08-17T21:23:49.712015Z",
     "iopub.status.busy": "2024-08-17T21:23:49.711882Z",
     "iopub.status.idle": "2024-08-17T21:23:49.852174Z",
     "shell.execute_reply": "2024-08-17T21:23:49.851354Z",
     "shell.execute_reply.started": "2024-08-17T21:23:49.712002Z"
    }
   },
   "outputs": [],
   "source": [
    "components_pca = pd.read_csv('./Results/PCA/M_PCA.csv', index_col=0)"
   ]
  },
  {
   "cell_type": "code",
   "execution_count": 5,
   "id": "81b91841-75cd-46b0-9251-cadbb82c3e97",
   "metadata": {
    "execution": {
     "iopub.execute_input": "2024-08-17T21:23:49.853038Z",
     "iopub.status.busy": "2024-08-17T21:23:49.852896Z",
     "iopub.status.idle": "2024-08-17T21:23:49.890031Z",
     "shell.execute_reply": "2024-08-17T21:23:49.889260Z",
     "shell.execute_reply.started": "2024-08-17T21:23:49.853023Z"
    }
   },
   "outputs": [],
   "source": [
    "activities_pca = pd.read_csv('./Results/PCA/A_PCA.csv', index_col=0).T"
   ]
  },
  {
   "cell_type": "code",
   "execution_count": 6,
   "id": "297ebf29-be26-4ca7-9a86-0ecc3279c58a",
   "metadata": {
    "execution": {
     "iopub.execute_input": "2024-08-17T21:23:49.891883Z",
     "iopub.status.busy": "2024-08-17T21:23:49.891745Z",
     "iopub.status.idle": "2024-08-17T21:26:03.728198Z",
     "shell.execute_reply": "2024-08-17T21:26:03.727661Z",
     "shell.execute_reply.started": "2024-08-17T21:23:49.891869Z"
    }
   },
   "outputs": [],
   "source": [
    "pca = IcaData(components_pca,activities_pca)"
   ]
  },
  {
   "cell_type": "code",
   "execution_count": 7,
   "id": "aa50a429-488e-4465-a2f5-daf81e8a0a60",
   "metadata": {
    "execution": {
     "iopub.execute_input": "2024-08-17T21:26:03.728949Z",
     "iopub.status.busy": "2024-08-17T21:26:03.728805Z",
     "iopub.status.idle": "2024-08-17T21:26:03.737494Z",
     "shell.execute_reply": "2024-08-17T21:26:03.737086Z",
     "shell.execute_reply.started": "2024-08-17T21:26:03.728935Z"
    }
   },
   "outputs": [],
   "source": [
    "pca.X = precise1k.X"
   ]
  },
  {
   "cell_type": "code",
   "execution_count": 8,
   "id": "99aca708-5288-4b4e-aad5-d152a5c5f91d",
   "metadata": {
    "execution": {
     "iopub.execute_input": "2024-08-17T21:26:03.738161Z",
     "iopub.status.busy": "2024-08-17T21:26:03.738019Z",
     "iopub.status.idle": "2024-08-17T21:26:03.925000Z",
     "shell.execute_reply": "2024-08-17T21:26:03.924581Z",
     "shell.execute_reply.started": "2024-08-17T21:26:03.738147Z"
    }
   },
   "outputs": [],
   "source": [
    "pca.gene_table = precise1k.gene_table\n",
    "pca.trn = precise1k.trn"
   ]
  },
  {
   "cell_type": "code",
   "execution_count": 9,
   "id": "4ab29a15-fd11-439f-b46a-62494175b893",
   "metadata": {
    "execution": {
     "iopub.execute_input": "2024-08-17T21:26:03.925675Z",
     "iopub.status.busy": "2024-08-17T21:26:03.925545Z",
     "iopub.status.idle": "2024-08-17T21:26:03.927828Z",
     "shell.execute_reply": "2024-08-17T21:26:03.927480Z",
     "shell.execute_reply.started": "2024-08-17T21:26:03.925661Z"
    }
   },
   "outputs": [],
   "source": [
    "pca.cog_colors = precise1k.cog_colors"
   ]
  },
  {
   "cell_type": "code",
   "execution_count": 10,
   "id": "2b4c353d-73ef-41a3-bd9c-904ef346b369",
   "metadata": {
    "execution": {
     "iopub.execute_input": "2024-08-17T21:26:03.928383Z",
     "iopub.status.busy": "2024-08-17T21:26:03.928261Z",
     "iopub.status.idle": "2024-08-17T21:26:03.940470Z",
     "shell.execute_reply": "2024-08-17T21:26:03.940098Z",
     "shell.execute_reply.started": "2024-08-17T21:26:03.928371Z"
    }
   },
   "outputs": [],
   "source": [
    "pca.sample_table = precise1k.sample_table"
   ]
  },
  {
   "cell_type": "code",
   "execution_count": 11,
   "id": "8c8756e4-367c-4f96-91d7-6e47ba2d3de8",
   "metadata": {
    "execution": {
     "iopub.execute_input": "2024-08-17T21:26:03.941059Z",
     "iopub.status.busy": "2024-08-17T21:26:03.940933Z",
     "iopub.status.idle": "2024-08-17T21:26:15.858431Z",
     "shell.execute_reply": "2024-08-17T21:26:15.857808Z",
     "shell.execute_reply.started": "2024-08-17T21:26:03.941047Z"
    }
   },
   "outputs": [
    {
     "data": {
      "text/plain": [
       "0.977392974605115"
      ]
     },
     "execution_count": 11,
     "metadata": {},
     "output_type": "execute_result"
    }
   ],
   "source": [
    "explained_variance(pca)"
   ]
  },
  {
   "cell_type": "code",
   "execution_count": 12,
   "id": "52df38d5-2bbc-4c3c-9f80-48c719165930",
   "metadata": {
    "execution": {
     "iopub.execute_input": "2024-08-17T21:26:15.860543Z",
     "iopub.status.busy": "2024-08-17T21:26:15.859916Z",
     "iopub.status.idle": "2024-08-17T21:27:26.126498Z",
     "shell.execute_reply": "2024-08-17T21:27:26.125993Z",
     "shell.execute_reply.started": "2024-08-17T21:26:15.860520Z"
    }
   },
   "outputs": [
    {
     "data": {
      "application/vnd.jupyter.widget-view+json": {
       "model_id": "e5d84402c1594977bd591657708fe500",
       "version_major": 2,
       "version_minor": 0
      },
      "text/plain": [
       "  0%|          | 0/39 [00:00<?, ?it/s]"
      ]
     },
     "metadata": {},
     "output_type": "display_data"
    },
    {
     "name": "stdout",
     "output_type": "stream",
     "text": [
      "      F1 Score  Precision    Recall       MCC\n",
      "50    0.133206   0.534408  0.102741  0.188985\n",
      "100   0.176959   0.467323  0.153493  0.222539\n",
      "150   0.205481   0.379601  0.208374  0.235885\n",
      "200   0.195950   0.276878  0.246807  0.217342\n",
      "250   0.163001   0.190920  0.243550  0.179339\n",
      "300   0.125706   0.126428  0.235481  0.140651\n",
      "350   0.092989   0.083351  0.207606  0.108198\n",
      "400   0.063711   0.054954  0.129923  0.072536\n",
      "450   0.050027   0.041953  0.107333  0.058400\n",
      "500   0.037032   0.028138  0.097001  0.045361\n",
      "550   0.022659   0.016915  0.065749  0.027945\n",
      "600   0.019783   0.014238  0.051480  0.023646\n",
      "650   0.017058   0.011668  0.050788  0.021314\n",
      "700   0.013956   0.009209  0.041915  0.017911\n",
      "750   0.009994   0.006329  0.034656  0.013447\n",
      "800   0.006625   0.003985  0.029233  0.009846\n",
      "850   0.005096   0.003077  0.026389  0.007671\n",
      "900   0.003326   0.001990  0.023209  0.005385\n",
      "950   0.003163   0.001895  0.016532  0.004661\n",
      "1000  0.003078   0.001840  0.016471  0.004585\n",
      "1050  0.002884   0.001732  0.009458  0.003912\n",
      "1100  0.002822   0.001678  0.009693  0.003906\n",
      "1150  0.002831   0.001678  0.010069  0.003975\n",
      "1200  0.002856   0.001678  0.010438  0.004072\n",
      "1250  0.002768   0.001623  0.010372  0.003981\n",
      "1300  0.002677   0.001569  0.010295  0.003886\n",
      "1350  0.001358   0.000736  0.009838  0.002599\n",
      "1400  0.001091   0.000597  0.006366  0.001917\n",
      "1450  0.001099   0.000597  0.006944  0.002008\n",
      "1500  0.001006   0.000543  0.006944  0.001914\n",
      "1550  0.001006   0.000543  0.006944  0.001914\n",
      "1600  0.000912   0.000488  0.006944  0.001815\n",
      "1650  0.000912   0.000488  0.006944  0.001815\n",
      "1700  0.000817   0.000434  0.006944  0.001711\n",
      "1750  0.000817   0.000434  0.006944  0.001711\n",
      "1800  0.000720   0.000380  0.006944  0.001601\n",
      "1850  0.000622   0.000326  0.006944  0.001482\n",
      "1900  0.000622   0.000326  0.006944  0.001482\n",
      "1950  0.000522   0.000271  0.006944  0.001353\n"
     ]
    },
    {
     "data": {
      "text/plain": [
       "150"
      ]
     },
     "execution_count": 12,
     "metadata": {},
     "output_type": "execute_result"
    },
    {
     "data": {
      "image/png": "[encoded data removed]",
      "text/plain": [
       "<Figure size 400x400 with 1 Axes>"
      ]
     },
     "metadata": {},
     "output_type": "display_data"
    }
   ],
   "source": [
    "pca.reoptimize_thresholds()"
   ]
  },
  {
   "cell_type": "code",
   "execution_count": 13,
   "id": "5a1aabc8-d699-47b2-a2b3-baadabe13eed",
   "metadata": {
    "execution": {
     "iopub.execute_input": "2024-08-17T21:27:26.127217Z",
     "iopub.status.busy": "2024-08-17T21:27:26.127086Z",
     "iopub.status.idle": "2024-08-17T21:27:26.129274Z",
     "shell.execute_reply": "2024-08-17T21:27:26.128913Z",
     "shell.execute_reply.started": "2024-08-17T21:27:26.127203Z"
    }
   },
   "outputs": [],
   "source": [
    "# pca.recompute_thresholds(150)"
   ]
  },
  {
   "cell_type": "code",
   "execution_count": 14,
   "id": "b1dc6aef-c985-4a66-828b-ca502e67d635",
   "metadata": {
    "execution": {
     "iopub.execute_input": "2024-08-17T21:27:26.129986Z",
     "iopub.status.busy": "2024-08-17T21:27:26.129718Z",
     "iopub.status.idle": "2024-08-17T21:27:34.721955Z",
     "shell.execute_reply": "2024-08-17T21:27:34.721402Z",
     "shell.execute_reply.started": "2024-08-17T21:27:26.129973Z"
    }
   },
   "outputs": [],
   "source": [
    "imdb_gene_presence(pca)[0].to_csv('Presence_Matrices/PCA_Gene_Presence_Matrix.csv')"
   ]
  },
  {
   "cell_type": "markdown",
   "id": "1160a9e2-f622-408b-bafe-946e8cb85ddb",
   "metadata": {},
   "source": [
    "## Independent Principal Component Analysis"
   ]
  },
  {
   "cell_type": "code",
   "execution_count": 15,
   "id": "8d27b17e-39ec-4c68-87b9-d23bdc67fa6e",
   "metadata": {
    "execution": {
     "iopub.execute_input": "2024-08-17T21:27:34.722679Z",
     "iopub.status.busy": "2024-08-17T21:27:34.722543Z",
     "iopub.status.idle": "2024-08-17T21:27:34.870314Z",
     "shell.execute_reply": "2024-08-17T21:27:34.869788Z",
     "shell.execute_reply.started": "2024-08-17T21:27:34.722665Z"
    }
   },
   "outputs": [],
   "source": [
    "components_ipca = pd.read_csv('./Results/IPCA/components_ipca.csv', index_col=0)"
   ]
  },
  {
   "cell_type": "code",
   "execution_count": 16,
   "id": "c1ff5244-2699-4de0-8cb1-8c0804b3c301",
   "metadata": {
    "execution": {
     "iopub.execute_input": "2024-08-17T21:27:34.871051Z",
     "iopub.status.busy": "2024-08-17T21:27:34.870916Z",
     "iopub.status.idle": "2024-08-17T21:27:34.915332Z",
     "shell.execute_reply": "2024-08-17T21:27:34.914862Z",
     "shell.execute_reply.started": "2024-08-17T21:27:34.871034Z"
    }
   },
   "outputs": [],
   "source": [
    "activities_ipca = pd.read_csv('./Results/IPCA/loadings_variables_ipca.csv', index_col=0).T"
   ]
  },
  {
   "cell_type": "code",
   "execution_count": 17,
   "id": "f1a8a23c-68b4-4391-9878-2fdba0415b83",
   "metadata": {
    "execution": {
     "iopub.execute_input": "2024-08-17T21:27:34.916083Z",
     "iopub.status.busy": "2024-08-17T21:27:34.915949Z",
     "iopub.status.idle": "2024-08-17T21:27:34.930298Z",
     "shell.execute_reply": "2024-08-17T21:27:34.929849Z",
     "shell.execute_reply.started": "2024-08-17T21:27:34.916069Z"
    }
   },
   "outputs": [
    {
     "data": {
      "text/html": [
       "<div>\n",
       "<style scoped>\n",
       "    .dataframe tbody tr th:only-of-type {\n",
       "        vertical-align: middle;\n",
       "    }\n",
       "\n",
       "    .dataframe tbody tr th {\n",
       "        vertical-align: top;\n",
       "    }\n",
       "\n",
       "    .dataframe thead th {\n",
       "        text-align: right;\n",
       "    }\n",
       "</style>\n",
       "<table border=\"1\" class=\"dataframe\">\n",
       "  <thead>\n",
       "    <tr style=\"text-align: right;\">\n",
       "      <th></th>\n",
       "      <th>p1k_00001</th>\n",
       "      <th>p1k_00002</th>\n",
       "      <th>p1k_00003</th>\n",
       "      <th>p1k_00004</th>\n",
       "      <th>p1k_00005</th>\n",
       "      <th>p1k_00006</th>\n",
       "      <th>p1k_00007</th>\n",
       "      <th>p1k_00008</th>\n",
       "      <th>p1k_00009</th>\n",
       "      <th>p1k_00010</th>\n",
       "      <th>...</th>\n",
       "      <th>p1k_01046</th>\n",
       "      <th>p1k_01047</th>\n",
       "      <th>p1k_01048</th>\n",
       "      <th>p1k_01049</th>\n",
       "      <th>p1k_01050</th>\n",
       "      <th>p1k_01051</th>\n",
       "      <th>p1k_01052</th>\n",
       "      <th>p1k_01053</th>\n",
       "      <th>p1k_01054</th>\n",
       "      <th>p1k_01055</th>\n",
       "    </tr>\n",
       "  </thead>\n",
       "  <tbody>\n",
       "    <tr>\n",
       "      <th>IPC1</th>\n",
       "      <td>-0.000233</td>\n",
       "      <td>0.000190</td>\n",
       "      <td>0.000259</td>\n",
       "      <td>0.000049</td>\n",
       "      <td>-0.000076</td>\n",
       "      <td>-0.000232</td>\n",
       "      <td>-0.000097</td>\n",
       "      <td>-0.000431</td>\n",
       "      <td>0.000652</td>\n",
       "      <td>-0.000085</td>\n",
       "      <td>...</td>\n",
       "      <td>-0.001358</td>\n",
       "      <td>-0.001715</td>\n",
       "      <td>-0.001046</td>\n",
       "      <td>-0.001416</td>\n",
       "      <td>-0.000223</td>\n",
       "      <td>-0.029182</td>\n",
       "      <td>-0.000604</td>\n",
       "      <td>0.000150</td>\n",
       "      <td>0.000828</td>\n",
       "      <td>-0.000538</td>\n",
       "    </tr>\n",
       "    <tr>\n",
       "      <th>IPC2</th>\n",
       "      <td>-0.000046</td>\n",
       "      <td>0.000077</td>\n",
       "      <td>-0.000304</td>\n",
       "      <td>-0.000001</td>\n",
       "      <td>-0.000142</td>\n",
       "      <td>0.000255</td>\n",
       "      <td>-0.000392</td>\n",
       "      <td>0.000194</td>\n",
       "      <td>0.000392</td>\n",
       "      <td>-0.000300</td>\n",
       "      <td>...</td>\n",
       "      <td>-0.000147</td>\n",
       "      <td>0.002523</td>\n",
       "      <td>0.000325</td>\n",
       "      <td>0.000771</td>\n",
       "      <td>0.029039</td>\n",
       "      <td>-0.000055</td>\n",
       "      <td>-0.000631</td>\n",
       "      <td>0.000273</td>\n",
       "      <td>0.000943</td>\n",
       "      <td>-0.000658</td>\n",
       "    </tr>\n",
       "    <tr>\n",
       "      <th>IPC3</th>\n",
       "      <td>-0.000045</td>\n",
       "      <td>0.000081</td>\n",
       "      <td>0.000047</td>\n",
       "      <td>0.000221</td>\n",
       "      <td>-0.000181</td>\n",
       "      <td>-0.000247</td>\n",
       "      <td>-0.000374</td>\n",
       "      <td>-0.000094</td>\n",
       "      <td>-0.000204</td>\n",
       "      <td>0.000321</td>\n",
       "      <td>...</td>\n",
       "      <td>0.000432</td>\n",
       "      <td>-0.000834</td>\n",
       "      <td>-0.000148</td>\n",
       "      <td>-0.000295</td>\n",
       "      <td>-0.000107</td>\n",
       "      <td>-0.000151</td>\n",
       "      <td>0.000209</td>\n",
       "      <td>0.000427</td>\n",
       "      <td>-0.000644</td>\n",
       "      <td>0.000552</td>\n",
       "    </tr>\n",
       "    <tr>\n",
       "      <th>IPC4</th>\n",
       "      <td>-0.000080</td>\n",
       "      <td>0.000100</td>\n",
       "      <td>0.000300</td>\n",
       "      <td>0.000285</td>\n",
       "      <td>0.000184</td>\n",
       "      <td>0.000897</td>\n",
       "      <td>-0.000071</td>\n",
       "      <td>0.000556</td>\n",
       "      <td>-0.000349</td>\n",
       "      <td>-0.000484</td>\n",
       "      <td>...</td>\n",
       "      <td>0.000295</td>\n",
       "      <td>-0.000341</td>\n",
       "      <td>-0.000274</td>\n",
       "      <td>-0.000210</td>\n",
       "      <td>0.000092</td>\n",
       "      <td>-0.000007</td>\n",
       "      <td>0.000307</td>\n",
       "      <td>-0.000544</td>\n",
       "      <td>-0.000712</td>\n",
       "      <td>-0.000003</td>\n",
       "    </tr>\n",
       "    <tr>\n",
       "      <th>IPC5</th>\n",
       "      <td>-0.000323</td>\n",
       "      <td>0.000287</td>\n",
       "      <td>0.000034</td>\n",
       "      <td>0.000202</td>\n",
       "      <td>-0.000044</td>\n",
       "      <td>0.000050</td>\n",
       "      <td>-0.000126</td>\n",
       "      <td>0.000006</td>\n",
       "      <td>-0.000040</td>\n",
       "      <td>0.000033</td>\n",
       "      <td>...</td>\n",
       "      <td>-0.000051</td>\n",
       "      <td>-0.000119</td>\n",
       "      <td>-0.000247</td>\n",
       "      <td>-0.000073</td>\n",
       "      <td>0.000326</td>\n",
       "      <td>0.000568</td>\n",
       "      <td>-0.000067</td>\n",
       "      <td>-0.000393</td>\n",
       "      <td>0.000972</td>\n",
       "      <td>0.000365</td>\n",
       "    </tr>\n",
       "    <tr>\n",
       "      <th>...</th>\n",
       "      <td>...</td>\n",
       "      <td>...</td>\n",
       "      <td>...</td>\n",
       "      <td>...</td>\n",
       "      <td>...</td>\n",
       "      <td>...</td>\n",
       "      <td>...</td>\n",
       "      <td>...</td>\n",
       "      <td>...</td>\n",
       "      <td>...</td>\n",
       "      <td>...</td>\n",
       "      <td>...</td>\n",
       "      <td>...</td>\n",
       "      <td>...</td>\n",
       "      <td>...</td>\n",
       "      <td>...</td>\n",
       "      <td>...</td>\n",
       "      <td>...</td>\n",
       "      <td>...</td>\n",
       "      <td>...</td>\n",
       "      <td>...</td>\n",
       "    </tr>\n",
       "    <tr>\n",
       "      <th>IPC246</th>\n",
       "      <td>0.000092</td>\n",
       "      <td>-0.000085</td>\n",
       "      <td>-0.000205</td>\n",
       "      <td>-0.001252</td>\n",
       "      <td>-0.000435</td>\n",
       "      <td>-0.000889</td>\n",
       "      <td>0.000514</td>\n",
       "      <td>-0.000379</td>\n",
       "      <td>0.000331</td>\n",
       "      <td>0.000597</td>\n",
       "      <td>...</td>\n",
       "      <td>0.000366</td>\n",
       "      <td>0.000092</td>\n",
       "      <td>-0.001281</td>\n",
       "      <td>0.001436</td>\n",
       "      <td>-0.000002</td>\n",
       "      <td>-0.000012</td>\n",
       "      <td>0.000359</td>\n",
       "      <td>0.000509</td>\n",
       "      <td>0.001205</td>\n",
       "      <td>-0.000446</td>\n",
       "    </tr>\n",
       "    <tr>\n",
       "      <th>IPC247</th>\n",
       "      <td>0.000231</td>\n",
       "      <td>-0.000235</td>\n",
       "      <td>0.001024</td>\n",
       "      <td>0.001518</td>\n",
       "      <td>-0.000601</td>\n",
       "      <td>-0.000478</td>\n",
       "      <td>-0.001392</td>\n",
       "      <td>-0.001119</td>\n",
       "      <td>-0.000239</td>\n",
       "      <td>-0.000114</td>\n",
       "      <td>...</td>\n",
       "      <td>0.000787</td>\n",
       "      <td>-0.000714</td>\n",
       "      <td>0.001466</td>\n",
       "      <td>-0.000271</td>\n",
       "      <td>0.000034</td>\n",
       "      <td>0.000029</td>\n",
       "      <td>0.000102</td>\n",
       "      <td>-0.001399</td>\n",
       "      <td>0.000147</td>\n",
       "      <td>0.000196</td>\n",
       "    </tr>\n",
       "    <tr>\n",
       "      <th>IPC248</th>\n",
       "      <td>0.000161</td>\n",
       "      <td>-0.000141</td>\n",
       "      <td>0.000211</td>\n",
       "      <td>-0.000299</td>\n",
       "      <td>0.000924</td>\n",
       "      <td>0.000617</td>\n",
       "      <td>0.000198</td>\n",
       "      <td>-0.001335</td>\n",
       "      <td>0.000848</td>\n",
       "      <td>0.001242</td>\n",
       "      <td>...</td>\n",
       "      <td>0.000428</td>\n",
       "      <td>0.000811</td>\n",
       "      <td>-0.000674</td>\n",
       "      <td>-0.000310</td>\n",
       "      <td>-0.000051</td>\n",
       "      <td>0.000016</td>\n",
       "      <td>-0.000123</td>\n",
       "      <td>-0.000392</td>\n",
       "      <td>0.000098</td>\n",
       "      <td>-0.000514</td>\n",
       "    </tr>\n",
       "    <tr>\n",
       "      <th>IPC249</th>\n",
       "      <td>-0.000117</td>\n",
       "      <td>0.000101</td>\n",
       "      <td>0.000217</td>\n",
       "      <td>0.001844</td>\n",
       "      <td>0.000215</td>\n",
       "      <td>0.000293</td>\n",
       "      <td>-0.000818</td>\n",
       "      <td>-0.000419</td>\n",
       "      <td>0.001189</td>\n",
       "      <td>0.000474</td>\n",
       "      <td>...</td>\n",
       "      <td>0.000077</td>\n",
       "      <td>-0.000553</td>\n",
       "      <td>0.000710</td>\n",
       "      <td>-0.000033</td>\n",
       "      <td>-0.000002</td>\n",
       "      <td>0.000043</td>\n",
       "      <td>0.000754</td>\n",
       "      <td>0.001276</td>\n",
       "      <td>-0.000222</td>\n",
       "      <td>0.000252</td>\n",
       "    </tr>\n",
       "    <tr>\n",
       "      <th>IPC250</th>\n",
       "      <td>-0.000680</td>\n",
       "      <td>-0.000655</td>\n",
       "      <td>-0.000948</td>\n",
       "      <td>-0.000815</td>\n",
       "      <td>-0.001099</td>\n",
       "      <td>-0.001031</td>\n",
       "      <td>-0.001033</td>\n",
       "      <td>-0.001041</td>\n",
       "      <td>-0.001106</td>\n",
       "      <td>-0.001178</td>\n",
       "      <td>...</td>\n",
       "      <td>-0.000151</td>\n",
       "      <td>0.000514</td>\n",
       "      <td>0.000374</td>\n",
       "      <td>0.000429</td>\n",
       "      <td>0.000233</td>\n",
       "      <td>0.000311</td>\n",
       "      <td>-0.000749</td>\n",
       "      <td>0.000493</td>\n",
       "      <td>0.000373</td>\n",
       "      <td>0.000405</td>\n",
       "    </tr>\n",
       "  </tbody>\n",
       "</table>\n",
       "<p>250 rows × 1035 columns</p>\n",
       "</div>"
      ],
      "text/plain": [
       "        p1k_00001  p1k_00002  p1k_00003  p1k_00004  p1k_00005  p1k_00006  \\\n",
       "IPC1    -0.000233   0.000190   0.000259   0.000049  -0.000076  -0.000232   \n",
       "IPC2    -0.000046   0.000077  -0.000304  -0.000001  -0.000142   0.000255   \n",
       "IPC3    -0.000045   0.000081   0.000047   0.000221  -0.000181  -0.000247   \n",
       "IPC4    -0.000080   0.000100   0.000300   0.000285   0.000184   0.000897   \n",
       "IPC5    -0.000323   0.000287   0.000034   0.000202  -0.000044   0.000050   \n",
       "...           ...        ...        ...        ...        ...        ...   \n",
       "IPC246   0.000092  -0.000085  -0.000205  -0.001252  -0.000435  -0.000889   \n",
       "IPC247   0.000231  -0.000235   0.001024   0.001518  -0.000601  -0.000478   \n",
       "IPC248   0.000161  -0.000141   0.000211  -0.000299   0.000924   0.000617   \n",
       "IPC249  -0.000117   0.000101   0.000217   0.001844   0.000215   0.000293   \n",
       "IPC250  -0.000680  -0.000655  -0.000948  -0.000815  -0.001099  -0.001031   \n",
       "\n",
       "        p1k_00007  p1k_00008  p1k_00009  p1k_00010  ...  p1k_01046  p1k_01047  \\\n",
       "IPC1    -0.000097  -0.000431   0.000652  -0.000085  ...  -0.001358  -0.001715   \n",
       "IPC2    -0.000392   0.000194   0.000392  -0.000300  ...  -0.000147   0.002523   \n",
       "IPC3    -0.000374  -0.000094  -0.000204   0.000321  ...   0.000432  -0.000834   \n",
       "IPC4    -0.000071   0.000556  -0.000349  -0.000484  ...   0.000295  -0.000341   \n",
       "IPC5    -0.000126   0.000006  -0.000040   0.000033  ...  -0.000051  -0.000119   \n",
       "...           ...        ...        ...        ...  ...        ...        ...   \n",
       "IPC246   0.000514  -0.000379   0.000331   0.000597  ...   0.000366   0.000092   \n",
       "IPC247  -0.001392  -0.001119  -0.000239  -0.000114  ...   0.000787  -0.000714   \n",
       "IPC248   0.000198  -0.001335   0.000848   0.001242  ...   0.000428   0.000811   \n",
       "IPC249  -0.000818  -0.000419   0.001189   0.000474  ...   0.000077  -0.000553   \n",
       "IPC250  -0.001033  -0.001041  -0.001106  -0.001178  ...  -0.000151   0.000514   \n",
       "\n",
       "        p1k_01048  p1k_01049  p1k_01050  p1k_01051  p1k_01052  p1k_01053  \\\n",
       "IPC1    -0.001046  -0.001416  -0.000223  -0.029182  -0.000604   0.000150   \n",
       "IPC2     0.000325   0.000771   0.029039  -0.000055  -0.000631   0.000273   \n",
       "IPC3    -0.000148  -0.000295  -0.000107  -0.000151   0.000209   0.000427   \n",
       "IPC4    -0.000274  -0.000210   0.000092  -0.000007   0.000307  -0.000544   \n",
       "IPC5    -0.000247  -0.000073   0.000326   0.000568  -0.000067  -0.000393   \n",
       "...           ...        ...        ...        ...        ...        ...   \n",
       "IPC246  -0.001281   0.001436  -0.000002  -0.000012   0.000359   0.000509   \n",
       "IPC247   0.001466  -0.000271   0.000034   0.000029   0.000102  -0.001399   \n",
       "IPC248  -0.000674  -0.000310  -0.000051   0.000016  -0.000123  -0.000392   \n",
       "IPC249   0.000710  -0.000033  -0.000002   0.000043   0.000754   0.001276   \n",
       "IPC250   0.000374   0.000429   0.000233   0.000311  -0.000749   0.000493   \n",
       "\n",
       "        p1k_01054  p1k_01055  \n",
       "IPC1     0.000828  -0.000538  \n",
       "IPC2     0.000943  -0.000658  \n",
       "IPC3    -0.000644   0.000552  \n",
       "IPC4    -0.000712  -0.000003  \n",
       "IPC5     0.000972   0.000365  \n",
       "...           ...        ...  \n",
       "IPC246   0.001205  -0.000446  \n",
       "IPC247   0.000147   0.000196  \n",
       "IPC248   0.000098  -0.000514  \n",
       "IPC249  -0.000222   0.000252  \n",
       "IPC250   0.000373   0.000405  \n",
       "\n",
       "[250 rows x 1035 columns]"
      ]
     },
     "execution_count": 17,
     "metadata": {},
     "output_type": "execute_result"
    }
   ],
   "source": [
    "activities_ipca"
   ]
  },
  {
   "cell_type": "code",
   "execution_count": 18,
   "id": "7338089c-5bc0-48a3-981a-61455177d580",
   "metadata": {
    "execution": {
     "iopub.execute_input": "2024-08-17T21:27:34.930995Z",
     "iopub.status.busy": "2024-08-17T21:27:34.930864Z",
     "iopub.status.idle": "2024-08-17T21:30:12.219498Z",
     "shell.execute_reply": "2024-08-17T21:30:12.218654Z",
     "shell.execute_reply.started": "2024-08-17T21:27:34.930981Z"
    }
   },
   "outputs": [],
   "source": [
    "ipca = IcaData(components_ipca,activities_ipca)"
   ]
  },
  {
   "cell_type": "code",
   "execution_count": 19,
   "id": "e20c0fbb-ea86-4f0b-9ffe-5e10773cb8ba",
   "metadata": {
    "execution": {
     "iopub.execute_input": "2024-08-17T21:30:12.220621Z",
     "iopub.status.busy": "2024-08-17T21:30:12.220359Z",
     "iopub.status.idle": "2024-08-17T21:30:12.240283Z",
     "shell.execute_reply": "2024-08-17T21:30:12.239575Z",
     "shell.execute_reply.started": "2024-08-17T21:30:12.220601Z"
    }
   },
   "outputs": [],
   "source": [
    "ipca.X = precise1k.X"
   ]
  },
  {
   "cell_type": "code",
   "execution_count": 20,
   "id": "3d462245-8dae-46c1-8e4f-069115bc2316",
   "metadata": {
    "execution": {
     "iopub.execute_input": "2024-08-17T21:30:12.241258Z",
     "iopub.status.busy": "2024-08-17T21:30:12.241096Z",
     "iopub.status.idle": "2024-08-17T21:30:12.446552Z",
     "shell.execute_reply": "2024-08-17T21:30:12.445728Z",
     "shell.execute_reply.started": "2024-08-17T21:30:12.241241Z"
    }
   },
   "outputs": [],
   "source": [
    "ipca.gene_table = precise1k.gene_table\n",
    "ipca.trn = precise1k.trn"
   ]
  },
  {
   "cell_type": "code",
   "execution_count": 21,
   "id": "d5e095f7-8b4f-4563-8d4a-67a72a87b272",
   "metadata": {
    "execution": {
     "iopub.execute_input": "2024-08-17T21:30:12.450476Z",
     "iopub.status.busy": "2024-08-17T21:30:12.450249Z",
     "iopub.status.idle": "2024-08-17T21:30:12.453479Z",
     "shell.execute_reply": "2024-08-17T21:30:12.452861Z",
     "shell.execute_reply.started": "2024-08-17T21:30:12.450458Z"
    }
   },
   "outputs": [],
   "source": [
    "ipca.cog_colors = precise1k.cog_colors"
   ]
  },
  {
   "cell_type": "code",
   "execution_count": 22,
   "id": "d08423fa-71c9-47a7-b6a8-ad06b554a315",
   "metadata": {
    "execution": {
     "iopub.execute_input": "2024-08-17T21:30:12.454379Z",
     "iopub.status.busy": "2024-08-17T21:30:12.454196Z",
     "iopub.status.idle": "2024-08-17T21:30:12.466033Z",
     "shell.execute_reply": "2024-08-17T21:30:12.465122Z",
     "shell.execute_reply.started": "2024-08-17T21:30:12.454361Z"
    }
   },
   "outputs": [],
   "source": [
    "ipca.sample_table = ipca.sample_table"
   ]
  },
  {
   "cell_type": "code",
   "execution_count": 23,
   "id": "960dfe84-40c7-47dc-b8d0-9dcb2262f987",
   "metadata": {
    "execution": {
     "iopub.execute_input": "2024-08-17T21:30:12.467087Z",
     "iopub.status.busy": "2024-08-17T21:30:12.466908Z",
     "iopub.status.idle": "2024-08-17T21:30:36.584490Z",
     "shell.execute_reply": "2024-08-17T21:30:36.583656Z",
     "shell.execute_reply.started": "2024-08-17T21:30:12.467070Z"
    }
   },
   "outputs": [
    {
     "data": {
      "text/plain": [
       "0.00014441529368092176"
      ]
     },
     "execution_count": 23,
     "metadata": {},
     "output_type": "execute_result"
    }
   ],
   "source": [
    "explained_variance(ipca)"
   ]
  },
  {
   "cell_type": "code",
   "execution_count": 24,
   "id": "77d87d64-703b-4132-8fbf-9559155d0cb3",
   "metadata": {
    "execution": {
     "iopub.execute_input": "2024-08-17T21:30:36.585958Z",
     "iopub.status.busy": "2024-08-17T21:30:36.585742Z",
     "iopub.status.idle": "2024-08-17T21:32:32.156732Z",
     "shell.execute_reply": "2024-08-17T21:32:32.156121Z",
     "shell.execute_reply.started": "2024-08-17T21:30:36.585936Z"
    },
    "scrolled": true
   },
   "outputs": [
    {
     "data": {
      "application/vnd.jupyter.widget-view+json": {
       "model_id": "86e01460db3644378be6db7f1b646347",
       "version_major": 2,
       "version_minor": 0
      },
      "text/plain": [
       "  0%|          | 0/39 [00:00<?, ?it/s]"
      ]
     },
     "metadata": {},
     "output_type": "display_data"
    },
    {
     "name": "stdout",
     "output_type": "stream",
     "text": [
      "      F1 Score  Precision    Recall       MCC\n",
      "50    0.136491   0.553271  0.099650  0.193074\n",
      "100   0.180921   0.519156  0.146493  0.230730\n",
      "150   0.209201   0.471307  0.188583  0.250250\n",
      "200   0.218466   0.413706  0.226852  0.253521\n",
      "250   0.218330   0.364714  0.257894  0.251185\n",
      "300   0.210528   0.317841  0.283817  0.242708\n",
      "350   0.191952   0.271946  0.285711  0.222474\n",
      "400   0.174470   0.233849  0.275110  0.201747\n",
      "450   0.161953   0.202969  0.271257  0.186314\n",
      "500   0.150854   0.180213  0.263073  0.174041\n",
      "550   0.140794   0.161814  0.266026  0.165168\n",
      "600   0.124240   0.140927  0.234801  0.145124\n",
      "650   0.113926   0.124065  0.222107  0.134779\n",
      "700   0.100077   0.109444  0.204775  0.119670\n",
      "750   0.088124   0.094294  0.191433  0.106199\n",
      "800   0.086147   0.088831  0.181883  0.102872\n",
      "850   0.080712   0.082716  0.178367  0.097348\n",
      "900   0.077981   0.078727  0.174224  0.094288\n",
      "950   0.075457   0.075974  0.171167  0.091454\n",
      "1000  0.074366   0.074234  0.165975  0.089642\n",
      "1050  0.070799   0.070182  0.160374  0.085422\n",
      "1100  0.066858   0.066590  0.154194  0.080886\n",
      "1150  0.063982   0.060527  0.159281  0.078248\n",
      "1200  0.057126   0.054564  0.148669  0.070439\n",
      "1250  0.056134   0.053219  0.145973  0.069019\n",
      "1300  0.054077   0.050828  0.140669  0.066267\n",
      "1350  0.052576   0.049193  0.132429  0.063413\n",
      "1400  0.049833   0.046844  0.128299  0.060095\n",
      "1450  0.049371   0.046284  0.122616  0.058873\n",
      "1500  0.047128   0.043969  0.117518  0.056000\n",
      "1550  0.045660   0.041944  0.117887  0.054730\n",
      "1600  0.044026   0.040812  0.112039  0.052390\n",
      "1650  0.039660   0.036334  0.103104  0.047614\n",
      "1700  0.039342   0.035684  0.103867  0.047470\n",
      "1750  0.037754   0.034060  0.097824  0.045131\n",
      "1800  0.037168   0.033254  0.098441  0.044586\n",
      "1850  0.035253   0.030736  0.098642  0.042968\n",
      "1900  0.035090   0.030619  0.101274  0.043161\n",
      "1950  0.034329   0.029967  0.095572  0.041965\n"
     ]
    },
    {
     "data": {
      "text/plain": [
       "200"
      ]
     },
     "execution_count": 24,
     "metadata": {},
     "output_type": "execute_result"
    },
    {
     "data": {
      "image/png": "[encoded data removed]",
      "text/plain": [
       "<Figure size 400x400 with 1 Axes>"
      ]
     },
     "metadata": {},
     "output_type": "display_data"
    }
   ],
   "source": [
    "ipca.reoptimize_thresholds()"
   ]
  },
  {
   "cell_type": "code",
   "execution_count": 25,
   "id": "b91a6c9e-7779-47e4-bbe9-b1c3f1c79ace",
   "metadata": {
    "execution": {
     "iopub.execute_input": "2024-08-17T21:32:32.157668Z",
     "iopub.status.busy": "2024-08-17T21:32:32.157497Z",
     "iopub.status.idle": "2024-08-17T21:32:32.160164Z",
     "shell.execute_reply": "2024-08-17T21:32:32.159677Z",
     "shell.execute_reply.started": "2024-08-17T21:32:32.157652Z"
    }
   },
   "outputs": [],
   "source": [
    "# ipca.recompute_thresholds(700)"
   ]
  },
  {
   "cell_type": "code",
   "execution_count": 26,
   "id": "9061a8df-ed15-4a67-b29d-a816beeea51b",
   "metadata": {
    "execution": {
     "iopub.execute_input": "2024-08-17T21:32:32.161192Z",
     "iopub.status.busy": "2024-08-17T21:32:32.160856Z",
     "iopub.status.idle": "2024-08-17T21:32:41.345732Z",
     "shell.execute_reply": "2024-08-17T21:32:41.344947Z",
     "shell.execute_reply.started": "2024-08-17T21:32:32.161177Z"
    }
   },
   "outputs": [],
   "source": [
    "imdb_gene_presence(ipca)[0].to_csv('Presence_Matrices/Independent_PCA_Gene_Presence_Matrix.csv')"
   ]
  },
  {
   "cell_type": "markdown",
   "id": "8de25373-35a7-45f0-8df3-8338fff242da",
   "metadata": {},
   "source": [
    "## sparse IPCA"
   ]
  },
  {
   "cell_type": "code",
   "execution_count": 27,
   "id": "4b7bf2a4-e032-4cf7-9b0d-2734374ecb3f",
   "metadata": {
    "execution": {
     "iopub.execute_input": "2024-08-17T21:32:41.346852Z",
     "iopub.status.busy": "2024-08-17T21:32:41.346652Z",
     "iopub.status.idle": "2024-08-17T21:32:41.508885Z",
     "shell.execute_reply": "2024-08-17T21:32:41.508195Z",
     "shell.execute_reply.started": "2024-08-17T21:32:41.346835Z"
    }
   },
   "outputs": [],
   "source": [
    "components_sipca = pd.read_csv('./Results/sIPCA/components_sipca.csv', index_col=0)"
   ]
  },
  {
   "cell_type": "code",
   "execution_count": 5,
   "id": "215c19c8-5c4a-440b-8009-c52decf5cd72",
   "metadata": {
    "execution": {
     "iopub.execute_input": "2024-12-01T06:41:45.095343Z",
     "iopub.status.busy": "2024-12-01T06:41:45.094975Z",
     "iopub.status.idle": "2024-12-01T06:41:45.118764Z",
     "shell.execute_reply": "2024-12-01T06:41:45.118404Z",
     "shell.execute_reply.started": "2024-12-01T06:41:45.095330Z"
    }
   },
   "outputs": [],
   "source": [
    "activities_sipca = pd.read_csv('./Results/sIPCA/loadings_variables_sipca.csv', index_col=0).T"
   ]
  },
  {
   "cell_type": "code",
   "execution_count": 29,
   "id": "91b8ae35-aff8-479f-a25c-3c4b3e53747f",
   "metadata": {
    "execution": {
     "iopub.execute_input": "2024-08-17T21:32:41.529753Z",
     "iopub.status.busy": "2024-08-17T21:32:41.529605Z",
     "iopub.status.idle": "2024-08-17T21:32:41.532386Z",
     "shell.execute_reply": "2024-08-17T21:32:41.531921Z",
     "shell.execute_reply.started": "2024-08-17T21:32:41.529739Z"
    }
   },
   "outputs": [],
   "source": [
    "components_sipca.columns = activities_sipca.index"
   ]
  },
  {
   "cell_type": "code",
   "execution_count": 30,
   "id": "683d78f5-abd4-4a9f-8bd1-dd944b6ad4b9",
   "metadata": {
    "execution": {
     "iopub.execute_input": "2024-08-17T21:32:41.533461Z",
     "iopub.status.busy": "2024-08-17T21:32:41.533095Z",
     "iopub.status.idle": "2024-08-17T21:35:20.111663Z",
     "shell.execute_reply": "2024-08-17T21:35:20.110955Z",
     "shell.execute_reply.started": "2024-08-17T21:32:41.533446Z"
    }
   },
   "outputs": [],
   "source": [
    "sipca = IcaData(components_sipca,activities_sipca)"
   ]
  },
  {
   "cell_type": "code",
   "execution_count": 31,
   "id": "011b3cb9-36aa-4f79-90a3-7a0a37655e0f",
   "metadata": {
    "execution": {
     "iopub.execute_input": "2024-08-17T21:35:20.113016Z",
     "iopub.status.busy": "2024-08-17T21:35:20.112637Z",
     "iopub.status.idle": "2024-08-17T21:35:20.128184Z",
     "shell.execute_reply": "2024-08-17T21:35:20.127607Z",
     "shell.execute_reply.started": "2024-08-17T21:35:20.112992Z"
    }
   },
   "outputs": [],
   "source": [
    "sipca.X = precise1k.X"
   ]
  },
  {
   "cell_type": "code",
   "execution_count": 32,
   "id": "c8bd6924-7427-4fd7-97c6-8063f5ded754",
   "metadata": {
    "execution": {
     "iopub.execute_input": "2024-08-17T21:35:20.129280Z",
     "iopub.status.busy": "2024-08-17T21:35:20.128948Z",
     "iopub.status.idle": "2024-08-17T21:35:20.324888Z",
     "shell.execute_reply": "2024-08-17T21:35:20.324260Z",
     "shell.execute_reply.started": "2024-08-17T21:35:20.129261Z"
    }
   },
   "outputs": [],
   "source": [
    "sipca.gene_table = precise1k.gene_table\n",
    "sipca.trn = precise1k.trn"
   ]
  },
  {
   "cell_type": "code",
   "execution_count": 33,
   "id": "7884a238-9322-4c17-9f03-726eac3c4af9",
   "metadata": {
    "execution": {
     "iopub.execute_input": "2024-08-17T21:35:20.325762Z",
     "iopub.status.busy": "2024-08-17T21:35:20.325601Z",
     "iopub.status.idle": "2024-08-17T21:35:20.328597Z",
     "shell.execute_reply": "2024-08-17T21:35:20.328084Z",
     "shell.execute_reply.started": "2024-08-17T21:35:20.325746Z"
    }
   },
   "outputs": [],
   "source": [
    "sipca.cog_colors = precise1k.cog_colors"
   ]
  },
  {
   "cell_type": "code",
   "execution_count": 34,
   "id": "73329081-e3db-4202-8e93-978a72ec2c81",
   "metadata": {
    "execution": {
     "iopub.execute_input": "2024-08-17T21:35:20.329397Z",
     "iopub.status.busy": "2024-08-17T21:35:20.329256Z",
     "iopub.status.idle": "2024-08-17T21:35:20.339114Z",
     "shell.execute_reply": "2024-08-17T21:35:20.338453Z",
     "shell.execute_reply.started": "2024-08-17T21:35:20.329383Z"
    }
   },
   "outputs": [],
   "source": [
    "sipca.sample_table = sipca.sample_table"
   ]
  },
  {
   "cell_type": "code",
   "execution_count": 35,
   "id": "4c8c8c1e-7dc1-494b-afb6-4b823eb78b84",
   "metadata": {
    "execution": {
     "iopub.execute_input": "2024-08-17T21:35:20.339987Z",
     "iopub.status.busy": "2024-08-17T21:35:20.339833Z",
     "iopub.status.idle": "2024-08-17T21:35:43.562758Z",
     "shell.execute_reply": "2024-08-17T21:35:43.562283Z",
     "shell.execute_reply.started": "2024-08-17T21:35:20.339972Z"
    }
   },
   "outputs": [
    {
     "data": {
      "text/plain": [
       "0.00010286532068970455"
      ]
     },
     "execution_count": 35,
     "metadata": {},
     "output_type": "execute_result"
    }
   ],
   "source": [
    "explained_variance(sipca)"
   ]
  },
  {
   "cell_type": "code",
   "execution_count": 36,
   "id": "b6a698db-4e34-4ffb-917b-5781817006ed",
   "metadata": {
    "execution": {
     "iopub.execute_input": "2024-08-17T21:35:43.563814Z",
     "iopub.status.busy": "2024-08-17T21:35:43.563430Z",
     "iopub.status.idle": "2024-08-17T21:37:40.413847Z",
     "shell.execute_reply": "2024-08-17T21:37:40.413253Z",
     "shell.execute_reply.started": "2024-08-17T21:35:43.563796Z"
    }
   },
   "outputs": [
    {
     "data": {
      "application/vnd.jupyter.widget-view+json": {
       "model_id": "37a4da765a3b4a9f916490307d0b8d04",
       "version_major": 2,
       "version_minor": 0
      },
      "text/plain": [
       "  0%|          | 0/39 [00:00<?, ?it/s]"
      ]
     },
     "metadata": {},
     "output_type": "display_data"
    },
    {
     "name": "stdout",
     "output_type": "stream",
     "text": [
      "      F1 Score  Precision    Recall       MCC\n",
      "50    0.145890   0.557261  0.103538  0.201376\n",
      "100   0.190346   0.514935  0.153165  0.238464\n",
      "150   0.219717   0.467527  0.200717  0.260019\n",
      "200   0.228697   0.409233  0.233011  0.261899\n",
      "250   0.220004   0.349617  0.255881  0.249785\n",
      "300   0.209468   0.310118  0.266216  0.238142\n",
      "350   0.199015   0.277572  0.274590  0.227101\n",
      "400   0.191173   0.252997  0.279059  0.219012\n",
      "450   0.180216   0.226122  0.278797  0.206572\n",
      "500   0.162360   0.197578  0.256976  0.185927\n",
      "550   0.151338   0.175821  0.263740  0.175249\n",
      "600   0.138049   0.156524  0.245929  0.160032\n",
      "650   0.127315   0.141913  0.240200  0.148769\n",
      "700   0.120619   0.131951  0.235171  0.141685\n",
      "750   0.110693   0.117849  0.226487  0.131236\n",
      "800   0.106040   0.110441  0.221910  0.126119\n",
      "850   0.095582   0.099670  0.206178  0.114696\n",
      "900   0.086320   0.087369  0.195142  0.104250\n",
      "950   0.083438   0.083843  0.184544  0.100362\n",
      "1000  0.080799   0.081559  0.179960  0.096797\n",
      "1050  0.078608   0.078193  0.183478  0.095057\n",
      "1100  0.074806   0.073871  0.175459  0.090194\n",
      "1150  0.071824   0.067920  0.173189  0.086572\n",
      "1200  0.065314   0.062209  0.159392  0.078408\n",
      "1250  0.061402   0.058745  0.150077  0.073891\n",
      "1300  0.059354   0.055918  0.146356  0.071488\n",
      "1350  0.058317   0.055271  0.135223  0.069033\n",
      "1400  0.057790   0.053905  0.139635  0.068555\n",
      "1450  0.057177   0.053305  0.137512  0.067512\n",
      "1500  0.055274   0.051242  0.134299  0.065201\n",
      "1550  0.048582   0.044192  0.130581  0.058963\n",
      "1600  0.046540   0.042084  0.119130  0.055442\n",
      "1650  0.043245   0.039308  0.113490  0.051600\n",
      "1700  0.042231   0.038575  0.114724  0.050451\n",
      "1750  0.041017   0.036956  0.114915  0.049461\n",
      "1800  0.039907   0.035766  0.115517  0.048695\n",
      "1850  0.039353   0.035462  0.103952  0.047110\n",
      "1900  0.038193   0.033964  0.104667  0.046081\n",
      "1950  0.037193   0.032773  0.107279  0.045548\n"
     ]
    },
    {
     "data": {
      "text/plain": [
       "200"
      ]
     },
     "execution_count": 36,
     "metadata": {},
     "output_type": "execute_result"
    },
    {
     "data": {
      "image/png": "[encoded data removed]",
      "text/plain": [
       "<Figure size 400x400 with 1 Axes>"
      ]
     },
     "metadata": {},
     "output_type": "display_data"
    }
   ],
   "source": [
    "sipca.reoptimize_thresholds()"
   ]
  },
  {
   "cell_type": "code",
   "execution_count": 37,
   "id": "b5cb0111-de73-420e-817b-b0420026ee5a",
   "metadata": {
    "execution": {
     "iopub.execute_input": "2024-08-17T21:37:40.414713Z",
     "iopub.status.busy": "2024-08-17T21:37:40.414527Z",
     "iopub.status.idle": "2024-08-17T21:37:40.417006Z",
     "shell.execute_reply": "2024-08-17T21:37:40.416569Z",
     "shell.execute_reply.started": "2024-08-17T21:37:40.414691Z"
    }
   },
   "outputs": [],
   "source": [
    "# sipca.recompute_thresholds(200)"
   ]
  },
  {
   "cell_type": "code",
   "execution_count": 38,
   "id": "7daf7409-3c9b-44f0-ba2f-dcd7afefbbaf",
   "metadata": {
    "execution": {
     "iopub.execute_input": "2024-08-17T21:37:40.417679Z",
     "iopub.status.busy": "2024-08-17T21:37:40.417527Z",
     "iopub.status.idle": "2024-08-17T21:37:47.900628Z",
     "shell.execute_reply": "2024-08-17T21:37:47.900030Z",
     "shell.execute_reply.started": "2024-08-17T21:37:40.417663Z"
    }
   },
   "outputs": [],
   "source": [
    "imdb_gene_presence(sipca)[0].to_csv('Presence_Matrices/Sparse_Independent_PCA_Gene_Presence_Matrix.csv')"
   ]
  },
  {
   "cell_type": "markdown",
   "id": "ea677718-d93c-4e05-a91a-f5ccf8d35445",
   "metadata": {},
   "source": [
    "## Factor Analysis"
   ]
  },
  {
   "cell_type": "code",
   "execution_count": 39,
   "id": "0b9b7db7-8e83-4685-b73a-ee5098851366",
   "metadata": {
    "execution": {
     "iopub.execute_input": "2024-08-17T21:37:47.901455Z",
     "iopub.status.busy": "2024-08-17T21:37:47.901256Z",
     "iopub.status.idle": "2024-08-17T21:37:48.071504Z",
     "shell.execute_reply": "2024-08-17T21:37:48.070920Z",
     "shell.execute_reply.started": "2024-08-17T21:37:47.901440Z"
    }
   },
   "outputs": [],
   "source": [
    "components_factor_analysis = pd.read_csv('./Results/Factor_Analysis/M_Factor_Analysis.csv', index_col=0)"
   ]
  },
  {
   "cell_type": "code",
   "execution_count": 40,
   "id": "d350845d-3ef9-4c40-8a1d-63aaf27cf77e",
   "metadata": {
    "execution": {
     "iopub.execute_input": "2024-08-17T21:37:48.072327Z",
     "iopub.status.busy": "2024-08-17T21:37:48.072150Z",
     "iopub.status.idle": "2024-08-17T21:37:48.119384Z",
     "shell.execute_reply": "2024-08-17T21:37:48.118881Z",
     "shell.execute_reply.started": "2024-08-17T21:37:48.072312Z"
    }
   },
   "outputs": [],
   "source": [
    "activities_factor_analysis = pd.read_csv('./Results/Factor_Analysis/A_Factor_Analysis.csv', index_col=0).T"
   ]
  },
  {
   "cell_type": "code",
   "execution_count": 41,
   "id": "115da0a8-2cc1-4bc3-a9ea-5eb7f6c9af88",
   "metadata": {
    "execution": {
     "iopub.execute_input": "2024-08-17T21:37:48.120258Z",
     "iopub.status.busy": "2024-08-17T21:37:48.119966Z",
     "iopub.status.idle": "2024-08-17T21:40:26.957313Z",
     "shell.execute_reply": "2024-08-17T21:40:26.956502Z",
     "shell.execute_reply.started": "2024-08-17T21:37:48.120242Z"
    }
   },
   "outputs": [],
   "source": [
    "factor_analysis = IcaData(components_factor_analysis,activities_factor_analysis)"
   ]
  },
  {
   "cell_type": "code",
   "execution_count": 42,
   "id": "e3144502-fff1-493e-9d59-13dbe17b2063",
   "metadata": {
    "execution": {
     "iopub.execute_input": "2024-08-17T21:40:26.958833Z",
     "iopub.status.busy": "2024-08-17T21:40:26.958325Z",
     "iopub.status.idle": "2024-08-17T21:40:26.973974Z",
     "shell.execute_reply": "2024-08-17T21:40:26.973243Z",
     "shell.execute_reply.started": "2024-08-17T21:40:26.958806Z"
    }
   },
   "outputs": [],
   "source": [
    "factor_analysis.X = precise1k.X"
   ]
  },
  {
   "cell_type": "code",
   "execution_count": 43,
   "id": "f2599e43-c1d4-450e-93c1-3f110c2cf035",
   "metadata": {
    "execution": {
     "iopub.execute_input": "2024-08-17T21:40:26.975263Z",
     "iopub.status.busy": "2024-08-17T21:40:26.974819Z",
     "iopub.status.idle": "2024-08-17T21:40:27.176974Z",
     "shell.execute_reply": "2024-08-17T21:40:27.176131Z",
     "shell.execute_reply.started": "2024-08-17T21:40:26.975245Z"
    }
   },
   "outputs": [],
   "source": [
    "factor_analysis.gene_table = precise1k.gene_table\n",
    "factor_analysis.trn = precise1k.trn"
   ]
  },
  {
   "cell_type": "code",
   "execution_count": 44,
   "id": "9efeb25f-fcc6-4da8-a611-29ace4a47b7f",
   "metadata": {
    "execution": {
     "iopub.execute_input": "2024-08-17T21:40:27.178165Z",
     "iopub.status.busy": "2024-08-17T21:40:27.177877Z",
     "iopub.status.idle": "2024-08-17T21:40:27.181310Z",
     "shell.execute_reply": "2024-08-17T21:40:27.180676Z",
     "shell.execute_reply.started": "2024-08-17T21:40:27.178143Z"
    }
   },
   "outputs": [],
   "source": [
    "factor_analysis.cog_colors = precise1k.cog_colors"
   ]
  },
  {
   "cell_type": "code",
   "execution_count": 45,
   "id": "33fc9358-5433-4663-9705-e09b19aa1012",
   "metadata": {
    "execution": {
     "iopub.execute_input": "2024-08-17T21:40:27.182479Z",
     "iopub.status.busy": "2024-08-17T21:40:27.182064Z",
     "iopub.status.idle": "2024-08-17T21:40:27.195288Z",
     "shell.execute_reply": "2024-08-17T21:40:27.194578Z",
     "shell.execute_reply.started": "2024-08-17T21:40:27.182462Z"
    }
   },
   "outputs": [],
   "source": [
    "factor_analysis.sample_table = precise1k.sample_table"
   ]
  },
  {
   "cell_type": "code",
   "execution_count": 46,
   "id": "8fdbc134-1ff5-4dc6-a92d-4f4be18403ce",
   "metadata": {
    "execution": {
     "iopub.execute_input": "2024-08-17T21:40:27.196450Z",
     "iopub.status.busy": "2024-08-17T21:40:27.196000Z",
     "iopub.status.idle": "2024-08-17T21:40:50.305155Z",
     "shell.execute_reply": "2024-08-17T21:40:50.304389Z",
     "shell.execute_reply.started": "2024-08-17T21:40:27.196434Z"
    }
   },
   "outputs": [
    {
     "data": {
      "text/plain": [
       "0.9729593694263614"
      ]
     },
     "execution_count": 46,
     "metadata": {},
     "output_type": "execute_result"
    }
   ],
   "source": [
    "explained_variance(factor_analysis)"
   ]
  },
  {
   "cell_type": "code",
   "execution_count": 47,
   "id": "fc38d22a-3bf8-48ec-8950-01a7adeaa822",
   "metadata": {
    "execution": {
     "iopub.execute_input": "2024-08-17T21:40:50.307041Z",
     "iopub.status.busy": "2024-08-17T21:40:50.306507Z",
     "iopub.status.idle": "2024-08-17T21:42:13.875704Z",
     "shell.execute_reply": "2024-08-17T21:42:13.875093Z",
     "shell.execute_reply.started": "2024-08-17T21:40:50.307015Z"
    }
   },
   "outputs": [
    {
     "data": {
      "application/vnd.jupyter.widget-view+json": {
       "model_id": "42ff8dc0386c46399156ebaaeb53d42b",
       "version_major": 2,
       "version_minor": 0
      },
      "text/plain": [
       "  0%|          | 0/39 [00:00<?, ?it/s]"
      ]
     },
     "metadata": {},
     "output_type": "display_data"
    },
    {
     "name": "stdout",
     "output_type": "stream",
     "text": [
      "      F1 Score  Precision    Recall       MCC\n",
      "50    0.140872   0.606470  0.111253  0.206503\n",
      "100   0.184971   0.524117  0.158804  0.238206\n",
      "150   0.204066   0.420871  0.196125  0.240690\n",
      "200   0.198211   0.316345  0.208392  0.219363\n",
      "250   0.167775   0.210251  0.220065  0.181291\n",
      "300   0.125922   0.134844  0.198636  0.136034\n",
      "350   0.090778   0.086031  0.182381  0.103010\n",
      "400   0.062963   0.055490  0.153779  0.075631\n",
      "450   0.043561   0.036234  0.141752  0.056320\n",
      "500   0.033805   0.028079  0.097488  0.042130\n",
      "550   0.022125   0.017172  0.079229  0.030209\n",
      "600   0.015037   0.012003  0.056450  0.020736\n",
      "650   0.012652   0.009221  0.051646  0.017649\n",
      "700   0.012152   0.008801  0.051675  0.017087\n",
      "750   0.009978   0.007112  0.056839  0.014970\n",
      "800   0.009620   0.006802  0.043810  0.013655\n",
      "850   0.007763   0.005618  0.031418  0.010614\n",
      "900   0.007701   0.005527  0.032841  0.010635\n",
      "950   0.007206   0.005166  0.035008  0.010156\n",
      "1000  0.006980   0.004931  0.036642  0.009881\n",
      "1050  0.006590   0.004582  0.036566  0.009406\n",
      "1100  0.006207   0.004292  0.023930  0.008434\n",
      "1150  0.004674   0.003266  0.017544  0.006331\n",
      "1200  0.004419   0.003008  0.017430  0.006111\n",
      "1250  0.004205   0.002749  0.017610  0.005979\n",
      "1300  0.004042   0.002577  0.017703  0.005871\n",
      "1350  0.003970   0.002491  0.017862  0.005848\n",
      "1400  0.003764   0.002318  0.017774  0.005673\n",
      "1450  0.003683   0.002232  0.017969  0.005649\n",
      "1500  0.002494   0.001536  0.011586  0.003647\n",
      "1550  0.002263   0.001363  0.011469  0.003445\n",
      "1600  0.002042   0.001191  0.011680  0.003308\n",
      "1650  0.001480   0.000862  0.005241  0.002083\n",
      "1700  0.001348   0.000775  0.005146  0.001956\n",
      "1750  0.001227   0.000689  0.005590  0.001925\n",
      "1800  0.000943   0.000517  0.005391  0.001633\n",
      "1850  0.000796   0.000431  0.005241  0.001467\n",
      "1900  0.000653   0.000345  0.006289  0.001460\n",
      "1950  0.000497   0.000258  0.006289  0.001264\n"
     ]
    },
    {
     "data": {
      "text/plain": [
       "150"
      ]
     },
     "execution_count": 47,
     "metadata": {},
     "output_type": "execute_result"
    },
    {
     "data": {
      "image/png": "[encoded data removed]",
      "text/plain": [
       "<Figure size 400x400 with 1 Axes>"
      ]
     },
     "metadata": {},
     "output_type": "display_data"
    }
   ],
   "source": [
    "factor_analysis.reoptimize_thresholds()"
   ]
  },
  {
   "cell_type": "code",
   "execution_count": 48,
   "id": "d6d953cc-5d8c-45db-84ca-a106d3367c21",
   "metadata": {
    "execution": {
     "iopub.execute_input": "2024-08-17T21:42:13.876830Z",
     "iopub.status.busy": "2024-08-17T21:42:13.876633Z",
     "iopub.status.idle": "2024-08-17T21:42:13.879197Z",
     "shell.execute_reply": "2024-08-17T21:42:13.878681Z",
     "shell.execute_reply.started": "2024-08-17T21:42:13.876811Z"
    }
   },
   "outputs": [],
   "source": [
    "# factor_analysis.recompute_thresholds(150)"
   ]
  },
  {
   "cell_type": "code",
   "execution_count": 49,
   "id": "24889fd3-4c03-4ed2-8002-2a79fee8cb61",
   "metadata": {
    "execution": {
     "iopub.execute_input": "2024-08-17T21:42:13.880006Z",
     "iopub.status.busy": "2024-08-17T21:42:13.879850Z",
     "iopub.status.idle": "2024-08-17T21:42:19.845772Z",
     "shell.execute_reply": "2024-08-17T21:42:19.844996Z",
     "shell.execute_reply.started": "2024-08-17T21:42:13.879991Z"
    }
   },
   "outputs": [],
   "source": [
    "imdb_gene_presence(factor_analysis)[0].to_csv('Presence_Matrices/Factor_Analysis_Gene_Presence_Matrix.csv')"
   ]
  },
  {
   "cell_type": "markdown",
   "id": "bf8055fb-3647-4f83-9242-6619fc6b03b6",
   "metadata": {},
   "source": [
    "## Dictionary Learning"
   ]
  },
  {
   "cell_type": "code",
   "execution_count": 50,
   "id": "328cc6f4-c8b0-4b7a-9011-bf388e51f80e",
   "metadata": {
    "execution": {
     "iopub.execute_input": "2024-08-17T21:42:19.847023Z",
     "iopub.status.busy": "2024-08-17T21:42:19.846734Z",
     "iopub.status.idle": "2024-08-17T21:42:19.966926Z",
     "shell.execute_reply": "2024-08-17T21:42:19.966222Z",
     "shell.execute_reply.started": "2024-08-17T21:42:19.847001Z"
    }
   },
   "outputs": [],
   "source": [
    "components_dictionary_learning = pd.read_csv('./Results/Dictionary_Learning/M_Dictionary_Learning.csv', index_col=0)"
   ]
  },
  {
   "cell_type": "code",
   "execution_count": 51,
   "id": "527551b2-b757-4c4b-a531-10ede3b9227a",
   "metadata": {
    "execution": {
     "iopub.execute_input": "2024-08-17T21:42:19.967923Z",
     "iopub.status.busy": "2024-08-17T21:42:19.967712Z",
     "iopub.status.idle": "2024-08-17T21:42:20.011237Z",
     "shell.execute_reply": "2024-08-17T21:42:20.010620Z",
     "shell.execute_reply.started": "2024-08-17T21:42:19.967907Z"
    }
   },
   "outputs": [],
   "source": [
    "activities_dictionary_learning = pd.read_csv('./Results/Dictionary_Learning/A_Dictionary_Learning.csv', index_col=0).T"
   ]
  },
  {
   "cell_type": "code",
   "execution_count": 52,
   "id": "72ecb265-b362-491d-813f-f7cc6e699245",
   "metadata": {
    "execution": {
     "iopub.execute_input": "2024-08-17T21:42:20.012122Z",
     "iopub.status.busy": "2024-08-17T21:42:20.011980Z",
     "iopub.status.idle": "2024-08-17T21:42:20.027647Z",
     "shell.execute_reply": "2024-08-17T21:42:20.027118Z",
     "shell.execute_reply.started": "2024-08-17T21:42:20.012107Z"
    }
   },
   "outputs": [
    {
     "data": {
      "text/html": [
       "<div>\n",
       "<style scoped>\n",
       "    .dataframe tbody tr th:only-of-type {\n",
       "        vertical-align: middle;\n",
       "    }\n",
       "\n",
       "    .dataframe tbody tr th {\n",
       "        vertical-align: top;\n",
       "    }\n",
       "\n",
       "    .dataframe thead th {\n",
       "        text-align: right;\n",
       "    }\n",
       "</style>\n",
       "<table border=\"1\" class=\"dataframe\">\n",
       "  <thead>\n",
       "    <tr style=\"text-align: right;\">\n",
       "      <th></th>\n",
       "      <th>Component_1</th>\n",
       "      <th>Component_2</th>\n",
       "      <th>Component_3</th>\n",
       "      <th>Component_4</th>\n",
       "      <th>Component_5</th>\n",
       "      <th>Component_6</th>\n",
       "      <th>Component_7</th>\n",
       "      <th>Component_8</th>\n",
       "      <th>Component_9</th>\n",
       "      <th>Component_10</th>\n",
       "      <th>...</th>\n",
       "      <th>Component_241</th>\n",
       "      <th>Component_242</th>\n",
       "      <th>Component_243</th>\n",
       "      <th>Component_244</th>\n",
       "      <th>Component_245</th>\n",
       "      <th>Component_246</th>\n",
       "      <th>Component_247</th>\n",
       "      <th>Component_248</th>\n",
       "      <th>Component_249</th>\n",
       "      <th>Component_250</th>\n",
       "    </tr>\n",
       "  </thead>\n",
       "  <tbody>\n",
       "    <tr>\n",
       "      <th>b0002</th>\n",
       "      <td>0.000000</td>\n",
       "      <td>0.0</td>\n",
       "      <td>0.000000</td>\n",
       "      <td>0.000000</td>\n",
       "      <td>0.000000</td>\n",
       "      <td>0.000000</td>\n",
       "      <td>0.000000</td>\n",
       "      <td>0.000000</td>\n",
       "      <td>-9.332455</td>\n",
       "      <td>-0.012885</td>\n",
       "      <td>...</td>\n",
       "      <td>0.000000</td>\n",
       "      <td>0.0</td>\n",
       "      <td>0.000000</td>\n",
       "      <td>-0.803449</td>\n",
       "      <td>0.0</td>\n",
       "      <td>0.000000</td>\n",
       "      <td>0.000000</td>\n",
       "      <td>0.000000</td>\n",
       "      <td>0.000000</td>\n",
       "      <td>-0.157791</td>\n",
       "    </tr>\n",
       "    <tr>\n",
       "      <th>b0003</th>\n",
       "      <td>0.000000</td>\n",
       "      <td>0.0</td>\n",
       "      <td>-0.512496</td>\n",
       "      <td>-4.995340</td>\n",
       "      <td>0.000000</td>\n",
       "      <td>0.000000</td>\n",
       "      <td>0.000000</td>\n",
       "      <td>-0.873284</td>\n",
       "      <td>3.923061</td>\n",
       "      <td>-1.026998</td>\n",
       "      <td>...</td>\n",
       "      <td>0.000000</td>\n",
       "      <td>0.0</td>\n",
       "      <td>0.000000</td>\n",
       "      <td>0.374250</td>\n",
       "      <td>0.0</td>\n",
       "      <td>-0.760842</td>\n",
       "      <td>0.000000</td>\n",
       "      <td>0.000000</td>\n",
       "      <td>-0.479683</td>\n",
       "      <td>0.000000</td>\n",
       "    </tr>\n",
       "    <tr>\n",
       "      <th>b0004</th>\n",
       "      <td>0.000000</td>\n",
       "      <td>0.0</td>\n",
       "      <td>0.000000</td>\n",
       "      <td>0.000000</td>\n",
       "      <td>0.000000</td>\n",
       "      <td>0.000000</td>\n",
       "      <td>0.000000</td>\n",
       "      <td>0.000000</td>\n",
       "      <td>4.155243</td>\n",
       "      <td>0.000000</td>\n",
       "      <td>...</td>\n",
       "      <td>0.000000</td>\n",
       "      <td>0.0</td>\n",
       "      <td>0.000000</td>\n",
       "      <td>0.454749</td>\n",
       "      <td>0.0</td>\n",
       "      <td>-1.227517</td>\n",
       "      <td>2.704451</td>\n",
       "      <td>0.000000</td>\n",
       "      <td>0.000000</td>\n",
       "      <td>1.090367</td>\n",
       "    </tr>\n",
       "    <tr>\n",
       "      <th>b0005</th>\n",
       "      <td>0.000000</td>\n",
       "      <td>0.0</td>\n",
       "      <td>1.402772</td>\n",
       "      <td>0.000000</td>\n",
       "      <td>-9.751291</td>\n",
       "      <td>0.000000</td>\n",
       "      <td>0.000000</td>\n",
       "      <td>0.000000</td>\n",
       "      <td>0.000000</td>\n",
       "      <td>0.000000</td>\n",
       "      <td>...</td>\n",
       "      <td>0.000000</td>\n",
       "      <td>0.0</td>\n",
       "      <td>1.191330</td>\n",
       "      <td>0.707844</td>\n",
       "      <td>0.0</td>\n",
       "      <td>-0.881271</td>\n",
       "      <td>0.000000</td>\n",
       "      <td>-3.760684</td>\n",
       "      <td>-1.699891</td>\n",
       "      <td>0.000000</td>\n",
       "    </tr>\n",
       "    <tr>\n",
       "      <th>b0006</th>\n",
       "      <td>0.000000</td>\n",
       "      <td>0.0</td>\n",
       "      <td>0.000000</td>\n",
       "      <td>-3.977956</td>\n",
       "      <td>0.000000</td>\n",
       "      <td>0.000000</td>\n",
       "      <td>0.000000</td>\n",
       "      <td>3.413430</td>\n",
       "      <td>-1.403647</td>\n",
       "      <td>0.000000</td>\n",
       "      <td>...</td>\n",
       "      <td>1.418743</td>\n",
       "      <td>0.0</td>\n",
       "      <td>0.000000</td>\n",
       "      <td>-1.059460</td>\n",
       "      <td>0.0</td>\n",
       "      <td>-2.462772</td>\n",
       "      <td>0.000000</td>\n",
       "      <td>0.000000</td>\n",
       "      <td>0.000000</td>\n",
       "      <td>0.000000</td>\n",
       "    </tr>\n",
       "    <tr>\n",
       "      <th>...</th>\n",
       "      <td>...</td>\n",
       "      <td>...</td>\n",
       "      <td>...</td>\n",
       "      <td>...</td>\n",
       "      <td>...</td>\n",
       "      <td>...</td>\n",
       "      <td>...</td>\n",
       "      <td>...</td>\n",
       "      <td>...</td>\n",
       "      <td>...</td>\n",
       "      <td>...</td>\n",
       "      <td>...</td>\n",
       "      <td>...</td>\n",
       "      <td>...</td>\n",
       "      <td>...</td>\n",
       "      <td>...</td>\n",
       "      <td>...</td>\n",
       "      <td>...</td>\n",
       "      <td>...</td>\n",
       "      <td>...</td>\n",
       "      <td>...</td>\n",
       "    </tr>\n",
       "    <tr>\n",
       "      <th>b4747</th>\n",
       "      <td>9.764850</td>\n",
       "      <td>0.0</td>\n",
       "      <td>0.000000</td>\n",
       "      <td>7.122166</td>\n",
       "      <td>0.000000</td>\n",
       "      <td>32.040044</td>\n",
       "      <td>0.000000</td>\n",
       "      <td>12.407196</td>\n",
       "      <td>0.000000</td>\n",
       "      <td>2.092766</td>\n",
       "      <td>...</td>\n",
       "      <td>0.000000</td>\n",
       "      <td>0.0</td>\n",
       "      <td>0.000000</td>\n",
       "      <td>0.000000</td>\n",
       "      <td>0.0</td>\n",
       "      <td>0.000000</td>\n",
       "      <td>0.000000</td>\n",
       "      <td>-14.472992</td>\n",
       "      <td>-5.135758</td>\n",
       "      <td>-8.564844</td>\n",
       "    </tr>\n",
       "    <tr>\n",
       "      <th>b4748</th>\n",
       "      <td>0.000000</td>\n",
       "      <td>0.0</td>\n",
       "      <td>0.000000</td>\n",
       "      <td>-3.851226</td>\n",
       "      <td>10.407063</td>\n",
       "      <td>50.138112</td>\n",
       "      <td>0.000000</td>\n",
       "      <td>-1.561043</td>\n",
       "      <td>0.000000</td>\n",
       "      <td>-0.024942</td>\n",
       "      <td>...</td>\n",
       "      <td>0.000000</td>\n",
       "      <td>0.0</td>\n",
       "      <td>-2.327014</td>\n",
       "      <td>-0.921918</td>\n",
       "      <td>0.0</td>\n",
       "      <td>0.438012</td>\n",
       "      <td>0.000000</td>\n",
       "      <td>-6.786830</td>\n",
       "      <td>3.279145</td>\n",
       "      <td>-4.541343</td>\n",
       "    </tr>\n",
       "    <tr>\n",
       "      <th>b4751</th>\n",
       "      <td>15.666948</td>\n",
       "      <td>0.0</td>\n",
       "      <td>0.000000</td>\n",
       "      <td>0.000000</td>\n",
       "      <td>0.000000</td>\n",
       "      <td>0.000000</td>\n",
       "      <td>0.000000</td>\n",
       "      <td>0.000000</td>\n",
       "      <td>0.000000</td>\n",
       "      <td>0.000000</td>\n",
       "      <td>...</td>\n",
       "      <td>0.000000</td>\n",
       "      <td>0.0</td>\n",
       "      <td>0.000000</td>\n",
       "      <td>-0.296069</td>\n",
       "      <td>0.0</td>\n",
       "      <td>0.000000</td>\n",
       "      <td>0.000000</td>\n",
       "      <td>0.000000</td>\n",
       "      <td>0.000000</td>\n",
       "      <td>0.000000</td>\n",
       "    </tr>\n",
       "    <tr>\n",
       "      <th>b4755</th>\n",
       "      <td>0.000000</td>\n",
       "      <td>0.0</td>\n",
       "      <td>0.000000</td>\n",
       "      <td>0.000000</td>\n",
       "      <td>-5.115456</td>\n",
       "      <td>-5.539600</td>\n",
       "      <td>0.000000</td>\n",
       "      <td>0.000000</td>\n",
       "      <td>0.000000</td>\n",
       "      <td>-0.184897</td>\n",
       "      <td>...</td>\n",
       "      <td>-6.583586</td>\n",
       "      <td>0.0</td>\n",
       "      <td>2.740284</td>\n",
       "      <td>0.000000</td>\n",
       "      <td>0.0</td>\n",
       "      <td>-1.916738</td>\n",
       "      <td>-2.641991</td>\n",
       "      <td>0.000000</td>\n",
       "      <td>1.216197</td>\n",
       "      <td>0.000000</td>\n",
       "    </tr>\n",
       "    <tr>\n",
       "      <th>b4756</th>\n",
       "      <td>0.000000</td>\n",
       "      <td>0.0</td>\n",
       "      <td>0.000000</td>\n",
       "      <td>0.000000</td>\n",
       "      <td>-7.250570</td>\n",
       "      <td>0.000000</td>\n",
       "      <td>-2.892557</td>\n",
       "      <td>-3.967847</td>\n",
       "      <td>0.000000</td>\n",
       "      <td>0.432067</td>\n",
       "      <td>...</td>\n",
       "      <td>5.052818</td>\n",
       "      <td>0.0</td>\n",
       "      <td>5.347944</td>\n",
       "      <td>1.029544</td>\n",
       "      <td>0.0</td>\n",
       "      <td>0.000000</td>\n",
       "      <td>-10.434075</td>\n",
       "      <td>0.000000</td>\n",
       "      <td>0.000000</td>\n",
       "      <td>0.000000</td>\n",
       "    </tr>\n",
       "  </tbody>\n",
       "</table>\n",
       "<p>4257 rows × 250 columns</p>\n",
       "</div>"
      ],
      "text/plain": [
       "       Component_1  Component_2  Component_3  Component_4  Component_5  \\\n",
       "b0002     0.000000          0.0     0.000000     0.000000     0.000000   \n",
       "b0003     0.000000          0.0    -0.512496    -4.995340     0.000000   \n",
       "b0004     0.000000          0.0     0.000000     0.000000     0.000000   \n",
       "b0005     0.000000          0.0     1.402772     0.000000    -9.751291   \n",
       "b0006     0.000000          0.0     0.000000    -3.977956     0.000000   \n",
       "...            ...          ...          ...          ...          ...   \n",
       "b4747     9.764850          0.0     0.000000     7.122166     0.000000   \n",
       "b4748     0.000000          0.0     0.000000    -3.851226    10.407063   \n",
       "b4751    15.666948          0.0     0.000000     0.000000     0.000000   \n",
       "b4755     0.000000          0.0     0.000000     0.000000    -5.115456   \n",
       "b4756     0.000000          0.0     0.000000     0.000000    -7.250570   \n",
       "\n",
       "       Component_6  Component_7  Component_8  Component_9  Component_10  ...  \\\n",
       "b0002     0.000000     0.000000     0.000000    -9.332455     -0.012885  ...   \n",
       "b0003     0.000000     0.000000    -0.873284     3.923061     -1.026998  ...   \n",
       "b0004     0.000000     0.000000     0.000000     4.155243      0.000000  ...   \n",
       "b0005     0.000000     0.000000     0.000000     0.000000      0.000000  ...   \n",
       "b0006     0.000000     0.000000     3.413430    -1.403647      0.000000  ...   \n",
       "...            ...          ...          ...          ...           ...  ...   \n",
       "b4747    32.040044     0.000000    12.407196     0.000000      2.092766  ...   \n",
       "b4748    50.138112     0.000000    -1.561043     0.000000     -0.024942  ...   \n",
       "b4751     0.000000     0.000000     0.000000     0.000000      0.000000  ...   \n",
       "b4755    -5.539600     0.000000     0.000000     0.000000     -0.184897  ...   \n",
       "b4756     0.000000    -2.892557    -3.967847     0.000000      0.432067  ...   \n",
       "\n",
       "       Component_241  Component_242  Component_243  Component_244  \\\n",
       "b0002       0.000000            0.0       0.000000      -0.803449   \n",
       "b0003       0.000000            0.0       0.000000       0.374250   \n",
       "b0004       0.000000            0.0       0.000000       0.454749   \n",
       "b0005       0.000000            0.0       1.191330       0.707844   \n",
       "b0006       1.418743            0.0       0.000000      -1.059460   \n",
       "...              ...            ...            ...            ...   \n",
       "b4747       0.000000            0.0       0.000000       0.000000   \n",
       "b4748       0.000000            0.0      -2.327014      -0.921918   \n",
       "b4751       0.000000            0.0       0.000000      -0.296069   \n",
       "b4755      -6.583586            0.0       2.740284       0.000000   \n",
       "b4756       5.052818            0.0       5.347944       1.029544   \n",
       "\n",
       "       Component_245  Component_246  Component_247  Component_248  \\\n",
       "b0002            0.0       0.000000       0.000000       0.000000   \n",
       "b0003            0.0      -0.760842       0.000000       0.000000   \n",
       "b0004            0.0      -1.227517       2.704451       0.000000   \n",
       "b0005            0.0      -0.881271       0.000000      -3.760684   \n",
       "b0006            0.0      -2.462772       0.000000       0.000000   \n",
       "...              ...            ...            ...            ...   \n",
       "b4747            0.0       0.000000       0.000000     -14.472992   \n",
       "b4748            0.0       0.438012       0.000000      -6.786830   \n",
       "b4751            0.0       0.000000       0.000000       0.000000   \n",
       "b4755            0.0      -1.916738      -2.641991       0.000000   \n",
       "b4756            0.0       0.000000     -10.434075       0.000000   \n",
       "\n",
       "       Component_249  Component_250  \n",
       "b0002       0.000000      -0.157791  \n",
       "b0003      -0.479683       0.000000  \n",
       "b0004       0.000000       1.090367  \n",
       "b0005      -1.699891       0.000000  \n",
       "b0006       0.000000       0.000000  \n",
       "...              ...            ...  \n",
       "b4747      -5.135758      -8.564844  \n",
       "b4748       3.279145      -4.541343  \n",
       "b4751       0.000000       0.000000  \n",
       "b4755       1.216197       0.000000  \n",
       "b4756       0.000000       0.000000  \n",
       "\n",
       "[4257 rows x 250 columns]"
      ]
     },
     "execution_count": 52,
     "metadata": {},
     "output_type": "execute_result"
    }
   ],
   "source": [
    "components_dictionary_learning"
   ]
  },
  {
   "cell_type": "code",
   "execution_count": 53,
   "id": "f23498e1-ff29-4ab7-aafd-fa05b01ec28b",
   "metadata": {
    "execution": {
     "iopub.execute_input": "2024-08-17T21:42:20.028459Z",
     "iopub.status.busy": "2024-08-17T21:42:20.028326Z",
     "iopub.status.idle": "2024-08-17T21:42:20.308496Z",
     "shell.execute_reply": "2024-08-17T21:42:20.307874Z",
     "shell.execute_reply.started": "2024-08-17T21:42:20.028446Z"
    }
   },
   "outputs": [],
   "source": [
    "components_dictionary_learning = replace_zeros_with_random(components_dictionary_learning)"
   ]
  },
  {
   "cell_type": "code",
   "execution_count": 54,
   "id": "0e571419-5484-4394-9dcc-de721c010059",
   "metadata": {
    "execution": {
     "iopub.execute_input": "2024-08-17T21:42:20.309354Z",
     "iopub.status.busy": "2024-08-17T21:42:20.309214Z",
     "iopub.status.idle": "2024-08-17T21:44:54.739167Z",
     "shell.execute_reply": "2024-08-17T21:44:54.738352Z",
     "shell.execute_reply.started": "2024-08-17T21:42:20.309340Z"
    }
   },
   "outputs": [],
   "source": [
    "dictionary_learning = IcaData(components_dictionary_learning,activities_dictionary_learning)"
   ]
  },
  {
   "cell_type": "code",
   "execution_count": 55,
   "id": "bf555741-a496-4256-ad49-7d5ec5119061",
   "metadata": {
    "execution": {
     "iopub.execute_input": "2024-08-17T21:44:54.740649Z",
     "iopub.status.busy": "2024-08-17T21:44:54.740173Z",
     "iopub.status.idle": "2024-08-17T21:44:54.757924Z",
     "shell.execute_reply": "2024-08-17T21:44:54.757212Z",
     "shell.execute_reply.started": "2024-08-17T21:44:54.740626Z"
    }
   },
   "outputs": [],
   "source": [
    "dictionary_learning.X = precise1k.X"
   ]
  },
  {
   "cell_type": "code",
   "execution_count": 56,
   "id": "aedc81ad-ccd2-4c71-b5f8-78c9e358c438",
   "metadata": {
    "execution": {
     "iopub.execute_input": "2024-08-17T21:44:54.758966Z",
     "iopub.status.busy": "2024-08-17T21:44:54.758781Z",
     "iopub.status.idle": "2024-08-17T21:44:54.952021Z",
     "shell.execute_reply": "2024-08-17T21:44:54.951395Z",
     "shell.execute_reply.started": "2024-08-17T21:44:54.758947Z"
    }
   },
   "outputs": [],
   "source": [
    "dictionary_learning.gene_table = precise1k.gene_table\n",
    "dictionary_learning.trn = precise1k.trn"
   ]
  },
  {
   "cell_type": "code",
   "execution_count": 57,
   "id": "f2e5190f-3acb-4792-b2b1-6d2c2498d2e7",
   "metadata": {
    "execution": {
     "iopub.execute_input": "2024-08-17T21:44:54.952889Z",
     "iopub.status.busy": "2024-08-17T21:44:54.952743Z",
     "iopub.status.idle": "2024-08-17T21:44:54.955524Z",
     "shell.execute_reply": "2024-08-17T21:44:54.955107Z",
     "shell.execute_reply.started": "2024-08-17T21:44:54.952873Z"
    }
   },
   "outputs": [],
   "source": [
    "dictionary_learning.cog_colors = precise1k.cog_colors"
   ]
  },
  {
   "cell_type": "code",
   "execution_count": 58,
   "id": "6ebe56bc-c37e-4703-979f-0c11b2d9a5f5",
   "metadata": {
    "execution": {
     "iopub.execute_input": "2024-08-17T21:44:54.956203Z",
     "iopub.status.busy": "2024-08-17T21:44:54.956070Z",
     "iopub.status.idle": "2024-08-17T21:44:54.967875Z",
     "shell.execute_reply": "2024-08-17T21:44:54.967350Z",
     "shell.execute_reply.started": "2024-08-17T21:44:54.956190Z"
    }
   },
   "outputs": [],
   "source": [
    "dictionary_learning.sample_table = precise1k.sample_table"
   ]
  },
  {
   "cell_type": "code",
   "execution_count": 59,
   "id": "05cefd72-199f-49d0-bd84-63a1b60fa7ab",
   "metadata": {
    "execution": {
     "iopub.execute_input": "2024-08-17T21:44:54.968560Z",
     "iopub.status.busy": "2024-08-17T21:44:54.968425Z",
     "iopub.status.idle": "2024-08-17T21:45:17.829691Z",
     "shell.execute_reply": "2024-08-17T21:45:17.828984Z",
     "shell.execute_reply.started": "2024-08-17T21:44:54.968547Z"
    }
   },
   "outputs": [
    {
     "data": {
      "text/plain": [
       "0.9031467554930135"
      ]
     },
     "execution_count": 59,
     "metadata": {},
     "output_type": "execute_result"
    }
   ],
   "source": [
    "explained_variance(dictionary_learning)"
   ]
  },
  {
   "cell_type": "code",
   "execution_count": 60,
   "id": "41b3036c-86b3-47ec-9f8c-0909abd6b5aa",
   "metadata": {
    "execution": {
     "iopub.execute_input": "2024-08-17T21:45:17.831170Z",
     "iopub.status.busy": "2024-08-17T21:45:17.830683Z",
     "iopub.status.idle": "2024-08-17T22:14:06.119258Z",
     "shell.execute_reply": "2024-08-17T22:14:06.118475Z",
     "shell.execute_reply.started": "2024-08-17T21:45:17.831147Z"
    }
   },
   "outputs": [
    {
     "data": {
      "application/vnd.jupyter.widget-view+json": {
       "model_id": "6c7b4e1837fe4e25a6cd7cbc2585e432",
       "version_major": 2,
       "version_minor": 0
      },
      "text/plain": [
       "  0%|          | 0/39 [00:00<?, ?it/s]"
      ]
     },
     "metadata": {},
     "output_type": "display_data"
    },
    {
     "name": "stdout",
     "output_type": "stream",
     "text": [
      "      F1 Score  Precision    Recall       MCC\n",
      "50    0.082982   0.755992  0.058360  0.084220\n",
      "100   0.109456   0.691595  0.083538  0.117320\n",
      "150   0.133602   0.645658  0.112345  0.144417\n",
      "200   0.155778   0.619661  0.143300  0.170707\n",
      "250   0.176568   0.595393  0.174967  0.192340\n",
      "300   0.200337   0.575183  0.209920  0.216978\n",
      "350   0.221474   0.553311  0.244246  0.240357\n",
      "400   0.241069   0.531900  0.278612  0.259786\n",
      "450   0.253291   0.516061  0.308960  0.273417\n",
      "500   0.259313   0.488594  0.329603  0.279058\n",
      "550   0.264978   0.468320  0.346213  0.286422\n",
      "600   0.272981   0.454515  0.367318  0.296563\n",
      "650   0.279011   0.435281  0.384345  0.303798\n",
      "700   0.286615   0.422499  0.406229  0.314359\n",
      "750   0.295050   0.413664  0.426450  0.323831\n",
      "800   0.300722   0.404852  0.445634  0.330857\n",
      "850   0.307596   0.400895  0.462794  0.338051\n",
      "900   0.317277   0.397300  0.478581  0.347787\n",
      "950   0.323297   0.389163  0.498959  0.354480\n",
      "1000  0.325247   0.376154  0.511504  0.355926\n",
      "1050  0.327816   0.368311  0.526346  0.359333\n",
      "1100  0.327148   0.359905  0.533724  0.358626\n",
      "1150  0.329241   0.356896  0.537687  0.360759\n",
      "1200  0.331351   0.354822  0.545860  0.363040\n",
      "1250  0.331291   0.348338  0.554989  0.365452\n",
      "1300  0.326949   0.341605  0.553297  0.361412\n",
      "1350  0.328025   0.339292  0.557696  0.362641\n",
      "1400  0.327360   0.332735  0.566061  0.362997\n",
      "1450  0.329058   0.330901  0.574223  0.365428\n",
      "1500  0.327463   0.324725  0.581680  0.365864\n",
      "1550  0.325772   0.320738  0.583193  0.364260\n",
      "1600  0.323126   0.315629  0.579204  0.360895\n",
      "1650  0.324077   0.314765  0.584463  0.362292\n",
      "1700  0.322092   0.310377  0.586388  0.360476\n",
      "1750  0.322400   0.308819  0.587740  0.360679\n",
      "1800  0.321606   0.304809  0.593530  0.360306\n",
      "1850  0.319455   0.301015  0.597195  0.358926\n",
      "1900  0.316162   0.296685  0.603295  0.356461\n",
      "1950  0.314711   0.294489  0.609165  0.356212\n"
     ]
    },
    {
     "data": {
      "text/plain": [
       "1200"
      ]
     },
     "execution_count": 60,
     "metadata": {},
     "output_type": "execute_result"
    },
    {
     "data": {
      "image/png": "[encoded data removed]",
      "text/plain": [
       "<Figure size 400x400 with 1 Axes>"
      ]
     },
     "metadata": {},
     "output_type": "display_data"
    }
   ],
   "source": [
    "dictionary_learning.reoptimize_thresholds()"
   ]
  },
  {
   "cell_type": "code",
   "execution_count": 61,
   "id": "0d292ebb-0f24-4c0c-bd21-ecc55181febf",
   "metadata": {
    "execution": {
     "iopub.execute_input": "2024-08-17T22:14:06.120420Z",
     "iopub.status.busy": "2024-08-17T22:14:06.120188Z",
     "iopub.status.idle": "2024-08-17T22:14:06.123741Z",
     "shell.execute_reply": "2024-08-17T22:14:06.123018Z",
     "shell.execute_reply.started": "2024-08-17T22:14:06.120396Z"
    }
   },
   "outputs": [],
   "source": [
    "# dictionary_learning.recompute_thresholds(200)"
   ]
  },
  {
   "cell_type": "code",
   "execution_count": 62,
   "id": "a2f88067-60c7-4051-b2fa-964bd1f5ac4b",
   "metadata": {
    "execution": {
     "iopub.execute_input": "2024-08-17T22:14:06.124751Z",
     "iopub.status.busy": "2024-08-17T22:14:06.124576Z",
     "iopub.status.idle": "2024-08-17T22:14:27.563402Z",
     "shell.execute_reply": "2024-08-17T22:14:27.562710Z",
     "shell.execute_reply.started": "2024-08-17T22:14:06.124735Z"
    }
   },
   "outputs": [],
   "source": [
    "imdb_gene_presence(dictionary_learning)[0].to_csv('Presence_Matrices/Dictionary_Learning_Gene_Presence_Matrix.csv')"
   ]
  },
  {
   "cell_type": "code",
   "execution_count": 63,
   "id": "626f2292-4e77-4c03-90ec-6bcaf42f4798",
   "metadata": {
    "execution": {
     "iopub.execute_input": "2024-08-17T22:14:27.564375Z",
     "iopub.status.busy": "2024-08-17T22:14:27.564198Z",
     "iopub.status.idle": "2024-08-17T22:14:28.391948Z",
     "shell.execute_reply": "2024-08-17T22:14:28.391323Z",
     "shell.execute_reply.started": "2024-08-17T22:14:27.564358Z"
    }
   },
   "outputs": [
    {
     "data": {
      "text/plain": [
       "<AxesSubplot:xlabel='Gene Start', ylabel='Component_190 Gene Weight'>"
      ]
     },
     "execution_count": 63,
     "metadata": {},
     "output_type": "execute_result"
    },
    {
     "data": {
      "image/png": "[encoded data removed]",
      "text/plain": [
       "<Figure size 640x480 with 1 Axes>"
      ]
     },
     "metadata": {},
     "output_type": "display_data"
    }
   ],
   "source": [
    "plot_gene_weights(dictionary_learning, 'Component_190')"
   ]
  },
  {
   "cell_type": "code",
   "execution_count": null,
   "id": "0e92aa18-334f-4033-86de-0d84e8464774",
   "metadata": {},
   "outputs": [],
   "source": []
  },
  {
   "cell_type": "code",
   "execution_count": null,
   "id": "5e3b85b8-647e-462a-a493-4b1b6f36a884",
   "metadata": {},
   "outputs": [],
   "source": []
  },
  {
   "cell_type": "markdown",
   "id": "d77a8cbe-ac7f-48a6-8c10-1e3e11b77371",
   "metadata": {},
   "source": [
    "## SparseCoder"
   ]
  },
  {
   "cell_type": "code",
   "execution_count": 64,
   "id": "8a9e1eb6-88ae-4016-9005-fbc9e5a7146a",
   "metadata": {
    "execution": {
     "iopub.execute_input": "2024-08-17T22:14:28.392856Z",
     "iopub.status.busy": "2024-08-17T22:14:28.392697Z",
     "iopub.status.idle": "2024-08-17T22:14:28.496844Z",
     "shell.execute_reply": "2024-08-17T22:14:28.496200Z",
     "shell.execute_reply.started": "2024-08-17T22:14:28.392840Z"
    }
   },
   "outputs": [],
   "source": [
    "components_SparseCoder = pd.read_csv('./Results/SparseCoder/M_SparseCoder.csv', index_col=0)"
   ]
  },
  {
   "cell_type": "code",
   "execution_count": 65,
   "id": "b06316b8-235c-43d2-9513-377ad5410593",
   "metadata": {
    "execution": {
     "iopub.execute_input": "2024-08-17T22:14:28.497714Z",
     "iopub.status.busy": "2024-08-17T22:14:28.497575Z",
     "iopub.status.idle": "2024-08-17T22:14:28.541827Z",
     "shell.execute_reply": "2024-08-17T22:14:28.541237Z",
     "shell.execute_reply.started": "2024-08-17T22:14:28.497700Z"
    }
   },
   "outputs": [],
   "source": [
    "activities_SparseCoder = pd.read_csv('./Results/SparseCoder/A_SparseCoder.csv', index_col=0).T"
   ]
  },
  {
   "cell_type": "code",
   "execution_count": 66,
   "id": "544a2f11-a822-487e-927c-d861abd78362",
   "metadata": {
    "execution": {
     "iopub.execute_input": "2024-08-17T22:14:28.548457Z",
     "iopub.status.busy": "2024-08-17T22:14:28.548310Z",
     "iopub.status.idle": "2024-08-17T22:14:28.831386Z",
     "shell.execute_reply": "2024-08-17T22:14:28.830788Z",
     "shell.execute_reply.started": "2024-08-17T22:14:28.548442Z"
    }
   },
   "outputs": [],
   "source": [
    "components_SparseCoder = replace_zeros_with_random(components_SparseCoder)"
   ]
  },
  {
   "cell_type": "code",
   "execution_count": 67,
   "id": "c08498a3-6cb4-40a1-a013-6ac91a59c22e",
   "metadata": {
    "execution": {
     "iopub.execute_input": "2024-08-17T22:14:28.832415Z",
     "iopub.status.busy": "2024-08-17T22:14:28.832065Z",
     "iopub.status.idle": "2024-08-17T22:17:04.392706Z",
     "shell.execute_reply": "2024-08-17T22:17:04.391900Z",
     "shell.execute_reply.started": "2024-08-17T22:14:28.832398Z"
    }
   },
   "outputs": [],
   "source": [
    "SparseCoder = IcaData(components_SparseCoder,activities_SparseCoder)"
   ]
  },
  {
   "cell_type": "code",
   "execution_count": 68,
   "id": "56a672f9-fd17-472a-b2bc-a327771ce10e",
   "metadata": {
    "execution": {
     "iopub.execute_input": "2024-08-17T22:17:04.394163Z",
     "iopub.status.busy": "2024-08-17T22:17:04.393746Z",
     "iopub.status.idle": "2024-08-17T22:17:04.409433Z",
     "shell.execute_reply": "2024-08-17T22:17:04.408786Z",
     "shell.execute_reply.started": "2024-08-17T22:17:04.394134Z"
    }
   },
   "outputs": [],
   "source": [
    "SparseCoder.X = precise1k.X"
   ]
  },
  {
   "cell_type": "code",
   "execution_count": 69,
   "id": "fed84c75-0ebb-4f2b-b04f-6a5a292d1024",
   "metadata": {
    "execution": {
     "iopub.execute_input": "2024-08-17T22:17:04.410635Z",
     "iopub.status.busy": "2024-08-17T22:17:04.410239Z",
     "iopub.status.idle": "2024-08-17T22:17:04.614262Z",
     "shell.execute_reply": "2024-08-17T22:17:04.613473Z",
     "shell.execute_reply.started": "2024-08-17T22:17:04.410617Z"
    }
   },
   "outputs": [],
   "source": [
    "SparseCoder.gene_table = precise1k.gene_table\n",
    "SparseCoder.trn = precise1k.trn"
   ]
  },
  {
   "cell_type": "code",
   "execution_count": 70,
   "id": "ac8113c3-8e64-4239-8f87-e7daa6cc1f02",
   "metadata": {
    "execution": {
     "iopub.execute_input": "2024-08-17T22:17:04.615198Z",
     "iopub.status.busy": "2024-08-17T22:17:04.615038Z",
     "iopub.status.idle": "2024-08-17T22:17:04.618388Z",
     "shell.execute_reply": "2024-08-17T22:17:04.617772Z",
     "shell.execute_reply.started": "2024-08-17T22:17:04.615182Z"
    }
   },
   "outputs": [],
   "source": [
    "SparseCoder.cog_colors = precise1k.cog_colors"
   ]
  },
  {
   "cell_type": "code",
   "execution_count": 71,
   "id": "812f3d05-1036-40db-927a-1a38c3d45376",
   "metadata": {
    "execution": {
     "iopub.execute_input": "2024-08-17T22:17:04.619163Z",
     "iopub.status.busy": "2024-08-17T22:17:04.619022Z",
     "iopub.status.idle": "2024-08-17T22:17:04.630470Z",
     "shell.execute_reply": "2024-08-17T22:17:04.629736Z",
     "shell.execute_reply.started": "2024-08-17T22:17:04.619149Z"
    }
   },
   "outputs": [],
   "source": [
    "SparseCoder.sample_table = precise1k.sample_table"
   ]
  },
  {
   "cell_type": "code",
   "execution_count": 72,
   "id": "df7db1a6-8be6-4e84-bda2-1dc508c6e2fb",
   "metadata": {
    "execution": {
     "iopub.execute_input": "2024-08-17T22:17:04.631339Z",
     "iopub.status.busy": "2024-08-17T22:17:04.631105Z",
     "iopub.status.idle": "2024-08-17T22:17:29.100127Z",
     "shell.execute_reply": "2024-08-17T22:17:29.099306Z",
     "shell.execute_reply.started": "2024-08-17T22:17:04.631324Z"
    }
   },
   "outputs": [
    {
     "data": {
      "text/plain": [
       "0.9031480655064196"
      ]
     },
     "execution_count": 72,
     "metadata": {},
     "output_type": "execute_result"
    }
   ],
   "source": [
    "explained_variance(SparseCoder)"
   ]
  },
  {
   "cell_type": "code",
   "execution_count": 73,
   "id": "76d281a3-4673-41c2-b791-4bcd823bd6a2",
   "metadata": {
    "execution": {
     "iopub.execute_input": "2024-08-17T22:17:29.101615Z",
     "iopub.status.busy": "2024-08-17T22:17:29.101198Z",
     "iopub.status.idle": "2024-08-17T22:44:38.679312Z",
     "shell.execute_reply": "2024-08-17T22:44:38.678520Z",
     "shell.execute_reply.started": "2024-08-17T22:17:29.101588Z"
    }
   },
   "outputs": [
    {
     "data": {
      "application/vnd.jupyter.widget-view+json": {
       "model_id": "164d73130b1c4d118207dbd28e449f2f",
       "version_major": 2,
       "version_minor": 0
      },
      "text/plain": [
       "  0%|          | 0/39 [00:00<?, ?it/s]"
      ]
     },
     "metadata": {},
     "output_type": "display_data"
    },
    {
     "name": "stdout",
     "output_type": "stream",
     "text": [
      "      F1 Score  Precision    Recall       MCC\n",
      "50    0.083080   0.743974  0.058488  0.083314\n",
      "100   0.108316   0.682805  0.083922  0.117160\n",
      "150   0.132576   0.642318  0.112789  0.144580\n",
      "200   0.155656   0.620208  0.143233  0.170206\n",
      "250   0.176451   0.596235  0.174883  0.191784\n",
      "300   0.200304   0.574450  0.209871  0.216733\n",
      "350   0.221403   0.553781  0.244166  0.239709\n",
      "400   0.241033   0.531925  0.278605  0.259479\n",
      "450   0.253221   0.516312  0.308920  0.273176\n",
      "500   0.259268   0.489865  0.329562  0.278936\n",
      "550   0.264926   0.469012  0.346176  0.286265\n",
      "600   0.272950   0.453737  0.367295  0.296388\n",
      "650   0.279042   0.431738  0.384361  0.303877\n",
      "700   0.286610   0.421750  0.406222  0.314376\n",
      "750   0.295038   0.413264  0.426438  0.323832\n",
      "800   0.300698   0.404560  0.445617  0.330861\n",
      "850   0.307563   0.400763  0.462770  0.338061\n",
      "900   0.317258   0.397601  0.478565  0.347778\n",
      "950   0.323183   0.388740  0.498907  0.354246\n",
      "1000  0.325162   0.376713  0.511440  0.355733\n",
      "1050  0.327680   0.368007  0.526256  0.358979\n",
      "1100  0.326989   0.360778  0.533640  0.358377\n",
      "1150  0.329071   0.357625  0.537624  0.360568\n",
      "1200  0.331175   0.355552  0.545798  0.362854\n",
      "1250  0.331332   0.350675  0.554905  0.365250\n",
      "1300  0.326987   0.343954  0.553209  0.361179\n",
      "1350  0.328062   0.341647  0.557605  0.362409\n",
      "1400  0.327430   0.335084  0.566076  0.362886\n",
      "1450  0.329153   0.331858  0.574166  0.365313\n",
      "1500  0.327463   0.324725  0.581680  0.365864\n",
      "1550  0.325772   0.320738  0.583193  0.364260\n",
      "1600  0.323119   0.315629  0.579200  0.360873\n",
      "1650  0.324077   0.314765  0.584463  0.362292\n",
      "1700  0.322092   0.310377  0.586388  0.360476\n",
      "1750  0.322400   0.308819  0.587740  0.360679\n",
      "1800  0.321606   0.304809  0.593530  0.360306\n",
      "1850  0.319455   0.301015  0.597195  0.358926\n",
      "1900  0.316162   0.296685  0.603295  0.356461\n",
      "1950  0.314711   0.294489  0.609165  0.356212\n"
     ]
    },
    {
     "data": {
      "text/plain": [
       "1250"
      ]
     },
     "execution_count": 73,
     "metadata": {},
     "output_type": "execute_result"
    },
    {
     "data": {
      "image/png": "[encoded data removed]",
      "text/plain": [
       "<Figure size 400x400 with 1 Axes>"
      ]
     },
     "metadata": {},
     "output_type": "display_data"
    }
   ],
   "source": [
    "SparseCoder.reoptimize_thresholds()"
   ]
  },
  {
   "cell_type": "code",
   "execution_count": 74,
   "id": "1f6a2e75-157d-4ec4-898c-571c0ec84556",
   "metadata": {
    "execution": {
     "iopub.execute_input": "2024-08-17T22:44:38.680084Z",
     "iopub.status.busy": "2024-08-17T22:44:38.679951Z",
     "iopub.status.idle": "2024-08-17T22:44:38.683071Z",
     "shell.execute_reply": "2024-08-17T22:44:38.682367Z",
     "shell.execute_reply.started": "2024-08-17T22:44:38.680070Z"
    }
   },
   "outputs": [],
   "source": [
    "# SparseCoder.recompute_thresholds(200)"
   ]
  },
  {
   "cell_type": "code",
   "execution_count": 75,
   "id": "da906410-ac37-48ec-9258-e5592d8342b4",
   "metadata": {
    "execution": {
     "iopub.execute_input": "2024-08-17T22:44:38.683943Z",
     "iopub.status.busy": "2024-08-17T22:44:38.683816Z",
     "iopub.status.idle": "2024-08-17T22:44:55.027060Z",
     "shell.execute_reply": "2024-08-17T22:44:55.026226Z",
     "shell.execute_reply.started": "2024-08-17T22:44:38.683931Z"
    }
   },
   "outputs": [],
   "source": [
    "imdb_gene_presence(SparseCoder)[0].to_csv('Presence_Matrices/SparseCoder_Gene_Presence_Matrix.csv')"
   ]
  },
  {
   "cell_type": "markdown",
   "id": "b0157975-8c4a-42a1-8410-26ae871ce8ef",
   "metadata": {},
   "source": [
    "## Incremental Principal Component Analysis"
   ]
  },
  {
   "cell_type": "code",
   "execution_count": 76,
   "id": "5f513205-afd4-44f5-862e-254ebd1fbd29",
   "metadata": {
    "execution": {
     "iopub.execute_input": "2024-08-17T22:44:55.027922Z",
     "iopub.status.busy": "2024-08-17T22:44:55.027777Z",
     "iopub.status.idle": "2024-08-17T22:44:55.160023Z",
     "shell.execute_reply": "2024-08-17T22:44:55.159070Z",
     "shell.execute_reply.started": "2024-08-17T22:44:55.027907Z"
    }
   },
   "outputs": [],
   "source": [
    "components_incremental_pca = pd.read_csv('./Results/IncrementalPCA/M_IncrementalPCA.csv', index_col=0)"
   ]
  },
  {
   "cell_type": "code",
   "execution_count": 77,
   "id": "f7627427-a158-4310-977c-3c31e42b65cb",
   "metadata": {
    "execution": {
     "iopub.execute_input": "2024-08-17T22:44:55.161064Z",
     "iopub.status.busy": "2024-08-17T22:44:55.160923Z",
     "iopub.status.idle": "2024-08-17T22:44:55.206945Z",
     "shell.execute_reply": "2024-08-17T22:44:55.206103Z",
     "shell.execute_reply.started": "2024-08-17T22:44:55.161050Z"
    }
   },
   "outputs": [],
   "source": [
    "activities_incremental_pca = pd.read_csv('./Results/IncrementalPCA/A_IncrementalPCA.csv', index_col=0).T"
   ]
  },
  {
   "cell_type": "code",
   "execution_count": 78,
   "id": "b72572a0-0d02-4644-a7e6-9205993054de",
   "metadata": {
    "execution": {
     "iopub.execute_input": "2024-08-17T22:44:55.207966Z",
     "iopub.status.busy": "2024-08-17T22:44:55.207828Z",
     "iopub.status.idle": "2024-08-17T22:47:03.989001Z",
     "shell.execute_reply": "2024-08-17T22:47:03.988373Z",
     "shell.execute_reply.started": "2024-08-17T22:44:55.207952Z"
    }
   },
   "outputs": [],
   "source": [
    "incremental_pca = IcaData(components_incremental_pca,activities_incremental_pca)"
   ]
  },
  {
   "cell_type": "code",
   "execution_count": 79,
   "id": "a9d3bc4c-6925-48e5-9f9e-fa855ea1266b",
   "metadata": {
    "execution": {
     "iopub.execute_input": "2024-08-17T22:47:03.990055Z",
     "iopub.status.busy": "2024-08-17T22:47:03.989724Z",
     "iopub.status.idle": "2024-08-17T22:47:04.001857Z",
     "shell.execute_reply": "2024-08-17T22:47:04.001368Z",
     "shell.execute_reply.started": "2024-08-17T22:47:03.990039Z"
    }
   },
   "outputs": [],
   "source": [
    "incremental_pca.X = precise1k.X"
   ]
  },
  {
   "cell_type": "code",
   "execution_count": 80,
   "id": "cd6d07fb-c6f3-471c-a900-7d59cadfb913",
   "metadata": {
    "execution": {
     "iopub.execute_input": "2024-08-17T22:47:04.002656Z",
     "iopub.status.busy": "2024-08-17T22:47:04.002520Z",
     "iopub.status.idle": "2024-08-17T22:47:04.184780Z",
     "shell.execute_reply": "2024-08-17T22:47:04.184269Z",
     "shell.execute_reply.started": "2024-08-17T22:47:04.002642Z"
    }
   },
   "outputs": [],
   "source": [
    "incremental_pca.gene_table = precise1k.gene_table\n",
    "incremental_pca.trn = precise1k.trn"
   ]
  },
  {
   "cell_type": "code",
   "execution_count": 81,
   "id": "fc319b56-bce1-4b65-ac80-9f683880fc62",
   "metadata": {
    "execution": {
     "iopub.execute_input": "2024-08-17T22:47:04.185972Z",
     "iopub.status.busy": "2024-08-17T22:47:04.185686Z",
     "iopub.status.idle": "2024-08-17T22:47:04.188008Z",
     "shell.execute_reply": "2024-08-17T22:47:04.187607Z",
     "shell.execute_reply.started": "2024-08-17T22:47:04.185957Z"
    }
   },
   "outputs": [],
   "source": [
    "incremental_pca.cog_colors = precise1k.cog_colors"
   ]
  },
  {
   "cell_type": "code",
   "execution_count": 82,
   "id": "00033ff5-0308-44aa-8444-a70a8c481d74",
   "metadata": {
    "execution": {
     "iopub.execute_input": "2024-08-17T22:47:04.188829Z",
     "iopub.status.busy": "2024-08-17T22:47:04.188559Z",
     "iopub.status.idle": "2024-08-17T22:47:04.200381Z",
     "shell.execute_reply": "2024-08-17T22:47:04.199976Z",
     "shell.execute_reply.started": "2024-08-17T22:47:04.188815Z"
    }
   },
   "outputs": [],
   "source": [
    "incremental_pca.sample_table = precise1k.sample_table"
   ]
  },
  {
   "cell_type": "code",
   "execution_count": 83,
   "id": "32ae667b-2b40-41e6-b564-3eb13328edcc",
   "metadata": {
    "execution": {
     "iopub.execute_input": "2024-08-17T22:47:04.201060Z",
     "iopub.status.busy": "2024-08-17T22:47:04.200925Z",
     "iopub.status.idle": "2024-08-17T22:47:15.556649Z",
     "shell.execute_reply": "2024-08-17T22:47:15.555931Z",
     "shell.execute_reply.started": "2024-08-17T22:47:04.201047Z"
    }
   },
   "outputs": [
    {
     "data": {
      "text/plain": [
       "0.9776315813713764"
      ]
     },
     "execution_count": 83,
     "metadata": {},
     "output_type": "execute_result"
    }
   ],
   "source": [
    "explained_variance(incremental_pca)"
   ]
  },
  {
   "cell_type": "code",
   "execution_count": 84,
   "id": "dac428ca-33be-498d-9f2d-8e8dba3eacdd",
   "metadata": {
    "execution": {
     "iopub.execute_input": "2024-08-17T22:47:15.558083Z",
     "iopub.status.busy": "2024-08-17T22:47:15.557575Z",
     "iopub.status.idle": "2024-08-17T22:48:25.316530Z",
     "shell.execute_reply": "2024-08-17T22:48:25.315726Z",
     "shell.execute_reply.started": "2024-08-17T22:47:15.558058Z"
    }
   },
   "outputs": [
    {
     "data": {
      "application/vnd.jupyter.widget-view+json": {
       "model_id": "5b83d8d14b4d46238633e42f51d6c011",
       "version_major": 2,
       "version_minor": 0
      },
      "text/plain": [
       "  0%|          | 0/39 [00:00<?, ?it/s]"
      ]
     },
     "metadata": {},
     "output_type": "display_data"
    },
    {
     "name": "stdout",
     "output_type": "stream",
     "text": [
      "      F1 Score  Precision    Recall       MCC\n",
      "50    0.131371   0.522615  0.103440  0.185390\n",
      "100   0.175628   0.463173  0.155213  0.220908\n",
      "150   0.202747   0.372706  0.210040  0.232855\n",
      "200   0.192474   0.274644  0.245018  0.214267\n",
      "250   0.159352   0.185674  0.244088  0.175962\n",
      "300   0.125458   0.126767  0.234186  0.140229\n",
      "350   0.093622   0.083894  0.211541  0.108979\n",
      "400   0.063431   0.054780  0.129923  0.072251\n",
      "450   0.050027   0.041953  0.107333  0.058398\n",
      "500   0.037032   0.028138  0.097001  0.045361\n",
      "550   0.022659   0.016915  0.065749  0.027933\n",
      "600   0.019783   0.014238  0.051480  0.023646\n",
      "650   0.017058   0.011668  0.050788  0.021314\n",
      "700   0.013956   0.009209  0.041915  0.017911\n",
      "750   0.009994   0.006329  0.034656  0.013452\n",
      "800   0.006625   0.003985  0.029233  0.009846\n",
      "850   0.005096   0.003077  0.026389  0.007671\n",
      "900   0.003326   0.001990  0.023209  0.005385\n",
      "950   0.003163   0.001895  0.016532  0.004661\n",
      "1000  0.003078   0.001840  0.016471  0.004585\n",
      "1050  0.002884   0.001732  0.009458  0.003912\n",
      "1100  0.002822   0.001678  0.009693  0.003906\n",
      "1150  0.002831   0.001678  0.010069  0.003975\n",
      "1200  0.002856   0.001678  0.010438  0.004072\n",
      "1250  0.002768   0.001623  0.010372  0.003981\n",
      "1300  0.002677   0.001569  0.010295  0.003886\n",
      "1350  0.001358   0.000736  0.009838  0.002599\n",
      "1400  0.001091   0.000597  0.006366  0.001917\n",
      "1450  0.001099   0.000597  0.006944  0.002008\n",
      "1500  0.001006   0.000543  0.006944  0.001914\n",
      "1550  0.001006   0.000543  0.006944  0.001914\n",
      "1600  0.000912   0.000488  0.006944  0.001815\n",
      "1650  0.000912   0.000488  0.006944  0.001815\n",
      "1700  0.000817   0.000434  0.006944  0.001711\n",
      "1750  0.000817   0.000434  0.006944  0.001711\n",
      "1800  0.000720   0.000380  0.006944  0.001601\n",
      "1850  0.000622   0.000326  0.006944  0.001482\n",
      "1900  0.000622   0.000326  0.006944  0.001482\n",
      "1950  0.000522   0.000271  0.006944  0.001353\n"
     ]
    },
    {
     "data": {
      "text/plain": [
       "150"
      ]
     },
     "execution_count": 84,
     "metadata": {},
     "output_type": "execute_result"
    },
    {
     "data": {
      "image/png": "[encoded data removed]",
      "text/plain": [
       "<Figure size 400x400 with 1 Axes>"
      ]
     },
     "metadata": {},
     "output_type": "display_data"
    }
   ],
   "source": [
    "incremental_pca.reoptimize_thresholds()"
   ]
  },
  {
   "cell_type": "code",
   "execution_count": 85,
   "id": "24590dc2-3fc9-4c0d-840b-d328fb173680",
   "metadata": {
    "execution": {
     "iopub.execute_input": "2024-08-17T22:48:25.317338Z",
     "iopub.status.busy": "2024-08-17T22:48:25.317200Z",
     "iopub.status.idle": "2024-08-17T22:48:25.320189Z",
     "shell.execute_reply": "2024-08-17T22:48:25.319622Z",
     "shell.execute_reply.started": "2024-08-17T22:48:25.317324Z"
    }
   },
   "outputs": [],
   "source": [
    "# incremental_pca.recompute_thresholds(150)"
   ]
  },
  {
   "cell_type": "code",
   "execution_count": 86,
   "id": "675b241a-e354-4632-955d-0b831058270c",
   "metadata": {
    "execution": {
     "iopub.execute_input": "2024-08-17T22:48:25.320943Z",
     "iopub.status.busy": "2024-08-17T22:48:25.320811Z",
     "iopub.status.idle": "2024-08-17T22:48:33.006828Z",
     "shell.execute_reply": "2024-08-17T22:48:33.005935Z",
     "shell.execute_reply.started": "2024-08-17T22:48:25.320930Z"
    }
   },
   "outputs": [],
   "source": [
    "imdb_gene_presence(incremental_pca)[0].to_csv('Presence_Matrices/Incremental_PCA_Gene_Presence_Matrix.csv')"
   ]
  },
  {
   "cell_type": "code",
   "execution_count": null,
   "id": "896541b1-8ca7-4888-bbe9-04de87e9e15f",
   "metadata": {},
   "outputs": [],
   "source": []
  },
  {
   "cell_type": "markdown",
   "id": "78d9d515-3e2d-4308-8745-2d0f0970f332",
   "metadata": {},
   "source": [
    "## FastICA"
   ]
  },
  {
   "cell_type": "code",
   "execution_count": 87,
   "id": "fe277a5a-7d73-4dc8-b250-539acfa7d7f0",
   "metadata": {
    "execution": {
     "iopub.execute_input": "2024-08-17T22:48:33.007856Z",
     "iopub.status.busy": "2024-08-17T22:48:33.007712Z",
     "iopub.status.idle": "2024-08-17T22:48:33.144780Z",
     "shell.execute_reply": "2024-08-17T22:48:33.143934Z",
     "shell.execute_reply.started": "2024-08-17T22:48:33.007841Z"
    }
   },
   "outputs": [],
   "source": [
    "components_Fast_ICA = pd.read_csv('./Results/Fast_ICA/M_Fast_ICA.csv', index_col=0)"
   ]
  },
  {
   "cell_type": "code",
   "execution_count": 88,
   "id": "63406444-df88-4c02-99fe-d313c8cdde9a",
   "metadata": {
    "execution": {
     "iopub.execute_input": "2024-08-17T22:48:33.145581Z",
     "iopub.status.busy": "2024-08-17T22:48:33.145454Z",
     "iopub.status.idle": "2024-08-17T22:48:33.185623Z",
     "shell.execute_reply": "2024-08-17T22:48:33.184846Z",
     "shell.execute_reply.started": "2024-08-17T22:48:33.145567Z"
    }
   },
   "outputs": [],
   "source": [
    "activities_Fast_ICA = pd.read_csv('./Results/Fast_ICA/A_Fast_ICA.csv', index_col=0).T"
   ]
  },
  {
   "cell_type": "code",
   "execution_count": 89,
   "id": "b12a1e25-b182-40a0-bcb3-a8fe325c7566",
   "metadata": {
    "execution": {
     "iopub.execute_input": "2024-08-17T22:48:33.186384Z",
     "iopub.status.busy": "2024-08-17T22:48:33.186244Z",
     "iopub.status.idle": "2024-08-17T22:50:40.066114Z",
     "shell.execute_reply": "2024-08-17T22:50:40.065498Z",
     "shell.execute_reply.started": "2024-08-17T22:48:33.186369Z"
    }
   },
   "outputs": [],
   "source": [
    "Fast_ICA = IcaData(components_Fast_ICA,activities_Fast_ICA)"
   ]
  },
  {
   "cell_type": "code",
   "execution_count": 90,
   "id": "3f668470-347f-4859-8aed-9aad22184913",
   "metadata": {
    "execution": {
     "iopub.execute_input": "2024-08-17T22:50:40.067170Z",
     "iopub.status.busy": "2024-08-17T22:50:40.066834Z",
     "iopub.status.idle": "2024-08-17T22:50:40.078993Z",
     "shell.execute_reply": "2024-08-17T22:50:40.078448Z",
     "shell.execute_reply.started": "2024-08-17T22:50:40.067153Z"
    }
   },
   "outputs": [],
   "source": [
    "Fast_ICA.X = precise1k.X"
   ]
  },
  {
   "cell_type": "code",
   "execution_count": 91,
   "id": "302e51ea-2c66-4e53-8789-60acb1c4dae0",
   "metadata": {
    "execution": {
     "iopub.execute_input": "2024-08-17T22:50:40.080194Z",
     "iopub.status.busy": "2024-08-17T22:50:40.079946Z",
     "iopub.status.idle": "2024-08-17T22:50:40.262261Z",
     "shell.execute_reply": "2024-08-17T22:50:40.261738Z",
     "shell.execute_reply.started": "2024-08-17T22:50:40.080178Z"
    }
   },
   "outputs": [],
   "source": [
    "Fast_ICA.gene_table = precise1k.gene_table\n",
    "Fast_ICA.trn = precise1k.trn"
   ]
  },
  {
   "cell_type": "code",
   "execution_count": 92,
   "id": "962f81f6-cea2-4164-be44-2b08bff4ca7a",
   "metadata": {
    "execution": {
     "iopub.execute_input": "2024-08-17T22:50:40.262941Z",
     "iopub.status.busy": "2024-08-17T22:50:40.262808Z",
     "iopub.status.idle": "2024-08-17T22:50:40.265055Z",
     "shell.execute_reply": "2024-08-17T22:50:40.264657Z",
     "shell.execute_reply.started": "2024-08-17T22:50:40.262927Z"
    }
   },
   "outputs": [],
   "source": [
    "Fast_ICA.cog_colors = precise1k.cog_colors"
   ]
  },
  {
   "cell_type": "code",
   "execution_count": 93,
   "id": "aac794de-da67-4d58-acc3-87d437fcab29",
   "metadata": {
    "execution": {
     "iopub.execute_input": "2024-08-17T22:50:40.265850Z",
     "iopub.status.busy": "2024-08-17T22:50:40.265548Z",
     "iopub.status.idle": "2024-08-17T22:50:40.277337Z",
     "shell.execute_reply": "2024-08-17T22:50:40.276893Z",
     "shell.execute_reply.started": "2024-08-17T22:50:40.265836Z"
    }
   },
   "outputs": [],
   "source": [
    "Fast_ICA.sample_table = precise1k.sample_table"
   ]
  },
  {
   "cell_type": "code",
   "execution_count": 94,
   "id": "dc9b967a-e817-452d-9a8f-71e1aefee034",
   "metadata": {
    "execution": {
     "iopub.execute_input": "2024-08-17T22:50:40.277977Z",
     "iopub.status.busy": "2024-08-17T22:50:40.277846Z",
     "iopub.status.idle": "2024-08-17T22:50:51.662459Z",
     "shell.execute_reply": "2024-08-17T22:50:51.661739Z",
     "shell.execute_reply.started": "2024-08-17T22:50:40.277964Z"
    }
   },
   "outputs": [
    {
     "data": {
      "text/plain": [
       "0.9776315813713764"
      ]
     },
     "execution_count": 94,
     "metadata": {},
     "output_type": "execute_result"
    }
   ],
   "source": [
    "explained_variance(Fast_ICA)"
   ]
  },
  {
   "cell_type": "code",
   "execution_count": 95,
   "id": "1d4a6387-d3af-4d0f-88b2-628f50fc5d1a",
   "metadata": {
    "execution": {
     "iopub.execute_input": "2024-08-17T22:50:51.663703Z",
     "iopub.status.busy": "2024-08-17T22:50:51.663398Z",
     "iopub.status.idle": "2024-08-17T22:53:00.556185Z",
     "shell.execute_reply": "2024-08-17T22:53:00.555387Z",
     "shell.execute_reply.started": "2024-08-17T22:50:51.663680Z"
    }
   },
   "outputs": [
    {
     "data": {
      "application/vnd.jupyter.widget-view+json": {
       "model_id": "79f899ef10c74ec8853e529038e93d69",
       "version_major": 2,
       "version_minor": 0
      },
      "text/plain": [
       "  0%|          | 0/39 [00:00<?, ?it/s]"
      ]
     },
     "metadata": {},
     "output_type": "display_data"
    },
    {
     "name": "stdout",
     "output_type": "stream",
     "text": [
      "      F1 Score  Precision    Recall       MCC\n",
      "50    0.179939   0.580238  0.149625  0.230156\n",
      "100   0.230118   0.551716  0.211850  0.279942\n",
      "150   0.275950   0.538047  0.272532  0.320988\n",
      "200   0.313797   0.523233  0.333168  0.354705\n",
      "250   0.340308   0.488906  0.387339  0.375044\n",
      "300   0.352201   0.459521  0.427924  0.384328\n",
      "350   0.359135   0.435279  0.460615  0.389958\n",
      "400   0.360202   0.414180  0.488946  0.391613\n",
      "450   0.362253   0.398402  0.511655  0.393693\n",
      "500   0.363222   0.388517  0.527738  0.395102\n",
      "550   0.363990   0.381042  0.538577  0.396285\n",
      "600   0.363951   0.372035  0.559255  0.397580\n",
      "650   0.363874   0.364629  0.576229  0.398643\n",
      "700   0.364539   0.361414  0.583749  0.399736\n",
      "750   0.359874   0.353338  0.588104  0.396026\n",
      "800   0.357652   0.349073  0.592983  0.394462\n",
      "850   0.355029   0.341329  0.601576  0.392727\n",
      "900   0.350389   0.334130  0.601900  0.388362\n",
      "950   0.346527   0.327405  0.604540  0.385124\n",
      "1000  0.344169   0.324307  0.605894  0.382748\n",
      "1050  0.340529   0.318281  0.611017  0.379874\n",
      "1100  0.337947   0.315314  0.610990  0.377582\n",
      "1150  0.335053   0.310334  0.615542  0.375512\n",
      "1200  0.333972   0.307707  0.613774  0.373916\n",
      "1250  0.327586   0.299602  0.608099  0.367568\n",
      "1300  0.325496   0.296205  0.609466  0.365639\n",
      "1350  0.323933   0.294049  0.612162  0.364467\n",
      "1400  0.320549   0.290601  0.605418  0.360684\n",
      "1450  0.319872   0.289632  0.607687  0.360149\n",
      "1500  0.314124   0.282638  0.602222  0.354917\n",
      "1550  0.312784   0.279979  0.603304  0.353514\n",
      "1600  0.311834   0.278901  0.605066  0.352659\n",
      "1650  0.309291   0.276728  0.599159  0.349478\n",
      "1700  0.308847   0.275578  0.603815  0.349720\n",
      "1750  0.303876   0.270306  0.599562  0.344566\n",
      "1800  0.299292   0.266766  0.599523  0.340579\n",
      "1850  0.294699   0.261968  0.590192  0.335477\n",
      "1900  0.294500   0.260712  0.594101  0.335350\n",
      "1950  0.292303   0.258157  0.592336  0.333145\n"
     ]
    },
    {
     "data": {
      "text/plain": [
       "700"
      ]
     },
     "execution_count": 95,
     "metadata": {},
     "output_type": "execute_result"
    },
    {
     "data": {
      "image/png": "[encoded data removed]",
      "text/plain": [
       "<Figure size 400x400 with 1 Axes>"
      ]
     },
     "metadata": {},
     "output_type": "display_data"
    }
   ],
   "source": [
    "Fast_ICA.reoptimize_thresholds()"
   ]
  },
  {
   "cell_type": "code",
   "execution_count": 96,
   "id": "53f038e1-a24e-4183-b68b-c92b454b42a1",
   "metadata": {
    "execution": {
     "iopub.execute_input": "2024-08-17T22:53:00.557046Z",
     "iopub.status.busy": "2024-08-17T22:53:00.556904Z",
     "iopub.status.idle": "2024-08-17T22:53:00.560220Z",
     "shell.execute_reply": "2024-08-17T22:53:00.559422Z",
     "shell.execute_reply.started": "2024-08-17T22:53:00.557031Z"
    }
   },
   "outputs": [],
   "source": [
    "# Fast_ICA.recompute_thresholds(650)"
   ]
  },
  {
   "cell_type": "code",
   "execution_count": 97,
   "id": "44599db3-5f50-4a4c-843e-a645754643aa",
   "metadata": {
    "execution": {
     "iopub.execute_input": "2024-08-17T22:53:00.561004Z",
     "iopub.status.busy": "2024-08-17T22:53:00.560873Z",
     "iopub.status.idle": "2024-08-17T22:53:03.181806Z",
     "shell.execute_reply": "2024-08-17T22:53:03.180971Z",
     "shell.execute_reply.started": "2024-08-17T22:53:00.560991Z"
    }
   },
   "outputs": [],
   "source": [
    "imdb_gene_presence(Fast_ICA)[0].to_csv('Presence_Matrices/Fast_ICA_Gene_Presence_Matrix.csv')"
   ]
  },
  {
   "cell_type": "markdown",
   "id": "d671b6b6-92e5-4479-ab56-a360637ec8e7",
   "metadata": {},
   "source": [
    "## Sparse ICA"
   ]
  },
  {
   "cell_type": "code",
   "execution_count": 4,
   "id": "86fdd3fa-c3e2-428a-bb46-99e944e4e204",
   "metadata": {
    "execution": {
     "iopub.execute_input": "2024-08-18T08:29:20.215650Z",
     "iopub.status.busy": "2024-08-18T08:29:20.215469Z",
     "iopub.status.idle": "2024-08-18T08:29:20.257009Z",
     "shell.execute_reply": "2024-08-18T08:29:20.256534Z",
     "shell.execute_reply.started": "2024-08-18T08:29:20.215636Z"
    }
   },
   "outputs": [],
   "source": [
    "components_Sparse_ICA = pd.read_csv('./Results/Sparse_ICA_R/Dim_250/S_sparse_ICA_0_8.csv')"
   ]
  },
  {
   "cell_type": "code",
   "execution_count": 5,
   "id": "4db1a830-1827-4937-bb03-b00fc8b7fe3d",
   "metadata": {
    "execution": {
     "iopub.execute_input": "2024-08-18T08:29:20.418817Z",
     "iopub.status.busy": "2024-08-18T08:29:20.418616Z",
     "iopub.status.idle": "2024-08-18T08:29:20.461939Z",
     "shell.execute_reply": "2024-08-18T08:29:20.461514Z",
     "shell.execute_reply.started": "2024-08-18T08:29:20.418800Z"
    }
   },
   "outputs": [],
   "source": [
    "activities_Sparse_ICA = pd.read_csv('./Results/Sparse_ICA_R/Dim_250/A_sparse_ICA_0_8.csv')"
   ]
  },
  {
   "cell_type": "code",
   "execution_count": 6,
   "id": "3df1c321-b325-4f57-9c6d-6b10b6cf5c6a",
   "metadata": {
    "execution": {
     "iopub.execute_input": "2024-08-18T08:29:20.642246Z",
     "iopub.status.busy": "2024-08-18T08:29:20.642014Z",
     "iopub.status.idle": "2024-08-18T08:29:20.645002Z",
     "shell.execute_reply": "2024-08-18T08:29:20.644636Z",
     "shell.execute_reply.started": "2024-08-18T08:29:20.642234Z"
    }
   },
   "outputs": [],
   "source": [
    "import random\n",
    "\n",
    "def replace_zeros_with_random(df):\n",
    "    # Define a function that replaces 0 with a random value between 0 and 0.01\n",
    "    def replace_value(x):\n",
    "        return random.uniform(0, 0.01) if x == 0 else x\n",
    "    \n",
    "    # Apply this function to every element in the dataframe\n",
    "    df = df.applymap(replace_value)\n",
    "    return df"
   ]
  },
  {
   "cell_type": "code",
   "execution_count": 7,
   "id": "b12eda6d-e0c1-4386-836b-c0508d168aa1",
   "metadata": {
    "execution": {
     "iopub.execute_input": "2024-08-18T08:29:20.950644Z",
     "iopub.status.busy": "2024-08-18T08:29:20.950343Z",
     "iopub.status.idle": "2024-08-18T08:29:21.261597Z",
     "shell.execute_reply": "2024-08-18T08:29:21.261258Z",
     "shell.execute_reply.started": "2024-08-18T08:29:20.950615Z"
    }
   },
   "outputs": [],
   "source": [
    "components_Sparse_ICA = replace_zeros_with_random(components_Sparse_ICA)"
   ]
  },
  {
   "cell_type": "code",
   "execution_count": 8,
   "id": "da6fc2ca-837d-4528-bd55-b95a20816855",
   "metadata": {
    "execution": {
     "iopub.execute_input": "2024-08-18T08:29:21.372468Z",
     "iopub.status.busy": "2024-08-18T08:29:21.372176Z",
     "iopub.status.idle": "2024-08-18T08:29:21.374948Z",
     "shell.execute_reply": "2024-08-18T08:29:21.374382Z",
     "shell.execute_reply.started": "2024-08-18T08:29:21.372441Z"
    }
   },
   "outputs": [],
   "source": [
    "activities_Sparse_ICA.index = components_Sparse_ICA.columns"
   ]
  },
  {
   "cell_type": "code",
   "execution_count": 9,
   "id": "f6238a16-8514-4327-8afe-af50539f61e5",
   "metadata": {
    "execution": {
     "iopub.execute_input": "2024-08-18T08:29:21.820415Z",
     "iopub.status.busy": "2024-08-18T08:29:21.820116Z",
     "iopub.status.idle": "2024-08-18T08:29:21.823281Z",
     "shell.execute_reply": "2024-08-18T08:29:21.822514Z",
     "shell.execute_reply.started": "2024-08-18T08:29:21.820387Z"
    }
   },
   "outputs": [],
   "source": [
    "components_Sparse_ICA.index = precise1k.X.index"
   ]
  },
  {
   "cell_type": "code",
   "execution_count": 10,
   "id": "76a64239-e607-4d91-95d1-afc43c5a533f",
   "metadata": {
    "execution": {
     "iopub.execute_input": "2024-08-18T08:29:23.021889Z",
     "iopub.status.busy": "2024-08-18T08:29:23.021578Z",
     "iopub.status.idle": "2024-08-18T08:31:25.742458Z",
     "shell.execute_reply": "2024-08-18T08:31:25.741910Z",
     "shell.execute_reply.started": "2024-08-18T08:29:23.021860Z"
    }
   },
   "outputs": [],
   "source": [
    "Sparse_ICA = IcaData(components_Sparse_ICA,activities_Sparse_ICA)"
   ]
  },
  {
   "cell_type": "code",
   "execution_count": 11,
   "id": "da6ae87d-f4bc-417e-9a0a-a5e62d8ba92b",
   "metadata": {
    "execution": {
     "iopub.execute_input": "2024-08-18T08:31:25.743706Z",
     "iopub.status.busy": "2024-08-18T08:31:25.743338Z",
     "iopub.status.idle": "2024-08-18T08:31:25.752218Z",
     "shell.execute_reply": "2024-08-18T08:31:25.751814Z",
     "shell.execute_reply.started": "2024-08-18T08:31:25.743690Z"
    }
   },
   "outputs": [],
   "source": [
    "Sparse_ICA.X = precise1k.X"
   ]
  },
  {
   "cell_type": "code",
   "execution_count": 12,
   "id": "c171c665-006d-48e5-8016-1b5dc6ea7f4e",
   "metadata": {
    "execution": {
     "iopub.execute_input": "2024-08-18T08:31:25.752856Z",
     "iopub.status.busy": "2024-08-18T08:31:25.752728Z",
     "iopub.status.idle": "2024-08-18T08:31:25.936673Z",
     "shell.execute_reply": "2024-08-18T08:31:25.936305Z",
     "shell.execute_reply.started": "2024-08-18T08:31:25.752843Z"
    }
   },
   "outputs": [],
   "source": [
    "Sparse_ICA.gene_table = precise1k.gene_table\n",
    "Sparse_ICA.trn = precise1k.trn"
   ]
  },
  {
   "cell_type": "code",
   "execution_count": 13,
   "id": "ea5d8b1e-132b-4d47-83e6-386f83d6c1a2",
   "metadata": {
    "execution": {
     "iopub.execute_input": "2024-08-18T08:31:25.937732Z",
     "iopub.status.busy": "2024-08-18T08:31:25.937601Z",
     "iopub.status.idle": "2024-08-18T08:31:25.939951Z",
     "shell.execute_reply": "2024-08-18T08:31:25.939617Z",
     "shell.execute_reply.started": "2024-08-18T08:31:25.937719Z"
    }
   },
   "outputs": [],
   "source": [
    "Sparse_ICA.cog_colors = precise1k.cog_colors"
   ]
  },
  {
   "cell_type": "code",
   "execution_count": 14,
   "id": "e8f5f5d4-44ac-4787-9f89-e682ccaa2260",
   "metadata": {
    "execution": {
     "iopub.execute_input": "2024-08-18T08:31:25.940513Z",
     "iopub.status.busy": "2024-08-18T08:31:25.940392Z",
     "iopub.status.idle": "2024-08-18T08:31:25.952354Z",
     "shell.execute_reply": "2024-08-18T08:31:25.951987Z",
     "shell.execute_reply.started": "2024-08-18T08:31:25.940501Z"
    }
   },
   "outputs": [],
   "source": [
    "Sparse_ICA.sample_table = precise1k.sample_table"
   ]
  },
  {
   "cell_type": "code",
   "execution_count": 15,
   "id": "8d62e086-c6a4-4591-8101-933d85a78484",
   "metadata": {
    "execution": {
     "iopub.execute_input": "2024-08-18T08:31:25.952947Z",
     "iopub.status.busy": "2024-08-18T08:31:25.952822Z",
     "iopub.status.idle": "2024-08-18T08:31:37.300408Z",
     "shell.execute_reply": "2024-08-18T08:31:37.299802Z",
     "shell.execute_reply.started": "2024-08-18T08:31:25.952934Z"
    }
   },
   "outputs": [
    {
     "data": {
      "text/plain": [
       "0.7484750160887507"
      ]
     },
     "execution_count": 15,
     "metadata": {},
     "output_type": "execute_result"
    }
   ],
   "source": [
    "explained_variance(Sparse_ICA)"
   ]
  },
  {
   "cell_type": "code",
   "execution_count": 16,
   "id": "37498a6f-eaf7-4e50-a5c7-66f06df44269",
   "metadata": {
    "execution": {
     "iopub.execute_input": "2024-08-18T08:31:37.301624Z",
     "iopub.status.busy": "2024-08-18T08:31:37.301396Z",
     "iopub.status.idle": "2024-08-18T08:57:54.378556Z",
     "shell.execute_reply": "2024-08-18T08:57:54.378055Z",
     "shell.execute_reply.started": "2024-08-18T08:31:37.301602Z"
    }
   },
   "outputs": [
    {
     "data": {
      "application/vnd.jupyter.widget-view+json": {
       "model_id": "301c7ff3ba444bc090357337318bb965",
       "version_major": 2,
       "version_minor": 0
      },
      "text/plain": [
       "  0%|          | 0/59 [00:00<?, ?it/s]"
      ]
     },
     "metadata": {},
     "output_type": "display_data"
    },
    {
     "name": "stdout",
     "output_type": "stream",
     "text": [
      "      F1 Score  Precision    Recall       MCC\n",
      "50    0.075144   0.677811  0.055868  0.103332\n",
      "100   0.085011   0.648915  0.062953  0.119152\n",
      "150   0.088860   0.645719  0.065162  0.125292\n",
      "200   0.091409   0.645533  0.066680  0.129156\n",
      "250   0.091508   0.644405  0.066759  0.129285\n",
      "300   0.094293   0.641627  0.069955  0.132097\n",
      "350   0.095139   0.641033  0.070424  0.133405\n",
      "400   0.095219   0.641022  0.070514  0.133520\n",
      "450   0.095303   0.641003  0.070592  0.133629\n",
      "500   0.095370   0.640930  0.070664  0.133716\n",
      "550   0.095447   0.640930  0.070735  0.133814\n",
      "600   0.095586   0.640930  0.070848  0.133981\n",
      "650   0.095612   0.640893  0.070867  0.134033\n",
      "700   0.095682   0.640893  0.070916  0.134137\n",
      "750   0.095803   0.640843  0.071023  0.134273\n",
      "800   0.095992   0.640843  0.071133  0.134621\n",
      "850   0.096347   0.638883  0.071364  0.135077\n",
      "900   0.098239   0.635288  0.073496  0.139288\n",
      "950   0.102869   0.626027  0.078587  0.146308\n",
      "1000  0.112466   0.613326  0.087051  0.157824\n",
      "1050  0.122430   0.603698  0.098630  0.169845\n",
      "1100  0.135927   0.595839  0.113692  0.184805\n",
      "1150  0.150534   0.579003  0.135436  0.200550\n",
      "1200  0.171536   0.570191  0.160901  0.222001\n",
      "1250  0.187162   0.554871  0.181587  0.237095\n",
      "1300  0.200119   0.535388  0.202950  0.249209\n",
      "1350  0.222238   0.525080  0.233906  0.268775\n",
      "1400  0.237946   0.503263  0.263417  0.281548\n",
      "1450  0.249460   0.492450  0.291825  0.294025\n",
      "1500  0.264784   0.480155  0.322772  0.308128\n",
      "1550  0.276570   0.462714  0.348576  0.317998\n",
      "1600  0.288793   0.457466  0.374726  0.330385\n",
      "1650  0.301976   0.449644  0.393183  0.341500\n",
      "1700  0.308385   0.443518  0.406635  0.347311\n",
      "1750  0.309379   0.431247  0.421021  0.348600\n",
      "1800  0.318850   0.424020  0.444181  0.356888\n",
      "1850  0.322099   0.422831  0.445563  0.359397\n",
      "1900  0.327510   0.422301  0.455814  0.364507\n",
      "1950  0.332993   0.418501  0.467752  0.369070\n",
      "2000  0.334964   0.414204  0.474179  0.370874\n",
      "2050  0.336405   0.412004  0.480309  0.372571\n",
      "2100  0.339888   0.410754  0.488389  0.376086\n",
      "2150  0.341994   0.407163  0.491963  0.377328\n",
      "2200  0.340287   0.402841  0.495845  0.376152\n",
      "2250  0.339247   0.400022  0.498466  0.375513\n",
      "2300  0.338686   0.397451  0.500309  0.375029\n",
      "2350  0.339531   0.395662  0.505469  0.376212\n",
      "2400  0.340966   0.395349  0.514618  0.377847\n",
      "2450  0.341365   0.392689  0.518861  0.378231\n",
      "2500  0.344104   0.391562  0.524125  0.380649\n",
      "2550  0.343528   0.388434  0.525083  0.379964\n",
      "2600  0.345653   0.387388  0.529376  0.381831\n",
      "2650  0.345109   0.385703  0.529454  0.381135\n",
      "2700  0.344305   0.382849  0.529608  0.380053\n",
      "2750  0.341736   0.377740  0.529899  0.377318\n",
      "2800  0.341077   0.375097  0.532303  0.376657\n",
      "2850  0.343435   0.373850  0.536997  0.378715\n",
      "2900  0.341619   0.371439  0.538559  0.377093\n",
      "2950  0.339644   0.367633  0.539384  0.375349\n"
     ]
    },
    {
     "data": {
      "text/plain": [
       "2600"
      ]
     },
     "execution_count": 16,
     "metadata": {},
     "output_type": "execute_result"
    },
    {
     "data": {
      "image/png": "[encoded data removed]",
      "text/plain": [
       "<Figure size 400x400 with 1 Axes>"
      ]
     },
     "metadata": {},
     "output_type": "display_data"
    }
   ],
   "source": [
    "Sparse_ICA.reoptimize_thresholds()"
   ]
  },
  {
   "cell_type": "code",
   "execution_count": 18,
   "id": "1b3a321f-c8a9-43e7-a85c-b85c8e5881e0",
   "metadata": {
    "execution": {
     "iopub.execute_input": "2024-08-18T19:16:00.506184Z",
     "iopub.status.busy": "2024-08-18T19:16:00.505787Z",
     "iopub.status.idle": "2024-08-18T19:16:00.510489Z",
     "shell.execute_reply": "2024-08-18T19:16:00.509637Z",
     "shell.execute_reply.started": "2024-08-18T19:16:00.506150Z"
    }
   },
   "outputs": [],
   "source": [
    "# Sparse_ICA.recompute_thresholds(650)"
   ]
  },
  {
   "cell_type": "code",
   "execution_count": 19,
   "id": "4596db71-dfce-41da-8477-077630f970ac",
   "metadata": {
    "execution": {
     "iopub.execute_input": "2024-08-18T19:16:01.489177Z",
     "iopub.status.busy": "2024-08-18T19:16:01.488871Z",
     "iopub.status.idle": "2024-08-18T19:16:04.699510Z",
     "shell.execute_reply": "2024-08-18T19:16:04.699022Z",
     "shell.execute_reply.started": "2024-08-18T19:16:01.489148Z"
    }
   },
   "outputs": [],
   "source": [
    "imdb_gene_presence(Sparse_ICA)[0].to_csv('Presence_Matrices/Sparse_ICA_Gene_Presence_Matrix.csv')"
   ]
  },
  {
   "cell_type": "markdown",
   "id": "68a067e8-63f5-4e09-95f5-ef3661043d48",
   "metadata": {},
   "source": [
    "## InfoMax ICA"
   ]
  },
  {
   "cell_type": "code",
   "execution_count": 113,
   "id": "406eeb10-e55f-4b7e-ab24-148f74d83ea2",
   "metadata": {
    "execution": {
     "iopub.execute_input": "2024-08-17T23:20:33.905695Z",
     "iopub.status.busy": "2024-08-17T23:20:33.905574Z",
     "iopub.status.idle": "2024-08-17T23:20:34.128003Z",
     "shell.execute_reply": "2024-08-17T23:20:34.127507Z",
     "shell.execute_reply.started": "2024-08-17T23:20:33.905682Z"
    }
   },
   "outputs": [],
   "source": [
    "components_InfoMax_ICA = pd.read_csv('./Results/InfoMax_ICA/proc_S.csv').T"
   ]
  },
  {
   "cell_type": "code",
   "execution_count": 114,
   "id": "2edeaa82-a904-4b74-b241-467cff22103f",
   "metadata": {
    "execution": {
     "iopub.execute_input": "2024-08-17T23:20:34.128643Z",
     "iopub.status.busy": "2024-08-17T23:20:34.128511Z",
     "iopub.status.idle": "2024-08-17T23:20:34.130939Z",
     "shell.execute_reply": "2024-08-17T23:20:34.130592Z",
     "shell.execute_reply.started": "2024-08-17T23:20:34.128626Z"
    }
   },
   "outputs": [],
   "source": [
    "components_InfoMax_ICA.index = precise1k.X.index"
   ]
  },
  {
   "cell_type": "code",
   "execution_count": 115,
   "id": "735809dd-4af6-47f0-9784-96ef389698bf",
   "metadata": {
    "execution": {
     "iopub.execute_input": "2024-08-17T23:20:34.131612Z",
     "iopub.status.busy": "2024-08-17T23:20:34.131360Z",
     "iopub.status.idle": "2024-08-17T23:20:34.193957Z",
     "shell.execute_reply": "2024-08-17T23:20:34.193535Z",
     "shell.execute_reply.started": "2024-08-17T23:20:34.131599Z"
    }
   },
   "outputs": [],
   "source": [
    "activities_InfoMax_ICA = pd.read_csv('./Results/InfoMax_ICA/proc_A.csv')"
   ]
  },
  {
   "cell_type": "code",
   "execution_count": 116,
   "id": "ace4826b-e3c4-4279-8adb-b2e523f6fcbc",
   "metadata": {
    "execution": {
     "iopub.execute_input": "2024-08-17T23:20:34.194552Z",
     "iopub.status.busy": "2024-08-17T23:20:34.194421Z",
     "iopub.status.idle": "2024-08-17T23:20:34.196770Z",
     "shell.execute_reply": "2024-08-17T23:20:34.196387Z",
     "shell.execute_reply.started": "2024-08-17T23:20:34.194538Z"
    }
   },
   "outputs": [],
   "source": [
    "activities_InfoMax_ICA.columns = precise1k.X.columns"
   ]
  },
  {
   "cell_type": "code",
   "execution_count": null,
   "id": "622243e9-082c-476b-bba7-4a8cb9463a7c",
   "metadata": {},
   "outputs": [],
   "source": []
  },
  {
   "cell_type": "code",
   "execution_count": 117,
   "id": "919655f7-8273-48b3-8a3a-a08cf2cea303",
   "metadata": {
    "execution": {
     "iopub.execute_input": "2024-08-17T23:20:34.197735Z",
     "iopub.status.busy": "2024-08-17T23:20:34.197552Z",
     "iopub.status.idle": "2024-08-17T23:20:34.199743Z",
     "shell.execute_reply": "2024-08-17T23:20:34.199404Z",
     "shell.execute_reply.started": "2024-08-17T23:20:34.197721Z"
    }
   },
   "outputs": [],
   "source": [
    "components_InfoMax_ICA.columns = activities_InfoMax_ICA.index"
   ]
  },
  {
   "cell_type": "code",
   "execution_count": 118,
   "id": "75474331-44a1-4cb0-81a7-7eaddb14fe56",
   "metadata": {
    "execution": {
     "iopub.execute_input": "2024-08-17T23:20:34.200299Z",
     "iopub.status.busy": "2024-08-17T23:20:34.200181Z",
     "iopub.status.idle": "2024-08-17T23:22:42.513937Z",
     "shell.execute_reply": "2024-08-17T23:22:42.513407Z",
     "shell.execute_reply.started": "2024-08-17T23:20:34.200286Z"
    }
   },
   "outputs": [],
   "source": [
    "InfoMax_ICA = IcaData(components_InfoMax_ICA,activities_InfoMax_ICA)"
   ]
  },
  {
   "cell_type": "code",
   "execution_count": 119,
   "id": "03b44d17-2aab-45ec-88c8-4ffbf250713c",
   "metadata": {
    "execution": {
     "iopub.execute_input": "2024-08-17T23:22:42.514864Z",
     "iopub.status.busy": "2024-08-17T23:22:42.514717Z",
     "iopub.status.idle": "2024-08-17T23:22:42.526101Z",
     "shell.execute_reply": "2024-08-17T23:22:42.525719Z",
     "shell.execute_reply.started": "2024-08-17T23:22:42.514849Z"
    }
   },
   "outputs": [],
   "source": [
    "InfoMax_ICA.X = precise1k.X"
   ]
  },
  {
   "cell_type": "code",
   "execution_count": 120,
   "id": "ecc4fb60-6106-4b08-9c40-8826fbd4035e",
   "metadata": {
    "execution": {
     "iopub.execute_input": "2024-08-17T23:22:42.526778Z",
     "iopub.status.busy": "2024-08-17T23:22:42.526649Z",
     "iopub.status.idle": "2024-08-17T23:22:42.708225Z",
     "shell.execute_reply": "2024-08-17T23:22:42.707839Z",
     "shell.execute_reply.started": "2024-08-17T23:22:42.526764Z"
    }
   },
   "outputs": [],
   "source": [
    "InfoMax_ICA.gene_table = precise1k.gene_table\n",
    "InfoMax_ICA.trn = precise1k.trn"
   ]
  },
  {
   "cell_type": "code",
   "execution_count": 121,
   "id": "e218b1d1-7fee-40c5-9cfc-540d14df4c37",
   "metadata": {
    "execution": {
     "iopub.execute_input": "2024-08-17T23:22:42.708867Z",
     "iopub.status.busy": "2024-08-17T23:22:42.708735Z",
     "iopub.status.idle": "2024-08-17T23:22:42.711127Z",
     "shell.execute_reply": "2024-08-17T23:22:42.710763Z",
     "shell.execute_reply.started": "2024-08-17T23:22:42.708853Z"
    }
   },
   "outputs": [],
   "source": [
    "InfoMax_ICA.cog_colors = precise1k.cog_colors"
   ]
  },
  {
   "cell_type": "code",
   "execution_count": 122,
   "id": "3800e48b-9129-4ba5-a113-d828d6bbf092",
   "metadata": {
    "execution": {
     "iopub.execute_input": "2024-08-17T23:22:42.711939Z",
     "iopub.status.busy": "2024-08-17T23:22:42.711633Z",
     "iopub.status.idle": "2024-08-17T23:22:42.722298Z",
     "shell.execute_reply": "2024-08-17T23:22:42.721955Z",
     "shell.execute_reply.started": "2024-08-17T23:22:42.711925Z"
    }
   },
   "outputs": [],
   "source": [
    "InfoMax_ICA.sample_table = precise1k.sample_table"
   ]
  },
  {
   "cell_type": "code",
   "execution_count": 123,
   "id": "82d32cda-27ee-4fe5-b6fa-2475ff696df0",
   "metadata": {
    "execution": {
     "iopub.execute_input": "2024-08-17T23:22:42.722927Z",
     "iopub.status.busy": "2024-08-17T23:22:42.722801Z",
     "iopub.status.idle": "2024-08-17T23:22:54.322831Z",
     "shell.execute_reply": "2024-08-17T23:22:54.322232Z",
     "shell.execute_reply.started": "2024-08-17T23:22:42.722914Z"
    }
   },
   "outputs": [
    {
     "data": {
      "text/plain": [
       "0.665104016836261"
      ]
     },
     "execution_count": 123,
     "metadata": {},
     "output_type": "execute_result"
    }
   ],
   "source": [
    "explained_variance(InfoMax_ICA)"
   ]
  },
  {
   "cell_type": "code",
   "execution_count": 124,
   "id": "07c1a9c8-8c92-4d3d-bbf5-26bee0a4d2cd",
   "metadata": {
    "execution": {
     "iopub.execute_input": "2024-08-17T23:22:54.324043Z",
     "iopub.status.busy": "2024-08-17T23:22:54.323677Z",
     "iopub.status.idle": "2024-08-17T23:28:27.393076Z",
     "shell.execute_reply": "2024-08-17T23:28:27.392642Z",
     "shell.execute_reply.started": "2024-08-17T23:22:54.324019Z"
    }
   },
   "outputs": [
    {
     "data": {
      "application/vnd.jupyter.widget-view+json": {
       "model_id": "ee153c691c5b4cddb9e26c32b6bb69e9",
       "version_major": 2,
       "version_minor": 0
      },
      "text/plain": [
       "  0%|          | 0/39 [00:00<?, ?it/s]"
      ]
     },
     "metadata": {},
     "output_type": "display_data"
    },
    {
     "name": "stdout",
     "output_type": "stream",
     "text": [
      "      F1 Score  Precision    Recall       MCC\n",
      "50    0.138086   0.668164  0.109450  0.177415\n",
      "100   0.182580   0.570826  0.161960  0.226367\n",
      "150   0.214274   0.517817  0.214882  0.256769\n",
      "200   0.231592   0.462926  0.255479  0.270511\n",
      "250   0.242075   0.415817  0.282822  0.276325\n",
      "300   0.239580   0.364683  0.317783  0.272859\n",
      "350   0.227561   0.313309  0.341186  0.260355\n",
      "400   0.206505   0.262773  0.334778  0.238461\n",
      "450   0.178265   0.215261  0.332309  0.210556\n",
      "500   0.159284   0.186320  0.311427  0.189423\n",
      "550   0.144886   0.161378  0.291177  0.173351\n",
      "600   0.126618   0.136399  0.268462  0.152007\n",
      "650   0.113066   0.113384  0.257437  0.136233\n",
      "700   0.102383   0.100226  0.236117  0.122267\n",
      "750   0.093071   0.087713  0.219834  0.112196\n",
      "800   0.084967   0.077692  0.202334  0.102206\n",
      "850   0.074375   0.066623  0.176002  0.089262\n",
      "900   0.065262   0.058687  0.149664  0.078118\n",
      "950   0.062808   0.054361  0.147673  0.075287\n",
      "1000  0.057515   0.048555  0.139478  0.068950\n",
      "1050  0.050485   0.042232  0.123974  0.060763\n",
      "1100  0.049449   0.040733  0.127640  0.060173\n",
      "1150  0.045368   0.037302  0.119590  0.055626\n",
      "1200  0.043602   0.035930  0.110287  0.052595\n",
      "1250  0.035690   0.029605  0.087736  0.042678\n",
      "1300  0.033303   0.027966  0.075180  0.038755\n",
      "1350  0.032823   0.027365  0.075509  0.038246\n",
      "1400  0.030409   0.024980  0.067329  0.035303\n",
      "1450  0.028458   0.023391  0.059915  0.032904\n",
      "1500  0.025955   0.020773  0.052861  0.029805\n",
      "1550  0.025133   0.019862  0.052276  0.028976\n",
      "1600  0.023082   0.018152  0.048174  0.026777\n",
      "1650  0.021354   0.016683  0.047349  0.025064\n",
      "1700  0.019784   0.015196  0.041183  0.023076\n",
      "1750  0.018758   0.014095  0.041653  0.022317\n",
      "1800  0.017449   0.013186  0.038726  0.020714\n",
      "1850  0.016548   0.012553  0.038685  0.019959\n",
      "1900  0.014778   0.011172  0.039519  0.018631\n",
      "1950  0.014008   0.010281  0.039481  0.017884\n"
     ]
    },
    {
     "data": {
      "text/plain": [
       "250"
      ]
     },
     "execution_count": 124,
     "metadata": {},
     "output_type": "execute_result"
    },
    {
     "data": {
      "image/png": "[encoded data removed]",
      "text/plain": [
       "<Figure size 400x400 with 1 Axes>"
      ]
     },
     "metadata": {},
     "output_type": "display_data"
    }
   ],
   "source": [
    "InfoMax_ICA.reoptimize_thresholds()"
   ]
  },
  {
   "cell_type": "code",
   "execution_count": 125,
   "id": "8ea4beba-4a5a-491c-bf98-1f97d91684a2",
   "metadata": {
    "execution": {
     "iopub.execute_input": "2024-08-17T23:28:27.393710Z",
     "iopub.status.busy": "2024-08-17T23:28:27.393582Z",
     "iopub.status.idle": "2024-08-17T23:28:27.396202Z",
     "shell.execute_reply": "2024-08-17T23:28:27.395747Z",
     "shell.execute_reply.started": "2024-08-17T23:28:27.393696Z"
    }
   },
   "outputs": [],
   "source": [
    "# InfoMax_ICA.recompute_thresholds(200)"
   ]
  },
  {
   "cell_type": "code",
   "execution_count": 126,
   "id": "47667c85-2fd4-44f7-9de9-27d6c282fd70",
   "metadata": {
    "execution": {
     "iopub.execute_input": "2024-08-17T23:28:27.397284Z",
     "iopub.status.busy": "2024-08-17T23:28:27.397159Z",
     "iopub.status.idle": "2024-08-17T23:28:37.947475Z",
     "shell.execute_reply": "2024-08-17T23:28:37.947048Z",
     "shell.execute_reply.started": "2024-08-17T23:28:27.397271Z"
    }
   },
   "outputs": [],
   "source": [
    "imdb_gene_presence(InfoMax_ICA)[0].to_csv('Presence_Matrices/InfoMax_ICA_Gene_Presence_Matrix.csv')"
   ]
  },
  {
   "cell_type": "code",
   "execution_count": null,
   "id": "48949a53-10e9-427b-9ae1-0aa789fe504d",
   "metadata": {},
   "outputs": [],
   "source": []
  },
  {
   "cell_type": "markdown",
   "id": "3d359e31-f531-435f-b4f2-3779ac83528e",
   "metadata": {},
   "source": [
    "## NMF"
   ]
  },
  {
   "cell_type": "code",
   "execution_count": 139,
   "id": "011e4e89-febd-4fe4-b24f-381d3d587707",
   "metadata": {
    "execution": {
     "iopub.execute_input": "2024-08-18T06:00:40.687903Z",
     "iopub.status.busy": "2024-08-18T06:00:40.686892Z",
     "iopub.status.idle": "2024-08-18T06:00:40.837456Z",
     "shell.execute_reply": "2024-08-18T06:00:40.836610Z",
     "shell.execute_reply.started": "2024-08-18T06:00:40.687864Z"
    }
   },
   "outputs": [],
   "source": [
    "components_NMF = pd.read_csv('./Results/NMF/M_NMF.csv', index_col=0)"
   ]
  },
  {
   "cell_type": "code",
   "execution_count": 140,
   "id": "ddb914f2-c484-4430-adac-a1ad50989cdc",
   "metadata": {
    "execution": {
     "iopub.execute_input": "2024-08-18T06:00:40.838557Z",
     "iopub.status.busy": "2024-08-18T06:00:40.838419Z",
     "iopub.status.idle": "2024-08-18T06:00:40.864150Z",
     "shell.execute_reply": "2024-08-18T06:00:40.863417Z",
     "shell.execute_reply.started": "2024-08-18T06:00:40.838543Z"
    }
   },
   "outputs": [],
   "source": [
    "activities_NMF = pd.read_csv('./Results/NMF/A_NMF.csv', index_col=0).T"
   ]
  },
  {
   "cell_type": "code",
   "execution_count": 141,
   "id": "e6cbf22b-f85c-4a99-9893-92ae980fde42",
   "metadata": {
    "execution": {
     "iopub.execute_input": "2024-08-18T06:00:40.953307Z",
     "iopub.status.busy": "2024-08-18T06:00:40.953088Z",
     "iopub.status.idle": "2024-08-18T06:00:41.123418Z",
     "shell.execute_reply": "2024-08-18T06:00:41.122802Z",
     "shell.execute_reply.started": "2024-08-18T06:00:40.953286Z"
    }
   },
   "outputs": [],
   "source": [
    "components_NMF = replace_zeros_with_random(components_NMF)"
   ]
  },
  {
   "cell_type": "code",
   "execution_count": 142,
   "id": "de2a078e-e61e-48ef-bae9-14f7d2b97eff",
   "metadata": {
    "execution": {
     "iopub.execute_input": "2024-08-18T06:00:41.124437Z",
     "iopub.status.busy": "2024-08-18T06:00:41.124300Z",
     "iopub.status.idle": "2024-08-18T06:02:49.416129Z",
     "shell.execute_reply": "2024-08-18T06:02:49.415571Z",
     "shell.execute_reply.started": "2024-08-18T06:00:41.124424Z"
    }
   },
   "outputs": [],
   "source": [
    "NMF = IcaData(components_NMF,activities_NMF)"
   ]
  },
  {
   "cell_type": "code",
   "execution_count": 143,
   "id": "59d90722-b40e-4b71-be1c-53d354b59e02",
   "metadata": {
    "execution": {
     "iopub.execute_input": "2024-08-18T06:02:49.417382Z",
     "iopub.status.busy": "2024-08-18T06:02:49.417106Z",
     "iopub.status.idle": "2024-08-18T06:02:49.429195Z",
     "shell.execute_reply": "2024-08-18T06:02:49.428653Z",
     "shell.execute_reply.started": "2024-08-18T06:02:49.417366Z"
    }
   },
   "outputs": [],
   "source": [
    "NMF.X = precise1k.log_tpm"
   ]
  },
  {
   "cell_type": "code",
   "execution_count": 144,
   "id": "7c0c7ac8-52f8-44a4-9784-7e65333fd34b",
   "metadata": {
    "execution": {
     "iopub.execute_input": "2024-08-18T06:02:49.429940Z",
     "iopub.status.busy": "2024-08-18T06:02:49.429801Z",
     "iopub.status.idle": "2024-08-18T06:02:49.615557Z",
     "shell.execute_reply": "2024-08-18T06:02:49.614996Z",
     "shell.execute_reply.started": "2024-08-18T06:02:49.429926Z"
    }
   },
   "outputs": [],
   "source": [
    "NMF.gene_table = precise1k.gene_table\n",
    "NMF.trn = precise1k.trn"
   ]
  },
  {
   "cell_type": "code",
   "execution_count": 145,
   "id": "1ef208e5-8947-4bd6-bfcd-823c518dc261",
   "metadata": {
    "execution": {
     "iopub.execute_input": "2024-08-18T06:02:49.616961Z",
     "iopub.status.busy": "2024-08-18T06:02:49.616618Z",
     "iopub.status.idle": "2024-08-18T06:02:49.619345Z",
     "shell.execute_reply": "2024-08-18T06:02:49.618941Z",
     "shell.execute_reply.started": "2024-08-18T06:02:49.616946Z"
    }
   },
   "outputs": [],
   "source": [
    "NMF.cog_colors = precise1k.cog_colors"
   ]
  },
  {
   "cell_type": "code",
   "execution_count": 146,
   "id": "0feea2d0-2705-43fd-93df-524cdc3b6fbe",
   "metadata": {
    "execution": {
     "iopub.execute_input": "2024-08-18T06:02:49.619982Z",
     "iopub.status.busy": "2024-08-18T06:02:49.619854Z",
     "iopub.status.idle": "2024-08-18T06:02:49.631263Z",
     "shell.execute_reply": "2024-08-18T06:02:49.630851Z",
     "shell.execute_reply.started": "2024-08-18T06:02:49.619969Z"
    }
   },
   "outputs": [],
   "source": [
    "NMF.sample_table = precise1k.sample_table"
   ]
  },
  {
   "cell_type": "code",
   "execution_count": 147,
   "id": "3035e90d-b70d-4710-b03d-aad2c5e828ed",
   "metadata": {
    "execution": {
     "iopub.execute_input": "2024-08-18T06:02:49.631920Z",
     "iopub.status.busy": "2024-08-18T06:02:49.631790Z",
     "iopub.status.idle": "2024-08-18T06:03:00.890370Z",
     "shell.execute_reply": "2024-08-18T06:03:00.889665Z",
     "shell.execute_reply.started": "2024-08-18T06:02:49.631907Z"
    }
   },
   "outputs": [
    {
     "data": {
      "text/plain": [
       "0.0"
      ]
     },
     "execution_count": 147,
     "metadata": {},
     "output_type": "execute_result"
    }
   ],
   "source": [
    "explained_variance(NMF)"
   ]
  },
  {
   "cell_type": "code",
   "execution_count": 148,
   "id": "94321287-6856-4c38-b89c-e7bc5ceedc0f",
   "metadata": {
    "execution": {
     "iopub.execute_input": "2024-08-18T06:03:00.891726Z",
     "iopub.status.busy": "2024-08-18T06:03:00.891509Z",
     "iopub.status.idle": "2024-08-18T06:45:14.839070Z",
     "shell.execute_reply": "2024-08-18T06:45:14.838271Z",
     "shell.execute_reply.started": "2024-08-18T06:03:00.891704Z"
    }
   },
   "outputs": [
    {
     "data": {
      "application/vnd.jupyter.widget-view+json": {
       "model_id": "9b918d7b5f1f446b9579c5f058a2cd63",
       "version_major": 2,
       "version_minor": 0
      },
      "text/plain": [
       "  0%|          | 0/39 [00:00<?, ?it/s]"
      ]
     },
     "metadata": {},
     "output_type": "display_data"
    },
    {
     "name": "stdout",
     "output_type": "stream",
     "text": [
      "      F1 Score  Precision    Recall       MCC\n",
      "50    0.039153   0.945119  0.021788  0.017513\n",
      "100   0.040310   0.913043  0.024610  0.024927\n",
      "150   0.047232   0.882140  0.034025  0.039543\n",
      "200   0.063164   0.801805  0.060972  0.074298\n",
      "250   0.091401   0.717887  0.091323  0.118298\n",
      "300   0.124823   0.632670  0.129072  0.162816\n",
      "350   0.151623   0.570835  0.149030  0.193923\n",
      "400   0.170990   0.532144  0.176323  0.217050\n",
      "450   0.184400   0.506490  0.196882  0.230565\n",
      "500   0.188576   0.489267  0.206980  0.233667\n",
      "550   0.196045   0.474242  0.223146  0.239982\n",
      "600   0.200265   0.457486  0.228653  0.242425\n",
      "650   0.201671   0.438754  0.234849  0.241623\n",
      "700   0.209079   0.426083  0.250197  0.248198\n",
      "750   0.215226   0.411860  0.261213  0.253129\n",
      "800   0.217101   0.396656  0.270182  0.253823\n",
      "850   0.215281   0.377306  0.277317  0.251117\n",
      "900   0.218582   0.366246  0.294593  0.254393\n",
      "950   0.215269   0.351351  0.300054  0.249823\n",
      "1000  0.216957   0.338791  0.301549  0.249367\n",
      "1050  0.217113   0.327350  0.294263  0.247600\n",
      "1100  0.214961   0.313768  0.294790  0.244526\n",
      "1150  0.214127   0.303202  0.303062  0.243425\n",
      "1200  0.211390   0.289771  0.299784  0.238892\n",
      "1250  0.208245   0.276013  0.298970  0.234834\n",
      "1300  0.206866   0.264321  0.307589  0.232951\n",
      "1350  0.200917   0.251944  0.301948  0.225640\n",
      "1400  0.199074   0.241332  0.298111  0.221918\n",
      "1450  0.194645   0.230963  0.298721  0.217543\n",
      "1500  0.189965   0.220020  0.296727  0.212079\n",
      "1550  0.182476   0.207385  0.290055  0.204107\n",
      "1600  0.176829   0.196670  0.287654  0.197830\n",
      "1650  0.170903   0.186975  0.284845  0.191509\n",
      "1700  0.165504   0.179271  0.273115  0.185142\n",
      "1750  0.159956   0.171329  0.268285  0.178983\n",
      "1800  0.158145   0.167022  0.272066  0.177443\n",
      "1850  0.151948   0.159497  0.264107  0.170384\n",
      "1900  0.148184   0.154072  0.252297  0.165830\n",
      "1950  0.145953   0.150766  0.250260  0.163455\n"
     ]
    },
    {
     "data": {
      "text/plain": [
       "900"
      ]
     },
     "execution_count": 148,
     "metadata": {},
     "output_type": "execute_result"
    },
    {
     "data": {
      "image/png": "[encoded data removed]",
      "text/plain": [
       "<Figure size 400x400 with 1 Axes>"
      ]
     },
     "metadata": {},
     "output_type": "display_data"
    }
   ],
   "source": [
    "NMF.reoptimize_thresholds()"
   ]
  },
  {
   "cell_type": "code",
   "execution_count": 149,
   "id": "4f137031-152d-44af-851f-c7637749787b",
   "metadata": {
    "execution": {
     "iopub.execute_input": "2024-08-18T06:45:14.839925Z",
     "iopub.status.busy": "2024-08-18T06:45:14.839781Z",
     "iopub.status.idle": "2024-08-18T06:45:14.842910Z",
     "shell.execute_reply": "2024-08-18T06:45:14.842103Z",
     "shell.execute_reply.started": "2024-08-18T06:45:14.839911Z"
    }
   },
   "outputs": [],
   "source": [
    "# NMF.recompute_thresholds(200)"
   ]
  },
  {
   "cell_type": "code",
   "execution_count": 150,
   "id": "dd94d4da-87da-4f6e-9e55-b064d203cd93",
   "metadata": {
    "execution": {
     "iopub.execute_input": "2024-08-18T06:45:14.843590Z",
     "iopub.status.busy": "2024-08-18T06:45:14.843465Z",
     "iopub.status.idle": "2024-08-18T06:45:22.065875Z",
     "shell.execute_reply": "2024-08-18T06:45:22.065053Z",
     "shell.execute_reply.started": "2024-08-18T06:45:14.843577Z"
    }
   },
   "outputs": [],
   "source": [
    "imdb_gene_presence(NMF)[0].to_csv('Presence_Matrices/NMF_Gene_Presence_Matrix.csv')"
   ]
  },
  {
   "cell_type": "markdown",
   "id": "0630bb44-8c33-42a5-8e2e-13697ea6a065",
   "metadata": {},
   "source": [
    "## Picard ICA"
   ]
  },
  {
   "cell_type": "code",
   "execution_count": 5,
   "id": "89a075df-dde3-4f6e-8557-d24e9f524619",
   "metadata": {
    "execution": {
     "iopub.execute_input": "2024-08-21T04:36:25.426006Z",
     "iopub.status.busy": "2024-08-21T04:36:25.425727Z",
     "iopub.status.idle": "2024-08-21T04:36:25.626466Z",
     "shell.execute_reply": "2024-08-21T04:36:25.625628Z",
     "shell.execute_reply.started": "2024-08-21T04:36:25.425991Z"
    }
   },
   "outputs": [],
   "source": [
    "components_Picard_ICA = pd.read_csv('./Results/Picard_ICA/proc_S.csv').T"
   ]
  },
  {
   "cell_type": "code",
   "execution_count": 6,
   "id": "7b20e0f2-31fe-4ad6-96e1-9580b1ece469",
   "metadata": {
    "execution": {
     "iopub.execute_input": "2024-08-21T04:36:26.151269Z",
     "iopub.status.busy": "2024-08-21T04:36:26.150896Z",
     "iopub.status.idle": "2024-08-21T04:36:26.155191Z",
     "shell.execute_reply": "2024-08-21T04:36:26.154460Z",
     "shell.execute_reply.started": "2024-08-21T04:36:26.151236Z"
    }
   },
   "outputs": [],
   "source": [
    "components_Picard_ICA.index = precise1k.X.index"
   ]
  },
  {
   "cell_type": "code",
   "execution_count": 7,
   "id": "dd174e55-d069-4d8d-a246-8384c1295650",
   "metadata": {
    "execution": {
     "iopub.execute_input": "2024-08-21T04:36:28.099448Z",
     "iopub.status.busy": "2024-08-21T04:36:28.099136Z",
     "iopub.status.idle": "2024-08-21T04:36:28.165872Z",
     "shell.execute_reply": "2024-08-21T04:36:28.165129Z",
     "shell.execute_reply.started": "2024-08-21T04:36:28.099422Z"
    }
   },
   "outputs": [],
   "source": [
    "activities_Picard_ICA = pd.read_csv('./Results/Picard_ICA/proc_A.csv')"
   ]
  },
  {
   "cell_type": "code",
   "execution_count": 8,
   "id": "c0b3db58-14a6-4757-9ee2-e4fa723d966d",
   "metadata": {
    "execution": {
     "iopub.execute_input": "2024-08-21T04:36:28.591443Z",
     "iopub.status.busy": "2024-08-21T04:36:28.591244Z",
     "iopub.status.idle": "2024-08-21T04:36:28.595298Z",
     "shell.execute_reply": "2024-08-21T04:36:28.594580Z",
     "shell.execute_reply.started": "2024-08-21T04:36:28.591429Z"
    }
   },
   "outputs": [],
   "source": [
    "activities_Picard_ICA.columns = precise1k.X.columns"
   ]
  },
  {
   "cell_type": "code",
   "execution_count": null,
   "id": "d410a487-1619-4387-b04b-fbf68e4569b6",
   "metadata": {},
   "outputs": [],
   "source": []
  },
  {
   "cell_type": "code",
   "execution_count": 9,
   "id": "626f807e-6ab3-4060-a853-151bc48e3f7f",
   "metadata": {
    "execution": {
     "iopub.execute_input": "2024-08-21T04:36:29.443708Z",
     "iopub.status.busy": "2024-08-21T04:36:29.443335Z",
     "iopub.status.idle": "2024-08-21T04:36:29.447981Z",
     "shell.execute_reply": "2024-08-21T04:36:29.447283Z",
     "shell.execute_reply.started": "2024-08-21T04:36:29.443678Z"
    }
   },
   "outputs": [],
   "source": [
    "components_Picard_ICA.columns = activities_Picard_ICA.index"
   ]
  },
  {
   "cell_type": "code",
   "execution_count": 12,
   "id": "5958be0a-bbb4-476a-93d0-b3a383d7d6bd",
   "metadata": {
    "execution": {
     "iopub.execute_input": "2024-08-21T04:36:45.651321Z",
     "iopub.status.busy": "2024-08-21T04:36:45.650945Z",
     "iopub.status.idle": "2024-08-21T04:37:25.996326Z",
     "shell.execute_reply": "2024-08-21T04:37:25.995786Z",
     "shell.execute_reply.started": "2024-08-21T04:36:45.651290Z"
    }
   },
   "outputs": [],
   "source": [
    "Picard_ICA = IcaData(components_Picard_ICA,activities_Picard_ICA)"
   ]
  },
  {
   "cell_type": "code",
   "execution_count": 13,
   "id": "deb48c8c-4b2f-464b-8401-74236f4b9b5e",
   "metadata": {
    "execution": {
     "iopub.execute_input": "2024-08-21T04:37:25.997551Z",
     "iopub.status.busy": "2024-08-21T04:37:25.997180Z",
     "iopub.status.idle": "2024-08-21T04:37:26.008993Z",
     "shell.execute_reply": "2024-08-21T04:37:26.008593Z",
     "shell.execute_reply.started": "2024-08-21T04:37:25.997535Z"
    }
   },
   "outputs": [],
   "source": [
    "Picard_ICA.X = precise1k.X"
   ]
  },
  {
   "cell_type": "code",
   "execution_count": 14,
   "id": "cb04f18f-4447-4152-801c-96e9100b2cd0",
   "metadata": {
    "execution": {
     "iopub.execute_input": "2024-08-21T04:37:26.009696Z",
     "iopub.status.busy": "2024-08-21T04:37:26.009549Z",
     "iopub.status.idle": "2024-08-21T04:37:26.195250Z",
     "shell.execute_reply": "2024-08-21T04:37:26.194866Z",
     "shell.execute_reply.started": "2024-08-21T04:37:26.009681Z"
    }
   },
   "outputs": [],
   "source": [
    "Picard_ICA.gene_table = precise1k.gene_table\n",
    "Picard_ICA.trn = precise1k.trn"
   ]
  },
  {
   "cell_type": "code",
   "execution_count": 15,
   "id": "8c79be69-aac4-4d5f-b441-ac8d704b0ebc",
   "metadata": {
    "execution": {
     "iopub.execute_input": "2024-08-21T04:37:26.196455Z",
     "iopub.status.busy": "2024-08-21T04:37:26.196317Z",
     "iopub.status.idle": "2024-08-21T04:37:26.198669Z",
     "shell.execute_reply": "2024-08-21T04:37:26.198300Z",
     "shell.execute_reply.started": "2024-08-21T04:37:26.196440Z"
    }
   },
   "outputs": [],
   "source": [
    "Picard_ICA.cog_colors = precise1k.cog_colors"
   ]
  },
  {
   "cell_type": "code",
   "execution_count": 16,
   "id": "e408cc1a-56b2-4939-a7e7-d6167cea66c2",
   "metadata": {
    "execution": {
     "iopub.execute_input": "2024-08-21T04:37:26.199528Z",
     "iopub.status.busy": "2024-08-21T04:37:26.199175Z",
     "iopub.status.idle": "2024-08-21T04:37:26.216772Z",
     "shell.execute_reply": "2024-08-21T04:37:26.216287Z",
     "shell.execute_reply.started": "2024-08-21T04:37:26.199508Z"
    }
   },
   "outputs": [],
   "source": [
    "Picard_ICA.sample_table = precise1k.sample_table"
   ]
  },
  {
   "cell_type": "code",
   "execution_count": 17,
   "id": "f5cb0bf6-f1ed-44e8-8dd7-747f47a32877",
   "metadata": {
    "execution": {
     "iopub.execute_input": "2024-08-21T04:37:26.217419Z",
     "iopub.status.busy": "2024-08-21T04:37:26.217272Z",
     "iopub.status.idle": "2024-08-21T04:37:37.460102Z",
     "shell.execute_reply": "2024-08-21T04:37:37.459480Z",
     "shell.execute_reply.started": "2024-08-21T04:37:26.217406Z"
    }
   },
   "outputs": [
    {
     "data": {
      "text/plain": [
       "0.6651040168362611"
      ]
     },
     "execution_count": 17,
     "metadata": {},
     "output_type": "execute_result"
    }
   ],
   "source": [
    "explained_variance(Picard_ICA)"
   ]
  },
  {
   "cell_type": "code",
   "execution_count": 18,
   "id": "2a26b529-d45b-4bda-b2f2-fdcae0a31b9c",
   "metadata": {
    "execution": {
     "iopub.execute_input": "2024-08-21T04:37:37.461803Z",
     "iopub.status.busy": "2024-08-21T04:37:37.461323Z",
     "iopub.status.idle": "2024-08-21T04:44:00.020344Z",
     "shell.execute_reply": "2024-08-21T04:44:00.019937Z",
     "shell.execute_reply.started": "2024-08-21T04:37:37.461778Z"
    }
   },
   "outputs": [
    {
     "data": {
      "application/vnd.jupyter.widget-view+json": {
       "model_id": "31cb6a1f8af54568a47632e39987b073",
       "version_major": 2,
       "version_minor": 0
      },
      "text/plain": [
       "  0%|          | 0/59 [00:00<?, ?it/s]"
      ]
     },
     "metadata": {},
     "output_type": "display_data"
    },
    {
     "name": "stdout",
     "output_type": "stream",
     "text": [
      "      F1 Score  Precision    Recall       MCC\n",
      "50    0.130468   0.684108  0.104193  0.167524\n",
      "100   0.172942   0.608678  0.150495  0.218429\n",
      "150   0.198355   0.557515  0.189816  0.245276\n",
      "200   0.222651   0.518402  0.233283  0.267982\n",
      "250   0.239524   0.481927  0.262162  0.280335\n",
      "300   0.244736   0.436077  0.286379  0.280999\n",
      "350   0.240975   0.394307  0.302539  0.275808\n",
      "400   0.225850   0.346531  0.312024  0.260394\n",
      "450   0.222491   0.310054  0.324684  0.254554\n",
      "500   0.205922   0.266883  0.334832  0.237452\n",
      "550   0.181960   0.224974  0.293479  0.208319\n",
      "600   0.168861   0.201034  0.293037  0.194776\n",
      "650   0.158015   0.179432  0.267508  0.179548\n",
      "700   0.146389   0.158359  0.263295  0.166914\n",
      "750   0.129662   0.136409  0.246810  0.148776\n",
      "800   0.121627   0.125319  0.232554  0.139339\n",
      "850   0.115215   0.113260  0.228220  0.132480\n",
      "900   0.106670   0.104779  0.207224  0.121598\n",
      "950   0.102366   0.098185  0.208579  0.117648\n",
      "1000  0.097630   0.093094  0.182056  0.110833\n",
      "1050  0.091420   0.085529  0.179355  0.104895\n",
      "1100  0.083384   0.076105  0.176781  0.097259\n",
      "1150  0.080812   0.072757  0.169400  0.094215\n",
      "1200  0.077837   0.069785  0.156074  0.090086\n",
      "1250  0.074330   0.064576  0.150424  0.086009\n",
      "1300  0.068305   0.058815  0.145459  0.080032\n",
      "1350  0.066196   0.056810  0.143067  0.077577\n",
      "1400  0.062874   0.054002  0.134917  0.073701\n",
      "1450  0.059042   0.050332  0.129913  0.069229\n",
      "1500  0.054509   0.047055  0.120670  0.063579\n",
      "1550  0.049740   0.042899  0.102964  0.057130\n",
      "1600  0.048622   0.041882  0.094235  0.055489\n",
      "1650  0.044615   0.038045  0.087348  0.051221\n",
      "1700  0.043138   0.036492  0.084948  0.049470\n",
      "1750  0.042574   0.035531  0.088848  0.049399\n",
      "1800  0.038354   0.031807  0.081298  0.044467\n",
      "1850  0.035949   0.029772  0.071500  0.040925\n",
      "1900  0.033314   0.027614  0.066787  0.037811\n",
      "1950  0.032509   0.026825  0.057739  0.036230\n",
      "2000  0.030718   0.025183  0.057281  0.034661\n",
      "2050  0.028019   0.022817  0.052269  0.031571\n",
      "2100  0.026425   0.021227  0.050935  0.029997\n",
      "2150  0.025483   0.019973  0.050937  0.029157\n",
      "2200  0.024413   0.019232  0.049870  0.028060\n",
      "2250  0.023210   0.018234  0.046723  0.026392\n",
      "2300  0.021859   0.016817  0.045840  0.025149\n",
      "2350  0.021678   0.016521  0.048569  0.025267\n",
      "2400  0.021345   0.015983  0.050123  0.025267\n",
      "2450  0.020132   0.015246  0.041918  0.023176\n",
      "2500  0.019604   0.014530  0.044374  0.023052\n",
      "2550  0.018542   0.013490  0.044940  0.022212\n",
      "2600  0.017160   0.012309  0.041341  0.020454\n",
      "2650  0.015686   0.011028  0.040631  0.018913\n",
      "2700  0.014838   0.010345  0.036566  0.017806\n",
      "2750  0.014181   0.009611  0.036900  0.017339\n",
      "2800  0.013142   0.008896  0.035462  0.016241\n",
      "2850  0.011939   0.008049  0.031944  0.014796\n",
      "2900  0.011722   0.007872  0.032830  0.014725\n",
      "2950  0.009887   0.006360  0.035345  0.013544\n"
     ]
    },
    {
     "data": {
      "text/plain": [
       "300"
      ]
     },
     "execution_count": 18,
     "metadata": {},
     "output_type": "execute_result"
    },
    {
     "data": {
      "image/png": "[encoded data removed]",
      "text/plain": [
       "<Figure size 400x400 with 1 Axes>"
      ]
     },
     "metadata": {},
     "output_type": "display_data"
    }
   ],
   "source": [
    "Picard_ICA.reoptimize_thresholds()"
   ]
  },
  {
   "cell_type": "code",
   "execution_count": 19,
   "id": "b2125908-58c1-4eaf-b428-13f355291442",
   "metadata": {
    "execution": {
     "iopub.execute_input": "2024-08-21T04:44:00.021017Z",
     "iopub.status.busy": "2024-08-21T04:44:00.020893Z",
     "iopub.status.idle": "2024-08-21T04:44:00.023328Z",
     "shell.execute_reply": "2024-08-21T04:44:00.022985Z",
     "shell.execute_reply.started": "2024-08-21T04:44:00.021004Z"
    }
   },
   "outputs": [],
   "source": [
    "# Picard_ICA.recompute_thresholds(200)"
   ]
  },
  {
   "cell_type": "code",
   "execution_count": 20,
   "id": "2578324a-5f29-4d0e-8f25-7dad6a9d63d6",
   "metadata": {
    "execution": {
     "iopub.execute_input": "2024-08-21T04:44:00.023942Z",
     "iopub.status.busy": "2024-08-21T04:44:00.023798Z",
     "iopub.status.idle": "2024-08-21T04:44:10.311420Z",
     "shell.execute_reply": "2024-08-21T04:44:10.310931Z",
     "shell.execute_reply.started": "2024-08-21T04:44:00.023923Z"
    }
   },
   "outputs": [],
   "source": [
    "imdb_gene_presence(Picard_ICA)[0].to_csv('Presence_Matrices/Picard_ICA_Gene_Presence_Matrix.csv')"
   ]
  },
  {
   "cell_type": "code",
   "execution_count": null,
   "id": "abf246dc-dca2-48fa-98ef-5c6d8ba3f973",
   "metadata": {},
   "outputs": [],
   "source": []
  },
  {
   "cell_type": "markdown",
   "id": "5d40dadc-1e08-40fd-b579-eb7059f4c816",
   "metadata": {},
   "source": [
    "## ISA"
   ]
  },
  {
   "cell_type": "code",
   "execution_count": 12,
   "id": "2e80c662-b848-4ebe-99d6-cb5cc88e80fe",
   "metadata": {
    "execution": {
     "iopub.execute_input": "2024-12-02T01:50:54.784455Z",
     "iopub.status.busy": "2024-12-02T01:50:54.784086Z",
     "iopub.status.idle": "2024-12-02T01:50:54.841566Z",
     "shell.execute_reply": "2024-12-02T01:50:54.841053Z",
     "shell.execute_reply.started": "2024-12-02T01:50:54.784424Z"
    }
   },
   "outputs": [],
   "source": [
    "components_ISA = pd.read_csv('./Results/ISA/ISA_Components.csv', index_col=0)"
   ]
  },
  {
   "cell_type": "code",
   "execution_count": 13,
   "id": "0ce8ef98-aefe-408f-bd83-22c075b9429a",
   "metadata": {
    "execution": {
     "iopub.execute_input": "2024-12-02T01:50:54.979990Z",
     "iopub.status.busy": "2024-12-02T01:50:54.979691Z",
     "iopub.status.idle": "2024-12-02T01:50:55.006666Z",
     "shell.execute_reply": "2024-12-02T01:50:55.005816Z",
     "shell.execute_reply.started": "2024-12-02T01:50:54.979961Z"
    }
   },
   "outputs": [],
   "source": [
    "activities_ISA = pd.read_csv('./Results/sIPCA/loadings_variables_sipca.csv', index_col=0).T"
   ]
  },
  {
   "cell_type": "code",
   "execution_count": 16,
   "id": "b73ead4b-3d7b-41cd-9cb5-21a22bd1074e",
   "metadata": {
    "execution": {
     "iopub.execute_input": "2024-12-02T01:50:58.857554Z",
     "iopub.status.busy": "2024-12-02T01:50:58.857211Z",
     "iopub.status.idle": "2024-12-02T01:50:58.861498Z",
     "shell.execute_reply": "2024-12-02T01:50:58.860752Z",
     "shell.execute_reply.started": "2024-12-02T01:50:58.857524Z"
    }
   },
   "outputs": [],
   "source": [
    "activities_ISA.index = components_ISA.columns"
   ]
  },
  {
   "cell_type": "code",
   "execution_count": 18,
   "id": "8d95fa83-fc82-4e53-8f4e-4726198f9b84",
   "metadata": {
    "execution": {
     "iopub.execute_input": "2024-12-02T01:51:02.120127Z",
     "iopub.status.busy": "2024-12-02T01:51:02.119794Z",
     "iopub.status.idle": "2024-12-02T01:51:02.152164Z",
     "shell.execute_reply": "2024-12-02T01:51:02.151461Z",
     "shell.execute_reply.started": "2024-12-02T01:51:02.120098Z"
    }
   },
   "outputs": [
    {
     "data": {
      "text/html": [
       "<div>\n",
       "<style scoped>\n",
       "    .dataframe tbody tr th:only-of-type {\n",
       "        vertical-align: middle;\n",
       "    }\n",
       "\n",
       "    .dataframe tbody tr th {\n",
       "        vertical-align: top;\n",
       "    }\n",
       "\n",
       "    .dataframe thead th {\n",
       "        text-align: right;\n",
       "    }\n",
       "</style>\n",
       "<table border=\"1\" class=\"dataframe\">\n",
       "  <thead>\n",
       "    <tr style=\"text-align: right;\">\n",
       "      <th></th>\n",
       "      <th>p1k_00001</th>\n",
       "      <th>p1k_00002</th>\n",
       "      <th>p1k_00003</th>\n",
       "      <th>p1k_00004</th>\n",
       "      <th>p1k_00005</th>\n",
       "      <th>p1k_00006</th>\n",
       "      <th>p1k_00007</th>\n",
       "      <th>p1k_00008</th>\n",
       "      <th>p1k_00009</th>\n",
       "      <th>p1k_00010</th>\n",
       "      <th>...</th>\n",
       "      <th>p1k_01046</th>\n",
       "      <th>p1k_01047</th>\n",
       "      <th>p1k_01048</th>\n",
       "      <th>p1k_01049</th>\n",
       "      <th>p1k_01050</th>\n",
       "      <th>p1k_01051</th>\n",
       "      <th>p1k_01052</th>\n",
       "      <th>p1k_01053</th>\n",
       "      <th>p1k_01054</th>\n",
       "      <th>p1k_01055</th>\n",
       "    </tr>\n",
       "  </thead>\n",
       "  <tbody>\n",
       "    <tr>\n",
       "      <th>Component_1</th>\n",
       "      <td>0.000000</td>\n",
       "      <td>0.000000</td>\n",
       "      <td>0.0</td>\n",
       "      <td>0.0</td>\n",
       "      <td>0.000000</td>\n",
       "      <td>0.000000</td>\n",
       "      <td>0.0</td>\n",
       "      <td>0.000000</td>\n",
       "      <td>0.0</td>\n",
       "      <td>0.0</td>\n",
       "      <td>...</td>\n",
       "      <td>-0.000684</td>\n",
       "      <td>-0.001041</td>\n",
       "      <td>-0.000372</td>\n",
       "      <td>-0.000741</td>\n",
       "      <td>0.000000</td>\n",
       "      <td>-0.028508</td>\n",
       "      <td>0.0</td>\n",
       "      <td>0.0</td>\n",
       "      <td>0.000154</td>\n",
       "      <td>0.0</td>\n",
       "    </tr>\n",
       "    <tr>\n",
       "      <th>Component_2</th>\n",
       "      <td>0.000000</td>\n",
       "      <td>0.000000</td>\n",
       "      <td>0.0</td>\n",
       "      <td>0.0</td>\n",
       "      <td>0.000000</td>\n",
       "      <td>0.000000</td>\n",
       "      <td>0.0</td>\n",
       "      <td>0.000000</td>\n",
       "      <td>0.0</td>\n",
       "      <td>0.0</td>\n",
       "      <td>...</td>\n",
       "      <td>0.000000</td>\n",
       "      <td>0.001839</td>\n",
       "      <td>0.000000</td>\n",
       "      <td>0.000087</td>\n",
       "      <td>0.028355</td>\n",
       "      <td>0.000000</td>\n",
       "      <td>0.0</td>\n",
       "      <td>0.0</td>\n",
       "      <td>0.000259</td>\n",
       "      <td>0.0</td>\n",
       "    </tr>\n",
       "    <tr>\n",
       "      <th>Component_3</th>\n",
       "      <td>0.000000</td>\n",
       "      <td>0.000000</td>\n",
       "      <td>0.0</td>\n",
       "      <td>0.0</td>\n",
       "      <td>0.000000</td>\n",
       "      <td>0.000000</td>\n",
       "      <td>0.0</td>\n",
       "      <td>0.000000</td>\n",
       "      <td>0.0</td>\n",
       "      <td>0.0</td>\n",
       "      <td>...</td>\n",
       "      <td>0.000000</td>\n",
       "      <td>-0.000161</td>\n",
       "      <td>0.000000</td>\n",
       "      <td>0.000000</td>\n",
       "      <td>0.000000</td>\n",
       "      <td>0.000000</td>\n",
       "      <td>0.0</td>\n",
       "      <td>0.0</td>\n",
       "      <td>0.000000</td>\n",
       "      <td>0.0</td>\n",
       "    </tr>\n",
       "    <tr>\n",
       "      <th>Component_4</th>\n",
       "      <td>0.000000</td>\n",
       "      <td>0.000000</td>\n",
       "      <td>0.0</td>\n",
       "      <td>0.0</td>\n",
       "      <td>0.000000</td>\n",
       "      <td>0.000152</td>\n",
       "      <td>0.0</td>\n",
       "      <td>0.000000</td>\n",
       "      <td>0.0</td>\n",
       "      <td>0.0</td>\n",
       "      <td>...</td>\n",
       "      <td>0.000000</td>\n",
       "      <td>0.000000</td>\n",
       "      <td>0.000000</td>\n",
       "      <td>0.000000</td>\n",
       "      <td>0.000000</td>\n",
       "      <td>0.000000</td>\n",
       "      <td>0.0</td>\n",
       "      <td>0.0</td>\n",
       "      <td>0.000000</td>\n",
       "      <td>0.0</td>\n",
       "    </tr>\n",
       "    <tr>\n",
       "      <th>Component_5</th>\n",
       "      <td>0.000000</td>\n",
       "      <td>0.000000</td>\n",
       "      <td>0.0</td>\n",
       "      <td>0.0</td>\n",
       "      <td>0.000000</td>\n",
       "      <td>0.000000</td>\n",
       "      <td>0.0</td>\n",
       "      <td>0.000000</td>\n",
       "      <td>0.0</td>\n",
       "      <td>0.0</td>\n",
       "      <td>...</td>\n",
       "      <td>0.000000</td>\n",
       "      <td>0.000000</td>\n",
       "      <td>0.000000</td>\n",
       "      <td>0.000000</td>\n",
       "      <td>0.000000</td>\n",
       "      <td>0.000000</td>\n",
       "      <td>0.0</td>\n",
       "      <td>0.0</td>\n",
       "      <td>0.000218</td>\n",
       "      <td>0.0</td>\n",
       "    </tr>\n",
       "    <tr>\n",
       "      <th>...</th>\n",
       "      <td>...</td>\n",
       "      <td>...</td>\n",
       "      <td>...</td>\n",
       "      <td>...</td>\n",
       "      <td>...</td>\n",
       "      <td>...</td>\n",
       "      <td>...</td>\n",
       "      <td>...</td>\n",
       "      <td>...</td>\n",
       "      <td>...</td>\n",
       "      <td>...</td>\n",
       "      <td>...</td>\n",
       "      <td>...</td>\n",
       "      <td>...</td>\n",
       "      <td>...</td>\n",
       "      <td>...</td>\n",
       "      <td>...</td>\n",
       "      <td>...</td>\n",
       "      <td>...</td>\n",
       "      <td>...</td>\n",
       "      <td>...</td>\n",
       "    </tr>\n",
       "    <tr>\n",
       "      <th>Component_246</th>\n",
       "      <td>0.000000</td>\n",
       "      <td>0.000000</td>\n",
       "      <td>0.0</td>\n",
       "      <td>0.0</td>\n",
       "      <td>0.000000</td>\n",
       "      <td>0.000000</td>\n",
       "      <td>0.0</td>\n",
       "      <td>0.000000</td>\n",
       "      <td>0.0</td>\n",
       "      <td>0.0</td>\n",
       "      <td>...</td>\n",
       "      <td>0.000000</td>\n",
       "      <td>0.000000</td>\n",
       "      <td>0.000000</td>\n",
       "      <td>0.000000</td>\n",
       "      <td>0.000000</td>\n",
       "      <td>0.000000</td>\n",
       "      <td>0.0</td>\n",
       "      <td>0.0</td>\n",
       "      <td>0.000000</td>\n",
       "      <td>0.0</td>\n",
       "    </tr>\n",
       "    <tr>\n",
       "      <th>Component_247</th>\n",
       "      <td>0.000000</td>\n",
       "      <td>0.000000</td>\n",
       "      <td>0.0</td>\n",
       "      <td>0.0</td>\n",
       "      <td>0.000000</td>\n",
       "      <td>0.000000</td>\n",
       "      <td>0.0</td>\n",
       "      <td>0.000000</td>\n",
       "      <td>0.0</td>\n",
       "      <td>0.0</td>\n",
       "      <td>...</td>\n",
       "      <td>0.000000</td>\n",
       "      <td>0.000000</td>\n",
       "      <td>0.000000</td>\n",
       "      <td>0.000000</td>\n",
       "      <td>0.000000</td>\n",
       "      <td>0.000000</td>\n",
       "      <td>0.0</td>\n",
       "      <td>0.0</td>\n",
       "      <td>0.000000</td>\n",
       "      <td>0.0</td>\n",
       "    </tr>\n",
       "    <tr>\n",
       "      <th>Component_248</th>\n",
       "      <td>0.000000</td>\n",
       "      <td>0.000000</td>\n",
       "      <td>0.0</td>\n",
       "      <td>0.0</td>\n",
       "      <td>0.000000</td>\n",
       "      <td>0.000000</td>\n",
       "      <td>0.0</td>\n",
       "      <td>0.000000</td>\n",
       "      <td>0.0</td>\n",
       "      <td>0.0</td>\n",
       "      <td>...</td>\n",
       "      <td>0.000000</td>\n",
       "      <td>0.000000</td>\n",
       "      <td>0.000000</td>\n",
       "      <td>0.000000</td>\n",
       "      <td>0.000000</td>\n",
       "      <td>0.000000</td>\n",
       "      <td>0.0</td>\n",
       "      <td>0.0</td>\n",
       "      <td>0.000000</td>\n",
       "      <td>0.0</td>\n",
       "    </tr>\n",
       "    <tr>\n",
       "      <th>Component_249</th>\n",
       "      <td>-0.170491</td>\n",
       "      <td>-0.203638</td>\n",
       "      <td>0.0</td>\n",
       "      <td>0.0</td>\n",
       "      <td>-0.011931</td>\n",
       "      <td>-0.009574</td>\n",
       "      <td>0.0</td>\n",
       "      <td>0.001315</td>\n",
       "      <td>0.0</td>\n",
       "      <td>0.0</td>\n",
       "      <td>...</td>\n",
       "      <td>0.000000</td>\n",
       "      <td>0.000000</td>\n",
       "      <td>0.000000</td>\n",
       "      <td>0.000000</td>\n",
       "      <td>0.000000</td>\n",
       "      <td>0.000000</td>\n",
       "      <td>0.0</td>\n",
       "      <td>0.0</td>\n",
       "      <td>0.000000</td>\n",
       "      <td>0.0</td>\n",
       "    </tr>\n",
       "    <tr>\n",
       "      <th>Component_250</th>\n",
       "      <td>0.000000</td>\n",
       "      <td>0.000000</td>\n",
       "      <td>0.0</td>\n",
       "      <td>0.0</td>\n",
       "      <td>0.000000</td>\n",
       "      <td>0.000000</td>\n",
       "      <td>0.0</td>\n",
       "      <td>0.000000</td>\n",
       "      <td>0.0</td>\n",
       "      <td>0.0</td>\n",
       "      <td>...</td>\n",
       "      <td>0.000000</td>\n",
       "      <td>0.000000</td>\n",
       "      <td>0.000000</td>\n",
       "      <td>0.000000</td>\n",
       "      <td>0.000000</td>\n",
       "      <td>0.000000</td>\n",
       "      <td>0.0</td>\n",
       "      <td>0.0</td>\n",
       "      <td>0.000000</td>\n",
       "      <td>0.0</td>\n",
       "    </tr>\n",
       "  </tbody>\n",
       "</table>\n",
       "<p>250 rows × 1035 columns</p>\n",
       "</div>"
      ],
      "text/plain": [
       "               p1k_00001  p1k_00002  p1k_00003  p1k_00004  p1k_00005  \\\n",
       "Component_1     0.000000   0.000000        0.0        0.0   0.000000   \n",
       "Component_2     0.000000   0.000000        0.0        0.0   0.000000   \n",
       "Component_3     0.000000   0.000000        0.0        0.0   0.000000   \n",
       "Component_4     0.000000   0.000000        0.0        0.0   0.000000   \n",
       "Component_5     0.000000   0.000000        0.0        0.0   0.000000   \n",
       "...                  ...        ...        ...        ...        ...   \n",
       "Component_246   0.000000   0.000000        0.0        0.0   0.000000   \n",
       "Component_247   0.000000   0.000000        0.0        0.0   0.000000   \n",
       "Component_248   0.000000   0.000000        0.0        0.0   0.000000   \n",
       "Component_249  -0.170491  -0.203638        0.0        0.0  -0.011931   \n",
       "Component_250   0.000000   0.000000        0.0        0.0   0.000000   \n",
       "\n",
       "               p1k_00006  p1k_00007  p1k_00008  p1k_00009  p1k_00010  ...  \\\n",
       "Component_1     0.000000        0.0   0.000000        0.0        0.0  ...   \n",
       "Component_2     0.000000        0.0   0.000000        0.0        0.0  ...   \n",
       "Component_3     0.000000        0.0   0.000000        0.0        0.0  ...   \n",
       "Component_4     0.000152        0.0   0.000000        0.0        0.0  ...   \n",
       "Component_5     0.000000        0.0   0.000000        0.0        0.0  ...   \n",
       "...                  ...        ...        ...        ...        ...  ...   \n",
       "Component_246   0.000000        0.0   0.000000        0.0        0.0  ...   \n",
       "Component_247   0.000000        0.0   0.000000        0.0        0.0  ...   \n",
       "Component_248   0.000000        0.0   0.000000        0.0        0.0  ...   \n",
       "Component_249  -0.009574        0.0   0.001315        0.0        0.0  ...   \n",
       "Component_250   0.000000        0.0   0.000000        0.0        0.0  ...   \n",
       "\n",
       "               p1k_01046  p1k_01047  p1k_01048  p1k_01049  p1k_01050  \\\n",
       "Component_1    -0.000684  -0.001041  -0.000372  -0.000741   0.000000   \n",
       "Component_2     0.000000   0.001839   0.000000   0.000087   0.028355   \n",
       "Component_3     0.000000  -0.000161   0.000000   0.000000   0.000000   \n",
       "Component_4     0.000000   0.000000   0.000000   0.000000   0.000000   \n",
       "Component_5     0.000000   0.000000   0.000000   0.000000   0.000000   \n",
       "...                  ...        ...        ...        ...        ...   \n",
       "Component_246   0.000000   0.000000   0.000000   0.000000   0.000000   \n",
       "Component_247   0.000000   0.000000   0.000000   0.000000   0.000000   \n",
       "Component_248   0.000000   0.000000   0.000000   0.000000   0.000000   \n",
       "Component_249   0.000000   0.000000   0.000000   0.000000   0.000000   \n",
       "Component_250   0.000000   0.000000   0.000000   0.000000   0.000000   \n",
       "\n",
       "               p1k_01051  p1k_01052  p1k_01053  p1k_01054  p1k_01055  \n",
       "Component_1    -0.028508        0.0        0.0   0.000154        0.0  \n",
       "Component_2     0.000000        0.0        0.0   0.000259        0.0  \n",
       "Component_3     0.000000        0.0        0.0   0.000000        0.0  \n",
       "Component_4     0.000000        0.0        0.0   0.000000        0.0  \n",
       "Component_5     0.000000        0.0        0.0   0.000218        0.0  \n",
       "...                  ...        ...        ...        ...        ...  \n",
       "Component_246   0.000000        0.0        0.0   0.000000        0.0  \n",
       "Component_247   0.000000        0.0        0.0   0.000000        0.0  \n",
       "Component_248   0.000000        0.0        0.0   0.000000        0.0  \n",
       "Component_249   0.000000        0.0        0.0   0.000000        0.0  \n",
       "Component_250   0.000000        0.0        0.0   0.000000        0.0  \n",
       "\n",
       "[250 rows x 1035 columns]"
      ]
     },
     "execution_count": 18,
     "metadata": {},
     "output_type": "execute_result"
    }
   ],
   "source": [
    "activities_ISA"
   ]
  },
  {
   "cell_type": "code",
   "execution_count": 17,
   "id": "bdfdacc7-ab96-4981-b7cc-49adc9946231",
   "metadata": {
    "execution": {
     "iopub.execute_input": "2024-12-02T01:50:59.548624Z",
     "iopub.status.busy": "2024-12-02T01:50:59.548306Z",
     "iopub.status.idle": "2024-12-02T01:50:59.587734Z",
     "shell.execute_reply": "2024-12-02T01:50:59.586986Z",
     "shell.execute_reply.started": "2024-12-02T01:50:59.548595Z"
    }
   },
   "outputs": [
    {
     "data": {
      "text/html": [
       "<div>\n",
       "<style scoped>\n",
       "    .dataframe tbody tr th:only-of-type {\n",
       "        vertical-align: middle;\n",
       "    }\n",
       "\n",
       "    .dataframe tbody tr th {\n",
       "        vertical-align: top;\n",
       "    }\n",
       "\n",
       "    .dataframe thead th {\n",
       "        text-align: right;\n",
       "    }\n",
       "</style>\n",
       "<table border=\"1\" class=\"dataframe\">\n",
       "  <thead>\n",
       "    <tr style=\"text-align: right;\">\n",
       "      <th></th>\n",
       "      <th>Component_1</th>\n",
       "      <th>Component_2</th>\n",
       "      <th>Component_3</th>\n",
       "      <th>Component_4</th>\n",
       "      <th>Component_5</th>\n",
       "      <th>Component_6</th>\n",
       "      <th>Component_7</th>\n",
       "      <th>Component_8</th>\n",
       "      <th>Component_9</th>\n",
       "      <th>Component_10</th>\n",
       "      <th>...</th>\n",
       "      <th>Component_241</th>\n",
       "      <th>Component_242</th>\n",
       "      <th>Component_243</th>\n",
       "      <th>Component_244</th>\n",
       "      <th>Component_245</th>\n",
       "      <th>Component_246</th>\n",
       "      <th>Component_247</th>\n",
       "      <th>Component_248</th>\n",
       "      <th>Component_249</th>\n",
       "      <th>Component_250</th>\n",
       "    </tr>\n",
       "  </thead>\n",
       "  <tbody>\n",
       "    <tr>\n",
       "      <th>b0002</th>\n",
       "      <td>0.0</td>\n",
       "      <td>0.0</td>\n",
       "      <td>0.0</td>\n",
       "      <td>0.0</td>\n",
       "      <td>0.0</td>\n",
       "      <td>0.0</td>\n",
       "      <td>0.0</td>\n",
       "      <td>0.0</td>\n",
       "      <td>0.000000</td>\n",
       "      <td>0.0</td>\n",
       "      <td>...</td>\n",
       "      <td>0.0</td>\n",
       "      <td>0.0</td>\n",
       "      <td>0.0</td>\n",
       "      <td>0.0</td>\n",
       "      <td>0.0</td>\n",
       "      <td>0.0</td>\n",
       "      <td>0.0</td>\n",
       "      <td>0.0</td>\n",
       "      <td>0.0</td>\n",
       "      <td>0.0</td>\n",
       "    </tr>\n",
       "    <tr>\n",
       "      <th>b0003</th>\n",
       "      <td>0.0</td>\n",
       "      <td>0.0</td>\n",
       "      <td>0.0</td>\n",
       "      <td>0.0</td>\n",
       "      <td>0.0</td>\n",
       "      <td>0.0</td>\n",
       "      <td>0.0</td>\n",
       "      <td>0.0</td>\n",
       "      <td>0.000000</td>\n",
       "      <td>0.0</td>\n",
       "      <td>...</td>\n",
       "      <td>0.0</td>\n",
       "      <td>0.0</td>\n",
       "      <td>0.0</td>\n",
       "      <td>0.0</td>\n",
       "      <td>0.0</td>\n",
       "      <td>0.0</td>\n",
       "      <td>0.0</td>\n",
       "      <td>0.0</td>\n",
       "      <td>0.0</td>\n",
       "      <td>0.0</td>\n",
       "    </tr>\n",
       "    <tr>\n",
       "      <th>b0004</th>\n",
       "      <td>0.0</td>\n",
       "      <td>0.0</td>\n",
       "      <td>0.0</td>\n",
       "      <td>0.0</td>\n",
       "      <td>0.0</td>\n",
       "      <td>0.0</td>\n",
       "      <td>0.0</td>\n",
       "      <td>0.0</td>\n",
       "      <td>0.000000</td>\n",
       "      <td>0.0</td>\n",
       "      <td>...</td>\n",
       "      <td>0.0</td>\n",
       "      <td>0.0</td>\n",
       "      <td>0.0</td>\n",
       "      <td>0.0</td>\n",
       "      <td>0.0</td>\n",
       "      <td>0.0</td>\n",
       "      <td>0.0</td>\n",
       "      <td>0.0</td>\n",
       "      <td>0.0</td>\n",
       "      <td>0.0</td>\n",
       "    </tr>\n",
       "    <tr>\n",
       "      <th>b0005</th>\n",
       "      <td>0.0</td>\n",
       "      <td>0.0</td>\n",
       "      <td>0.0</td>\n",
       "      <td>0.0</td>\n",
       "      <td>0.0</td>\n",
       "      <td>0.0</td>\n",
       "      <td>0.0</td>\n",
       "      <td>0.0</td>\n",
       "      <td>0.000000</td>\n",
       "      <td>0.0</td>\n",
       "      <td>...</td>\n",
       "      <td>0.0</td>\n",
       "      <td>0.0</td>\n",
       "      <td>0.0</td>\n",
       "      <td>0.0</td>\n",
       "      <td>0.0</td>\n",
       "      <td>0.0</td>\n",
       "      <td>0.0</td>\n",
       "      <td>0.0</td>\n",
       "      <td>0.0</td>\n",
       "      <td>0.0</td>\n",
       "    </tr>\n",
       "    <tr>\n",
       "      <th>b0006</th>\n",
       "      <td>0.0</td>\n",
       "      <td>0.0</td>\n",
       "      <td>0.0</td>\n",
       "      <td>0.0</td>\n",
       "      <td>0.0</td>\n",
       "      <td>0.0</td>\n",
       "      <td>0.0</td>\n",
       "      <td>0.0</td>\n",
       "      <td>0.737227</td>\n",
       "      <td>0.0</td>\n",
       "      <td>...</td>\n",
       "      <td>0.0</td>\n",
       "      <td>0.0</td>\n",
       "      <td>0.0</td>\n",
       "      <td>0.0</td>\n",
       "      <td>0.0</td>\n",
       "      <td>0.0</td>\n",
       "      <td>0.0</td>\n",
       "      <td>0.0</td>\n",
       "      <td>0.0</td>\n",
       "      <td>0.0</td>\n",
       "    </tr>\n",
       "    <tr>\n",
       "      <th>...</th>\n",
       "      <td>...</td>\n",
       "      <td>...</td>\n",
       "      <td>...</td>\n",
       "      <td>...</td>\n",
       "      <td>...</td>\n",
       "      <td>...</td>\n",
       "      <td>...</td>\n",
       "      <td>...</td>\n",
       "      <td>...</td>\n",
       "      <td>...</td>\n",
       "      <td>...</td>\n",
       "      <td>...</td>\n",
       "      <td>...</td>\n",
       "      <td>...</td>\n",
       "      <td>...</td>\n",
       "      <td>...</td>\n",
       "      <td>...</td>\n",
       "      <td>...</td>\n",
       "      <td>...</td>\n",
       "      <td>...</td>\n",
       "      <td>...</td>\n",
       "    </tr>\n",
       "    <tr>\n",
       "      <th>b4747</th>\n",
       "      <td>0.0</td>\n",
       "      <td>0.0</td>\n",
       "      <td>0.0</td>\n",
       "      <td>0.0</td>\n",
       "      <td>0.0</td>\n",
       "      <td>0.0</td>\n",
       "      <td>0.0</td>\n",
       "      <td>0.0</td>\n",
       "      <td>0.000000</td>\n",
       "      <td>0.0</td>\n",
       "      <td>...</td>\n",
       "      <td>0.0</td>\n",
       "      <td>0.0</td>\n",
       "      <td>0.0</td>\n",
       "      <td>0.0</td>\n",
       "      <td>0.0</td>\n",
       "      <td>0.0</td>\n",
       "      <td>0.0</td>\n",
       "      <td>0.0</td>\n",
       "      <td>0.0</td>\n",
       "      <td>0.0</td>\n",
       "    </tr>\n",
       "    <tr>\n",
       "      <th>b4748</th>\n",
       "      <td>0.0</td>\n",
       "      <td>0.0</td>\n",
       "      <td>0.0</td>\n",
       "      <td>0.0</td>\n",
       "      <td>0.0</td>\n",
       "      <td>0.0</td>\n",
       "      <td>0.0</td>\n",
       "      <td>0.0</td>\n",
       "      <td>0.000000</td>\n",
       "      <td>0.0</td>\n",
       "      <td>...</td>\n",
       "      <td>0.0</td>\n",
       "      <td>0.0</td>\n",
       "      <td>0.0</td>\n",
       "      <td>0.0</td>\n",
       "      <td>0.0</td>\n",
       "      <td>0.0</td>\n",
       "      <td>0.0</td>\n",
       "      <td>0.0</td>\n",
       "      <td>0.0</td>\n",
       "      <td>0.0</td>\n",
       "    </tr>\n",
       "    <tr>\n",
       "      <th>b4751</th>\n",
       "      <td>0.0</td>\n",
       "      <td>0.0</td>\n",
       "      <td>0.0</td>\n",
       "      <td>0.0</td>\n",
       "      <td>0.0</td>\n",
       "      <td>0.0</td>\n",
       "      <td>0.0</td>\n",
       "      <td>0.0</td>\n",
       "      <td>0.000000</td>\n",
       "      <td>0.0</td>\n",
       "      <td>...</td>\n",
       "      <td>0.0</td>\n",
       "      <td>0.0</td>\n",
       "      <td>0.0</td>\n",
       "      <td>0.0</td>\n",
       "      <td>0.0</td>\n",
       "      <td>0.0</td>\n",
       "      <td>0.0</td>\n",
       "      <td>0.0</td>\n",
       "      <td>0.0</td>\n",
       "      <td>0.0</td>\n",
       "    </tr>\n",
       "    <tr>\n",
       "      <th>b4755</th>\n",
       "      <td>0.0</td>\n",
       "      <td>0.0</td>\n",
       "      <td>0.0</td>\n",
       "      <td>0.0</td>\n",
       "      <td>0.0</td>\n",
       "      <td>0.0</td>\n",
       "      <td>0.0</td>\n",
       "      <td>0.0</td>\n",
       "      <td>0.000000</td>\n",
       "      <td>0.0</td>\n",
       "      <td>...</td>\n",
       "      <td>0.0</td>\n",
       "      <td>0.0</td>\n",
       "      <td>0.0</td>\n",
       "      <td>0.0</td>\n",
       "      <td>0.0</td>\n",
       "      <td>0.0</td>\n",
       "      <td>0.0</td>\n",
       "      <td>0.0</td>\n",
       "      <td>0.0</td>\n",
       "      <td>0.0</td>\n",
       "    </tr>\n",
       "    <tr>\n",
       "      <th>b4756</th>\n",
       "      <td>0.0</td>\n",
       "      <td>0.0</td>\n",
       "      <td>0.0</td>\n",
       "      <td>0.0</td>\n",
       "      <td>0.0</td>\n",
       "      <td>0.0</td>\n",
       "      <td>0.0</td>\n",
       "      <td>0.0</td>\n",
       "      <td>0.000000</td>\n",
       "      <td>0.0</td>\n",
       "      <td>...</td>\n",
       "      <td>0.0</td>\n",
       "      <td>0.0</td>\n",
       "      <td>0.0</td>\n",
       "      <td>0.0</td>\n",
       "      <td>0.0</td>\n",
       "      <td>0.0</td>\n",
       "      <td>0.0</td>\n",
       "      <td>0.0</td>\n",
       "      <td>0.0</td>\n",
       "      <td>0.0</td>\n",
       "    </tr>\n",
       "  </tbody>\n",
       "</table>\n",
       "<p>4257 rows × 250 columns</p>\n",
       "</div>"
      ],
      "text/plain": [
       "       Component_1  Component_2  Component_3  Component_4  Component_5  \\\n",
       "b0002          0.0          0.0          0.0          0.0          0.0   \n",
       "b0003          0.0          0.0          0.0          0.0          0.0   \n",
       "b0004          0.0          0.0          0.0          0.0          0.0   \n",
       "b0005          0.0          0.0          0.0          0.0          0.0   \n",
       "b0006          0.0          0.0          0.0          0.0          0.0   \n",
       "...            ...          ...          ...          ...          ...   \n",
       "b4747          0.0          0.0          0.0          0.0          0.0   \n",
       "b4748          0.0          0.0          0.0          0.0          0.0   \n",
       "b4751          0.0          0.0          0.0          0.0          0.0   \n",
       "b4755          0.0          0.0          0.0          0.0          0.0   \n",
       "b4756          0.0          0.0          0.0          0.0          0.0   \n",
       "\n",
       "       Component_6  Component_7  Component_8  Component_9  Component_10  ...  \\\n",
       "b0002          0.0          0.0          0.0     0.000000           0.0  ...   \n",
       "b0003          0.0          0.0          0.0     0.000000           0.0  ...   \n",
       "b0004          0.0          0.0          0.0     0.000000           0.0  ...   \n",
       "b0005          0.0          0.0          0.0     0.000000           0.0  ...   \n",
       "b0006          0.0          0.0          0.0     0.737227           0.0  ...   \n",
       "...            ...          ...          ...          ...           ...  ...   \n",
       "b4747          0.0          0.0          0.0     0.000000           0.0  ...   \n",
       "b4748          0.0          0.0          0.0     0.000000           0.0  ...   \n",
       "b4751          0.0          0.0          0.0     0.000000           0.0  ...   \n",
       "b4755          0.0          0.0          0.0     0.000000           0.0  ...   \n",
       "b4756          0.0          0.0          0.0     0.000000           0.0  ...   \n",
       "\n",
       "       Component_241  Component_242  Component_243  Component_244  \\\n",
       "b0002            0.0            0.0            0.0            0.0   \n",
       "b0003            0.0            0.0            0.0            0.0   \n",
       "b0004            0.0            0.0            0.0            0.0   \n",
       "b0005            0.0            0.0            0.0            0.0   \n",
       "b0006            0.0            0.0            0.0            0.0   \n",
       "...              ...            ...            ...            ...   \n",
       "b4747            0.0            0.0            0.0            0.0   \n",
       "b4748            0.0            0.0            0.0            0.0   \n",
       "b4751            0.0            0.0            0.0            0.0   \n",
       "b4755            0.0            0.0            0.0            0.0   \n",
       "b4756            0.0            0.0            0.0            0.0   \n",
       "\n",
       "       Component_245  Component_246  Component_247  Component_248  \\\n",
       "b0002            0.0            0.0            0.0            0.0   \n",
       "b0003            0.0            0.0            0.0            0.0   \n",
       "b0004            0.0            0.0            0.0            0.0   \n",
       "b0005            0.0            0.0            0.0            0.0   \n",
       "b0006            0.0            0.0            0.0            0.0   \n",
       "...              ...            ...            ...            ...   \n",
       "b4747            0.0            0.0            0.0            0.0   \n",
       "b4748            0.0            0.0            0.0            0.0   \n",
       "b4751            0.0            0.0            0.0            0.0   \n",
       "b4755            0.0            0.0            0.0            0.0   \n",
       "b4756            0.0            0.0            0.0            0.0   \n",
       "\n",
       "       Component_249  Component_250  \n",
       "b0002            0.0            0.0  \n",
       "b0003            0.0            0.0  \n",
       "b0004            0.0            0.0  \n",
       "b0005            0.0            0.0  \n",
       "b0006            0.0            0.0  \n",
       "...              ...            ...  \n",
       "b4747            0.0            0.0  \n",
       "b4748            0.0            0.0  \n",
       "b4751            0.0            0.0  \n",
       "b4755            0.0            0.0  \n",
       "b4756            0.0            0.0  \n",
       "\n",
       "[4257 rows x 250 columns]"
      ]
     },
     "execution_count": 17,
     "metadata": {},
     "output_type": "execute_result"
    }
   ],
   "source": [
    "components_ISA"
   ]
  },
  {
   "cell_type": "code",
   "execution_count": 19,
   "id": "24da340a-1321-4c0b-9ea4-28b5544b5632",
   "metadata": {
    "execution": {
     "iopub.execute_input": "2024-12-02T01:51:09.264343Z",
     "iopub.status.busy": "2024-12-02T01:51:09.263990Z",
     "iopub.status.idle": "2024-12-02T01:51:55.956751Z",
     "shell.execute_reply": "2024-12-02T01:51:55.956131Z",
     "shell.execute_reply.started": "2024-12-02T01:51:09.264312Z"
    }
   },
   "outputs": [],
   "source": [
    "ISA = IcaData(components_ISA,activities_ISA)"
   ]
  },
  {
   "cell_type": "code",
   "execution_count": 20,
   "id": "7e1a9c81-8a21-40e4-a426-8342d05b0b40",
   "metadata": {
    "execution": {
     "iopub.execute_input": "2024-12-02T01:51:55.958250Z",
     "iopub.status.busy": "2024-12-02T01:51:55.957830Z",
     "iopub.status.idle": "2024-12-02T01:51:55.967105Z",
     "shell.execute_reply": "2024-12-02T01:51:55.966531Z",
     "shell.execute_reply.started": "2024-12-02T01:51:55.958233Z"
    }
   },
   "outputs": [],
   "source": [
    "ISA.X = precise1k.X"
   ]
  },
  {
   "cell_type": "code",
   "execution_count": 21,
   "id": "9515ae95-2384-4d82-90ec-46e530812d28",
   "metadata": {
    "execution": {
     "iopub.execute_input": "2024-12-02T01:51:55.967819Z",
     "iopub.status.busy": "2024-12-02T01:51:55.967678Z",
     "iopub.status.idle": "2024-12-02T01:51:56.149572Z",
     "shell.execute_reply": "2024-12-02T01:51:56.149030Z",
     "shell.execute_reply.started": "2024-12-02T01:51:55.967805Z"
    }
   },
   "outputs": [],
   "source": [
    "ISA.gene_table = precise1k.gene_table\n",
    "ISA.trn = precise1k.trn"
   ]
  },
  {
   "cell_type": "code",
   "execution_count": 22,
   "id": "81181497-559a-4f69-84b1-5d207ecc061b",
   "metadata": {
    "execution": {
     "iopub.execute_input": "2024-12-02T01:51:56.150827Z",
     "iopub.status.busy": "2024-12-02T01:51:56.150683Z",
     "iopub.status.idle": "2024-12-02T01:51:56.153246Z",
     "shell.execute_reply": "2024-12-02T01:51:56.152831Z",
     "shell.execute_reply.started": "2024-12-02T01:51:56.150813Z"
    }
   },
   "outputs": [],
   "source": [
    "ISA.cog_colors = precise1k.cog_colors"
   ]
  },
  {
   "cell_type": "code",
   "execution_count": 23,
   "id": "3d277ab0-c9a5-4a2b-8707-5f37ac9845be",
   "metadata": {
    "execution": {
     "iopub.execute_input": "2024-12-02T01:51:56.153885Z",
     "iopub.status.busy": "2024-12-02T01:51:56.153754Z",
     "iopub.status.idle": "2024-12-02T01:51:56.163698Z",
     "shell.execute_reply": "2024-12-02T01:51:56.163247Z",
     "shell.execute_reply.started": "2024-12-02T01:51:56.153872Z"
    }
   },
   "outputs": [],
   "source": [
    "ISA.sample_table = ISA.sample_table"
   ]
  },
  {
   "cell_type": "code",
   "execution_count": 24,
   "id": "116ab45a-8f44-4dfb-a27a-d47603d89141",
   "metadata": {
    "execution": {
     "iopub.execute_input": "2024-12-02T01:51:56.164376Z",
     "iopub.status.busy": "2024-12-02T01:51:56.164247Z",
     "iopub.status.idle": "2024-12-02T01:52:22.584103Z",
     "shell.execute_reply": "2024-12-02T01:52:22.583556Z",
     "shell.execute_reply.started": "2024-12-02T01:51:56.164363Z"
    }
   },
   "outputs": [
    {
     "data": {
      "text/plain": [
       "0.0"
      ]
     },
     "execution_count": 24,
     "metadata": {},
     "output_type": "execute_result"
    }
   ],
   "source": [
    "explained_variance(ISA)"
   ]
  },
  {
   "cell_type": "code",
   "execution_count": 25,
   "id": "1eb37c72-ea17-486a-a235-43598cb60dbe",
   "metadata": {
    "execution": {
     "iopub.execute_input": "2024-12-02T01:52:22.584960Z",
     "iopub.status.busy": "2024-12-02T01:52:22.584801Z",
     "iopub.status.idle": "2024-12-02T08:35:49.364818Z",
     "shell.execute_reply": "2024-12-02T08:35:49.364006Z",
     "shell.execute_reply.started": "2024-12-02T01:52:22.584946Z"
    }
   },
   "outputs": [
    {
     "data": {
      "application/vnd.jupyter.widget-view+json": {
       "model_id": "8dbd6e2ecfda424591216a639e85c44e",
       "version_major": 2,
       "version_minor": 0
      },
      "text/plain": [
       "  0%|          | 0/50 [00:00<?, ?it/s]"
      ]
     },
     "metadata": {},
     "output_type": "display_data"
    },
    {
     "name": "stdout",
     "output_type": "stream",
     "text": [
      "      F1 Score  Precision    Recall       MCC\n",
      "2500  0.185101   0.357083  0.211258  0.214853\n",
      "2550  0.185101   0.357083  0.211258  0.214853\n",
      "2600  0.185101   0.357083  0.211258  0.214853\n",
      "2650  0.185101   0.357083  0.211258  0.214853\n",
      "2700  0.185101   0.357083  0.211258  0.214853\n",
      "2750  0.185101   0.357083  0.211258  0.214853\n",
      "2800  0.185101   0.357083  0.211258  0.214853\n",
      "2850  0.185101   0.357083  0.211258  0.214853\n",
      "2900  0.185101   0.357083  0.211258  0.214853\n",
      "2950  0.185101   0.357083  0.211258  0.214853\n",
      "3000  0.185101   0.357083  0.211258  0.214853\n",
      "3050  0.185101   0.357083  0.211258  0.214853\n",
      "3100  0.185101   0.357083  0.211258  0.214853\n",
      "3150  0.185101   0.357083  0.211258  0.214853\n",
      "3200  0.185101   0.357083  0.211258  0.214853\n",
      "3250  0.185101   0.357083  0.211258  0.214853\n",
      "3300  0.185101   0.357083  0.211258  0.214853\n",
      "3350  0.185101   0.357083  0.211258  0.214853\n",
      "3400  0.185101   0.357083  0.211258  0.214853\n",
      "3450  0.185101   0.357083  0.211258  0.214853\n",
      "3500  0.185101   0.357083  0.211258  0.214853\n",
      "3550  0.185101   0.357083  0.211258  0.214853\n",
      "3600  0.185101   0.357083  0.211258  0.214853\n",
      "3650  0.185101   0.357083  0.211258  0.214853\n",
      "3700  0.185101   0.357083  0.211258  0.214853\n",
      "3750  0.185101   0.357083  0.211258  0.214853\n",
      "3800  0.185101   0.357083  0.211258  0.214853\n",
      "3850  0.185101   0.357083  0.211258  0.214853\n",
      "3900  0.185101   0.357083  0.211258  0.214853\n",
      "3950  0.185101   0.357083  0.211258  0.214853\n",
      "4000  0.185101   0.357083  0.211258  0.214853\n",
      "4050  0.185101   0.357083  0.211258  0.214853\n",
      "4100  0.185101   0.357083  0.211258  0.214853\n",
      "4150  0.185101   0.357083  0.211258  0.214853\n",
      "4200  0.185101   0.357083  0.211258  0.214853\n",
      "4250  0.182450   0.353793  0.209005  0.212341\n",
      "4300  0.182450   0.353793  0.209005  0.212341\n",
      "4350  0.182450   0.353793  0.209005  0.212341\n",
      "4400  0.182450   0.353793  0.209005  0.212341\n",
      "4450  0.182450   0.353793  0.209005  0.212341\n",
      "4500  0.182277   0.353403  0.209735  0.212367\n",
      "4550  0.182155   0.353338  0.208787  0.212125\n",
      "4600  0.182155   0.353338  0.208787  0.212138\n",
      "4650  0.181802   0.349389  0.208602  0.211297\n",
      "4700  0.181802   0.349389  0.208602  0.211298\n",
      "4750  0.180340   0.347218  0.211509  0.210393\n",
      "4800  0.180147   0.347119  0.206770  0.209716\n",
      "4850  0.179899   0.342380  0.206643  0.208950\n",
      "4900  0.178927   0.341705  0.206999  0.208193\n",
      "4950  0.177977   0.339161  0.204838  0.206974\n"
     ]
    },
    {
     "data": {
      "text/plain": [
       "2500"
      ]
     },
     "execution_count": 25,
     "metadata": {},
     "output_type": "execute_result"
    },
    {
     "data": {
      "image/png": "[encoded data removed]",
      "text/plain": [
       "<Figure size 400x400 with 1 Axes>"
      ]
     },
     "metadata": {},
     "output_type": "display_data"
    }
   ],
   "source": [
    "ISA.reoptimize_thresholds()"
   ]
  },
  {
   "cell_type": "code",
   "execution_count": 26,
   "id": "e85f67ed-f51c-4607-87b5-64434114c891",
   "metadata": {
    "execution": {
     "iopub.execute_input": "2024-12-02T08:35:49.365714Z",
     "iopub.status.busy": "2024-12-02T08:35:49.365575Z",
     "iopub.status.idle": "2024-12-02T08:35:49.369061Z",
     "shell.execute_reply": "2024-12-02T08:35:49.368257Z",
     "shell.execute_reply.started": "2024-12-02T08:35:49.365699Z"
    }
   },
   "outputs": [],
   "source": [
    "# ISA.recompute_thresholds(200)"
   ]
  },
  {
   "cell_type": "code",
   "execution_count": 27,
   "id": "ae97df33-d2ef-46f7-92ea-14e5dab98f9c",
   "metadata": {
    "execution": {
     "iopub.execute_input": "2024-12-02T08:35:49.369748Z",
     "iopub.status.busy": "2024-12-02T08:35:49.369623Z",
     "iopub.status.idle": "2024-12-02T08:36:00.041789Z",
     "shell.execute_reply": "2024-12-02T08:36:00.040937Z",
     "shell.execute_reply.started": "2024-12-02T08:35:49.369735Z"
    }
   },
   "outputs": [],
   "source": [
    "imdb_gene_presence(ISA)[0].to_csv('Presence_Matrices/ISA_Gene_Presence_Matrix.csv')"
   ]
  }
 ],
 "metadata": {
  "kernelspec": {
   "display_name": "Python [conda env:modulome]",
   "language": "python",
   "name": "conda-env-modulome-py"
  },
  "language_info": {
   "codemirror_mode": {
    "name": "ipython",
    "version": 3
   },
   "file_extension": ".py",
   "mimetype": "text/x-python",
   "name": "python",
   "nbconvert_exporter": "python",
   "pygments_lexer": "ipython3",
   "version": "3.7.12"
  }
 },
 "nbformat": 4,
 "nbformat_minor": 5
}
